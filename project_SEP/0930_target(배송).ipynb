{
  "cells": [
    {
      "cell_type": "markdown",
      "metadata": {
        "id": "7R5xjCTwqFu0"
      },
      "source": [
        "# 데이터 탐색 및 전처리"
      ]
    },
    {
      "cell_type": "markdown",
      "metadata": {
        "id": "ipQ-_GLPPUny"
      },
      "source": [
        "step1) 필요한 python 라이브러리 import"
      ]
    },
    {
      "cell_type": "code",
      "execution_count": null,
      "metadata": {
        "colab": {
          "base_uri": "https://localhost:8080/"
        },
        "id": "tQS_eaLP2eo5",
        "outputId": "be1179e5-0b4a-402f-9837-0b8ee043e9b1"
      },
      "outputs": [
        {
          "output_type": "stream",
          "name": "stdout",
          "text": [
            "Mounted at /content/drive\n"
          ]
        }
      ],
      "source": [
        "from google.colab import drive\n",
        "drive.mount('/content/drive')"
      ]
    },
    {
      "cell_type": "code",
      "execution_count": null,
      "metadata": {
        "id": "YFVxKRWRkz0J",
        "colab": {
          "base_uri": "https://localhost:8080/",
          "height": 724
        },
        "outputId": "05b5d83e-4661-435a-f5e6-59f9952e82d7"
      },
      "outputs": [
        {
          "output_type": "stream",
          "name": "stdout",
          "text": [
            "Reading package lists... Done\n",
            "Building dependency tree       \n",
            "Reading state information... Done\n",
            "The following package was automatically installed and is no longer required:\n",
            "  libnvidia-common-460\n",
            "Use 'sudo apt autoremove' to remove it.\n",
            "The following NEW packages will be installed:\n",
            "  fonts-nanum\n",
            "0 upgraded, 1 newly installed, 0 to remove and 20 not upgraded.\n",
            "Need to get 9,604 kB of archives.\n",
            "After this operation, 29.5 MB of additional disk space will be used.\n",
            "Get:1 http://archive.ubuntu.com/ubuntu bionic/universe amd64 fonts-nanum all 20170925-1 [9,604 kB]\n",
            "Fetched 9,604 kB in 1s (7,174 kB/s)\n",
            "debconf: unable to initialize frontend: Dialog\n",
            "debconf: (No usable dialog-like program is installed, so the dialog based frontend cannot be used. at /usr/share/perl5/Debconf/FrontEnd/Dialog.pm line 76, <> line 1.)\n",
            "debconf: falling back to frontend: Readline\n",
            "debconf: unable to initialize frontend: Readline\n",
            "debconf: (This frontend requires a controlling tty.)\n",
            "debconf: falling back to frontend: Teletype\n",
            "dpkg-preconfigure: unable to re-open stdin: \n",
            "Selecting previously unselected package fonts-nanum.\n",
            "(Reading database ... 159447 files and directories currently installed.)\n",
            "Preparing to unpack .../fonts-nanum_20170925-1_all.deb ...\n",
            "Unpacking fonts-nanum (20170925-1) ...\n",
            "Setting up fonts-nanum (20170925-1) ...\n",
            "Processing triggers for fontconfig (2.12.6-0ubuntu2) ...\n",
            "/usr/share/fonts: caching, new cache contents: 0 fonts, 1 dirs\n",
            "/usr/share/fonts/truetype: caching, new cache contents: 0 fonts, 3 dirs\n",
            "/usr/share/fonts/truetype/humor-sans: caching, new cache contents: 1 fonts, 0 dirs\n",
            "/usr/share/fonts/truetype/liberation: caching, new cache contents: 16 fonts, 0 dirs\n",
            "/usr/share/fonts/truetype/nanum: caching, new cache contents: 10 fonts, 0 dirs\n",
            "/usr/local/share/fonts: caching, new cache contents: 0 fonts, 0 dirs\n",
            "/root/.local/share/fonts: skipping, no such directory\n",
            "/root/.fonts: skipping, no such directory\n",
            "/var/cache/fontconfig: cleaning cache directory\n",
            "/root/.cache/fontconfig: not cleaning non-existent cache directory\n",
            "/root/.fontconfig: not cleaning non-existent cache directory\n",
            "fc-cache: succeeded\n"
          ]
        },
        {
          "output_type": "display_data",
          "data": {
            "text/html": [
              "        <script type=\"text/javascript\">\n",
              "        window.PlotlyConfig = {MathJaxConfig: 'local'};\n",
              "        if (window.MathJax) {MathJax.Hub.Config({SVG: {font: \"STIX-Web\"}});}\n",
              "        if (typeof require !== 'undefined') {\n",
              "        require.undef(\"plotly\");\n",
              "        requirejs.config({\n",
              "            paths: {\n",
              "                'plotly': ['https://cdn.plot.ly/plotly-2.8.3.min']\n",
              "            }\n",
              "        });\n",
              "        require(['plotly'], function(Plotly) {\n",
              "            window._Plotly = Plotly;\n",
              "        });\n",
              "        }\n",
              "        </script>\n",
              "        "
            ]
          },
          "metadata": {}
        }
      ],
      "source": [
        "\n",
        "#################### matplotlib 한글 깨짐 현상 해결 ####################\n",
        "import matplotlib.font_manager as fm\n",
        "import matplotlib as mpl\n",
        "import matplotlib.pyplot as plt\n",
        "# mpl.rcParams['axes.unicode_minus'] = False\n",
        "# path = 'C:\\\\Windows\\\\Fonts\\\\H2GTRM.TTF'\n",
        "# font_name = fm.FontProperties(fname=path, size=10).get_name()\n",
        "# plt.rc('font', family=font_name)\n",
        "\n",
        "!sudo apt-get install -y fonts-nanum\n",
        "!sudo fc-cache -fv\n",
        "!rm ~/.cache/matplotlib -rf\n",
        "\n",
        "#################### 필요한 python lib import ###########################\n",
        "import numpy as np\n",
        "import pandas as pd\n",
        "import matplotlib.pyplot as plt\n",
        "import seaborn as sns\n",
        "import datetime as dt\n",
        "import seaborn as sns\n",
        "from wordcloud import WordCloud\n",
        "from collections import Counter\n",
        "\n",
        "import time\n",
        "from sklearn import preprocessing\n",
        "from sklearn.preprocessing import StandardScaler\n",
        "from sklearn.preprocessing import scale\n",
        "from sklearn.manifold import TSNE\n",
        "from sklearn.impute import SimpleImputer\n",
        "\n",
        "from scipy.stats import pearsonr, chi2_contingency\n",
        "from itertools import combinations\n",
        "from sklearn.decomposition import PCA\n",
        "\n",
        "from IPython.display import Image\n",
        "import warnings\n",
        "warnings.filterwarnings(action='ignore')\n",
        "\n",
        "############################################## 00. 필요한 파이썬 라이브러리 불러오기 #####################################################\n",
        "import numpy as np\n",
        "import pandas as pd\n",
        "import seaborn as sns\n",
        "from matplotlib import pyplot as plt\n",
        "%matplotlib inline\n",
        "\n",
        "# Plotly \n",
        "import plotly.offline as py\n",
        "py.init_notebook_mode(connected=True)\n",
        "import plotly.graph_objs as go\n",
        "import plotly.tools as tls\n",
        "\n",
        "from sklearn.model_selection import train_test_split\n",
        "\n",
        "from sklearn.linear_model import LogisticRegression\n",
        "from sklearn import svm\n",
        "from sklearn.cluster import KMeans\n",
        "from sklearn.ensemble import RandomForestRegressor\n",
        "from xgboost import XGBClassifier\n",
        "from sklearn.cluster import KMeans\n",
        "\n",
        "from sklearn.metrics import accuracy_score, roc_curve, roc_auc_score, classification_report\n",
        "from sklearn.feature_selection import RFE, SelectKBest, chi2\n",
        "from sklearn.preprocessing import MinMaxScaler, StandardScaler, normalize\n",
        "from sklearn.decomposition import PCA \n",
        "\n",
        "import scipy.cluster.hierarchy as shc\n",
        "\n",
        "from scipy.stats import pearsonr, chi2_contingency\n",
        "from itertools import combinations\n",
        "\n",
        "import warnings\n",
        "warnings.filterwarnings('ignore')"
      ]
    },
    {
      "cell_type": "markdown",
      "metadata": {
        "id": "OIAydl0mkz0K"
      },
      "source": [
        "## 데이터 불러오기"
      ]
    },
    {
      "cell_type": "markdown",
      "metadata": {
        "id": "7UElRJ4-Pjtr"
      },
      "source": [
        "step2 ) segment할 데이터 불러오기(pandas의 data frame 형식으로)"
      ]
    },
    {
      "cell_type": "markdown",
      "metadata": {
        "id": "oJIyAGBleUAM"
      },
      "source": [
        "* **굵은 텍스트** [olist dataset] : https://www.kaggle.com/olistbr/brazilian-ecommerce"
      ]
    },
    {
      "cell_type": "code",
      "execution_count": null,
      "metadata": {
        "id": "EGXUWzwx8AMz"
      },
      "outputs": [],
      "source": [
        "df_orders = pd.read_csv('/content/drive/MyDrive/Colab Notebooks/olist_orders_dataset.csv',sep=',', parse_dates=['order_purchase_timestamp', 'order_estimated_delivery_date', 'order_delivered_customer_date'])\n",
        "df_customers = pd.read_csv('/content/drive/MyDrive/Colab Notebooks/olist_customers_dataset.csv',sep=',')\n",
        "df_payments = pd.read_csv('/content/drive/MyDrive/Colab Notebooks/olist_order_payments_dataset.csv',sep=',')\n",
        "df_reviews = pd.read_csv('/content/drive/MyDrive/Colab Notebooks/olist_order_reviews_dataset.csv',sep=',')\n",
        "df_items = pd.read_csv('/content/drive/MyDrive/Colab Notebooks/olist_order_items_dataset.csv',sep=',')\n",
        "df_products = pd.read_csv('/content/drive/MyDrive/Colab Notebooks/olist_products_dataset.csv',sep=',')\n",
        "product_translations = pd.read_csv('/content/drive/MyDrive/Colab Notebooks/product_category_name_translation.csv',sep=',')\n",
        "df_sellers= pd.read_csv('/content/drive/MyDrive/Colab Notebooks/olist_sellers_dataset.csv',sep=',')"
      ]
    },
    {
      "cell_type": "code",
      "source": [
        "df_pd = df_customers.merge(df_orders, how = 'inner', left_on = 'customer_id', right_on = 'customer_id')\n",
        "df_pd = df_pd .merge(df_items, how = 'inner', left_on = 'order_id', right_on = 'order_id')\n",
        "df_pd = df_pd .merge(df_products, how = 'inner', left_on = 'product_id', right_on = 'product_id')\n",
        "df_pd = df_pd .merge(df_reviews, how = 'inner', left_on = 'order_id', right_on = 'order_id')\n",
        "df_pd = df_pd .merge(product_translations, how = 'inner', left_on = 'product_category_name', right_on = 'product_category_name')"
      ],
      "metadata": {
        "id": "HcWr2wSfpkO-"
      },
      "execution_count": null,
      "outputs": []
    },
    {
      "cell_type": "code",
      "source": [
        "df_pd.head()"
      ],
      "metadata": {
        "colab": {
          "base_uri": "https://localhost:8080/",
          "height": 386
        },
        "id": "dFDzBRJdv-mp",
        "outputId": "832f3be1-edd2-4d34-cc78-502ba60f02ab"
      },
      "execution_count": null,
      "outputs": [
        {
          "output_type": "execute_result",
          "data": {
            "text/plain": [
              "                        customer_id                customer_unique_id  \\\n",
              "0  06b8999e2fba1a1fbc88172c00ba8bc7  861eff4711a542e4b93843c6dd7febb0   \n",
              "1  8912fc0c3bbf1e2fbf35819e21706718  9eae34bbd3a474ec5d07949ca7de67c0   \n",
              "2  8912fc0c3bbf1e2fbf35819e21706718  9eae34bbd3a474ec5d07949ca7de67c0   \n",
              "3  f0ac8e5a239118859b1734e1087cbb1f  3c799d181c34d51f6d44bbbc563024db   \n",
              "4  6bc8d08963a135220ed6c6d098831f84  23397e992b09769faf5e66f9e171a241   \n",
              "\n",
              "   customer_zip_code_prefix    customer_city customer_state  \\\n",
              "0                     14409           franca             SP   \n",
              "1                     68030         santarem             PA   \n",
              "2                     68030         santarem             PA   \n",
              "3                     92480  nova santa rita             RS   \n",
              "4                     25931             mage             RJ   \n",
              "\n",
              "                           order_id order_status order_purchase_timestamp  \\\n",
              "0  00e7ee1b050b8499577073aeb2a297a1    delivered      2017-05-16 15:05:35   \n",
              "1  c1d2b34febe9cd269e378117d6681172    delivered      2017-11-09 00:50:13   \n",
              "2  c1d2b34febe9cd269e378117d6681172    delivered      2017-11-09 00:50:13   \n",
              "3  b1a5d5365d330d10485e0203d54ab9e8    delivered      2017-05-07 20:11:26   \n",
              "4  2e604b3614664aa66867856dba7e61b7    delivered      2018-02-03 19:45:40   \n",
              "\n",
              "     order_approved_at order_delivered_carrier_date  ... product_length_cm  \\\n",
              "0  2017-05-16 15:22:12          2017-05-23 10:47:57  ...              54.0   \n",
              "1  2017-11-10 00:47:48          2017-11-22 01:43:37  ...              54.0   \n",
              "2  2017-11-10 00:47:48          2017-11-22 01:43:37  ...              54.0   \n",
              "3  2017-05-08 22:22:56          2017-05-19 20:16:31  ...              54.0   \n",
              "4  2018-02-04 22:29:19          2018-02-19 18:21:47  ...              54.0   \n",
              "\n",
              "  product_height_cm  product_width_cm                         review_id  \\\n",
              "0              64.0              31.0  88b8b52d46df026a9d1ad2136a59b30b   \n",
              "1              64.0              31.0  7fc63200f12eebb5f387856afdd63db8   \n",
              "2              64.0              31.0  7fc63200f12eebb5f387856afdd63db8   \n",
              "3              64.0              31.0  251191809e37c1cffc16865947c18a4d   \n",
              "4              64.0              31.0  f7123bac5b91a0e2e38d8b41fd1206f4   \n",
              "\n",
              "  review_score review_comment_title  \\\n",
              "0            4                  NaN   \n",
              "1            1                  NaN   \n",
              "2            1                  NaN   \n",
              "3            3                  NaN   \n",
              "4            4                  NaN   \n",
              "\n",
              "                              review_comment_message  review_creation_date  \\\n",
              "0                                                NaN   2017-05-26 00:00:00   \n",
              "1  GOSTARIA DE UMA SOLUÇÃO, ESTOU PRECISANDO MUIT...   2017-11-29 00:00:00   \n",
              "2  GOSTARIA DE UMA SOLUÇÃO, ESTOU PRECISANDO MUIT...   2017-11-29 00:00:00   \n",
              "3  Produto compatível com seu valor, muito bonito...   2017-05-27 00:00:00   \n",
              "4                            Entregou antes do prazo   2018-03-01 00:00:00   \n",
              "\n",
              "  review_answer_timestamp  product_category_name_english  \n",
              "0     2017-05-30 22:34:40               office_furniture  \n",
              "1     2017-12-01 19:41:59               office_furniture  \n",
              "2     2017-12-01 19:41:59               office_furniture  \n",
              "3     2017-05-28 02:43:16               office_furniture  \n",
              "4     2018-03-02 11:11:24               office_furniture  \n",
              "\n",
              "[5 rows x 33 columns]"
            ],
            "text/html": [
              "\n",
              "  <div id=\"df-f9a9182d-784b-4c59-ae96-4074a79472f1\">\n",
              "    <div class=\"colab-df-container\">\n",
              "      <div>\n",
              "<style scoped>\n",
              "    .dataframe tbody tr th:only-of-type {\n",
              "        vertical-align: middle;\n",
              "    }\n",
              "\n",
              "    .dataframe tbody tr th {\n",
              "        vertical-align: top;\n",
              "    }\n",
              "\n",
              "    .dataframe thead th {\n",
              "        text-align: right;\n",
              "    }\n",
              "</style>\n",
              "<table border=\"1\" class=\"dataframe\">\n",
              "  <thead>\n",
              "    <tr style=\"text-align: right;\">\n",
              "      <th></th>\n",
              "      <th>customer_id</th>\n",
              "      <th>customer_unique_id</th>\n",
              "      <th>customer_zip_code_prefix</th>\n",
              "      <th>customer_city</th>\n",
              "      <th>customer_state</th>\n",
              "      <th>order_id</th>\n",
              "      <th>order_status</th>\n",
              "      <th>order_purchase_timestamp</th>\n",
              "      <th>order_approved_at</th>\n",
              "      <th>order_delivered_carrier_date</th>\n",
              "      <th>...</th>\n",
              "      <th>product_length_cm</th>\n",
              "      <th>product_height_cm</th>\n",
              "      <th>product_width_cm</th>\n",
              "      <th>review_id</th>\n",
              "      <th>review_score</th>\n",
              "      <th>review_comment_title</th>\n",
              "      <th>review_comment_message</th>\n",
              "      <th>review_creation_date</th>\n",
              "      <th>review_answer_timestamp</th>\n",
              "      <th>product_category_name_english</th>\n",
              "    </tr>\n",
              "  </thead>\n",
              "  <tbody>\n",
              "    <tr>\n",
              "      <th>0</th>\n",
              "      <td>06b8999e2fba1a1fbc88172c00ba8bc7</td>\n",
              "      <td>861eff4711a542e4b93843c6dd7febb0</td>\n",
              "      <td>14409</td>\n",
              "      <td>franca</td>\n",
              "      <td>SP</td>\n",
              "      <td>00e7ee1b050b8499577073aeb2a297a1</td>\n",
              "      <td>delivered</td>\n",
              "      <td>2017-05-16 15:05:35</td>\n",
              "      <td>2017-05-16 15:22:12</td>\n",
              "      <td>2017-05-23 10:47:57</td>\n",
              "      <td>...</td>\n",
              "      <td>54.0</td>\n",
              "      <td>64.0</td>\n",
              "      <td>31.0</td>\n",
              "      <td>88b8b52d46df026a9d1ad2136a59b30b</td>\n",
              "      <td>4</td>\n",
              "      <td>NaN</td>\n",
              "      <td>NaN</td>\n",
              "      <td>2017-05-26 00:00:00</td>\n",
              "      <td>2017-05-30 22:34:40</td>\n",
              "      <td>office_furniture</td>\n",
              "    </tr>\n",
              "    <tr>\n",
              "      <th>1</th>\n",
              "      <td>8912fc0c3bbf1e2fbf35819e21706718</td>\n",
              "      <td>9eae34bbd3a474ec5d07949ca7de67c0</td>\n",
              "      <td>68030</td>\n",
              "      <td>santarem</td>\n",
              "      <td>PA</td>\n",
              "      <td>c1d2b34febe9cd269e378117d6681172</td>\n",
              "      <td>delivered</td>\n",
              "      <td>2017-11-09 00:50:13</td>\n",
              "      <td>2017-11-10 00:47:48</td>\n",
              "      <td>2017-11-22 01:43:37</td>\n",
              "      <td>...</td>\n",
              "      <td>54.0</td>\n",
              "      <td>64.0</td>\n",
              "      <td>31.0</td>\n",
              "      <td>7fc63200f12eebb5f387856afdd63db8</td>\n",
              "      <td>1</td>\n",
              "      <td>NaN</td>\n",
              "      <td>GOSTARIA DE UMA SOLUÇÃO, ESTOU PRECISANDO MUIT...</td>\n",
              "      <td>2017-11-29 00:00:00</td>\n",
              "      <td>2017-12-01 19:41:59</td>\n",
              "      <td>office_furniture</td>\n",
              "    </tr>\n",
              "    <tr>\n",
              "      <th>2</th>\n",
              "      <td>8912fc0c3bbf1e2fbf35819e21706718</td>\n",
              "      <td>9eae34bbd3a474ec5d07949ca7de67c0</td>\n",
              "      <td>68030</td>\n",
              "      <td>santarem</td>\n",
              "      <td>PA</td>\n",
              "      <td>c1d2b34febe9cd269e378117d6681172</td>\n",
              "      <td>delivered</td>\n",
              "      <td>2017-11-09 00:50:13</td>\n",
              "      <td>2017-11-10 00:47:48</td>\n",
              "      <td>2017-11-22 01:43:37</td>\n",
              "      <td>...</td>\n",
              "      <td>54.0</td>\n",
              "      <td>64.0</td>\n",
              "      <td>31.0</td>\n",
              "      <td>7fc63200f12eebb5f387856afdd63db8</td>\n",
              "      <td>1</td>\n",
              "      <td>NaN</td>\n",
              "      <td>GOSTARIA DE UMA SOLUÇÃO, ESTOU PRECISANDO MUIT...</td>\n",
              "      <td>2017-11-29 00:00:00</td>\n",
              "      <td>2017-12-01 19:41:59</td>\n",
              "      <td>office_furniture</td>\n",
              "    </tr>\n",
              "    <tr>\n",
              "      <th>3</th>\n",
              "      <td>f0ac8e5a239118859b1734e1087cbb1f</td>\n",
              "      <td>3c799d181c34d51f6d44bbbc563024db</td>\n",
              "      <td>92480</td>\n",
              "      <td>nova santa rita</td>\n",
              "      <td>RS</td>\n",
              "      <td>b1a5d5365d330d10485e0203d54ab9e8</td>\n",
              "      <td>delivered</td>\n",
              "      <td>2017-05-07 20:11:26</td>\n",
              "      <td>2017-05-08 22:22:56</td>\n",
              "      <td>2017-05-19 20:16:31</td>\n",
              "      <td>...</td>\n",
              "      <td>54.0</td>\n",
              "      <td>64.0</td>\n",
              "      <td>31.0</td>\n",
              "      <td>251191809e37c1cffc16865947c18a4d</td>\n",
              "      <td>3</td>\n",
              "      <td>NaN</td>\n",
              "      <td>Produto compatível com seu valor, muito bonito...</td>\n",
              "      <td>2017-05-27 00:00:00</td>\n",
              "      <td>2017-05-28 02:43:16</td>\n",
              "      <td>office_furniture</td>\n",
              "    </tr>\n",
              "    <tr>\n",
              "      <th>4</th>\n",
              "      <td>6bc8d08963a135220ed6c6d098831f84</td>\n",
              "      <td>23397e992b09769faf5e66f9e171a241</td>\n",
              "      <td>25931</td>\n",
              "      <td>mage</td>\n",
              "      <td>RJ</td>\n",
              "      <td>2e604b3614664aa66867856dba7e61b7</td>\n",
              "      <td>delivered</td>\n",
              "      <td>2018-02-03 19:45:40</td>\n",
              "      <td>2018-02-04 22:29:19</td>\n",
              "      <td>2018-02-19 18:21:47</td>\n",
              "      <td>...</td>\n",
              "      <td>54.0</td>\n",
              "      <td>64.0</td>\n",
              "      <td>31.0</td>\n",
              "      <td>f7123bac5b91a0e2e38d8b41fd1206f4</td>\n",
              "      <td>4</td>\n",
              "      <td>NaN</td>\n",
              "      <td>Entregou antes do prazo</td>\n",
              "      <td>2018-03-01 00:00:00</td>\n",
              "      <td>2018-03-02 11:11:24</td>\n",
              "      <td>office_furniture</td>\n",
              "    </tr>\n",
              "  </tbody>\n",
              "</table>\n",
              "<p>5 rows × 33 columns</p>\n",
              "</div>\n",
              "      <button class=\"colab-df-convert\" onclick=\"convertToInteractive('df-f9a9182d-784b-4c59-ae96-4074a79472f1')\"\n",
              "              title=\"Convert this dataframe to an interactive table.\"\n",
              "              style=\"display:none;\">\n",
              "        \n",
              "  <svg xmlns=\"http://www.w3.org/2000/svg\" height=\"24px\"viewBox=\"0 0 24 24\"\n",
              "       width=\"24px\">\n",
              "    <path d=\"M0 0h24v24H0V0z\" fill=\"none\"/>\n",
              "    <path d=\"M18.56 5.44l.94 2.06.94-2.06 2.06-.94-2.06-.94-.94-2.06-.94 2.06-2.06.94zm-11 1L8.5 8.5l.94-2.06 2.06-.94-2.06-.94L8.5 2.5l-.94 2.06-2.06.94zm10 10l.94 2.06.94-2.06 2.06-.94-2.06-.94-.94-2.06-.94 2.06-2.06.94z\"/><path d=\"M17.41 7.96l-1.37-1.37c-.4-.4-.92-.59-1.43-.59-.52 0-1.04.2-1.43.59L10.3 9.45l-7.72 7.72c-.78.78-.78 2.05 0 2.83L4 21.41c.39.39.9.59 1.41.59.51 0 1.02-.2 1.41-.59l7.78-7.78 2.81-2.81c.8-.78.8-2.07 0-2.86zM5.41 20L4 18.59l7.72-7.72 1.47 1.35L5.41 20z\"/>\n",
              "  </svg>\n",
              "      </button>\n",
              "      \n",
              "  <style>\n",
              "    .colab-df-container {\n",
              "      display:flex;\n",
              "      flex-wrap:wrap;\n",
              "      gap: 12px;\n",
              "    }\n",
              "\n",
              "    .colab-df-convert {\n",
              "      background-color: #E8F0FE;\n",
              "      border: none;\n",
              "      border-radius: 50%;\n",
              "      cursor: pointer;\n",
              "      display: none;\n",
              "      fill: #1967D2;\n",
              "      height: 32px;\n",
              "      padding: 0 0 0 0;\n",
              "      width: 32px;\n",
              "    }\n",
              "\n",
              "    .colab-df-convert:hover {\n",
              "      background-color: #E2EBFA;\n",
              "      box-shadow: 0px 1px 2px rgba(60, 64, 67, 0.3), 0px 1px 3px 1px rgba(60, 64, 67, 0.15);\n",
              "      fill: #174EA6;\n",
              "    }\n",
              "\n",
              "    [theme=dark] .colab-df-convert {\n",
              "      background-color: #3B4455;\n",
              "      fill: #D2E3FC;\n",
              "    }\n",
              "\n",
              "    [theme=dark] .colab-df-convert:hover {\n",
              "      background-color: #434B5C;\n",
              "      box-shadow: 0px 1px 3px 1px rgba(0, 0, 0, 0.15);\n",
              "      filter: drop-shadow(0px 1px 2px rgba(0, 0, 0, 0.3));\n",
              "      fill: #FFFFFF;\n",
              "    }\n",
              "  </style>\n",
              "\n",
              "      <script>\n",
              "        const buttonEl =\n",
              "          document.querySelector('#df-f9a9182d-784b-4c59-ae96-4074a79472f1 button.colab-df-convert');\n",
              "        buttonEl.style.display =\n",
              "          google.colab.kernel.accessAllowed ? 'block' : 'none';\n",
              "\n",
              "        async function convertToInteractive(key) {\n",
              "          const element = document.querySelector('#df-f9a9182d-784b-4c59-ae96-4074a79472f1');\n",
              "          const dataTable =\n",
              "            await google.colab.kernel.invokeFunction('convertToInteractive',\n",
              "                                                     [key], {});\n",
              "          if (!dataTable) return;\n",
              "\n",
              "          const docLinkHtml = 'Like what you see? Visit the ' +\n",
              "            '<a target=\"_blank\" href=https://colab.research.google.com/notebooks/data_table.ipynb>data table notebook</a>'\n",
              "            + ' to learn more about interactive tables.';\n",
              "          element.innerHTML = '';\n",
              "          dataTable['output_type'] = 'display_data';\n",
              "          await google.colab.output.renderOutput(dataTable, element);\n",
              "          const docLink = document.createElement('div');\n",
              "          docLink.innerHTML = docLinkHtml;\n",
              "          element.appendChild(docLink);\n",
              "        }\n",
              "      </script>\n",
              "    </div>\n",
              "  </div>\n",
              "  "
            ]
          },
          "metadata": {},
          "execution_count": 5
        }
      ]
    },
    {
      "cell_type": "code",
      "source": [
        "#데이터의 모양 알아보기\n",
        "df_pd.shape"
      ],
      "metadata": {
        "colab": {
          "base_uri": "https://localhost:8080/"
        },
        "id": "lESZZJVRvsPm",
        "outputId": "47200075-0ac3-4e0e-e0c8-15525b82f3d2"
      },
      "execution_count": null,
      "outputs": [
        {
          "output_type": "execute_result",
          "data": {
            "text/plain": [
              "(110750, 33)"
            ]
          },
          "metadata": {},
          "execution_count": 6
        }
      ]
    },
    {
      "cell_type": "code",
      "source": [
        "df_pd.info()"
      ],
      "metadata": {
        "colab": {
          "base_uri": "https://localhost:8080/"
        },
        "id": "jYNkksm627Z9",
        "outputId": "b77b5fef-c5a3-43a3-9fa9-47228f89a234"
      },
      "execution_count": null,
      "outputs": [
        {
          "output_type": "stream",
          "name": "stdout",
          "text": [
            "<class 'pandas.core.frame.DataFrame'>\n",
            "Int64Index: 110750 entries, 0 to 110749\n",
            "Data columns (total 33 columns):\n",
            " #   Column                         Non-Null Count   Dtype         \n",
            "---  ------                         --------------   -----         \n",
            " 0   customer_id                    110750 non-null  object        \n",
            " 1   customer_unique_id             110750 non-null  object        \n",
            " 2   customer_zip_code_prefix       110750 non-null  int64         \n",
            " 3   customer_city                  110750 non-null  object        \n",
            " 4   customer_state                 110750 non-null  object        \n",
            " 5   order_id                       110750 non-null  object        \n",
            " 6   order_status                   110750 non-null  object        \n",
            " 7   order_purchase_timestamp       110750 non-null  datetime64[ns]\n",
            " 8   order_approved_at              110736 non-null  object        \n",
            " 9   order_delivered_carrier_date   109605 non-null  object        \n",
            " 10  order_delivered_customer_date  108457 non-null  datetime64[ns]\n",
            " 11  order_estimated_delivery_date  110750 non-null  datetime64[ns]\n",
            " 12  order_item_id                  110750 non-null  int64         \n",
            " 13  product_id                     110750 non-null  object        \n",
            " 14  seller_id                      110750 non-null  object        \n",
            " 15  shipping_limit_date            110750 non-null  object        \n",
            " 16  price                          110750 non-null  float64       \n",
            " 17  freight_value                  110750 non-null  float64       \n",
            " 18  product_category_name          110750 non-null  object        \n",
            " 19  product_name_lenght            110750 non-null  float64       \n",
            " 20  product_description_lenght     110750 non-null  float64       \n",
            " 21  product_photos_qty             110750 non-null  float64       \n",
            " 22  product_weight_g               110749 non-null  float64       \n",
            " 23  product_length_cm              110749 non-null  float64       \n",
            " 24  product_height_cm              110749 non-null  float64       \n",
            " 25  product_width_cm               110749 non-null  float64       \n",
            " 26  review_id                      110750 non-null  object        \n",
            " 27  review_score                   110750 non-null  int64         \n",
            " 28  review_comment_title           13347 non-null   object        \n",
            " 29  review_comment_message         46923 non-null   object        \n",
            " 30  review_creation_date           110750 non-null  object        \n",
            " 31  review_answer_timestamp        110750 non-null  object        \n",
            " 32  product_category_name_english  110750 non-null  object        \n",
            "dtypes: datetime64[ns](3), float64(9), int64(3), object(18)\n",
            "memory usage: 28.7+ MB\n"
          ]
        }
      ]
    },
    {
      "cell_type": "code",
      "source": [
        "# 예측 모델을 만드는데 필요없는 칼럼들 제거\n",
        "df_pd = df_pd.drop(['review_comment_title', 'review_comment_message', 'product_weight_g',\n",
        "'review_creation_date', 'product_length_cm', 'product_height_cm','product_width_cm',\n",
        "'review_answer_timestamp', 'review_id', 'order_approved_at', 'order_status', 'order_id',\n",
        "'customer_id', 'order_item_id', 'order_approved_at','product_category_name'],axis=1)\n"
      ],
      "metadata": {
        "id": "ALAFFLvzqa_6"
      },
      "execution_count": null,
      "outputs": []
    },
    {
      "cell_type": "code",
      "source": [
        "# 결측값 확인\n",
        "df_pd.isnull().sum()"
      ],
      "metadata": {
        "id": "sf5p3GIdpk2v",
        "colab": {
          "base_uri": "https://localhost:8080/"
        },
        "outputId": "c6b70390-a885-43e0-ec3e-b87d4a2c3466"
      },
      "execution_count": null,
      "outputs": [
        {
          "output_type": "execute_result",
          "data": {
            "text/plain": [
              "customer_unique_id                  0\n",
              "customer_zip_code_prefix            0\n",
              "customer_city                       0\n",
              "customer_state                      0\n",
              "order_purchase_timestamp            0\n",
              "order_delivered_carrier_date     1145\n",
              "order_delivered_customer_date    2293\n",
              "order_estimated_delivery_date       0\n",
              "product_id                          0\n",
              "seller_id                           0\n",
              "shipping_limit_date                 0\n",
              "price                               0\n",
              "freight_value                       0\n",
              "product_name_lenght                 0\n",
              "product_description_lenght          0\n",
              "product_photos_qty                  0\n",
              "review_score                        0\n",
              "product_category_name_english       0\n",
              "dtype: int64"
            ]
          },
          "metadata": {},
          "execution_count": 9
        }
      ]
    },
    {
      "cell_type": "code",
      "source": [
        "# 'order_delivered_carrier_date ','order_delivered_customer_date ' - 결u측값 존재 bt,이 두개의 칼럼은 리뷰점수에 상당한 영향을 주는 배송과정에 관한 정보를주기에 중요\n",
        "# 결측값이 얼마 되지 않아 우리는 결측값이 있는 행을 제거 (axis=0)\n",
        "df_pd.dropna(axis=0)"
      ],
      "metadata": {
        "colab": {
          "base_uri": "https://localhost:8080/",
          "height": 505
        },
        "id": "DHEDTTmmxKo3",
        "outputId": "382eb16f-36b7-4c95-c855-e4a7858ac6e7"
      },
      "execution_count": null,
      "outputs": [
        {
          "output_type": "execute_result",
          "data": {
            "text/plain": [
              "                      customer_unique_id  customer_zip_code_prefix  \\\n",
              "0       861eff4711a542e4b93843c6dd7febb0                     14409   \n",
              "1       9eae34bbd3a474ec5d07949ca7de67c0                     68030   \n",
              "2       9eae34bbd3a474ec5d07949ca7de67c0                     68030   \n",
              "3       3c799d181c34d51f6d44bbbc563024db                     92480   \n",
              "4       23397e992b09769faf5e66f9e171a241                     25931   \n",
              "...                                  ...                       ...   \n",
              "110745  4b7f26d90bb264ade7e4281db1b739f1                     13088   \n",
              "110746  215c346bf0164978a8725f01f7715ab4                     37150   \n",
              "110747  e839774c9d31569dba47946296e58b33                     11035   \n",
              "110748  d8bee9ec375c3a0f9ef8ed7456a51dcd                     76940   \n",
              "110749  141e824b8e0df709e3fcf6d982225a8e                     71940   \n",
              "\n",
              "             customer_city customer_state order_purchase_timestamp  \\\n",
              "0                   franca             SP      2017-05-16 15:05:35   \n",
              "1                 santarem             PA      2017-11-09 00:50:13   \n",
              "2                 santarem             PA      2017-11-09 00:50:13   \n",
              "3          nova santa rita             RS      2017-05-07 20:11:26   \n",
              "4                     mage             RJ      2018-02-03 19:45:40   \n",
              "...                    ...            ...                      ...   \n",
              "110745            campinas             SP      2018-07-17 13:32:49   \n",
              "110746  carmo do rio claro             MG      2018-08-22 20:16:37   \n",
              "110747              santos             SP      2018-07-25 10:27:00   \n",
              "110748      rolim de moura             RO      2017-01-26 11:09:00   \n",
              "110749            brasilia             DF      2017-09-17 16:51:43   \n",
              "\n",
              "       order_delivered_carrier_date order_delivered_customer_date  \\\n",
              "0               2017-05-23 10:47:57           2017-05-25 10:35:35   \n",
              "1               2017-11-22 01:43:37           2017-11-28 00:09:50   \n",
              "2               2017-11-22 01:43:37           2017-11-28 00:09:50   \n",
              "3               2017-05-19 20:16:31           2017-05-26 09:54:04   \n",
              "4               2018-02-19 18:21:47           2018-02-28 21:09:00   \n",
              "...                             ...                           ...   \n",
              "110745          2018-07-19 15:00:00           2018-07-23 18:20:48   \n",
              "110746          2018-08-24 13:57:00           2018-08-30 22:32:31   \n",
              "110747          2018-07-25 14:53:00           2018-07-27 01:27:37   \n",
              "110748          2017-01-27 14:59:35           2017-02-14 16:24:01   \n",
              "110749          2017-09-19 20:22:49           2017-09-28 18:14:35   \n",
              "\n",
              "       order_estimated_delivery_date                        product_id  \\\n",
              "0                         2017-06-05  a9516a079e37a9c9c36b9b78b10169e8   \n",
              "1                         2017-12-19  a9516a079e37a9c9c36b9b78b10169e8   \n",
              "2                         2017-12-19  a9516a079e37a9c9c36b9b78b10169e8   \n",
              "3                         2017-06-12  a9516a079e37a9c9c36b9b78b10169e8   \n",
              "4                         2018-03-22  a9516a079e37a9c9c36b9b78b10169e8   \n",
              "...                              ...                               ...   \n",
              "110745                    2018-07-27  54b391a91c3b1a1e22af86434155834d   \n",
              "110746                    2018-09-12  43506d2b6b5e0535079f88c7dc51c4de   \n",
              "110747                    2018-08-02  3a96bcbf644a5d390107570628568026   \n",
              "110748                    2017-03-07  6c7a0a349ad11817745e3ad58abd5c79   \n",
              "110749                    2017-10-11  8db75af9aed3315374db44d7860e25da   \n",
              "\n",
              "                               seller_id  shipping_limit_date   price  \\\n",
              "0       7c67e1448b00f6e969d365cea6b010ab  2017-05-22 15:22:12  124.99   \n",
              "1       7c67e1448b00f6e969d365cea6b010ab  2017-11-23 00:47:18  112.99   \n",
              "2       7c67e1448b00f6e969d365cea6b010ab  2017-11-23 00:47:18  112.99   \n",
              "3       7c67e1448b00f6e969d365cea6b010ab  2017-05-22 22:22:56  124.99   \n",
              "4       7c67e1448b00f6e969d365cea6b010ab  2018-02-18 21:29:19  106.99   \n",
              "...                                  ...                  ...     ...   \n",
              "110745  2ea0861cc19e94cad86438c984c52da4  2018-07-24 04:35:13    9.80   \n",
              "110746  05730013efda596306417c3b09302475  2018-08-29 03:05:13  238.00   \n",
              "110747  70126eecc6aa1274392a1743866e9678  2018-07-31 10:35:17   19.80   \n",
              "110748  48162d548f5b1b11b9d29d1e01f75a61  2017-01-30 11:09:00  183.29   \n",
              "110749  4e922959ae960d389249c378d1c939f5  2017-09-26 04:05:52  100.00   \n",
              "\n",
              "        freight_value  product_name_lenght  product_description_lenght  \\\n",
              "0               21.88                 41.0                      1141.0   \n",
              "1               24.90                 41.0                      1141.0   \n",
              "2               24.90                 41.0                      1141.0   \n",
              "3               15.62                 41.0                      1141.0   \n",
              "4               30.59                 41.0                      1141.0   \n",
              "...               ...                  ...                         ...   \n",
              "110745          13.68                 35.0                        99.0   \n",
              "110746          68.72                 54.0                       746.0   \n",
              "110747           7.40                 53.0                       529.0   \n",
              "110748          25.77                 55.0                       506.0   \n",
              "110749          15.45                 48.0                       461.0   \n",
              "\n",
              "        product_photos_qty  review_score product_category_name_english  \n",
              "0                      1.0             4              office_furniture  \n",
              "1                      1.0             1              office_furniture  \n",
              "2                      1.0             1              office_furniture  \n",
              "3                      1.0             3              office_furniture  \n",
              "4                      1.0             4              office_furniture  \n",
              "...                    ...           ...                           ...  \n",
              "110745                 1.0             1         arts_and_craftmanship  \n",
              "110746                 5.0             5         arts_and_craftmanship  \n",
              "110747                 2.0             5         arts_and_craftmanship  \n",
              "110748                 1.0             4         security_and_services  \n",
              "110749                 4.0             1         security_and_services  \n",
              "\n",
              "[108456 rows x 18 columns]"
            ],
            "text/html": [
              "\n",
              "  <div id=\"df-43f868e4-0910-4ee2-99e7-651f7616ec34\">\n",
              "    <div class=\"colab-df-container\">\n",
              "      <div>\n",
              "<style scoped>\n",
              "    .dataframe tbody tr th:only-of-type {\n",
              "        vertical-align: middle;\n",
              "    }\n",
              "\n",
              "    .dataframe tbody tr th {\n",
              "        vertical-align: top;\n",
              "    }\n",
              "\n",
              "    .dataframe thead th {\n",
              "        text-align: right;\n",
              "    }\n",
              "</style>\n",
              "<table border=\"1\" class=\"dataframe\">\n",
              "  <thead>\n",
              "    <tr style=\"text-align: right;\">\n",
              "      <th></th>\n",
              "      <th>customer_unique_id</th>\n",
              "      <th>customer_zip_code_prefix</th>\n",
              "      <th>customer_city</th>\n",
              "      <th>customer_state</th>\n",
              "      <th>order_purchase_timestamp</th>\n",
              "      <th>order_delivered_carrier_date</th>\n",
              "      <th>order_delivered_customer_date</th>\n",
              "      <th>order_estimated_delivery_date</th>\n",
              "      <th>product_id</th>\n",
              "      <th>seller_id</th>\n",
              "      <th>shipping_limit_date</th>\n",
              "      <th>price</th>\n",
              "      <th>freight_value</th>\n",
              "      <th>product_name_lenght</th>\n",
              "      <th>product_description_lenght</th>\n",
              "      <th>product_photos_qty</th>\n",
              "      <th>review_score</th>\n",
              "      <th>product_category_name_english</th>\n",
              "    </tr>\n",
              "  </thead>\n",
              "  <tbody>\n",
              "    <tr>\n",
              "      <th>0</th>\n",
              "      <td>861eff4711a542e4b93843c6dd7febb0</td>\n",
              "      <td>14409</td>\n",
              "      <td>franca</td>\n",
              "      <td>SP</td>\n",
              "      <td>2017-05-16 15:05:35</td>\n",
              "      <td>2017-05-23 10:47:57</td>\n",
              "      <td>2017-05-25 10:35:35</td>\n",
              "      <td>2017-06-05</td>\n",
              "      <td>a9516a079e37a9c9c36b9b78b10169e8</td>\n",
              "      <td>7c67e1448b00f6e969d365cea6b010ab</td>\n",
              "      <td>2017-05-22 15:22:12</td>\n",
              "      <td>124.99</td>\n",
              "      <td>21.88</td>\n",
              "      <td>41.0</td>\n",
              "      <td>1141.0</td>\n",
              "      <td>1.0</td>\n",
              "      <td>4</td>\n",
              "      <td>office_furniture</td>\n",
              "    </tr>\n",
              "    <tr>\n",
              "      <th>1</th>\n",
              "      <td>9eae34bbd3a474ec5d07949ca7de67c0</td>\n",
              "      <td>68030</td>\n",
              "      <td>santarem</td>\n",
              "      <td>PA</td>\n",
              "      <td>2017-11-09 00:50:13</td>\n",
              "      <td>2017-11-22 01:43:37</td>\n",
              "      <td>2017-11-28 00:09:50</td>\n",
              "      <td>2017-12-19</td>\n",
              "      <td>a9516a079e37a9c9c36b9b78b10169e8</td>\n",
              "      <td>7c67e1448b00f6e969d365cea6b010ab</td>\n",
              "      <td>2017-11-23 00:47:18</td>\n",
              "      <td>112.99</td>\n",
              "      <td>24.90</td>\n",
              "      <td>41.0</td>\n",
              "      <td>1141.0</td>\n",
              "      <td>1.0</td>\n",
              "      <td>1</td>\n",
              "      <td>office_furniture</td>\n",
              "    </tr>\n",
              "    <tr>\n",
              "      <th>2</th>\n",
              "      <td>9eae34bbd3a474ec5d07949ca7de67c0</td>\n",
              "      <td>68030</td>\n",
              "      <td>santarem</td>\n",
              "      <td>PA</td>\n",
              "      <td>2017-11-09 00:50:13</td>\n",
              "      <td>2017-11-22 01:43:37</td>\n",
              "      <td>2017-11-28 00:09:50</td>\n",
              "      <td>2017-12-19</td>\n",
              "      <td>a9516a079e37a9c9c36b9b78b10169e8</td>\n",
              "      <td>7c67e1448b00f6e969d365cea6b010ab</td>\n",
              "      <td>2017-11-23 00:47:18</td>\n",
              "      <td>112.99</td>\n",
              "      <td>24.90</td>\n",
              "      <td>41.0</td>\n",
              "      <td>1141.0</td>\n",
              "      <td>1.0</td>\n",
              "      <td>1</td>\n",
              "      <td>office_furniture</td>\n",
              "    </tr>\n",
              "    <tr>\n",
              "      <th>3</th>\n",
              "      <td>3c799d181c34d51f6d44bbbc563024db</td>\n",
              "      <td>92480</td>\n",
              "      <td>nova santa rita</td>\n",
              "      <td>RS</td>\n",
              "      <td>2017-05-07 20:11:26</td>\n",
              "      <td>2017-05-19 20:16:31</td>\n",
              "      <td>2017-05-26 09:54:04</td>\n",
              "      <td>2017-06-12</td>\n",
              "      <td>a9516a079e37a9c9c36b9b78b10169e8</td>\n",
              "      <td>7c67e1448b00f6e969d365cea6b010ab</td>\n",
              "      <td>2017-05-22 22:22:56</td>\n",
              "      <td>124.99</td>\n",
              "      <td>15.62</td>\n",
              "      <td>41.0</td>\n",
              "      <td>1141.0</td>\n",
              "      <td>1.0</td>\n",
              "      <td>3</td>\n",
              "      <td>office_furniture</td>\n",
              "    </tr>\n",
              "    <tr>\n",
              "      <th>4</th>\n",
              "      <td>23397e992b09769faf5e66f9e171a241</td>\n",
              "      <td>25931</td>\n",
              "      <td>mage</td>\n",
              "      <td>RJ</td>\n",
              "      <td>2018-02-03 19:45:40</td>\n",
              "      <td>2018-02-19 18:21:47</td>\n",
              "      <td>2018-02-28 21:09:00</td>\n",
              "      <td>2018-03-22</td>\n",
              "      <td>a9516a079e37a9c9c36b9b78b10169e8</td>\n",
              "      <td>7c67e1448b00f6e969d365cea6b010ab</td>\n",
              "      <td>2018-02-18 21:29:19</td>\n",
              "      <td>106.99</td>\n",
              "      <td>30.59</td>\n",
              "      <td>41.0</td>\n",
              "      <td>1141.0</td>\n",
              "      <td>1.0</td>\n",
              "      <td>4</td>\n",
              "      <td>office_furniture</td>\n",
              "    </tr>\n",
              "    <tr>\n",
              "      <th>...</th>\n",
              "      <td>...</td>\n",
              "      <td>...</td>\n",
              "      <td>...</td>\n",
              "      <td>...</td>\n",
              "      <td>...</td>\n",
              "      <td>...</td>\n",
              "      <td>...</td>\n",
              "      <td>...</td>\n",
              "      <td>...</td>\n",
              "      <td>...</td>\n",
              "      <td>...</td>\n",
              "      <td>...</td>\n",
              "      <td>...</td>\n",
              "      <td>...</td>\n",
              "      <td>...</td>\n",
              "      <td>...</td>\n",
              "      <td>...</td>\n",
              "      <td>...</td>\n",
              "    </tr>\n",
              "    <tr>\n",
              "      <th>110745</th>\n",
              "      <td>4b7f26d90bb264ade7e4281db1b739f1</td>\n",
              "      <td>13088</td>\n",
              "      <td>campinas</td>\n",
              "      <td>SP</td>\n",
              "      <td>2018-07-17 13:32:49</td>\n",
              "      <td>2018-07-19 15:00:00</td>\n",
              "      <td>2018-07-23 18:20:48</td>\n",
              "      <td>2018-07-27</td>\n",
              "      <td>54b391a91c3b1a1e22af86434155834d</td>\n",
              "      <td>2ea0861cc19e94cad86438c984c52da4</td>\n",
              "      <td>2018-07-24 04:35:13</td>\n",
              "      <td>9.80</td>\n",
              "      <td>13.68</td>\n",
              "      <td>35.0</td>\n",
              "      <td>99.0</td>\n",
              "      <td>1.0</td>\n",
              "      <td>1</td>\n",
              "      <td>arts_and_craftmanship</td>\n",
              "    </tr>\n",
              "    <tr>\n",
              "      <th>110746</th>\n",
              "      <td>215c346bf0164978a8725f01f7715ab4</td>\n",
              "      <td>37150</td>\n",
              "      <td>carmo do rio claro</td>\n",
              "      <td>MG</td>\n",
              "      <td>2018-08-22 20:16:37</td>\n",
              "      <td>2018-08-24 13:57:00</td>\n",
              "      <td>2018-08-30 22:32:31</td>\n",
              "      <td>2018-09-12</td>\n",
              "      <td>43506d2b6b5e0535079f88c7dc51c4de</td>\n",
              "      <td>05730013efda596306417c3b09302475</td>\n",
              "      <td>2018-08-29 03:05:13</td>\n",
              "      <td>238.00</td>\n",
              "      <td>68.72</td>\n",
              "      <td>54.0</td>\n",
              "      <td>746.0</td>\n",
              "      <td>5.0</td>\n",
              "      <td>5</td>\n",
              "      <td>arts_and_craftmanship</td>\n",
              "    </tr>\n",
              "    <tr>\n",
              "      <th>110747</th>\n",
              "      <td>e839774c9d31569dba47946296e58b33</td>\n",
              "      <td>11035</td>\n",
              "      <td>santos</td>\n",
              "      <td>SP</td>\n",
              "      <td>2018-07-25 10:27:00</td>\n",
              "      <td>2018-07-25 14:53:00</td>\n",
              "      <td>2018-07-27 01:27:37</td>\n",
              "      <td>2018-08-02</td>\n",
              "      <td>3a96bcbf644a5d390107570628568026</td>\n",
              "      <td>70126eecc6aa1274392a1743866e9678</td>\n",
              "      <td>2018-07-31 10:35:17</td>\n",
              "      <td>19.80</td>\n",
              "      <td>7.40</td>\n",
              "      <td>53.0</td>\n",
              "      <td>529.0</td>\n",
              "      <td>2.0</td>\n",
              "      <td>5</td>\n",
              "      <td>arts_and_craftmanship</td>\n",
              "    </tr>\n",
              "    <tr>\n",
              "      <th>110748</th>\n",
              "      <td>d8bee9ec375c3a0f9ef8ed7456a51dcd</td>\n",
              "      <td>76940</td>\n",
              "      <td>rolim de moura</td>\n",
              "      <td>RO</td>\n",
              "      <td>2017-01-26 11:09:00</td>\n",
              "      <td>2017-01-27 14:59:35</td>\n",
              "      <td>2017-02-14 16:24:01</td>\n",
              "      <td>2017-03-07</td>\n",
              "      <td>6c7a0a349ad11817745e3ad58abd5c79</td>\n",
              "      <td>48162d548f5b1b11b9d29d1e01f75a61</td>\n",
              "      <td>2017-01-30 11:09:00</td>\n",
              "      <td>183.29</td>\n",
              "      <td>25.77</td>\n",
              "      <td>55.0</td>\n",
              "      <td>506.0</td>\n",
              "      <td>1.0</td>\n",
              "      <td>4</td>\n",
              "      <td>security_and_services</td>\n",
              "    </tr>\n",
              "    <tr>\n",
              "      <th>110749</th>\n",
              "      <td>141e824b8e0df709e3fcf6d982225a8e</td>\n",
              "      <td>71940</td>\n",
              "      <td>brasilia</td>\n",
              "      <td>DF</td>\n",
              "      <td>2017-09-17 16:51:43</td>\n",
              "      <td>2017-09-19 20:22:49</td>\n",
              "      <td>2017-09-28 18:14:35</td>\n",
              "      <td>2017-10-11</td>\n",
              "      <td>8db75af9aed3315374db44d7860e25da</td>\n",
              "      <td>4e922959ae960d389249c378d1c939f5</td>\n",
              "      <td>2017-09-26 04:05:52</td>\n",
              "      <td>100.00</td>\n",
              "      <td>15.45</td>\n",
              "      <td>48.0</td>\n",
              "      <td>461.0</td>\n",
              "      <td>4.0</td>\n",
              "      <td>1</td>\n",
              "      <td>security_and_services</td>\n",
              "    </tr>\n",
              "  </tbody>\n",
              "</table>\n",
              "<p>108456 rows × 18 columns</p>\n",
              "</div>\n",
              "      <button class=\"colab-df-convert\" onclick=\"convertToInteractive('df-43f868e4-0910-4ee2-99e7-651f7616ec34')\"\n",
              "              title=\"Convert this dataframe to an interactive table.\"\n",
              "              style=\"display:none;\">\n",
              "        \n",
              "  <svg xmlns=\"http://www.w3.org/2000/svg\" height=\"24px\"viewBox=\"0 0 24 24\"\n",
              "       width=\"24px\">\n",
              "    <path d=\"M0 0h24v24H0V0z\" fill=\"none\"/>\n",
              "    <path d=\"M18.56 5.44l.94 2.06.94-2.06 2.06-.94-2.06-.94-.94-2.06-.94 2.06-2.06.94zm-11 1L8.5 8.5l.94-2.06 2.06-.94-2.06-.94L8.5 2.5l-.94 2.06-2.06.94zm10 10l.94 2.06.94-2.06 2.06-.94-2.06-.94-.94-2.06-.94 2.06-2.06.94z\"/><path d=\"M17.41 7.96l-1.37-1.37c-.4-.4-.92-.59-1.43-.59-.52 0-1.04.2-1.43.59L10.3 9.45l-7.72 7.72c-.78.78-.78 2.05 0 2.83L4 21.41c.39.39.9.59 1.41.59.51 0 1.02-.2 1.41-.59l7.78-7.78 2.81-2.81c.8-.78.8-2.07 0-2.86zM5.41 20L4 18.59l7.72-7.72 1.47 1.35L5.41 20z\"/>\n",
              "  </svg>\n",
              "      </button>\n",
              "      \n",
              "  <style>\n",
              "    .colab-df-container {\n",
              "      display:flex;\n",
              "      flex-wrap:wrap;\n",
              "      gap: 12px;\n",
              "    }\n",
              "\n",
              "    .colab-df-convert {\n",
              "      background-color: #E8F0FE;\n",
              "      border: none;\n",
              "      border-radius: 50%;\n",
              "      cursor: pointer;\n",
              "      display: none;\n",
              "      fill: #1967D2;\n",
              "      height: 32px;\n",
              "      padding: 0 0 0 0;\n",
              "      width: 32px;\n",
              "    }\n",
              "\n",
              "    .colab-df-convert:hover {\n",
              "      background-color: #E2EBFA;\n",
              "      box-shadow: 0px 1px 2px rgba(60, 64, 67, 0.3), 0px 1px 3px 1px rgba(60, 64, 67, 0.15);\n",
              "      fill: #174EA6;\n",
              "    }\n",
              "\n",
              "    [theme=dark] .colab-df-convert {\n",
              "      background-color: #3B4455;\n",
              "      fill: #D2E3FC;\n",
              "    }\n",
              "\n",
              "    [theme=dark] .colab-df-convert:hover {\n",
              "      background-color: #434B5C;\n",
              "      box-shadow: 0px 1px 3px 1px rgba(0, 0, 0, 0.15);\n",
              "      filter: drop-shadow(0px 1px 2px rgba(0, 0, 0, 0.3));\n",
              "      fill: #FFFFFF;\n",
              "    }\n",
              "  </style>\n",
              "\n",
              "      <script>\n",
              "        const buttonEl =\n",
              "          document.querySelector('#df-43f868e4-0910-4ee2-99e7-651f7616ec34 button.colab-df-convert');\n",
              "        buttonEl.style.display =\n",
              "          google.colab.kernel.accessAllowed ? 'block' : 'none';\n",
              "\n",
              "        async function convertToInteractive(key) {\n",
              "          const element = document.querySelector('#df-43f868e4-0910-4ee2-99e7-651f7616ec34');\n",
              "          const dataTable =\n",
              "            await google.colab.kernel.invokeFunction('convertToInteractive',\n",
              "                                                     [key], {});\n",
              "          if (!dataTable) return;\n",
              "\n",
              "          const docLinkHtml = 'Like what you see? Visit the ' +\n",
              "            '<a target=\"_blank\" href=https://colab.research.google.com/notebooks/data_table.ipynb>data table notebook</a>'\n",
              "            + ' to learn more about interactive tables.';\n",
              "          element.innerHTML = '';\n",
              "          dataTable['output_type'] = 'display_data';\n",
              "          await google.colab.output.renderOutput(dataTable, element);\n",
              "          const docLink = document.createElement('div');\n",
              "          docLink.innerHTML = docLinkHtml;\n",
              "          element.appendChild(docLink);\n",
              "        }\n",
              "      </script>\n",
              "    </div>\n",
              "  </div>\n",
              "  "
            ]
          },
          "metadata": {},
          "execution_count": 10
        }
      ]
    },
    {
      "cell_type": "code",
      "source": [
        "df_pd.info()"
      ],
      "metadata": {
        "colab": {
          "base_uri": "https://localhost:8080/"
        },
        "id": "DtysZ_WG_DG2",
        "outputId": "d9c60acf-ef0d-4cb1-bdee-64f257619d9c"
      },
      "execution_count": null,
      "outputs": [
        {
          "output_type": "stream",
          "name": "stdout",
          "text": [
            "<class 'pandas.core.frame.DataFrame'>\n",
            "Int64Index: 110750 entries, 0 to 110749\n",
            "Data columns (total 18 columns):\n",
            " #   Column                         Non-Null Count   Dtype         \n",
            "---  ------                         --------------   -----         \n",
            " 0   customer_unique_id             110750 non-null  object        \n",
            " 1   customer_zip_code_prefix       110750 non-null  int64         \n",
            " 2   customer_city                  110750 non-null  object        \n",
            " 3   customer_state                 110750 non-null  object        \n",
            " 4   order_purchase_timestamp       110750 non-null  datetime64[ns]\n",
            " 5   order_delivered_carrier_date   109605 non-null  object        \n",
            " 6   order_delivered_customer_date  108457 non-null  datetime64[ns]\n",
            " 7   order_estimated_delivery_date  110750 non-null  datetime64[ns]\n",
            " 8   product_id                     110750 non-null  object        \n",
            " 9   seller_id                      110750 non-null  object        \n",
            " 10  shipping_limit_date            110750 non-null  object        \n",
            " 11  price                          110750 non-null  float64       \n",
            " 12  freight_value                  110750 non-null  float64       \n",
            " 13  product_name_lenght            110750 non-null  float64       \n",
            " 14  product_description_lenght     110750 non-null  float64       \n",
            " 15  product_photos_qty             110750 non-null  float64       \n",
            " 16  review_score                   110750 non-null  int64         \n",
            " 17  product_category_name_english  110750 non-null  object        \n",
            "dtypes: datetime64[ns](3), float64(5), int64(2), object(8)\n",
            "memory usage: 16.1+ MB\n"
          ]
        }
      ]
    },
    {
      "cell_type": "markdown",
      "source": [
        "## Feature 탐색"
      ],
      "metadata": {
        "id": "kSVAYPhhymJA"
      }
    },
    {
      "cell_type": "markdown",
      "source": [
        "총 Feature 개수 확인"
      ],
      "metadata": {
        "id": "t0jW8woCyqM8"
      }
    },
    {
      "cell_type": "code",
      "source": [
        "print(df_pd.info())"
      ],
      "metadata": {
        "colab": {
          "base_uri": "https://localhost:8080/"
        },
        "id": "U3jhWczbyvud",
        "outputId": "41eccc46-22b9-44a4-90f8-35d8b6e783d9"
      },
      "execution_count": null,
      "outputs": [
        {
          "output_type": "stream",
          "name": "stdout",
          "text": [
            "<class 'pandas.core.frame.DataFrame'>\n",
            "Int64Index: 110750 entries, 0 to 110749\n",
            "Data columns (total 18 columns):\n",
            " #   Column                         Non-Null Count   Dtype         \n",
            "---  ------                         --------------   -----         \n",
            " 0   customer_unique_id             110750 non-null  object        \n",
            " 1   customer_zip_code_prefix       110750 non-null  int64         \n",
            " 2   customer_city                  110750 non-null  object        \n",
            " 3   customer_state                 110750 non-null  object        \n",
            " 4   order_purchase_timestamp       110750 non-null  datetime64[ns]\n",
            " 5   order_delivered_carrier_date   109605 non-null  object        \n",
            " 6   order_delivered_customer_date  108457 non-null  datetime64[ns]\n",
            " 7   order_estimated_delivery_date  110750 non-null  datetime64[ns]\n",
            " 8   product_id                     110750 non-null  object        \n",
            " 9   seller_id                      110750 non-null  object        \n",
            " 10  shipping_limit_date            110750 non-null  object        \n",
            " 11  price                          110750 non-null  float64       \n",
            " 12  freight_value                  110750 non-null  float64       \n",
            " 13  product_name_lenght            110750 non-null  float64       \n",
            " 14  product_description_lenght     110750 non-null  float64       \n",
            " 15  product_photos_qty             110750 non-null  float64       \n",
            " 16  review_score                   110750 non-null  int64         \n",
            " 17  product_category_name_english  110750 non-null  object        \n",
            "dtypes: datetime64[ns](3), float64(5), int64(2), object(8)\n",
            "memory usage: 16.1+ MB\n",
            "None\n"
          ]
        }
      ]
    },
    {
      "cell_type": "markdown",
      "source": [
        "## 숫자형 Feature"
      ],
      "metadata": {
        "id": "aONAkLm_12eX"
      }
    },
    {
      "cell_type": "code",
      "source": [
        "# price + freight_value = payment_value (컬럼을 만들어쪙)\n",
        "df_pd['total_cost_value'] = df_pd['price'] + df_pd['freight_value']"
      ],
      "metadata": {
        "id": "QkeAQAOKyFbw"
      },
      "execution_count": null,
      "outputs": []
    },
    {
      "cell_type": "code",
      "source": [
        "#데이터 확인\n",
        "df_pd.select_dtypes(include=['number']).head()"
      ],
      "metadata": {
        "colab": {
          "base_uri": "https://localhost:8080/",
          "height": 270
        },
        "id": "srwO2Kog1xl2",
        "outputId": "d059f55a-629c-4eba-f289-5bfef5d0613d"
      },
      "execution_count": null,
      "outputs": [
        {
          "output_type": "execute_result",
          "data": {
            "text/plain": [
              "   customer_zip_code_prefix   price  freight_value  product_name_lenght  \\\n",
              "0                     14409  124.99          21.88                 41.0   \n",
              "1                     68030  112.99          24.90                 41.0   \n",
              "2                     68030  112.99          24.90                 41.0   \n",
              "3                     92480  124.99          15.62                 41.0   \n",
              "4                     25931  106.99          30.59                 41.0   \n",
              "\n",
              "   product_description_lenght  product_photos_qty  review_score  \\\n",
              "0                      1141.0                 1.0             4   \n",
              "1                      1141.0                 1.0             1   \n",
              "2                      1141.0                 1.0             1   \n",
              "3                      1141.0                 1.0             3   \n",
              "4                      1141.0                 1.0             4   \n",
              "\n",
              "   total_cost_value  \n",
              "0            146.87  \n",
              "1            137.89  \n",
              "2            137.89  \n",
              "3            140.61  \n",
              "4            137.58  "
            ],
            "text/html": [
              "\n",
              "  <div id=\"df-9513a418-442e-4935-87ce-b1eff711ab7e\">\n",
              "    <div class=\"colab-df-container\">\n",
              "      <div>\n",
              "<style scoped>\n",
              "    .dataframe tbody tr th:only-of-type {\n",
              "        vertical-align: middle;\n",
              "    }\n",
              "\n",
              "    .dataframe tbody tr th {\n",
              "        vertical-align: top;\n",
              "    }\n",
              "\n",
              "    .dataframe thead th {\n",
              "        text-align: right;\n",
              "    }\n",
              "</style>\n",
              "<table border=\"1\" class=\"dataframe\">\n",
              "  <thead>\n",
              "    <tr style=\"text-align: right;\">\n",
              "      <th></th>\n",
              "      <th>customer_zip_code_prefix</th>\n",
              "      <th>price</th>\n",
              "      <th>freight_value</th>\n",
              "      <th>product_name_lenght</th>\n",
              "      <th>product_description_lenght</th>\n",
              "      <th>product_photos_qty</th>\n",
              "      <th>review_score</th>\n",
              "      <th>total_cost_value</th>\n",
              "    </tr>\n",
              "  </thead>\n",
              "  <tbody>\n",
              "    <tr>\n",
              "      <th>0</th>\n",
              "      <td>14409</td>\n",
              "      <td>124.99</td>\n",
              "      <td>21.88</td>\n",
              "      <td>41.0</td>\n",
              "      <td>1141.0</td>\n",
              "      <td>1.0</td>\n",
              "      <td>4</td>\n",
              "      <td>146.87</td>\n",
              "    </tr>\n",
              "    <tr>\n",
              "      <th>1</th>\n",
              "      <td>68030</td>\n",
              "      <td>112.99</td>\n",
              "      <td>24.90</td>\n",
              "      <td>41.0</td>\n",
              "      <td>1141.0</td>\n",
              "      <td>1.0</td>\n",
              "      <td>1</td>\n",
              "      <td>137.89</td>\n",
              "    </tr>\n",
              "    <tr>\n",
              "      <th>2</th>\n",
              "      <td>68030</td>\n",
              "      <td>112.99</td>\n",
              "      <td>24.90</td>\n",
              "      <td>41.0</td>\n",
              "      <td>1141.0</td>\n",
              "      <td>1.0</td>\n",
              "      <td>1</td>\n",
              "      <td>137.89</td>\n",
              "    </tr>\n",
              "    <tr>\n",
              "      <th>3</th>\n",
              "      <td>92480</td>\n",
              "      <td>124.99</td>\n",
              "      <td>15.62</td>\n",
              "      <td>41.0</td>\n",
              "      <td>1141.0</td>\n",
              "      <td>1.0</td>\n",
              "      <td>3</td>\n",
              "      <td>140.61</td>\n",
              "    </tr>\n",
              "    <tr>\n",
              "      <th>4</th>\n",
              "      <td>25931</td>\n",
              "      <td>106.99</td>\n",
              "      <td>30.59</td>\n",
              "      <td>41.0</td>\n",
              "      <td>1141.0</td>\n",
              "      <td>1.0</td>\n",
              "      <td>4</td>\n",
              "      <td>137.58</td>\n",
              "    </tr>\n",
              "  </tbody>\n",
              "</table>\n",
              "</div>\n",
              "      <button class=\"colab-df-convert\" onclick=\"convertToInteractive('df-9513a418-442e-4935-87ce-b1eff711ab7e')\"\n",
              "              title=\"Convert this dataframe to an interactive table.\"\n",
              "              style=\"display:none;\">\n",
              "        \n",
              "  <svg xmlns=\"http://www.w3.org/2000/svg\" height=\"24px\"viewBox=\"0 0 24 24\"\n",
              "       width=\"24px\">\n",
              "    <path d=\"M0 0h24v24H0V0z\" fill=\"none\"/>\n",
              "    <path d=\"M18.56 5.44l.94 2.06.94-2.06 2.06-.94-2.06-.94-.94-2.06-.94 2.06-2.06.94zm-11 1L8.5 8.5l.94-2.06 2.06-.94-2.06-.94L8.5 2.5l-.94 2.06-2.06.94zm10 10l.94 2.06.94-2.06 2.06-.94-2.06-.94-.94-2.06-.94 2.06-2.06.94z\"/><path d=\"M17.41 7.96l-1.37-1.37c-.4-.4-.92-.59-1.43-.59-.52 0-1.04.2-1.43.59L10.3 9.45l-7.72 7.72c-.78.78-.78 2.05 0 2.83L4 21.41c.39.39.9.59 1.41.59.51 0 1.02-.2 1.41-.59l7.78-7.78 2.81-2.81c.8-.78.8-2.07 0-2.86zM5.41 20L4 18.59l7.72-7.72 1.47 1.35L5.41 20z\"/>\n",
              "  </svg>\n",
              "      </button>\n",
              "      \n",
              "  <style>\n",
              "    .colab-df-container {\n",
              "      display:flex;\n",
              "      flex-wrap:wrap;\n",
              "      gap: 12px;\n",
              "    }\n",
              "\n",
              "    .colab-df-convert {\n",
              "      background-color: #E8F0FE;\n",
              "      border: none;\n",
              "      border-radius: 50%;\n",
              "      cursor: pointer;\n",
              "      display: none;\n",
              "      fill: #1967D2;\n",
              "      height: 32px;\n",
              "      padding: 0 0 0 0;\n",
              "      width: 32px;\n",
              "    }\n",
              "\n",
              "    .colab-df-convert:hover {\n",
              "      background-color: #E2EBFA;\n",
              "      box-shadow: 0px 1px 2px rgba(60, 64, 67, 0.3), 0px 1px 3px 1px rgba(60, 64, 67, 0.15);\n",
              "      fill: #174EA6;\n",
              "    }\n",
              "\n",
              "    [theme=dark] .colab-df-convert {\n",
              "      background-color: #3B4455;\n",
              "      fill: #D2E3FC;\n",
              "    }\n",
              "\n",
              "    [theme=dark] .colab-df-convert:hover {\n",
              "      background-color: #434B5C;\n",
              "      box-shadow: 0px 1px 3px 1px rgba(0, 0, 0, 0.15);\n",
              "      filter: drop-shadow(0px 1px 2px rgba(0, 0, 0, 0.3));\n",
              "      fill: #FFFFFF;\n",
              "    }\n",
              "  </style>\n",
              "\n",
              "      <script>\n",
              "        const buttonEl =\n",
              "          document.querySelector('#df-9513a418-442e-4935-87ce-b1eff711ab7e button.colab-df-convert');\n",
              "        buttonEl.style.display =\n",
              "          google.colab.kernel.accessAllowed ? 'block' : 'none';\n",
              "\n",
              "        async function convertToInteractive(key) {\n",
              "          const element = document.querySelector('#df-9513a418-442e-4935-87ce-b1eff711ab7e');\n",
              "          const dataTable =\n",
              "            await google.colab.kernel.invokeFunction('convertToInteractive',\n",
              "                                                     [key], {});\n",
              "          if (!dataTable) return;\n",
              "\n",
              "          const docLinkHtml = 'Like what you see? Visit the ' +\n",
              "            '<a target=\"_blank\" href=https://colab.research.google.com/notebooks/data_table.ipynb>data table notebook</a>'\n",
              "            + ' to learn more about interactive tables.';\n",
              "          element.innerHTML = '';\n",
              "          dataTable['output_type'] = 'display_data';\n",
              "          await google.colab.output.renderOutput(dataTable, element);\n",
              "          const docLink = document.createElement('div');\n",
              "          docLink.innerHTML = docLinkHtml;\n",
              "          element.appendChild(docLink);\n",
              "        }\n",
              "      </script>\n",
              "    </div>\n",
              "  </div>\n",
              "  "
            ]
          },
          "metadata": {},
          "execution_count": 14
        }
      ]
    },
    {
      "cell_type": "code",
      "source": [
        "df_pd.info()"
      ],
      "metadata": {
        "colab": {
          "base_uri": "https://localhost:8080/"
        },
        "id": "1M3vsXaCoVEu",
        "outputId": "de52b31d-bbb5-4db5-c889-a71e24389420"
      },
      "execution_count": null,
      "outputs": [
        {
          "output_type": "stream",
          "name": "stdout",
          "text": [
            "<class 'pandas.core.frame.DataFrame'>\n",
            "Int64Index: 110750 entries, 0 to 110749\n",
            "Data columns (total 19 columns):\n",
            " #   Column                         Non-Null Count   Dtype         \n",
            "---  ------                         --------------   -----         \n",
            " 0   customer_unique_id             110750 non-null  object        \n",
            " 1   customer_zip_code_prefix       110750 non-null  int64         \n",
            " 2   customer_city                  110750 non-null  object        \n",
            " 3   customer_state                 110750 non-null  object        \n",
            " 4   order_purchase_timestamp       110750 non-null  datetime64[ns]\n",
            " 5   order_delivered_carrier_date   109605 non-null  object        \n",
            " 6   order_delivered_customer_date  108457 non-null  datetime64[ns]\n",
            " 7   order_estimated_delivery_date  110750 non-null  datetime64[ns]\n",
            " 8   product_id                     110750 non-null  object        \n",
            " 9   seller_id                      110750 non-null  object        \n",
            " 10  shipping_limit_date            110750 non-null  object        \n",
            " 11  price                          110750 non-null  float64       \n",
            " 12  freight_value                  110750 non-null  float64       \n",
            " 13  product_name_lenght            110750 non-null  float64       \n",
            " 14  product_description_lenght     110750 non-null  float64       \n",
            " 15  product_photos_qty             110750 non-null  float64       \n",
            " 16  review_score                   110750 non-null  int64         \n",
            " 17  product_category_name_english  110750 non-null  object        \n",
            " 18  total_cost_value               110750 non-null  float64       \n",
            "dtypes: datetime64[ns](3), float64(6), int64(2), object(8)\n",
            "memory usage: 16.9+ MB\n"
          ]
        }
      ]
    },
    {
      "cell_type": "code",
      "source": [
        "num_feat = df_pd.select_dtypes('number').columns.values\n",
        "df_pd_num = df_pd[num_feat].copy()"
      ],
      "metadata": {
        "id": "tSWwbiYtryng"
      },
      "execution_count": null,
      "outputs": []
    },
    {
      "cell_type": "code",
      "source": [
        "#Feature 별 유일한 값 개수 확인\n",
        "print(df_pd_num.nunique().sort_values())"
      ],
      "metadata": {
        "colab": {
          "base_uri": "https://localhost:8080/"
        },
        "id": "hYkwiW-a2hVB",
        "outputId": "1774d30e-9d48-4fe5-aa8c-d62a433e5804"
      },
      "execution_count": null,
      "outputs": [
        {
          "output_type": "stream",
          "name": "stdout",
          "text": [
            "review_score                      5\n",
            "product_photos_qty               19\n",
            "product_name_lenght              66\n",
            "product_description_lenght     2958\n",
            "price                          5879\n",
            "freight_value                  6954\n",
            "customer_zip_code_prefix      14907\n",
            "total_cost_value              28805\n",
            "dtype: int64\n"
          ]
        }
      ]
    },
    {
      "cell_type": "code",
      "source": [
        "df_pd_num.shape"
      ],
      "metadata": {
        "colab": {
          "base_uri": "https://localhost:8080/"
        },
        "id": "ZIdG1kUyO1u6",
        "outputId": "056b9bc0-e6af-43f0-968e-0d40fe947ea5"
      },
      "execution_count": null,
      "outputs": [
        {
          "output_type": "execute_result",
          "data": {
            "text/plain": [
              "(110750, 8)"
            ]
          },
          "metadata": {},
          "execution_count": 18
        }
      ]
    },
    {
      "cell_type": "code",
      "source": [
        "#Feature Skewness 확인\n",
        "col_df_pd_num = df_pd_num.columns.values\n",
        "for i in range(0,len(col_df_pd_num)):\n",
        "    sns.displot(df_pd_num[col_df_pd_num[i]],kde=True) # kde : kernel density"
      ],
      "metadata": {
        "colab": {
          "base_uri": "https://localhost:8080/",
          "height": 1000
        },
        "id": "m2i_DoFi2u-2",
        "outputId": "17650180-c638-4754-9320-8b753612b2f4"
      },
      "execution_count": null,
      "outputs": [
        {
          "output_type": "display_data",
          "data": {
            "text/plain": [
              "<Figure size 360x360 with 1 Axes>"
            ],
            "image/png": "[encoded data removed]"
          },
          "metadata": {
            "needs_background": "light"
          }
        },
        {
          "output_type": "display_data",
          "data": {
            "text/plain": [
              "<Figure size 360x360 with 1 Axes>"
            ],
            "image/png": "[encoded data removed]"
          },
          "metadata": {
            "needs_background": "light"
          }
        },
        {
          "output_type": "display_data",
          "data": {
            "text/plain": [
              "<Figure size 360x360 with 1 Axes>"
            ],
            "image/png": "[encoded data removed]"
          },
          "metadata": {
            "needs_background": "light"
          }
        },
        {
          "output_type": "display_data",
          "data": {
            "text/plain": [
              "<Figure size 360x360 with 1 Axes>"
            ],
            "image/png": "[encoded data removed]"
          },
          "metadata": {
            "needs_background": "light"
          }
        },
        {
          "output_type": "display_data",
          "data": {
            "text/plain": [
              "<Figure size 360x360 with 1 Axes>"
            ],
            "image/png": "[encoded data removed]"
          },
          "metadata": {
            "needs_background": "light"
          }
        },
        {
          "output_type": "display_data",
          "data": {
            "text/plain": [
              "<Figure size 360x360 with 1 Axes>"
            ],
            "image/png": "[encoded data removed]"
          },
          "metadata": {
            "needs_background": "light"
          }
        },
        {
          "output_type": "display_data",
          "data": {
            "text/plain": [
              "<Figure size 360x360 with 1 Axes>"
            ],
            "image/png": "[encoded data removed]"
          },
          "metadata": {
            "needs_background": "light"
          }
        },
        {
          "output_type": "display_data",
          "data": {
            "text/plain": [
              "<Figure size 360x360 with 1 Axes>"
            ],
            "image/png": "[encoded data removed]"
          },
          "metadata": {
            "needs_background": "light"
          }
        }
      ]
    },
    {
      "cell_type": "code",
      "source": [
        "df_pd_num.describe()"
      ],
      "metadata": {
        "id": "fawetG6YsE4_",
        "colab": {
          "base_uri": "https://localhost:8080/",
          "height": 364
        },
        "outputId": "ea19f697-d270-4ada-ae22-69d3274d2b8f"
      },
      "execution_count": null,
      "outputs": [
        {
          "output_type": "execute_result",
          "data": {
            "text/plain": [
              "       customer_zip_code_prefix          price  freight_value  \\\n",
              "count             110750.000000  110750.000000  110750.000000   \n",
              "mean               35123.682257     120.475691      20.012513   \n",
              "std                29882.476174     181.861574      15.815047   \n",
              "min                 1003.000000       0.850000       0.000000   \n",
              "25%                11310.000000      39.900000      13.080000   \n",
              "50%                24320.000000      74.900000      16.290000   \n",
              "75%                59054.000000     134.900000      21.170000   \n",
              "max                99980.000000    6735.000000     409.680000   \n",
              "\n",
              "       product_name_lenght  product_description_lenght  product_photos_qty  \\\n",
              "count        110750.000000               110750.000000       110750.000000   \n",
              "mean             48.776135                  786.798230            2.206980   \n",
              "std              10.025553                  651.643826            1.719776   \n",
              "min               5.000000                    4.000000            1.000000   \n",
              "25%              42.000000                  348.000000            1.000000   \n",
              "50%              52.000000                  601.000000            1.000000   \n",
              "75%              57.000000                  985.000000            3.000000   \n",
              "max              76.000000                 3992.000000           20.000000   \n",
              "\n",
              "        review_score  total_cost_value  \n",
              "count  110750.000000     110750.000000  \n",
              "mean        4.035395        140.488204  \n",
              "std         1.385325        188.940634  \n",
              "min         1.000000          6.080000  \n",
              "25%         4.000000         55.240000  \n",
              "50%         5.000000         92.255000  \n",
              "75%         5.000000        158.070000  \n",
              "max         5.000000       6929.310000  "
            ],
            "text/html": [
              "\n",
              "  <div id=\"df-b100db15-26dd-496d-8560-5d0c71e5a51f\">\n",
              "    <div class=\"colab-df-container\">\n",
              "      <div>\n",
              "<style scoped>\n",
              "    .dataframe tbody tr th:only-of-type {\n",
              "        vertical-align: middle;\n",
              "    }\n",
              "\n",
              "    .dataframe tbody tr th {\n",
              "        vertical-align: top;\n",
              "    }\n",
              "\n",
              "    .dataframe thead th {\n",
              "        text-align: right;\n",
              "    }\n",
              "</style>\n",
              "<table border=\"1\" class=\"dataframe\">\n",
              "  <thead>\n",
              "    <tr style=\"text-align: right;\">\n",
              "      <th></th>\n",
              "      <th>customer_zip_code_prefix</th>\n",
              "      <th>price</th>\n",
              "      <th>freight_value</th>\n",
              "      <th>product_name_lenght</th>\n",
              "      <th>product_description_lenght</th>\n",
              "      <th>product_photos_qty</th>\n",
              "      <th>review_score</th>\n",
              "      <th>total_cost_value</th>\n",
              "    </tr>\n",
              "  </thead>\n",
              "  <tbody>\n",
              "    <tr>\n",
              "      <th>count</th>\n",
              "      <td>110750.000000</td>\n",
              "      <td>110750.000000</td>\n",
              "      <td>110750.000000</td>\n",
              "      <td>110750.000000</td>\n",
              "      <td>110750.000000</td>\n",
              "      <td>110750.000000</td>\n",
              "      <td>110750.000000</td>\n",
              "      <td>110750.000000</td>\n",
              "    </tr>\n",
              "    <tr>\n",
              "      <th>mean</th>\n",
              "      <td>35123.682257</td>\n",
              "      <td>120.475691</td>\n",
              "      <td>20.012513</td>\n",
              "      <td>48.776135</td>\n",
              "      <td>786.798230</td>\n",
              "      <td>2.206980</td>\n",
              "      <td>4.035395</td>\n",
              "      <td>140.488204</td>\n",
              "    </tr>\n",
              "    <tr>\n",
              "      <th>std</th>\n",
              "      <td>29882.476174</td>\n",
              "      <td>181.861574</td>\n",
              "      <td>15.815047</td>\n",
              "      <td>10.025553</td>\n",
              "      <td>651.643826</td>\n",
              "      <td>1.719776</td>\n",
              "      <td>1.385325</td>\n",
              "      <td>188.940634</td>\n",
              "    </tr>\n",
              "    <tr>\n",
              "      <th>min</th>\n",
              "      <td>1003.000000</td>\n",
              "      <td>0.850000</td>\n",
              "      <td>0.000000</td>\n",
              "      <td>5.000000</td>\n",
              "      <td>4.000000</td>\n",
              "      <td>1.000000</td>\n",
              "      <td>1.000000</td>\n",
              "      <td>6.080000</td>\n",
              "    </tr>\n",
              "    <tr>\n",
              "      <th>25%</th>\n",
              "      <td>11310.000000</td>\n",
              "      <td>39.900000</td>\n",
              "      <td>13.080000</td>\n",
              "      <td>42.000000</td>\n",
              "      <td>348.000000</td>\n",
              "      <td>1.000000</td>\n",
              "      <td>4.000000</td>\n",
              "      <td>55.240000</td>\n",
              "    </tr>\n",
              "    <tr>\n",
              "      <th>50%</th>\n",
              "      <td>24320.000000</td>\n",
              "      <td>74.900000</td>\n",
              "      <td>16.290000</td>\n",
              "      <td>52.000000</td>\n",
              "      <td>601.000000</td>\n",
              "      <td>1.000000</td>\n",
              "      <td>5.000000</td>\n",
              "      <td>92.255000</td>\n",
              "    </tr>\n",
              "    <tr>\n",
              "      <th>75%</th>\n",
              "      <td>59054.000000</td>\n",
              "      <td>134.900000</td>\n",
              "      <td>21.170000</td>\n",
              "      <td>57.000000</td>\n",
              "      <td>985.000000</td>\n",
              "      <td>3.000000</td>\n",
              "      <td>5.000000</td>\n",
              "      <td>158.070000</td>\n",
              "    </tr>\n",
              "    <tr>\n",
              "      <th>max</th>\n",
              "      <td>99980.000000</td>\n",
              "      <td>6735.000000</td>\n",
              "      <td>409.680000</td>\n",
              "      <td>76.000000</td>\n",
              "      <td>3992.000000</td>\n",
              "      <td>20.000000</td>\n",
              "      <td>5.000000</td>\n",
              "      <td>6929.310000</td>\n",
              "    </tr>\n",
              "  </tbody>\n",
              "</table>\n",
              "</div>\n",
              "      <button class=\"colab-df-convert\" onclick=\"convertToInteractive('df-b100db15-26dd-496d-8560-5d0c71e5a51f')\"\n",
              "              title=\"Convert this dataframe to an interactive table.\"\n",
              "              style=\"display:none;\">\n",
              "        \n",
              "  <svg xmlns=\"http://www.w3.org/2000/svg\" height=\"24px\"viewBox=\"0 0 24 24\"\n",
              "       width=\"24px\">\n",
              "    <path d=\"M0 0h24v24H0V0z\" fill=\"none\"/>\n",
              "    <path d=\"M18.56 5.44l.94 2.06.94-2.06 2.06-.94-2.06-.94-.94-2.06-.94 2.06-2.06.94zm-11 1L8.5 8.5l.94-2.06 2.06-.94-2.06-.94L8.5 2.5l-.94 2.06-2.06.94zm10 10l.94 2.06.94-2.06 2.06-.94-2.06-.94-.94-2.06-.94 2.06-2.06.94z\"/><path d=\"M17.41 7.96l-1.37-1.37c-.4-.4-.92-.59-1.43-.59-.52 0-1.04.2-1.43.59L10.3 9.45l-7.72 7.72c-.78.78-.78 2.05 0 2.83L4 21.41c.39.39.9.59 1.41.59.51 0 1.02-.2 1.41-.59l7.78-7.78 2.81-2.81c.8-.78.8-2.07 0-2.86zM5.41 20L4 18.59l7.72-7.72 1.47 1.35L5.41 20z\"/>\n",
              "  </svg>\n",
              "      </button>\n",
              "      \n",
              "  <style>\n",
              "    .colab-df-container {\n",
              "      display:flex;\n",
              "      flex-wrap:wrap;\n",
              "      gap: 12px;\n",
              "    }\n",
              "\n",
              "    .colab-df-convert {\n",
              "      background-color: #E8F0FE;\n",
              "      border: none;\n",
              "      border-radius: 50%;\n",
              "      cursor: pointer;\n",
              "      display: none;\n",
              "      fill: #1967D2;\n",
              "      height: 32px;\n",
              "      padding: 0 0 0 0;\n",
              "      width: 32px;\n",
              "    }\n",
              "\n",
              "    .colab-df-convert:hover {\n",
              "      background-color: #E2EBFA;\n",
              "      box-shadow: 0px 1px 2px rgba(60, 64, 67, 0.3), 0px 1px 3px 1px rgba(60, 64, 67, 0.15);\n",
              "      fill: #174EA6;\n",
              "    }\n",
              "\n",
              "    [theme=dark] .colab-df-convert {\n",
              "      background-color: #3B4455;\n",
              "      fill: #D2E3FC;\n",
              "    }\n",
              "\n",
              "    [theme=dark] .colab-df-convert:hover {\n",
              "      background-color: #434B5C;\n",
              "      box-shadow: 0px 1px 3px 1px rgba(0, 0, 0, 0.15);\n",
              "      filter: drop-shadow(0px 1px 2px rgba(0, 0, 0, 0.3));\n",
              "      fill: #FFFFFF;\n",
              "    }\n",
              "  </style>\n",
              "\n",
              "      <script>\n",
              "        const buttonEl =\n",
              "          document.querySelector('#df-b100db15-26dd-496d-8560-5d0c71e5a51f button.colab-df-convert');\n",
              "        buttonEl.style.display =\n",
              "          google.colab.kernel.accessAllowed ? 'block' : 'none';\n",
              "\n",
              "        async function convertToInteractive(key) {\n",
              "          const element = document.querySelector('#df-b100db15-26dd-496d-8560-5d0c71e5a51f');\n",
              "          const dataTable =\n",
              "            await google.colab.kernel.invokeFunction('convertToInteractive',\n",
              "                                                     [key], {});\n",
              "          if (!dataTable) return;\n",
              "\n",
              "          const docLinkHtml = 'Like what you see? Visit the ' +\n",
              "            '<a target=\"_blank\" href=https://colab.research.google.com/notebooks/data_table.ipynb>data table notebook</a>'\n",
              "            + ' to learn more about interactive tables.';\n",
              "          element.innerHTML = '';\n",
              "          dataTable['output_type'] = 'display_data';\n",
              "          await google.colab.output.renderOutput(dataTable, element);\n",
              "          const docLink = document.createElement('div');\n",
              "          docLink.innerHTML = docLinkHtml;\n",
              "          element.appendChild(docLink);\n",
              "        }\n",
              "      </script>\n",
              "    </div>\n",
              "  </div>\n",
              "  "
            ]
          },
          "metadata": {},
          "execution_count": 20
        }
      ]
    },
    {
      "cell_type": "code",
      "source": [
        "df_pd_num.isnull().sum()"
      ],
      "metadata": {
        "colab": {
          "base_uri": "https://localhost:8080/"
        },
        "id": "YZ8stER10CvQ",
        "outputId": "fc9ce957-0037-4b7f-ded4-dce9433e7321"
      },
      "execution_count": null,
      "outputs": [
        {
          "output_type": "execute_result",
          "data": {
            "text/plain": [
              "customer_zip_code_prefix      0\n",
              "price                         0\n",
              "freight_value                 0\n",
              "product_name_lenght           0\n",
              "product_description_lenght    0\n",
              "product_photos_qty            0\n",
              "review_score                  0\n",
              "total_cost_value              0\n",
              "dtype: int64"
            ]
          },
          "metadata": {},
          "execution_count": 21
        }
      ]
    },
    {
      "cell_type": "code",
      "source": [
        "df_pd.info()"
      ],
      "metadata": {
        "colab": {
          "base_uri": "https://localhost:8080/"
        },
        "id": "b6VfF-QB5Ipq",
        "outputId": "f4319bbb-559d-4be3-b2f9-19815ba17956"
      },
      "execution_count": null,
      "outputs": [
        {
          "output_type": "stream",
          "name": "stdout",
          "text": [
            "<class 'pandas.core.frame.DataFrame'>\n",
            "Int64Index: 110750 entries, 0 to 110749\n",
            "Data columns (total 19 columns):\n",
            " #   Column                         Non-Null Count   Dtype         \n",
            "---  ------                         --------------   -----         \n",
            " 0   customer_unique_id             110750 non-null  object        \n",
            " 1   customer_zip_code_prefix       110750 non-null  int64         \n",
            " 2   customer_city                  110750 non-null  object        \n",
            " 3   customer_state                 110750 non-null  object        \n",
            " 4   order_purchase_timestamp       110750 non-null  datetime64[ns]\n",
            " 5   order_delivered_carrier_date   109605 non-null  object        \n",
            " 6   order_delivered_customer_date  108457 non-null  datetime64[ns]\n",
            " 7   order_estimated_delivery_date  110750 non-null  datetime64[ns]\n",
            " 8   product_id                     110750 non-null  object        \n",
            " 9   seller_id                      110750 non-null  object        \n",
            " 10  shipping_limit_date            110750 non-null  object        \n",
            " 11  price                          110750 non-null  float64       \n",
            " 12  freight_value                  110750 non-null  float64       \n",
            " 13  product_name_lenght            110750 non-null  float64       \n",
            " 14  product_description_lenght     110750 non-null  float64       \n",
            " 15  product_photos_qty             110750 non-null  float64       \n",
            " 16  review_score                   110750 non-null  int64         \n",
            " 17  product_category_name_english  110750 non-null  object        \n",
            " 18  total_cost_value               110750 non-null  float64       \n",
            "dtypes: datetime64[ns](3), float64(6), int64(2), object(8)\n",
            "memory usage: 16.9+ MB\n"
          ]
        }
      ]
    },
    {
      "cell_type": "code",
      "source": [
        "num_feat = df_pd_num.columns.values\n",
        "comb_num_feat = np.array(list(combinations(num_feat, 2)))\n",
        "corr_num_feat = np.array([])\n",
        "for comb in comb_num_feat:\n",
        "    corr = pearsonr(df_pd_num[comb[0]], df_pd_num[comb[1]])[0]\n",
        "    corr_num_feat = np.append(corr_num_feat, corr)"
      ],
      "metadata": {
        "id": "qqFcysaP3Ri4"
      },
      "execution_count": null,
      "outputs": []
    },
    {
      "cell_type": "code",
      "source": [
        "high_corr_num = comb_num_feat[np.abs(corr_num_feat) >= 0.9]\n",
        "high_corr_num"
      ],
      "metadata": {
        "colab": {
          "base_uri": "https://localhost:8080/"
        },
        "id": "13EXEyxQ3uM_",
        "outputId": "29811446-15fd-4967-e3c8-53017a4d56fd"
      },
      "execution_count": null,
      "outputs": [
        {
          "output_type": "execute_result",
          "data": {
            "text/plain": [
              "array([['price', 'total_cost_value']], dtype='<U26')"
            ]
          },
          "metadata": {},
          "execution_count": 24
        }
      ]
    },
    {
      "cell_type": "code",
      "source": [
        "# plotly 안 보이는 문제 해결\n",
        "\n",
        "import plotly.io as pio\n",
        "pio.renderers.default = 'notebook_connected'\n",
        "pio.renderers\n",
        "pio.renderers.default = 'colab'\n",
        "pio.renderers\n",
        "\n",
        "data = [\n",
        "    go.Heatmap(\n",
        "        z=df_pd_num.astype(float).corr().values, # 피어슨 상관계수\n",
        "        x=df_pd_num.columns.values,\n",
        "        y=df_pd_num.columns.values,\n",
        "        colorscale='Viridis',\n",
        "        reversescale = False,\n",
        "        opacity = 1.0\n",
        "        \n",
        "    )\n",
        "]\n",
        "\n",
        "\n",
        "layout = go.Layout(\n",
        "    title='숫자형 Feature 들의 피어슨 상관계수',\n",
        "    xaxis = dict(ticks='', nticks=36),\n",
        "    yaxis = dict(ticks='' ),\n",
        "    width = 900, height = 700,\n",
        "    \n",
        ")\n",
        "\n",
        "fig = go.Figure(data=data, layout=layout)\n",
        "py.iplot(fig, filename='labelled-heatmap')\n",
        "\n"
      ],
      "metadata": {
        "colab": {
          "base_uri": "https://localhost:8080/",
          "height": 717
        },
        "id": "Ac02TMVR3wRn",
        "outputId": "7c21b8bf-d89d-4fa0-b195-ab3d7527ed75"
      },
      "execution_count": null,
      "outputs": [
        {
          "output_type": "display_data",
          "data": {
            "text/html": [
              "<html>\n",
              "<head><meta charset=\"utf-8\" /></head>\n",
              "<body>\n",
              "    <div>            <script src=\"https://cdnjs.cloudflare.com/ajax/libs/mathjax/2.7.5/MathJax.js?config=TeX-AMS-MML_SVG\"></script><script type=\"text/javascript\">if (window.MathJax) {MathJax.Hub.Config({SVG: {font: \"STIX-Web\"}});}</script>                <script type=\"text/javascript\">window.PlotlyConfig = {MathJaxConfig: 'local'};</script>\n",
              "        <script src=\"https://cdn.plot.ly/plotly-2.8.3.min.js\"></script>                <div id=\"1622ede2-c7dc-4263-bc0e-7ca58876294e\" class=\"plotly-graph-div\" style=\"height:700px; width:900px;\"></div>            <script type=\"text/javascript\">                                    window.PLOTLYENV=window.PLOTLYENV || {};                                    if (document.getElementById(\"1622ede2-c7dc-4263-bc0e-7ca58876294e\")) {                    Plotly.newPlot(                        \"1622ede2-c7dc-4263-bc0e-7ca58876294e\",                        [{\"colorscale\":[[0.0,\"#440154\"],[0.1111111111111111,\"#482878\"],[0.2222222222222222,\"#3e4989\"],[0.3333333333333333,\"#31688e\"],[0.4444444444444444,\"#26828e\"],[0.5555555555555556,\"#1f9e89\"],[0.6666666666666666,\"#35b779\"],[0.7777777777777778,\"#6ece58\"],[0.8888888888888888,\"#b5de2b\"],[1.0,\"#fde725\"]],\"opacity\":1.0,\"reversescale\":false,\"x\":[\"customer_zip_code_prefix\",\"price\",\"freight_value\",\"product_name_lenght\",\"product_description_lenght\",\"product_photos_qty\",\"review_score\",\"total_cost_value\"],\"y\":[\"customer_zip_code_prefix\",\"price\",\"freight_value\",\"product_name_lenght\",\"product_description_lenght\",\"product_photos_qty\",\"review_score\",\"total_cost_value\"],\"z\":[[1.0,0.04240270732136984,0.2256834108066053,0.016046744323740172,0.02380020420960666,0.019863092832944847,-0.02169316807579937,0.05970455650718985],[0.04240270732136984,1.0,0.4128463485733236,0.016854330514604197,0.19829814036966117,0.051081542784776036,-0.0044680088254905916,0.9970896893492288],[0.2256834108066053,0.4128463485733236,1.0,0.023428771234824904,0.0942275323117563,0.021909831258835402,-0.0373071799495243,0.48108197492253413],[0.016046744323740172,0.016854330514604197,0.023428771234824904,1.0,0.09104177072310761,0.14526654399924985,-0.006099162008103828,0.018183924284505208],[0.02380020420960666,0.19829814036966117,0.0942275323117563,0.09104177072310761,1.0,0.11828655587804981,0.01306186225945983,0.1987556827416643],[0.019863092832944847,0.051081542784776036,0.021909831258835402,0.14526654399924985,0.11828655587804981,1.0,0.02263617139249213,0.051001600673987804],[-0.02169316807579937,-0.0044680088254905916,-0.0373071799495243,-0.006099162008103828,0.01306186225945983,0.02263617139249213,1.0,-0.007423357690380167],[0.05970455650718985,0.9970896893492288,0.48108197492253413,0.018183924284505208,0.1987556827416643,0.051001600673987804,-0.007423357690380167,1.0]],\"type\":\"heatmap\"}],                        {\"height\":700,\"template\":{\"data\":{\"barpolar\":[{\"marker\":{\"line\":{\"color\":\"#E5ECF6\",\"width\":0.5},\"pattern\":{\"fillmode\":\"overlay\",\"size\":10,\"solidity\":0.2}},\"type\":\"barpolar\"}],\"bar\":[{\"error_x\":{\"color\":\"#2a3f5f\"},\"error_y\":{\"color\":\"#2a3f5f\"},\"marker\":{\"line\":{\"color\":\"#E5ECF6\",\"width\":0.5},\"pattern\":{\"fillmode\":\"overlay\",\"size\":10,\"solidity\":0.2}},\"type\":\"bar\"}],\"carpet\":[{\"aaxis\":{\"endlinecolor\":\"#2a3f5f\",\"gridcolor\":\"white\",\"linecolor\":\"white\",\"minorgridcolor\":\"white\",\"startlinecolor\":\"#2a3f5f\"},\"baxis\":{\"endlinecolor\":\"#2a3f5f\",\"gridcolor\":\"white\",\"linecolor\":\"white\",\"minorgridcolor\":\"white\",\"startlinecolor\":\"#2a3f5f\"},\"type\":\"carpet\"}],\"choropleth\":[{\"colorbar\":{\"outlinewidth\":0,\"ticks\":\"\"},\"type\":\"choropleth\"}],\"contourcarpet\":[{\"colorbar\":{\"outlinewidth\":0,\"ticks\":\"\"},\"type\":\"contourcarpet\"}],\"contour\":[{\"colorbar\":{\"outlinewidth\":0,\"ticks\":\"\"},\"colorscale\":[[0.0,\"#0d0887\"],[0.1111111111111111,\"#46039f\"],[0.2222222222222222,\"#7201a8\"],[0.3333333333333333,\"#9c179e\"],[0.4444444444444444,\"#bd3786\"],[0.5555555555555556,\"#d8576b\"],[0.6666666666666666,\"#ed7953\"],[0.7777777777777778,\"#fb9f3a\"],[0.8888888888888888,\"#fdca26\"],[1.0,\"#f0f921\"]],\"type\":\"contour\"}],\"heatmapgl\":[{\"colorbar\":{\"outlinewidth\":0,\"ticks\":\"\"},\"colorscale\":[[0.0,\"#0d0887\"],[0.1111111111111111,\"#46039f\"],[0.2222222222222222,\"#7201a8\"],[0.3333333333333333,\"#9c179e\"],[0.4444444444444444,\"#bd3786\"],[0.5555555555555556,\"#d8576b\"],[0.6666666666666666,\"#ed7953\"],[0.7777777777777778,\"#fb9f3a\"],[0.8888888888888888,\"#fdca26\"],[1.0,\"#f0f921\"]],\"type\":\"heatmapgl\"}],\"heatmap\":[{\"colorbar\":{\"outlinewidth\":0,\"ticks\":\"\"},\"colorscale\":[[0.0,\"#0d0887\"],[0.1111111111111111,\"#46039f\"],[0.2222222222222222,\"#7201a8\"],[0.3333333333333333,\"#9c179e\"],[0.4444444444444444,\"#bd3786\"],[0.5555555555555556,\"#d8576b\"],[0.6666666666666666,\"#ed7953\"],[0.7777777777777778,\"#fb9f3a\"],[0.8888888888888888,\"#fdca26\"],[1.0,\"#f0f921\"]],\"type\":\"heatmap\"}],\"histogram2dcontour\":[{\"colorbar\":{\"outlinewidth\":0,\"ticks\":\"\"},\"colorscale\":[[0.0,\"#0d0887\"],[0.1111111111111111,\"#46039f\"],[0.2222222222222222,\"#7201a8\"],[0.3333333333333333,\"#9c179e\"],[0.4444444444444444,\"#bd3786\"],[0.5555555555555556,\"#d8576b\"],[0.6666666666666666,\"#ed7953\"],[0.7777777777777778,\"#fb9f3a\"],[0.8888888888888888,\"#fdca26\"],[1.0,\"#f0f921\"]],\"type\":\"histogram2dcontour\"}],\"histogram2d\":[{\"colorbar\":{\"outlinewidth\":0,\"ticks\":\"\"},\"colorscale\":[[0.0,\"#0d0887\"],[0.1111111111111111,\"#46039f\"],[0.2222222222222222,\"#7201a8\"],[0.3333333333333333,\"#9c179e\"],[0.4444444444444444,\"#bd3786\"],[0.5555555555555556,\"#d8576b\"],[0.6666666666666666,\"#ed7953\"],[0.7777777777777778,\"#fb9f3a\"],[0.8888888888888888,\"#fdca26\"],[1.0,\"#f0f921\"]],\"type\":\"histogram2d\"}],\"histogram\":[{\"marker\":{\"pattern\":{\"fillmode\":\"overlay\",\"size\":10,\"solidity\":0.2}},\"type\":\"histogram\"}],\"mesh3d\":[{\"colorbar\":{\"outlinewidth\":0,\"ticks\":\"\"},\"type\":\"mesh3d\"}],\"parcoords\":[{\"line\":{\"colorbar\":{\"outlinewidth\":0,\"ticks\":\"\"}},\"type\":\"parcoords\"}],\"pie\":[{\"automargin\":true,\"type\":\"pie\"}],\"scatter3d\":[{\"line\":{\"colorbar\":{\"outlinewidth\":0,\"ticks\":\"\"}},\"marker\":{\"colorbar\":{\"outlinewidth\":0,\"ticks\":\"\"}},\"type\":\"scatter3d\"}],\"scattercarpet\":[{\"marker\":{\"colorbar\":{\"outlinewidth\":0,\"ticks\":\"\"}},\"type\":\"scattercarpet\"}],\"scattergeo\":[{\"marker\":{\"colorbar\":{\"outlinewidth\":0,\"ticks\":\"\"}},\"type\":\"scattergeo\"}],\"scattergl\":[{\"marker\":{\"colorbar\":{\"outlinewidth\":0,\"ticks\":\"\"}},\"type\":\"scattergl\"}],\"scattermapbox\":[{\"marker\":{\"colorbar\":{\"outlinewidth\":0,\"ticks\":\"\"}},\"type\":\"scattermapbox\"}],\"scatterpolargl\":[{\"marker\":{\"colorbar\":{\"outlinewidth\":0,\"ticks\":\"\"}},\"type\":\"scatterpolargl\"}],\"scatterpolar\":[{\"marker\":{\"colorbar\":{\"outlinewidth\":0,\"ticks\":\"\"}},\"type\":\"scatterpolar\"}],\"scatter\":[{\"marker\":{\"colorbar\":{\"outlinewidth\":0,\"ticks\":\"\"}},\"type\":\"scatter\"}],\"scatterternary\":[{\"marker\":{\"colorbar\":{\"outlinewidth\":0,\"ticks\":\"\"}},\"type\":\"scatterternary\"}],\"surface\":[{\"colorbar\":{\"outlinewidth\":0,\"ticks\":\"\"},\"colorscale\":[[0.0,\"#0d0887\"],[0.1111111111111111,\"#46039f\"],[0.2222222222222222,\"#7201a8\"],[0.3333333333333333,\"#9c179e\"],[0.4444444444444444,\"#bd3786\"],[0.5555555555555556,\"#d8576b\"],[0.6666666666666666,\"#ed7953\"],[0.7777777777777778,\"#fb9f3a\"],[0.8888888888888888,\"#fdca26\"],[1.0,\"#f0f921\"]],\"type\":\"surface\"}],\"table\":[{\"cells\":{\"fill\":{\"color\":\"#EBF0F8\"},\"line\":{\"color\":\"white\"}},\"header\":{\"fill\":{\"color\":\"#C8D4E3\"},\"line\":{\"color\":\"white\"}},\"type\":\"table\"}]},\"layout\":{\"annotationdefaults\":{\"arrowcolor\":\"#2a3f5f\",\"arrowhead\":0,\"arrowwidth\":1},\"autotypenumbers\":\"strict\",\"coloraxis\":{\"colorbar\":{\"outlinewidth\":0,\"ticks\":\"\"}},\"colorscale\":{\"diverging\":[[0,\"#8e0152\"],[0.1,\"#c51b7d\"],[0.2,\"#de77ae\"],[0.3,\"#f1b6da\"],[0.4,\"#fde0ef\"],[0.5,\"#f7f7f7\"],[0.6,\"#e6f5d0\"],[0.7,\"#b8e186\"],[0.8,\"#7fbc41\"],[0.9,\"#4d9221\"],[1,\"#276419\"]],\"sequential\":[[0.0,\"#0d0887\"],[0.1111111111111111,\"#46039f\"],[0.2222222222222222,\"#7201a8\"],[0.3333333333333333,\"#9c179e\"],[0.4444444444444444,\"#bd3786\"],[0.5555555555555556,\"#d8576b\"],[0.6666666666666666,\"#ed7953\"],[0.7777777777777778,\"#fb9f3a\"],[0.8888888888888888,\"#fdca26\"],[1.0,\"#f0f921\"]],\"sequentialminus\":[[0.0,\"#0d0887\"],[0.1111111111111111,\"#46039f\"],[0.2222222222222222,\"#7201a8\"],[0.3333333333333333,\"#9c179e\"],[0.4444444444444444,\"#bd3786\"],[0.5555555555555556,\"#d8576b\"],[0.6666666666666666,\"#ed7953\"],[0.7777777777777778,\"#fb9f3a\"],[0.8888888888888888,\"#fdca26\"],[1.0,\"#f0f921\"]]},\"colorway\":[\"#636efa\",\"#EF553B\",\"#00cc96\",\"#ab63fa\",\"#FFA15A\",\"#19d3f3\",\"#FF6692\",\"#B6E880\",\"#FF97FF\",\"#FECB52\"],\"font\":{\"color\":\"#2a3f5f\"},\"geo\":{\"bgcolor\":\"white\",\"lakecolor\":\"white\",\"landcolor\":\"#E5ECF6\",\"showlakes\":true,\"showland\":true,\"subunitcolor\":\"white\"},\"hoverlabel\":{\"align\":\"left\"},\"hovermode\":\"closest\",\"mapbox\":{\"style\":\"light\"},\"paper_bgcolor\":\"white\",\"plot_bgcolor\":\"#E5ECF6\",\"polar\":{\"angularaxis\":{\"gridcolor\":\"white\",\"linecolor\":\"white\",\"ticks\":\"\"},\"bgcolor\":\"#E5ECF6\",\"radialaxis\":{\"gridcolor\":\"white\",\"linecolor\":\"white\",\"ticks\":\"\"}},\"scene\":{\"xaxis\":{\"backgroundcolor\":\"#E5ECF6\",\"gridcolor\":\"white\",\"gridwidth\":2,\"linecolor\":\"white\",\"showbackground\":true,\"ticks\":\"\",\"zerolinecolor\":\"white\"},\"yaxis\":{\"backgroundcolor\":\"#E5ECF6\",\"gridcolor\":\"white\",\"gridwidth\":2,\"linecolor\":\"white\",\"showbackground\":true,\"ticks\":\"\",\"zerolinecolor\":\"white\"},\"zaxis\":{\"backgroundcolor\":\"#E5ECF6\",\"gridcolor\":\"white\",\"gridwidth\":2,\"linecolor\":\"white\",\"showbackground\":true,\"ticks\":\"\",\"zerolinecolor\":\"white\"}},\"shapedefaults\":{\"line\":{\"color\":\"#2a3f5f\"}},\"ternary\":{\"aaxis\":{\"gridcolor\":\"white\",\"linecolor\":\"white\",\"ticks\":\"\"},\"baxis\":{\"gridcolor\":\"white\",\"linecolor\":\"white\",\"ticks\":\"\"},\"bgcolor\":\"#E5ECF6\",\"caxis\":{\"gridcolor\":\"white\",\"linecolor\":\"white\",\"ticks\":\"\"}},\"title\":{\"x\":0.05},\"xaxis\":{\"automargin\":true,\"gridcolor\":\"white\",\"linecolor\":\"white\",\"ticks\":\"\",\"title\":{\"standoff\":15},\"zerolinecolor\":\"white\",\"zerolinewidth\":2},\"yaxis\":{\"automargin\":true,\"gridcolor\":\"white\",\"linecolor\":\"white\",\"ticks\":\"\",\"title\":{\"standoff\":15},\"zerolinecolor\":\"white\",\"zerolinewidth\":2}}},\"title\":{\"text\":\"\\uc22b\\uc790\\ud615 Feature \\ub4e4\\uc758 \\ud53c\\uc5b4\\uc2a8 \\uc0c1\\uad00\\uacc4\\uc218\"},\"width\":900,\"xaxis\":{\"nticks\":36,\"ticks\":\"\"},\"yaxis\":{\"ticks\":\"\"}},                        {\"responsive\": true}                    ).then(function(){\n",
              "                            \n",
              "var gd = document.getElementById('1622ede2-c7dc-4263-bc0e-7ca58876294e');\n",
              "var x = new MutationObserver(function (mutations, observer) {{\n",
              "        var display = window.getComputedStyle(gd).display;\n",
              "        if (!display || display === 'none') {{\n",
              "            console.log([gd, 'removed!']);\n",
              "            Plotly.purge(gd);\n",
              "            observer.disconnect();\n",
              "        }}\n",
              "}});\n",
              "\n",
              "// Listen for the removal of the full notebook cells\n",
              "var notebookContainer = gd.closest('#notebook-container');\n",
              "if (notebookContainer) {{\n",
              "    x.observe(notebookContainer, {childList: true});\n",
              "}}\n",
              "\n",
              "// Listen for the clearing of the current output cell\n",
              "var outputEl = gd.closest('.output');\n",
              "if (outputEl) {{\n",
              "    x.observe(outputEl, {childList: true});\n",
              "}}\n",
              "\n",
              "                        })                };                            </script>        </div>\n",
              "</body>\n",
              "</html>"
            ]
          },
          "metadata": {}
        }
      ]
    },
    {
      "cell_type": "code",
      "source": [
        "df_pd_num = df_pd_num.drop(['price'],axis=1)"
      ],
      "metadata": {
        "id": "5DUCQ7jaOK53"
      },
      "execution_count": null,
      "outputs": []
    },
    {
      "cell_type": "code",
      "source": [
        "sns.heatmap(df_pd_num.corr(),annot=True,cmap='Pastel1')"
      ],
      "metadata": {
        "id": "MANnpyco3p32",
        "colab": {
          "base_uri": "https://localhost:8080/",
          "height": 413
        },
        "outputId": "77466f41-b080-42fc-e95e-17003ab3c779"
      },
      "execution_count": null,
      "outputs": [
        {
          "output_type": "execute_result",
          "data": {
            "text/plain": [
              "<matplotlib.axes._subplots.AxesSubplot at 0x7f2c74214d50>"
            ]
          },
          "metadata": {},
          "execution_count": 27
        },
        {
          "output_type": "display_data",
          "data": {
            "text/plain": [
              "<Figure size 432x288 with 2 Axes>"
            ],
            "image/png": "[encoded data removed]"
          },
          "metadata": {
            "needs_background": "light"
          }
        }
      ]
    },
    {
      "cell_type": "code",
      "source": [
        "df_pd_num.isnull().sum()"
      ],
      "metadata": {
        "id": "8V7KQsn3s4ys",
        "colab": {
          "base_uri": "https://localhost:8080/"
        },
        "outputId": "c50ae8c3-c506-4c12-9210-09988b816a3e"
      },
      "execution_count": null,
      "outputs": [
        {
          "output_type": "execute_result",
          "data": {
            "text/plain": [
              "customer_zip_code_prefix      0\n",
              "freight_value                 0\n",
              "product_name_lenght           0\n",
              "product_description_lenght    0\n",
              "product_photos_qty            0\n",
              "review_score                  0\n",
              "total_cost_value              0\n",
              "dtype: int64"
            ]
          },
          "metadata": {},
          "execution_count": 28
        }
      ]
    },
    {
      "cell_type": "markdown",
      "source": [
        "## 범주형 Feature"
      ],
      "metadata": {
        "id": "wJ5xwEjlzqsW"
      }
    },
    {
      "cell_type": "markdown",
      "source": [
        "## Target Feature 정의"
      ],
      "metadata": {
        "id": "8T1ASWIH7f-6"
      }
    },
    {
      "cell_type": "code",
      "source": [
        "df_pd['Delivery_Accuracy']= df_pd['order_estimated_delivery_date'] - df_pd['order_delivered_customer_date']"
      ],
      "metadata": {
        "id": "ykh-rBJosadx"
      },
      "execution_count": null,
      "outputs": []
    },
    {
      "cell_type": "code",
      "source": [
        "df_pd['Delivery_Accuracy']=df_pd['Delivery_Accuracy'].dt.days"
      ],
      "metadata": {
        "id": "fhYBl92S5HAQ"
      },
      "execution_count": null,
      "outputs": []
    },
    {
      "cell_type": "code",
      "source": [
        "df_pd['arrival_time']= np.where(df_pd['Delivery_Accuracy'] >= 0, 0,1)"
      ],
      "metadata": {
        "id": "vqwvuKT34TvT"
      },
      "execution_count": null,
      "outputs": []
    },
    {
      "cell_type": "code",
      "source": [
        "df_pd.groupby('arrival_time').mean()"
      ],
      "metadata": {
        "colab": {
          "base_uri": "https://localhost:8080/",
          "height": 207
        },
        "id": "T06Ov0wg7kan",
        "outputId": "031e8187-ed02-46aa-cbd2-d661eb465c45"
      },
      "execution_count": null,
      "outputs": [
        {
          "output_type": "execute_result",
          "data": {
            "text/plain": [
              "              customer_zip_code_prefix       price  freight_value  \\\n",
              "arrival_time                                                        \n",
              "0                         34948.996511  118.755032      19.787522   \n",
              "1                         36755.050131  136.544712      22.113668   \n",
              "\n",
              "              product_name_lenght  product_description_lenght  \\\n",
              "arrival_time                                                    \n",
              "0                       48.792959                  785.990134   \n",
              "1                       48.619025                  794.344940   \n",
              "\n",
              "              product_photos_qty  review_score  total_cost_value  \\\n",
              "arrival_time                                                       \n",
              "0                       2.209011      4.212189        138.542554   \n",
              "1                       2.188013      2.384335        158.658379   \n",
              "\n",
              "              Delivery_Accuracy  \n",
              "arrival_time                     \n",
              "0                     12.823127  \n",
              "1                     -9.629053  "
            ],
            "text/html": [
              "\n",
              "  <div id=\"df-60f2bf95-dc53-45d7-892d-3c594ce122e6\">\n",
              "    <div class=\"colab-df-container\">\n",
              "      <div>\n",
              "<style scoped>\n",
              "    .dataframe tbody tr th:only-of-type {\n",
              "        vertical-align: middle;\n",
              "    }\n",
              "\n",
              "    .dataframe tbody tr th {\n",
              "        vertical-align: top;\n",
              "    }\n",
              "\n",
              "    .dataframe thead th {\n",
              "        text-align: right;\n",
              "    }\n",
              "</style>\n",
              "<table border=\"1\" class=\"dataframe\">\n",
              "  <thead>\n",
              "    <tr style=\"text-align: right;\">\n",
              "      <th></th>\n",
              "      <th>customer_zip_code_prefix</th>\n",
              "      <th>price</th>\n",
              "      <th>freight_value</th>\n",
              "      <th>product_name_lenght</th>\n",
              "      <th>product_description_lenght</th>\n",
              "      <th>product_photos_qty</th>\n",
              "      <th>review_score</th>\n",
              "      <th>total_cost_value</th>\n",
              "      <th>Delivery_Accuracy</th>\n",
              "    </tr>\n",
              "    <tr>\n",
              "      <th>arrival_time</th>\n",
              "      <th></th>\n",
              "      <th></th>\n",
              "      <th></th>\n",
              "      <th></th>\n",
              "      <th></th>\n",
              "      <th></th>\n",
              "      <th></th>\n",
              "      <th></th>\n",
              "      <th></th>\n",
              "    </tr>\n",
              "  </thead>\n",
              "  <tbody>\n",
              "    <tr>\n",
              "      <th>0</th>\n",
              "      <td>34948.996511</td>\n",
              "      <td>118.755032</td>\n",
              "      <td>19.787522</td>\n",
              "      <td>48.792959</td>\n",
              "      <td>785.990134</td>\n",
              "      <td>2.209011</td>\n",
              "      <td>4.212189</td>\n",
              "      <td>138.542554</td>\n",
              "      <td>12.823127</td>\n",
              "    </tr>\n",
              "    <tr>\n",
              "      <th>1</th>\n",
              "      <td>36755.050131</td>\n",
              "      <td>136.544712</td>\n",
              "      <td>22.113668</td>\n",
              "      <td>48.619025</td>\n",
              "      <td>794.344940</td>\n",
              "      <td>2.188013</td>\n",
              "      <td>2.384335</td>\n",
              "      <td>158.658379</td>\n",
              "      <td>-9.629053</td>\n",
              "    </tr>\n",
              "  </tbody>\n",
              "</table>\n",
              "</div>\n",
              "      <button class=\"colab-df-convert\" onclick=\"convertToInteractive('df-60f2bf95-dc53-45d7-892d-3c594ce122e6')\"\n",
              "              title=\"Convert this dataframe to an interactive table.\"\n",
              "              style=\"display:none;\">\n",
              "        \n",
              "  <svg xmlns=\"http://www.w3.org/2000/svg\" height=\"24px\"viewBox=\"0 0 24 24\"\n",
              "       width=\"24px\">\n",
              "    <path d=\"M0 0h24v24H0V0z\" fill=\"none\"/>\n",
              "    <path d=\"M18.56 5.44l.94 2.06.94-2.06 2.06-.94-2.06-.94-.94-2.06-.94 2.06-2.06.94zm-11 1L8.5 8.5l.94-2.06 2.06-.94-2.06-.94L8.5 2.5l-.94 2.06-2.06.94zm10 10l.94 2.06.94-2.06 2.06-.94-2.06-.94-.94-2.06-.94 2.06-2.06.94z\"/><path d=\"M17.41 7.96l-1.37-1.37c-.4-.4-.92-.59-1.43-.59-.52 0-1.04.2-1.43.59L10.3 9.45l-7.72 7.72c-.78.78-.78 2.05 0 2.83L4 21.41c.39.39.9.59 1.41.59.51 0 1.02-.2 1.41-.59l7.78-7.78 2.81-2.81c.8-.78.8-2.07 0-2.86zM5.41 20L4 18.59l7.72-7.72 1.47 1.35L5.41 20z\"/>\n",
              "  </svg>\n",
              "      </button>\n",
              "      \n",
              "  <style>\n",
              "    .colab-df-container {\n",
              "      display:flex;\n",
              "      flex-wrap:wrap;\n",
              "      gap: 12px;\n",
              "    }\n",
              "\n",
              "    .colab-df-convert {\n",
              "      background-color: #E8F0FE;\n",
              "      border: none;\n",
              "      border-radius: 50%;\n",
              "      cursor: pointer;\n",
              "      display: none;\n",
              "      fill: #1967D2;\n",
              "      height: 32px;\n",
              "      padding: 0 0 0 0;\n",
              "      width: 32px;\n",
              "    }\n",
              "\n",
              "    .colab-df-convert:hover {\n",
              "      background-color: #E2EBFA;\n",
              "      box-shadow: 0px 1px 2px rgba(60, 64, 67, 0.3), 0px 1px 3px 1px rgba(60, 64, 67, 0.15);\n",
              "      fill: #174EA6;\n",
              "    }\n",
              "\n",
              "    [theme=dark] .colab-df-convert {\n",
              "      background-color: #3B4455;\n",
              "      fill: #D2E3FC;\n",
              "    }\n",
              "\n",
              "    [theme=dark] .colab-df-convert:hover {\n",
              "      background-color: #434B5C;\n",
              "      box-shadow: 0px 1px 3px 1px rgba(0, 0, 0, 0.15);\n",
              "      filter: drop-shadow(0px 1px 2px rgba(0, 0, 0, 0.3));\n",
              "      fill: #FFFFFF;\n",
              "    }\n",
              "  </style>\n",
              "\n",
              "      <script>\n",
              "        const buttonEl =\n",
              "          document.querySelector('#df-60f2bf95-dc53-45d7-892d-3c594ce122e6 button.colab-df-convert');\n",
              "        buttonEl.style.display =\n",
              "          google.colab.kernel.accessAllowed ? 'block' : 'none';\n",
              "\n",
              "        async function convertToInteractive(key) {\n",
              "          const element = document.querySelector('#df-60f2bf95-dc53-45d7-892d-3c594ce122e6');\n",
              "          const dataTable =\n",
              "            await google.colab.kernel.invokeFunction('convertToInteractive',\n",
              "                                                     [key], {});\n",
              "          if (!dataTable) return;\n",
              "\n",
              "          const docLinkHtml = 'Like what you see? Visit the ' +\n",
              "            '<a target=\"_blank\" href=https://colab.research.google.com/notebooks/data_table.ipynb>data table notebook</a>'\n",
              "            + ' to learn more about interactive tables.';\n",
              "          element.innerHTML = '';\n",
              "          dataTable['output_type'] = 'display_data';\n",
              "          await google.colab.output.renderOutput(dataTable, element);\n",
              "          const docLink = document.createElement('div');\n",
              "          docLink.innerHTML = docLinkHtml;\n",
              "          element.appendChild(docLink);\n",
              "        }\n",
              "      </script>\n",
              "    </div>\n",
              "  </div>\n",
              "  "
            ]
          },
          "metadata": {},
          "execution_count": 32
        }
      ]
    },
    {
      "cell_type": "code",
      "source": [
        "df_pd.groupby('arrival_time').median()"
      ],
      "metadata": {
        "colab": {
          "base_uri": "https://localhost:8080/",
          "height": 207
        },
        "id": "SgjNo9Fm8DfW",
        "outputId": "bb4545ae-3601-426b-9710-f4d7219c0921"
      },
      "execution_count": null,
      "outputs": [
        {
          "output_type": "execute_result",
          "data": {
            "text/plain": [
              "              customer_zip_code_prefix  price  freight_value  \\\n",
              "arrival_time                                                   \n",
              "0                              24020.0  74.00         16.180   \n",
              "1                              27914.0  79.99         17.215   \n",
              "\n",
              "              product_name_lenght  product_description_lenght  \\\n",
              "arrival_time                                                    \n",
              "0                            52.0                       601.0   \n",
              "1                            51.0                       602.0   \n",
              "\n",
              "              product_photos_qty  review_score  total_cost_value  \\\n",
              "arrival_time                                                       \n",
              "0                            1.0           5.0            91.230   \n",
              "1                            1.0           1.0            99.925   \n",
              "\n",
              "              Delivery_Accuracy  \n",
              "arrival_time                     \n",
              "0                          12.0  \n",
              "1                          -6.0  "
            ],
            "text/html": [
              "\n",
              "  <div id=\"df-5483d95a-6c28-4bb7-b58a-20148f11f027\">\n",
              "    <div class=\"colab-df-container\">\n",
              "      <div>\n",
              "<style scoped>\n",
              "    .dataframe tbody tr th:only-of-type {\n",
              "        vertical-align: middle;\n",
              "    }\n",
              "\n",
              "    .dataframe tbody tr th {\n",
              "        vertical-align: top;\n",
              "    }\n",
              "\n",
              "    .dataframe thead th {\n",
              "        text-align: right;\n",
              "    }\n",
              "</style>\n",
              "<table border=\"1\" class=\"dataframe\">\n",
              "  <thead>\n",
              "    <tr style=\"text-align: right;\">\n",
              "      <th></th>\n",
              "      <th>customer_zip_code_prefix</th>\n",
              "      <th>price</th>\n",
              "      <th>freight_value</th>\n",
              "      <th>product_name_lenght</th>\n",
              "      <th>product_description_lenght</th>\n",
              "      <th>product_photos_qty</th>\n",
              "      <th>review_score</th>\n",
              "      <th>total_cost_value</th>\n",
              "      <th>Delivery_Accuracy</th>\n",
              "    </tr>\n",
              "    <tr>\n",
              "      <th>arrival_time</th>\n",
              "      <th></th>\n",
              "      <th></th>\n",
              "      <th></th>\n",
              "      <th></th>\n",
              "      <th></th>\n",
              "      <th></th>\n",
              "      <th></th>\n",
              "      <th></th>\n",
              "      <th></th>\n",
              "    </tr>\n",
              "  </thead>\n",
              "  <tbody>\n",
              "    <tr>\n",
              "      <th>0</th>\n",
              "      <td>24020.0</td>\n",
              "      <td>74.00</td>\n",
              "      <td>16.180</td>\n",
              "      <td>52.0</td>\n",
              "      <td>601.0</td>\n",
              "      <td>1.0</td>\n",
              "      <td>5.0</td>\n",
              "      <td>91.230</td>\n",
              "      <td>12.0</td>\n",
              "    </tr>\n",
              "    <tr>\n",
              "      <th>1</th>\n",
              "      <td>27914.0</td>\n",
              "      <td>79.99</td>\n",
              "      <td>17.215</td>\n",
              "      <td>51.0</td>\n",
              "      <td>602.0</td>\n",
              "      <td>1.0</td>\n",
              "      <td>1.0</td>\n",
              "      <td>99.925</td>\n",
              "      <td>-6.0</td>\n",
              "    </tr>\n",
              "  </tbody>\n",
              "</table>\n",
              "</div>\n",
              "      <button class=\"colab-df-convert\" onclick=\"convertToInteractive('df-5483d95a-6c28-4bb7-b58a-20148f11f027')\"\n",
              "              title=\"Convert this dataframe to an interactive table.\"\n",
              "              style=\"display:none;\">\n",
              "        \n",
              "  <svg xmlns=\"http://www.w3.org/2000/svg\" height=\"24px\"viewBox=\"0 0 24 24\"\n",
              "       width=\"24px\">\n",
              "    <path d=\"M0 0h24v24H0V0z\" fill=\"none\"/>\n",
              "    <path d=\"M18.56 5.44l.94 2.06.94-2.06 2.06-.94-2.06-.94-.94-2.06-.94 2.06-2.06.94zm-11 1L8.5 8.5l.94-2.06 2.06-.94-2.06-.94L8.5 2.5l-.94 2.06-2.06.94zm10 10l.94 2.06.94-2.06 2.06-.94-2.06-.94-.94-2.06-.94 2.06-2.06.94z\"/><path d=\"M17.41 7.96l-1.37-1.37c-.4-.4-.92-.59-1.43-.59-.52 0-1.04.2-1.43.59L10.3 9.45l-7.72 7.72c-.78.78-.78 2.05 0 2.83L4 21.41c.39.39.9.59 1.41.59.51 0 1.02-.2 1.41-.59l7.78-7.78 2.81-2.81c.8-.78.8-2.07 0-2.86zM5.41 20L4 18.59l7.72-7.72 1.47 1.35L5.41 20z\"/>\n",
              "  </svg>\n",
              "      </button>\n",
              "      \n",
              "  <style>\n",
              "    .colab-df-container {\n",
              "      display:flex;\n",
              "      flex-wrap:wrap;\n",
              "      gap: 12px;\n",
              "    }\n",
              "\n",
              "    .colab-df-convert {\n",
              "      background-color: #E8F0FE;\n",
              "      border: none;\n",
              "      border-radius: 50%;\n",
              "      cursor: pointer;\n",
              "      display: none;\n",
              "      fill: #1967D2;\n",
              "      height: 32px;\n",
              "      padding: 0 0 0 0;\n",
              "      width: 32px;\n",
              "    }\n",
              "\n",
              "    .colab-df-convert:hover {\n",
              "      background-color: #E2EBFA;\n",
              "      box-shadow: 0px 1px 2px rgba(60, 64, 67, 0.3), 0px 1px 3px 1px rgba(60, 64, 67, 0.15);\n",
              "      fill: #174EA6;\n",
              "    }\n",
              "\n",
              "    [theme=dark] .colab-df-convert {\n",
              "      background-color: #3B4455;\n",
              "      fill: #D2E3FC;\n",
              "    }\n",
              "\n",
              "    [theme=dark] .colab-df-convert:hover {\n",
              "      background-color: #434B5C;\n",
              "      box-shadow: 0px 1px 3px 1px rgba(0, 0, 0, 0.15);\n",
              "      filter: drop-shadow(0px 1px 2px rgba(0, 0, 0, 0.3));\n",
              "      fill: #FFFFFF;\n",
              "    }\n",
              "  </style>\n",
              "\n",
              "      <script>\n",
              "        const buttonEl =\n",
              "          document.querySelector('#df-5483d95a-6c28-4bb7-b58a-20148f11f027 button.colab-df-convert');\n",
              "        buttonEl.style.display =\n",
              "          google.colab.kernel.accessAllowed ? 'block' : 'none';\n",
              "\n",
              "        async function convertToInteractive(key) {\n",
              "          const element = document.querySelector('#df-5483d95a-6c28-4bb7-b58a-20148f11f027');\n",
              "          const dataTable =\n",
              "            await google.colab.kernel.invokeFunction('convertToInteractive',\n",
              "                                                     [key], {});\n",
              "          if (!dataTable) return;\n",
              "\n",
              "          const docLinkHtml = 'Like what you see? Visit the ' +\n",
              "            '<a target=\"_blank\" href=https://colab.research.google.com/notebooks/data_table.ipynb>data table notebook</a>'\n",
              "            + ' to learn more about interactive tables.';\n",
              "          element.innerHTML = '';\n",
              "          dataTable['output_type'] = 'display_data';\n",
              "          await google.colab.output.renderOutput(dataTable, element);\n",
              "          const docLink = document.createElement('div');\n",
              "          docLink.innerHTML = docLinkHtml;\n",
              "          element.appendChild(docLink);\n",
              "        }\n",
              "      </script>\n",
              "    </div>\n",
              "  </div>\n",
              "  "
            ]
          },
          "metadata": {},
          "execution_count": 33
        }
      ]
    },
    {
      "cell_type": "code",
      "source": [
        "y =df_pd['arrival_time'].copy()\n",
        "y.value_counts()"
      ],
      "metadata": {
        "colab": {
          "base_uri": "https://localhost:8080/"
        },
        "id": "uT1_MLnp8GmH",
        "outputId": "6dc1ea64-67bb-46f5-9c2d-48ec516a276d"
      },
      "execution_count": null,
      "outputs": [
        {
          "output_type": "execute_result",
          "data": {
            "text/plain": [
              "0    100038\n",
              "1     10712\n",
              "Name: arrival_time, dtype: int64"
            ]
          },
          "metadata": {},
          "execution_count": 34
        }
      ]
    },
    {
      "cell_type": "markdown",
      "source": [
        "Feature 별 유일한 값 개수 확인"
      ],
      "metadata": {
        "id": "7R8vT5D6z-gB"
      }
    },
    {
      "cell_type": "code",
      "source": [
        "### 학습에 필요없는 변수 버리기\n",
        "df_pd = df_pd.drop(['order_purchase_timestamp', 'order_delivered_carrier_date',\n",
        "'order_delivered_customer_date', 'order_estimated_delivery_date',\n",
        "'shipping_limit_date', 'customer_unique_id', 'seller_id', 'product_id',\n",
        "'customer_zip_code_prefix','customer_city','customer_state','Delivery_Accuracy','product_category_name_english'],axis=1)"
      ],
      "metadata": {
        "id": "Zv6nOVti60ue"
      },
      "execution_count": null,
      "outputs": []
    },
    {
      "cell_type": "code",
      "source": [
        "df_pd.info()"
      ],
      "metadata": {
        "colab": {
          "base_uri": "https://localhost:8080/"
        },
        "id": "oJtdkpaJoGxM",
        "outputId": "bc12fdb6-9026-4356-b067-eee6d5dcd597"
      },
      "execution_count": null,
      "outputs": [
        {
          "output_type": "stream",
          "name": "stdout",
          "text": [
            "<class 'pandas.core.frame.DataFrame'>\n",
            "Int64Index: 110750 entries, 0 to 110749\n",
            "Data columns (total 8 columns):\n",
            " #   Column                      Non-Null Count   Dtype  \n",
            "---  ------                      --------------   -----  \n",
            " 0   price                       110750 non-null  float64\n",
            " 1   freight_value               110750 non-null  float64\n",
            " 2   product_name_lenght         110750 non-null  float64\n",
            " 3   product_description_lenght  110750 non-null  float64\n",
            " 4   product_photos_qty          110750 non-null  float64\n",
            " 5   review_score                110750 non-null  int64  \n",
            " 6   total_cost_value            110750 non-null  float64\n",
            " 7   arrival_time                110750 non-null  int64  \n",
            "dtypes: float64(6), int64(2)\n",
            "memory usage: 7.6 MB\n"
          ]
        }
      ]
    },
    {
      "cell_type": "code",
      "source": [
        "df_pd.isnull().sum()"
      ],
      "metadata": {
        "colab": {
          "base_uri": "https://localhost:8080/"
        },
        "id": "_Uq6L0_cm-ks",
        "outputId": "af1c7901-c2bb-41ee-c3bf-e0e06f0dc13e"
      },
      "execution_count": null,
      "outputs": [
        {
          "output_type": "execute_result",
          "data": {
            "text/plain": [
              "price                         0\n",
              "freight_value                 0\n",
              "product_name_lenght           0\n",
              "product_description_lenght    0\n",
              "product_photos_qty            0\n",
              "review_score                  0\n",
              "total_cost_value              0\n",
              "arrival_time                  0\n",
              "dtype: int64"
            ]
          },
          "metadata": {},
          "execution_count": 37
        }
      ]
    },
    {
      "cell_type": "markdown",
      "source": [
        "Feature별 개수 시각화"
      ],
      "metadata": {
        "id": "h0MvV1od0hC7"
      }
    },
    {
      "cell_type": "markdown",
      "source": [
        "Feature 인코딩 "
      ],
      "metadata": {
        "id": "lo3ZY-JD0tbF"
      }
    },
    {
      "cell_type": "code",
      "source": [
        "df_pd_num.info()"
      ],
      "metadata": {
        "colab": {
          "base_uri": "https://localhost:8080/"
        },
        "id": "9-Bq7NL8Hz2p",
        "outputId": "d6e453dd-ac97-4437-bf5f-5b3febf3736d"
      },
      "execution_count": null,
      "outputs": [
        {
          "output_type": "stream",
          "name": "stdout",
          "text": [
            "<class 'pandas.core.frame.DataFrame'>\n",
            "Int64Index: 110750 entries, 0 to 110749\n",
            "Data columns (total 7 columns):\n",
            " #   Column                      Non-Null Count   Dtype  \n",
            "---  ------                      --------------   -----  \n",
            " 0   customer_zip_code_prefix    110750 non-null  int64  \n",
            " 1   freight_value               110750 non-null  float64\n",
            " 2   product_name_lenght         110750 non-null  float64\n",
            " 3   product_description_lenght  110750 non-null  float64\n",
            " 4   product_photos_qty          110750 non-null  float64\n",
            " 5   review_score                110750 non-null  int64  \n",
            " 6   total_cost_value            110750 non-null  float64\n",
            "dtypes: float64(5), int64(2)\n",
            "memory usage: 6.8 MB\n"
          ]
        }
      ]
    },
    {
      "cell_type": "markdown",
      "source": [
        "상관계수 구하기"
      ],
      "metadata": {
        "id": "lNxa7H4e1XsK"
      }
    },
    {
      "cell_type": "code",
      "source": [
        "df_pd.isnull().sum()"
      ],
      "metadata": {
        "id": "17tDuEvk600E",
        "colab": {
          "base_uri": "https://localhost:8080/"
        },
        "outputId": "369cde1c-23d7-45bb-c3a2-738e307cf94b"
      },
      "execution_count": null,
      "outputs": [
        {
          "output_type": "execute_result",
          "data": {
            "text/plain": [
              "price                         0\n",
              "freight_value                 0\n",
              "product_name_lenght           0\n",
              "product_description_lenght    0\n",
              "product_photos_qty            0\n",
              "review_score                  0\n",
              "total_cost_value              0\n",
              "arrival_time                  0\n",
              "dtype: int64"
            ]
          },
          "metadata": {},
          "execution_count": 45
        }
      ]
    },
    {
      "cell_type": "code",
      "source": [
        "df_pd.info()"
      ],
      "metadata": {
        "id": "R_XEFlZ260xq",
        "colab": {
          "base_uri": "https://localhost:8080/"
        },
        "outputId": "fb444835-d27c-4461-d0b9-99fc5a3fddaf"
      },
      "execution_count": null,
      "outputs": [
        {
          "output_type": "stream",
          "name": "stdout",
          "text": [
            "<class 'pandas.core.frame.DataFrame'>\n",
            "Int64Index: 110750 entries, 0 to 110749\n",
            "Data columns (total 8 columns):\n",
            " #   Column                      Non-Null Count   Dtype  \n",
            "---  ------                      --------------   -----  \n",
            " 0   price                       110750 non-null  float64\n",
            " 1   freight_value               110750 non-null  float64\n",
            " 2   product_name_lenght         110750 non-null  float64\n",
            " 3   product_description_lenght  110750 non-null  float64\n",
            " 4   product_photos_qty          110750 non-null  float64\n",
            " 5   review_score                110750 non-null  int64  \n",
            " 6   total_cost_value            110750 non-null  float64\n",
            " 7   arrival_time                110750 non-null  int64  \n",
            "dtypes: float64(6), int64(2)\n",
            "memory usage: 7.6 MB\n"
          ]
        }
      ]
    },
    {
      "cell_type": "markdown",
      "source": [
        "< 최종 dataset >\n",
        "Name Type Description\t\t\t\n",
        "Review rating score Ordinal Exact costumer review score\t\t\t\n",
        "Customer city Nominal Customer city name\t\t\t\n",
        "Customer state Nominal Customer state\t\t\t\n",
        "Price Continuous Item price\t\t\t\n",
        "Freight value Continuous Freight value of the item\t\t\t\n",
        "Product name length Discrete Number of characters extracted from the\t\t\t\n",
        "product name\t\t\t\n",
        "Product description length Discrete Number of characters extracted from the\t\t\t\n",
        "product description\t\t\t\n",
        "Product photos quantity Discrete Number of the available product photos\t\t\t\n",
        "Delivery accuracy Continuous order_estimated_delivery_date -\t\t\t\n",
        "order_delivered_customer_date\t\t\t\n",
        "Arrival time Binary\t\t\t\n",
        "Early/On time for positive or equal to zero\t\t\t\n",
        "delivery accuracy values\t\t\t\n",
        "Late for negative delivery accuracy values\t\t\t\n",
        "Total Value Continuous The sum of freight and product price value\t\t\t\n",
        "Target score Binary (two classes) Class 0: Low rating score (review score < 3)\t\t\t\n",
        "Class 1: High rating score (3 ≤ review score ≤ 5)\t\t\t"
      ],
      "metadata": {
        "id": "n_81DdsN9GxD"
      }
    },
    {
      "cell_type": "code",
      "source": [
        "df_pd['arrival_time'].value_counts()"
      ],
      "metadata": {
        "colab": {
          "base_uri": "https://localhost:8080/"
        },
        "id": "Cv8dfHKMFkoR",
        "outputId": "9f4c559f-8326-41f4-a366-1dbbea6c63f1"
      },
      "execution_count": null,
      "outputs": [
        {
          "output_type": "execute_result",
          "data": {
            "text/plain": [
              "0    100038\n",
              "1     10712\n",
              "Name: arrival_time, dtype: int64"
            ]
          },
          "metadata": {},
          "execution_count": 47
        }
      ]
    },
    {
      "cell_type": "code",
      "source": [
        "df_pd_final = pd.concat([df_pd['arrival_time'],df_pd_num], axis=1)"
      ],
      "metadata": {
        "id": "zNuuhKWJRY-O"
      },
      "execution_count": null,
      "outputs": []
    },
    {
      "cell_type": "code",
      "source": [
        "target =df_pd['arrival_time']\n",
        "target"
      ],
      "metadata": {
        "colab": {
          "base_uri": "https://localhost:8080/"
        },
        "id": "x4zob7mlT8VT",
        "outputId": "29aecf19-553c-4166-f944-0f31cc2c3170"
      },
      "execution_count": null,
      "outputs": [
        {
          "output_type": "execute_result",
          "data": {
            "text/plain": [
              "0         0\n",
              "1         0\n",
              "2         0\n",
              "3         0\n",
              "4         0\n",
              "         ..\n",
              "110745    0\n",
              "110746    0\n",
              "110747    0\n",
              "110748    0\n",
              "110749    0\n",
              "Name: arrival_time, Length: 110750, dtype: int64"
            ]
          },
          "metadata": {},
          "execution_count": 52
        }
      ]
    },
    {
      "cell_type": "code",
      "source": [
        "X=df_pd_num\n",
        "Y=df_pd[\"arrival_time\"]"
      ],
      "metadata": {
        "id": "L3IbtCEDLFZP"
      },
      "execution_count": null,
      "outputs": []
    },
    {
      "cell_type": "code",
      "source": [
        "X.info()"
      ],
      "metadata": {
        "id": "MpSY3urUHFki",
        "colab": {
          "base_uri": "https://localhost:8080/"
        },
        "outputId": "a13535a6-733e-4b31-87c6-1de801153edc"
      },
      "execution_count": null,
      "outputs": [
        {
          "output_type": "stream",
          "name": "stdout",
          "text": [
            "<class 'pandas.core.frame.DataFrame'>\n",
            "Int64Index: 110750 entries, 0 to 110749\n",
            "Data columns (total 7 columns):\n",
            " #   Column                      Non-Null Count   Dtype  \n",
            "---  ------                      --------------   -----  \n",
            " 0   customer_zip_code_prefix    110750 non-null  int64  \n",
            " 1   freight_value               110750 non-null  float64\n",
            " 2   product_name_lenght         110750 non-null  float64\n",
            " 3   product_description_lenght  110750 non-null  float64\n",
            " 4   product_photos_qty          110750 non-null  float64\n",
            " 5   review_score                110750 non-null  int64  \n",
            " 6   total_cost_value            110750 non-null  float64\n",
            "dtypes: float64(5), int64(2)\n",
            "memory usage: 6.8 MB\n"
          ]
        }
      ]
    },
    {
      "cell_type": "code",
      "source": [
        "from sklearn.model_selection import train_test_split"
      ],
      "metadata": {
        "id": "lh6gdrlPRZtt"
      },
      "execution_count": null,
      "outputs": []
    },
    {
      "cell_type": "code",
      "source": [
        "X_train,X_test,y_train,y_test=train_test_split(X,Y,\n",
        "                                               test_size=0.2)"
      ],
      "metadata": {
        "id": "yx2iq-g2LUmr"
      },
      "execution_count": null,
      "outputs": []
    },
    {
      "cell_type": "code",
      "source": [
        "df_pd_final.isnull().sum().any()"
      ],
      "metadata": {
        "colab": {
          "base_uri": "https://localhost:8080/"
        },
        "id": "GZF-ziIh4vVc",
        "outputId": "918d5a68-fbbc-4406-d5f2-1c968f75a43e"
      },
      "execution_count": null,
      "outputs": [
        {
          "output_type": "execute_result",
          "data": {
            "text/plain": [
              "False"
            ]
          },
          "metadata": {},
          "execution_count": 54
        }
      ]
    },
    {
      "cell_type": "code",
      "source": [
        "df_pd_final.head()"
      ],
      "metadata": {
        "colab": {
          "base_uri": "https://localhost:8080/",
          "height": 270
        },
        "id": "PnLVPEbHRZ0U",
        "outputId": "d29e5d4e-4f12-45fe-e8d5-6b2ae5091099"
      },
      "execution_count": null,
      "outputs": [
        {
          "output_type": "execute_result",
          "data": {
            "text/plain": [
              "   arrival_time  customer_zip_code_prefix  freight_value  product_name_lenght  \\\n",
              "0             0                     14409          21.88                 41.0   \n",
              "1             0                     68030          24.90                 41.0   \n",
              "2             0                     68030          24.90                 41.0   \n",
              "3             0                     92480          15.62                 41.0   \n",
              "4             0                     25931          30.59                 41.0   \n",
              "\n",
              "   product_description_lenght  product_photos_qty  review_score  \\\n",
              "0                      1141.0                 1.0             4   \n",
              "1                      1141.0                 1.0             1   \n",
              "2                      1141.0                 1.0             1   \n",
              "3                      1141.0                 1.0             3   \n",
              "4                      1141.0                 1.0             4   \n",
              "\n",
              "   total_cost_value  \n",
              "0            146.87  \n",
              "1            137.89  \n",
              "2            137.89  \n",
              "3            140.61  \n",
              "4            137.58  "
            ],
            "text/html": [
              "\n",
              "  <div id=\"df-f7b4cbf4-25c1-4748-a46d-6d063c9a96f0\">\n",
              "    <div class=\"colab-df-container\">\n",
              "      <div>\n",
              "<style scoped>\n",
              "    .dataframe tbody tr th:only-of-type {\n",
              "        vertical-align: middle;\n",
              "    }\n",
              "\n",
              "    .dataframe tbody tr th {\n",
              "        vertical-align: top;\n",
              "    }\n",
              "\n",
              "    .dataframe thead th {\n",
              "        text-align: right;\n",
              "    }\n",
              "</style>\n",
              "<table border=\"1\" class=\"dataframe\">\n",
              "  <thead>\n",
              "    <tr style=\"text-align: right;\">\n",
              "      <th></th>\n",
              "      <th>arrival_time</th>\n",
              "      <th>customer_zip_code_prefix</th>\n",
              "      <th>freight_value</th>\n",
              "      <th>product_name_lenght</th>\n",
              "      <th>product_description_lenght</th>\n",
              "      <th>product_photos_qty</th>\n",
              "      <th>review_score</th>\n",
              "      <th>total_cost_value</th>\n",
              "    </tr>\n",
              "  </thead>\n",
              "  <tbody>\n",
              "    <tr>\n",
              "      <th>0</th>\n",
              "      <td>0</td>\n",
              "      <td>14409</td>\n",
              "      <td>21.88</td>\n",
              "      <td>41.0</td>\n",
              "      <td>1141.0</td>\n",
              "      <td>1.0</td>\n",
              "      <td>4</td>\n",
              "      <td>146.87</td>\n",
              "    </tr>\n",
              "    <tr>\n",
              "      <th>1</th>\n",
              "      <td>0</td>\n",
              "      <td>68030</td>\n",
              "      <td>24.90</td>\n",
              "      <td>41.0</td>\n",
              "      <td>1141.0</td>\n",
              "      <td>1.0</td>\n",
              "      <td>1</td>\n",
              "      <td>137.89</td>\n",
              "    </tr>\n",
              "    <tr>\n",
              "      <th>2</th>\n",
              "      <td>0</td>\n",
              "      <td>68030</td>\n",
              "      <td>24.90</td>\n",
              "      <td>41.0</td>\n",
              "      <td>1141.0</td>\n",
              "      <td>1.0</td>\n",
              "      <td>1</td>\n",
              "      <td>137.89</td>\n",
              "    </tr>\n",
              "    <tr>\n",
              "      <th>3</th>\n",
              "      <td>0</td>\n",
              "      <td>92480</td>\n",
              "      <td>15.62</td>\n",
              "      <td>41.0</td>\n",
              "      <td>1141.0</td>\n",
              "      <td>1.0</td>\n",
              "      <td>3</td>\n",
              "      <td>140.61</td>\n",
              "    </tr>\n",
              "    <tr>\n",
              "      <th>4</th>\n",
              "      <td>0</td>\n",
              "      <td>25931</td>\n",
              "      <td>30.59</td>\n",
              "      <td>41.0</td>\n",
              "      <td>1141.0</td>\n",
              "      <td>1.0</td>\n",
              "      <td>4</td>\n",
              "      <td>137.58</td>\n",
              "    </tr>\n",
              "  </tbody>\n",
              "</table>\n",
              "</div>\n",
              "      <button class=\"colab-df-convert\" onclick=\"convertToInteractive('df-f7b4cbf4-25c1-4748-a46d-6d063c9a96f0')\"\n",
              "              title=\"Convert this dataframe to an interactive table.\"\n",
              "              style=\"display:none;\">\n",
              "        \n",
              "  <svg xmlns=\"http://www.w3.org/2000/svg\" height=\"24px\"viewBox=\"0 0 24 24\"\n",
              "       width=\"24px\">\n",
              "    <path d=\"M0 0h24v24H0V0z\" fill=\"none\"/>\n",
              "    <path d=\"M18.56 5.44l.94 2.06.94-2.06 2.06-.94-2.06-.94-.94-2.06-.94 2.06-2.06.94zm-11 1L8.5 8.5l.94-2.06 2.06-.94-2.06-.94L8.5 2.5l-.94 2.06-2.06.94zm10 10l.94 2.06.94-2.06 2.06-.94-2.06-.94-.94-2.06-.94 2.06-2.06.94z\"/><path d=\"M17.41 7.96l-1.37-1.37c-.4-.4-.92-.59-1.43-.59-.52 0-1.04.2-1.43.59L10.3 9.45l-7.72 7.72c-.78.78-.78 2.05 0 2.83L4 21.41c.39.39.9.59 1.41.59.51 0 1.02-.2 1.41-.59l7.78-7.78 2.81-2.81c.8-.78.8-2.07 0-2.86zM5.41 20L4 18.59l7.72-7.72 1.47 1.35L5.41 20z\"/>\n",
              "  </svg>\n",
              "      </button>\n",
              "      \n",
              "  <style>\n",
              "    .colab-df-container {\n",
              "      display:flex;\n",
              "      flex-wrap:wrap;\n",
              "      gap: 12px;\n",
              "    }\n",
              "\n",
              "    .colab-df-convert {\n",
              "      background-color: #E8F0FE;\n",
              "      border: none;\n",
              "      border-radius: 50%;\n",
              "      cursor: pointer;\n",
              "      display: none;\n",
              "      fill: #1967D2;\n",
              "      height: 32px;\n",
              "      padding: 0 0 0 0;\n",
              "      width: 32px;\n",
              "    }\n",
              "\n",
              "    .colab-df-convert:hover {\n",
              "      background-color: #E2EBFA;\n",
              "      box-shadow: 0px 1px 2px rgba(60, 64, 67, 0.3), 0px 1px 3px 1px rgba(60, 64, 67, 0.15);\n",
              "      fill: #174EA6;\n",
              "    }\n",
              "\n",
              "    [theme=dark] .colab-df-convert {\n",
              "      background-color: #3B4455;\n",
              "      fill: #D2E3FC;\n",
              "    }\n",
              "\n",
              "    [theme=dark] .colab-df-convert:hover {\n",
              "      background-color: #434B5C;\n",
              "      box-shadow: 0px 1px 3px 1px rgba(0, 0, 0, 0.15);\n",
              "      filter: drop-shadow(0px 1px 2px rgba(0, 0, 0, 0.3));\n",
              "      fill: #FFFFFF;\n",
              "    }\n",
              "  </style>\n",
              "\n",
              "      <script>\n",
              "        const buttonEl =\n",
              "          document.querySelector('#df-f7b4cbf4-25c1-4748-a46d-6d063c9a96f0 button.colab-df-convert');\n",
              "        buttonEl.style.display =\n",
              "          google.colab.kernel.accessAllowed ? 'block' : 'none';\n",
              "\n",
              "        async function convertToInteractive(key) {\n",
              "          const element = document.querySelector('#df-f7b4cbf4-25c1-4748-a46d-6d063c9a96f0');\n",
              "          const dataTable =\n",
              "            await google.colab.kernel.invokeFunction('convertToInteractive',\n",
              "                                                     [key], {});\n",
              "          if (!dataTable) return;\n",
              "\n",
              "          const docLinkHtml = 'Like what you see? Visit the ' +\n",
              "            '<a target=\"_blank\" href=https://colab.research.google.com/notebooks/data_table.ipynb>data table notebook</a>'\n",
              "            + ' to learn more about interactive tables.';\n",
              "          element.innerHTML = '';\n",
              "          dataTable['output_type'] = 'display_data';\n",
              "          await google.colab.output.renderOutput(dataTable, element);\n",
              "          const docLink = document.createElement('div');\n",
              "          docLink.innerHTML = docLinkHtml;\n",
              "          element.appendChild(docLink);\n",
              "        }\n",
              "      </script>\n",
              "    </div>\n",
              "  </div>\n",
              "  "
            ]
          },
          "metadata": {},
          "execution_count": 55
        }
      ]
    },
    {
      "cell_type": "markdown",
      "source": [
        "## 예측분석"
      ],
      "metadata": {
        "id": "JV0GqYqO92yg"
      }
    },
    {
      "cell_type": "code",
      "source": [
        "##################### 예측 분석 ############################3"
      ],
      "metadata": {
        "id": "MWG0JRx7TgAb"
      },
      "execution_count": null,
      "outputs": []
    },
    {
      "cell_type": "code",
      "source": [
        "from sklearn.linear_model import LogisticRegression"
      ],
      "metadata": {
        "id": "7_z8AvB-Tmos"
      },
      "execution_count": null,
      "outputs": []
    },
    {
      "cell_type": "code",
      "source": [
        "from sklearn.metrics import accuracy_score, classification_report"
      ],
      "metadata": {
        "id": "K1dTdTIEVZvb"
      },
      "execution_count": null,
      "outputs": []
    },
    {
      "cell_type": "markdown",
      "source": [
        "## Logistic Regression"
      ],
      "metadata": {
        "id": "_9h8FojY-N7T"
      }
    },
    {
      "cell_type": "code",
      "source": [
        "from sklearn.metrics import accuracy_score, roc_curve, roc_auc_score, classification_report"
      ],
      "metadata": {
        "id": "YFP3EqRURHBD"
      },
      "execution_count": null,
      "outputs": []
    },
    {
      "cell_type": "code",
      "source": [
        "#모델 생성\n",
        "model=LogisticRegression()\n",
        "model.fit(X_train,y_train)\n",
        "lr_predictions=model.predict(X_test)"
      ],
      "metadata": {
        "id": "kc_fv8g0Tf8R"
      },
      "execution_count": null,
      "outputs": []
    },
    {
      "cell_type": "code",
      "source": [
        "#모델 평가\n",
        "print(\"Accuracy score: {}\".format(accuracy_score(y_test, lr_predictions)))\n",
        "print(\"=\"*60)\n",
        "print(classification_report(y_test, lr_predictions))"
      ],
      "metadata": {
        "colab": {
          "base_uri": "https://localhost:8080/"
        },
        "id": "BgfxUxfATf4i",
        "outputId": "c0ac9b4c-1ce4-42d5-a589-2dab3e730fb9"
      },
      "execution_count": null,
      "outputs": [
        {
          "output_type": "stream",
          "name": "stdout",
          "text": [
            "Accuracy score: 0.902076749435666\n",
            "============================================================\n",
            "              precision    recall  f1-score   support\n",
            "\n",
            "           0       0.90      1.00      0.95     19984\n",
            "           1       0.00      0.00      0.00      2166\n",
            "\n",
            "    accuracy                           0.90     22150\n",
            "   macro avg       0.45      0.50      0.47     22150\n",
            "weighted avg       0.81      0.90      0.86     22150\n",
            "\n"
          ]
        }
      ]
    },
    {
      "cell_type": "code",
      "source": [
        "#Select KBest 적용 후 평가\n",
        "X_new = SelectKBest(chi2, k=6).fit_transform(X,Y)"
      ],
      "metadata": {
        "id": "-HRNq73NTf10"
      },
      "execution_count": null,
      "outputs": []
    },
    {
      "cell_type": "code",
      "source": [
        "X_new_train,X_new_test,y_new_train,y_new_test=train_test_split(X_new,Y,test_size=0.2)"
      ],
      "metadata": {
        "id": "CK2grHxhTfyn"
      },
      "execution_count": null,
      "outputs": []
    },
    {
      "cell_type": "code",
      "source": [
        "model=LogisticRegression()\n",
        "model.fit(X_new_train,y_new_train)\n",
        "lr_predictions=model.predict(X_new_test)"
      ],
      "metadata": {
        "id": "-SyU7ByZTREV"
      },
      "execution_count": null,
      "outputs": []
    },
    {
      "cell_type": "code",
      "source": [
        "print(\"Accuracy score: {}\".format(accuracy_score(y_new_test, lr_predictions)))\n",
        "print(\"=\"*60)\n",
        "print(classification_report(y_new_test, lr_predictions))"
      ],
      "metadata": {
        "id": "31S36AYWWA8j",
        "colab": {
          "base_uri": "https://localhost:8080/"
        },
        "outputId": "7b5e0d74-82b8-403c-a5fd-e817fcd8312e"
      },
      "execution_count": null,
      "outputs": [
        {
          "output_type": "stream",
          "name": "stdout",
          "text": [
            "Accuracy score: 0.9050564334085779\n",
            "============================================================\n",
            "              precision    recall  f1-score   support\n",
            "\n",
            "           0       0.91      1.00      0.95     20068\n",
            "           1       0.40      0.02      0.04      2082\n",
            "\n",
            "    accuracy                           0.91     22150\n",
            "   macro avg       0.65      0.51      0.49     22150\n",
            "weighted avg       0.86      0.91      0.86     22150\n",
            "\n"
          ]
        }
      ]
    },
    {
      "cell_type": "markdown",
      "source": [
        "# SVM"
      ],
      "metadata": {
        "id": "Phpe4yU6aaT1"
      }
    },
    {
      "cell_type": "code",
      "source": [
        "sc_x = StandardScaler() \n",
        "X_train_sc = sc_x.fit_transform(X_train)  \n",
        "X_test_sc = sc_x.transform(X_test)"
      ],
      "metadata": {
        "id": "1kbYXZp-SmdS"
      },
      "execution_count": null,
      "outputs": []
    },
    {
      "cell_type": "code",
      "source": [
        "clf = svm.SVC(kernel='linear')\n",
        "clf.fit(X_train_sc,y_train)\n",
        "clf_predictions=clf.predict(X_test_sc)"
      ],
      "metadata": {
        "id": "TieL1mgiSnHi"
      },
      "execution_count": null,
      "outputs": []
    },
    {
      "cell_type": "code",
      "source": [
        "print(\"Accuracy score: {}\".format(accuracy_score(y_test, clf_predictions.round(), normalize=True)))\n",
        "print(\"=\"*60)\n",
        "print(classification_report(y_test, clf_predictions))"
      ],
      "metadata": {
        "colab": {
          "base_uri": "https://localhost:8080/"
        },
        "id": "2uv0FXNUSo6y",
        "outputId": "55ffe9ce-b3d0-4d02-fbd0-bdc56236a92c"
      },
      "execution_count": null,
      "outputs": [
        {
          "output_type": "stream",
          "name": "stdout",
          "text": [
            "Accuracy score: 0.9022121896162528\n",
            "============================================================\n",
            "              precision    recall  f1-score   support\n",
            "\n",
            "           0       0.90      1.00      0.95     19984\n",
            "           1       0.00      0.00      0.00      2166\n",
            "\n",
            "    accuracy                           0.90     22150\n",
            "   macro avg       0.45      0.50      0.47     22150\n",
            "weighted avg       0.81      0.90      0.86     22150\n",
            "\n"
          ]
        }
      ]
    },
    {
      "cell_type": "code",
      "source": [
        "#Select KBest 적용 후 평가\n",
        "X_norm = MinMaxScaler().fit_transform(X)\n",
        "X_new = SelectKBest(chi2, k=6).fit_transform(X_norm, Y)\n",
        "\n",
        "\n",
        "X_new_train,X_new_test,y_new_train,y_new_test=train_test_split(X_new,Y,\n",
        "                                               test_size=0.20)\n",
        "\n",
        "clf = svm.SVC(kernel='linear')\n",
        "clf.fit(X_new_train,y_new_train)\n",
        "clf_predictions=clf.predict(X_new_test)\n",
        "\n",
        "print(\"Accuracy score: {}\".format(accuracy_score(y_new_test, clf_predictions.round(), normalize=True)))\n",
        "print(\"=\"*60)\n",
        "print(classification_report(y_new_test, clf_predictions))"
      ],
      "metadata": {
        "id": "YVmlwpxTae3t",
        "colab": {
          "base_uri": "https://localhost:8080/"
        },
        "outputId": "cae4d37c-ef45-4fa8-c6c2-7437a1117cc9"
      },
      "execution_count": null,
      "outputs": [
        {
          "output_type": "stream",
          "name": "stdout",
          "text": [
            "Accuracy score: 0.9032054176072235\n",
            "============================================================\n",
            "              precision    recall  f1-score   support\n",
            "\n",
            "           0       0.90      1.00      0.95     20006\n",
            "           1       0.00      0.00      0.00      2144\n",
            "\n",
            "    accuracy                           0.90     22150\n",
            "   macro avg       0.45      0.50      0.47     22150\n",
            "weighted avg       0.82      0.90      0.86     22150\n",
            "\n"
          ]
        }
      ]
    },
    {
      "cell_type": "markdown",
      "source": [
        "## RandomForest"
      ],
      "metadata": {
        "id": "dYohMUXS--HV"
      }
    },
    {
      "cell_type": "code",
      "source": [
        "#모델 생성\n",
        "rf = RandomForestRegressor(n_estimators=20, random_state=0)\n",
        "rf.fit(X_train, y_train)\n",
        "y_pred = rf.predict(X_test)"
      ],
      "metadata": {
        "id": "WIXH0vDP-9cS"
      },
      "execution_count": null,
      "outputs": []
    },
    {
      "cell_type": "code",
      "source": [
        "#모델 평가\n",
        "print(\"Accuracy score: {}\".format(accuracy_score(y_test, y_pred.round())))"
      ],
      "metadata": {
        "id": "5LHXKa5i_GK5",
        "colab": {
          "base_uri": "https://localhost:8080/"
        },
        "outputId": "3cd81226-cecf-4ac3-c032-e0e278b5d340"
      },
      "execution_count": null,
      "outputs": [
        {
          "output_type": "stream",
          "name": "stdout",
          "text": [
            "Accuracy score: 0.9194130925507901\n"
          ]
        }
      ]
    },
    {
      "cell_type": "code",
      "source": [
        "#Feature Importrance\n",
        "feat = X.columns.values\n",
        "imp = rf.feature_importances_\n",
        "df = pd.DataFrame({'Feature': feat, 'Importance': imp})\n",
        "df = df.sort_values('Importance', ascending=False)[:10]\n",
        "sns.barplot(x='Importance', y='Feature', data=df);"
      ],
      "metadata": {
        "id": "w-XYkAtW-9Z7",
        "colab": {
          "base_uri": "https://localhost:8080/",
          "height": 279
        },
        "outputId": "bdbb08a3-c5b3-446e-ece5-ca032a7d8cdc"
      },
      "execution_count": null,
      "outputs": [
        {
          "output_type": "display_data",
          "data": {
            "text/plain": [
              "<Figure size 432x288 with 1 Axes>"
            ],
            "image/png": "[encoded data removed]"
          },
          "metadata": {
            "needs_background": "light"
          }
        }
      ]
    },
    {
      "cell_type": "code",
      "source": [
        "trace = go.Scatter(\n",
        "    y = rf.feature_importances_,\n",
        "    x = X.columns.values,\n",
        "    mode='markers',\n",
        "    marker=dict(\n",
        "        sizemode = 'diameter',\n",
        "        sizeref = 1,\n",
        "        size = 13,\n",
        "        color = rf.feature_importances_,\n",
        "        colorscale='Portland',\n",
        "        showscale=True\n",
        "    ),\n",
        "    text = X.columns.values\n",
        ")\n",
        "data = [trace]\n",
        "\n",
        "layout= go.Layout(\n",
        "    autosize= True,\n",
        "    title= 'Random Forest Feature Importance',\n",
        "    hovermode= 'closest',\n",
        "     xaxis= dict(\n",
        "         ticklen= 5,\n",
        "         showgrid=False,\n",
        "        zeroline=False,\n",
        "        showline=False\n",
        "     ),\n",
        "    yaxis=dict(\n",
        "        title= 'Feature Importance',\n",
        "        showgrid=False,\n",
        "        zeroline=False,\n",
        "        ticklen= 5,\n",
        "        gridwidth= 2\n",
        "    ),\n",
        "    showlegend= False\n",
        ")\n",
        "fig = go.Figure(data=data, layout=layout)\n",
        "py.iplot(fig,filename='scatter2010')"
      ],
      "metadata": {
        "id": "4mAOTxWa-9Xd",
        "colab": {
          "base_uri": "https://localhost:8080/",
          "height": 542
        },
        "outputId": "0742ed56-0556-4147-912d-0b2762e91292"
      },
      "execution_count": null,
      "outputs": [
        {
          "output_type": "display_data",
          "data": {
            "text/html": [
              "<html>\n",
              "<head><meta charset=\"utf-8\" /></head>\n",
              "<body>\n",
              "    <div>            <script src=\"https://cdnjs.cloudflare.com/ajax/libs/mathjax/2.7.5/MathJax.js?config=TeX-AMS-MML_SVG\"></script><script type=\"text/javascript\">if (window.MathJax) {MathJax.Hub.Config({SVG: {font: \"STIX-Web\"}});}</script>                <script type=\"text/javascript\">window.PlotlyConfig = {MathJaxConfig: 'local'};</script>\n",
              "        <script src=\"https://cdn.plot.ly/plotly-2.8.3.min.js\"></script>                <div id=\"e7a351ba-a527-4c07-a825-225532a8f3b8\" class=\"plotly-graph-div\" style=\"height:525px; width:100%;\"></div>            <script type=\"text/javascript\">                                    window.PLOTLYENV=window.PLOTLYENV || {};                                    if (document.getElementById(\"e7a351ba-a527-4c07-a825-225532a8f3b8\")) {                    Plotly.newPlot(                        \"e7a351ba-a527-4c07-a825-225532a8f3b8\",                        [{\"marker\":{\"color\":[0.21623228019219426,0.1536743832411016,0.09619936483518196,0.157342926410018,0.04132444587946569,0.16211520635830917,0.1731113930837293],\"colorscale\":[[0.0,\"rgb(12,51,131)\"],[0.25,\"rgb(10,136,186)\"],[0.5,\"rgb(242,211,56)\"],[0.75,\"rgb(242,143,56)\"],[1.0,\"rgb(217,30,30)\"]],\"showscale\":true,\"size\":13,\"sizemode\":\"diameter\",\"sizeref\":1},\"mode\":\"markers\",\"text\":[\"customer_zip_code_prefix\",\"freight_value\",\"product_name_lenght\",\"product_description_lenght\",\"product_photos_qty\",\"review_score\",\"total_cost_value\"],\"x\":[\"customer_zip_code_prefix\",\"freight_value\",\"product_name_lenght\",\"product_description_lenght\",\"product_photos_qty\",\"review_score\",\"total_cost_value\"],\"y\":[0.21623228019219426,0.1536743832411016,0.09619936483518196,0.157342926410018,0.04132444587946569,0.16211520635830917,0.1731113930837293],\"type\":\"scatter\"}],                        {\"autosize\":true,\"hovermode\":\"closest\",\"showlegend\":false,\"template\":{\"data\":{\"barpolar\":[{\"marker\":{\"line\":{\"color\":\"#E5ECF6\",\"width\":0.5},\"pattern\":{\"fillmode\":\"overlay\",\"size\":10,\"solidity\":0.2}},\"type\":\"barpolar\"}],\"bar\":[{\"error_x\":{\"color\":\"#2a3f5f\"},\"error_y\":{\"color\":\"#2a3f5f\"},\"marker\":{\"line\":{\"color\":\"#E5ECF6\",\"width\":0.5},\"pattern\":{\"fillmode\":\"overlay\",\"size\":10,\"solidity\":0.2}},\"type\":\"bar\"}],\"carpet\":[{\"aaxis\":{\"endlinecolor\":\"#2a3f5f\",\"gridcolor\":\"white\",\"linecolor\":\"white\",\"minorgridcolor\":\"white\",\"startlinecolor\":\"#2a3f5f\"},\"baxis\":{\"endlinecolor\":\"#2a3f5f\",\"gridcolor\":\"white\",\"linecolor\":\"white\",\"minorgridcolor\":\"white\",\"startlinecolor\":\"#2a3f5f\"},\"type\":\"carpet\"}],\"choropleth\":[{\"colorbar\":{\"outlinewidth\":0,\"ticks\":\"\"},\"type\":\"choropleth\"}],\"contourcarpet\":[{\"colorbar\":{\"outlinewidth\":0,\"ticks\":\"\"},\"type\":\"contourcarpet\"}],\"contour\":[{\"colorbar\":{\"outlinewidth\":0,\"ticks\":\"\"},\"colorscale\":[[0.0,\"#0d0887\"],[0.1111111111111111,\"#46039f\"],[0.2222222222222222,\"#7201a8\"],[0.3333333333333333,\"#9c179e\"],[0.4444444444444444,\"#bd3786\"],[0.5555555555555556,\"#d8576b\"],[0.6666666666666666,\"#ed7953\"],[0.7777777777777778,\"#fb9f3a\"],[0.8888888888888888,\"#fdca26\"],[1.0,\"#f0f921\"]],\"type\":\"contour\"}],\"heatmapgl\":[{\"colorbar\":{\"outlinewidth\":0,\"ticks\":\"\"},\"colorscale\":[[0.0,\"#0d0887\"],[0.1111111111111111,\"#46039f\"],[0.2222222222222222,\"#7201a8\"],[0.3333333333333333,\"#9c179e\"],[0.4444444444444444,\"#bd3786\"],[0.5555555555555556,\"#d8576b\"],[0.6666666666666666,\"#ed7953\"],[0.7777777777777778,\"#fb9f3a\"],[0.8888888888888888,\"#fdca26\"],[1.0,\"#f0f921\"]],\"type\":\"heatmapgl\"}],\"heatmap\":[{\"colorbar\":{\"outlinewidth\":0,\"ticks\":\"\"},\"colorscale\":[[0.0,\"#0d0887\"],[0.1111111111111111,\"#46039f\"],[0.2222222222222222,\"#7201a8\"],[0.3333333333333333,\"#9c179e\"],[0.4444444444444444,\"#bd3786\"],[0.5555555555555556,\"#d8576b\"],[0.6666666666666666,\"#ed7953\"],[0.7777777777777778,\"#fb9f3a\"],[0.8888888888888888,\"#fdca26\"],[1.0,\"#f0f921\"]],\"type\":\"heatmap\"}],\"histogram2dcontour\":[{\"colorbar\":{\"outlinewidth\":0,\"ticks\":\"\"},\"colorscale\":[[0.0,\"#0d0887\"],[0.1111111111111111,\"#46039f\"],[0.2222222222222222,\"#7201a8\"],[0.3333333333333333,\"#9c179e\"],[0.4444444444444444,\"#bd3786\"],[0.5555555555555556,\"#d8576b\"],[0.6666666666666666,\"#ed7953\"],[0.7777777777777778,\"#fb9f3a\"],[0.8888888888888888,\"#fdca26\"],[1.0,\"#f0f921\"]],\"type\":\"histogram2dcontour\"}],\"histogram2d\":[{\"colorbar\":{\"outlinewidth\":0,\"ticks\":\"\"},\"colorscale\":[[0.0,\"#0d0887\"],[0.1111111111111111,\"#46039f\"],[0.2222222222222222,\"#7201a8\"],[0.3333333333333333,\"#9c179e\"],[0.4444444444444444,\"#bd3786\"],[0.5555555555555556,\"#d8576b\"],[0.6666666666666666,\"#ed7953\"],[0.7777777777777778,\"#fb9f3a\"],[0.8888888888888888,\"#fdca26\"],[1.0,\"#f0f921\"]],\"type\":\"histogram2d\"}],\"histogram\":[{\"marker\":{\"pattern\":{\"fillmode\":\"overlay\",\"size\":10,\"solidity\":0.2}},\"type\":\"histogram\"}],\"mesh3d\":[{\"colorbar\":{\"outlinewidth\":0,\"ticks\":\"\"},\"type\":\"mesh3d\"}],\"parcoords\":[{\"line\":{\"colorbar\":{\"outlinewidth\":0,\"ticks\":\"\"}},\"type\":\"parcoords\"}],\"pie\":[{\"automargin\":true,\"type\":\"pie\"}],\"scatter3d\":[{\"line\":{\"colorbar\":{\"outlinewidth\":0,\"ticks\":\"\"}},\"marker\":{\"colorbar\":{\"outlinewidth\":0,\"ticks\":\"\"}},\"type\":\"scatter3d\"}],\"scattercarpet\":[{\"marker\":{\"colorbar\":{\"outlinewidth\":0,\"ticks\":\"\"}},\"type\":\"scattercarpet\"}],\"scattergeo\":[{\"marker\":{\"colorbar\":{\"outlinewidth\":0,\"ticks\":\"\"}},\"type\":\"scattergeo\"}],\"scattergl\":[{\"marker\":{\"colorbar\":{\"outlinewidth\":0,\"ticks\":\"\"}},\"type\":\"scattergl\"}],\"scattermapbox\":[{\"marker\":{\"colorbar\":{\"outlinewidth\":0,\"ticks\":\"\"}},\"type\":\"scattermapbox\"}],\"scatterpolargl\":[{\"marker\":{\"colorbar\":{\"outlinewidth\":0,\"ticks\":\"\"}},\"type\":\"scatterpolargl\"}],\"scatterpolar\":[{\"marker\":{\"colorbar\":{\"outlinewidth\":0,\"ticks\":\"\"}},\"type\":\"scatterpolar\"}],\"scatter\":[{\"marker\":{\"colorbar\":{\"outlinewidth\":0,\"ticks\":\"\"}},\"type\":\"scatter\"}],\"scatterternary\":[{\"marker\":{\"colorbar\":{\"outlinewidth\":0,\"ticks\":\"\"}},\"type\":\"scatterternary\"}],\"surface\":[{\"colorbar\":{\"outlinewidth\":0,\"ticks\":\"\"},\"colorscale\":[[0.0,\"#0d0887\"],[0.1111111111111111,\"#46039f\"],[0.2222222222222222,\"#7201a8\"],[0.3333333333333333,\"#9c179e\"],[0.4444444444444444,\"#bd3786\"],[0.5555555555555556,\"#d8576b\"],[0.6666666666666666,\"#ed7953\"],[0.7777777777777778,\"#fb9f3a\"],[0.8888888888888888,\"#fdca26\"],[1.0,\"#f0f921\"]],\"type\":\"surface\"}],\"table\":[{\"cells\":{\"fill\":{\"color\":\"#EBF0F8\"},\"line\":{\"color\":\"white\"}},\"header\":{\"fill\":{\"color\":\"#C8D4E3\"},\"line\":{\"color\":\"white\"}},\"type\":\"table\"}]},\"layout\":{\"annotationdefaults\":{\"arrowcolor\":\"#2a3f5f\",\"arrowhead\":0,\"arrowwidth\":1},\"autotypenumbers\":\"strict\",\"coloraxis\":{\"colorbar\":{\"outlinewidth\":0,\"ticks\":\"\"}},\"colorscale\":{\"diverging\":[[0,\"#8e0152\"],[0.1,\"#c51b7d\"],[0.2,\"#de77ae\"],[0.3,\"#f1b6da\"],[0.4,\"#fde0ef\"],[0.5,\"#f7f7f7\"],[0.6,\"#e6f5d0\"],[0.7,\"#b8e186\"],[0.8,\"#7fbc41\"],[0.9,\"#4d9221\"],[1,\"#276419\"]],\"sequential\":[[0.0,\"#0d0887\"],[0.1111111111111111,\"#46039f\"],[0.2222222222222222,\"#7201a8\"],[0.3333333333333333,\"#9c179e\"],[0.4444444444444444,\"#bd3786\"],[0.5555555555555556,\"#d8576b\"],[0.6666666666666666,\"#ed7953\"],[0.7777777777777778,\"#fb9f3a\"],[0.8888888888888888,\"#fdca26\"],[1.0,\"#f0f921\"]],\"sequentialminus\":[[0.0,\"#0d0887\"],[0.1111111111111111,\"#46039f\"],[0.2222222222222222,\"#7201a8\"],[0.3333333333333333,\"#9c179e\"],[0.4444444444444444,\"#bd3786\"],[0.5555555555555556,\"#d8576b\"],[0.6666666666666666,\"#ed7953\"],[0.7777777777777778,\"#fb9f3a\"],[0.8888888888888888,\"#fdca26\"],[1.0,\"#f0f921\"]]},\"colorway\":[\"#636efa\",\"#EF553B\",\"#00cc96\",\"#ab63fa\",\"#FFA15A\",\"#19d3f3\",\"#FF6692\",\"#B6E880\",\"#FF97FF\",\"#FECB52\"],\"font\":{\"color\":\"#2a3f5f\"},\"geo\":{\"bgcolor\":\"white\",\"lakecolor\":\"white\",\"landcolor\":\"#E5ECF6\",\"showlakes\":true,\"showland\":true,\"subunitcolor\":\"white\"},\"hoverlabel\":{\"align\":\"left\"},\"hovermode\":\"closest\",\"mapbox\":{\"style\":\"light\"},\"paper_bgcolor\":\"white\",\"plot_bgcolor\":\"#E5ECF6\",\"polar\":{\"angularaxis\":{\"gridcolor\":\"white\",\"linecolor\":\"white\",\"ticks\":\"\"},\"bgcolor\":\"#E5ECF6\",\"radialaxis\":{\"gridcolor\":\"white\",\"linecolor\":\"white\",\"ticks\":\"\"}},\"scene\":{\"xaxis\":{\"backgroundcolor\":\"#E5ECF6\",\"gridcolor\":\"white\",\"gridwidth\":2,\"linecolor\":\"white\",\"showbackground\":true,\"ticks\":\"\",\"zerolinecolor\":\"white\"},\"yaxis\":{\"backgroundcolor\":\"#E5ECF6\",\"gridcolor\":\"white\",\"gridwidth\":2,\"linecolor\":\"white\",\"showbackground\":true,\"ticks\":\"\",\"zerolinecolor\":\"white\"},\"zaxis\":{\"backgroundcolor\":\"#E5ECF6\",\"gridcolor\":\"white\",\"gridwidth\":2,\"linecolor\":\"white\",\"showbackground\":true,\"ticks\":\"\",\"zerolinecolor\":\"white\"}},\"shapedefaults\":{\"line\":{\"color\":\"#2a3f5f\"}},\"ternary\":{\"aaxis\":{\"gridcolor\":\"white\",\"linecolor\":\"white\",\"ticks\":\"\"},\"baxis\":{\"gridcolor\":\"white\",\"linecolor\":\"white\",\"ticks\":\"\"},\"bgcolor\":\"#E5ECF6\",\"caxis\":{\"gridcolor\":\"white\",\"linecolor\":\"white\",\"ticks\":\"\"}},\"title\":{\"x\":0.05},\"xaxis\":{\"automargin\":true,\"gridcolor\":\"white\",\"linecolor\":\"white\",\"ticks\":\"\",\"title\":{\"standoff\":15},\"zerolinecolor\":\"white\",\"zerolinewidth\":2},\"yaxis\":{\"automargin\":true,\"gridcolor\":\"white\",\"linecolor\":\"white\",\"ticks\":\"\",\"title\":{\"standoff\":15},\"zerolinecolor\":\"white\",\"zerolinewidth\":2}}},\"title\":{\"text\":\"Random Forest Feature Importance\"},\"xaxis\":{\"showgrid\":false,\"showline\":false,\"ticklen\":5,\"zeroline\":false},\"yaxis\":{\"gridwidth\":2,\"showgrid\":false,\"ticklen\":5,\"title\":{\"text\":\"Feature Importance\"},\"zeroline\":false}},                        {\"responsive\": true}                    ).then(function(){\n",
              "                            \n",
              "var gd = document.getElementById('e7a351ba-a527-4c07-a825-225532a8f3b8');\n",
              "var x = new MutationObserver(function (mutations, observer) {{\n",
              "        var display = window.getComputedStyle(gd).display;\n",
              "        if (!display || display === 'none') {{\n",
              "            console.log([gd, 'removed!']);\n",
              "            Plotly.purge(gd);\n",
              "            observer.disconnect();\n",
              "        }}\n",
              "}});\n",
              "\n",
              "// Listen for the removal of the full notebook cells\n",
              "var notebookContainer = gd.closest('#notebook-container');\n",
              "if (notebookContainer) {{\n",
              "    x.observe(notebookContainer, {childList: true});\n",
              "}}\n",
              "\n",
              "// Listen for the clearing of the current output cell\n",
              "var outputEl = gd.closest('.output');\n",
              "if (outputEl) {{\n",
              "    x.observe(outputEl, {childList: true});\n",
              "}}\n",
              "\n",
              "                        })                };                            </script>        </div>\n",
              "</body>\n",
              "</html>"
            ]
          },
          "metadata": {}
        }
      ]
    },
    {
      "cell_type": "code",
      "source": [
        "#SelectKBest 적용 후 평가\n",
        "X_new = SelectKBest(chi2, k=6).fit_transform(X, Y)\n",
        "\n",
        "X_new_train,X_new_test,y_new_train,y_new_test=train_test_split(X_new,y,\n",
        "                                               test_size=0.20)\n",
        "\n",
        "rf = RandomForestRegressor(n_estimators=20, random_state=0)\n",
        "rf.fit(X_new_train, y_new_train)\n",
        "y_pred = rf.predict(X_new_test)\n",
        "\n",
        "print(\"Accuracy score: {}\".format(accuracy_score(y_new_test, y_pred.round())))"
      ],
      "metadata": {
        "id": "ZhgG8mHbae0Z",
        "colab": {
          "base_uri": "https://localhost:8080/"
        },
        "outputId": "f8a83257-ca74-484d-e964-5fbca8c8ecf5"
      },
      "execution_count": null,
      "outputs": [
        {
          "output_type": "stream",
          "name": "stdout",
          "text": [
            "Accuracy score: 0.9188713318284424\n"
          ]
        }
      ]
    },
    {
      "cell_type": "markdown",
      "source": [
        "## XGBoost"
      ],
      "metadata": {
        "id": "jamkfxq3_sv-"
      }
    },
    {
      "cell_type": "code",
      "source": [
        "#모델 생성\n",
        "xgmodel=XGBClassifier()\n",
        "xgmodel.fit(X_train,y_train)\n",
        "y_pred = xgmodel.predict(X_test)"
      ],
      "metadata": {
        "id": "463w9zaT_0VZ"
      },
      "execution_count": null,
      "outputs": []
    },
    {
      "cell_type": "code",
      "source": [
        "#모델 평가\n",
        "print(\"Accuracy score: {}\".format(accuracy_score(y_test, y_pred.round())))"
      ],
      "metadata": {
        "id": "NYmDmwaz_5HG",
        "colab": {
          "base_uri": "https://localhost:8080/"
        },
        "outputId": "48cd0875-0413-4a1e-d31c-663a51c1907b"
      },
      "execution_count": null,
      "outputs": [
        {
          "output_type": "stream",
          "name": "stdout",
          "text": [
            "Accuracy score: 0.9065462753950339\n"
          ]
        }
      ]
    },
    {
      "cell_type": "code",
      "source": [
        "#SelectKBest 적용 후 평가\n",
        "X_new = SelectKBest(chi2, k=6).fit_transform(X, Y)\n",
        "\n",
        "X_new_train,X_new_test,y_new_train,y_new_test=train_test_split(X_new,Y,\n",
        "                                               test_size=0.30)\n",
        "\n",
        "xgmodel=XGBClassifier()\n",
        "xgmodel.fit(X_new_train,y_new_train)\n",
        "y_pred = xgmodel.predict(X_new_test)\n",
        "\n",
        "print(\"Accuracy score: {}\".format(accuracy_score(y_new_test, y_pred.round())))"
      ],
      "metadata": {
        "id": "55UO9JiM_-kS",
        "colab": {
          "base_uri": "https://localhost:8080/"
        },
        "outputId": "cb4d2adb-ac53-4f86-e0a6-61757222fee3"
      },
      "execution_count": null,
      "outputs": [
        {
          "output_type": "stream",
          "name": "stdout",
          "text": [
            "Accuracy score: 0.9049510910458992\n"
          ]
        }
      ]
    },
    {
      "cell_type": "markdown",
      "source": [
        "## 군집분석"
      ],
      "metadata": {
        "id": "gI88NwM0Fg2x"
      }
    },
    {
      "cell_type": "markdown",
      "source": [
        "군집 분석을 활용한 고객 Segmentation"
      ],
      "metadata": {
        "id": "vJxQfgQVFk-5"
      }
    },
    {
      "cell_type": "code",
      "source": [
        "#K-Means Clustering\n",
        "clustdata=df_pd_final[(df_pd_final.arrival_time == 0)]"
      ],
      "metadata": {
        "id": "NuGfeD1xFim3"
      },
      "execution_count": null,
      "outputs": []
    },
    {
      "cell_type": "code",
      "source": [
        "#Elbow 방법 적용\n",
        "wcss=[]\n",
        "\n",
        "for i in range(1,15):\n",
        "    kmeans = KMeans(n_clusters= i, init='k-means++', random_state=0)\n",
        "    kmeans.fit(clustdata)\n",
        "    wcss.append(kmeans.inertia_)\n",
        "    "
      ],
      "metadata": {
        "id": "8kn4emYoFeOL"
      },
      "execution_count": null,
      "outputs": []
    },
    {
      "cell_type": "code",
      "source": [
        "plt.plot(range(1,15), wcss)\n",
        "plt.title('The Elbow Method')\n",
        "plt.xlabel('클러스터 수')\n",
        "plt.ylabel('WCSS')\n",
        "plt.show()"
      ],
      "metadata": {
        "id": "7DT7RYr3F4pA",
        "colab": {
          "base_uri": "https://localhost:8080/",
          "height": 295
        },
        "outputId": "74f357be-8261-44e6-aaa4-ec5aa7cab6ff"
      },
      "execution_count": null,
      "outputs": [
        {
          "output_type": "display_data",
          "data": {
            "text/plain": [
              "<Figure size 432x288 with 1 Axes>"
            ],
            "image/png": "[encoded data removed]"
          },
          "metadata": {
            "needs_background": "light"
          }
        }
      ]
    },
    {
      "cell_type": "code",
      "source": [
        "#cluster=2 설정\n",
        "km = KMeans(n_clusters=2, init='k-means++', n_init=10)\n",
        "c = km.fit_predict(clustdata) \n",
        "c"
      ],
      "metadata": {
        "id": "CBHzCQa2F5Wh",
        "colab": {
          "base_uri": "https://localhost:8080/"
        },
        "outputId": "d8dc00a5-1154-4605-bd22-063eb8f296b7"
      },
      "execution_count": null,
      "outputs": [
        {
          "output_type": "execute_result",
          "data": {
            "text/plain": [
              "array([0, 1, 1, ..., 0, 1, 1], dtype=int32)"
            ]
          },
          "metadata": {},
          "execution_count": 80
        }
      ]
    },
    {
      "cell_type": "code",
      "source": [
        "clustdata[\"Cluster\"]= c\n",
        "clustdata.head()"
      ],
      "metadata": {
        "id": "rXXWcEmAF-18",
        "colab": {
          "base_uri": "https://localhost:8080/",
          "height": 270
        },
        "outputId": "bffdc5fc-f201-4a6a-9cff-5bac04fb8f09"
      },
      "execution_count": null,
      "outputs": [
        {
          "output_type": "execute_result",
          "data": {
            "text/plain": [
              "   arrival_time  customer_zip_code_prefix  freight_value  product_name_lenght  \\\n",
              "0             0                     14409          21.88                 41.0   \n",
              "1             0                     68030          24.90                 41.0   \n",
              "2             0                     68030          24.90                 41.0   \n",
              "3             0                     92480          15.62                 41.0   \n",
              "4             0                     25931          30.59                 41.0   \n",
              "\n",
              "   product_description_lenght  product_photos_qty  review_score  \\\n",
              "0                      1141.0                 1.0             4   \n",
              "1                      1141.0                 1.0             1   \n",
              "2                      1141.0                 1.0             1   \n",
              "3                      1141.0                 1.0             3   \n",
              "4                      1141.0                 1.0             4   \n",
              "\n",
              "   total_cost_value  Cluster  \n",
              "0            146.87        0  \n",
              "1            137.89        1  \n",
              "2            137.89        1  \n",
              "3            140.61        1  \n",
              "4            137.58        0  "
            ],
            "text/html": [
              "\n",
              "  <div id=\"df-505ff611-bbf0-49ef-ae7e-8e3e8928bfca\">\n",
              "    <div class=\"colab-df-container\">\n",
              "      <div>\n",
              "<style scoped>\n",
              "    .dataframe tbody tr th:only-of-type {\n",
              "        vertical-align: middle;\n",
              "    }\n",
              "\n",
              "    .dataframe tbody tr th {\n",
              "        vertical-align: top;\n",
              "    }\n",
              "\n",
              "    .dataframe thead th {\n",
              "        text-align: right;\n",
              "    }\n",
              "</style>\n",
              "<table border=\"1\" class=\"dataframe\">\n",
              "  <thead>\n",
              "    <tr style=\"text-align: right;\">\n",
              "      <th></th>\n",
              "      <th>arrival_time</th>\n",
              "      <th>customer_zip_code_prefix</th>\n",
              "      <th>freight_value</th>\n",
              "      <th>product_name_lenght</th>\n",
              "      <th>product_description_lenght</th>\n",
              "      <th>product_photos_qty</th>\n",
              "      <th>review_score</th>\n",
              "      <th>total_cost_value</th>\n",
              "      <th>Cluster</th>\n",
              "    </tr>\n",
              "  </thead>\n",
              "  <tbody>\n",
              "    <tr>\n",
              "      <th>0</th>\n",
              "      <td>0</td>\n",
              "      <td>14409</td>\n",
              "      <td>21.88</td>\n",
              "      <td>41.0</td>\n",
              "      <td>1141.0</td>\n",
              "      <td>1.0</td>\n",
              "      <td>4</td>\n",
              "      <td>146.87</td>\n",
              "      <td>0</td>\n",
              "    </tr>\n",
              "    <tr>\n",
              "      <th>1</th>\n",
              "      <td>0</td>\n",
              "      <td>68030</td>\n",
              "      <td>24.90</td>\n",
              "      <td>41.0</td>\n",
              "      <td>1141.0</td>\n",
              "      <td>1.0</td>\n",
              "      <td>1</td>\n",
              "      <td>137.89</td>\n",
              "      <td>1</td>\n",
              "    </tr>\n",
              "    <tr>\n",
              "      <th>2</th>\n",
              "      <td>0</td>\n",
              "      <td>68030</td>\n",
              "      <td>24.90</td>\n",
              "      <td>41.0</td>\n",
              "      <td>1141.0</td>\n",
              "      <td>1.0</td>\n",
              "      <td>1</td>\n",
              "      <td>137.89</td>\n",
              "      <td>1</td>\n",
              "    </tr>\n",
              "    <tr>\n",
              "      <th>3</th>\n",
              "      <td>0</td>\n",
              "      <td>92480</td>\n",
              "      <td>15.62</td>\n",
              "      <td>41.0</td>\n",
              "      <td>1141.0</td>\n",
              "      <td>1.0</td>\n",
              "      <td>3</td>\n",
              "      <td>140.61</td>\n",
              "      <td>1</td>\n",
              "    </tr>\n",
              "    <tr>\n",
              "      <th>4</th>\n",
              "      <td>0</td>\n",
              "      <td>25931</td>\n",
              "      <td>30.59</td>\n",
              "      <td>41.0</td>\n",
              "      <td>1141.0</td>\n",
              "      <td>1.0</td>\n",
              "      <td>4</td>\n",
              "      <td>137.58</td>\n",
              "      <td>0</td>\n",
              "    </tr>\n",
              "  </tbody>\n",
              "</table>\n",
              "</div>\n",
              "      <button class=\"colab-df-convert\" onclick=\"convertToInteractive('df-505ff611-bbf0-49ef-ae7e-8e3e8928bfca')\"\n",
              "              title=\"Convert this dataframe to an interactive table.\"\n",
              "              style=\"display:none;\">\n",
              "        \n",
              "  <svg xmlns=\"http://www.w3.org/2000/svg\" height=\"24px\"viewBox=\"0 0 24 24\"\n",
              "       width=\"24px\">\n",
              "    <path d=\"M0 0h24v24H0V0z\" fill=\"none\"/>\n",
              "    <path d=\"M18.56 5.44l.94 2.06.94-2.06 2.06-.94-2.06-.94-.94-2.06-.94 2.06-2.06.94zm-11 1L8.5 8.5l.94-2.06 2.06-.94-2.06-.94L8.5 2.5l-.94 2.06-2.06.94zm10 10l.94 2.06.94-2.06 2.06-.94-2.06-.94-.94-2.06-.94 2.06-2.06.94z\"/><path d=\"M17.41 7.96l-1.37-1.37c-.4-.4-.92-.59-1.43-.59-.52 0-1.04.2-1.43.59L10.3 9.45l-7.72 7.72c-.78.78-.78 2.05 0 2.83L4 21.41c.39.39.9.59 1.41.59.51 0 1.02-.2 1.41-.59l7.78-7.78 2.81-2.81c.8-.78.8-2.07 0-2.86zM5.41 20L4 18.59l7.72-7.72 1.47 1.35L5.41 20z\"/>\n",
              "  </svg>\n",
              "      </button>\n",
              "      \n",
              "  <style>\n",
              "    .colab-df-container {\n",
              "      display:flex;\n",
              "      flex-wrap:wrap;\n",
              "      gap: 12px;\n",
              "    }\n",
              "\n",
              "    .colab-df-convert {\n",
              "      background-color: #E8F0FE;\n",
              "      border: none;\n",
              "      border-radius: 50%;\n",
              "      cursor: pointer;\n",
              "      display: none;\n",
              "      fill: #1967D2;\n",
              "      height: 32px;\n",
              "      padding: 0 0 0 0;\n",
              "      width: 32px;\n",
              "    }\n",
              "\n",
              "    .colab-df-convert:hover {\n",
              "      background-color: #E2EBFA;\n",
              "      box-shadow: 0px 1px 2px rgba(60, 64, 67, 0.3), 0px 1px 3px 1px rgba(60, 64, 67, 0.15);\n",
              "      fill: #174EA6;\n",
              "    }\n",
              "\n",
              "    [theme=dark] .colab-df-convert {\n",
              "      background-color: #3B4455;\n",
              "      fill: #D2E3FC;\n",
              "    }\n",
              "\n",
              "    [theme=dark] .colab-df-convert:hover {\n",
              "      background-color: #434B5C;\n",
              "      box-shadow: 0px 1px 3px 1px rgba(0, 0, 0, 0.15);\n",
              "      filter: drop-shadow(0px 1px 2px rgba(0, 0, 0, 0.3));\n",
              "      fill: #FFFFFF;\n",
              "    }\n",
              "  </style>\n",
              "\n",
              "      <script>\n",
              "        const buttonEl =\n",
              "          document.querySelector('#df-505ff611-bbf0-49ef-ae7e-8e3e8928bfca button.colab-df-convert');\n",
              "        buttonEl.style.display =\n",
              "          google.colab.kernel.accessAllowed ? 'block' : 'none';\n",
              "\n",
              "        async function convertToInteractive(key) {\n",
              "          const element = document.querySelector('#df-505ff611-bbf0-49ef-ae7e-8e3e8928bfca');\n",
              "          const dataTable =\n",
              "            await google.colab.kernel.invokeFunction('convertToInteractive',\n",
              "                                                     [key], {});\n",
              "          if (!dataTable) return;\n",
              "\n",
              "          const docLinkHtml = 'Like what you see? Visit the ' +\n",
              "            '<a target=\"_blank\" href=https://colab.research.google.com/notebooks/data_table.ipynb>data table notebook</a>'\n",
              "            + ' to learn more about interactive tables.';\n",
              "          element.innerHTML = '';\n",
              "          dataTable['output_type'] = 'display_data';\n",
              "          await google.colab.output.renderOutput(dataTable, element);\n",
              "          const docLink = document.createElement('div');\n",
              "          docLink.innerHTML = docLinkHtml;\n",
              "          element.appendChild(docLink);\n",
              "        }\n",
              "      </script>\n",
              "    </div>\n",
              "  </div>\n",
              "  "
            ]
          },
          "metadata": {},
          "execution_count": 81
        }
      ]
    },
    {
      "cell_type": "code",
      "source": [
        "clustdata.groupby(['Cluster']).mean()"
      ],
      "metadata": {
        "id": "KSZ2vTwNGHvE",
        "colab": {
          "base_uri": "https://localhost:8080/",
          "height": 207
        },
        "outputId": "4a3568a0-e2e2-491e-d72c-674e1b85762c"
      },
      "execution_count": null,
      "outputs": [
        {
          "output_type": "execute_result",
          "data": {
            "text/plain": [
              "         arrival_time  customer_zip_code_prefix  freight_value  \\\n",
              "Cluster                                                          \n",
              "0                 0.0              17946.382566      17.593447   \n",
              "1                 0.0              78799.571858      25.446150   \n",
              "\n",
              "         product_name_lenght  product_description_lenght  product_photos_qty  \\\n",
              "Cluster                                                                        \n",
              "0                  48.704690                  773.986877            2.182654   \n",
              "1                  49.020607                  816.947122            2.276985   \n",
              "\n",
              "         review_score  total_cost_value  \n",
              "Cluster                                  \n",
              "0            4.219041        131.440951  \n",
              "1            4.194519        156.857937  "
            ],
            "text/html": [
              "\n",
              "  <div id=\"df-f0a75c2b-5d0a-4d48-bf85-ad7f7e558662\">\n",
              "    <div class=\"colab-df-container\">\n",
              "      <div>\n",
              "<style scoped>\n",
              "    .dataframe tbody tr th:only-of-type {\n",
              "        vertical-align: middle;\n",
              "    }\n",
              "\n",
              "    .dataframe tbody tr th {\n",
              "        vertical-align: top;\n",
              "    }\n",
              "\n",
              "    .dataframe thead th {\n",
              "        text-align: right;\n",
              "    }\n",
              "</style>\n",
              "<table border=\"1\" class=\"dataframe\">\n",
              "  <thead>\n",
              "    <tr style=\"text-align: right;\">\n",
              "      <th></th>\n",
              "      <th>arrival_time</th>\n",
              "      <th>customer_zip_code_prefix</th>\n",
              "      <th>freight_value</th>\n",
              "      <th>product_name_lenght</th>\n",
              "      <th>product_description_lenght</th>\n",
              "      <th>product_photos_qty</th>\n",
              "      <th>review_score</th>\n",
              "      <th>total_cost_value</th>\n",
              "    </tr>\n",
              "    <tr>\n",
              "      <th>Cluster</th>\n",
              "      <th></th>\n",
              "      <th></th>\n",
              "      <th></th>\n",
              "      <th></th>\n",
              "      <th></th>\n",
              "      <th></th>\n",
              "      <th></th>\n",
              "      <th></th>\n",
              "    </tr>\n",
              "  </thead>\n",
              "  <tbody>\n",
              "    <tr>\n",
              "      <th>0</th>\n",
              "      <td>0.0</td>\n",
              "      <td>17946.382566</td>\n",
              "      <td>17.593447</td>\n",
              "      <td>48.704690</td>\n",
              "      <td>773.986877</td>\n",
              "      <td>2.182654</td>\n",
              "      <td>4.219041</td>\n",
              "      <td>131.440951</td>\n",
              "    </tr>\n",
              "    <tr>\n",
              "      <th>1</th>\n",
              "      <td>0.0</td>\n",
              "      <td>78799.571858</td>\n",
              "      <td>25.446150</td>\n",
              "      <td>49.020607</td>\n",
              "      <td>816.947122</td>\n",
              "      <td>2.276985</td>\n",
              "      <td>4.194519</td>\n",
              "      <td>156.857937</td>\n",
              "    </tr>\n",
              "  </tbody>\n",
              "</table>\n",
              "</div>\n",
              "      <button class=\"colab-df-convert\" onclick=\"convertToInteractive('df-f0a75c2b-5d0a-4d48-bf85-ad7f7e558662')\"\n",
              "              title=\"Convert this dataframe to an interactive table.\"\n",
              "              style=\"display:none;\">\n",
              "        \n",
              "  <svg xmlns=\"http://www.w3.org/2000/svg\" height=\"24px\"viewBox=\"0 0 24 24\"\n",
              "       width=\"24px\">\n",
              "    <path d=\"M0 0h24v24H0V0z\" fill=\"none\"/>\n",
              "    <path d=\"M18.56 5.44l.94 2.06.94-2.06 2.06-.94-2.06-.94-.94-2.06-.94 2.06-2.06.94zm-11 1L8.5 8.5l.94-2.06 2.06-.94-2.06-.94L8.5 2.5l-.94 2.06-2.06.94zm10 10l.94 2.06.94-2.06 2.06-.94-2.06-.94-.94-2.06-.94 2.06-2.06.94z\"/><path d=\"M17.41 7.96l-1.37-1.37c-.4-.4-.92-.59-1.43-.59-.52 0-1.04.2-1.43.59L10.3 9.45l-7.72 7.72c-.78.78-.78 2.05 0 2.83L4 21.41c.39.39.9.59 1.41.59.51 0 1.02-.2 1.41-.59l7.78-7.78 2.81-2.81c.8-.78.8-2.07 0-2.86zM5.41 20L4 18.59l7.72-7.72 1.47 1.35L5.41 20z\"/>\n",
              "  </svg>\n",
              "      </button>\n",
              "      \n",
              "  <style>\n",
              "    .colab-df-container {\n",
              "      display:flex;\n",
              "      flex-wrap:wrap;\n",
              "      gap: 12px;\n",
              "    }\n",
              "\n",
              "    .colab-df-convert {\n",
              "      background-color: #E8F0FE;\n",
              "      border: none;\n",
              "      border-radius: 50%;\n",
              "      cursor: pointer;\n",
              "      display: none;\n",
              "      fill: #1967D2;\n",
              "      height: 32px;\n",
              "      padding: 0 0 0 0;\n",
              "      width: 32px;\n",
              "    }\n",
              "\n",
              "    .colab-df-convert:hover {\n",
              "      background-color: #E2EBFA;\n",
              "      box-shadow: 0px 1px 2px rgba(60, 64, 67, 0.3), 0px 1px 3px 1px rgba(60, 64, 67, 0.15);\n",
              "      fill: #174EA6;\n",
              "    }\n",
              "\n",
              "    [theme=dark] .colab-df-convert {\n",
              "      background-color: #3B4455;\n",
              "      fill: #D2E3FC;\n",
              "    }\n",
              "\n",
              "    [theme=dark] .colab-df-convert:hover {\n",
              "      background-color: #434B5C;\n",
              "      box-shadow: 0px 1px 3px 1px rgba(0, 0, 0, 0.15);\n",
              "      filter: drop-shadow(0px 1px 2px rgba(0, 0, 0, 0.3));\n",
              "      fill: #FFFFFF;\n",
              "    }\n",
              "  </style>\n",
              "\n",
              "      <script>\n",
              "        const buttonEl =\n",
              "          document.querySelector('#df-f0a75c2b-5d0a-4d48-bf85-ad7f7e558662 button.colab-df-convert');\n",
              "        buttonEl.style.display =\n",
              "          google.colab.kernel.accessAllowed ? 'block' : 'none';\n",
              "\n",
              "        async function convertToInteractive(key) {\n",
              "          const element = document.querySelector('#df-f0a75c2b-5d0a-4d48-bf85-ad7f7e558662');\n",
              "          const dataTable =\n",
              "            await google.colab.kernel.invokeFunction('convertToInteractive',\n",
              "                                                     [key], {});\n",
              "          if (!dataTable) return;\n",
              "\n",
              "          const docLinkHtml = 'Like what you see? Visit the ' +\n",
              "            '<a target=\"_blank\" href=https://colab.research.google.com/notebooks/data_table.ipynb>data table notebook</a>'\n",
              "            + ' to learn more about interactive tables.';\n",
              "          element.innerHTML = '';\n",
              "          dataTable['output_type'] = 'display_data';\n",
              "          await google.colab.output.renderOutput(dataTable, element);\n",
              "          const docLink = document.createElement('div');\n",
              "          docLink.innerHTML = docLinkHtml;\n",
              "          element.appendChild(docLink);\n",
              "        }\n",
              "      </script>\n",
              "    </div>\n",
              "  </div>\n",
              "  "
            ]
          },
          "metadata": {},
          "execution_count": 82
        }
      ]
    },
    {
      "cell_type": "markdown",
      "source": [
        "군집화된 데이터 scailing\n"
      ],
      "metadata": {
        "id": "JwLtYQKAGLEe"
      }
    },
    {
      "cell_type": "code",
      "source": [
        "scaler = StandardScaler() \n",
        "X_scaled = scaler.fit_transform(clustdata) \n",
        "\n",
        "X_normalized = normalize(X_scaled) \n",
        "X_normalized = pd.DataFrame(X_normalized)"
      ],
      "metadata": {
        "id": "RsTIRIW5GTvv"
      },
      "execution_count": null,
      "outputs": []
    },
    {
      "cell_type": "markdown",
      "source": [
        "PCA 적용 (n=2)"
      ],
      "metadata": {
        "id": "oNI7v73NGafM"
      }
    },
    {
      "cell_type": "code",
      "source": [
        "pca = PCA(n_components = 2) \n",
        "X_principal = pca.fit_transform(X_normalized) \n",
        "X_principal = pd.DataFrame(X_principal) \n",
        "X_principal.columns = ['P1', 'P2']"
      ],
      "metadata": {
        "id": "WRqJJ8ZPGbOY"
      },
      "execution_count": null,
      "outputs": []
    },
    {
      "cell_type": "code",
      "source": [
        "c1 = km.fit_predict(X_principal) \n",
        "c1"
      ],
      "metadata": {
        "id": "-HoR9mRPGcuw",
        "colab": {
          "base_uri": "https://localhost:8080/"
        },
        "outputId": "2e0fa7a7-35ec-4cb5-d5bd-541a690fc964"
      },
      "execution_count": null,
      "outputs": [
        {
          "output_type": "execute_result",
          "data": {
            "text/plain": [
              "array([0, 1, 1, ..., 0, 1, 1], dtype=int32)"
            ]
          },
          "metadata": {},
          "execution_count": 85
        }
      ]
    },
    {
      "cell_type": "code",
      "source": [
        "result=pd.DataFrame({'P1' : X_principal.iloc[:,0] ,'P2' : X_principal.iloc[:,1]})\n",
        "result['Cluster']=pd.Series(c1, index=result.index)\n",
        "result.head()"
      ],
      "metadata": {
        "id": "jKQzmGdRGeHV",
        "colab": {
          "base_uri": "https://localhost:8080/",
          "height": 206
        },
        "outputId": "d65cd2bb-68c0-4ff5-94ed-535707bb47d8"
      },
      "execution_count": null,
      "outputs": [
        {
          "output_type": "execute_result",
          "data": {
            "text/plain": [
              "         P1        P2  Cluster\n",
              "0 -0.414731  0.524104        0\n",
              "1  0.757546  0.259822        1\n",
              "2  0.757546  0.259822        1\n",
              "3  0.941963  0.331562        1\n",
              "4 -0.162908  0.518269        0"
            ],
            "text/html": [
              "\n",
              "  <div id=\"df-79b82d63-836a-4116-9fc9-eace346e5a61\">\n",
              "    <div class=\"colab-df-container\">\n",
              "      <div>\n",
              "<style scoped>\n",
              "    .dataframe tbody tr th:only-of-type {\n",
              "        vertical-align: middle;\n",
              "    }\n",
              "\n",
              "    .dataframe tbody tr th {\n",
              "        vertical-align: top;\n",
              "    }\n",
              "\n",
              "    .dataframe thead th {\n",
              "        text-align: right;\n",
              "    }\n",
              "</style>\n",
              "<table border=\"1\" class=\"dataframe\">\n",
              "  <thead>\n",
              "    <tr style=\"text-align: right;\">\n",
              "      <th></th>\n",
              "      <th>P1</th>\n",
              "      <th>P2</th>\n",
              "      <th>Cluster</th>\n",
              "    </tr>\n",
              "  </thead>\n",
              "  <tbody>\n",
              "    <tr>\n",
              "      <th>0</th>\n",
              "      <td>-0.414731</td>\n",
              "      <td>0.524104</td>\n",
              "      <td>0</td>\n",
              "    </tr>\n",
              "    <tr>\n",
              "      <th>1</th>\n",
              "      <td>0.757546</td>\n",
              "      <td>0.259822</td>\n",
              "      <td>1</td>\n",
              "    </tr>\n",
              "    <tr>\n",
              "      <th>2</th>\n",
              "      <td>0.757546</td>\n",
              "      <td>0.259822</td>\n",
              "      <td>1</td>\n",
              "    </tr>\n",
              "    <tr>\n",
              "      <th>3</th>\n",
              "      <td>0.941963</td>\n",
              "      <td>0.331562</td>\n",
              "      <td>1</td>\n",
              "    </tr>\n",
              "    <tr>\n",
              "      <th>4</th>\n",
              "      <td>-0.162908</td>\n",
              "      <td>0.518269</td>\n",
              "      <td>0</td>\n",
              "    </tr>\n",
              "  </tbody>\n",
              "</table>\n",
              "</div>\n",
              "      <button class=\"colab-df-convert\" onclick=\"convertToInteractive('df-79b82d63-836a-4116-9fc9-eace346e5a61')\"\n",
              "              title=\"Convert this dataframe to an interactive table.\"\n",
              "              style=\"display:none;\">\n",
              "        \n",
              "  <svg xmlns=\"http://www.w3.org/2000/svg\" height=\"24px\"viewBox=\"0 0 24 24\"\n",
              "       width=\"24px\">\n",
              "    <path d=\"M0 0h24v24H0V0z\" fill=\"none\"/>\n",
              "    <path d=\"M18.56 5.44l.94 2.06.94-2.06 2.06-.94-2.06-.94-.94-2.06-.94 2.06-2.06.94zm-11 1L8.5 8.5l.94-2.06 2.06-.94-2.06-.94L8.5 2.5l-.94 2.06-2.06.94zm10 10l.94 2.06.94-2.06 2.06-.94-2.06-.94-.94-2.06-.94 2.06-2.06.94z\"/><path d=\"M17.41 7.96l-1.37-1.37c-.4-.4-.92-.59-1.43-.59-.52 0-1.04.2-1.43.59L10.3 9.45l-7.72 7.72c-.78.78-.78 2.05 0 2.83L4 21.41c.39.39.9.59 1.41.59.51 0 1.02-.2 1.41-.59l7.78-7.78 2.81-2.81c.8-.78.8-2.07 0-2.86zM5.41 20L4 18.59l7.72-7.72 1.47 1.35L5.41 20z\"/>\n",
              "  </svg>\n",
              "      </button>\n",
              "      \n",
              "  <style>\n",
              "    .colab-df-container {\n",
              "      display:flex;\n",
              "      flex-wrap:wrap;\n",
              "      gap: 12px;\n",
              "    }\n",
              "\n",
              "    .colab-df-convert {\n",
              "      background-color: #E8F0FE;\n",
              "      border: none;\n",
              "      border-radius: 50%;\n",
              "      cursor: pointer;\n",
              "      display: none;\n",
              "      fill: #1967D2;\n",
              "      height: 32px;\n",
              "      padding: 0 0 0 0;\n",
              "      width: 32px;\n",
              "    }\n",
              "\n",
              "    .colab-df-convert:hover {\n",
              "      background-color: #E2EBFA;\n",
              "      box-shadow: 0px 1px 2px rgba(60, 64, 67, 0.3), 0px 1px 3px 1px rgba(60, 64, 67, 0.15);\n",
              "      fill: #174EA6;\n",
              "    }\n",
              "\n",
              "    [theme=dark] .colab-df-convert {\n",
              "      background-color: #3B4455;\n",
              "      fill: #D2E3FC;\n",
              "    }\n",
              "\n",
              "    [theme=dark] .colab-df-convert:hover {\n",
              "      background-color: #434B5C;\n",
              "      box-shadow: 0px 1px 3px 1px rgba(0, 0, 0, 0.15);\n",
              "      filter: drop-shadow(0px 1px 2px rgba(0, 0, 0, 0.3));\n",
              "      fill: #FFFFFF;\n",
              "    }\n",
              "  </style>\n",
              "\n",
              "      <script>\n",
              "        const buttonEl =\n",
              "          document.querySelector('#df-79b82d63-836a-4116-9fc9-eace346e5a61 button.colab-df-convert');\n",
              "        buttonEl.style.display =\n",
              "          google.colab.kernel.accessAllowed ? 'block' : 'none';\n",
              "\n",
              "        async function convertToInteractive(key) {\n",
              "          const element = document.querySelector('#df-79b82d63-836a-4116-9fc9-eace346e5a61');\n",
              "          const dataTable =\n",
              "            await google.colab.kernel.invokeFunction('convertToInteractive',\n",
              "                                                     [key], {});\n",
              "          if (!dataTable) return;\n",
              "\n",
              "          const docLinkHtml = 'Like what you see? Visit the ' +\n",
              "            '<a target=\"_blank\" href=https://colab.research.google.com/notebooks/data_table.ipynb>data table notebook</a>'\n",
              "            + ' to learn more about interactive tables.';\n",
              "          element.innerHTML = '';\n",
              "          dataTable['output_type'] = 'display_data';\n",
              "          await google.colab.output.renderOutput(dataTable, element);\n",
              "          const docLink = document.createElement('div');\n",
              "          docLink.innerHTML = docLinkHtml;\n",
              "          element.appendChild(docLink);\n",
              "        }\n",
              "      </script>\n",
              "    </div>\n",
              "  </div>\n",
              "  "
            ]
          },
          "metadata": {},
          "execution_count": 86
        }
      ]
    },
    {
      "cell_type": "markdown",
      "source": [
        "주성분-클러스터 그래프"
      ],
      "metadata": {
        "id": "Sqn0T0GIGhs8"
      }
    },
    {
      "cell_type": "code",
      "source": [
        "import seaborn as sns\n",
        "facet = sns.lmplot(data=result,x='P1',y='P2',hue='Cluster', \n",
        "                   fit_reg=False, legend=True, legend_out=True)"
      ],
      "metadata": {
        "id": "A3CgcDRpGfwr",
        "colab": {
          "base_uri": "https://localhost:8080/",
          "height": 369
        },
        "outputId": "e2ff4e94-2fe9-4a66-8433-a526616b7343"
      },
      "execution_count": null,
      "outputs": [
        {
          "output_type": "display_data",
          "data": {
            "text/plain": [
              "<Figure size 403.5x360 with 1 Axes>"
            ],
            "image/png": "[encoded data removed]"
          },
          "metadata": {
            "needs_background": "light"
          }
        }
      ]
    },
    {
      "cell_type": "code",
      "source": [
        "result['Cluster'].value_counts()"
      ],
      "metadata": {
        "id": "djzmVgLnGkV4",
        "colab": {
          "base_uri": "https://localhost:8080/"
        },
        "outputId": "fe966708-0b8f-4841-8e45-476aaf040bfb"
      },
      "execution_count": null,
      "outputs": [
        {
          "output_type": "execute_result",
          "data": {
            "text/plain": [
              "0    71420\n",
              "1    28618\n",
              "Name: Cluster, dtype: int64"
            ]
          },
          "metadata": {},
          "execution_count": 88
        }
      ]
    },
    {
      "cell_type": "markdown",
      "source": [
        "PCA 후 Elbow 방법 적용"
      ],
      "metadata": {
        "id": "5nK5l3_GGpxJ"
      }
    },
    {
      "cell_type": "code",
      "source": [
        "wcss=[]\n",
        "\n",
        "for i in range(2,15):\n",
        "    kmeans = KMeans(n_clusters= i, init='k-means++', random_state=0)\n",
        "    kmeans.fit(X_principal)\n",
        "    wcss.append(kmeans.inertia_)"
      ],
      "metadata": {
        "id": "ln41RPS1Gpdg"
      },
      "execution_count": null,
      "outputs": []
    },
    {
      "cell_type": "code",
      "source": [
        "plt.plot(range(2,15), wcss)\n",
        "plt.title('The Elbow Method')\n",
        "plt.xlabel('no of clusters')\n",
        "plt.ylabel('wcss')\n",
        "plt.show()"
      ],
      "metadata": {
        "id": "UcMNVM7zGsxS",
        "colab": {
          "base_uri": "https://localhost:8080/",
          "height": 295
        },
        "outputId": "41b15921-6cdd-4849-a811-a5c6fd62b578"
      },
      "execution_count": null,
      "outputs": [
        {
          "output_type": "display_data",
          "data": {
            "text/plain": [
              "<Figure size 432x288 with 1 Axes>"
            ],
            "image/png": "[encoded data removed]"
          },
          "metadata": {
            "needs_background": "light"
          }
        }
      ]
    },
    {
      "cell_type": "code",
      "source": [
        "from sklearn.cluster import KMeans\n",
        "km = KMeans(n_clusters=4, init='k-means++', n_init=10)\n",
        "c = km.fit_predict(X_principal) \n",
        "c"
      ],
      "metadata": {
        "id": "hN6FgQSgGtW1",
        "colab": {
          "base_uri": "https://localhost:8080/"
        },
        "outputId": "86d7be78-ca58-489b-9cb0-38c858bf6abe"
      },
      "execution_count": null,
      "outputs": [
        {
          "output_type": "execute_result",
          "data": {
            "text/plain": [
              "array([2, 0, 0, ..., 1, 0, 0], dtype=int32)"
            ]
          },
          "metadata": {},
          "execution_count": 91
        }
      ]
    },
    {
      "cell_type": "code",
      "source": [
        "result=pd.DataFrame({'P1' : X_principal.iloc[:,0] ,'P2' : X_principal.iloc[:,1]})\n",
        "result['Cluster']=pd.Series(c, index=result.index)\n",
        "result.head()"
      ],
      "metadata": {
        "id": "kwjt3GiUGwJY",
        "colab": {
          "base_uri": "https://localhost:8080/",
          "height": 206
        },
        "outputId": "5b798cb0-c212-4539-ed1c-9645fee0c067"
      },
      "execution_count": null,
      "outputs": [
        {
          "output_type": "execute_result",
          "data": {
            "text/plain": [
              "         P1        P2  Cluster\n",
              "0 -0.414731  0.524104        2\n",
              "1  0.757546  0.259822        0\n",
              "2  0.757546  0.259822        0\n",
              "3  0.941963  0.331562        0\n",
              "4 -0.162908  0.518269        2"
            ],
            "text/html": [
              "\n",
              "  <div id=\"df-f2f2d420-6821-4afc-bc2f-29d1f74b9506\">\n",
              "    <div class=\"colab-df-container\">\n",
              "      <div>\n",
              "<style scoped>\n",
              "    .dataframe tbody tr th:only-of-type {\n",
              "        vertical-align: middle;\n",
              "    }\n",
              "\n",
              "    .dataframe tbody tr th {\n",
              "        vertical-align: top;\n",
              "    }\n",
              "\n",
              "    .dataframe thead th {\n",
              "        text-align: right;\n",
              "    }\n",
              "</style>\n",
              "<table border=\"1\" class=\"dataframe\">\n",
              "  <thead>\n",
              "    <tr style=\"text-align: right;\">\n",
              "      <th></th>\n",
              "      <th>P1</th>\n",
              "      <th>P2</th>\n",
              "      <th>Cluster</th>\n",
              "    </tr>\n",
              "  </thead>\n",
              "  <tbody>\n",
              "    <tr>\n",
              "      <th>0</th>\n",
              "      <td>-0.414731</td>\n",
              "      <td>0.524104</td>\n",
              "      <td>2</td>\n",
              "    </tr>\n",
              "    <tr>\n",
              "      <th>1</th>\n",
              "      <td>0.757546</td>\n",
              "      <td>0.259822</td>\n",
              "      <td>0</td>\n",
              "    </tr>\n",
              "    <tr>\n",
              "      <th>2</th>\n",
              "      <td>0.757546</td>\n",
              "      <td>0.259822</td>\n",
              "      <td>0</td>\n",
              "    </tr>\n",
              "    <tr>\n",
              "      <th>3</th>\n",
              "      <td>0.941963</td>\n",
              "      <td>0.331562</td>\n",
              "      <td>0</td>\n",
              "    </tr>\n",
              "    <tr>\n",
              "      <th>4</th>\n",
              "      <td>-0.162908</td>\n",
              "      <td>0.518269</td>\n",
              "      <td>2</td>\n",
              "    </tr>\n",
              "  </tbody>\n",
              "</table>\n",
              "</div>\n",
              "      <button class=\"colab-df-convert\" onclick=\"convertToInteractive('df-f2f2d420-6821-4afc-bc2f-29d1f74b9506')\"\n",
              "              title=\"Convert this dataframe to an interactive table.\"\n",
              "              style=\"display:none;\">\n",
              "        \n",
              "  <svg xmlns=\"http://www.w3.org/2000/svg\" height=\"24px\"viewBox=\"0 0 24 24\"\n",
              "       width=\"24px\">\n",
              "    <path d=\"M0 0h24v24H0V0z\" fill=\"none\"/>\n",
              "    <path d=\"M18.56 5.44l.94 2.06.94-2.06 2.06-.94-2.06-.94-.94-2.06-.94 2.06-2.06.94zm-11 1L8.5 8.5l.94-2.06 2.06-.94-2.06-.94L8.5 2.5l-.94 2.06-2.06.94zm10 10l.94 2.06.94-2.06 2.06-.94-2.06-.94-.94-2.06-.94 2.06-2.06.94z\"/><path d=\"M17.41 7.96l-1.37-1.37c-.4-.4-.92-.59-1.43-.59-.52 0-1.04.2-1.43.59L10.3 9.45l-7.72 7.72c-.78.78-.78 2.05 0 2.83L4 21.41c.39.39.9.59 1.41.59.51 0 1.02-.2 1.41-.59l7.78-7.78 2.81-2.81c.8-.78.8-2.07 0-2.86zM5.41 20L4 18.59l7.72-7.72 1.47 1.35L5.41 20z\"/>\n",
              "  </svg>\n",
              "      </button>\n",
              "      \n",
              "  <style>\n",
              "    .colab-df-container {\n",
              "      display:flex;\n",
              "      flex-wrap:wrap;\n",
              "      gap: 12px;\n",
              "    }\n",
              "\n",
              "    .colab-df-convert {\n",
              "      background-color: #E8F0FE;\n",
              "      border: none;\n",
              "      border-radius: 50%;\n",
              "      cursor: pointer;\n",
              "      display: none;\n",
              "      fill: #1967D2;\n",
              "      height: 32px;\n",
              "      padding: 0 0 0 0;\n",
              "      width: 32px;\n",
              "    }\n",
              "\n",
              "    .colab-df-convert:hover {\n",
              "      background-color: #E2EBFA;\n",
              "      box-shadow: 0px 1px 2px rgba(60, 64, 67, 0.3), 0px 1px 3px 1px rgba(60, 64, 67, 0.15);\n",
              "      fill: #174EA6;\n",
              "    }\n",
              "\n",
              "    [theme=dark] .colab-df-convert {\n",
              "      background-color: #3B4455;\n",
              "      fill: #D2E3FC;\n",
              "    }\n",
              "\n",
              "    [theme=dark] .colab-df-convert:hover {\n",
              "      background-color: #434B5C;\n",
              "      box-shadow: 0px 1px 3px 1px rgba(0, 0, 0, 0.15);\n",
              "      filter: drop-shadow(0px 1px 2px rgba(0, 0, 0, 0.3));\n",
              "      fill: #FFFFFF;\n",
              "    }\n",
              "  </style>\n",
              "\n",
              "      <script>\n",
              "        const buttonEl =\n",
              "          document.querySelector('#df-f2f2d420-6821-4afc-bc2f-29d1f74b9506 button.colab-df-convert');\n",
              "        buttonEl.style.display =\n",
              "          google.colab.kernel.accessAllowed ? 'block' : 'none';\n",
              "\n",
              "        async function convertToInteractive(key) {\n",
              "          const element = document.querySelector('#df-f2f2d420-6821-4afc-bc2f-29d1f74b9506');\n",
              "          const dataTable =\n",
              "            await google.colab.kernel.invokeFunction('convertToInteractive',\n",
              "                                                     [key], {});\n",
              "          if (!dataTable) return;\n",
              "\n",
              "          const docLinkHtml = 'Like what you see? Visit the ' +\n",
              "            '<a target=\"_blank\" href=https://colab.research.google.com/notebooks/data_table.ipynb>data table notebook</a>'\n",
              "            + ' to learn more about interactive tables.';\n",
              "          element.innerHTML = '';\n",
              "          dataTable['output_type'] = 'display_data';\n",
              "          await google.colab.output.renderOutput(dataTable, element);\n",
              "          const docLink = document.createElement('div');\n",
              "          docLink.innerHTML = docLinkHtml;\n",
              "          element.appendChild(docLink);\n",
              "        }\n",
              "      </script>\n",
              "    </div>\n",
              "  </div>\n",
              "  "
            ]
          },
          "metadata": {},
          "execution_count": 92
        }
      ]
    },
    {
      "cell_type": "code",
      "source": [
        "새로운 주성분-클러스터 그래프"
      ],
      "metadata": {
        "id": "9ZYTZqG2Gw-s",
        "colab": {
          "base_uri": "https://localhost:8080/",
          "height": 136
        },
        "outputId": "4bea80a3-ca62-417b-8ded-4b1651282ea6"
      },
      "execution_count": null,
      "outputs": [
        {
          "output_type": "error",
          "ename": "SyntaxError",
          "evalue": "ignored",
          "traceback": [
            "\u001b[0;36m  File \u001b[0;32m\"<ipython-input-93-f7503b03869a>\"\u001b[0;36m, line \u001b[0;32m1\u001b[0m\n\u001b[0;31m    새로운 주성분-클러스터 그래프\u001b[0m\n\u001b[0m          ^\u001b[0m\n\u001b[0;31mSyntaxError\u001b[0m\u001b[0;31m:\u001b[0m invalid syntax\n"
          ]
        }
      ]
    },
    {
      "cell_type": "code",
      "source": [
        "# Visualizing the clustering \n",
        "plt.figure(figsize =(6, 6)) \n",
        "plt.scatter(result.iloc[:,0],result.iloc[:,1],c=result['Cluster'], cmap ='rainbow') \n",
        "plt.show()"
      ],
      "metadata": {
        "id": "S2zlTUPcGzby",
        "colab": {
          "base_uri": "https://localhost:8080/",
          "height": 374
        },
        "outputId": "5e3eb527-339e-493e-b839-d682a013eaf2"
      },
      "execution_count": null,
      "outputs": [
        {
          "output_type": "display_data",
          "data": {
            "text/plain": [
              "<Figure size 432x432 with 1 Axes>"
            ],
            "image/png": "[encoded data removed]"
          },
          "metadata": {
            "needs_background": "light"
          }
        }
      ]
    },
    {
      "cell_type": "code",
      "source": [
        "import seaborn as sns\n",
        "facet = sns.lmplot(data=result,x='P1',y='P2',hue='Cluster', \n",
        "                   fit_reg=False, legend=True, legend_out=True)"
      ],
      "metadata": {
        "id": "5SE8dsnQG2kf",
        "colab": {
          "base_uri": "https://localhost:8080/",
          "height": 369
        },
        "outputId": "00e711a9-c47d-428f-dd79-c3f485146edd"
      },
      "execution_count": null,
      "outputs": [
        {
          "output_type": "display_data",
          "data": {
            "text/plain": [
              "<Figure size 403.5x360 with 1 Axes>"
            ],
            "image/png": "[encoded data removed]"
          },
          "metadata": {
            "needs_background": "light"
          }
        }
      ]
    }
  ],
  "metadata": {
    "colab": {
      "collapsed_sections": [],
      "provenance": []
    },
    "kernelspec": {
      "display_name": "Python 3 (ipykernel)",
      "language": "python",
      "name": "python3"
    },
    "language_info": {
      "codemirror_mode": {
        "name": "ipython",
        "version": 3
      },
      "file_extension": ".py",
      "mimetype": "text/x-python",
      "name": "python",
      "nbconvert_exporter": "python",
      "pygments_lexer": "ipython3",
      "version": "3.8.8"
    }
  },
  "nbformat": 4,
  "nbformat_minor": 0
}