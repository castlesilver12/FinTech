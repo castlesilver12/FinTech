{
 "cells": [
  {
   "cell_type": "markdown",
   "id": "93cfc63c-f9e6-429a-9ddd-66f4aa7668ee",
   "metadata": {},
   "source": [
    "<font size=6><b> AutoML - pycaret (Bike Sharing Demand)"
   ]
  },
  {
   "cell_type": "markdown",
   "id": "bdc2e814-70fb-4eab-bdb9-0950cb7fcb7f",
   "metadata": {},
   "source": [
    "* ref : https://pycaret.readthedocs.io/en/latest/api/regression.html?highlight=regression#module-pycaret.regression\n",
    "* ref : https://github.com/pycaret/pycaret/blob/master/examples/Pima%20Model.ipynb\n",
    "* rer : https://pycaret.gitbook.io/docs/learn-pycaret/examples<br>\n",
    "* ref : https://www.kaggle.com/competitions/bike-sharing-demand/overview"
   ]
  },
  {
   "cell_type": "code",
   "execution_count": 1,
   "id": "9afbe325-e2c1-4dde-a8d8-4b3ab40c3514",
   "metadata": {},
   "outputs": [
    {
     "data": {
      "text/html": [
       "<style>.container{width:100% !important;}</style>"
      ],
      "text/plain": [
       "<IPython.core.display.HTML object>"
      ]
     },
     "metadata": {},
     "output_type": "display_data"
    }
   ],
   "source": [
    "import datetime as dt\n",
    "import pandas as pd\n",
    "import numpy as np\n",
    "import seaborn as sns\n",
    "import matplotlib.pyplot as plt\n",
    "\n",
    "\n",
    "import warnings\n",
    "warnings.filterwarnings(action='ignore')\n",
    "sns.set()\n",
    "\n",
    "#-------------------- 차트 관련 속성 (한글처리, 그리드) -----------\n",
    "plt.rcParams['font.family']= 'Malgun Gothic'\n",
    "plt.rcParams['axes.unicode_minus'] = False\n",
    "sns.set()\n",
    "\n",
    "#-------------------- 주피터 , 출력결과 넓이 늘리기 ---------------\n",
    "from IPython.core.display import display, HTML\n",
    "display(HTML(\"<style>.container{width:100% !important;}</style>\"))\n",
    "pd.set_option('display.max_rows', 100)\n",
    "pd.set_option('display.max_columns', 100)\n",
    "pd.set_option('max_colwidth', None)"
   ]
  },
  {
   "cell_type": "code",
   "execution_count": 2,
   "id": "aa6ce40e-7717-4967-a584-51b0e93aa00c",
   "metadata": {},
   "outputs": [],
   "source": [
    "# ------------------- 관리자 권한 실행 필요 -----------------------\n",
    "# ! pip install pycaret"
   ]
  },
  {
   "cell_type": "code",
   "execution_count": 3,
   "id": "a022cbda-a4c7-48f3-af17-7b71fdf28823",
   "metadata": {},
   "outputs": [],
   "source": [
    "from sklearn.model_selection import train_test_split\n",
    "from pycaret.regression import *\n"
   ]
  },
  {
   "cell_type": "markdown",
   "id": "40f4a14d-2a5d-4d8f-ae3c-c9d5eed78550",
   "metadata": {},
   "source": [
    "# Data load"
   ]
  },
  {
   "cell_type": "code",
   "execution_count": 4,
   "id": "a9061508-4f26-4b1e-ae13-157378f9185d",
   "metadata": {},
   "outputs": [],
   "source": [
    "train_df  = pd.read_csv(\"./train.csv\" , sep=\",\",parse_dates=['datetime'])\n",
    "test_df   = pd.read_csv(\"./test.csv\" , sep=\",\" ,parse_dates=['datetime'])\n",
    "submit_df = pd.read_csv(\"./sampleSubmission.csv\" , sep=\",\")"
   ]
  },
  {
   "cell_type": "markdown",
   "id": "19858827-3a83-40e0-96cb-1e2e04f58e90",
   "metadata": {
    "tags": []
   },
   "source": [
    "# 전처리 가공"
   ]
  },
  {
   "cell_type": "markdown",
   "id": "70d23680-49b4-4739-8cd3-0f639d087cc5",
   "metadata": {},
   "source": [
    "## 날짜처리"
   ]
  },
  {
   "cell_type": "code",
   "execution_count": 5,
   "id": "1d22718f-4746-4763-8b66-8a94ec7949fb",
   "metadata": {},
   "outputs": [],
   "source": [
    "for df in [train_df, test_df]:\n",
    "    df['yy']   = df['datetime'].dt.year\n",
    "    df['mm']   = df['datetime'].dt.month\n",
    "    df['dd']   = df['datetime'].dt.day\n",
    "    df['hh']   = df['datetime'].dt.hour\n",
    "    df['week'] = df['datetime'].dt.weekday    #5, 6 :주말\n",
    "    df['dow']  = df['datetime'].dt.dayofweek  #주수\n",
    "    df.drop(\"datetime\", axis=1, inplace=True)"
   ]
  },
  {
   "cell_type": "code",
   "execution_count": 6,
   "id": "f0109742-3064-46b5-9490-b401238cf896",
   "metadata": {},
   "outputs": [
    {
     "data": {
      "text/html": [
       "<div>\n",
       "<style scoped>\n",
       "    .dataframe tbody tr th:only-of-type {\n",
       "        vertical-align: middle;\n",
       "    }\n",
       "\n",
       "    .dataframe tbody tr th {\n",
       "        vertical-align: top;\n",
       "    }\n",
       "\n",
       "    .dataframe thead th {\n",
       "        text-align: right;\n",
       "    }\n",
       "</style>\n",
       "<table border=\"1\" class=\"dataframe\">\n",
       "  <thead>\n",
       "    <tr style=\"text-align: right;\">\n",
       "      <th></th>\n",
       "      <th>season</th>\n",
       "      <th>holiday</th>\n",
       "      <th>workingday</th>\n",
       "      <th>weather</th>\n",
       "      <th>temp</th>\n",
       "      <th>atemp</th>\n",
       "      <th>humidity</th>\n",
       "      <th>windspeed</th>\n",
       "      <th>casual</th>\n",
       "      <th>registered</th>\n",
       "      <th>count</th>\n",
       "      <th>yy</th>\n",
       "      <th>mm</th>\n",
       "      <th>dd</th>\n",
       "      <th>hh</th>\n",
       "      <th>week</th>\n",
       "      <th>dow</th>\n",
       "    </tr>\n",
       "  </thead>\n",
       "  <tbody>\n",
       "    <tr>\n",
       "      <th>0</th>\n",
       "      <td>1</td>\n",
       "      <td>0</td>\n",
       "      <td>0</td>\n",
       "      <td>1</td>\n",
       "      <td>9.84</td>\n",
       "      <td>14.395</td>\n",
       "      <td>81</td>\n",
       "      <td>0.0</td>\n",
       "      <td>3</td>\n",
       "      <td>13</td>\n",
       "      <td>16</td>\n",
       "      <td>2011</td>\n",
       "      <td>1</td>\n",
       "      <td>1</td>\n",
       "      <td>0</td>\n",
       "      <td>5</td>\n",
       "      <td>5</td>\n",
       "    </tr>\n",
       "    <tr>\n",
       "      <th>1</th>\n",
       "      <td>1</td>\n",
       "      <td>0</td>\n",
       "      <td>0</td>\n",
       "      <td>1</td>\n",
       "      <td>9.02</td>\n",
       "      <td>13.635</td>\n",
       "      <td>80</td>\n",
       "      <td>0.0</td>\n",
       "      <td>8</td>\n",
       "      <td>32</td>\n",
       "      <td>40</td>\n",
       "      <td>2011</td>\n",
       "      <td>1</td>\n",
       "      <td>1</td>\n",
       "      <td>1</td>\n",
       "      <td>5</td>\n",
       "      <td>5</td>\n",
       "    </tr>\n",
       "    <tr>\n",
       "      <th>2</th>\n",
       "      <td>1</td>\n",
       "      <td>0</td>\n",
       "      <td>0</td>\n",
       "      <td>1</td>\n",
       "      <td>9.02</td>\n",
       "      <td>13.635</td>\n",
       "      <td>80</td>\n",
       "      <td>0.0</td>\n",
       "      <td>5</td>\n",
       "      <td>27</td>\n",
       "      <td>32</td>\n",
       "      <td>2011</td>\n",
       "      <td>1</td>\n",
       "      <td>1</td>\n",
       "      <td>2</td>\n",
       "      <td>5</td>\n",
       "      <td>5</td>\n",
       "    </tr>\n",
       "    <tr>\n",
       "      <th>3</th>\n",
       "      <td>1</td>\n",
       "      <td>0</td>\n",
       "      <td>0</td>\n",
       "      <td>1</td>\n",
       "      <td>9.84</td>\n",
       "      <td>14.395</td>\n",
       "      <td>75</td>\n",
       "      <td>0.0</td>\n",
       "      <td>3</td>\n",
       "      <td>10</td>\n",
       "      <td>13</td>\n",
       "      <td>2011</td>\n",
       "      <td>1</td>\n",
       "      <td>1</td>\n",
       "      <td>3</td>\n",
       "      <td>5</td>\n",
       "      <td>5</td>\n",
       "    </tr>\n",
       "    <tr>\n",
       "      <th>4</th>\n",
       "      <td>1</td>\n",
       "      <td>0</td>\n",
       "      <td>0</td>\n",
       "      <td>1</td>\n",
       "      <td>9.84</td>\n",
       "      <td>14.395</td>\n",
       "      <td>75</td>\n",
       "      <td>0.0</td>\n",
       "      <td>0</td>\n",
       "      <td>1</td>\n",
       "      <td>1</td>\n",
       "      <td>2011</td>\n",
       "      <td>1</td>\n",
       "      <td>1</td>\n",
       "      <td>4</td>\n",
       "      <td>5</td>\n",
       "      <td>5</td>\n",
       "    </tr>\n",
       "  </tbody>\n",
       "</table>\n",
       "</div>"
      ],
      "text/plain": [
       "   season  holiday  workingday  weather  temp   atemp  humidity  windspeed  \\\n",
       "0       1        0           0        1  9.84  14.395        81        0.0   \n",
       "1       1        0           0        1  9.02  13.635        80        0.0   \n",
       "2       1        0           0        1  9.02  13.635        80        0.0   \n",
       "3       1        0           0        1  9.84  14.395        75        0.0   \n",
       "4       1        0           0        1  9.84  14.395        75        0.0   \n",
       "\n",
       "   casual  registered  count    yy  mm  dd  hh  week  dow  \n",
       "0       3          13     16  2011   1   1   0     5    5  \n",
       "1       8          32     40  2011   1   1   1     5    5  \n",
       "2       5          27     32  2011   1   1   2     5    5  \n",
       "3       3          10     13  2011   1   1   3     5    5  \n",
       "4       0           1      1  2011   1   1   4     5    5  "
      ]
     },
     "execution_count": 6,
     "metadata": {},
     "output_type": "execute_result"
    }
   ],
   "source": [
    "train_df.head()"
   ]
  },
  {
   "cell_type": "markdown",
   "id": "571d6089-1359-4eec-acc8-3adb6a505ad8",
   "metadata": {},
   "source": [
    "## 풍속 채우기"
   ]
  },
  {
   "cell_type": "code",
   "execution_count": 7,
   "id": "090d9ff2-9047-4b4e-bac7-f0c689b3bdcf",
   "metadata": {},
   "outputs": [],
   "source": [
    "from sklearn.ensemble import RandomForestRegressor"
   ]
  },
  {
   "cell_type": "code",
   "execution_count": 8,
   "id": "af046e60-3c38-47d8-8d2b-c731e1c0beee",
   "metadata": {},
   "outputs": [
    {
     "name": "stdout",
     "output_type": "stream",
     "text": [
      "0.0    1313\n",
      "Name: windspeed, dtype: int64\n"
     ]
    }
   ],
   "source": [
    "print(train_df[train_df['windspeed'] == 0]['windspeed'].value_counts())"
   ]
  },
  {
   "cell_type": "code",
   "execution_count": 9,
   "id": "5a55bb92-e46b-4c05-aeaa-9a7b6160891b",
   "metadata": {},
   "outputs": [
    {
     "name": "stdout",
     "output_type": "stream",
     "text": [
      "(9573,) (9573, 8)\n",
      "[12.280966 10.20142   9.401373 10.861102 10.171404] (1313,)\n",
      "(5626,) (5626, 8)\n",
      "[17.211161 14.480576 10.909677 14.190734 25.129556] (867,)\n"
     ]
    }
   ],
   "source": [
    "for df in [train_df, test_df]:  \n",
    "    col_list = ['season', 'weather', 'atemp', 'humidity', 'yy', 'mm', 'dd', 'hh']\n",
    "\n",
    "    windspped_X_train = df[df['windspeed'] != .0][col_list]        #--9573 .. ~windspped\n",
    "    windspped_y_train = df[df['windspeed'] != .0]['windspeed']     #--9573 ..  windspped\n",
    "    windspped_X_test  = df[df['windspeed'] == .0][col_list] \n",
    "    # windspped_y_test  = pred\n",
    "    print(windspped_y_train.shape, windspped_X_train.shape)\n",
    "    windspped_X_train.head()\n",
    "\n",
    "    windspped_model = RandomForestRegressor(n_estimators=100, random_state=1234)\n",
    "    windspped_model.fit(windspped_X_train, windspped_y_train)\n",
    "    windspped_pred = windspped_model.predict(windspped_X_test)           #--1313문제\n",
    "    print(windspped_pred[:5],  windspped_pred.shape)                     #--1313 예측답안갯수\n",
    "\n",
    "    #--15199건에 해당하는 0값을 windspped값을 pred    -->   windspped_y_test로 대체\n",
    "    df.loc[df['windspeed'] == .0 , 'windspeed'] = windspped_pred.reshape(-1,1)"
   ]
  },
  {
   "cell_type": "code",
   "execution_count": 10,
   "id": "13886e43-6770-4051-9654-1cc536b7819d",
   "metadata": {},
   "outputs": [
    {
     "name": "stdout",
     "output_type": "stream",
     "text": [
      "Series([], Name: windspeed, dtype: int64)\n"
     ]
    }
   ],
   "source": [
    "print(train_df[train_df['windspeed'] == 0]['windspeed'].value_counts())"
   ]
  },
  {
   "cell_type": "markdown",
   "id": "6c212d7b-0fa6-4aa4-bd51-2a95bb932e6b",
   "metadata": {},
   "source": [
    "# EDA"
   ]
  },
  {
   "cell_type": "code",
   "execution_count": 11,
   "id": "51b559b0-9e37-4831-9977-a0d36e1b3120",
   "metadata": {},
   "outputs": [],
   "source": [
    "# C++ compiler , graphviz 사전 설치 후 설치\n",
    "# ! pip install pandas-profiling"
   ]
  },
  {
   "cell_type": "code",
   "execution_count": 12,
   "id": "f9db02da-5faa-4496-b474-cde873dc9cf8",
   "metadata": {},
   "outputs": [],
   "source": [
    "# from pandas_profiling import ProfileReport\n",
    "# profile = ProfileReport(train_df)\n",
    "# profile.to_file(\"eda.html\")"
   ]
  },
  {
   "cell_type": "markdown",
   "id": "9aeb8050-1dee-48c2-ad61-8b75a5dc480c",
   "metadata": {},
   "source": [
    "# train test 분리"
   ]
  },
  {
   "cell_type": "code",
   "execution_count": 13,
   "id": "bd3376e2-7f80-4258-a7c6-6789f68079af",
   "metadata": {},
   "outputs": [],
   "source": [
    "train_df.drop(['casual', 'registered'], axis=1, inplace=True)"
   ]
  },
  {
   "cell_type": "code",
   "execution_count": 14,
   "id": "50794d35-71b6-45ca-a313-870b5edf7289",
   "metadata": {},
   "outputs": [
    {
     "name": "stdout",
     "output_type": "stream",
     "text": [
      "(8709, 15) (2177, 15)\n"
     ]
    },
    {
     "data": {
      "text/html": [
       "<div>\n",
       "<style scoped>\n",
       "    .dataframe tbody tr th:only-of-type {\n",
       "        vertical-align: middle;\n",
       "    }\n",
       "\n",
       "    .dataframe tbody tr th {\n",
       "        vertical-align: top;\n",
       "    }\n",
       "\n",
       "    .dataframe thead th {\n",
       "        text-align: right;\n",
       "    }\n",
       "</style>\n",
       "<table border=\"1\" class=\"dataframe\">\n",
       "  <thead>\n",
       "    <tr style=\"text-align: right;\">\n",
       "      <th></th>\n",
       "      <th>season</th>\n",
       "      <th>holiday</th>\n",
       "      <th>workingday</th>\n",
       "      <th>weather</th>\n",
       "      <th>temp</th>\n",
       "      <th>atemp</th>\n",
       "      <th>humidity</th>\n",
       "      <th>windspeed</th>\n",
       "      <th>count</th>\n",
       "      <th>yy</th>\n",
       "      <th>mm</th>\n",
       "      <th>dd</th>\n",
       "      <th>hh</th>\n",
       "      <th>week</th>\n",
       "      <th>dow</th>\n",
       "    </tr>\n",
       "  </thead>\n",
       "  <tbody>\n",
       "    <tr>\n",
       "      <th>0</th>\n",
       "      <td>1</td>\n",
       "      <td>0</td>\n",
       "      <td>0</td>\n",
       "      <td>1</td>\n",
       "      <td>9.84</td>\n",
       "      <td>14.395</td>\n",
       "      <td>75</td>\n",
       "      <td>10.861102</td>\n",
       "      <td>13</td>\n",
       "      <td>2011</td>\n",
       "      <td>1</td>\n",
       "      <td>1</td>\n",
       "      <td>3</td>\n",
       "      <td>5</td>\n",
       "      <td>5</td>\n",
       "    </tr>\n",
       "    <tr>\n",
       "      <th>1</th>\n",
       "      <td>1</td>\n",
       "      <td>0</td>\n",
       "      <td>0</td>\n",
       "      <td>1</td>\n",
       "      <td>8.20</td>\n",
       "      <td>12.880</td>\n",
       "      <td>86</td>\n",
       "      <td>10.310965</td>\n",
       "      <td>3</td>\n",
       "      <td>2011</td>\n",
       "      <td>1</td>\n",
       "      <td>1</td>\n",
       "      <td>7</td>\n",
       "      <td>5</td>\n",
       "      <td>5</td>\n",
       "    </tr>\n",
       "  </tbody>\n",
       "</table>\n",
       "</div>"
      ],
      "text/plain": [
       "   season  holiday  workingday  weather  temp   atemp  humidity  windspeed  \\\n",
       "0       1        0           0        1  9.84  14.395        75  10.861102   \n",
       "1       1        0           0        1  8.20  12.880        86  10.310965   \n",
       "\n",
       "   count    yy  mm  dd  hh  week  dow  \n",
       "0     13  2011   1   1   3     5    5  \n",
       "1      3  2011   1   1   7     5    5  "
      ]
     },
     "execution_count": 14,
     "metadata": {},
     "output_type": "execute_result"
    }
   ],
   "source": [
    "train2 = train_df.sample(frac=0.8, random_state=1234)\n",
    "test2 = train_df.drop(train2.index)\n",
    "print( train2.shape, test2.shape )\n",
    "\n",
    "train2 = train2.reset_index(drop=True)\n",
    "test2  = test2.reset_index(drop=True)\n",
    "test2.head(2)"
   ]
  },
  {
   "cell_type": "code",
   "execution_count": 15,
   "id": "17a7a7d4-429b-4aff-a97e-6412e39d337c",
   "metadata": {},
   "outputs": [
    {
     "name": "stdout",
     "output_type": "stream",
     "text": [
      "(8708, 15) (2178, 15)\n"
     ]
    },
    {
     "data": {
      "text/html": [
       "<div>\n",
       "<style scoped>\n",
       "    .dataframe tbody tr th:only-of-type {\n",
       "        vertical-align: middle;\n",
       "    }\n",
       "\n",
       "    .dataframe tbody tr th {\n",
       "        vertical-align: top;\n",
       "    }\n",
       "\n",
       "    .dataframe thead th {\n",
       "        text-align: right;\n",
       "    }\n",
       "</style>\n",
       "<table border=\"1\" class=\"dataframe\">\n",
       "  <thead>\n",
       "    <tr style=\"text-align: right;\">\n",
       "      <th></th>\n",
       "      <th>season</th>\n",
       "      <th>holiday</th>\n",
       "      <th>workingday</th>\n",
       "      <th>weather</th>\n",
       "      <th>temp</th>\n",
       "      <th>atemp</th>\n",
       "      <th>humidity</th>\n",
       "      <th>windspeed</th>\n",
       "      <th>count</th>\n",
       "      <th>yy</th>\n",
       "      <th>mm</th>\n",
       "      <th>dd</th>\n",
       "      <th>hh</th>\n",
       "      <th>week</th>\n",
       "      <th>dow</th>\n",
       "    </tr>\n",
       "  </thead>\n",
       "  <tbody>\n",
       "    <tr>\n",
       "      <th>1180</th>\n",
       "      <td>1</td>\n",
       "      <td>0</td>\n",
       "      <td>0</td>\n",
       "      <td>1</td>\n",
       "      <td>12.30</td>\n",
       "      <td>14.395</td>\n",
       "      <td>56</td>\n",
       "      <td>16.9979</td>\n",
       "      <td>58</td>\n",
       "      <td>2011</td>\n",
       "      <td>3</td>\n",
       "      <td>13</td>\n",
       "      <td>21</td>\n",
       "      <td>6</td>\n",
       "      <td>6</td>\n",
       "    </tr>\n",
       "    <tr>\n",
       "      <th>8503</th>\n",
       "      <td>3</td>\n",
       "      <td>0</td>\n",
       "      <td>0</td>\n",
       "      <td>1</td>\n",
       "      <td>35.26</td>\n",
       "      <td>39.395</td>\n",
       "      <td>41</td>\n",
       "      <td>15.0013</td>\n",
       "      <td>495</td>\n",
       "      <td>2012</td>\n",
       "      <td>7</td>\n",
       "      <td>15</td>\n",
       "      <td>16</td>\n",
       "      <td>6</td>\n",
       "      <td>6</td>\n",
       "    </tr>\n",
       "  </tbody>\n",
       "</table>\n",
       "</div>"
      ],
      "text/plain": [
       "      season  holiday  workingday  weather   temp   atemp  humidity  \\\n",
       "1180       1        0           0        1  12.30  14.395        56   \n",
       "8503       3        0           0        1  35.26  39.395        41   \n",
       "\n",
       "      windspeed  count    yy  mm  dd  hh  week  dow  \n",
       "1180    16.9979     58  2011   3  13  21     6    6  \n",
       "8503    15.0013    495  2012   7  15  16     6    6  "
      ]
     },
     "execution_count": 15,
     "metadata": {},
     "output_type": "execute_result"
    }
   ],
   "source": [
    "train, test = train_test_split(train_df, test_size = 0.2, random_state=1234)\n",
    "print(train.shape, test.shape)\n",
    "train.head(2)"
   ]
  },
  {
   "cell_type": "markdown",
   "id": "ebfcdbfd-a710-4f49-abf9-bb3ca14607c6",
   "metadata": {},
   "source": [
    "# AutoML : pycaret"
   ]
  },
  {
   "cell_type": "code",
   "execution_count": 16,
   "id": "32494535-f826-40e7-bbd1-a9b469181aaa",
   "metadata": {},
   "outputs": [],
   "source": [
    "from pycaret.regression import *"
   ]
  },
  {
   "cell_type": "code",
   "execution_count": 17,
   "id": "2e32f4ad-c5ac-4531-832f-a8dbed2426a4",
   "metadata": {},
   "outputs": [
    {
     "data": {
      "text/html": [
       "<style type=\"text/css\">\n",
       "#T_51282_row17_col1, #T_51282_row42_col1 {\n",
       "  background-color: lightgreen;\n",
       "}\n",
       "</style>\n",
       "<table id=\"T_51282\">\n",
       "  <thead>\n",
       "    <tr>\n",
       "      <th class=\"blank level0\" >&nbsp;</th>\n",
       "      <th id=\"T_51282_level0_col0\" class=\"col_heading level0 col0\" >Description</th>\n",
       "      <th id=\"T_51282_level0_col1\" class=\"col_heading level0 col1\" >Value</th>\n",
       "    </tr>\n",
       "  </thead>\n",
       "  <tbody>\n",
       "    <tr>\n",
       "      <th id=\"T_51282_level0_row0\" class=\"row_heading level0 row0\" >0</th>\n",
       "      <td id=\"T_51282_row0_col0\" class=\"data row0 col0\" >session_id</td>\n",
       "      <td id=\"T_51282_row0_col1\" class=\"data row0 col1\" >1234</td>\n",
       "    </tr>\n",
       "    <tr>\n",
       "      <th id=\"T_51282_level0_row1\" class=\"row_heading level0 row1\" >1</th>\n",
       "      <td id=\"T_51282_row1_col0\" class=\"data row1 col0\" >Target</td>\n",
       "      <td id=\"T_51282_row1_col1\" class=\"data row1 col1\" >count</td>\n",
       "    </tr>\n",
       "    <tr>\n",
       "      <th id=\"T_51282_level0_row2\" class=\"row_heading level0 row2\" >2</th>\n",
       "      <td id=\"T_51282_row2_col0\" class=\"data row2 col0\" >Original Data</td>\n",
       "      <td id=\"T_51282_row2_col1\" class=\"data row2 col1\" >(8708, 15)</td>\n",
       "    </tr>\n",
       "    <tr>\n",
       "      <th id=\"T_51282_level0_row3\" class=\"row_heading level0 row3\" >3</th>\n",
       "      <td id=\"T_51282_row3_col0\" class=\"data row3 col0\" >Missing Values</td>\n",
       "      <td id=\"T_51282_row3_col1\" class=\"data row3 col1\" >False</td>\n",
       "    </tr>\n",
       "    <tr>\n",
       "      <th id=\"T_51282_level0_row4\" class=\"row_heading level0 row4\" >4</th>\n",
       "      <td id=\"T_51282_row4_col0\" class=\"data row4 col0\" >Numeric Features</td>\n",
       "      <td id=\"T_51282_row4_col1\" class=\"data row4 col1\" >5</td>\n",
       "    </tr>\n",
       "    <tr>\n",
       "      <th id=\"T_51282_level0_row5\" class=\"row_heading level0 row5\" >5</th>\n",
       "      <td id=\"T_51282_row5_col0\" class=\"data row5 col0\" >Categorical Features</td>\n",
       "      <td id=\"T_51282_row5_col1\" class=\"data row5 col1\" >9</td>\n",
       "    </tr>\n",
       "    <tr>\n",
       "      <th id=\"T_51282_level0_row6\" class=\"row_heading level0 row6\" >6</th>\n",
       "      <td id=\"T_51282_row6_col0\" class=\"data row6 col0\" >Ordinal Features</td>\n",
       "      <td id=\"T_51282_row6_col1\" class=\"data row6 col1\" >False</td>\n",
       "    </tr>\n",
       "    <tr>\n",
       "      <th id=\"T_51282_level0_row7\" class=\"row_heading level0 row7\" >7</th>\n",
       "      <td id=\"T_51282_row7_col0\" class=\"data row7 col0\" >High Cardinality Features</td>\n",
       "      <td id=\"T_51282_row7_col1\" class=\"data row7 col1\" >False</td>\n",
       "    </tr>\n",
       "    <tr>\n",
       "      <th id=\"T_51282_level0_row8\" class=\"row_heading level0 row8\" >8</th>\n",
       "      <td id=\"T_51282_row8_col0\" class=\"data row8 col0\" >High Cardinality Method</td>\n",
       "      <td id=\"T_51282_row8_col1\" class=\"data row8 col1\" >None</td>\n",
       "    </tr>\n",
       "    <tr>\n",
       "      <th id=\"T_51282_level0_row9\" class=\"row_heading level0 row9\" >9</th>\n",
       "      <td id=\"T_51282_row9_col0\" class=\"data row9 col0\" >Transformed Train Set</td>\n",
       "      <td id=\"T_51282_row9_col1\" class=\"data row9 col1\" >(6095, 54)</td>\n",
       "    </tr>\n",
       "    <tr>\n",
       "      <th id=\"T_51282_level0_row10\" class=\"row_heading level0 row10\" >10</th>\n",
       "      <td id=\"T_51282_row10_col0\" class=\"data row10 col0\" >Transformed Test Set</td>\n",
       "      <td id=\"T_51282_row10_col1\" class=\"data row10 col1\" >(2613, 54)</td>\n",
       "    </tr>\n",
       "    <tr>\n",
       "      <th id=\"T_51282_level0_row11\" class=\"row_heading level0 row11\" >11</th>\n",
       "      <td id=\"T_51282_row11_col0\" class=\"data row11 col0\" >Shuffle Train-Test</td>\n",
       "      <td id=\"T_51282_row11_col1\" class=\"data row11 col1\" >True</td>\n",
       "    </tr>\n",
       "    <tr>\n",
       "      <th id=\"T_51282_level0_row12\" class=\"row_heading level0 row12\" >12</th>\n",
       "      <td id=\"T_51282_row12_col0\" class=\"data row12 col0\" >Stratify Train-Test</td>\n",
       "      <td id=\"T_51282_row12_col1\" class=\"data row12 col1\" >False</td>\n",
       "    </tr>\n",
       "    <tr>\n",
       "      <th id=\"T_51282_level0_row13\" class=\"row_heading level0 row13\" >13</th>\n",
       "      <td id=\"T_51282_row13_col0\" class=\"data row13 col0\" >Fold Generator</td>\n",
       "      <td id=\"T_51282_row13_col1\" class=\"data row13 col1\" >KFold</td>\n",
       "    </tr>\n",
       "    <tr>\n",
       "      <th id=\"T_51282_level0_row14\" class=\"row_heading level0 row14\" >14</th>\n",
       "      <td id=\"T_51282_row14_col0\" class=\"data row14 col0\" >Fold Number</td>\n",
       "      <td id=\"T_51282_row14_col1\" class=\"data row14 col1\" >2</td>\n",
       "    </tr>\n",
       "    <tr>\n",
       "      <th id=\"T_51282_level0_row15\" class=\"row_heading level0 row15\" >15</th>\n",
       "      <td id=\"T_51282_row15_col0\" class=\"data row15 col0\" >CPU Jobs</td>\n",
       "      <td id=\"T_51282_row15_col1\" class=\"data row15 col1\" >-1</td>\n",
       "    </tr>\n",
       "    <tr>\n",
       "      <th id=\"T_51282_level0_row16\" class=\"row_heading level0 row16\" >16</th>\n",
       "      <td id=\"T_51282_row16_col0\" class=\"data row16 col0\" >Use GPU</td>\n",
       "      <td id=\"T_51282_row16_col1\" class=\"data row16 col1\" >False</td>\n",
       "    </tr>\n",
       "    <tr>\n",
       "      <th id=\"T_51282_level0_row17\" class=\"row_heading level0 row17\" >17</th>\n",
       "      <td id=\"T_51282_row17_col0\" class=\"data row17 col0\" >Log Experiment</td>\n",
       "      <td id=\"T_51282_row17_col1\" class=\"data row17 col1\" >True</td>\n",
       "    </tr>\n",
       "    <tr>\n",
       "      <th id=\"T_51282_level0_row18\" class=\"row_heading level0 row18\" >18</th>\n",
       "      <td id=\"T_51282_row18_col0\" class=\"data row18 col0\" >Experiment Name</td>\n",
       "      <td id=\"T_51282_row18_col1\" class=\"data row18 col1\" >reg-default-name</td>\n",
       "    </tr>\n",
       "    <tr>\n",
       "      <th id=\"T_51282_level0_row19\" class=\"row_heading level0 row19\" >19</th>\n",
       "      <td id=\"T_51282_row19_col0\" class=\"data row19 col0\" >USI</td>\n",
       "      <td id=\"T_51282_row19_col1\" class=\"data row19 col1\" >6dbe</td>\n",
       "    </tr>\n",
       "    <tr>\n",
       "      <th id=\"T_51282_level0_row20\" class=\"row_heading level0 row20\" >20</th>\n",
       "      <td id=\"T_51282_row20_col0\" class=\"data row20 col0\" >Imputation Type</td>\n",
       "      <td id=\"T_51282_row20_col1\" class=\"data row20 col1\" >simple</td>\n",
       "    </tr>\n",
       "    <tr>\n",
       "      <th id=\"T_51282_level0_row21\" class=\"row_heading level0 row21\" >21</th>\n",
       "      <td id=\"T_51282_row21_col0\" class=\"data row21 col0\" >Iterative Imputation Iteration</td>\n",
       "      <td id=\"T_51282_row21_col1\" class=\"data row21 col1\" >None</td>\n",
       "    </tr>\n",
       "    <tr>\n",
       "      <th id=\"T_51282_level0_row22\" class=\"row_heading level0 row22\" >22</th>\n",
       "      <td id=\"T_51282_row22_col0\" class=\"data row22 col0\" >Numeric Imputer</td>\n",
       "      <td id=\"T_51282_row22_col1\" class=\"data row22 col1\" >mean</td>\n",
       "    </tr>\n",
       "    <tr>\n",
       "      <th id=\"T_51282_level0_row23\" class=\"row_heading level0 row23\" >23</th>\n",
       "      <td id=\"T_51282_row23_col0\" class=\"data row23 col0\" >Iterative Imputation Numeric Model</td>\n",
       "      <td id=\"T_51282_row23_col1\" class=\"data row23 col1\" >None</td>\n",
       "    </tr>\n",
       "    <tr>\n",
       "      <th id=\"T_51282_level0_row24\" class=\"row_heading level0 row24\" >24</th>\n",
       "      <td id=\"T_51282_row24_col0\" class=\"data row24 col0\" >Categorical Imputer</td>\n",
       "      <td id=\"T_51282_row24_col1\" class=\"data row24 col1\" >constant</td>\n",
       "    </tr>\n",
       "    <tr>\n",
       "      <th id=\"T_51282_level0_row25\" class=\"row_heading level0 row25\" >25</th>\n",
       "      <td id=\"T_51282_row25_col0\" class=\"data row25 col0\" >Iterative Imputation Categorical Model</td>\n",
       "      <td id=\"T_51282_row25_col1\" class=\"data row25 col1\" >None</td>\n",
       "    </tr>\n",
       "    <tr>\n",
       "      <th id=\"T_51282_level0_row26\" class=\"row_heading level0 row26\" >26</th>\n",
       "      <td id=\"T_51282_row26_col0\" class=\"data row26 col0\" >Unknown Categoricals Handling</td>\n",
       "      <td id=\"T_51282_row26_col1\" class=\"data row26 col1\" >least_frequent</td>\n",
       "    </tr>\n",
       "    <tr>\n",
       "      <th id=\"T_51282_level0_row27\" class=\"row_heading level0 row27\" >27</th>\n",
       "      <td id=\"T_51282_row27_col0\" class=\"data row27 col0\" >Normalize</td>\n",
       "      <td id=\"T_51282_row27_col1\" class=\"data row27 col1\" >False</td>\n",
       "    </tr>\n",
       "    <tr>\n",
       "      <th id=\"T_51282_level0_row28\" class=\"row_heading level0 row28\" >28</th>\n",
       "      <td id=\"T_51282_row28_col0\" class=\"data row28 col0\" >Normalize Method</td>\n",
       "      <td id=\"T_51282_row28_col1\" class=\"data row28 col1\" >None</td>\n",
       "    </tr>\n",
       "    <tr>\n",
       "      <th id=\"T_51282_level0_row29\" class=\"row_heading level0 row29\" >29</th>\n",
       "      <td id=\"T_51282_row29_col0\" class=\"data row29 col0\" >Transformation</td>\n",
       "      <td id=\"T_51282_row29_col1\" class=\"data row29 col1\" >False</td>\n",
       "    </tr>\n",
       "    <tr>\n",
       "      <th id=\"T_51282_level0_row30\" class=\"row_heading level0 row30\" >30</th>\n",
       "      <td id=\"T_51282_row30_col0\" class=\"data row30 col0\" >Transformation Method</td>\n",
       "      <td id=\"T_51282_row30_col1\" class=\"data row30 col1\" >None</td>\n",
       "    </tr>\n",
       "    <tr>\n",
       "      <th id=\"T_51282_level0_row31\" class=\"row_heading level0 row31\" >31</th>\n",
       "      <td id=\"T_51282_row31_col0\" class=\"data row31 col0\" >PCA</td>\n",
       "      <td id=\"T_51282_row31_col1\" class=\"data row31 col1\" >False</td>\n",
       "    </tr>\n",
       "    <tr>\n",
       "      <th id=\"T_51282_level0_row32\" class=\"row_heading level0 row32\" >32</th>\n",
       "      <td id=\"T_51282_row32_col0\" class=\"data row32 col0\" >PCA Method</td>\n",
       "      <td id=\"T_51282_row32_col1\" class=\"data row32 col1\" >None</td>\n",
       "    </tr>\n",
       "    <tr>\n",
       "      <th id=\"T_51282_level0_row33\" class=\"row_heading level0 row33\" >33</th>\n",
       "      <td id=\"T_51282_row33_col0\" class=\"data row33 col0\" >PCA Components</td>\n",
       "      <td id=\"T_51282_row33_col1\" class=\"data row33 col1\" >None</td>\n",
       "    </tr>\n",
       "    <tr>\n",
       "      <th id=\"T_51282_level0_row34\" class=\"row_heading level0 row34\" >34</th>\n",
       "      <td id=\"T_51282_row34_col0\" class=\"data row34 col0\" >Ignore Low Variance</td>\n",
       "      <td id=\"T_51282_row34_col1\" class=\"data row34 col1\" >False</td>\n",
       "    </tr>\n",
       "    <tr>\n",
       "      <th id=\"T_51282_level0_row35\" class=\"row_heading level0 row35\" >35</th>\n",
       "      <td id=\"T_51282_row35_col0\" class=\"data row35 col0\" >Combine Rare Levels</td>\n",
       "      <td id=\"T_51282_row35_col1\" class=\"data row35 col1\" >False</td>\n",
       "    </tr>\n",
       "    <tr>\n",
       "      <th id=\"T_51282_level0_row36\" class=\"row_heading level0 row36\" >36</th>\n",
       "      <td id=\"T_51282_row36_col0\" class=\"data row36 col0\" >Rare Level Threshold</td>\n",
       "      <td id=\"T_51282_row36_col1\" class=\"data row36 col1\" >None</td>\n",
       "    </tr>\n",
       "    <tr>\n",
       "      <th id=\"T_51282_level0_row37\" class=\"row_heading level0 row37\" >37</th>\n",
       "      <td id=\"T_51282_row37_col0\" class=\"data row37 col0\" >Numeric Binning</td>\n",
       "      <td id=\"T_51282_row37_col1\" class=\"data row37 col1\" >False</td>\n",
       "    </tr>\n",
       "    <tr>\n",
       "      <th id=\"T_51282_level0_row38\" class=\"row_heading level0 row38\" >38</th>\n",
       "      <td id=\"T_51282_row38_col0\" class=\"data row38 col0\" >Remove Outliers</td>\n",
       "      <td id=\"T_51282_row38_col1\" class=\"data row38 col1\" >False</td>\n",
       "    </tr>\n",
       "    <tr>\n",
       "      <th id=\"T_51282_level0_row39\" class=\"row_heading level0 row39\" >39</th>\n",
       "      <td id=\"T_51282_row39_col0\" class=\"data row39 col0\" >Outliers Threshold</td>\n",
       "      <td id=\"T_51282_row39_col1\" class=\"data row39 col1\" >None</td>\n",
       "    </tr>\n",
       "    <tr>\n",
       "      <th id=\"T_51282_level0_row40\" class=\"row_heading level0 row40\" >40</th>\n",
       "      <td id=\"T_51282_row40_col0\" class=\"data row40 col0\" >Remove Multicollinearity</td>\n",
       "      <td id=\"T_51282_row40_col1\" class=\"data row40 col1\" >False</td>\n",
       "    </tr>\n",
       "    <tr>\n",
       "      <th id=\"T_51282_level0_row41\" class=\"row_heading level0 row41\" >41</th>\n",
       "      <td id=\"T_51282_row41_col0\" class=\"data row41 col0\" >Multicollinearity Threshold</td>\n",
       "      <td id=\"T_51282_row41_col1\" class=\"data row41 col1\" >None</td>\n",
       "    </tr>\n",
       "    <tr>\n",
       "      <th id=\"T_51282_level0_row42\" class=\"row_heading level0 row42\" >42</th>\n",
       "      <td id=\"T_51282_row42_col0\" class=\"data row42 col0\" >Remove Perfect Collinearity</td>\n",
       "      <td id=\"T_51282_row42_col1\" class=\"data row42 col1\" >True</td>\n",
       "    </tr>\n",
       "    <tr>\n",
       "      <th id=\"T_51282_level0_row43\" class=\"row_heading level0 row43\" >43</th>\n",
       "      <td id=\"T_51282_row43_col0\" class=\"data row43 col0\" >Clustering</td>\n",
       "      <td id=\"T_51282_row43_col1\" class=\"data row43 col1\" >False</td>\n",
       "    </tr>\n",
       "    <tr>\n",
       "      <th id=\"T_51282_level0_row44\" class=\"row_heading level0 row44\" >44</th>\n",
       "      <td id=\"T_51282_row44_col0\" class=\"data row44 col0\" >Clustering Iteration</td>\n",
       "      <td id=\"T_51282_row44_col1\" class=\"data row44 col1\" >None</td>\n",
       "    </tr>\n",
       "    <tr>\n",
       "      <th id=\"T_51282_level0_row45\" class=\"row_heading level0 row45\" >45</th>\n",
       "      <td id=\"T_51282_row45_col0\" class=\"data row45 col0\" >Polynomial Features</td>\n",
       "      <td id=\"T_51282_row45_col1\" class=\"data row45 col1\" >False</td>\n",
       "    </tr>\n",
       "    <tr>\n",
       "      <th id=\"T_51282_level0_row46\" class=\"row_heading level0 row46\" >46</th>\n",
       "      <td id=\"T_51282_row46_col0\" class=\"data row46 col0\" >Polynomial Degree</td>\n",
       "      <td id=\"T_51282_row46_col1\" class=\"data row46 col1\" >None</td>\n",
       "    </tr>\n",
       "    <tr>\n",
       "      <th id=\"T_51282_level0_row47\" class=\"row_heading level0 row47\" >47</th>\n",
       "      <td id=\"T_51282_row47_col0\" class=\"data row47 col0\" >Trignometry Features</td>\n",
       "      <td id=\"T_51282_row47_col1\" class=\"data row47 col1\" >False</td>\n",
       "    </tr>\n",
       "    <tr>\n",
       "      <th id=\"T_51282_level0_row48\" class=\"row_heading level0 row48\" >48</th>\n",
       "      <td id=\"T_51282_row48_col0\" class=\"data row48 col0\" >Polynomial Threshold</td>\n",
       "      <td id=\"T_51282_row48_col1\" class=\"data row48 col1\" >None</td>\n",
       "    </tr>\n",
       "    <tr>\n",
       "      <th id=\"T_51282_level0_row49\" class=\"row_heading level0 row49\" >49</th>\n",
       "      <td id=\"T_51282_row49_col0\" class=\"data row49 col0\" >Group Features</td>\n",
       "      <td id=\"T_51282_row49_col1\" class=\"data row49 col1\" >False</td>\n",
       "    </tr>\n",
       "    <tr>\n",
       "      <th id=\"T_51282_level0_row50\" class=\"row_heading level0 row50\" >50</th>\n",
       "      <td id=\"T_51282_row50_col0\" class=\"data row50 col0\" >Feature Selection</td>\n",
       "      <td id=\"T_51282_row50_col1\" class=\"data row50 col1\" >False</td>\n",
       "    </tr>\n",
       "    <tr>\n",
       "      <th id=\"T_51282_level0_row51\" class=\"row_heading level0 row51\" >51</th>\n",
       "      <td id=\"T_51282_row51_col0\" class=\"data row51 col0\" >Feature Selection Method</td>\n",
       "      <td id=\"T_51282_row51_col1\" class=\"data row51 col1\" >classic</td>\n",
       "    </tr>\n",
       "    <tr>\n",
       "      <th id=\"T_51282_level0_row52\" class=\"row_heading level0 row52\" >52</th>\n",
       "      <td id=\"T_51282_row52_col0\" class=\"data row52 col0\" >Features Selection Threshold</td>\n",
       "      <td id=\"T_51282_row52_col1\" class=\"data row52 col1\" >None</td>\n",
       "    </tr>\n",
       "    <tr>\n",
       "      <th id=\"T_51282_level0_row53\" class=\"row_heading level0 row53\" >53</th>\n",
       "      <td id=\"T_51282_row53_col0\" class=\"data row53 col0\" >Feature Interaction</td>\n",
       "      <td id=\"T_51282_row53_col1\" class=\"data row53 col1\" >False</td>\n",
       "    </tr>\n",
       "    <tr>\n",
       "      <th id=\"T_51282_level0_row54\" class=\"row_heading level0 row54\" >54</th>\n",
       "      <td id=\"T_51282_row54_col0\" class=\"data row54 col0\" >Feature Ratio</td>\n",
       "      <td id=\"T_51282_row54_col1\" class=\"data row54 col1\" >False</td>\n",
       "    </tr>\n",
       "    <tr>\n",
       "      <th id=\"T_51282_level0_row55\" class=\"row_heading level0 row55\" >55</th>\n",
       "      <td id=\"T_51282_row55_col0\" class=\"data row55 col0\" >Interaction Threshold</td>\n",
       "      <td id=\"T_51282_row55_col1\" class=\"data row55 col1\" >None</td>\n",
       "    </tr>\n",
       "    <tr>\n",
       "      <th id=\"T_51282_level0_row56\" class=\"row_heading level0 row56\" >56</th>\n",
       "      <td id=\"T_51282_row56_col0\" class=\"data row56 col0\" >Transform Target</td>\n",
       "      <td id=\"T_51282_row56_col1\" class=\"data row56 col1\" >False</td>\n",
       "    </tr>\n",
       "    <tr>\n",
       "      <th id=\"T_51282_level0_row57\" class=\"row_heading level0 row57\" >57</th>\n",
       "      <td id=\"T_51282_row57_col0\" class=\"data row57 col0\" >Transform Target Method</td>\n",
       "      <td id=\"T_51282_row57_col1\" class=\"data row57 col1\" >box-cox</td>\n",
       "    </tr>\n",
       "  </tbody>\n",
       "</table>\n"
      ],
      "text/plain": [
       "<pandas.io.formats.style.Styler at 0x243c9e7fc40>"
      ]
     },
     "metadata": {},
     "output_type": "display_data"
    }
   ],
   "source": [
    "setup_data = setup(train, target = 'count', session_id=1234, log_experiment=True, verbose=True, fold=2)"
   ]
  },
  {
   "cell_type": "markdown",
   "id": "23f03cf6-2ebf-4889-962c-ec8f4be7947c",
   "metadata": {},
   "source": [
    "## 모델 비교"
   ]
  },
  {
   "cell_type": "code",
   "execution_count": 18,
   "id": "60da63b5-9aa7-4eaf-9af0-74f66d304e32",
   "metadata": {},
   "outputs": [
    {
     "data": {
      "text/html": [
       "<style type=\"text/css\">\n",
       "#T_97f94 th {\n",
       "  text-align: left;\n",
       "}\n",
       "#T_97f94_row0_col0, #T_97f94_row0_col5, #T_97f94_row0_col6, #T_97f94_row1_col0, #T_97f94_row1_col1, #T_97f94_row1_col2, #T_97f94_row1_col3, #T_97f94_row1_col4, #T_97f94_row1_col5, #T_97f94_row1_col6, #T_97f94_row2_col0, #T_97f94_row2_col1, #T_97f94_row2_col2, #T_97f94_row2_col3, #T_97f94_row2_col4, #T_97f94_row2_col5, #T_97f94_row2_col6, #T_97f94_row3_col0, #T_97f94_row3_col1, #T_97f94_row3_col2, #T_97f94_row3_col3, #T_97f94_row3_col4, #T_97f94_row3_col5, #T_97f94_row3_col6, #T_97f94_row4_col0, #T_97f94_row4_col1, #T_97f94_row4_col2, #T_97f94_row4_col3, #T_97f94_row4_col4, #T_97f94_row5_col0, #T_97f94_row5_col1, #T_97f94_row5_col2, #T_97f94_row5_col3, #T_97f94_row5_col4, #T_97f94_row5_col5, #T_97f94_row5_col6, #T_97f94_row6_col0, #T_97f94_row6_col1, #T_97f94_row6_col2, #T_97f94_row6_col3, #T_97f94_row6_col4, #T_97f94_row6_col5, #T_97f94_row6_col6, #T_97f94_row7_col0, #T_97f94_row7_col1, #T_97f94_row7_col2, #T_97f94_row7_col3, #T_97f94_row7_col4, #T_97f94_row7_col5, #T_97f94_row7_col6, #T_97f94_row8_col0, #T_97f94_row8_col1, #T_97f94_row8_col2, #T_97f94_row8_col3, #T_97f94_row8_col4, #T_97f94_row8_col5, #T_97f94_row8_col6, #T_97f94_row9_col0, #T_97f94_row9_col1, #T_97f94_row9_col2, #T_97f94_row9_col3, #T_97f94_row9_col4, #T_97f94_row9_col5, #T_97f94_row9_col6, #T_97f94_row10_col0, #T_97f94_row10_col1, #T_97f94_row10_col2, #T_97f94_row10_col3, #T_97f94_row10_col4, #T_97f94_row10_col5, #T_97f94_row10_col6, #T_97f94_row11_col0, #T_97f94_row11_col1, #T_97f94_row11_col2, #T_97f94_row11_col3, #T_97f94_row11_col4, #T_97f94_row11_col5, #T_97f94_row11_col6, #T_97f94_row12_col0, #T_97f94_row12_col1, #T_97f94_row12_col2, #T_97f94_row12_col3, #T_97f94_row12_col4, #T_97f94_row12_col5, #T_97f94_row12_col6, #T_97f94_row13_col0, #T_97f94_row13_col1, #T_97f94_row13_col2, #T_97f94_row13_col3, #T_97f94_row13_col4, #T_97f94_row13_col5, #T_97f94_row13_col6, #T_97f94_row14_col0, #T_97f94_row14_col1, #T_97f94_row14_col2, #T_97f94_row14_col3, #T_97f94_row14_col4, #T_97f94_row14_col5, #T_97f94_row14_col6, #T_97f94_row15_col0, #T_97f94_row15_col1, #T_97f94_row15_col2, #T_97f94_row15_col3, #T_97f94_row15_col4, #T_97f94_row15_col5, #T_97f94_row15_col6, #T_97f94_row16_col0, #T_97f94_row16_col1, #T_97f94_row16_col2, #T_97f94_row16_col3, #T_97f94_row16_col4, #T_97f94_row16_col5, #T_97f94_row16_col6, #T_97f94_row17_col0, #T_97f94_row17_col1, #T_97f94_row17_col2, #T_97f94_row17_col3, #T_97f94_row17_col4, #T_97f94_row17_col5, #T_97f94_row17_col6, #T_97f94_row18_col0, #T_97f94_row18_col1, #T_97f94_row18_col2, #T_97f94_row18_col3, #T_97f94_row18_col4, #T_97f94_row18_col5, #T_97f94_row18_col6, #T_97f94_row19_col0, #T_97f94_row19_col1, #T_97f94_row19_col2, #T_97f94_row19_col3, #T_97f94_row19_col4, #T_97f94_row19_col5, #T_97f94_row19_col6 {\n",
       "  text-align: left;\n",
       "}\n",
       "#T_97f94_row0_col1, #T_97f94_row0_col2, #T_97f94_row0_col3, #T_97f94_row0_col4, #T_97f94_row4_col5, #T_97f94_row4_col6 {\n",
       "  text-align: left;\n",
       "  background-color: yellow;\n",
       "}\n",
       "#T_97f94_row0_col7, #T_97f94_row1_col7, #T_97f94_row2_col7, #T_97f94_row3_col7, #T_97f94_row4_col7, #T_97f94_row5_col7, #T_97f94_row6_col7, #T_97f94_row7_col7, #T_97f94_row8_col7, #T_97f94_row9_col7, #T_97f94_row10_col7, #T_97f94_row11_col7, #T_97f94_row13_col7, #T_97f94_row14_col7, #T_97f94_row15_col7, #T_97f94_row16_col7, #T_97f94_row17_col7, #T_97f94_row18_col7, #T_97f94_row19_col7 {\n",
       "  text-align: left;\n",
       "  background-color: lightgrey;\n",
       "}\n",
       "#T_97f94_row12_col7 {\n",
       "  text-align: left;\n",
       "  background-color: yellow;\n",
       "  background-color: lightgrey;\n",
       "}\n",
       "</style>\n",
       "<table id=\"T_97f94\">\n",
       "  <thead>\n",
       "    <tr>\n",
       "      <th class=\"blank level0\" >&nbsp;</th>\n",
       "      <th id=\"T_97f94_level0_col0\" class=\"col_heading level0 col0\" >Model</th>\n",
       "      <th id=\"T_97f94_level0_col1\" class=\"col_heading level0 col1\" >MAE</th>\n",
       "      <th id=\"T_97f94_level0_col2\" class=\"col_heading level0 col2\" >MSE</th>\n",
       "      <th id=\"T_97f94_level0_col3\" class=\"col_heading level0 col3\" >RMSE</th>\n",
       "      <th id=\"T_97f94_level0_col4\" class=\"col_heading level0 col4\" >R2</th>\n",
       "      <th id=\"T_97f94_level0_col5\" class=\"col_heading level0 col5\" >RMSLE</th>\n",
       "      <th id=\"T_97f94_level0_col6\" class=\"col_heading level0 col6\" >MAPE</th>\n",
       "      <th id=\"T_97f94_level0_col7\" class=\"col_heading level0 col7\" >TT (Sec)</th>\n",
       "    </tr>\n",
       "  </thead>\n",
       "  <tbody>\n",
       "    <tr>\n",
       "      <th id=\"T_97f94_level0_row0\" class=\"row_heading level0 row0\" >catboost</th>\n",
       "      <td id=\"T_97f94_row0_col0\" class=\"data row0 col0\" >CatBoost Regressor</td>\n",
       "      <td id=\"T_97f94_row0_col1\" class=\"data row0 col1\" >27.6820</td>\n",
       "      <td id=\"T_97f94_row0_col2\" class=\"data row0 col2\" >1856.3491</td>\n",
       "      <td id=\"T_97f94_row0_col3\" class=\"data row0 col3\" >43.0763</td>\n",
       "      <td id=\"T_97f94_row0_col4\" class=\"data row0 col4\" >0.9431</td>\n",
       "      <td id=\"T_97f94_row0_col5\" class=\"data row0 col5\" >0.4772</td>\n",
       "      <td id=\"T_97f94_row0_col6\" class=\"data row0 col6\" >0.5247</td>\n",
       "      <td id=\"T_97f94_row0_col7\" class=\"data row0 col7\" >1.5300</td>\n",
       "    </tr>\n",
       "    <tr>\n",
       "      <th id=\"T_97f94_level0_row1\" class=\"row_heading level0 row1\" >lightgbm</th>\n",
       "      <td id=\"T_97f94_row1_col0\" class=\"data row1 col0\" >Light Gradient Boosting Machine</td>\n",
       "      <td id=\"T_97f94_row1_col1\" class=\"data row1 col1\" >28.7345</td>\n",
       "      <td id=\"T_97f94_row1_col2\" class=\"data row1 col2\" >2086.4408</td>\n",
       "      <td id=\"T_97f94_row1_col3\" class=\"data row1 col3\" >45.5856</td>\n",
       "      <td id=\"T_97f94_row1_col4\" class=\"data row1 col4\" >0.9360</td>\n",
       "      <td id=\"T_97f94_row1_col5\" class=\"data row1 col5\" >0.4418</td>\n",
       "      <td id=\"T_97f94_row1_col6\" class=\"data row1 col6\" >0.4585</td>\n",
       "      <td id=\"T_97f94_row1_col7\" class=\"data row1 col7\" >0.1750</td>\n",
       "    </tr>\n",
       "    <tr>\n",
       "      <th id=\"T_97f94_level0_row2\" class=\"row_heading level0 row2\" >xgboost</th>\n",
       "      <td id=\"T_97f94_row2_col0\" class=\"data row2 col0\" >Extreme Gradient Boosting</td>\n",
       "      <td id=\"T_97f94_row2_col1\" class=\"data row2 col1\" >30.6760</td>\n",
       "      <td id=\"T_97f94_row2_col2\" class=\"data row2 col2\" >2274.1737</td>\n",
       "      <td id=\"T_97f94_row2_col3\" class=\"data row2 col3\" >47.6625</td>\n",
       "      <td id=\"T_97f94_row2_col4\" class=\"data row2 col4\" >0.9303</td>\n",
       "      <td id=\"T_97f94_row2_col5\" class=\"data row2 col5\" >0.4877</td>\n",
       "      <td id=\"T_97f94_row2_col6\" class=\"data row2 col6\" >0.5008</td>\n",
       "      <td id=\"T_97f94_row2_col7\" class=\"data row2 col7\" >0.5100</td>\n",
       "    </tr>\n",
       "    <tr>\n",
       "      <th id=\"T_97f94_level0_row3\" class=\"row_heading level0 row3\" >et</th>\n",
       "      <td id=\"T_97f94_row3_col0\" class=\"data row3 col0\" >Extra Trees Regressor</td>\n",
       "      <td id=\"T_97f94_row3_col1\" class=\"data row3 col1\" >32.0591</td>\n",
       "      <td id=\"T_97f94_row3_col2\" class=\"data row3 col2\" >2508.8009</td>\n",
       "      <td id=\"T_97f94_row3_col3\" class=\"data row3 col3\" >50.0749</td>\n",
       "      <td id=\"T_97f94_row3_col4\" class=\"data row3 col4\" >0.9231</td>\n",
       "      <td id=\"T_97f94_row3_col5\" class=\"data row3 col5\" >0.4066</td>\n",
       "      <td id=\"T_97f94_row3_col6\" class=\"data row3 col6\" >0.4305</td>\n",
       "      <td id=\"T_97f94_row3_col7\" class=\"data row3 col7\" >1.2250</td>\n",
       "    </tr>\n",
       "    <tr>\n",
       "      <th id=\"T_97f94_level0_row4\" class=\"row_heading level0 row4\" >rf</th>\n",
       "      <td id=\"T_97f94_row4_col0\" class=\"data row4 col0\" >Random Forest Regressor</td>\n",
       "      <td id=\"T_97f94_row4_col1\" class=\"data row4 col1\" >33.2572</td>\n",
       "      <td id=\"T_97f94_row4_col2\" class=\"data row4 col2\" >2805.9713</td>\n",
       "      <td id=\"T_97f94_row4_col3\" class=\"data row4 col3\" >52.8942</td>\n",
       "      <td id=\"T_97f94_row4_col4\" class=\"data row4 col4\" >0.9139</td>\n",
       "      <td id=\"T_97f94_row4_col5\" class=\"data row4 col5\" >0.4023</td>\n",
       "      <td id=\"T_97f94_row4_col6\" class=\"data row4 col6\" >0.3957</td>\n",
       "      <td id=\"T_97f94_row4_col7\" class=\"data row4 col7\" >0.8500</td>\n",
       "    </tr>\n",
       "    <tr>\n",
       "      <th id=\"T_97f94_level0_row5\" class=\"row_heading level0 row5\" >gbr</th>\n",
       "      <td id=\"T_97f94_row5_col0\" class=\"data row5 col0\" >Gradient Boosting Regressor</td>\n",
       "      <td id=\"T_97f94_row5_col1\" class=\"data row5 col1\" >48.2648</td>\n",
       "      <td id=\"T_97f94_row5_col2\" class=\"data row5 col2\" >5029.7497</td>\n",
       "      <td id=\"T_97f94_row5_col3\" class=\"data row5 col3\" >70.9200</td>\n",
       "      <td id=\"T_97f94_row5_col4\" class=\"data row5 col4\" >0.8459</td>\n",
       "      <td id=\"T_97f94_row5_col5\" class=\"data row5 col5\" >0.6831</td>\n",
       "      <td id=\"T_97f94_row5_col6\" class=\"data row5 col6\" >0.9465</td>\n",
       "      <td id=\"T_97f94_row5_col7\" class=\"data row5 col7\" >0.3950</td>\n",
       "    </tr>\n",
       "    <tr>\n",
       "      <th id=\"T_97f94_level0_row6\" class=\"row_heading level0 row6\" >dt</th>\n",
       "      <td id=\"T_97f94_row6_col0\" class=\"data row6 col0\" >Decision Tree Regressor</td>\n",
       "      <td id=\"T_97f94_row6_col1\" class=\"data row6 col1\" >44.2269</td>\n",
       "      <td id=\"T_97f94_row6_col2\" class=\"data row6 col2\" >5666.1756</td>\n",
       "      <td id=\"T_97f94_row6_col3\" class=\"data row6 col3\" >75.2546</td>\n",
       "      <td id=\"T_97f94_row6_col4\" class=\"data row6 col4\" >0.8265</td>\n",
       "      <td id=\"T_97f94_row6_col5\" class=\"data row6 col5\" >0.5062</td>\n",
       "      <td id=\"T_97f94_row6_col6\" class=\"data row6 col6\" >0.4487</td>\n",
       "      <td id=\"T_97f94_row6_col7\" class=\"data row6 col7\" >0.0900</td>\n",
       "    </tr>\n",
       "    <tr>\n",
       "      <th id=\"T_97f94_level0_row7\" class=\"row_heading level0 row7\" >ada</th>\n",
       "      <td id=\"T_97f94_row7_col0\" class=\"data row7 col0\" >AdaBoost Regressor</td>\n",
       "      <td id=\"T_97f94_row7_col1\" class=\"data row7 col1\" >93.2942</td>\n",
       "      <td id=\"T_97f94_row7_col2\" class=\"data row7 col2\" >12745.7432</td>\n",
       "      <td id=\"T_97f94_row7_col3\" class=\"data row7 col3\" >112.8570</td>\n",
       "      <td id=\"T_97f94_row7_col4\" class=\"data row7 col4\" >0.6098</td>\n",
       "      <td id=\"T_97f94_row7_col5\" class=\"data row7 col5\" >1.1200</td>\n",
       "      <td id=\"T_97f94_row7_col6\" class=\"data row7 col6\" >3.0700</td>\n",
       "      <td id=\"T_97f94_row7_col7\" class=\"data row7 col7\" >0.3150</td>\n",
       "    </tr>\n",
       "    <tr>\n",
       "      <th id=\"T_97f94_level0_row8\" class=\"row_heading level0 row8\" >knn</th>\n",
       "      <td id=\"T_97f94_row8_col0\" class=\"data row8 col0\" >K Neighbors Regressor</td>\n",
       "      <td id=\"T_97f94_row8_col1\" class=\"data row8 col1\" >91.5527</td>\n",
       "      <td id=\"T_97f94_row8_col2\" class=\"data row8 col2\" >17350.1050</td>\n",
       "      <td id=\"T_97f94_row8_col3\" class=\"data row8 col3\" >131.7149</td>\n",
       "      <td id=\"T_97f94_row8_col4\" class=\"data row8 col4\" >0.4683</td>\n",
       "      <td id=\"T_97f94_row8_col5\" class=\"data row8 col5\" >0.9565</td>\n",
       "      <td id=\"T_97f94_row8_col6\" class=\"data row8 col6\" >2.0157</td>\n",
       "      <td id=\"T_97f94_row8_col7\" class=\"data row8 col7\" >0.1400</td>\n",
       "    </tr>\n",
       "    <tr>\n",
       "      <th id=\"T_97f94_level0_row9\" class=\"row_heading level0 row9\" >lasso</th>\n",
       "      <td id=\"T_97f94_row9_col0\" class=\"data row9 col0\" >Lasso Regression</td>\n",
       "      <td id=\"T_97f94_row9_col1\" class=\"data row9 col1\" >105.7785</td>\n",
       "      <td id=\"T_97f94_row9_col2\" class=\"data row9 col2\" >19965.4478</td>\n",
       "      <td id=\"T_97f94_row9_col3\" class=\"data row9 col3\" >141.2960</td>\n",
       "      <td id=\"T_97f94_row9_col4\" class=\"data row9 col4\" >0.3884</td>\n",
       "      <td id=\"T_97f94_row9_col5\" class=\"data row9 col5\" >1.2136</td>\n",
       "      <td id=\"T_97f94_row9_col6\" class=\"data row9 col6\" >3.4087</td>\n",
       "      <td id=\"T_97f94_row9_col7\" class=\"data row9 col7\" >1.5300</td>\n",
       "    </tr>\n",
       "    <tr>\n",
       "      <th id=\"T_97f94_level0_row10\" class=\"row_heading level0 row10\" >br</th>\n",
       "      <td id=\"T_97f94_row10_col0\" class=\"data row10 col0\" >Bayesian Ridge</td>\n",
       "      <td id=\"T_97f94_row10_col1\" class=\"data row10 col1\" >106.1706</td>\n",
       "      <td id=\"T_97f94_row10_col2\" class=\"data row10 col2\" >20054.8617</td>\n",
       "      <td id=\"T_97f94_row10_col3\" class=\"data row10 col3\" >141.6130</td>\n",
       "      <td id=\"T_97f94_row10_col4\" class=\"data row10 col4\" >0.3857</td>\n",
       "      <td id=\"T_97f94_row10_col5\" class=\"data row10 col5\" >1.2116</td>\n",
       "      <td id=\"T_97f94_row10_col6\" class=\"data row10 col6\" >3.4339</td>\n",
       "      <td id=\"T_97f94_row10_col7\" class=\"data row10 col7\" >0.0800</td>\n",
       "    </tr>\n",
       "    <tr>\n",
       "      <th id=\"T_97f94_level0_row11\" class=\"row_heading level0 row11\" >ridge</th>\n",
       "      <td id=\"T_97f94_row11_col0\" class=\"data row11 col0\" >Ridge Regression</td>\n",
       "      <td id=\"T_97f94_row11_col1\" class=\"data row11 col1\" >106.7498</td>\n",
       "      <td id=\"T_97f94_row11_col2\" class=\"data row11 col2\" >20177.2838</td>\n",
       "      <td id=\"T_97f94_row11_col3\" class=\"data row11 col3\" >142.0454</td>\n",
       "      <td id=\"T_97f94_row11_col4\" class=\"data row11 col4\" >0.3819</td>\n",
       "      <td id=\"T_97f94_row11_col5\" class=\"data row11 col5\" >1.2189</td>\n",
       "      <td id=\"T_97f94_row11_col6\" class=\"data row11 col6\" >3.4904</td>\n",
       "      <td id=\"T_97f94_row11_col7\" class=\"data row11 col7\" >0.0700</td>\n",
       "    </tr>\n",
       "    <tr>\n",
       "      <th id=\"T_97f94_level0_row12\" class=\"row_heading level0 row12\" >omp</th>\n",
       "      <td id=\"T_97f94_row12_col0\" class=\"data row12 col0\" >Orthogonal Matching Pursuit</td>\n",
       "      <td id=\"T_97f94_row12_col1\" class=\"data row12 col1\" >106.5803</td>\n",
       "      <td id=\"T_97f94_row12_col2\" class=\"data row12 col2\" >20195.2692</td>\n",
       "      <td id=\"T_97f94_row12_col3\" class=\"data row12 col3\" >142.1075</td>\n",
       "      <td id=\"T_97f94_row12_col4\" class=\"data row12 col4\" >0.3814</td>\n",
       "      <td id=\"T_97f94_row12_col5\" class=\"data row12 col5\" >1.2175</td>\n",
       "      <td id=\"T_97f94_row12_col6\" class=\"data row12 col6\" >3.4193</td>\n",
       "      <td id=\"T_97f94_row12_col7\" class=\"data row12 col7\" >0.0200</td>\n",
       "    </tr>\n",
       "    <tr>\n",
       "      <th id=\"T_97f94_level0_row13\" class=\"row_heading level0 row13\" >en</th>\n",
       "      <td id=\"T_97f94_row13_col0\" class=\"data row13 col0\" >Elastic Net</td>\n",
       "      <td id=\"T_97f94_row13_col1\" class=\"data row13 col1\" >106.7367</td>\n",
       "      <td id=\"T_97f94_row13_col2\" class=\"data row13 col2\" >21093.0207</td>\n",
       "      <td id=\"T_97f94_row13_col3\" class=\"data row13 col3\" >145.2292</td>\n",
       "      <td id=\"T_97f94_row13_col4\" class=\"data row13 col4\" >0.3539</td>\n",
       "      <td id=\"T_97f94_row13_col5\" class=\"data row13 col5\" >1.1956</td>\n",
       "      <td id=\"T_97f94_row13_col6\" class=\"data row13 col6\" >3.1951</td>\n",
       "      <td id=\"T_97f94_row13_col7\" class=\"data row13 col7\" >0.0750</td>\n",
       "    </tr>\n",
       "    <tr>\n",
       "      <th id=\"T_97f94_level0_row14\" class=\"row_heading level0 row14\" >huber</th>\n",
       "      <td id=\"T_97f94_row14_col0\" class=\"data row14 col0\" >Huber Regressor</td>\n",
       "      <td id=\"T_97f94_row14_col1\" class=\"data row14 col1\" >101.1633</td>\n",
       "      <td id=\"T_97f94_row14_col2\" class=\"data row14 col2\" >21153.7973</td>\n",
       "      <td id=\"T_97f94_row14_col3\" class=\"data row14 col3\" >145.4412</td>\n",
       "      <td id=\"T_97f94_row14_col4\" class=\"data row14 col4\" >0.3520</td>\n",
       "      <td id=\"T_97f94_row14_col5\" class=\"data row14 col5\" >1.1501</td>\n",
       "      <td id=\"T_97f94_row14_col6\" class=\"data row14 col6\" >2.7471</td>\n",
       "      <td id=\"T_97f94_row14_col7\" class=\"data row14 col7\" >0.1850</td>\n",
       "    </tr>\n",
       "    <tr>\n",
       "      <th id=\"T_97f94_level0_row15\" class=\"row_heading level0 row15\" >llar</th>\n",
       "      <td id=\"T_97f94_row15_col0\" class=\"data row15 col0\" >Lasso Least Angle Regression</td>\n",
       "      <td id=\"T_97f94_row15_col1\" class=\"data row15 col1\" >133.4417</td>\n",
       "      <td id=\"T_97f94_row15_col2\" class=\"data row15 col2\" >29298.3670</td>\n",
       "      <td id=\"T_97f94_row15_col3\" class=\"data row15 col3\" >171.1614</td>\n",
       "      <td id=\"T_97f94_row15_col4\" class=\"data row15 col4\" >0.1026</td>\n",
       "      <td id=\"T_97f94_row15_col5\" class=\"data row15 col5\" >1.4981</td>\n",
       "      <td id=\"T_97f94_row15_col6\" class=\"data row15 col6\" >6.8028</td>\n",
       "      <td id=\"T_97f94_row15_col7\" class=\"data row15 col7\" >0.0750</td>\n",
       "    </tr>\n",
       "    <tr>\n",
       "      <th id=\"T_97f94_level0_row16\" class=\"row_heading level0 row16\" >dummy</th>\n",
       "      <td id=\"T_97f94_row16_col0\" class=\"data row16 col0\" >Dummy Regressor</td>\n",
       "      <td id=\"T_97f94_row16_col1\" class=\"data row16 col1\" >142.1453</td>\n",
       "      <td id=\"T_97f94_row16_col2\" class=\"data row16 col2\" >32651.2830</td>\n",
       "      <td id=\"T_97f94_row16_col3\" class=\"data row16 col3\" >180.6923</td>\n",
       "      <td id=\"T_97f94_row16_col4\" class=\"data row16 col4\" >-0.0001</td>\n",
       "      <td id=\"T_97f94_row16_col5\" class=\"data row16 col5\" >1.5580</td>\n",
       "      <td id=\"T_97f94_row16_col6\" class=\"data row16 col6\" >7.7709</td>\n",
       "      <td id=\"T_97f94_row16_col7\" class=\"data row16 col7\" >0.1450</td>\n",
       "    </tr>\n",
       "    <tr>\n",
       "      <th id=\"T_97f94_level0_row17\" class=\"row_heading level0 row17\" >lr</th>\n",
       "      <td id=\"T_97f94_row17_col0\" class=\"data row17 col0\" >Linear Regression</td>\n",
       "      <td id=\"T_97f94_row17_col1\" class=\"data row17 col1\" >109.1671</td>\n",
       "      <td id=\"T_97f94_row17_col2\" class=\"data row17 col2\" >55660.3950</td>\n",
       "      <td id=\"T_97f94_row17_col3\" class=\"data row17 col3\" >222.1417</td>\n",
       "      <td id=\"T_97f94_row17_col4\" class=\"data row17 col4\" >-0.7202</td>\n",
       "      <td id=\"T_97f94_row17_col5\" class=\"data row17 col5\" >1.2208</td>\n",
       "      <td id=\"T_97f94_row17_col6\" class=\"data row17 col6\" >3.5062</td>\n",
       "      <td id=\"T_97f94_row17_col7\" class=\"data row17 col7\" >1.9800</td>\n",
       "    </tr>\n",
       "    <tr>\n",
       "      <th id=\"T_97f94_level0_row18\" class=\"row_heading level0 row18\" >par</th>\n",
       "      <td id=\"T_97f94_row18_col0\" class=\"data row18 col0\" >Passive Aggressive Regressor</td>\n",
       "      <td id=\"T_97f94_row18_col1\" class=\"data row18 col1\" >207.4925</td>\n",
       "      <td id=\"T_97f94_row18_col2\" class=\"data row18 col2\" >65704.1117</td>\n",
       "      <td id=\"T_97f94_row18_col3\" class=\"data row18 col3\" >247.4358</td>\n",
       "      <td id=\"T_97f94_row18_col4\" class=\"data row18 col4\" >-0.9989</td>\n",
       "      <td id=\"T_97f94_row18_col5\" class=\"data row18 col5\" >1.6337</td>\n",
       "      <td id=\"T_97f94_row18_col6\" class=\"data row18 col6\" >8.3218</td>\n",
       "      <td id=\"T_97f94_row18_col7\" class=\"data row18 col7\" >0.0850</td>\n",
       "    </tr>\n",
       "    <tr>\n",
       "      <th id=\"T_97f94_level0_row19\" class=\"row_heading level0 row19\" >lar</th>\n",
       "      <td id=\"T_97f94_row19_col0\" class=\"data row19 col0\" >Least Angle Regression</td>\n",
       "      <td id=\"T_97f94_row19_col1\" class=\"data row19 col1\" >271200.2529</td>\n",
       "      <td id=\"T_97f94_row19_col2\" class=\"data row19 col2\" >241456238613.9856</td>\n",
       "      <td id=\"T_97f94_row19_col3\" class=\"data row19 col3\" >348354.5832</td>\n",
       "      <td id=\"T_97f94_row19_col4\" class=\"data row19 col4\" >-7294747.0430</td>\n",
       "      <td id=\"T_97f94_row19_col5\" class=\"data row19 col5\" >4.7912</td>\n",
       "      <td id=\"T_97f94_row19_col6\" class=\"data row19 col6\" >11106.5488</td>\n",
       "      <td id=\"T_97f94_row19_col7\" class=\"data row19 col7\" >0.0750</td>\n",
       "    </tr>\n",
       "  </tbody>\n",
       "</table>\n"
      ],
      "text/plain": [
       "<pandas.io.formats.style.Styler at 0x243ca893df0>"
      ]
     },
     "metadata": {},
     "output_type": "display_data"
    }
   ],
   "source": [
    "model = compare_models()"
   ]
  },
  {
   "cell_type": "markdown",
   "id": "82717a8e-2134-4caf-a2cc-051b7a63683a",
   "metadata": {},
   "source": [
    "## 모델 선택"
   ]
  },
  {
   "cell_type": "code",
   "execution_count": 19,
   "id": "6a7b4b61-456f-406b-bdce-0e6689596a2a",
   "metadata": {},
   "outputs": [
    {
     "data": {
      "text/html": [
       "<style type=\"text/css\">\n",
       "#T_3afa3_row2_col0, #T_3afa3_row2_col1, #T_3afa3_row2_col2, #T_3afa3_row2_col3, #T_3afa3_row2_col4, #T_3afa3_row2_col5 {\n",
       "  background: yellow;\n",
       "}\n",
       "</style>\n",
       "<table id=\"T_3afa3\">\n",
       "  <thead>\n",
       "    <tr>\n",
       "      <th class=\"blank level0\" >&nbsp;</th>\n",
       "      <th id=\"T_3afa3_level0_col0\" class=\"col_heading level0 col0\" >MAE</th>\n",
       "      <th id=\"T_3afa3_level0_col1\" class=\"col_heading level0 col1\" >MSE</th>\n",
       "      <th id=\"T_3afa3_level0_col2\" class=\"col_heading level0 col2\" >RMSE</th>\n",
       "      <th id=\"T_3afa3_level0_col3\" class=\"col_heading level0 col3\" >R2</th>\n",
       "      <th id=\"T_3afa3_level0_col4\" class=\"col_heading level0 col4\" >RMSLE</th>\n",
       "      <th id=\"T_3afa3_level0_col5\" class=\"col_heading level0 col5\" >MAPE</th>\n",
       "    </tr>\n",
       "    <tr>\n",
       "      <th class=\"index_name level0\" >Fold</th>\n",
       "      <th class=\"blank col0\" >&nbsp;</th>\n",
       "      <th class=\"blank col1\" >&nbsp;</th>\n",
       "      <th class=\"blank col2\" >&nbsp;</th>\n",
       "      <th class=\"blank col3\" >&nbsp;</th>\n",
       "      <th class=\"blank col4\" >&nbsp;</th>\n",
       "      <th class=\"blank col5\" >&nbsp;</th>\n",
       "    </tr>\n",
       "  </thead>\n",
       "  <tbody>\n",
       "    <tr>\n",
       "      <th id=\"T_3afa3_level0_row0\" class=\"row_heading level0 row0\" >0</th>\n",
       "      <td id=\"T_3afa3_row0_col0\" class=\"data row0 col0\" >32.2548</td>\n",
       "      <td id=\"T_3afa3_row0_col1\" class=\"data row0 col1\" >2503.4148</td>\n",
       "      <td id=\"T_3afa3_row0_col2\" class=\"data row0 col2\" >50.0341</td>\n",
       "      <td id=\"T_3afa3_row0_col3\" class=\"data row0 col3\" >0.9244</td>\n",
       "      <td id=\"T_3afa3_row0_col4\" class=\"data row0 col4\" >0.4124</td>\n",
       "      <td id=\"T_3afa3_row0_col5\" class=\"data row0 col5\" >0.4091</td>\n",
       "    </tr>\n",
       "    <tr>\n",
       "      <th id=\"T_3afa3_level0_row1\" class=\"row_heading level0 row1\" >1</th>\n",
       "      <td id=\"T_3afa3_row1_col0\" class=\"data row1 col0\" >34.2596</td>\n",
       "      <td id=\"T_3afa3_row1_col1\" class=\"data row1 col1\" >3108.5278</td>\n",
       "      <td id=\"T_3afa3_row1_col2\" class=\"data row1 col2\" >55.7542</td>\n",
       "      <td id=\"T_3afa3_row1_col3\" class=\"data row1 col3\" >0.9034</td>\n",
       "      <td id=\"T_3afa3_row1_col4\" class=\"data row1 col4\" >0.3921</td>\n",
       "      <td id=\"T_3afa3_row1_col5\" class=\"data row1 col5\" >0.3823</td>\n",
       "    </tr>\n",
       "    <tr>\n",
       "      <th id=\"T_3afa3_level0_row2\" class=\"row_heading level0 row2\" >Mean</th>\n",
       "      <td id=\"T_3afa3_row2_col0\" class=\"data row2 col0\" >33.2572</td>\n",
       "      <td id=\"T_3afa3_row2_col1\" class=\"data row2 col1\" >2805.9713</td>\n",
       "      <td id=\"T_3afa3_row2_col2\" class=\"data row2 col2\" >52.8942</td>\n",
       "      <td id=\"T_3afa3_row2_col3\" class=\"data row2 col3\" >0.9139</td>\n",
       "      <td id=\"T_3afa3_row2_col4\" class=\"data row2 col4\" >0.4023</td>\n",
       "      <td id=\"T_3afa3_row2_col5\" class=\"data row2 col5\" >0.3957</td>\n",
       "    </tr>\n",
       "    <tr>\n",
       "      <th id=\"T_3afa3_level0_row3\" class=\"row_heading level0 row3\" >Std</th>\n",
       "      <td id=\"T_3afa3_row3_col0\" class=\"data row3 col0\" >1.0024</td>\n",
       "      <td id=\"T_3afa3_row3_col1\" class=\"data row3 col1\" >302.5565</td>\n",
       "      <td id=\"T_3afa3_row3_col2\" class=\"data row3 col2\" >2.8600</td>\n",
       "      <td id=\"T_3afa3_row3_col3\" class=\"data row3 col3\" >0.0105</td>\n",
       "      <td id=\"T_3afa3_row3_col4\" class=\"data row3 col4\" >0.0102</td>\n",
       "      <td id=\"T_3afa3_row3_col5\" class=\"data row3 col5\" >0.0134</td>\n",
       "    </tr>\n",
       "  </tbody>\n",
       "</table>\n"
      ],
      "text/plain": [
       "<pandas.io.formats.style.Styler at 0x243ca947e80>"
      ]
     },
     "metadata": {},
     "output_type": "display_data"
    }
   ],
   "source": [
    "# Random Forest Regressor\n",
    "rf_model = create_model(\"rf\")"
   ]
  },
  {
   "cell_type": "code",
   "execution_count": 20,
   "id": "71279451-0f25-4505-b5fb-58d032f7dd3a",
   "metadata": {},
   "outputs": [
    {
     "data": {
      "text/html": [
       "<style type=\"text/css\">\n",
       "#T_6500e_row2_col0, #T_6500e_row2_col1, #T_6500e_row2_col2, #T_6500e_row2_col3, #T_6500e_row2_col4, #T_6500e_row2_col5 {\n",
       "  background: yellow;\n",
       "}\n",
       "</style>\n",
       "<table id=\"T_6500e\">\n",
       "  <thead>\n",
       "    <tr>\n",
       "      <th class=\"blank level0\" >&nbsp;</th>\n",
       "      <th id=\"T_6500e_level0_col0\" class=\"col_heading level0 col0\" >MAE</th>\n",
       "      <th id=\"T_6500e_level0_col1\" class=\"col_heading level0 col1\" >MSE</th>\n",
       "      <th id=\"T_6500e_level0_col2\" class=\"col_heading level0 col2\" >RMSE</th>\n",
       "      <th id=\"T_6500e_level0_col3\" class=\"col_heading level0 col3\" >R2</th>\n",
       "      <th id=\"T_6500e_level0_col4\" class=\"col_heading level0 col4\" >RMSLE</th>\n",
       "      <th id=\"T_6500e_level0_col5\" class=\"col_heading level0 col5\" >MAPE</th>\n",
       "    </tr>\n",
       "    <tr>\n",
       "      <th class=\"index_name level0\" >Fold</th>\n",
       "      <th class=\"blank col0\" >&nbsp;</th>\n",
       "      <th class=\"blank col1\" >&nbsp;</th>\n",
       "      <th class=\"blank col2\" >&nbsp;</th>\n",
       "      <th class=\"blank col3\" >&nbsp;</th>\n",
       "      <th class=\"blank col4\" >&nbsp;</th>\n",
       "      <th class=\"blank col5\" >&nbsp;</th>\n",
       "    </tr>\n",
       "  </thead>\n",
       "  <tbody>\n",
       "    <tr>\n",
       "      <th id=\"T_6500e_level0_row0\" class=\"row_heading level0 row0\" >0</th>\n",
       "      <td id=\"T_6500e_row0_col0\" class=\"data row0 col0\" >48.6988</td>\n",
       "      <td id=\"T_6500e_row0_col1\" class=\"data row0 col1\" >4984.2927</td>\n",
       "      <td id=\"T_6500e_row0_col2\" class=\"data row0 col2\" >70.5995</td>\n",
       "      <td id=\"T_6500e_row0_col3\" class=\"data row0 col3\" >0.8494</td>\n",
       "      <td id=\"T_6500e_row0_col4\" class=\"data row0 col4\" >0.6840</td>\n",
       "      <td id=\"T_6500e_row0_col5\" class=\"data row0 col5\" >0.9878</td>\n",
       "    </tr>\n",
       "    <tr>\n",
       "      <th id=\"T_6500e_level0_row1\" class=\"row_heading level0 row1\" >1</th>\n",
       "      <td id=\"T_6500e_row1_col0\" class=\"data row1 col0\" >47.8309</td>\n",
       "      <td id=\"T_6500e_row1_col1\" class=\"data row1 col1\" >5075.2067</td>\n",
       "      <td id=\"T_6500e_row1_col2\" class=\"data row1 col2\" >71.2405</td>\n",
       "      <td id=\"T_6500e_row1_col3\" class=\"data row1 col3\" >0.8424</td>\n",
       "      <td id=\"T_6500e_row1_col4\" class=\"data row1 col4\" >0.6821</td>\n",
       "      <td id=\"T_6500e_row1_col5\" class=\"data row1 col5\" >0.9053</td>\n",
       "    </tr>\n",
       "    <tr>\n",
       "      <th id=\"T_6500e_level0_row2\" class=\"row_heading level0 row2\" >Mean</th>\n",
       "      <td id=\"T_6500e_row2_col0\" class=\"data row2 col0\" >48.2648</td>\n",
       "      <td id=\"T_6500e_row2_col1\" class=\"data row2 col1\" >5029.7497</td>\n",
       "      <td id=\"T_6500e_row2_col2\" class=\"data row2 col2\" >70.9200</td>\n",
       "      <td id=\"T_6500e_row2_col3\" class=\"data row2 col3\" >0.8459</td>\n",
       "      <td id=\"T_6500e_row2_col4\" class=\"data row2 col4\" >0.6831</td>\n",
       "      <td id=\"T_6500e_row2_col5\" class=\"data row2 col5\" >0.9465</td>\n",
       "    </tr>\n",
       "    <tr>\n",
       "      <th id=\"T_6500e_level0_row3\" class=\"row_heading level0 row3\" >Std</th>\n",
       "      <td id=\"T_6500e_row3_col0\" class=\"data row3 col0\" >0.4340</td>\n",
       "      <td id=\"T_6500e_row3_col1\" class=\"data row3 col1\" >45.4570</td>\n",
       "      <td id=\"T_6500e_row3_col2\" class=\"data row3 col2\" >0.3205</td>\n",
       "      <td id=\"T_6500e_row3_col3\" class=\"data row3 col3\" >0.0035</td>\n",
       "      <td id=\"T_6500e_row3_col4\" class=\"data row3 col4\" >0.0009</td>\n",
       "      <td id=\"T_6500e_row3_col5\" class=\"data row3 col5\" >0.0412</td>\n",
       "    </tr>\n",
       "  </tbody>\n",
       "</table>\n"
      ],
      "text/plain": [
       "<pandas.io.formats.style.Styler at 0x243caa2d4f0>"
      ]
     },
     "metadata": {},
     "output_type": "display_data"
    }
   ],
   "source": [
    "# Gradient Boosting Regressor\n",
    "gbr_model = create_model(\"gbr\")"
   ]
  },
  {
   "cell_type": "markdown",
   "id": "a755f195-fc08-4086-9b93-7d2a064581ce",
   "metadata": {},
   "source": [
    "## 모델 튜닝"
   ]
  },
  {
   "cell_type": "code",
   "execution_count": 21,
   "id": "3b246161-c68c-4d9c-a7be-d823a87bcde4",
   "metadata": {},
   "outputs": [
    {
     "data": {
      "text/html": [
       "<style type=\"text/css\">\n",
       "#T_513fe_row2_col0, #T_513fe_row2_col1, #T_513fe_row2_col2, #T_513fe_row2_col3, #T_513fe_row2_col4, #T_513fe_row2_col5 {\n",
       "  background: yellow;\n",
       "}\n",
       "</style>\n",
       "<table id=\"T_513fe\">\n",
       "  <thead>\n",
       "    <tr>\n",
       "      <th class=\"blank level0\" >&nbsp;</th>\n",
       "      <th id=\"T_513fe_level0_col0\" class=\"col_heading level0 col0\" >MAE</th>\n",
       "      <th id=\"T_513fe_level0_col1\" class=\"col_heading level0 col1\" >MSE</th>\n",
       "      <th id=\"T_513fe_level0_col2\" class=\"col_heading level0 col2\" >RMSE</th>\n",
       "      <th id=\"T_513fe_level0_col3\" class=\"col_heading level0 col3\" >R2</th>\n",
       "      <th id=\"T_513fe_level0_col4\" class=\"col_heading level0 col4\" >RMSLE</th>\n",
       "      <th id=\"T_513fe_level0_col5\" class=\"col_heading level0 col5\" >MAPE</th>\n",
       "    </tr>\n",
       "    <tr>\n",
       "      <th class=\"index_name level0\" >Fold</th>\n",
       "      <th class=\"blank col0\" >&nbsp;</th>\n",
       "      <th class=\"blank col1\" >&nbsp;</th>\n",
       "      <th class=\"blank col2\" >&nbsp;</th>\n",
       "      <th class=\"blank col3\" >&nbsp;</th>\n",
       "      <th class=\"blank col4\" >&nbsp;</th>\n",
       "      <th class=\"blank col5\" >&nbsp;</th>\n",
       "    </tr>\n",
       "  </thead>\n",
       "  <tbody>\n",
       "    <tr>\n",
       "      <th id=\"T_513fe_level0_row0\" class=\"row_heading level0 row0\" >0</th>\n",
       "      <td id=\"T_513fe_row0_col0\" class=\"data row0 col0\" >80.2121</td>\n",
       "      <td id=\"T_513fe_row0_col1\" class=\"data row0 col1\" >12834.0202</td>\n",
       "      <td id=\"T_513fe_row0_col2\" class=\"data row0 col2\" >113.2873</td>\n",
       "      <td id=\"T_513fe_row0_col3\" class=\"data row0 col3\" >0.6123</td>\n",
       "      <td id=\"T_513fe_row0_col4\" class=\"data row0 col4\" >0.9895</td>\n",
       "      <td id=\"T_513fe_row0_col5\" class=\"data row0 col5\" >2.2424</td>\n",
       "    </tr>\n",
       "    <tr>\n",
       "      <th id=\"T_513fe_level0_row1\" class=\"row_heading level0 row1\" >1</th>\n",
       "      <td id=\"T_513fe_row1_col0\" class=\"data row1 col0\" >81.7189</td>\n",
       "      <td id=\"T_513fe_row1_col1\" class=\"data row1 col1\" >12807.6943</td>\n",
       "      <td id=\"T_513fe_row1_col2\" class=\"data row1 col2\" >113.1711</td>\n",
       "      <td id=\"T_513fe_row1_col3\" class=\"data row1 col3\" >0.6022</td>\n",
       "      <td id=\"T_513fe_row1_col4\" class=\"data row1 col4\" >0.9998</td>\n",
       "      <td id=\"T_513fe_row1_col5\" class=\"data row1 col5\" >2.3119</td>\n",
       "    </tr>\n",
       "    <tr>\n",
       "      <th id=\"T_513fe_level0_row2\" class=\"row_heading level0 row2\" >Mean</th>\n",
       "      <td id=\"T_513fe_row2_col0\" class=\"data row2 col0\" >80.9655</td>\n",
       "      <td id=\"T_513fe_row2_col1\" class=\"data row2 col1\" >12820.8572</td>\n",
       "      <td id=\"T_513fe_row2_col2\" class=\"data row2 col2\" >113.2292</td>\n",
       "      <td id=\"T_513fe_row2_col3\" class=\"data row2 col3\" >0.6072</td>\n",
       "      <td id=\"T_513fe_row2_col4\" class=\"data row2 col4\" >0.9947</td>\n",
       "      <td id=\"T_513fe_row2_col5\" class=\"data row2 col5\" >2.2771</td>\n",
       "    </tr>\n",
       "    <tr>\n",
       "      <th id=\"T_513fe_level0_row3\" class=\"row_heading level0 row3\" >Std</th>\n",
       "      <td id=\"T_513fe_row3_col0\" class=\"data row3 col0\" >0.7534</td>\n",
       "      <td id=\"T_513fe_row3_col1\" class=\"data row3 col1\" >13.1629</td>\n",
       "      <td id=\"T_513fe_row3_col2\" class=\"data row3 col2\" >0.0581</td>\n",
       "      <td id=\"T_513fe_row3_col3\" class=\"data row3 col3\" >0.0050</td>\n",
       "      <td id=\"T_513fe_row3_col4\" class=\"data row3 col4\" >0.0051</td>\n",
       "      <td id=\"T_513fe_row3_col5\" class=\"data row3 col5\" >0.0347</td>\n",
       "    </tr>\n",
       "  </tbody>\n",
       "</table>\n"
      ],
      "text/plain": [
       "<pandas.io.formats.style.Styler at 0x243ca216e20>"
      ]
     },
     "metadata": {},
     "output_type": "display_data"
    }
   ],
   "source": [
    "tune_rf_model  = tune_model(rf_model)"
   ]
  },
  {
   "cell_type": "code",
   "execution_count": 22,
   "id": "cf5958a2-e41b-4b50-9f08-e393c723c9a7",
   "metadata": {},
   "outputs": [
    {
     "data": {
      "text/html": [
       "<style type=\"text/css\">\n",
       "#T_908bf_row2_col0, #T_908bf_row2_col1, #T_908bf_row2_col2, #T_908bf_row2_col3, #T_908bf_row2_col4, #T_908bf_row2_col5 {\n",
       "  background: yellow;\n",
       "}\n",
       "</style>\n",
       "<table id=\"T_908bf\">\n",
       "  <thead>\n",
       "    <tr>\n",
       "      <th class=\"blank level0\" >&nbsp;</th>\n",
       "      <th id=\"T_908bf_level0_col0\" class=\"col_heading level0 col0\" >MAE</th>\n",
       "      <th id=\"T_908bf_level0_col1\" class=\"col_heading level0 col1\" >MSE</th>\n",
       "      <th id=\"T_908bf_level0_col2\" class=\"col_heading level0 col2\" >RMSE</th>\n",
       "      <th id=\"T_908bf_level0_col3\" class=\"col_heading level0 col3\" >R2</th>\n",
       "      <th id=\"T_908bf_level0_col4\" class=\"col_heading level0 col4\" >RMSLE</th>\n",
       "      <th id=\"T_908bf_level0_col5\" class=\"col_heading level0 col5\" >MAPE</th>\n",
       "    </tr>\n",
       "    <tr>\n",
       "      <th class=\"index_name level0\" >Fold</th>\n",
       "      <th class=\"blank col0\" >&nbsp;</th>\n",
       "      <th class=\"blank col1\" >&nbsp;</th>\n",
       "      <th class=\"blank col2\" >&nbsp;</th>\n",
       "      <th class=\"blank col3\" >&nbsp;</th>\n",
       "      <th class=\"blank col4\" >&nbsp;</th>\n",
       "      <th class=\"blank col5\" >&nbsp;</th>\n",
       "    </tr>\n",
       "  </thead>\n",
       "  <tbody>\n",
       "    <tr>\n",
       "      <th id=\"T_908bf_level0_row0\" class=\"row_heading level0 row0\" >0</th>\n",
       "      <td id=\"T_908bf_row0_col0\" class=\"data row0 col0\" >46.2711</td>\n",
       "      <td id=\"T_908bf_row0_col1\" class=\"data row0 col1\" >4271.2572</td>\n",
       "      <td id=\"T_908bf_row0_col2\" class=\"data row0 col2\" >65.3549</td>\n",
       "      <td id=\"T_908bf_row0_col3\" class=\"data row0 col3\" >0.8710</td>\n",
       "      <td id=\"T_908bf_row0_col4\" class=\"data row0 col4\" >0.7254</td>\n",
       "      <td id=\"T_908bf_row0_col5\" class=\"data row0 col5\" >1.0886</td>\n",
       "    </tr>\n",
       "    <tr>\n",
       "      <th id=\"T_908bf_level0_row1\" class=\"row_heading level0 row1\" >1</th>\n",
       "      <td id=\"T_908bf_row1_col0\" class=\"data row1 col0\" >45.8923</td>\n",
       "      <td id=\"T_908bf_row1_col1\" class=\"data row1 col1\" >4282.9527</td>\n",
       "      <td id=\"T_908bf_row1_col2\" class=\"data row1 col2\" >65.4443</td>\n",
       "      <td id=\"T_908bf_row1_col3\" class=\"data row1 col3\" >0.8670</td>\n",
       "      <td id=\"T_908bf_row1_col4\" class=\"data row1 col4\" >0.7511</td>\n",
       "      <td id=\"T_908bf_row1_col5\" class=\"data row1 col5\" >1.1588</td>\n",
       "    </tr>\n",
       "    <tr>\n",
       "      <th id=\"T_908bf_level0_row2\" class=\"row_heading level0 row2\" >Mean</th>\n",
       "      <td id=\"T_908bf_row2_col0\" class=\"data row2 col0\" >46.0817</td>\n",
       "      <td id=\"T_908bf_row2_col1\" class=\"data row2 col1\" >4277.1050</td>\n",
       "      <td id=\"T_908bf_row2_col2\" class=\"data row2 col2\" >65.3996</td>\n",
       "      <td id=\"T_908bf_row2_col3\" class=\"data row2 col3\" >0.8690</td>\n",
       "      <td id=\"T_908bf_row2_col4\" class=\"data row2 col4\" >0.7382</td>\n",
       "      <td id=\"T_908bf_row2_col5\" class=\"data row2 col5\" >1.1237</td>\n",
       "    </tr>\n",
       "    <tr>\n",
       "      <th id=\"T_908bf_level0_row3\" class=\"row_heading level0 row3\" >Std</th>\n",
       "      <td id=\"T_908bf_row3_col0\" class=\"data row3 col0\" >0.1894</td>\n",
       "      <td id=\"T_908bf_row3_col1\" class=\"data row3 col1\" >5.8478</td>\n",
       "      <td id=\"T_908bf_row3_col2\" class=\"data row3 col2\" >0.0447</td>\n",
       "      <td id=\"T_908bf_row3_col3\" class=\"data row3 col3\" >0.0020</td>\n",
       "      <td id=\"T_908bf_row3_col4\" class=\"data row3 col4\" >0.0128</td>\n",
       "      <td id=\"T_908bf_row3_col5\" class=\"data row3 col5\" >0.0351</td>\n",
       "    </tr>\n",
       "  </tbody>\n",
       "</table>\n"
      ],
      "text/plain": [
       "<pandas.io.formats.style.Styler at 0x243ca86cb20>"
      ]
     },
     "metadata": {},
     "output_type": "display_data"
    }
   ],
   "source": [
    "tune_gbr_model = tune_model(gbr_model)"
   ]
  },
  {
   "cell_type": "markdown",
   "id": "c51ff38f-0c40-40da-b6f2-7e896259e1e1",
   "metadata": {},
   "source": [
    "## 모델 성능 차트"
   ]
  },
  {
   "cell_type": "code",
   "execution_count": 23,
   "id": "9bb99f9b-b02c-4494-8fd5-c1e638949abf",
   "metadata": {},
   "outputs": [
    {
     "data": {
      "image/png": "[encoded data removed]",
      "text/plain": [
       "<Figure size 432x288 with 2 Axes>"
      ]
     },
     "metadata": {
      "needs_background": "light"
     },
     "output_type": "display_data"
    }
   ],
   "source": [
    "plot_model(tune_rf_model)"
   ]
  },
  {
   "cell_type": "code",
   "execution_count": 24,
   "id": "22352d0f-b830-4d79-b88e-b830b769d725",
   "metadata": {},
   "outputs": [
    {
     "data": {
      "image/png": "[encoded data removed]",
      "text/plain": [
       "<Figure size 432x288 with 2 Axes>"
      ]
     },
     "metadata": {
      "needs_background": "light"
     },
     "output_type": "display_data"
    }
   ],
   "source": [
    "plot_model(tune_gbr_model)"
   ]
  },
  {
   "cell_type": "code",
   "execution_count": 25,
   "id": "4b7df0ec-41ea-433b-af38-33be2a3ff986",
   "metadata": {},
   "outputs": [
    {
     "data": {
      "image/png": "[encoded data removed]",
      "text/plain": [
       "<Figure size 432x288 with 1 Axes>"
      ]
     },
     "metadata": {
      "needs_background": "light"
     },
     "output_type": "display_data"
    }
   ],
   "source": [
    "plot_model(tune_rf_model, plot=\"error\")"
   ]
  },
  {
   "cell_type": "code",
   "execution_count": 26,
   "id": "15996a39-ac19-4634-b8d1-502af56661fe",
   "metadata": {},
   "outputs": [
    {
     "data": {
      "image/png": "[encoded data removed]",
      "text/plain": [
       "<Figure size 432x288 with 1 Axes>"
      ]
     },
     "metadata": {
      "needs_background": "light"
     },
     "output_type": "display_data"
    }
   ],
   "source": [
    "plot_model(tune_gbr_model, plot=\"error\")"
   ]
  },
  {
   "cell_type": "code",
   "execution_count": 27,
   "id": "4d796fc8-a682-47ae-a36f-0d393c81c236",
   "metadata": {},
   "outputs": [
    {
     "data": {
      "image/png": "[encoded data removed]",
      "text/plain": [
       "<Figure size 800x500 with 1 Axes>"
      ]
     },
     "metadata": {
      "needs_background": "light"
     },
     "output_type": "display_data"
    }
   ],
   "source": [
    "plot_model(tune_rf_model, plot=\"feature\")"
   ]
  },
  {
   "cell_type": "code",
   "execution_count": 28,
   "id": "c22d7f91-8443-4e5f-a041-c9d6122f22be",
   "metadata": {},
   "outputs": [
    {
     "data": {
      "image/png": "[encoded data removed]",
      "text/plain": [
       "<Figure size 800x500 with 1 Axes>"
      ]
     },
     "metadata": {
      "needs_background": "light"
     },
     "output_type": "display_data"
    }
   ],
   "source": [
    "plot_model(tune_gbr_model, plot=\"feature\")"
   ]
  },
  {
   "cell_type": "markdown",
   "id": "4a97e4f1-25c5-46d5-895f-27d903cf3fcd",
   "metadata": {},
   "source": [
    "# 평가"
   ]
  },
  {
   "cell_type": "code",
   "execution_count": 29,
   "id": "7fdf799b-91a9-4411-b716-48cf1dfe001a",
   "metadata": {},
   "outputs": [
    {
     "data": {
      "application/vnd.jupyter.widget-view+json": {
       "model_id": "e80d10df5ec84698bd731398f13200d9",
       "version_major": 2,
       "version_minor": 0
      },
      "text/plain": [
       "interactive(children=(ToggleButtons(description='Plot Type:', icons=('',), options=(('Hyperparameters', 'param…"
      ]
     },
     "metadata": {},
     "output_type": "display_data"
    }
   ],
   "source": [
    "evaluate_model(tune_rf_model)"
   ]
  },
  {
   "cell_type": "code",
   "execution_count": 30,
   "id": "a4e0a741-8ca4-4b78-9392-eb85738cc00e",
   "metadata": {},
   "outputs": [
    {
     "data": {
      "application/vnd.jupyter.widget-view+json": {
       "model_id": "4caaff30d2374b36ae0d62be395dcbac",
       "version_major": 2,
       "version_minor": 0
      },
      "text/plain": [
       "interactive(children=(ToggleButtons(description='Plot Type:', icons=('',), options=(('Hyperparameters', 'param…"
      ]
     },
     "metadata": {},
     "output_type": "display_data"
    }
   ],
   "source": [
    "evaluate_model(tune_gbr_model)"
   ]
  },
  {
   "cell_type": "markdown",
   "id": "bb622fbd-21fd-4c35-8e33-b5e75b646c91",
   "metadata": {},
   "source": [
    "# 예측"
   ]
  },
  {
   "cell_type": "code",
   "execution_count": 31,
   "id": "39274d0c-cd60-4848-9cfe-9ed1fea5b8fb",
   "metadata": {},
   "outputs": [
    {
     "data": {
      "text/html": [
       "<style type=\"text/css\">\n",
       "</style>\n",
       "<table id=\"T_76925\">\n",
       "  <thead>\n",
       "    <tr>\n",
       "      <th class=\"blank level0\" >&nbsp;</th>\n",
       "      <th id=\"T_76925_level0_col0\" class=\"col_heading level0 col0\" >Model</th>\n",
       "      <th id=\"T_76925_level0_col1\" class=\"col_heading level0 col1\" >MAE</th>\n",
       "      <th id=\"T_76925_level0_col2\" class=\"col_heading level0 col2\" >MSE</th>\n",
       "      <th id=\"T_76925_level0_col3\" class=\"col_heading level0 col3\" >RMSE</th>\n",
       "      <th id=\"T_76925_level0_col4\" class=\"col_heading level0 col4\" >R2</th>\n",
       "      <th id=\"T_76925_level0_col5\" class=\"col_heading level0 col5\" >RMSLE</th>\n",
       "      <th id=\"T_76925_level0_col6\" class=\"col_heading level0 col6\" >MAPE</th>\n",
       "    </tr>\n",
       "  </thead>\n",
       "  <tbody>\n",
       "    <tr>\n",
       "      <th id=\"T_76925_level0_row0\" class=\"row_heading level0 row0\" >0</th>\n",
       "      <td id=\"T_76925_row0_col0\" class=\"data row0 col0\" >Random Forest Regressor</td>\n",
       "      <td id=\"T_76925_row0_col1\" class=\"data row0 col1\" >77.5781</td>\n",
       "      <td id=\"T_76925_row0_col2\" class=\"data row0 col2\" >11996.8586</td>\n",
       "      <td id=\"T_76925_row0_col3\" class=\"data row0 col3\" >109.5302</td>\n",
       "      <td id=\"T_76925_row0_col4\" class=\"data row0 col4\" >0.6433</td>\n",
       "      <td id=\"T_76925_row0_col5\" class=\"data row0 col5\" >0.9582</td>\n",
       "      <td id=\"T_76925_row0_col6\" class=\"data row0 col6\" >2.0777</td>\n",
       "    </tr>\n",
       "  </tbody>\n",
       "</table>\n"
      ],
      "text/plain": [
       "<pandas.io.formats.style.Styler at 0x243cf0605b0>"
      ]
     },
     "metadata": {},
     "output_type": "display_data"
    },
    {
     "data": {
      "text/plain": [
       "0     27.092323\n",
       "1    414.283649\n",
       "2    271.978248\n",
       "3    283.484268\n",
       "4     78.328422\n",
       "Name: Label, dtype: float64"
      ]
     },
     "execution_count": 31,
     "metadata": {},
     "output_type": "execute_result"
    }
   ],
   "source": [
    "rf_res = predict_model(tune_rf_model)\n",
    "rf_pred = rf_res[\"Label\"]\n",
    "rf_pred[:5]"
   ]
  },
  {
   "cell_type": "code",
   "execution_count": 32,
   "id": "87184d51-28bf-4865-b8c1-6ff81fc8b742",
   "metadata": {},
   "outputs": [
    {
     "data": {
      "text/html": [
       "<style type=\"text/css\">\n",
       "</style>\n",
       "<table id=\"T_d97e6\">\n",
       "  <thead>\n",
       "    <tr>\n",
       "      <th class=\"blank level0\" >&nbsp;</th>\n",
       "      <th id=\"T_d97e6_level0_col0\" class=\"col_heading level0 col0\" >Model</th>\n",
       "      <th id=\"T_d97e6_level0_col1\" class=\"col_heading level0 col1\" >MAE</th>\n",
       "      <th id=\"T_d97e6_level0_col2\" class=\"col_heading level0 col2\" >MSE</th>\n",
       "      <th id=\"T_d97e6_level0_col3\" class=\"col_heading level0 col3\" >RMSE</th>\n",
       "      <th id=\"T_d97e6_level0_col4\" class=\"col_heading level0 col4\" >R2</th>\n",
       "      <th id=\"T_d97e6_level0_col5\" class=\"col_heading level0 col5\" >RMSLE</th>\n",
       "      <th id=\"T_d97e6_level0_col6\" class=\"col_heading level0 col6\" >MAPE</th>\n",
       "    </tr>\n",
       "  </thead>\n",
       "  <tbody>\n",
       "    <tr>\n",
       "      <th id=\"T_d97e6_level0_row0\" class=\"row_heading level0 row0\" >0</th>\n",
       "      <td id=\"T_d97e6_row0_col0\" class=\"data row0 col0\" >Gradient Boosting Regressor</td>\n",
       "      <td id=\"T_d97e6_row0_col1\" class=\"data row0 col1\" >35.7006</td>\n",
       "      <td id=\"T_d97e6_row0_col2\" class=\"data row0 col2\" >2636.7789</td>\n",
       "      <td id=\"T_d97e6_row0_col3\" class=\"data row0 col3\" >51.3496</td>\n",
       "      <td id=\"T_d97e6_row0_col4\" class=\"data row0 col4\" >0.9216</td>\n",
       "      <td id=\"T_d97e6_row0_col5\" class=\"data row0 col5\" >0.6427</td>\n",
       "      <td id=\"T_d97e6_row0_col6\" class=\"data row0 col6\" >0.8396</td>\n",
       "    </tr>\n",
       "  </tbody>\n",
       "</table>\n"
      ],
      "text/plain": [
       "<pandas.io.formats.style.Styler at 0x243cf0d1610>"
      ]
     },
     "metadata": {},
     "output_type": "display_data"
    },
    {
     "data": {
      "text/plain": [
       "0     -1.484895\n",
       "1    463.249634\n",
       "2    182.905409\n",
       "3    244.500437\n",
       "4     32.623303\n",
       "Name: Label, dtype: float64"
      ]
     },
     "execution_count": 32,
     "metadata": {},
     "output_type": "execute_result"
    }
   ],
   "source": [
    "gbr_res = predict_model(tune_gbr_model)\n",
    "gbr_pred = gbr_res[\"Label\"]\n",
    "gbr_pred[:5]"
   ]
  },
  {
   "cell_type": "markdown",
   "id": "23ebf89b-eced-4b96-9c3b-2d7ebc817d0b",
   "metadata": {},
   "source": [
    "# Voting"
   ]
  },
  {
   "cell_type": "code",
   "execution_count": 33,
   "id": "d9bece77-a7fa-4d87-8a6f-73195b41f2ad",
   "metadata": {},
   "outputs": [],
   "source": [
    "# 17*0.2 + 7*0.8"
   ]
  },
  {
   "cell_type": "code",
   "execution_count": 34,
   "id": "0773ea97-4abb-4a50-8a8f-a6145913027c",
   "metadata": {},
   "outputs": [
    {
     "data": {
      "text/html": [
       "<style type=\"text/css\">\n",
       "#T_6fe2b_row2_col0, #T_6fe2b_row2_col1, #T_6fe2b_row2_col2, #T_6fe2b_row2_col3, #T_6fe2b_row2_col4, #T_6fe2b_row2_col5 {\n",
       "  background: yellow;\n",
       "}\n",
       "</style>\n",
       "<table id=\"T_6fe2b\">\n",
       "  <thead>\n",
       "    <tr>\n",
       "      <th class=\"blank level0\" >&nbsp;</th>\n",
       "      <th id=\"T_6fe2b_level0_col0\" class=\"col_heading level0 col0\" >MAE</th>\n",
       "      <th id=\"T_6fe2b_level0_col1\" class=\"col_heading level0 col1\" >MSE</th>\n",
       "      <th id=\"T_6fe2b_level0_col2\" class=\"col_heading level0 col2\" >RMSE</th>\n",
       "      <th id=\"T_6fe2b_level0_col3\" class=\"col_heading level0 col3\" >R2</th>\n",
       "      <th id=\"T_6fe2b_level0_col4\" class=\"col_heading level0 col4\" >RMSLE</th>\n",
       "      <th id=\"T_6fe2b_level0_col5\" class=\"col_heading level0 col5\" >MAPE</th>\n",
       "    </tr>\n",
       "    <tr>\n",
       "      <th class=\"index_name level0\" >Fold</th>\n",
       "      <th class=\"blank col0\" >&nbsp;</th>\n",
       "      <th class=\"blank col1\" >&nbsp;</th>\n",
       "      <th class=\"blank col2\" >&nbsp;</th>\n",
       "      <th class=\"blank col3\" >&nbsp;</th>\n",
       "      <th class=\"blank col4\" >&nbsp;</th>\n",
       "      <th class=\"blank col5\" >&nbsp;</th>\n",
       "    </tr>\n",
       "  </thead>\n",
       "  <tbody>\n",
       "    <tr>\n",
       "      <th id=\"T_6fe2b_level0_row0\" class=\"row_heading level0 row0\" >0</th>\n",
       "      <td id=\"T_6fe2b_row0_col0\" class=\"data row0 col0\" >55.2424</td>\n",
       "      <td id=\"T_6fe2b_row0_col1\" class=\"data row0 col1\" >6459.5838</td>\n",
       "      <td id=\"T_6fe2b_row0_col2\" class=\"data row0 col2\" >80.3715</td>\n",
       "      <td id=\"T_6fe2b_row0_col3\" class=\"data row0 col3\" >0.8048</td>\n",
       "      <td id=\"T_6fe2b_row0_col4\" class=\"data row0 col4\" >0.7586</td>\n",
       "      <td id=\"T_6fe2b_row0_col5\" class=\"data row0 col5\" >1.2811</td>\n",
       "    </tr>\n",
       "    <tr>\n",
       "      <th id=\"T_6fe2b_level0_row1\" class=\"row_heading level0 row1\" >1</th>\n",
       "      <td id=\"T_6fe2b_row1_col0\" class=\"data row1 col0\" >56.6605</td>\n",
       "      <td id=\"T_6fe2b_row1_col1\" class=\"data row1 col1\" >6449.8365</td>\n",
       "      <td id=\"T_6fe2b_row1_col2\" class=\"data row1 col2\" >80.3109</td>\n",
       "      <td id=\"T_6fe2b_row1_col3\" class=\"data row1 col3\" >0.7997</td>\n",
       "      <td id=\"T_6fe2b_row1_col4\" class=\"data row1 col4\" >0.7864</td>\n",
       "      <td id=\"T_6fe2b_row1_col5\" class=\"data row1 col5\" >1.4402</td>\n",
       "    </tr>\n",
       "    <tr>\n",
       "      <th id=\"T_6fe2b_level0_row2\" class=\"row_heading level0 row2\" >Mean</th>\n",
       "      <td id=\"T_6fe2b_row2_col0\" class=\"data row2 col0\" >55.9514</td>\n",
       "      <td id=\"T_6fe2b_row2_col1\" class=\"data row2 col1\" >6454.7101</td>\n",
       "      <td id=\"T_6fe2b_row2_col2\" class=\"data row2 col2\" >80.3412</td>\n",
       "      <td id=\"T_6fe2b_row2_col3\" class=\"data row2 col3\" >0.8023</td>\n",
       "      <td id=\"T_6fe2b_row2_col4\" class=\"data row2 col4\" >0.7725</td>\n",
       "      <td id=\"T_6fe2b_row2_col5\" class=\"data row2 col5\" >1.3607</td>\n",
       "    </tr>\n",
       "    <tr>\n",
       "      <th id=\"T_6fe2b_level0_row3\" class=\"row_heading level0 row3\" >Std</th>\n",
       "      <td id=\"T_6fe2b_row3_col0\" class=\"data row3 col0\" >0.7091</td>\n",
       "      <td id=\"T_6fe2b_row3_col1\" class=\"data row3 col1\" >4.8737</td>\n",
       "      <td id=\"T_6fe2b_row3_col2\" class=\"data row3 col2\" >0.0303</td>\n",
       "      <td id=\"T_6fe2b_row3_col3\" class=\"data row3 col3\" >0.0026</td>\n",
       "      <td id=\"T_6fe2b_row3_col4\" class=\"data row3 col4\" >0.0139</td>\n",
       "      <td id=\"T_6fe2b_row3_col5\" class=\"data row3 col5\" >0.0795</td>\n",
       "    </tr>\n",
       "  </tbody>\n",
       "</table>\n"
      ],
      "text/plain": [
       "<pandas.io.formats.style.Styler at 0x243ca968fd0>"
      ]
     },
     "metadata": {},
     "output_type": "display_data"
    }
   ],
   "source": [
    "voting_model = blend_models([tune_rf_model, tune_gbr_model])"
   ]
  },
  {
   "cell_type": "code",
   "execution_count": 35,
   "id": "604f06fa-4bf5-4d55-bce7-d1572b2aecf7",
   "metadata": {
    "tags": []
   },
   "outputs": [
    {
     "data": {
      "text/html": [
       "<style type=\"text/css\">\n",
       "</style>\n",
       "<table id=\"T_db271\">\n",
       "  <thead>\n",
       "    <tr>\n",
       "      <th class=\"blank level0\" >&nbsp;</th>\n",
       "      <th id=\"T_db271_level0_col0\" class=\"col_heading level0 col0\" >Model</th>\n",
       "      <th id=\"T_db271_level0_col1\" class=\"col_heading level0 col1\" >MAE</th>\n",
       "      <th id=\"T_db271_level0_col2\" class=\"col_heading level0 col2\" >MSE</th>\n",
       "      <th id=\"T_db271_level0_col3\" class=\"col_heading level0 col3\" >RMSE</th>\n",
       "      <th id=\"T_db271_level0_col4\" class=\"col_heading level0 col4\" >R2</th>\n",
       "      <th id=\"T_db271_level0_col5\" class=\"col_heading level0 col5\" >RMSLE</th>\n",
       "      <th id=\"T_db271_level0_col6\" class=\"col_heading level0 col6\" >MAPE</th>\n",
       "    </tr>\n",
       "  </thead>\n",
       "  <tbody>\n",
       "    <tr>\n",
       "      <th id=\"T_db271_level0_row0\" class=\"row_heading level0 row0\" >0</th>\n",
       "      <td id=\"T_db271_row0_col0\" class=\"data row0 col0\" >Voting Regressor</td>\n",
       "      <td id=\"T_db271_row0_col1\" class=\"data row0 col1\" >48.6926</td>\n",
       "      <td id=\"T_db271_row0_col2\" class=\"data row0 col2\" >5040.4033</td>\n",
       "      <td id=\"T_db271_row0_col3\" class=\"data row0 col3\" >70.9958</td>\n",
       "      <td id=\"T_db271_row0_col4\" class=\"data row0 col4\" >0.8501</td>\n",
       "      <td id=\"T_db271_row0_col5\" class=\"data row0 col5\" >0.7151</td>\n",
       "      <td id=\"T_db271_row0_col6\" class=\"data row0 col6\" >1.1665</td>\n",
       "    </tr>\n",
       "  </tbody>\n",
       "</table>\n"
      ],
      "text/plain": [
       "<pandas.io.formats.style.Styler at 0x243caa06850>"
      ]
     },
     "metadata": {},
     "output_type": "display_data"
    },
    {
     "data": {
      "text/plain": [
       "0     12.803714\n",
       "1    438.766642\n",
       "2    227.441828\n",
       "3    263.992353\n",
       "4     55.475863\n",
       "Name: Label, dtype: float64"
      ]
     },
     "execution_count": 35,
     "metadata": {},
     "output_type": "execute_result"
    }
   ],
   "source": [
    "vot_res = predict_model(voting_model)\n",
    "vot_pred = vot_res[\"Label\"]\n",
    "vot_pred[:5]"
   ]
  },
  {
   "cell_type": "markdown",
   "id": "5b9f6310-9442-4393-86a1-838d592a7c9c",
   "metadata": {},
   "source": [
    "# 공모전용 : test_df"
   ]
  },
  {
   "cell_type": "code",
   "execution_count": 39,
   "id": "f04b06bd-ad24-4c27-b2a3-769e17100a3e",
   "metadata": {},
   "outputs": [
    {
     "data": {
      "text/plain": [
       "0    25.457301\n",
       "1    10.830920\n",
       "2     5.226464\n",
       "3    12.748359\n",
       "4    11.760868\n",
       "Name: Label, dtype: float64"
      ]
     },
     "execution_count": 39,
     "metadata": {},
     "output_type": "execute_result"
    }
   ],
   "source": [
    "res = predict_model(voting_model, data=test_df)\n",
    "pred = res[\"Label\"]\n",
    "pred[:5]"
   ]
  },
  {
   "cell_type": "markdown",
   "id": "89961f06-6ae2-4989-8c39-6d334ae03beb",
   "metadata": {},
   "source": [
    "# Make submission"
   ]
  },
  {
   "cell_type": "code",
   "execution_count": 40,
   "id": "9c715acf-19f1-4693-ae58-e8bb5f240ba6",
   "metadata": {},
   "outputs": [],
   "source": [
    "submit_df = pd.read_csv(\"./sampleSubmission.csv\" , sep=\",\")"
   ]
  },
  {
   "cell_type": "code",
   "execution_count": 41,
   "id": "e8420755-e652-4d1f-bdc8-3e1daf994199",
   "metadata": {},
   "outputs": [
    {
     "data": {
      "text/html": [
       "<div>\n",
       "<style scoped>\n",
       "    .dataframe tbody tr th:only-of-type {\n",
       "        vertical-align: middle;\n",
       "    }\n",
       "\n",
       "    .dataframe tbody tr th {\n",
       "        vertical-align: top;\n",
       "    }\n",
       "\n",
       "    .dataframe thead th {\n",
       "        text-align: right;\n",
       "    }\n",
       "</style>\n",
       "<table border=\"1\" class=\"dataframe\">\n",
       "  <thead>\n",
       "    <tr style=\"text-align: right;\">\n",
       "      <th></th>\n",
       "      <th>datetime</th>\n",
       "      <th>count</th>\n",
       "    </tr>\n",
       "  </thead>\n",
       "  <tbody>\n",
       "    <tr>\n",
       "      <th>0</th>\n",
       "      <td>2011-01-20 00:00:00</td>\n",
       "      <td>0</td>\n",
       "    </tr>\n",
       "    <tr>\n",
       "      <th>1</th>\n",
       "      <td>2011-01-20 01:00:00</td>\n",
       "      <td>0</td>\n",
       "    </tr>\n",
       "    <tr>\n",
       "      <th>2</th>\n",
       "      <td>2011-01-20 02:00:00</td>\n",
       "      <td>0</td>\n",
       "    </tr>\n",
       "    <tr>\n",
       "      <th>3</th>\n",
       "      <td>2011-01-20 03:00:00</td>\n",
       "      <td>0</td>\n",
       "    </tr>\n",
       "    <tr>\n",
       "      <th>4</th>\n",
       "      <td>2011-01-20 04:00:00</td>\n",
       "      <td>0</td>\n",
       "    </tr>\n",
       "  </tbody>\n",
       "</table>\n",
       "</div>"
      ],
      "text/plain": [
       "              datetime  count\n",
       "0  2011-01-20 00:00:00      0\n",
       "1  2011-01-20 01:00:00      0\n",
       "2  2011-01-20 02:00:00      0\n",
       "3  2011-01-20 03:00:00      0\n",
       "4  2011-01-20 04:00:00      0"
      ]
     },
     "execution_count": 41,
     "metadata": {},
     "output_type": "execute_result"
    }
   ],
   "source": [
    "submit_df.head()"
   ]
  },
  {
   "cell_type": "code",
   "execution_count": 43,
   "id": "ccf2fb23-e5d7-4c30-beb1-a40c33f7942a",
   "metadata": {},
   "outputs": [
    {
     "data": {
      "text/plain": [
       "(6493, (6493, 2))"
      ]
     },
     "execution_count": 43,
     "metadata": {},
     "output_type": "execute_result"
    }
   ],
   "source": [
    "len(pred), submit_df.shape"
   ]
  },
  {
   "cell_type": "code",
   "execution_count": 46,
   "id": "335b8c01-fd1d-4531-9930-8e2e409c397e",
   "metadata": {},
   "outputs": [
    {
     "data": {
      "text/html": [
       "<div>\n",
       "<style scoped>\n",
       "    .dataframe tbody tr th:only-of-type {\n",
       "        vertical-align: middle;\n",
       "    }\n",
       "\n",
       "    .dataframe tbody tr th {\n",
       "        vertical-align: top;\n",
       "    }\n",
       "\n",
       "    .dataframe thead th {\n",
       "        text-align: right;\n",
       "    }\n",
       "</style>\n",
       "<table border=\"1\" class=\"dataframe\">\n",
       "  <thead>\n",
       "    <tr style=\"text-align: right;\">\n",
       "      <th></th>\n",
       "      <th>datetime</th>\n",
       "      <th>count</th>\n",
       "    </tr>\n",
       "  </thead>\n",
       "  <tbody>\n",
       "    <tr>\n",
       "      <th>0</th>\n",
       "      <td>2011-01-20 00:00:00</td>\n",
       "      <td>25.457301</td>\n",
       "    </tr>\n",
       "    <tr>\n",
       "      <th>1</th>\n",
       "      <td>2011-01-20 01:00:00</td>\n",
       "      <td>10.830920</td>\n",
       "    </tr>\n",
       "    <tr>\n",
       "      <th>2</th>\n",
       "      <td>2011-01-20 02:00:00</td>\n",
       "      <td>5.226464</td>\n",
       "    </tr>\n",
       "    <tr>\n",
       "      <th>3</th>\n",
       "      <td>2011-01-20 03:00:00</td>\n",
       "      <td>12.748359</td>\n",
       "    </tr>\n",
       "    <tr>\n",
       "      <th>4</th>\n",
       "      <td>2011-01-20 04:00:00</td>\n",
       "      <td>11.760868</td>\n",
       "    </tr>\n",
       "  </tbody>\n",
       "</table>\n",
       "</div>"
      ],
      "text/plain": [
       "              datetime      count\n",
       "0  2011-01-20 00:00:00  25.457301\n",
       "1  2011-01-20 01:00:00  10.830920\n",
       "2  2011-01-20 02:00:00   5.226464\n",
       "3  2011-01-20 03:00:00  12.748359\n",
       "4  2011-01-20 04:00:00  11.760868"
      ]
     },
     "execution_count": 46,
     "metadata": {},
     "output_type": "execute_result"
    }
   ],
   "source": [
    "submit_df[\"count\"] = np.abs(pred)\n",
    "submit_df.head()"
   ]
  },
  {
   "cell_type": "code",
   "execution_count": 47,
   "id": "b68ba470-cec2-4972-8b32-464f8ec7dc12",
   "metadata": {},
   "outputs": [],
   "source": [
    "submit_df.to_csv(\"pycaret.csv\", index=False)"
   ]
  }
 ],
 "metadata": {
  "kernelspec": {
   "display_name": "Python 3 (ipykernel)",
   "language": "python",
   "name": "python3"
  },
  "language_info": {
   "codemirror_mode": {
    "name": "ipython",
    "version": 3
   },
   "file_extension": ".py",
   "mimetype": "text/x-python",
   "name": "python",
   "nbconvert_exporter": "python",
   "pygments_lexer": "ipython3",
   "version": "3.8.8"
  },
  "toc-autonumbering": true
 },
 "nbformat": 4,
 "nbformat_minor": 5
}
