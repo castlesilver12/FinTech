{
 "cells": [
  {
   "cell_type": "markdown",
   "id": "b38b9b47-ff3a-402a-93c2-9cbd55dd3322",
   "metadata": {},
   "source": [
    "<font size=6><b>Lec05. MNIST CNN"
   ]
  },
  {
   "cell_type": "code",
   "execution_count": 35,
   "id": "53ab0995-24df-44c5-b83d-2c75d47dd356",
   "metadata": {},
   "outputs": [
    {
     "data": {
      "text/html": [
       "<style>.container{width:100% !important;}</style>"
      ],
      "text/plain": [
       "<IPython.core.display.HTML object>"
      ]
     },
     "metadata": {},
     "output_type": "display_data"
    }
   ],
   "source": [
    "import tensorflow as tf\n",
    "from tensorflow.keras.layers import Dense, Dropout, Activation, Flatten\n",
    "from tensorflow.keras.layers import Conv2D, MaxPooling2D\n",
    "# from keras.layers.convolutional import Conv2D, MaxPooling2D\n",
    "\n",
    "from tensorflow.keras.models import save_model, load_model\n",
    "from tensorflow.keras.models import Sequential\n",
    "\n",
    "import numpy as np\n",
    "import pandas as pd\n",
    "import seaborn as sns\n",
    "import matplotlib.pyplot as plt\n",
    "\n",
    "from sklearn.model_selection import train_test_split\n",
    "\n",
    "import warnings\n",
    "warnings.filterwarnings(action='ignore')\n",
    "\n",
    "from IPython.core.display import display, HTML\n",
    "display(HTML(\"<style>.container{width:100% !important;}</style>\"))\n",
    "pd.set_option('display.max_rows', 150)\n",
    "pd.set_option('display.max_columns', 150)\n",
    "pd.set_option('max_colwidth', None)\n",
    "\n"
   ]
  },
  {
   "cell_type": "code",
   "execution_count": 10,
   "id": "0e6bde11-29ac-48bb-b0d3-0e34cfb7417e",
   "metadata": {},
   "outputs": [],
   "source": [
    "np.random.seed(1234)\n",
    "tf.random.set_seed(1234)"
   ]
  },
  {
   "cell_type": "markdown",
   "id": "c281bae3-49e0-4b0a-958b-ff746bb80ce2",
   "metadata": {},
   "source": [
    "# Data Load"
   ]
  },
  {
   "cell_type": "code",
   "execution_count": 13,
   "id": "3f9e7a3c-7b42-4935-a17e-6db5f9469612",
   "metadata": {},
   "outputs": [],
   "source": [
    "(X_train, y_train), (X_test, y_test) = tensorflow.keras.datasets.mnist.load_data()"
   ]
  },
  {
   "cell_type": "code",
   "execution_count": 14,
   "id": "678e9505-9040-46e9-bad3-4076f8c406b1",
   "metadata": {},
   "outputs": [
    {
     "data": {
      "text/plain": [
       "((60000, 28, 28), (60000,), (10000, 28, 28), (10000,))"
      ]
     },
     "execution_count": 14,
     "metadata": {},
     "output_type": "execute_result"
    }
   ],
   "source": [
    "X_train.shape, y_train.shape, X_test.shape, y_test.shape"
   ]
  },
  {
   "cell_type": "markdown",
   "id": "04b8f252-4104-4b4b-ae1a-6502776002e5",
   "metadata": {},
   "source": [
    "# EDA"
   ]
  },
  {
   "cell_type": "markdown",
   "id": "cbb256e1-aee5-415f-87b0-5e24731c652b",
   "metadata": {
    "tags": []
   },
   "source": [
    "# 전처리 & 가공\n",
    "* 픽셀 (정규화)표준화  \n",
    "* -------------------  StandardScaler (평균0 편차1 범위로 데이터 축소)\n",
    "* -------------------  <b>MinMaxScaler (최소0 최대1 범위로 데이터 축소)</b>\n",
    "* 이미지 크기 맞추기 ----------- NPL.padding\n",
    "* 부족한 데이터 증강 ----------- SMOTE"
   ]
  },
  {
   "cell_type": "markdown",
   "id": "3ed324e7-d67b-474f-9c75-c2189c7218cd",
   "metadata": {},
   "source": [
    "## X  : 픽셀 (정규화)표준화"
   ]
  },
  {
   "cell_type": "code",
   "execution_count": 15,
   "id": "cca28647-16a0-4775-8101-dd03cd98ad29",
   "metadata": {},
   "outputs": [],
   "source": [
    "X_train_scaler = X_train / 255.0\n",
    "X_test_scaler = X_test / 255.0"
   ]
  },
  {
   "cell_type": "markdown",
   "id": "a4506c2f-fbf4-4210-ad2d-a9b6bab770ce",
   "metadata": {
    "tags": []
   },
   "source": [
    "## y : 원핫인코딩"
   ]
  },
  {
   "cell_type": "code",
   "execution_count": 16,
   "id": "6c6a927a-72b1-4831-9f23-fce3fd02764a",
   "metadata": {},
   "outputs": [],
   "source": [
    "from tensorflow.keras.utils import to_categorical\n",
    "y_train_oh = to_categorical(y_train,  num_classes=10, dtype='int32')\n",
    "y_test_oh  = to_categorical(y_test,  num_classes=10, dtype='int32')"
   ]
  },
  {
   "cell_type": "code",
   "execution_count": 17,
   "id": "972646d5-29d5-4ca2-8a3c-28287a0cff09",
   "metadata": {},
   "outputs": [
    {
     "data": {
      "text/plain": [
       "(array([5, 0, 4, 1, 9], dtype=uint8),\n",
       " array([[0, 0, 0, 0, 0, 1, 0, 0, 0, 0],\n",
       "        [1, 0, 0, 0, 0, 0, 0, 0, 0, 0],\n",
       "        [0, 0, 0, 0, 1, 0, 0, 0, 0, 0],\n",
       "        [0, 1, 0, 0, 0, 0, 0, 0, 0, 0],\n",
       "        [0, 0, 0, 0, 0, 0, 0, 0, 0, 1]]))"
      ]
     },
     "execution_count": 17,
     "metadata": {},
     "output_type": "execute_result"
    }
   ],
   "source": [
    "y_train[:5], y_train_oh[:5]"
   ]
  },
  {
   "cell_type": "markdown",
   "id": "7a36c192-457c-4c9b-b366-669869d5e76f",
   "metadata": {},
   "source": [
    "# CNN 모델"
   ]
  },
  {
   "cell_type": "markdown",
   "id": "449af05a-5912-4c9c-b7e2-e763df183cd0",
   "metadata": {},
   "source": [
    "## 모델 생성"
   ]
  },
  {
   "cell_type": "markdown",
   "id": "5b1321a5-27e0-45bb-91a8-f396915d8644",
   "metadata": {},
   "source": [
    "<pre>\n",
    "tf.keras.layers.Conv2D(\n",
    "    <font color=red><b>\n",
    "    filters,\n",
    "    kernel_size,\n",
    "    strides=(1, 1),\n",
    "    padding=\"valid\",\n",
    "    activation=None,\n",
    "    input_shape=()\n",
    "    </b></font>\n",
    "    data_format=None,\n",
    "    dilation_rate=(1, 1),\n",
    "    groups=1,\n",
    "    \n",
    "    use_bias=True,\n",
    "    bias_initializer=\"zeros\",\n",
    "    bias_regularizer=None,\n",
    "    bias_constraint=None,\n",
    "    \n",
    "    kernel_initializer=\"glorot_uniform\",\n",
    "    kernel_regularizer=None,\n",
    "    activity_regularizer=None,\n",
    "    kernel_constraint=None,\n",
    "    \n",
    "    **kwargs\n",
    ")\n",
    "\n",
    "tf.keras.layers.MaxPooling2D(\n",
    " <font color=red><b>\n",
    "    pool_size=(2, 2), \n",
    "    strides=None, \n",
    "    padding=\"valid\", \n",
    "    </b></font>\n",
    "    data_format=None, **kwargs\n",
    ")\n"
   ]
  },
  {
   "cell_type": "markdown",
   "id": "ec41bfdf-669b-4cb9-94a7-fc40c52550c3",
   "metadata": {},
   "source": [
    "<img src=\"https://lh3.googleusercontent.com/-yU9X-yhguE4/X7UZfhYhu9I/AAAAAAAAOSU/31OKn0P1hnIa59w_LwVCcuLDWyTrqvGZwCLcBGAsYHQ/w539-h288/image.png\">"
   ]
  },
  {
   "cell_type": "markdown",
   "id": "e6f49119-0dcd-43a1-8cab-d187296949ec",
   "metadata": {},
   "source": [
    "<img src=\"https://mblogthumb-phinf.pstatic.net/MjAxOTEyMjNfMTM2/MDAxNTc3MDg2MTU2MjAz.hGehbmIbYLZyyL6MCfKFepwr9lLFgi4NyNqJnMu7Yz4g.tY3SXH0lMdRNhMwsR45pGDzYj4HX2zdl5tkEgtS98mQg.PNG.seongcheol02/image.png?type=w800\">"
   ]
  },
  {
   "cell_type": "markdown",
   "id": "92b737c6-e232-4d5b-b04d-5cdd0daeb0e5",
   "metadata": {},
   "source": [
    "<pre>\n",
    "# ------------------------------  Activation Map -------------------------------------\n",
    "# 필터 Param : 필터(5*5)  * 채널(1or3) *  filters(16) + bias(16) = 416\n",
    "#      X           W                                              + b               = y^\n",
    "# (원본이미지)  : (필터) * 흑백(1) *  필터갯수(16)   + (각필터(보라색한장)당 바이어스) = Y^(합성곱)  -----> activation='relu'  == Activation Map\n",
    "#   (28,28)    : 25        1          16개          + 16                = 416 \n",
    "# ------------------------------------------------------------------------------------\n"
   ]
  },
  {
   "cell_type": "code",
   "execution_count": 27,
   "id": "8f01acdb-10a8-4268-9660-8d6f51484494",
   "metadata": {},
   "outputs": [
    {
     "name": "stdout",
     "output_type": "stream",
     "text": [
      "Model: \"sequential_6\"\n",
      "_________________________________________________________________\n",
      " Layer (type)                Output Shape              Param #   \n",
      "=================================================================\n",
      " conv2d_8 (Conv2D)           (None, 24, 24, 16)        416       \n",
      "                                                                 \n",
      " max_pooling2d_7 (MaxPooling  (None, 12, 12, 16)       0         \n",
      " 2D)                                                             \n",
      "                                                                 \n",
      " conv2d_9 (Conv2D)           (None, 8, 8, 24)          9624      \n",
      "                                                                 \n",
      " max_pooling2d_8 (MaxPooling  (None, 4, 4, 24)         0         \n",
      " 2D)                                                             \n",
      "                                                                 \n",
      " flatten_3 (Flatten)         (None, 384)               0         \n",
      "                                                                 \n",
      " dense_9 (Dense)             (None, 32)                12320     \n",
      "                                                                 \n",
      " dense_10 (Dense)            (None, 16)                528       \n",
      "                                                                 \n",
      " dense_11 (Dense)            (None, 10)                170       \n",
      "                                                                 \n",
      "=================================================================\n",
      "Total params: 23,058\n",
      "Trainable params: 23,058\n",
      "Non-trainable params: 0\n",
      "_________________________________________________________________\n",
      "None\n"
     ]
    }
   ],
   "source": [
    "model = Sequential()\n",
    "# ------------------------------ CNN ----------------------------------\n",
    "model.add(Conv2D(filters=16, kernel_size=(5,5), activation='relu', input_shape=(28,28,1) ))\n",
    "model.add(MaxPooling2D(pool_size=(2, 2)))\n",
    "model.add(Conv2D(filters=24, kernel_size=(5,5), activation='relu'))\n",
    "model.add(MaxPooling2D(pool_size=(2, 2)))\n",
    "\n",
    "# ------------------------------ Full Connected == Affine --------------\n",
    "model.add(Flatten())\n",
    "model.add(Dense(units=32,  activation='relu'))         # ----------,  input_dim=784\n",
    "model.add(Dense(units=16,  activation='relu')) \n",
    "model.add(Dense(units=10 , activation='softmax'))      #--------------- 멀티분류\n",
    "\n",
    "model.compile(optimizer='adam',              \n",
    "            loss='categorical_crossentropy',             #------원핫인코딩\n",
    "            metrics=['accuracy'])              \n",
    "print(model.summary())"
   ]
  },
  {
   "cell_type": "markdown",
   "id": "c5b7306e-377f-4a3d-8997-6aca86c049bc",
   "metadata": {},
   "source": [
    "## 학습"
   ]
  },
  {
   "cell_type": "code",
   "execution_count": 28,
   "id": "0b15a0b4-6eaa-4297-9881-90f24d7507b5",
   "metadata": {},
   "outputs": [],
   "source": [
    "from tensorflow.keras.callbacks import EarlyStopping, ModelCheckpoint"
   ]
  },
  {
   "cell_type": "markdown",
   "id": "1b607f61-f9c3-4bae-9e37-6922fb359fd7",
   "metadata": {},
   "source": [
    "<pre>\n",
    "tf.keras.callbacks.EarlyStopping(\n",
    "    <font color=red><b>\n",
    "    monitor=\"val_loss\",\n",
    "    patience=0,\n",
    "    </b></font>\n",
    "    min_delta=0,\n",
    "    verbose=0,\n",
    "    mode=\"auto\",\n",
    "    baseline=None,\n",
    "    restore_best_weights=False,\n",
    ")\n",
    "\n",
    "tf.keras.callbacks.ModelCheckpoint(\n",
    "    <font color=red><b>\n",
    "    filepath,\n",
    "    monitor=\"val_loss\",\n",
    "    save_best_only=True,  #------------주의주의\n",
    "    </b></font>\n",
    "    verbose=0,\n",
    "    save_weights_only=False,\n",
    "    mode=\"auto\",\n",
    "    save_freq=\"epoch\",\n",
    "    options=None,\n",
    "    initial_value_threshold=None,\n",
    "    **kwargs\n",
    ")\n"
   ]
  },
  {
   "cell_type": "code",
   "execution_count": 32,
   "id": "d0a082b6-0252-4ba0-9fa1-d6fbb93ed0f8",
   "metadata": {},
   "outputs": [
    {
     "name": "stdout",
     "output_type": "stream",
     "text": [
      "Epoch 1/100\n",
      "6000/6000 [==============================] - 39s 6ms/step - loss: 0.1868 - accuracy: 0.9421 - val_loss: 0.0837 - val_accuracy: 0.9747\n",
      "Epoch 2/100\n",
      "6000/6000 [==============================] - 36s 6ms/step - loss: 0.0580 - accuracy: 0.9824 - val_loss: 0.0395 - val_accuracy: 0.9868\n",
      "Epoch 3/100\n",
      "6000/6000 [==============================] - 35s 6ms/step - loss: 0.0426 - accuracy: 0.9864 - val_loss: 0.0366 - val_accuracy: 0.9881\n",
      "Epoch 4/100\n",
      "6000/6000 [==============================] - 40s 7ms/step - loss: 0.0343 - accuracy: 0.9899 - val_loss: 0.0352 - val_accuracy: 0.9893\n",
      "Epoch 5/100\n",
      "6000/6000 [==============================] - 35s 6ms/step - loss: 0.0282 - accuracy: 0.9916 - val_loss: 0.0346 - val_accuracy: 0.9894\n",
      "Epoch 6/100\n",
      "6000/6000 [==============================] - 36s 6ms/step - loss: 0.0243 - accuracy: 0.9920 - val_loss: 0.0434 - val_accuracy: 0.9873\n",
      "Epoch 7/100\n",
      "6000/6000 [==============================] - 37s 6ms/step - loss: 0.0212 - accuracy: 0.9932 - val_loss: 0.0287 - val_accuracy: 0.9936\n",
      "Epoch 8/100\n",
      "6000/6000 [==============================] - 36s 6ms/step - loss: 0.0177 - accuracy: 0.9945 - val_loss: 0.0370 - val_accuracy: 0.9903\n",
      "Epoch 9/100\n",
      "6000/6000 [==============================] - 36s 6ms/step - loss: 0.0182 - accuracy: 0.9944 - val_loss: 0.0377 - val_accuracy: 0.9905\n",
      "Epoch 10/100\n",
      "6000/6000 [==============================] - 36s 6ms/step - loss: 0.0157 - accuracy: 0.9954 - val_loss: 0.0425 - val_accuracy: 0.9885\n",
      "Epoch 11/100\n",
      "6000/6000 [==============================] - 37s 6ms/step - loss: 0.0152 - accuracy: 0.9954 - val_loss: 0.0441 - val_accuracy: 0.9897\n",
      "Epoch 12/100\n",
      "6000/6000 [==============================] - 38s 6ms/step - loss: 0.0128 - accuracy: 0.9960 - val_loss: 0.0475 - val_accuracy: 0.9900\n",
      "Epoch 13/100\n",
      "6000/6000 [==============================] - 36s 6ms/step - loss: 0.0117 - accuracy: 0.9963 - val_loss: 0.0431 - val_accuracy: 0.9905\n",
      "Epoch 14/100\n",
      "6000/6000 [==============================] - 37s 6ms/step - loss: 0.0118 - accuracy: 0.9963 - val_loss: 0.0619 - val_accuracy: 0.9885\n",
      "Epoch 15/100\n",
      "6000/6000 [==============================] - 36s 6ms/step - loss: 0.0109 - accuracy: 0.9963 - val_loss: 0.0528 - val_accuracy: 0.9902\n",
      "Epoch 16/100\n",
      "6000/6000 [==============================] - 38s 6ms/step - loss: 0.0110 - accuracy: 0.9967 - val_loss: 0.0499 - val_accuracy: 0.9896\n",
      "Epoch 17/100\n",
      "6000/6000 [==============================] - 37s 6ms/step - loss: 0.0113 - accuracy: 0.9966 - val_loss: 0.0516 - val_accuracy: 0.9891\n"
     ]
    }
   ],
   "source": [
    "my_stop = EarlyStopping(monitor=\"val_loss\",patience=10)\n",
    "\n",
    "my_point = ModelCheckpoint(\n",
    "                  filepath = \"./my_mnist_cnn_model/mnist_cnn_{epoch}_{val_loss:.5f}.h5\"\n",
    "                 , monitor=\"val_loss\"\n",
    "                 , save_best_only=True)\n",
    "\n",
    "fit_res = model.fit(X_train_scaler, y_train_oh   #------X:sacling  y:onhot-encodin\n",
    "                  , batch_size=10\n",
    "                  , epochs=100\n",
    "                  , validation_data=(X_test_scaler, y_test_oh)\n",
    "                  , callbacks=[my_stop, my_point]\n",
    "                 )"
   ]
  },
  {
   "cell_type": "markdown",
   "id": "44aff2ad-8074-48b5-887a-e2e4840334df",
   "metadata": {},
   "source": [
    "# 모델 불러오기\n",
    "* ./my_mnist_cnn_model/mnist_cnn_7_0.028698207810521126.h5"
   ]
  },
  {
   "cell_type": "markdown",
   "id": "0414602a-7f20-41bf-923e-81b14ac93f90",
   "metadata": {},
   "source": [
    "* keras.models 모듈의 save_model(), load_model() \n",
    "<pre><font color=red><b>\n",
    "  저장     : save_model(model_c, \"mymodel.h5\")\n",
    "  불러오기 : a = load_model(\"mymodel.h5\")"
   ]
  },
  {
   "cell_type": "markdown",
   "id": "d9b6dd79-ebaa-4f72-897f-cfcae0d6683f",
   "metadata": {},
   "source": [
    "*./my_mnist_cnn_model/mnist_cnn_7_0.028698207810521126.h5"
   ]
  },
  {
   "cell_type": "code",
   "execution_count": 36,
   "id": "eb15bea0-7d9a-4b3b-b2c8-9b48cea694cd",
   "metadata": {},
   "outputs": [
    {
     "name": "stdout",
     "output_type": "stream",
     "text": [
      "Model: \"sequential_6\"\n",
      "_________________________________________________________________\n",
      " Layer (type)                Output Shape              Param #   \n",
      "=================================================================\n",
      " conv2d_8 (Conv2D)           (None, 24, 24, 16)        416       \n",
      "                                                                 \n",
      " max_pooling2d_7 (MaxPooling  (None, 12, 12, 16)       0         \n",
      " 2D)                                                             \n",
      "                                                                 \n",
      " conv2d_9 (Conv2D)           (None, 8, 8, 24)          9624      \n",
      "                                                                 \n",
      " max_pooling2d_8 (MaxPooling  (None, 4, 4, 24)         0         \n",
      " 2D)                                                             \n",
      "                                                                 \n",
      " flatten_3 (Flatten)         (None, 384)               0         \n",
      "                                                                 \n",
      " dense_9 (Dense)             (None, 32)                12320     \n",
      "                                                                 \n",
      " dense_10 (Dense)            (None, 16)                528       \n",
      "                                                                 \n",
      " dense_11 (Dense)            (None, 10)                170       \n",
      "                                                                 \n",
      "=================================================================\n",
      "Total params: 23,058\n",
      "Trainable params: 23,058\n",
      "Non-trainable params: 0\n",
      "_________________________________________________________________\n"
     ]
    }
   ],
   "source": [
    "# save_model(model_c, \"./mymodel.h5\")\n",
    "re_model = load_model(\"./my_mnist_cnn_model/mnist_cnn_7_0.028698207810521126.h5\")\n",
    "re_model.summary()"
   ]
  },
  {
   "cell_type": "code",
   "execution_count": 43,
   "id": "0fd81467-d92b-4dea-9cd9-2ac067ea3e9d",
   "metadata": {},
   "outputs": [],
   "source": [
    "# re_model.get_weights()[:1]"
   ]
  },
  {
   "cell_type": "markdown",
   "id": "bcbdfd10-cd33-448a-be61-35134b33b86a",
   "metadata": {
    "tags": []
   },
   "source": [
    "## 평가\n",
    "<pre>\n",
    "* FC(5단)        : loss: 0.2910  accuracy : 0.947\n",
    "* CNN(4단)-FC(2) : loss: 0.0286  accuracy : 0.993"
   ]
  },
  {
   "cell_type": "code",
   "execution_count": 44,
   "id": "c550fb67-f76c-4732-a09a-1c480782adbb",
   "metadata": {},
   "outputs": [
    {
     "name": "stdout",
     "output_type": "stream",
     "text": [
      "313/313 [==============================] - 1s 4ms/step - loss: 0.0287 - accuracy: 0.9936\n",
      "loss: 0.02869822084903717  accuracy : 0.9936000108718872\n"
     ]
    }
   ],
   "source": [
    "loss, acc = re_model.evaluate(X_test_scaler, y_test_oh)\n",
    "print(f\"loss: {loss}  accuracy : {acc}\")"
   ]
  },
  {
   "cell_type": "markdown",
   "id": "8905de82-06ea-4c81-90ce-d648feb6e9b8",
   "metadata": {},
   "source": [
    "## myCNN vs. InceptionV3"
   ]
  },
  {
   "cell_type": "markdown",
   "id": "1e844a77-ff46-4af0-be4f-aff418703d6d",
   "metadata": {},
   "source": [
    "<pre>\n",
    "Total params: 23,058\n",
    "Trainable params: 23,058\n",
    "Non-trainable params: 0\n",
    "__________________________\n",
    "\n",
    "Total params: 23,851,784\n",
    "Trainable params: 23,817,352\n",
    "Non-trainable params: 34,432"
   ]
  },
  {
   "cell_type": "markdown",
   "id": "62f06b8b-8a37-4142-82ce-62b4f810c85c",
   "metadata": {},
   "source": [
    "# 잘 알려진 CNN 모델\n",
    "* ref : https://keras.io/api/applications/"
   ]
  },
  {
   "cell_type": "markdown",
   "id": "13c6e68a-4b66-4142-8c18-7be2db77c797",
   "metadata": {},
   "source": [
    "## InceptionV3"
   ]
  },
  {
   "cell_type": "code",
   "execution_count": 46,
   "id": "084ff120-c7f5-48ef-90f3-97320f4c382c",
   "metadata": {},
   "outputs": [],
   "source": [
    "# from tensorflow.keras.applications import InceptionV3\n",
    "# goomodel = InceptionV3()\n",
    "# goomodel.summary()"
   ]
  },
  {
   "cell_type": "markdown",
   "id": "50c09159-a36e-4d4a-916a-05bdba7b1b3a",
   "metadata": {},
   "source": [
    "<img src=\"https://production-media.paperswithcode.com/methods/inceptionv3onc--oview_vjAbOfw.png\">"
   ]
  },
  {
   "cell_type": "markdown",
   "id": "97c1a864-1758-416e-ab39-b22cb683ee21",
   "metadata": {},
   "source": [
    "## Available models"
   ]
  },
  {
   "cell_type": "markdown",
   "id": "387c887e-9b51-4a33-8bfc-e15ac268210d",
   "metadata": {},
   "source": [
    "<table width=500>\n",
    "<thead>\n",
    "<tr>\n",
    "<th>Model</th>\n",
    "<th align=\"right\">Size (MB)</th>\n",
    "<th align=\"right\">Top-1 Accuracy</th>\n",
    "<th align=\"right\">Top-5 Accuracy</th>\n",
    "<th align=\"right\">Parameters</th>\n",
    "<th align=\"right\">Depth</th>\n",
    "<th align=\"right\">Time (ms) per inference step (CPU)</th>\n",
    "<th align=\"right\">Time (ms) per inference step (GPU)</th>\n",
    "</tr>\n",
    "</thead>\n",
    "<tbody>\n",
    "<tr>\n",
    "<td><a href=\"xception\">Xception</a></td>\n",
    "<td align=\"right\">88</td>\n",
    "<td align=\"right\">79.0%</td>\n",
    "<td align=\"right\">94.5%</td>\n",
    "<td align=\"right\">22.9M</td>\n",
    "<td align=\"right\">81</td>\n",
    "<td align=\"right\">109.4</td>\n",
    "<td align=\"right\">8.1</td>\n",
    "</tr>\n",
    "<tr>\n",
    "<td><a href=\"vgg/#vgg16-function\">VGG16</a></td>\n",
    "<td align=\"right\">528</td>\n",
    "<td align=\"right\">71.3%</td>\n",
    "<td align=\"right\">90.1%</td>\n",
    "<td align=\"right\">138.4M</td>\n",
    "<td align=\"right\">16</td>\n",
    "<td align=\"right\">69.5</td>\n",
    "<td align=\"right\">4.2</td>\n",
    "</tr>\n",
    "<tr>\n",
    "<td><a href=\"vgg/#vgg19-function\">VGG19</a></td>\n",
    "<td align=\"right\">549</td>\n",
    "<td align=\"right\">71.3%</td>\n",
    "<td align=\"right\">90.0%</td>\n",
    "<td align=\"right\">143.7M</td>\n",
    "<td align=\"right\">19</td>\n",
    "<td align=\"right\">84.8</td>\n",
    "<td align=\"right\">4.4</td>\n",
    "</tr>\n",
    "<tr>\n",
    "<td><a href=\"resnet/#resnet50-function\">ResNet50</a></td>\n",
    "<td align=\"right\">98</td>\n",
    "<td align=\"right\">74.9%</td>\n",
    "<td align=\"right\">92.1%</td>\n",
    "<td align=\"right\">25.6M</td>\n",
    "<td align=\"right\">107</td>\n",
    "<td align=\"right\">58.2</td>\n",
    "<td align=\"right\">4.6</td>\n",
    "</tr>\n",
    "<tr>\n",
    "<td><a href=\"resnet/#resnet50v2-function\">ResNet50V2</a></td>\n",
    "<td align=\"right\">98</td>\n",
    "<td align=\"right\">76.0%</td>\n",
    "<td align=\"right\">93.0%</td>\n",
    "<td align=\"right\">25.6M</td>\n",
    "<td align=\"right\">103</td>\n",
    "<td align=\"right\">45.6</td>\n",
    "<td align=\"right\">4.4</td>\n",
    "</tr>\n",
    "<tr>\n",
    "<td><a href=\"resnet/#resnet101-function\">ResNet101</a></td>\n",
    "<td align=\"right\">171</td>\n",
    "<td align=\"right\">76.4%</td>\n",
    "<td align=\"right\">92.8%</td>\n",
    "<td align=\"right\">44.7M</td>\n",
    "<td align=\"right\">209</td>\n",
    "<td align=\"right\">89.6</td>\n",
    "<td align=\"right\">5.2</td>\n",
    "</tr>\n",
    "<tr>\n",
    "<td><a href=\"resnet/#resnet101v2-function\">ResNet101V2</a></td>\n",
    "<td align=\"right\">171</td>\n",
    "<td align=\"right\">77.2%</td>\n",
    "<td align=\"right\">93.8%</td>\n",
    "<td align=\"right\">44.7M</td>\n",
    "<td align=\"right\">205</td>\n",
    "<td align=\"right\">72.7</td>\n",
    "<td align=\"right\">5.4</td>\n",
    "</tr>\n",
    "<tr>\n",
    "<td><a href=\"resnet/#resnet152-function\">ResNet152</a></td>\n",
    "<td align=\"right\">232</td>\n",
    "<td align=\"right\">76.6%</td>\n",
    "<td align=\"right\">93.1%</td>\n",
    "<td align=\"right\">60.4M</td>\n",
    "<td align=\"right\">311</td>\n",
    "<td align=\"right\">127.4</td>\n",
    "<td align=\"right\">6.5</td>\n",
    "</tr>\n",
    "<tr>\n",
    "<td><a href=\"resnet/#resnet152v2-function\">ResNet152V2</a></td>\n",
    "<td align=\"right\">232</td>\n",
    "<td align=\"right\">78.0%</td>\n",
    "<td align=\"right\">94.2%</td>\n",
    "<td align=\"right\">60.4M</td>\n",
    "<td align=\"right\">307</td>\n",
    "<td align=\"right\">107.5</td>\n",
    "<td align=\"right\">6.6</td>\n",
    "</tr>\n",
    "<tr>\n",
    "<td><a href=\"inceptionv3\">InceptionV3</a></td>\n",
    "<td align=\"right\">92</td>\n",
    "<td align=\"right\">77.9%</td>\n",
    "<td align=\"right\">93.7%</td>\n",
    "<td align=\"right\">23.9M</td>\n",
    "<td align=\"right\">189</td>\n",
    "<td align=\"right\">42.2</td>\n",
    "<td align=\"right\">6.9</td>\n",
    "</tr>\n",
    "<tr>\n",
    "<td><a href=\"inceptionresnetv2\">InceptionResNetV2</a></td>\n",
    "<td align=\"right\">215</td>\n",
    "<td align=\"right\">80.3%</td>\n",
    "<td align=\"right\">95.3%</td>\n",
    "<td align=\"right\">55.9M</td>\n",
    "<td align=\"right\">449</td>\n",
    "<td align=\"right\">130.2</td>\n",
    "<td align=\"right\">10.0</td>\n",
    "</tr>\n",
    "<tr>\n",
    "<td><a href=\"mobilenet\">MobileNet</a></td>\n",
    "<td align=\"right\">16</td>\n",
    "<td align=\"right\">70.4%</td>\n",
    "<td align=\"right\">89.5%</td>\n",
    "<td align=\"right\">4.3M</td>\n",
    "<td align=\"right\">55</td>\n",
    "<td align=\"right\">22.6</td>\n",
    "<td align=\"right\">3.4</td>\n",
    "</tr>\n",
    "<tr>\n",
    "<td><a href=\"mobilenet/#mobilenetv2-function\">MobileNetV2</a></td>\n",
    "<td align=\"right\">14</td>\n",
    "<td align=\"right\">71.3%</td>\n",
    "<td align=\"right\">90.1%</td>\n",
    "<td align=\"right\">3.5M</td>\n",
    "<td align=\"right\">105</td>\n",
    "<td align=\"right\">25.9</td>\n",
    "<td align=\"right\">3.8</td>\n",
    "</tr>\n",
    "<tr>\n",
    "<td><a href=\"densenet/#densenet121-function\">DenseNet121</a></td>\n",
    "<td align=\"right\">33</td>\n",
    "<td align=\"right\">75.0%</td>\n",
    "<td align=\"right\">92.3%</td>\n",
    "<td align=\"right\">8.1M</td>\n",
    "<td align=\"right\">242</td>\n",
    "<td align=\"right\">77.1</td>\n",
    "<td align=\"right\">5.4</td>\n",
    "</tr>\n",
    "<tr>\n",
    "<td><a href=\"densenet/#densenet169-function\">DenseNet169</a></td>\n",
    "<td align=\"right\">57</td>\n",
    "<td align=\"right\">76.2%</td>\n",
    "<td align=\"right\">93.2%</td>\n",
    "<td align=\"right\">14.3M</td>\n",
    "<td align=\"right\">338</td>\n",
    "<td align=\"right\">96.4</td>\n",
    "<td align=\"right\">6.3</td>\n",
    "</tr>\n",
    "<tr>\n",
    "<td><a href=\"densenet/#densenet201-function\">DenseNet201</a></td>\n",
    "<td align=\"right\">80</td>\n",
    "<td align=\"right\">77.3%</td>\n",
    "<td align=\"right\">93.6%</td>\n",
    "<td align=\"right\">20.2M</td>\n",
    "<td align=\"right\">402</td>\n",
    "<td align=\"right\">127.2</td>\n",
    "<td align=\"right\">6.7</td>\n",
    "</tr>\n",
    "<tr>\n",
    "<td><a href=\"nasnet/#nasnetmobile-function\">NASNetMobile</a></td>\n",
    "<td align=\"right\">23</td>\n",
    "<td align=\"right\">74.4%</td>\n",
    "<td align=\"right\">91.9%</td>\n",
    "<td align=\"right\">5.3M</td>\n",
    "<td align=\"right\">389</td>\n",
    "<td align=\"right\">27.0</td>\n",
    "<td align=\"right\">6.7</td>\n",
    "</tr>\n",
    "<tr>\n",
    "<td><a href=\"nasnet/#nasnetlarge-function\">NASNetLarge</a></td>\n",
    "<td align=\"right\">343</td>\n",
    "<td align=\"right\">82.5%</td>\n",
    "<td align=\"right\">96.0%</td>\n",
    "<td align=\"right\">88.9M</td>\n",
    "<td align=\"right\">533</td>\n",
    "<td align=\"right\">344.5</td>\n",
    "<td align=\"right\">20.0</td>\n",
    "</tr>\n",
    "<tr>\n",
    "<td><a href=\"efficientnet/#efficientnetb0-function\">EfficientNetB0</a></td>\n",
    "<td align=\"right\">29</td>\n",
    "<td align=\"right\">77.1%</td>\n",
    "<td align=\"right\">93.3%</td>\n",
    "<td align=\"right\">5.3M</td>\n",
    "<td align=\"right\">132</td>\n",
    "<td align=\"right\">46.0</td>\n",
    "<td align=\"right\">4.9</td>\n",
    "</tr>\n",
    "<tr>\n",
    "<td><a href=\"efficientnet/#efficientnetb1-function\">EfficientNetB1</a></td>\n",
    "<td align=\"right\">31</td>\n",
    "<td align=\"right\">79.1%</td>\n",
    "<td align=\"right\">94.4%</td>\n",
    "<td align=\"right\">7.9M</td>\n",
    "<td align=\"right\">186</td>\n",
    "<td align=\"right\">60.2</td>\n",
    "<td align=\"right\">5.6</td>\n",
    "</tr>\n",
    "<tr>\n",
    "<td><a href=\"efficientnet/#efficientnetb2-function\">EfficientNetB2</a></td>\n",
    "<td align=\"right\">36</td>\n",
    "<td align=\"right\">80.1%</td>\n",
    "<td align=\"right\">94.9%</td>\n",
    "<td align=\"right\">9.2M</td>\n",
    "<td align=\"right\">186</td>\n",
    "<td align=\"right\">80.8</td>\n",
    "<td align=\"right\">6.5</td>\n",
    "</tr>\n",
    "<tr>\n",
    "<td><a href=\"efficientnet/#efficientnetb3-function\">EfficientNetB3</a></td>\n",
    "<td align=\"right\">48</td>\n",
    "<td align=\"right\">81.6%</td>\n",
    "<td align=\"right\">95.7%</td>\n",
    "<td align=\"right\">12.3M</td>\n",
    "<td align=\"right\">210</td>\n",
    "<td align=\"right\">140.0</td>\n",
    "<td align=\"right\">8.8</td>\n",
    "</tr>\n",
    "<tr>\n",
    "<td><a href=\"efficientnet/#efficientnetb4-function\">EfficientNetB4</a></td>\n",
    "<td align=\"right\">75</td>\n",
    "<td align=\"right\">82.9%</td>\n",
    "<td align=\"right\">96.4%</td>\n",
    "<td align=\"right\">19.5M</td>\n",
    "<td align=\"right\">258</td>\n",
    "<td align=\"right\">308.3</td>\n",
    "<td align=\"right\">15.1</td>\n",
    "</tr>\n",
    "<tr>\n",
    "<td><a href=\"efficientnet/#efficientnetb5-function\">EfficientNetB5</a></td>\n",
    "<td align=\"right\">118</td>\n",
    "<td align=\"right\">83.6%</td>\n",
    "<td align=\"right\">96.7%</td>\n",
    "<td align=\"right\">30.6M</td>\n",
    "<td align=\"right\">312</td>\n",
    "<td align=\"right\">579.2</td>\n",
    "<td align=\"right\">25.3</td>\n",
    "</tr>\n",
    "<tr>\n",
    "<td><a href=\"efficientnet/#efficientnetb6-function\">EfficientNetB6</a></td>\n",
    "<td align=\"right\">166</td>\n",
    "<td align=\"right\">84.0%</td>\n",
    "<td align=\"right\">96.8%</td>\n",
    "<td align=\"right\">43.3M</td>\n",
    "<td align=\"right\">360</td>\n",
    "<td align=\"right\">958.1</td>\n",
    "<td align=\"right\">40.4</td>\n",
    "</tr>\n",
    "<tr>\n",
    "<td><a href=\"efficientnet/#efficientnetb7-function\">EfficientNetB7</a></td>\n",
    "<td align=\"right\">256</td>\n",
    "<td align=\"right\">84.3%</td>\n",
    "<td align=\"right\">97.0%</td>\n",
    "<td align=\"right\">66.7M</td>\n",
    "<td align=\"right\">438</td>\n",
    "<td align=\"right\">1578.9</td>\n",
    "<td align=\"right\">61.6</td>\n",
    "</tr>\n",
    "<tr>\n",
    "<td><a href=\"efficientnet_v2/#efficientnetv2b0-function\">EfficientNetV2B0</a></td>\n",
    "<td align=\"right\">29</td>\n",
    "<td align=\"right\">78.7%</td>\n",
    "<td align=\"right\">94.3%</td>\n",
    "<td align=\"right\">7.2M</td>\n",
    "<td align=\"right\">-</td>\n",
    "<td align=\"right\">-</td>\n",
    "<td align=\"right\">-</td>\n",
    "</tr>\n",
    "<tr>\n",
    "<td><a href=\"efficientnet_v2/#efficientnetv2b1-function\">EfficientNetV2B1</a></td>\n",
    "<td align=\"right\">34</td>\n",
    "<td align=\"right\">79.8%</td>\n",
    "<td align=\"right\">95.0%</td>\n",
    "<td align=\"right\">8.2M</td>\n",
    "<td align=\"right\">-</td>\n",
    "<td align=\"right\">-</td>\n",
    "<td align=\"right\">-</td>\n",
    "</tr>\n",
    "<tr>\n",
    "<td><a href=\"efficientnet_v2/#efficientnetv2b2-function\">EfficientNetV2B2</a></td>\n",
    "<td align=\"right\">42</td>\n",
    "<td align=\"right\">80.5%</td>\n",
    "<td align=\"right\">95.1%</td>\n",
    "<td align=\"right\">10.2M</td>\n",
    "<td align=\"right\">-</td>\n",
    "<td align=\"right\">-</td>\n",
    "<td align=\"right\">-</td>\n",
    "</tr>\n",
    "<tr>\n",
    "<td><a href=\"efficientnet_v2/#efficientnetv2b3-function\">EfficientNetV2B3</a></td>\n",
    "<td align=\"right\">59</td>\n",
    "<td align=\"right\">82.0%</td>\n",
    "<td align=\"right\">95.8%</td>\n",
    "<td align=\"right\">14.5M</td>\n",
    "<td align=\"right\">-</td>\n",
    "<td align=\"right\">-</td>\n",
    "<td align=\"right\">-</td>\n",
    "</tr>\n",
    "<tr>\n",
    "<td><a href=\"efficientnet_v2/#efficientnetv2s-function\">EfficientNetV2S</a></td>\n",
    "<td align=\"right\">88</td>\n",
    "<td align=\"right\">83.9%</td>\n",
    "<td align=\"right\">96.7%</td>\n",
    "<td align=\"right\">21.6M</td>\n",
    "<td align=\"right\">-</td>\n",
    "<td align=\"right\">-</td>\n",
    "<td align=\"right\">-</td>\n",
    "</tr>\n",
    "<tr>\n",
    "<td><a href=\"efficientnet_v2/#efficientnetv2m-function\">EfficientNetV2M</a></td>\n",
    "<td align=\"right\">220</td>\n",
    "<td align=\"right\">85.3%</td>\n",
    "<td align=\"right\">97.4%</td>\n",
    "<td align=\"right\">54.4M</td>\n",
    "<td align=\"right\">-</td>\n",
    "<td align=\"right\">-</td>\n",
    "<td align=\"right\">-</td>\n",
    "</tr>\n",
    "<tr>\n",
    "<td><a href=\"efficientnet_v2/#efficientnetv2l-function\">EfficientNetV2L</a></td>\n",
    "<td align=\"right\">479</td>\n",
    "<td align=\"right\">85.7%</td>\n",
    "<td align=\"right\">97.5%</td>\n",
    "<td align=\"right\">119.0M</td>\n",
    "<td align=\"right\">-</td>\n",
    "<td align=\"right\">-</td>\n",
    "<td align=\"right\">-</td>\n",
    "</tr>\n",
    "</tbody>\n",
    "</table>"
   ]
  },
  {
   "cell_type": "code",
   "execution_count": null,
   "id": "b8666b65-ee76-4921-9e3d-10b78a985ce5",
   "metadata": {},
   "outputs": [],
   "source": []
  }
 ],
 "metadata": {
  "kernelspec": {
   "display_name": "Python 3 (ipykernel)",
   "language": "python",
   "name": "python3"
  },
  "language_info": {
   "codemirror_mode": {
    "name": "ipython",
    "version": 3
   },
   "file_extension": ".py",
   "mimetype": "text/x-python",
   "name": "python",
   "nbconvert_exporter": "python",
   "pygments_lexer": "ipython3",
   "version": "3.8.8"
  }
 },
 "nbformat": 4,
 "nbformat_minor": 5
}
