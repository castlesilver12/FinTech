{
 "cells": [
  {
   "cell_type": "markdown",
   "id": "d28fa436-5ceb-417c-839e-a848041b8d7f",
   "metadata": {},
   "source": [
    "<font size=6><b>lec. 금융 관련 API"
   ]
  },
  {
   "cell_type": "markdown",
   "id": "8edfeafa-a201-4c6e-bb44-99ee5187c744",
   "metadata": {},
   "source": [
    "* PyKRX\n",
    "    * https://github.com/sharebook-kr/pykrx\n",
    "* pandas_datareader + yfinance\n",
    "* finance_datareader\n",
    "* TA-LIB\n",
    "* quandle"
   ]
  },
  {
   "cell_type": "markdown",
   "id": "bdb4df1b-d997-4e3d-91b5-b166da502905",
   "metadata": {},
   "source": [
    "# pykrx"
   ]
  },
  {
   "cell_type": "markdown",
   "id": "7e992c63-5fac-408e-a92d-65b81e203c9e",
   "metadata": {},
   "source": [
    "# 주식관련"
   ]
  },
  {
   "cell_type": "code",
   "execution_count": 2,
   "id": "f29b40f8-ca0f-4ca6-9c3f-f6008c0ccf8a",
   "metadata": {},
   "outputs": [],
   "source": [
    "# ! pip install pykrx"
   ]
  },
  {
   "cell_type": "code",
   "execution_count": 3,
   "id": "01823b01-bdf5-4314-9474-8904c94df882",
   "metadata": {},
   "outputs": [],
   "source": [
    "from pykrx import stock\n",
    "from pykrx import bond"
   ]
  },
  {
   "cell_type": "code",
   "execution_count": 5,
   "id": "1c2b023a-c541-4047-bd5e-701847b28ff2",
   "metadata": {},
   "outputs": [
    {
     "name": "stdout",
     "output_type": "stream",
     "text": [
      "['060310', '054620', '265520', '211270', '035760'] 1328\n"
     ]
    }
   ],
   "source": [
    "#KOSPI*, KOSDAQ, KONEX, ALL\n",
    "tickers = stock.get_market_ticker_list(\"20190225\", market=\"KOSDAQ\")\n",
    "print(tickers[:5] , len(tickers))"
   ]
  },
  {
   "cell_type": "code",
   "execution_count": 6,
   "id": "055afb5c-ce39-4817-a850-80db592bbccf",
   "metadata": {},
   "outputs": [
    {
     "name": "stdout",
     "output_type": "stream",
     "text": [
      "['095570', '068400', '006840', '027410', '282330'] 901\n"
     ]
    }
   ],
   "source": [
    "tickers = stock.get_market_ticker_list(\"20190225\")\n",
    "print(tickers[:5] , len(tickers))"
   ]
  },
  {
   "cell_type": "code",
   "execution_count": 7,
   "id": "487ea82c-f96c-4284-9859-fd12b7c96fd3",
   "metadata": {},
   "outputs": [
    {
     "name": "stdout",
     "output_type": "stream",
     "text": [
      "['060310', '095570', '068400', '006840', '054620'] 2382\n"
     ]
    }
   ],
   "source": [
    "tickers = stock.get_market_ticker_list(\"20190225\", market=\"ALL\")\n",
    "print(tickers[:5] , len(tickers))"
   ]
  },
  {
   "cell_type": "code",
   "execution_count": 8,
   "id": "df05ab5f-d478-4aa3-b27a-335d1ee0fad6",
   "metadata": {},
   "outputs": [
    {
     "name": "stdout",
     "output_type": "stream",
     "text": [
      "삼성전자\n"
     ]
    }
   ],
   "source": [
    "종목 = stock.get_market_ticker_name('005930')\n",
    "print(종목)"
   ]
  },
  {
   "cell_type": "code",
   "execution_count": 9,
   "id": "f1db79d7-1b70-4881-8ae3-325b5603a102",
   "metadata": {},
   "outputs": [
    {
     "name": "stdout",
     "output_type": "stream",
     "text": [
      "095570 AJ네트웍스\n",
      "068400 SK렌터카\n",
      "006840 AK홀딩스\n",
      "027410 BGF\n",
      "282330 BGF리테일\n"
     ]
    }
   ],
   "source": [
    "for tcode in ['095570', '068400', '006840', '027410', '282330'] :\n",
    "    종목 = stock.get_market_ticker_name(tcode)\n",
    "    print(tcode, 종목)"
   ]
  },
  {
   "cell_type": "code",
   "execution_count": 11,
   "id": "36f2806e-23d9-4d7b-9827-f4c992783397",
   "metadata": {},
   "outputs": [
    {
     "name": "stdout",
     "output_type": "stream",
     "text": [
      "(16, 5)\n",
      "               시가     고가     저가     종가     거래량\n",
      "날짜                                            \n",
      "2015-07-20  25820  26080  25460  25500  128928\n",
      "2015-07-21  25500  25540  24940  25260  194055\n",
      "2015-07-22  24880  25200  24700  25060  268323\n"
     ]
    }
   ],
   "source": [
    "df = stock.get_market_ohlcv(\"20150720\", \"20150810\", \"005930\")\n",
    "print(df.shape)\n",
    "print(df.head(3))"
   ]
  },
  {
   "cell_type": "code",
   "execution_count": 13,
   "id": "2b53e4d9-687c-4e5a-8185-8298aacd1176",
   "metadata": {},
   "outputs": [
    {
     "name": "stdout",
     "output_type": "stream",
     "text": [
      "               시가     고가     저가     종가        거래량\n",
      "날짜                                               \n",
      "2018-08-31  46150  48450  43500  48450  135518029\n",
      "2018-09-30  48200  48300  44000  46450  197984482\n",
      "2018-10-31  46450  46800  40400  42400  234645485\n"
     ]
    }
   ],
   "source": [
    "# 월단위 :  frequency 파라미터(d/m/y)\n",
    "df = stock.get_market_ohlcv(\"20180810\", \"20181212\", \"005930\", \"m\")\n",
    "print(df.head(3))"
   ]
  },
  {
   "cell_type": "code",
   "execution_count": 19,
   "id": "055dad63-9c33-42c3-a564-af0ba484bf7b",
   "metadata": {},
   "outputs": [
    {
     "name": "stdout",
     "output_type": "stream",
     "text": [
      "0\n",
      "1\n",
      "2\n",
      "3\n",
      "4\n",
      "5\n",
      "6\n",
      "7\n",
      "8\n",
      "9\n"
     ]
    }
   ],
   "source": [
    "import time\n",
    "for i in range(3):\n",
    "    print(i)\n",
    "    time.sleep(0.5)"
   ]
  },
  {
   "cell_type": "code",
   "execution_count": 20,
   "id": "1ef6268a-bd2d-4c84-a427-3b35a78c8c84",
   "metadata": {},
   "outputs": [
    {
     "name": "stdout",
     "output_type": "stream",
     "text": [
      "           종목명     시가     종가   변동폭    등락률      거래량         거래대금\n",
      "티커                                                             \n",
      "095570  AJ네트웍스   7550   7130  -420  -5.56   384948   2844218890\n",
      "068400   AJ렌터카  10900  12100  1200  11.01  3410074  40045884150\n"
     ]
    },
    {
     "name": "stderr",
     "output_type": "stream",
     "text": [
      "c:\\ai\\pythonproject7\\venv\\lib\\site-packages\\pykrx\\stock\\api.py:633: FutureWarning: The frame.append method is deprecated and will be removed from pandas in a future version. Use pandas.concat instead.\n",
      "  df_0 = df_0.append(df_1[cond])\n"
     ]
    }
   ],
   "source": [
    "# 일별 거래량 거래대금\n",
    "df = stock.get_market_price_change(\"20180301\", \"20180320\")\n",
    "print(df.head(2))"
   ]
  },
  {
   "cell_type": "markdown",
   "id": "74033b39-16d2-440d-abf4-a408212d640c",
   "metadata": {},
   "source": [
    "## 순매수 거래금액"
   ]
  },
  {
   "cell_type": "code",
   "execution_count": 30,
   "id": "c5900d3a-9db8-4957-89a5-105be2a79621",
   "metadata": {},
   "outputs": [
    {
     "name": "stdout",
     "output_type": "stream",
     "text": [
      "                     금융투자            보험            투신           사모  \\\n",
      "날짜                                                                   \n",
      "2021-01-15  -991569370471 -101879326615  -73654664921 -47097103944   \n",
      "2021-01-18  -234901037556  -72240710086  101791257920 -22451555756   \n",
      "2021-01-19  1095649201830  -16407303019 -132856710155  12116061569   \n",
      "2021-01-20  -642974676550  -63074125224  -93392192931  -2355882539   \n",
      "2021-01-21   354360314201 -107524405663  -12601355617  21898580074   \n",
      "\n",
      "                      은행          기타금융           연기금         기타법인  \\\n",
      "날짜                                                                  \n",
      "2021-01-15  202104737955   -4226413080 -520248168365  63110174617   \n",
      "2021-01-18   29622542645    9331964150 -412580572674 -27000808439   \n",
      "2021-01-19    1776752770   -1933723125 -413689873532  21787409868   \n",
      "2021-01-20  -17889264145   -1573759250 -406382571980  32139813590   \n",
      "2021-01-21 -113225122905 -158268629075 -269539273337 -19072459127   \n",
      "\n",
      "                       개인           외국인       기타외국인  전체  \n",
      "날짜                                                       \n",
      "2021-01-15  2251672617980 -780253717173  2041234017   0  \n",
      "2021-01-18   494341183227  132145345642  1942390927   0  \n",
      "2021-01-19  -968965427363  401864885550   658725607   0  \n",
      "2021-01-20  1444113501769 -250687123305  2076280565   0  \n",
      "2021-01-21   -61503500921  363801344664  1674507706   0  \n"
     ]
    }
   ],
   "source": [
    "# df = stock.get_market_trading_value_by_date(\"20210115\", \"20210122\", \"005930\", on='매도')\n",
    "# df = stock.get_market_trading_value_by_date(\"20210115\", \"20210122\", \"005930\")\n",
    "# df = stock.get_market_trading_value_by_date(\"20210115\", \"20210122\", \"005930\",etf=True, etn=True, elw=True)\n",
    "df = stock.get_market_trading_value_by_date(\"20210115\", \"20210122\", \"KOSPI\", etf=True, etn=True, elw=True, detail=True)\n",
    "print(df.head())"
   ]
  },
  {
   "cell_type": "markdown",
   "id": "0ad08b12-c549-40ff-ab31-1f683c3da643",
   "metadata": {},
   "source": [
    "## 거래량"
   ]
  },
  {
   "cell_type": "code",
   "execution_count": 31,
   "id": "cdc44a6e-a4c0-41a5-a4ac-180503446866",
   "metadata": {},
   "outputs": [
    {
     "name": "stdout",
     "output_type": "stream",
     "text": [
      "               기관합계    기타법인       개인    외국인합계  전체\n",
      "날짜                                               \n",
      "2021-01-15 -5006115  288832  7485785 -2768502   0\n",
      "2021-01-18   505669  262604   151228  -919501   0\n",
      "2021-01-19  1139258  -34023 -2044543   939308   0\n",
      "2021-01-20 -4157919  262408  4917655 -1022144   0\n",
      "2021-01-21  -712099 -321732  2890389 -1856558   0\n"
     ]
    }
   ],
   "source": [
    "df = stock.get_market_trading_volume_by_date(\"20210115\", \"20210122\", \"005930\")\n",
    "print(df.head())"
   ]
  },
  {
   "cell_type": "code",
   "execution_count": 21,
   "id": "f82e1217-b734-4566-adf3-05a498ec16bc",
   "metadata": {},
   "outputs": [],
   "source": [
    "# 상폐종목\n",
    "# 종가가 0, 등락폭이 -100%"
   ]
  },
  {
   "cell_type": "code",
   "execution_count": 24,
   "id": "b2a15b02-bab4-4073-b55c-fb2ad9c8e205",
   "metadata": {},
   "outputs": [
    {
     "name": "stdout",
     "output_type": "stream",
     "text": [
      "              BPS    PER   PBR   EPS   DIV   DPS\n",
      "날짜                                              \n",
      "2021-01-04  37528  26.22  2.21  3166  1.71  1416\n",
      "2021-01-05  37528  26.50  2.24  3166  1.69  1416\n"
     ]
    }
   ],
   "source": [
    "# 대체 데이터 \n",
    "# df = stock.get_market_fundamental(\"20210108\")\n",
    "df = stock.get_market_fundamental(\"20210104\", \"20210108\", \"005930\")\n",
    "print(df.head(2))"
   ]
  },
  {
   "cell_type": "code",
   "execution_count": 33,
   "id": "137fe693-e112-42e8-9dc6-b59a54671191",
   "metadata": {},
   "outputs": [
    {
     "name": "stdout",
     "output_type": "stream",
     "text": [
      "                  매도             매수           순매수\n",
      "투자자구분                                            \n",
      "금융투자   2580964135000  2309054317700 -271909817300\n",
      "보험      153322228800    44505136200 -108817092600\n",
      "투신      258073006600   150715203700 -107357802900\n",
      "사모       65167773900    60862926800   -4304847100\n",
      "은행        3369626100     4004806100     635180000\n"
     ]
    }
   ],
   "source": [
    "# 2.1.1.9 투자자별 거래실적 추이 (거래대금)\n",
    "df = stock.get_market_trading_value_by_investor(\"20210115\", \"20210122\", \"005930\")\n",
    "# df = stock.get_market_trading_volume_by_investor(\"20210115\", \"20210122\", \"005930\")\n",
    "print(df.head())"
   ]
  },
  {
   "cell_type": "markdown",
   "id": "0413add5-99b1-468e-b5c0-2811c61ab5fa",
   "metadata": {},
   "source": [
    "## 중요 - 투자자별매매동향"
   ]
  },
  {
   "cell_type": "code",
   "execution_count": 34,
   "id": "0453f7cd-b194-4862-8d1c-4ee3f9ed4a8d",
   "metadata": {},
   "outputs": [
    {
     "name": "stdout",
     "output_type": "stream",
     "text": [
      "            종목명     매도거래량      매수거래량    순매수거래량         매도거래대금         매수거래대금  \\\n",
      "티커                                                                             \n",
      "005930     삼성전자  79567418  102852747  23285329  6918846810800  8972911580500   \n",
      "000270      기아차  44440252   49880626   5440374  3861283906400  4377698855000   \n",
      "005935    삼성전자우  15849762   20011325   4161563  1207133611400  1528694164400   \n",
      "051910     LG화학    709872     921975    212103   700823533000   908593419000   \n",
      "096770  SK이노베이션   4848359    5515777    667418  1298854139000  1478890602000   \n",
      "\n",
      "              순매수거래대금  \n",
      "티커                     \n",
      "005930  2054064769700  \n",
      "000270   516414948600  \n",
      "005935   321560553000  \n",
      "051910   207769886000  \n",
      "096770   180036463000  \n"
     ]
    }
   ],
   "source": [
    "# 금융투자 / 보험 / 투신 / 사모 / 은행 / 기타금융 / 연기금 / 기관합계 / 기타법인 / 개인 / 외국인 / 기타외국인 / 전체\n",
    "# 투자자별 순매수 상위종목\n",
    "# 투자종목소팅 + ohlcv\n",
    "df = stock.get_market_net_purchases_of_equities(\"20210115\", \"20210122\", \"KOSPI\", \"개인\")\n",
    "print(df.head())"
   ]
  },
  {
   "cell_type": "code",
   "execution_count": 35,
   "id": "6273579d-4494-412d-b0a7-27ad35341d2e",
   "metadata": {},
   "outputs": [
    {
     "name": "stdout",
     "output_type": "stream",
     "text": [
      "            종가             시가총액       거래량          거래대금       상장주식수\n",
      "티커                                                                 \n",
      "005930   51900  309831714345000  18541624  970494909540  5969782550\n",
      "000660   84300   61370599369500   3397112  287640892200   728002365\n",
      "207940  815000   53924475000000    163339  133594217000    66165000\n",
      "035420  269500   44268984952500   1196267  325381436500   164263395\n",
      "068270  316000   42640845660000    918369  291688043500   134939385\n"
     ]
    }
   ],
   "source": [
    "# 종목별 시가 총액 조회 , 외인D-2\n",
    "\n",
    "# df = stock.get_market_cap(\"20200625\")\n",
    "# df = stock.get_market_cap(\"20190101\", \"20190131\", \"005930\")\n",
    "df = stock.get_market_cap(\"20200101\", \"20200430\", \"005930\", \"m\")\n",
    "\n",
    "print(df.head())"
   ]
  },
  {
   "cell_type": "markdown",
   "id": "280f10a9-a784-4717-b82b-e276c22c4053",
   "metadata": {},
   "source": [
    "# 섹터(지수)"
   ]
  },
  {
   "cell_type": "code",
   "execution_count": 39,
   "id": "f1470287-e987-4727-ae09-91459cf9bcb5",
   "metadata": {},
   "outputs": [
    {
     "name": "stdout",
     "output_type": "stream",
     "text": [
      "['2001', '2002', '2003', '2004', '2012', '2015', '2024', '2026', '2027', '2029', '2031', '2037', '2041', '2042', '2043', '2056', '2058', '2062', '2063', '2065', '2066', '2067', '2068', '2070', '2072', '2074', '2075', '2077', '2151', '2152', '2153', '2154', '2155', '2156', '2157', '2158', '2159', '2160', '2181', '2182', '2183', '2184', '2203', '2212', '2213', '2214', '2215', '2216', '2217', '2218']\n"
     ]
    }
   ],
   "source": [
    "tickers = stock.get_index_ticker_list(\"202000408\", market='KOSDAQ')\n",
    "print(tickers)"
   ]
  },
  {
   "cell_type": "markdown",
   "id": "965fa90e-ad8b-43e3-9477-a05332f8f3a5",
   "metadata": {},
   "source": [
    "## 종목별 섹터확인"
   ]
  },
  {
   "cell_type": "code",
   "execution_count": 95,
   "id": "c076d51f-f1c2-48c2-83a8-14940dcb2cb2",
   "metadata": {},
   "outputs": [
    {
     "name": "stdout",
     "output_type": "stream",
     "text": [
      "2001 코스닥\n",
      "2002 코스닥 대형주\n",
      "2003 코스닥 중형주\n",
      "2004 코스닥 소형주\n",
      "2012 기타서비스\n",
      "2015 코스닥 IT\n",
      "2024 제조업\n",
      "2026 건설\n",
      "2027 유통\n",
      "2029 운송\n",
      "2031 금융\n",
      "2037 오락·문화\n",
      "2041 통신방송서비스\n",
      "2042 IT S/W & SVC\n",
      "2043 IT H/W\n",
      "2056 음식료·담배\n",
      "2058 섬유·의류\n",
      "2062 종이·목재\n",
      "2063 출판·매체복제\n",
      "2065 화학\n",
      "2066 제약\n",
      "2067 비금속\n",
      "2068 금속\n",
      "2070 기계·장비\n",
      "2072 일반전기전자\n",
      "2074 의료·정밀기기\n",
      "2075 운송장비·부품\n",
      "2077 기타제조\n",
      "2151 통신서비스\n",
      "2152 방송서비스\n",
      "2153 인터넷\n",
      "2154 디지털컨텐츠\n",
      "2155 소프트웨어\n",
      "2156 컴퓨터서비스\n",
      "2157 통신장비\n",
      "2158 정보기기\n",
      "2159 반도체\n",
      "2160 IT부품\n",
      "2181 코스닥 우량기업부\n",
      "2182 코스닥 벤처기업부\n",
      "2183 코스닥 중견기업부\n",
      "2184 코스닥 기술성장기업부\n",
      "2203 코스닥 150\n",
      "2212 코스닥 150 소재\n",
      "2213 코스닥 150 산업재\n",
      "2214 코스닥 150 필수소비재\n",
      "2215 코스닥 150 자유소비재\n",
      "2216 코스닥 150 정보기술\n",
      "2217 코스닥 150 헬스케어\n",
      "2218 코스닥 150 커뮤니케이션서비스\n"
     ]
    }
   ],
   "source": [
    "for ticker in stock.get_index_ticker_list(\"20220919\", market='KOSDAQ'):\n",
    "    print(ticker, stock.get_index_ticker_name(ticker))"
   ]
  },
  {
   "cell_type": "code",
   "execution_count": null,
   "id": "a958a975-93f5-4f87-98a5-dd8dba51a9e6",
   "metadata": {},
   "outputs": [],
   "source": []
  },
  {
   "cell_type": "markdown",
   "id": "9482eb76-8bd2-452a-9f08-97d97ddae51e",
   "metadata": {},
   "source": [
    "# [Quiz] 코스닥.. 외국인 거래대금 가장많은 철강금속 top10 조회"
   ]
  },
  {
   "cell_type": "code",
   "execution_count": 96,
   "id": "9f8ea771-c68c-4299-a548-d61739b0f529",
   "metadata": {},
   "outputs": [
    {
     "data": {
      "text/html": [
       "<div>\n",
       "<style scoped>\n",
       "    .dataframe tbody tr th:only-of-type {\n",
       "        vertical-align: middle;\n",
       "    }\n",
       "\n",
       "    .dataframe tbody tr th {\n",
       "        vertical-align: top;\n",
       "    }\n",
       "\n",
       "    .dataframe thead th {\n",
       "        text-align: right;\n",
       "    }\n",
       "</style>\n",
       "<table border=\"1\" class=\"dataframe\">\n",
       "  <thead>\n",
       "    <tr style=\"text-align: right;\">\n",
       "      <th></th>\n",
       "      <th>종목명_x</th>\n",
       "      <th>순매수거래대금</th>\n",
       "    </tr>\n",
       "    <tr>\n",
       "      <th>티커</th>\n",
       "      <th></th>\n",
       "      <th></th>\n",
       "    </tr>\n",
       "  </thead>\n",
       "  <tbody>\n",
       "    <tr>\n",
       "      <th>086520</th>\n",
       "      <td>에코프로</td>\n",
       "      <td>11621924800</td>\n",
       "    </tr>\n",
       "    <tr>\n",
       "      <th>247540</th>\n",
       "      <td>에코프로비엠</td>\n",
       "      <td>11049070800</td>\n",
       "    </tr>\n",
       "    <tr>\n",
       "      <th>035900</th>\n",
       "      <td>JYP Ent.</td>\n",
       "      <td>5972075200</td>\n",
       "    </tr>\n",
       "    <tr>\n",
       "      <th>365340</th>\n",
       "      <td>성일하이텍</td>\n",
       "      <td>5907757400</td>\n",
       "    </tr>\n",
       "    <tr>\n",
       "      <th>323990</th>\n",
       "      <td>박셀바이오</td>\n",
       "      <td>4756663700</td>\n",
       "    </tr>\n",
       "  </tbody>\n",
       "</table>\n",
       "</div>"
      ],
      "text/plain": [
       "           종목명_x      순매수거래대금\n",
       "티커                           \n",
       "086520      에코프로  11621924800\n",
       "247540    에코프로비엠  11049070800\n",
       "035900  JYP Ent.   5972075200\n",
       "365340     성일하이텍   5907757400\n",
       "323990     박셀바이오   4756663700"
      ]
     },
     "execution_count": 96,
     "metadata": {},
     "output_type": "execute_result"
    }
   ],
   "source": [
    "import pandas as  pd\n",
    "# 금융투자 / 보험 / 투신 / 사모 / 은행 / 기타금융 / 연기금 / 기관합계 / 기타법인 / 개인 / 외국인 / 기타외국인 / 전체\n",
    "# 투자자별 순매수 상위종목\n",
    "# 투자종목소팅 + ohlcv\n",
    "df_외국인 = stock.get_market_net_purchases_of_equities(\"20220919\",\"20220919\", \"KOSDAQ\", \"외국인\")\n",
    "df_기타외국인 = stock.get_market_net_purchases_of_equities(\"20220919\", \"20220919\", \"KOSDAQ\", \"기타외국인\")\n",
    "\n",
    "mgdf = pd.merge(df_외국인, df_기타외국인, left_index=True, right_index=True)\n",
    "# mgdf.head()\n",
    "mgdf[['종목명_x','순매수거래대금_x', '순매수거래대금_y']].head()\n",
    "mgdf['순매수거래대금'] = mgdf['순매수거래대금_x'] + mgdf['순매수거래대금_y']\n",
    "\n",
    "mgdf[['종목명_x','순매수거래대금']].head()"
   ]
  },
  {
   "cell_type": "code",
   "execution_count": 45,
   "id": "db54c024-1423-4928-b5b5-04135f85a28a",
   "metadata": {},
   "outputs": [],
   "source": [
    "# for ticker in stock.get_index_ticker_list(\"20220917\", market='KOSDAQ'):  #2068 금속\n",
    "#     print(ticker, stock.get_index_ticker_name(ticker))"
   ]
  },
  {
   "cell_type": "code",
   "execution_count": 97,
   "id": "d31b6c93-1567-4d23-a50e-0b99dacf56d1",
   "metadata": {},
   "outputs": [
    {
     "name": "stdout",
     "output_type": "stream",
     "text": [
      "62 ['100090', '023160', '014620', '033310', '100130', '013030', '009520', '005160', '101670', '006910', '018310', '044490', '114190', '019210', '396300', '109860', '109610', '024880', '053260', '256630', '186230', '073640', '025550', '090410', '081150', '128660', '039240', '049830', '258610', '017480', '059270', '263770', '004780', '038010', '140520', '053620', '023440', '037760', '147830', '048470', '096350', '054540', '138070', '024840', '119500', '009730', '017510', '009620', '021040', '060380', '007530', '012620', '079170', '008470', '093380', '192390', '023790', '069140', '060480', '026910', '020400', '054410']\n"
     ]
    }
   ],
   "source": [
    "금속_ticer_list = stock.get_index_portfolio_deposit_file(\"2066\") #2068 금속\n",
    "print(len(pdf), pdf)"
   ]
  },
  {
   "cell_type": "code",
   "execution_count": 98,
   "id": "85275105-9889-49fc-aab4-b27156c4bb6a",
   "metadata": {},
   "outputs": [
    {
     "data": {
      "text/html": [
       "<div>\n",
       "<style scoped>\n",
       "    .dataframe tbody tr th:only-of-type {\n",
       "        vertical-align: middle;\n",
       "    }\n",
       "\n",
       "    .dataframe tbody tr th {\n",
       "        vertical-align: top;\n",
       "    }\n",
       "\n",
       "    .dataframe thead th {\n",
       "        text-align: right;\n",
       "    }\n",
       "</style>\n",
       "<table border=\"1\" class=\"dataframe\">\n",
       "  <thead>\n",
       "    <tr style=\"text-align: right;\">\n",
       "      <th></th>\n",
       "      <th>종목명_x</th>\n",
       "      <th>순매수거래대금</th>\n",
       "    </tr>\n",
       "    <tr>\n",
       "      <th>티커</th>\n",
       "      <th></th>\n",
       "      <th></th>\n",
       "    </tr>\n",
       "  </thead>\n",
       "  <tbody>\n",
       "    <tr>\n",
       "      <th>099430</th>\n",
       "      <td>바이오플러스</td>\n",
       "      <td>-2833939150</td>\n",
       "    </tr>\n",
       "    <tr>\n",
       "      <th>064550</th>\n",
       "      <td>바이오니아</td>\n",
       "      <td>-2123586450</td>\n",
       "    </tr>\n",
       "    <tr>\n",
       "      <th>007390</th>\n",
       "      <td>네이처셀</td>\n",
       "      <td>-2103679600</td>\n",
       "    </tr>\n",
       "    <tr>\n",
       "      <th>086900</th>\n",
       "      <td>메디톡스</td>\n",
       "      <td>-1197879700</td>\n",
       "    </tr>\n",
       "    <tr>\n",
       "      <th>068760</th>\n",
       "      <td>셀트리온제약</td>\n",
       "      <td>-793345900</td>\n",
       "    </tr>\n",
       "    <tr>\n",
       "      <th>307750</th>\n",
       "      <td>국전약품</td>\n",
       "      <td>-752090040</td>\n",
       "    </tr>\n",
       "    <tr>\n",
       "      <th>290650</th>\n",
       "      <td>엘앤씨바이오</td>\n",
       "      <td>-714844200</td>\n",
       "    </tr>\n",
       "    <tr>\n",
       "      <th>085660</th>\n",
       "      <td>차바이오텍</td>\n",
       "      <td>-565902050</td>\n",
       "    </tr>\n",
       "    <tr>\n",
       "      <th>237690</th>\n",
       "      <td>에스티팜</td>\n",
       "      <td>-407753300</td>\n",
       "    </tr>\n",
       "    <tr>\n",
       "      <th>340570</th>\n",
       "      <td>티앤엘</td>\n",
       "      <td>-395737150</td>\n",
       "    </tr>\n",
       "  </tbody>\n",
       "</table>\n",
       "</div>"
      ],
      "text/plain": [
       "         종목명_x     순매수거래대금\n",
       "티커                        \n",
       "099430  바이오플러스 -2833939150\n",
       "064550   바이오니아 -2123586450\n",
       "007390    네이처셀 -2103679600\n",
       "086900    메디톡스 -1197879700\n",
       "068760  셀트리온제약  -793345900\n",
       "307750    국전약품  -752090040\n",
       "290650  엘앤씨바이오  -714844200\n",
       "085660   차바이오텍  -565902050\n",
       "237690    에스티팜  -407753300\n",
       "340570     티앤엘  -395737150"
      ]
     },
     "execution_count": 98,
     "metadata": {},
     "output_type": "execute_result"
    }
   ],
   "source": [
    "mgdf[mgdf.index.isin(금속_ticer_list)][['종목명_x','순매수거래대금']].sort_values(\"순매수거래대금\").head(10)"
   ]
  },
  {
   "cell_type": "markdown",
   "id": "85c2b0ef-742d-48a1-ac70-cb904bfa3fa7",
   "metadata": {},
   "source": [
    "* by 인서"
   ]
  },
  {
   "cell_type": "code",
   "execution_count": 76,
   "id": "81e4c353-bd73-4162-86aa-3c774dc08dd8",
   "metadata": {},
   "outputs": [],
   "source": [
    "# stock_dict = {}\n",
    "# for ticker_code in stock.get_index_portfolio_deposit_file(\"2068\"):  #62개 티거\n",
    "#     df = stock.get_market_trading_value_by_investor(fromdate = '20220919',todate = '20220919',ticker=ticker_code)\n",
    "#     stock_dict[stock.get_market_ticker_name(ticker_code)] = df.loc[['외국인', '기타외국인'], '순매수'].sum()\n",
    "# dict(sorted(stock_dict.items(), key=lambda item: item[1], reverse=True)) #[-10:])\n"
   ]
  },
  {
   "cell_type": "markdown",
   "id": "20bd1cf4-8e33-485f-857e-52363809d514",
   "metadata": {},
   "source": [
    "# [Quiz] KOSPI 오늘 날짜 기준 최대 거래량 섹터/종목 top5"
   ]
  },
  {
   "cell_type": "markdown",
   "id": "c58d121c-6dc0-461e-9636-92a3e97f7cc4",
   "metadata": {},
   "source": [
    "* 섹터"
   ]
  },
  {
   "cell_type": "code",
   "execution_count": 115,
   "id": "9df5d950-cbb8-40e8-be2b-648be1c5b147",
   "metadata": {},
   "outputs": [
    {
     "data": {
      "text/html": [
       "<div>\n",
       "<style scoped>\n",
       "    .dataframe tbody tr th:only-of-type {\n",
       "        vertical-align: middle;\n",
       "    }\n",
       "\n",
       "    .dataframe tbody tr th {\n",
       "        vertical-align: top;\n",
       "    }\n",
       "\n",
       "    .dataframe thead th {\n",
       "        text-align: right;\n",
       "    }\n",
       "</style>\n",
       "<table border=\"1\" class=\"dataframe\">\n",
       "  <thead>\n",
       "    <tr style=\"text-align: right;\">\n",
       "      <th></th>\n",
       "      <th>시가</th>\n",
       "      <th>종가</th>\n",
       "      <th>등락률</th>\n",
       "      <th>거래량</th>\n",
       "      <th>거래대금</th>\n",
       "    </tr>\n",
       "    <tr>\n",
       "      <th>지수명</th>\n",
       "      <th></th>\n",
       "      <th></th>\n",
       "      <th></th>\n",
       "      <th></th>\n",
       "      <th></th>\n",
       "    </tr>\n",
       "  </thead>\n",
       "  <tbody>\n",
       "    <tr>\n",
       "      <th>코스피</th>\n",
       "      <td>2382.78</td>\n",
       "      <td>2355.66</td>\n",
       "      <td>-1.139648</td>\n",
       "      <td>395256390</td>\n",
       "      <td>6738865254090</td>\n",
       "    </tr>\n",
       "    <tr>\n",
       "      <th>코스피200제외 코스피지수</th>\n",
       "      <td>3122.15</td>\n",
       "      <td>3069.23</td>\n",
       "      <td>-1.690430</td>\n",
       "      <td>293412381</td>\n",
       "      <td>1936889681470</td>\n",
       "    </tr>\n",
       "    <tr>\n",
       "      <th>제조업</th>\n",
       "      <td>6198.82</td>\n",
       "      <td>6130.61</td>\n",
       "      <td>-1.099609</td>\n",
       "      <td>292442328</td>\n",
       "      <td>5130415837930</td>\n",
       "    </tr>\n",
       "    <tr>\n",
       "      <th>코스피 소형주</th>\n",
       "      <td>2293.15</td>\n",
       "      <td>2246.64</td>\n",
       "      <td>-2.029297</td>\n",
       "      <td>262116146</td>\n",
       "      <td>1383593189483</td>\n",
       "    </tr>\n",
       "    <tr>\n",
       "      <th>코스피 200</th>\n",
       "      <td>308.69</td>\n",
       "      <td>306.49</td>\n",
       "      <td>-0.709961</td>\n",
       "      <td>99042327</td>\n",
       "      <td>4730063022040</td>\n",
       "    </tr>\n",
       "    <tr>\n",
       "      <th>코스피 200 비중상한 20%</th>\n",
       "      <td>299.79</td>\n",
       "      <td>297.31</td>\n",
       "      <td>-0.830078</td>\n",
       "      <td>99042327</td>\n",
       "      <td>4730063022040</td>\n",
       "    </tr>\n",
       "    <tr>\n",
       "      <th>코스피 200 비중상한 25%</th>\n",
       "      <td>306.24</td>\n",
       "      <td>303.91</td>\n",
       "      <td>-0.759766</td>\n",
       "      <td>99042327</td>\n",
       "      <td>4730063022040</td>\n",
       "    </tr>\n",
       "    <tr>\n",
       "      <th>코스피 200 비중상한 30%</th>\n",
       "      <td>308.13</td>\n",
       "      <td>305.94</td>\n",
       "      <td>-0.709961</td>\n",
       "      <td>99042327</td>\n",
       "      <td>4730063022040</td>\n",
       "    </tr>\n",
       "    <tr>\n",
       "      <th>코스피 200 초대형제외 지수</th>\n",
       "      <td>233.42</td>\n",
       "      <td>230.85</td>\n",
       "      <td>-1.099609</td>\n",
       "      <td>86925852</td>\n",
       "      <td>4045580722140</td>\n",
       "    </tr>\n",
       "    <tr>\n",
       "      <th>코스피 대형주</th>\n",
       "      <td>2343.01</td>\n",
       "      <td>2318.98</td>\n",
       "      <td>-1.030273</td>\n",
       "      <td>66211926</td>\n",
       "      <td>4006516782770</td>\n",
       "    </tr>\n",
       "    <tr>\n",
       "      <th>코스피 중형주</th>\n",
       "      <td>2768.49</td>\n",
       "      <td>2727.64</td>\n",
       "      <td>-1.480469</td>\n",
       "      <td>63602352</td>\n",
       "      <td>1265212256507</td>\n",
       "    </tr>\n",
       "    <tr>\n",
       "      <th>기계</th>\n",
       "      <td>968.11</td>\n",
       "      <td>941.08</td>\n",
       "      <td>-2.789062</td>\n",
       "      <td>62722404</td>\n",
       "      <td>323668534977</td>\n",
       "    </tr>\n",
       "    <tr>\n",
       "      <th>코스피 100</th>\n",
       "      <td>2318.63</td>\n",
       "      <td>2304.20</td>\n",
       "      <td>-0.620117</td>\n",
       "      <td>60762718</td>\n",
       "      <td>3804331938880</td>\n",
       "    </tr>\n",
       "    <tr>\n",
       "      <th>철강금속</th>\n",
       "      <td>4274.08</td>\n",
       "      <td>4170.63</td>\n",
       "      <td>-2.419922</td>\n",
       "      <td>50939416</td>\n",
       "      <td>346813274894</td>\n",
       "    </tr>\n",
       "    <tr>\n",
       "      <th>화학</th>\n",
       "      <td>5485.39</td>\n",
       "      <td>5412.43</td>\n",
       "      <td>-1.330078</td>\n",
       "      <td>50715190</td>\n",
       "      <td>1207765550917</td>\n",
       "    </tr>\n",
       "    <tr>\n",
       "      <th>전기전자</th>\n",
       "      <td>22770.03</td>\n",
       "      <td>22514.70</td>\n",
       "      <td>-1.120117</td>\n",
       "      <td>44614948</td>\n",
       "      <td>1761329487474</td>\n",
       "    </tr>\n",
       "    <tr>\n",
       "      <th>금융업</th>\n",
       "      <td>347.39</td>\n",
       "      <td>344.33</td>\n",
       "      <td>-0.879883</td>\n",
       "      <td>40347283</td>\n",
       "      <td>523698978306</td>\n",
       "    </tr>\n",
       "    <tr>\n",
       "      <th>코스피 200 중소형주</th>\n",
       "      <td>1153.52</td>\n",
       "      <td>1132.48</td>\n",
       "      <td>-1.820312</td>\n",
       "      <td>38279609</td>\n",
       "      <td>925731083160</td>\n",
       "    </tr>\n",
       "    <tr>\n",
       "      <th>코스피 50</th>\n",
       "      <td>2112.14</td>\n",
       "      <td>2100.53</td>\n",
       "      <td>-0.549805</td>\n",
       "      <td>32860923</td>\n",
       "      <td>2821765473690</td>\n",
       "    </tr>\n",
       "    <tr>\n",
       "      <th>운수장비</th>\n",
       "      <td>2064.80</td>\n",
       "      <td>2049.60</td>\n",
       "      <td>-0.740234</td>\n",
       "      <td>32520536</td>\n",
       "      <td>843476946242</td>\n",
       "    </tr>\n",
       "    <tr>\n",
       "      <th>코스피 200 산업재</th>\n",
       "      <td>611.72</td>\n",
       "      <td>593.90</td>\n",
       "      <td>-2.910156</td>\n",
       "      <td>22635335</td>\n",
       "      <td>802923120705</td>\n",
       "    </tr>\n",
       "    <tr>\n",
       "      <th>유통업</th>\n",
       "      <td>337.63</td>\n",
       "      <td>334.96</td>\n",
       "      <td>-0.790039</td>\n",
       "      <td>21791707</td>\n",
       "      <td>229364758292</td>\n",
       "    </tr>\n",
       "    <tr>\n",
       "      <th>비금속광물</th>\n",
       "      <td>2717.73</td>\n",
       "      <td>2705.36</td>\n",
       "      <td>-0.459961</td>\n",
       "      <td>18728023</td>\n",
       "      <td>225875429813</td>\n",
       "    </tr>\n",
       "    <tr>\n",
       "      <th>코스피 200 정보기술</th>\n",
       "      <td>2795.90</td>\n",
       "      <td>2783.82</td>\n",
       "      <td>-0.429932</td>\n",
       "      <td>17804691</td>\n",
       "      <td>1210220808200</td>\n",
       "    </tr>\n",
       "    <tr>\n",
       "      <th>서비스업</th>\n",
       "      <td>1222.28</td>\n",
       "      <td>1202.93</td>\n",
       "      <td>-1.580078</td>\n",
       "      <td>17785907</td>\n",
       "      <td>529825280689</td>\n",
       "    </tr>\n",
       "    <tr>\n",
       "      <th>코스피 200 TOP 10</th>\n",
       "      <td>1232.53</td>\n",
       "      <td>1229.38</td>\n",
       "      <td>-0.260010</td>\n",
       "      <td>17595635</td>\n",
       "      <td>1510819413300</td>\n",
       "    </tr>\n",
       "    <tr>\n",
       "      <th>코스피 200 중공업</th>\n",
       "      <td>283.08</td>\n",
       "      <td>274.96</td>\n",
       "      <td>-2.869141</td>\n",
       "      <td>16943791</td>\n",
       "      <td>418467816590</td>\n",
       "    </tr>\n",
       "    <tr>\n",
       "      <th>운수창고업</th>\n",
       "      <td>1711.53</td>\n",
       "      <td>1659.69</td>\n",
       "      <td>-3.029297</td>\n",
       "      <td>10246517</td>\n",
       "      <td>137219307383</td>\n",
       "    </tr>\n",
       "    <tr>\n",
       "      <th>코스피 200 금융</th>\n",
       "      <td>578.32</td>\n",
       "      <td>575.46</td>\n",
       "      <td>-0.489990</td>\n",
       "      <td>9089739</td>\n",
       "      <td>206832246650</td>\n",
       "    </tr>\n",
       "    <tr>\n",
       "      <th>의약품</th>\n",
       "      <td>14072.17</td>\n",
       "      <td>14009.98</td>\n",
       "      <td>-0.439941</td>\n",
       "      <td>7980160</td>\n",
       "      <td>235898100306</td>\n",
       "    </tr>\n",
       "  </tbody>\n",
       "</table>\n",
       "</div>"
      ],
      "text/plain": [
       "                        시가        종가       등락률        거래량           거래대금\n",
       "지수명                                                                     \n",
       "코스피                2382.78   2355.66 -1.139648  395256390  6738865254090\n",
       "코스피200제외 코스피지수     3122.15   3069.23 -1.690430  293412381  1936889681470\n",
       "제조업                6198.82   6130.61 -1.099609  292442328  5130415837930\n",
       "코스피 소형주            2293.15   2246.64 -2.029297  262116146  1383593189483\n",
       "코스피 200             308.69    306.49 -0.709961   99042327  4730063022040\n",
       "코스피 200 비중상한 20%    299.79    297.31 -0.830078   99042327  4730063022040\n",
       "코스피 200 비중상한 25%    306.24    303.91 -0.759766   99042327  4730063022040\n",
       "코스피 200 비중상한 30%    308.13    305.94 -0.709961   99042327  4730063022040\n",
       "코스피 200 초대형제외 지수    233.42    230.85 -1.099609   86925852  4045580722140\n",
       "코스피 대형주            2343.01   2318.98 -1.030273   66211926  4006516782770\n",
       "코스피 중형주            2768.49   2727.64 -1.480469   63602352  1265212256507\n",
       "기계                  968.11    941.08 -2.789062   62722404   323668534977\n",
       "코스피 100            2318.63   2304.20 -0.620117   60762718  3804331938880\n",
       "철강금속               4274.08   4170.63 -2.419922   50939416   346813274894\n",
       "화학                 5485.39   5412.43 -1.330078   50715190  1207765550917\n",
       "전기전자              22770.03  22514.70 -1.120117   44614948  1761329487474\n",
       "금융업                 347.39    344.33 -0.879883   40347283   523698978306\n",
       "코스피 200 중소형주       1153.52   1132.48 -1.820312   38279609   925731083160\n",
       "코스피 50             2112.14   2100.53 -0.549805   32860923  2821765473690\n",
       "운수장비               2064.80   2049.60 -0.740234   32520536   843476946242\n",
       "코스피 200 산업재         611.72    593.90 -2.910156   22635335   802923120705\n",
       "유통업                 337.63    334.96 -0.790039   21791707   229364758292\n",
       "비금속광물              2717.73   2705.36 -0.459961   18728023   225875429813\n",
       "코스피 200 정보기술       2795.90   2783.82 -0.429932   17804691  1210220808200\n",
       "서비스업               1222.28   1202.93 -1.580078   17785907   529825280689\n",
       "코스피 200 TOP 10     1232.53   1229.38 -0.260010   17595635  1510819413300\n",
       "코스피 200 중공업         283.08    274.96 -2.869141   16943791   418467816590\n",
       "운수창고업              1711.53   1659.69 -3.029297   10246517   137219307383\n",
       "코스피 200 금융          578.32    575.46 -0.489990    9089739   206832246650\n",
       "의약품               14072.17  14009.98 -0.439941    7980160   235898100306"
      ]
     },
     "execution_count": 115,
     "metadata": {},
     "output_type": "execute_result"
    }
   ],
   "source": [
    "df = stock.get_index_price_change(\"20220919\", \"20220919\", \"KOSPI\")\n",
    "df.sort_values('거래량', ascending=False).head(30)"
   ]
  },
  {
   "cell_type": "markdown",
   "id": "594a7a88-9e86-474c-9933-bbc45e084314",
   "metadata": {},
   "source": [
    "* 종목"
   ]
  },
  {
   "cell_type": "code",
   "execution_count": 110,
   "id": "a736b60d-c626-47d2-b18a-e613bf3c81c2",
   "metadata": {},
   "outputs": [
    {
     "name": "stdout",
     "output_type": "stream",
     "text": [
      "티커\n",
      "018470    33886741\n",
      "091090    24348089\n",
      "006220    18577888\n",
      "014580    12859964\n",
      "005930    12272794\n",
      "Name: 거래량, dtype: int32\n",
      "018470 조일알미늄 33886741\n",
      "091090 세원이앤씨 24348089\n",
      "006220 제주은행 18577888\n",
      "014580 태경비케이 12859964\n",
      "005930 삼성전자 12272794\n"
     ]
    }
   ],
   "source": [
    "df = stock.get_market_ohlcv(\"20220919\", market=\"KOSPI\")\n",
    "topdf = df['거래량'].sort_values(ascending=False).head()\n",
    "print(topdf.head())\n",
    "\n",
    "for ticker in topdf.index:\n",
    "    종목 = stock.get_market_ticker_name(ticker)\n",
    "    print(ticker , 종목, topdf.loc[ticker])"
   ]
  },
  {
   "cell_type": "markdown",
   "id": "ebdcbe22-b270-488b-8992-200c1938ffa9",
   "metadata": {
    "tags": []
   },
   "source": [
    "# 지수(index fund)\n",
    "* ETF \n",
    "* ETN\n",
    "* ELW"
   ]
  },
  {
   "cell_type": "markdown",
   "id": "be7f025c-a5f6-4855-9ad4-abed243e48a1",
   "metadata": {},
   "source": [
    "# 채권(bond)"
   ]
  },
  {
   "cell_type": "code",
   "execution_count": 118,
   "id": "f344bb13-5b20-4375-b8ce-eb2679d32711",
   "metadata": {},
   "outputs": [],
   "source": [
    "from pykrx import bond"
   ]
  },
  {
   "cell_type": "code",
   "execution_count": 120,
   "id": "5aed3d37-c2a2-4219-b95f-28dbc2d09b50",
   "metadata": {},
   "outputs": [
    {
     "name": "stdout",
     "output_type": "stream",
     "text": [
      "                      수익률     대비\n",
      "채권종류                            \n",
      "국고채 1년              3.194 -0.017\n",
      "국고채 2년              3.764  0.018\n",
      "국고채 3년              3.759 -0.008\n",
      "국고채 5년              3.782  0.015\n",
      "국고채 10년             3.794  0.022\n",
      "국고채 20년             3.668  0.000\n",
      "국고채 30년             3.608  0.022\n",
      "국민주택 1종 5년          3.875  0.023\n",
      "회사채 AA-(무보증 3년)     4.751 -0.007\n",
      "회사채 BBB- (무보증 3년)  10.609 -0.005\n",
      "CD(91일)             2.990  0.020\n"
     ]
    }
   ],
   "source": [
    "df = bond.get_otc_treasury_yields(\"20220919\")\n",
    "print(df)"
   ]
  },
  {
   "cell_type": "markdown",
   "id": "abc6fa77-4f9f-4497-b383-c58c3a585ec3",
   "metadata": {},
   "source": [
    "## 중요 - 일자별 채권 금리"
   ]
  },
  {
   "cell_type": "code",
   "execution_count": 121,
   "id": "d8592348-3f6c-472b-98b7-4dc29548640e",
   "metadata": {},
   "outputs": [
    {
     "name": "stdout",
     "output_type": "stream",
     "text": [
      "              수익률     대비\n",
      "일자                      \n",
      "2022-01-04  1.717  0.007\n",
      "2022-01-05  1.791  0.074\n",
      "2022-01-06  1.878  0.087\n",
      "2022-01-07  1.895  0.017\n",
      "2022-01-10  1.902  0.007\n"
     ]
    }
   ],
   "source": [
    "df = bond.get_otc_treasury_yields(\"20220104\", \"20220204\", \"국고채2년\")\n",
    "print(df.head())"
   ]
  },
  {
   "cell_type": "code",
   "execution_count": null,
   "id": "cdabe31a-2567-4f88-92a8-4db6829de464",
   "metadata": {},
   "outputs": [],
   "source": []
  },
  {
   "cell_type": "code",
   "execution_count": null,
   "id": "5ed141b1-0250-4bfa-b76c-09fffaf40801",
   "metadata": {},
   "outputs": [],
   "source": []
  }
 ],
 "metadata": {
  "kernelspec": {
   "display_name": "Python 3 (ipykernel)",
   "language": "python",
   "name": "python3"
  },
  "language_info": {
   "codemirror_mode": {
    "name": "ipython",
    "version": 3
   },
   "file_extension": ".py",
   "mimetype": "text/x-python",
   "name": "python",
   "nbconvert_exporter": "python",
   "pygments_lexer": "ipython3",
   "version": "3.8.8"
  }
 },
 "nbformat": 4,
 "nbformat_minor": 5
}
