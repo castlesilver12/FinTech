{
 "cells": [
  {
   "cell_type": "markdown",
   "id": "7540fc26-a837-41ae-909d-8c93773e9abb",
   "metadata": {},
   "source": [
    "<font size=6><b>lec01.샤프지수 - 효율적투자선"
   ]
  },
  {
   "cell_type": "markdown",
   "id": "313e3fba-886a-4e6e-98d5-eb5380e59a2d",
   "metadata": {},
   "source": [
    "# 샤프지수\n",
    "* 리스크(std) vs 수익률(mean) 관계\n",
    "* 포트폴리오 내에서 인내할 있는 리스크 대비 최대 수익률"
   ]
  },
  {
   "cell_type": "code",
   "execution_count": 1,
   "id": "84451731-6f92-442f-a708-f27aaeb0ba8d",
   "metadata": {},
   "outputs": [],
   "source": [
    "import pandas as pd\n",
    "import numpy as np\n",
    "import yfinance as yf\n",
    "from pykrx import stock\n",
    "import matplotlib.pyplot as plt"
   ]
  },
  {
   "cell_type": "markdown",
   "id": "8e2f18ff-2bb3-4d6e-917b-1f4eccdab638",
   "metadata": {},
   "source": [
    "# Data Load"
   ]
  },
  {
   "cell_type": "markdown",
   "id": "e767de2e-c286-465e-ba05-bd0c0a276e82",
   "metadata": {},
   "source": [
    "## yfinance"
   ]
  },
  {
   "cell_type": "code",
   "execution_count": 2,
   "id": "6caece61-6d4d-4fa3-a7ba-92e13f822392",
   "metadata": {},
   "outputs": [
    {
     "name": "stdout",
     "output_type": "stream",
     "text": [
      "[*********************100%***********************]  1 of 1 completed\n",
      "[*********************100%***********************]  1 of 1 completed\n"
     ]
    }
   ],
   "source": [
    "sdate = '2016-01-01'\n",
    "edate = '2020-06-30'\n",
    "# kkdf 035720\n",
    "nvdf = yf.download(\"035420.KS\", sdate, edate)['Close']\n",
    "ssdf = yf.download(\"005930.KS\", sdate, edate)['Close']"
   ]
  },
  {
   "cell_type": "markdown",
   "id": "a8008a7d-b9ca-425c-b935-1dc1d3d555f9",
   "metadata": {},
   "source": [
    "* Close_Adj(수정종가)   : 액면분할된 가격으로 이전가격들을 재계산해서 보여줌\n",
    "* Close(종가) : 원본가 그데로 보여줌"
   ]
  },
  {
   "cell_type": "code",
   "execution_count": 3,
   "id": "3b397ab5-5322-4266-82ba-1176e5ee7db3",
   "metadata": {},
   "outputs": [
    {
     "data": {
      "text/plain": [
       "Date\n",
       "2016-01-04    126400.0\n",
       "Name: Close, dtype: float64"
      ]
     },
     "execution_count": 3,
     "metadata": {},
     "output_type": "execute_result"
    }
   ],
   "source": [
    "nvdf.head(1)"
   ]
  },
  {
   "cell_type": "code",
   "execution_count": 4,
   "id": "d7b4bbad-80f2-492d-86c5-087a522461c2",
   "metadata": {},
   "outputs": [
    {
     "data": {
      "text/plain": [
       "Date\n",
       "2020-06-29    52400.0\n",
       "Name: Close, dtype: float64"
      ]
     },
     "execution_count": 4,
     "metadata": {},
     "output_type": "execute_result"
    }
   ],
   "source": [
    "ssdf.tail(1)"
   ]
  },
  {
   "cell_type": "markdown",
   "id": "283285d3-ad03-49b7-9ee8-80800623e093",
   "metadata": {},
   "source": [
    "## pykrx"
   ]
  },
  {
   "cell_type": "code",
   "execution_count": 5,
   "id": "72926fd2-c891-49ab-aea2-bc4a1ba7c19c",
   "metadata": {},
   "outputs": [
    {
     "data": {
      "text/html": [
       "<div>\n",
       "<style scoped>\n",
       "    .dataframe tbody tr th:only-of-type {\n",
       "        vertical-align: middle;\n",
       "    }\n",
       "\n",
       "    .dataframe tbody tr th {\n",
       "        vertical-align: top;\n",
       "    }\n",
       "\n",
       "    .dataframe thead th {\n",
       "        text-align: right;\n",
       "    }\n",
       "</style>\n",
       "<table border=\"1\" class=\"dataframe\">\n",
       "  <thead>\n",
       "    <tr style=\"text-align: right;\">\n",
       "      <th></th>\n",
       "      <th>kakao</th>\n",
       "      <th>naver</th>\n",
       "      <th>samsung</th>\n",
       "    </tr>\n",
       "    <tr>\n",
       "      <th>날짜</th>\n",
       "      <th></th>\n",
       "      <th></th>\n",
       "      <th></th>\n",
       "    </tr>\n",
       "  </thead>\n",
       "  <tbody>\n",
       "    <tr>\n",
       "      <th>2016-01-04</th>\n",
       "      <td>23142</td>\n",
       "      <td>126579</td>\n",
       "      <td>24100</td>\n",
       "    </tr>\n",
       "    <tr>\n",
       "      <th>2016-01-05</th>\n",
       "      <td>23503</td>\n",
       "      <td>127580</td>\n",
       "      <td>24160</td>\n",
       "    </tr>\n",
       "    <tr>\n",
       "      <th>2016-01-06</th>\n",
       "      <td>23905</td>\n",
       "      <td>124776</td>\n",
       "      <td>23500</td>\n",
       "    </tr>\n",
       "    <tr>\n",
       "      <th>2016-01-07</th>\n",
       "      <td>23544</td>\n",
       "      <td>130585</td>\n",
       "      <td>23260</td>\n",
       "    </tr>\n",
       "    <tr>\n",
       "      <th>2016-01-08</th>\n",
       "      <td>23122</td>\n",
       "      <td>130585</td>\n",
       "      <td>23420</td>\n",
       "    </tr>\n",
       "  </tbody>\n",
       "</table>\n",
       "</div>"
      ],
      "text/plain": [
       "            kakao   naver  samsung\n",
       "날짜                                \n",
       "2016-01-04  23142  126579    24100\n",
       "2016-01-05  23503  127580    24160\n",
       "2016-01-06  23905  124776    23500\n",
       "2016-01-07  23544  130585    23260\n",
       "2016-01-08  23122  130585    23420"
      ]
     },
     "execution_count": 5,
     "metadata": {},
     "output_type": "execute_result"
    }
   ],
   "source": [
    "sdate = '2016-01-01'\n",
    "edate = '2020-06-30'\n",
    "ticker_list = [('kakao','035720'), ('naver','035420'), ('samsung','005930')]\n",
    "df_list = []\n",
    "df = pd.DataFrame()\n",
    "for ticker in ticker_list:\n",
    "    df[f\"{ticker[0]}\"] = stock.get_market_ohlcv(sdate, edate , ticker[1])[['종가']]\n",
    "    df_list.append(df)\n",
    "df = pd.concat(df_list)\n",
    "df.head()"
   ]
  },
  {
   "cell_type": "code",
   "execution_count": 15,
   "id": "cbf7442d-2679-49da-8b24-114bf1f53062",
   "metadata": {},
   "outputs": [
    {
     "name": "stdout",
     "output_type": "stream",
     "text": [
      "[array([0.31540279, 0.18499616, 0.49960104]), array([0.2176131 , 0.37417687, 0.40821003]), array([0.5029541 , 0.23421296, 0.26283294])] (3, 3)\n",
      "[0.1455987026145563, 0.1446024311741613, 0.15237087269578878] (3,)\n",
      "[0.3110976153893965, 0.31063882926766, 0.3280692230841619] (3,)\n",
      "[0.4680161319536713, 0.46550018075675115, 0.4644473238402494] (3,)\n"
     ]
    }
   ],
   "source": [
    "dret = df.pct_change().mean()                  #일별 변동률\n",
    "aret = df.pct_change().mean().dropna() *252    #년간 변동률\n",
    "dcov = df.pct_change().cov()                   #일분산\n",
    "acov = df.pct_change().cov() * 252             #년분산\n",
    "\n",
    "weights_list = []\n",
    "ret_list     = []\n",
    "risk_list    = []\n",
    "sharp_list   = []\n",
    "for i in range(3):\n",
    "    w = np.random.rand(df.shape[1])  #포트에 편성할 종목 갯수 3개\n",
    "    w = w / np.sum(w)\n",
    "    weights_list.append(w)\n",
    "    \n",
    "    # 가중평균 수익률 (p1w1 + p2w2 ... pnwn) --> np.dot(p, wT) \n",
    "    ret = np.dot(aret, w)\n",
    "    # [ 2.73729527, -0.72693649,  1.11944139, ...,  1.10893588,\n",
    "    ret_list.append(ret)\n",
    "    \n",
    "    #risk(편차) =  np.sqrt(W.cov.WT)\n",
    "    risk = np.sqrt(np.dot(w.T, np.dot(acov, w)))\n",
    "    risk_list.append(risk)\n",
    "    \n",
    "    # 샤프 : (수익률-무위험수익률)/표준편차(리스크)\n",
    "    sharp_list.append(ret / risk)  #\n",
    "    \n",
    "print(weights_list, np.array(weights_list).shape)\n",
    "print(ret_list, np.array(ret_list).shape)\n",
    "print(risk_list, np.array(risk_list).shape)\n",
    "print(sharp_list, np.array(sharp_list).shape)"
   ]
  },
  {
   "cell_type": "code",
   "execution_count": null,
   "id": "5e067869-c699-4638-b745-a5da64e17b97",
   "metadata": {},
   "outputs": [],
   "source": [
    "\"ret\",\"risk\",\"sharp\",\n",
    "port_df = pd.DataFrame()\n"
   ]
  }
 ],
 "metadata": {
  "kernelspec": {
   "display_name": "Python 3 (ipykernel)",
   "language": "python",
   "name": "python3"
  },
  "language_info": {
   "codemirror_mode": {
    "name": "ipython",
    "version": 3
   },
   "file_extension": ".py",
   "mimetype": "text/x-python",
   "name": "python",
   "nbconvert_exporter": "python",
   "pygments_lexer": "ipython3",
   "version": "3.8.8"
  }
 },
 "nbformat": 4,
 "nbformat_minor": 5
}


def my_getdata(ticker='005930', sdate = '2016-01-01', edate = '2020-06-30'):
    return stock.get_market_ohlcv(sdate, edate , ticker)['종가']

df_list = []
df = pd.DataFrame()

ticker_list = [('kakao','035720'), ('naver','035420'), ('samsung','005930')]
for ticker in ticker_list:
    s = my_getdata(ticker[1])
    df[f"{ticker[0]}"] = s
print(df.shape)
df.index.value_counts()
