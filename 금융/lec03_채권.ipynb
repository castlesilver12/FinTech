{
 "cells": [
  {
   "cell_type": "markdown",
   "id": "ab907e89-e7ce-4df5-abe8-8aa31e5eaabb",
   "metadata": {},
   "source": [
    "<font size=6><b>Lec04.채권(bond)\n",
    "\n",
    "* <font color=red> 금융투자협회 채권정보센터 : https://www.kofiabond.or.kr/</font>\n",
    "* <font color=red> 한국은행 : https://www.bok.or.kr/portal/bbs/B0000217/view.do?nttId=10054547&menuNo=200144&listType=G&pageIndex=5 </font>\n",
    "* KB증권 : https://www.kbsec.com/go.able?linkcd=m01060000\n",
    "* 삼성증권 : https://www.samsungpop.com/ \n",
    "* NH투자증권(채권체험) : https://m.nhqv.com/guide/MNHSI0075#    \n",
    "* 푸르덴셜 : https://www.prudential.co.kr/plan-your-story/content/financial-life/Financial-Life-052.aspx    \n",
    "* 필델리티 : https://www.fidelity.co.kr/insight-and-learning/bond-investing-made-simple/yield-curve\n",
    "    "
   ]
  },
  {
   "cell_type": "markdown",
   "id": "63bfb45f-b04b-4c17-95ad-fbd4af4d68b2",
   "metadata": {
    "tags": []
   },
   "source": [
    "# 채권(bonds)\n",
    "* 발행자가 자금을 조달하기 위해 발행한 증권으로서\n",
    "* 일정한 이자(C)를 지급함과 동시에 일정기간 후에는 약속한 금액(액면금액)을 상환하기로 약속한 증서\n",
    "* 발행주체 : 국고채(정부), 지방채(지방정부), 통안채(한은), 공사채(공사), 금융채(혹은 은행채, 금융기관), 카드캐피탈채(여신전문회사), 회사채로 구분"
   ]
  },
  {
   "cell_type": "markdown",
   "id": "354bc901-74a0-4999-92b1-484e029d5e68",
   "metadata": {
    "jp-MarkdownHeadingCollapsed": true,
    "tags": []
   },
   "source": [
    "## 기초 용어\n",
    "* 금리인상효과는 변수가 다양하기 때문에 정답이 없다. \n",
    "* <font color=red><b>기준금리와 주가 등의 상관관계는 상황에 따라 다르다. '금리인상=주가하락, 경기둔화'의 이론적인 공식을 버려라~!!!!</b></font><br><br>\n",
    "* 기초자산 : 파생상품 대상이 되는 상픔(주식,채권,외환,유가상품 등)\n",
    "* 변동성 : 기초자산의 가격이 변하는 정도\n",
    "* 레버리지 : 지렛대라는 의미, 적은 투자 금액으로 수익률 극대화\n",
    "\t*  예) 100만 레버리지 2.5배 250만 수익<br><br>\n",
    "* BP(Basis Point) : 0.01% (100bp==1%)\n",
    "    * 예) 액면이자율(10%) 채권가 하락 --> 실질수익률(10.5%)  --> 액면이자율보다 50베이시스 포인트 높아졌다\n",
    "* PVBP(Present Value Basis Point) : 금리 1bp(0.01%) 변동시 변하는 자산의 가치<br><br>\n",
    "* 스프레드 : 상품간 가격(금리)차이\n",
    "* 스왑(swap) : 서로 다른 금리나 통화들을 교환하는 거래\n",
    "    * 대표적 파생상품 : 선물, 옵션, 스왑\n",
    "* 차익거래: 시장가격과 이론가격의 차이나 일시적인 이벤트로 발생하는 가격의 왜곡을 이용해 저평가시 매수 고평가시 패도 하는 거래 방식    \n",
    "* 경제활성지표: GDP성장률>GDP갭  \n",
    "* NIM(Net Interest Margin) :금융기관의 수익성을 나타내는 지표(순이자 마진)\n",
    "    * 은행등 금융기관이 자산을 운용해 낸 수익에서 조달비용을 뺀 나머지를 운용자산 총액으로 나눈 수치\n",
    "* RBC(Risk Based Capital) : 위험기준자기자본\n",
    "    * 보험회사의 자본적정성 지표인 지급여력비율을 산정할 대 적용 \n",
    "    * 보험회사가 보유하고 있는 총조정자본과 총필요자본액 간 비율"
   ]
  },
  {
   "cell_type": "markdown",
   "id": "3842958c-8012-48a9-b1f3-53fc36f57628",
   "metadata": {},
   "source": [
    "## 장내/장외 채권\n",
    "* 장내채권 : 한국거래소에 상장된 채권\n",
    "* 장외채권 : 특정 증권사만 판매하는 채권(기업이 발행한 채권을 증권사가 매입하고 수수료를 붙여 고객에게 되파는 방식)\n",
    "* 높은 기대수익률과 정기적인 현금흐름을 앞세워 투자 대안으로 떠오른 신종자본증권이 대표적\n",
    "* 만기 보유,  만기일 이전에 채권을 사고파는 '트레이딩' 방식\n",
    "    * 만기수익률(YTM)을 활용해 액면가와 채권 가격이 다를 때의 수익률을 측정해 유리할 때 매매\n",
    "* 저쿠폰 국채 \n",
    "    * 금융소득종합과세 대상\n",
    "    * 액면가보다 시장 가격이 낮은 채권 \n",
    "    "
   ]
  },
  {
   "cell_type": "markdown",
   "id": "9959df8f-0adb-494b-9539-ad9988e9d694",
   "metadata": {},
   "source": [
    "## 국채금리에 내포된 성장 가능성\n",
    "* 30년 국채금리가 1.5% 대에서 거래되고 있다\n",
    "    * 향후 30년동안 한 단위의 자본을 투입해서 얻을 수 있는 기대수익률이 평균적으로 1.5%에 불과하다는 의미\n",
    "    * 향후 물가상승률을 1%로만 가정하더라도 명목 국고채 금리가 1.5%라면 향후 30년간 실질성장률은 0.5%에 불과하다는 결론\n",
    "    *  즉 한국경제의 미래가 어둡다는 것이다."
   ]
  },
  {
   "cell_type": "markdown",
   "id": "fbb3ff12-8da9-4cce-9193-c9faeb8dc5f8",
   "metadata": {},
   "source": [
    "## 금리 스프레드\n",
    "* 장단기 스프레드 : ('국고채3년 - 기준금리 스프레드') 또는 ('국고채 10년 - 국고채 3년') 일반적\n"
   ]
  },
  {
   "cell_type": "markdown",
   "id": "e0a9f800-66ec-461d-a4d5-4b6bbdc0e8b1",
   "metadata": {},
   "source": [
    "<img width=500 src= \"https://mblogthumb-phinf.pstatic.net/MjAxNzA3MDVfMTM3/MDAxNDk5MjQ2MTYwNjI1.b_WSYS2oT02Q1Lcmkl2fho-6ptfbGazdLRfXdiqjJAYg.oMP4vkM6EENYVulaV0bUPKWrZ1hzHiWW5oMXBriH_P0g.JPEG.yngsklee/%EA%BE%B8%EB%AF%B8%EA%B8%B0_3%EC%9D%B4%EB%AF%B8%EC%A7%80_%28251%29.jpg?type=w2\">"
   ]
  },
  {
   "cell_type": "markdown",
   "id": "4f1e40b3-75f1-491f-b86a-adbfdc2659a6",
   "metadata": {
    "toc-hr-collapsed": true
   },
   "source": [
    "## 장단기 금리차 역전\n",
    "* 기준금리와 스프레드 (장단기 스프레드, 신용스프레드)가 미래의 경제상황을 말해준다. \n",
    "* ref : https://m.blog.naver.com/yngsklee/221044770075<br><br>\n",
    "* 수급적으로 장기채 공급은 부족한 반면, 수요 측면에서는 보험사와 연기금 등의 장기물 수요가 초과 상태인 것이 영향<br>\n",
    "* 수익률 곡선의 기울기를 비교해보면 미국은 기준금리가 0.25%~0.5%로 한국의 1.25%보다 크게 낮은 반면에 국고채 30년 금리는 2.3%대로 한국의 30년 금리 1.5%대보다는 매우 높다<br><br>\n",
    "* \n",
    "* 장단기 금리차가 축소되고 (flattening이라고 한다, 반대는 stiffening) 역전된다면 주의\n",
    "* 기준금리가 고점에서 1년정도 지속되면 그 때가 진짜 고점\n",
    "* <img width=500 src=\"https://mblogthumb-phinf.pstatic.net/MjAxNzA3MDVfMjU0/MDAxNDk5MjQ0OTMwODIw.4ojoAb1x9rbn1dP2Ipa_4_-wsjhCMnhZacu2PBL8V-gg.iYSxEcik0Q8Fosrf135Zef0nj6MNlUK7QJkFaMzZynQg.JPEG.yngsklee/%EA%BE%B8%EB%AF%B8%EA%B8%B0_3%EC%9D%B4%EB%AF%B8%EC%A7%80_%28250%29.jpg?type=w2\">\n",
    "\n",
    "\n"
   ]
  },
  {
   "cell_type": "markdown",
   "id": "67fab23f-0aea-4cb9-a371-a7dea198a674",
   "metadata": {},
   "source": [
    "* 기준금리 인하 가능성을 보여주는 스프레드\n",
    "    * 과거 국고채 3년 금리가 기준금리보다 밑돌게 되면 시차를 두고 기준금리 인하     "
   ]
  },
  {
   "cell_type": "markdown",
   "id": "6a09e391-d85c-4a6a-8896-929f0f5f3356",
   "metadata": {},
   "source": [
    "##  Relative Value(상대가치 전략)\n",
    "* 두개의 연관된 자산간 스프레드가 늘어나고 줄어드는 것을 활용한 전략\n",
    "* 주로 채권가격의 괴리를 많이 활용 "
   ]
  },
  {
   "cell_type": "markdown",
   "id": "119e858c-fc3f-43c9-a983-4f23336f756a",
   "metadata": {},
   "source": [
    "## 마이너스금리 채권 수요가 존재하는 이유"
   ]
  },
  {
   "cell_type": "markdown",
   "id": "89832a1c-2e5b-4b3b-a7ee-082aae7e5d0d",
   "metadata": {},
   "source": [
    "* 마이너스 금리의 폭이 커지면, 즉 마이너스 금리가 더 내려가면 채권 투자 자본 이익을 낼 수 있다.\n",
    "* 환차익(외국인 입장에서는 마이너스 금리 채권이라고 하더라도 통화가치가 상승할 경우 이익을 낼 수 있다.)\n",
    "* 담보 및 규제로 인해 마이너스 금리라도 국채를 의무적으로 보유해야 한다. (자산배분 관점에서 일부는 기본적으로 채권자산을 편입)\n",
    "    * 예) 보험사와 연기금 등 장기투자기관의  경우 각종 유동성 비율을 맞추고 자산-부채 관리(ALM, Asset-Liability Management)를 위해서는 환금성이 좋고 투자만기가 긴 국채를 우선적으로 보유\n",
    "* 디플레이션이 발생하면 마이너스 금리도 실질금리로는 플러스다\n",
    "\n",
    "* 코코본드 (CoCo Bond: Contingent Convertible Bond)\n",
    "    * 유사시 투자 원금이 주식으로 강제 전환되거나 상각된다는 조건이 붙은 채권\n",
    "    "
   ]
  },
  {
   "cell_type": "markdown",
   "id": "1624b48d-2098-480c-a5a4-58d6e9332f4f",
   "metadata": {},
   "source": [
    "# 최근 주요 이슈\n",
    "* 기준금리인상\n",
    "* 미국 10년2년 금리역전\n",
    "* 마이너스금리 \n",
    "* 해외 채권 공급 증가"
   ]
  },
  {
   "cell_type": "markdown",
   "id": "2ff3c1f5-337f-4875-a1f7-4bb9ebbf4582",
   "metadata": {},
   "source": [
    "## [NEWS] 급격한 금리인상에 국고채 ETF도 '흔들'\n",
    "* ref : https://m.blog.naver.com/yngsklee/222702638075\n",
    "* ref : https://www.mbn.co.kr/news/stock/4739999"
   ]
  },
  {
   "cell_type": "markdown",
   "id": "7579c240-c196-40f5-8ee8-1b60e5e99a61",
   "metadata": {},
   "source": [
    "<img src=\"https://img.mbn.co.kr/filewww/news/other/2022/04/14/402120422622.jpg\">"
   ]
  },
  {
   "cell_type": "markdown",
   "id": "551394bd-b4d1-4644-88c2-5f769d48600a",
   "metadata": {},
   "source": [
    "* <font color=red><b>통상 채권 가격과 금리는 서로 반대 방향으로 움직인다. 금리가 하락하면 채권 가격이 오르는 구조 </b></font>\n",
    "* <font color=red><b>지난해부터 채권 보유량을 줄이고, 채권 듀레이션(기간)을 짧게 가져가는 등 채권 가격 하락에 대비 </b></font><br><br>\n",
    "* 국고채 ETF는 3종의 국고채에 나눠서 투자하고 정기적으로 리밸런싱(자산조정)이 이뤄진다. \n",
    "    * 예) 가령 코덱스(KODEX) 국고채3년 ETF의 경우 만기일이 2024년 6월, 2024년 12월, 2026년 9월인 국고채를 3분의 1씩 담고 있다. \n",
    "* 대표적 안전자산으로 여겼던 국고채권을 담은 상장지수펀드(ETF)가 요동치고 있다. <br><br>\n",
    "* 최근 금리가 가파르게 상승하며 채권 가격이 꾸준히 하락세를 보이고 있기 때문이다. \n",
    "    *  안정적인 수익을 기대하고 자금을 넣는 채권형 상품이 주식형 못지않게 큰 변동성을 보인 것\n",
    "    *  30년물 ETF가 3년물 ETF보다 하락폭이 크다\n",
    "    *  \"금리 상승폭이 작았음에도 듀레이션이 길면 금리가 상승할 때 채권 가격 하락폭이 상대적으로 더 크다\"\n",
    "    * 기준금리 인상시기 : 듀레이션이 짧은 단기채나 통안채\n",
    "    * 기준금리 인하시기 : 장기채권<br><br>\n",
    "* 특히 지수를 2배로 추종하는 레버리지형 국고채 ETF의 경우 올 들어 20% 가까이 떨어졌다.\n",
    "* 예) KBSTAR KIS국고채30년Enhanced ETF : 채권형상품 + 변동성(레버리지효과)\n",
    "    * \"고수익률을 원하면서 위험 친화적이고 채권형 상품에 투자를 원하는 이들에게 적합한 상품\"\n",
    "* 물가 상승 우려가 높아지고 있는 만큼 국채 금리 상승 가능성을 높게 점치고 있다. "
   ]
  },
  {
   "cell_type": "markdown",
   "id": "09e37ff2-5768-41a4-95c6-79bb4a2e8240",
   "metadata": {
    "tags": []
   },
   "source": [
    "-----\n",
    "## [NEWS] 금리 상승에 채권 곱버스 고공행진\n",
    "* https://www.mk.co.kr/news/stock/view/2022/06/562355/\n",
    "* 주식시장 변동성에 지친 투자자들의 관심이 채권형 상장지수펀드(ETF)로 모이는 가운데 올해 들어 장기국채인버스 ETF가 36%의 수익 달성<br><br>\n",
    "* 'KBSTAR미국장기국채선물인버스2X ETF' : 국내 64개 채권형 ETF 가운데 올해 수익률이 가장 높았던 상품(35.65% 수익률)\n",
    "    * 미국 시카고상품거래소 상장 미국채 선물의 일간 변동률을 역으로 2배 추종<br><br>\n",
    "* KODEX미국채울트라30년선물인버스ETF (26% 수익률)\n",
    "    * 미국채 30년 장기물을 역으로 추종<br><br>\n",
    "* 키움 `KOSEF 물가채KIS (1.11% 수익률), 물가채 평가 지표인 기대인플레이션(BEI) \n",
    "    * 물가채 ETF \n",
    "    * 국내 물가연동국채(소비자물가지수(CPI)에 연동된 만기 10년물 국채)에 투자하는 첫 ETF\n",
    "    * 이자율은 그대로지만 물가 상승률이 원금에 반영되는 구조\n",
    "    * 예) 약정이율이 1.0%인 물가연동국채를 100만원 보유할 경우 물가 상승률이 5%면 원금이 105만원으로 불어나는 것\n",
    "    * 물가채의 BEI(Break Even Inflation, 손익분기 인플레이션율) = 기대실제인플레이션 + 유동성프리미엄\n",
    "    \n",
    "    <br><br>\n",
    "* 최근 가파른 금리 상승으로 발행 채권의 가격이 하락해 저가 매수세가 유입되고 있다    \n",
    "* 신규 발행되는 채권의 이자율도 높은 수준으로 올라 채권 ETF 수요가 커지는 상황<br><br>\n",
    "* <font color=red>국채선물지수를 반대로 추종하는 상품의 수익률이 우수\n",
    "* <font color=red>채권 가격과 금리는 서로 반대로 움직여 금리가 하락하면 채권 가격이 오른다. \n",
    "* <font color=red>금리가 오르면 채권 가격이 하락하고 국고채 ETF 가격 역시 떨어진다. \n",
    "* <font color=red>금리 상승 시기에는 채권 가격의 역방향으로 투자하는 '인버스 상품'에 투자하면 높은 수익을 기대할 수 있다.  <br><br>\n",
    "* 운용사별로 채권형 ETF 시장, 2022.06기준    \n",
    "    KB자산운용(19종), 삼성자산운용(12종), 미래에셋자산운용(7종), 한국투자신탁운용(7종), 한화자산운용(6종), 키움투자자산운용(6종) "
   ]
  },
  {
   "cell_type": "markdown",
   "id": "1516435e-3fcc-494d-91b8-01fd98a6e9f7",
   "metadata": {},
   "source": [
    "<img src=\"https://file.mk.co.kr/meet/neds/2022/06/image_readtop_2022_520739_16552039775075411.jpg\">\n",
    "* ref : https://www.mk.co.kr/news/stock/view/2022/06/520739/"
   ]
  },
  {
   "cell_type": "markdown",
   "id": "085ea342-0324-401a-b3f9-f2bddb0bcdde",
   "metadata": {},
   "source": [
    "----\n",
    "## <font color=red><b>[NEWS] 한미 금리역전</b></font>\n",
    "* ref : https://www.mk.co.kr/news/stock/view/2022/07/579525/\n",
    "* 외화표시채권KP(Korea Paper): 한국 금융사나 대기업에서 외환조달을 위해 발행한 외화표시채권\n",
    "    * 최소 가입 금액이 20만달러(약 2억5700만원)\n",
    "    * 한미 금리역전되면 더 좋은 이 상품…6% 수익률까지\n",
    "    * 한미 기준금리 역전이 현실화되면 미국의 채권 금리가 국내보다 빠르게 상승하면서 가산금리가 붙게 된다. \n",
    "    * 거래 시점에 따라 향후 금리가 크게 상승하면 매매가격이 떨어져 손실을 볼 위험성이 있다"
   ]
  },
  {
   "cell_type": "markdown",
   "id": "a0ba1a00-ae58-4d36-99e6-729866186ac9",
   "metadata": {},
   "source": [
    "<font color=red><b> 한국과 미국의 금리 역전이 가능할 수 있는 이유  </b><font>\n",
    "* 펀드멘털. 2004년~2006년 한미간 금리역전 사례 (역전폭이 무려 1%)\n",
    "    * 대규모 무역수지 흑자를 통해 달러화가 국내에 꾸준히 유입되면서 원화가 계속 절상 압력\n",
    "    * 한국 금리가 미국보다는 낮더라도 원화가치가 계속해서 상승할 것으로 예상\n",
    "* 다른 대부분의 국가보다 상대적으로 저금리와 높은 신용도 \n",
    "    *  한국의국가 신용등급도 글로벌 3개사 평균이 AA급\n",
    "    * 외국인의 채권투자 만기 장기화는 원화채권에 대한 안정성이 높다는 사실을 입증\n",
    "    * <font color=red>2005년~2007년 중반까지 금리가 역전되어도 원화는 오히려 절상된 것을 알 수 있다\n",
    "    * <img src=\"https://mblogthumb-phinf.pstatic.net/MjAxNzA3MDVfMyAg/MDAxNDk5MjUyODk5OTQy.V1RYBx2SbkeMhtIDx_3wpHTSUKi5EkmXqLsAEhCffhAg.aDMKuiJPXn6BkQC1BysBm27G7cVlRByUxSuDoHZncJog.JPEG.yngsklee/%EA%BE%B8%EB%AF%B8%EA%B8%B0_3%EC%9D%B4%EB%AF%B8%EC%A7%80_%28252%29.jpg?type=w2\">"
   ]
  },
  {
   "cell_type": "markdown",
   "id": "cd048013-c01e-4f9e-8347-6bf2a4ee7538",
   "metadata": {},
   "source": [
    "## [NEWS] 태풍 만난 연금개미들…'달러채 ETF' 꽉 잡았다\n",
    "* ref : https://www.mk.co.kr/news/stock/view/2022/07/579523/\n",
    "* 연금계좌를 활용한 투자\n",
    "    * 달러채권(원·달러 환율 상승 효과) +  상장지수펀드ETF(금리 영향을 적게 받는 단기 채권)에 분산투자\n",
    "* 타이거(TIGER) 미국달러단기채권액티브 ETF(약 8% 수익률)\n",
    "    * 올해 들어 연금 투자자들이 가장 많이 매수한 상품  \n",
    "* 국고채 10년물·30년물 등 장기채 ETF \n",
    "    * 올해 금리 상승세가 이어지고 채권 가격이 하락하면서 마이너스 수익률을 기록  "
   ]
  },
  {
   "cell_type": "markdown",
   "id": "8998ddd9-56ec-43cb-8d1e-a5fa3f23a81e",
   "metadata": {},
   "source": [
    "<img src=\"https://file.mk.co.kr/meet/neds/2022/07/image_readmed_2022_579523_16566707645094244.jpg\">"
   ]
  }
 ],
 "metadata": {
  "kernelspec": {
   "display_name": "Python 3 (ipykernel)",
   "language": "python",
   "name": "python3"
  },
  "language_info": {
   "codemirror_mode": {
    "name": "ipython",
    "version": 3
   },
   "file_extension": ".py",
   "mimetype": "text/x-python",
   "name": "python",
   "nbconvert_exporter": "python",
   "pygments_lexer": "ipython3",
   "version": "3.8.8"
  }
 },
 "nbformat": 4,
 "nbformat_minor": 5
}
