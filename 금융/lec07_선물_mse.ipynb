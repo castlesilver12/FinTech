{
 "cells": [
  {
   "cell_type": "markdown",
   "id": "spatial-patrick",
   "metadata": {},
   "source": [
    "<font size=6><b>Lec07. 파생상품-선물(Future)\n",
    "* ref : KRX 아카데미,  http://academy.krx.co.kr/contents/ACA/02/02020200/ACA02020200.jsp\n",
    "* ref : 키움증권 ,     https://www.kiwoom.com/h/help/trade/VHelpFuopInfoView\n",
    "* ref : 금융공학레시피, http://www.kyobobook.co.kr/product/detailViewKor.laf?mallGb=KOR&ejkGb=KOR&barcode=9791162240823"
   ]
  },
  {
   "cell_type": "markdown",
   "id": "numerous-pillow",
   "metadata": {},
   "source": [
    "* <b>파생상품</b>\n",
    "   기초자산의 가치 변동에 따라 가격이 결정되는 금융상품\n",
    "* <b>선물거래</b>\n",
    "   기초자산을 미래의 일정 시점에 미리 정한 가격으로 인도, 인수할 것을 '약속'하는 거래 \n",
    "* <b>옵션거래</b>\n",
    "   미리 정한 가격으로 사거나 팔 수 있는 '권리'를 거래하는 것"
   ]
  },
  {
   "cell_type": "code",
   "execution_count": 1,
   "id": "radio-climb",
   "metadata": {},
   "outputs": [
    {
     "data": {
      "text/html": [
       "<style>.container{width:100% !important;}</style>"
      ],
      "text/plain": [
       "<IPython.core.display.HTML object>"
      ]
     },
     "metadata": {},
     "output_type": "display_data"
    }
   ],
   "source": [
    "import pandas as pd\n",
    "import numpy as np\n",
    "import matplotlib.pyplot as plt\n",
    "import seaborn as sns\n",
    "import os\n",
    "\n",
    "import warnings\n",
    "warnings.filterwarnings(action='ignore')\n",
    "\n",
    "#-------------------- 차트 관련 속성 (한글처리, 그리드) -----------\n",
    "#plt.rc('font', family='NanumGothicOTF') # For MacOS\n",
    "plt.rcParams['font.family']= 'Malgun Gothic'\n",
    "plt.rcParams['axes.unicode_minus'] = False\n",
    "sns.set()\n",
    "\n",
    "#-------------------- 주피터 , 출력결과 넓이 늘리기 ---------------\n",
    "from IPython.core.display import display, HTML\n",
    "display(HTML(\"<style>.container{width:100% !important;}</style>\"))\n",
    "pd.set_option('display.max_rows', 100)\n",
    "pd.set_option('display.max_columns', 100)\n",
    "pd.set_option('max_colwidth', None)\n"
   ]
  },
  {
   "cell_type": "markdown",
   "id": "listed-louisville",
   "metadata": {},
   "source": [
    "# Data Load"
   ]
  },
  {
   "cell_type": "code",
   "execution_count": 2,
   "id": "improved-print",
   "metadata": {},
   "outputs": [
    {
     "data": {
      "text/html": [
       "<div>\n",
       "<style scoped>\n",
       "    .dataframe tbody tr th:only-of-type {\n",
       "        vertical-align: middle;\n",
       "    }\n",
       "\n",
       "    .dataframe tbody tr th {\n",
       "        vertical-align: top;\n",
       "    }\n",
       "\n",
       "    .dataframe thead th {\n",
       "        text-align: right;\n",
       "    }\n",
       "</style>\n",
       "<table border=\"1\" class=\"dataframe\">\n",
       "  <thead>\n",
       "    <tr style=\"text-align: right;\">\n",
       "      <th></th>\n",
       "      <th>일자</th>\n",
       "      <th>지수</th>\n",
       "      <th>선물이론가(1분기)</th>\n",
       "      <th>선물이론가(2분기)</th>\n",
       "    </tr>\n",
       "  </thead>\n",
       "  <tbody>\n",
       "    <tr>\n",
       "      <th>0</th>\n",
       "      <td>1</td>\n",
       "      <td>100.000000</td>\n",
       "      <td>100.184694</td>\n",
       "      <td>100.372717</td>\n",
       "    </tr>\n",
       "    <tr>\n",
       "      <th>1</th>\n",
       "      <td>2</td>\n",
       "      <td>100.060680</td>\n",
       "      <td>100.242502</td>\n",
       "      <td>100.430633</td>\n",
       "    </tr>\n",
       "    <tr>\n",
       "      <th>2</th>\n",
       "      <td>3</td>\n",
       "      <td>100.235372</td>\n",
       "      <td>100.414524</td>\n",
       "      <td>100.602977</td>\n",
       "    </tr>\n",
       "    <tr>\n",
       "      <th>3</th>\n",
       "      <td>4</td>\n",
       "      <td>99.724548</td>\n",
       "      <td>99.899813</td>\n",
       "      <td>100.087301</td>\n",
       "    </tr>\n",
       "    <tr>\n",
       "      <th>4</th>\n",
       "      <td>5</td>\n",
       "      <td>98.970884</td>\n",
       "      <td>99.141874</td>\n",
       "      <td>99.327939</td>\n",
       "    </tr>\n",
       "  </tbody>\n",
       "</table>\n",
       "</div>"
      ],
      "text/plain": [
       "   일자          지수  선물이론가(1분기)  선물이론가(2분기)\n",
       "0   1  100.000000  100.184694  100.372717\n",
       "1   2  100.060680  100.242502  100.430633\n",
       "2   3  100.235372  100.414524  100.602977\n",
       "3   4   99.724548   99.899813  100.087301\n",
       "4   5   98.970884   99.141874   99.327939"
      ]
     },
     "execution_count": 2,
     "metadata": {},
     "output_type": "execute_result"
    }
   ],
   "source": [
    "df = pd.read_excel(\"./dataset/lec07_future/선물이론가산출1.xlsx\", '선물', usecols=['일자','지수','선물이론가(1분기)','선물이론가(2분기)'])\n",
    "df.head()"
   ]
  },
  {
   "cell_type": "markdown",
   "id": "personal-travel",
   "metadata": {},
   "source": [
    "# 선물이론가 \n",
    "* 이론가 = 현물가 + 순보유비용(만기 까지의 이자비,보관비 등)\n",
    "* 𝑭 =𝑺𝒆^(𝒓−𝒅)𝒕   "
   ]
  },
  {
   "cell_type": "code",
   "execution_count": 3,
   "id": "alternate-dodge",
   "metadata": {},
   "outputs": [],
   "source": [
    "만기_1분기 = 63\n",
    "만기_2분기 = 126"
   ]
  },
  {
   "cell_type": "code",
   "execution_count": 4,
   "id": "straight-emergency",
   "metadata": {},
   "outputs": [],
   "source": [
    "# def my_feture_price(df, 만기일자, 이자율=2.25, 배당률=1.50) :\n",
    "#     잔존만기 = (만기_1분기 - df['일자'])/252\n",
    "#     선물이론가 = 현물가 * np.exp((이자율-배당률) * 잔존만기)\n",
    "#     return 선물이론가\n",
    "\n",
    "def my_feture_price(df, 만일일자,  r=0.0225, d=0.0150) :\n",
    "    t = (만일일자 - df['일자'])/252\n",
    "    S = df['지수']\n",
    "    price = S * np.exp((r-d) * t)\n",
    "    return price"
   ]
  },
  {
   "cell_type": "code",
   "execution_count": 5,
   "id": "stupid-yorkshire",
   "metadata": {},
   "outputs": [
    {
     "data": {
      "text/html": [
       "<div>\n",
       "<style scoped>\n",
       "    .dataframe tbody tr th:only-of-type {\n",
       "        vertical-align: middle;\n",
       "    }\n",
       "\n",
       "    .dataframe tbody tr th {\n",
       "        vertical-align: top;\n",
       "    }\n",
       "\n",
       "    .dataframe thead th {\n",
       "        text-align: right;\n",
       "    }\n",
       "</style>\n",
       "<table border=\"1\" class=\"dataframe\">\n",
       "  <thead>\n",
       "    <tr style=\"text-align: right;\">\n",
       "      <th></th>\n",
       "      <th>일자</th>\n",
       "      <th>지수</th>\n",
       "      <th>선물이론가(1분기)</th>\n",
       "      <th>선물이론가(2분기)</th>\n",
       "      <th>이론가1</th>\n",
       "      <th>이론가2</th>\n",
       "    </tr>\n",
       "  </thead>\n",
       "  <tbody>\n",
       "    <tr>\n",
       "      <th>0</th>\n",
       "      <td>1</td>\n",
       "      <td>100.000000</td>\n",
       "      <td>100.184694</td>\n",
       "      <td>100.372717</td>\n",
       "      <td>100.154882</td>\n",
       "      <td>100.372717</td>\n",
       "    </tr>\n",
       "    <tr>\n",
       "      <th>1</th>\n",
       "      <td>2</td>\n",
       "      <td>100.060680</td>\n",
       "      <td>100.242502</td>\n",
       "      <td>100.430633</td>\n",
       "      <td>100.212673</td>\n",
       "      <td>100.430633</td>\n",
       "    </tr>\n",
       "    <tr>\n",
       "      <th>2</th>\n",
       "      <td>3</td>\n",
       "      <td>100.235372</td>\n",
       "      <td>100.414524</td>\n",
       "      <td>100.602977</td>\n",
       "      <td>100.384643</td>\n",
       "      <td>100.602977</td>\n",
       "    </tr>\n",
       "    <tr>\n",
       "      <th>3</th>\n",
       "      <td>4</td>\n",
       "      <td>99.724548</td>\n",
       "      <td>99.899813</td>\n",
       "      <td>100.087301</td>\n",
       "      <td>99.870086</td>\n",
       "      <td>100.087301</td>\n",
       "    </tr>\n",
       "    <tr>\n",
       "      <th>4</th>\n",
       "      <td>5</td>\n",
       "      <td>98.970884</td>\n",
       "      <td>99.141874</td>\n",
       "      <td>99.327939</td>\n",
       "      <td>99.112372</td>\n",
       "      <td>99.327939</td>\n",
       "    </tr>\n",
       "  </tbody>\n",
       "</table>\n",
       "</div>"
      ],
      "text/plain": [
       "   일자          지수  선물이론가(1분기)  선물이론가(2분기)        이론가1        이론가2\n",
       "0   1  100.000000  100.184694  100.372717  100.154882  100.372717\n",
       "1   2  100.060680  100.242502  100.430633  100.212673  100.430633\n",
       "2   3  100.235372  100.414524  100.602977  100.384643  100.602977\n",
       "3   4   99.724548   99.899813  100.087301   99.870086  100.087301\n",
       "4   5   98.970884   99.141874   99.327939   99.112372   99.327939"
      ]
     },
     "execution_count": 5,
     "metadata": {},
     "output_type": "execute_result"
    }
   ],
   "source": [
    "df['이론가1'] = df.apply(lambda x : my_feture_price(x, 53), axis=1)\n",
    "df['이론가2'] = df.apply(lambda x : my_feture_price(x, 126), axis=1)\n",
    "df.head()"
   ]
  },
  {
   "cell_type": "code",
   "execution_count": null,
   "id": "dense-compilation",
   "metadata": {},
   "outputs": [],
   "source": []
  },
  {
   "cell_type": "markdown",
   "id": "personalized-italian",
   "metadata": {},
   "source": [
    "# [미션] WTI 유가 선문옵션 만기에 따른 수익률 비교"
   ]
  },
  {
   "cell_type": "markdown",
   "id": "classical-tiger",
   "metadata": {},
   "source": [
    "## Data Load"
   ]
  },
  {
   "cell_type": "code",
   "execution_count": 6,
   "id": "ranking-quest",
   "metadata": {},
   "outputs": [],
   "source": [
    "df1 = pd.read_excel(\"./dataset/lec07_future/WTI.xlsx\", 'Spot'  , index_col='Date')\n",
    "df2 = pd.read_excel(\"./dataset/lec07_future/WTI.xlsx\", 'Front' , index_col='Date')\n",
    "df3 = pd.read_excel(\"./dataset/lec07_future/WTI.xlsx\", 'Second', index_col='Date')\n",
    "df4 = pd.read_excel(\"./dataset/lec07_future/WTI.xlsx\", 'Expiry', usecols=['Last Trade'])"
   ]
  },
  {
   "cell_type": "code",
   "execution_count": 7,
   "id": "another-albany",
   "metadata": {},
   "outputs": [
    {
     "data": {
      "text/html": [
       "<div>\n",
       "<style scoped>\n",
       "    .dataframe tbody tr th:only-of-type {\n",
       "        vertical-align: middle;\n",
       "    }\n",
       "\n",
       "    .dataframe tbody tr th {\n",
       "        vertical-align: top;\n",
       "    }\n",
       "\n",
       "    .dataframe thead th {\n",
       "        text-align: right;\n",
       "    }\n",
       "</style>\n",
       "<table border=\"1\" class=\"dataframe\">\n",
       "  <thead>\n",
       "    <tr style=\"text-align: right;\">\n",
       "      <th></th>\n",
       "      <th>Spot</th>\n",
       "      <th>Front</th>\n",
       "      <th>Second</th>\n",
       "    </tr>\n",
       "    <tr>\n",
       "      <th>Date</th>\n",
       "      <th></th>\n",
       "      <th></th>\n",
       "      <th></th>\n",
       "    </tr>\n",
       "  </thead>\n",
       "  <tbody>\n",
       "    <tr>\n",
       "      <th>2017-12-28</th>\n",
       "      <td>59.84</td>\n",
       "      <td>59.84</td>\n",
       "      <td>59.87</td>\n",
       "    </tr>\n",
       "    <tr>\n",
       "      <th>2017-12-27</th>\n",
       "      <td>59.64</td>\n",
       "      <td>59.64</td>\n",
       "      <td>59.69</td>\n",
       "    </tr>\n",
       "    <tr>\n",
       "      <th>2017-12-26</th>\n",
       "      <td>59.97</td>\n",
       "      <td>59.97</td>\n",
       "      <td>60.00</td>\n",
       "    </tr>\n",
       "    <tr>\n",
       "      <th>2017-12-22</th>\n",
       "      <td>58.42</td>\n",
       "      <td>58.47</td>\n",
       "      <td>58.54</td>\n",
       "    </tr>\n",
       "    <tr>\n",
       "      <th>2017-12-21</th>\n",
       "      <td>58.33</td>\n",
       "      <td>58.36</td>\n",
       "      <td>58.40</td>\n",
       "    </tr>\n",
       "  </tbody>\n",
       "</table>\n",
       "</div>"
      ],
      "text/plain": [
       "             Spot  Front  Second\n",
       "Date                            \n",
       "2017-12-28  59.84  59.84   59.87\n",
       "2017-12-27  59.64  59.64   59.69\n",
       "2017-12-26  59.97  59.97   60.00\n",
       "2017-12-22  58.42  58.47   58.54\n",
       "2017-12-21  58.33  58.36   58.40"
      ]
     },
     "execution_count": 7,
     "metadata": {},
     "output_type": "execute_result"
    }
   ],
   "source": [
    "df = pd.concat([df1, df2, df3], axis=1)\n",
    "df.head()"
   ]
  },
  {
   "cell_type": "code",
   "execution_count": 8,
   "id": "lonely-authentication",
   "metadata": {},
   "outputs": [
    {
     "data": {
      "text/plain": [
       "Spot      0\n",
       "Front     0\n",
       "Second    0\n",
       "dtype: int64"
      ]
     },
     "execution_count": 8,
     "metadata": {},
     "output_type": "execute_result"
    }
   ],
   "source": [
    "df.isna().sum()"
   ]
  },
  {
   "cell_type": "code",
   "execution_count": 9,
   "id": "headed-rouge",
   "metadata": {},
   "outputs": [
    {
     "data": {
      "text/html": [
       "<div>\n",
       "<style scoped>\n",
       "    .dataframe tbody tr th:only-of-type {\n",
       "        vertical-align: middle;\n",
       "    }\n",
       "\n",
       "    .dataframe tbody tr th {\n",
       "        vertical-align: top;\n",
       "    }\n",
       "\n",
       "    .dataframe thead th {\n",
       "        text-align: right;\n",
       "    }\n",
       "</style>\n",
       "<table border=\"1\" class=\"dataframe\">\n",
       "  <thead>\n",
       "    <tr style=\"text-align: right;\">\n",
       "      <th></th>\n",
       "      <th>Last Trade</th>\n",
       "    </tr>\n",
       "  </thead>\n",
       "  <tbody>\n",
       "    <tr>\n",
       "      <th>288</th>\n",
       "      <td>11/20/24</td>\n",
       "    </tr>\n",
       "    <tr>\n",
       "      <th>289</th>\n",
       "      <td>05/20/25</td>\n",
       "    </tr>\n",
       "    <tr>\n",
       "      <th>290</th>\n",
       "      <td>11/20/25</td>\n",
       "    </tr>\n",
       "    <tr>\n",
       "      <th>291</th>\n",
       "      <td>05/19/26</td>\n",
       "    </tr>\n",
       "    <tr>\n",
       "      <th>292</th>\n",
       "      <td>11/20/26</td>\n",
       "    </tr>\n",
       "  </tbody>\n",
       "</table>\n",
       "</div>"
      ],
      "text/plain": [
       "    Last Trade\n",
       "288   11/20/24\n",
       "289   05/20/25\n",
       "290   11/20/25\n",
       "291   05/19/26\n",
       "292   11/20/26"
      ]
     },
     "execution_count": 9,
     "metadata": {},
     "output_type": "execute_result"
    }
   ],
   "source": [
    "df4.tail()"
   ]
  },
  {
   "cell_type": "markdown",
   "id": "express-desperate",
   "metadata": {},
   "source": [
    "## 만기일여부 (1,0)"
   ]
  },
  {
   "cell_type": "code",
   "execution_count": 10,
   "id": "useful-triple",
   "metadata": {},
   "outputs": [
    {
     "data": {
      "text/plain": [
       "0   2000-01-20\n",
       "1   2000-02-22\n",
       "2   2000-03-21\n",
       "3   2000-04-19\n",
       "4   2000-05-22\n",
       "Name: Last Trade, dtype: datetime64[ns]"
      ]
     },
     "execution_count": 10,
     "metadata": {},
     "output_type": "execute_result"
    }
   ],
   "source": [
    "df44 = pd.to_datetime(df4['Last Trade'])\n",
    "df44.head()"
   ]
  },
  {
   "cell_type": "code",
   "execution_count": 11,
   "id": "every-thing",
   "metadata": {},
   "outputs": [
    {
     "data": {
      "text/html": [
       "<div>\n",
       "<style scoped>\n",
       "    .dataframe tbody tr th:only-of-type {\n",
       "        vertical-align: middle;\n",
       "    }\n",
       "\n",
       "    .dataframe tbody tr th {\n",
       "        vertical-align: top;\n",
       "    }\n",
       "\n",
       "    .dataframe thead th {\n",
       "        text-align: right;\n",
       "    }\n",
       "</style>\n",
       "<table border=\"1\" class=\"dataframe\">\n",
       "  <thead>\n",
       "    <tr style=\"text-align: right;\">\n",
       "      <th></th>\n",
       "      <th>Spot</th>\n",
       "      <th>Front</th>\n",
       "      <th>Second</th>\n",
       "    </tr>\n",
       "    <tr>\n",
       "      <th>Date</th>\n",
       "      <th></th>\n",
       "      <th></th>\n",
       "      <th></th>\n",
       "    </tr>\n",
       "  </thead>\n",
       "  <tbody>\n",
       "    <tr>\n",
       "      <th>2017-12-28</th>\n",
       "      <td>59.84</td>\n",
       "      <td>59.84</td>\n",
       "      <td>59.87</td>\n",
       "    </tr>\n",
       "    <tr>\n",
       "      <th>2017-12-27</th>\n",
       "      <td>59.64</td>\n",
       "      <td>59.64</td>\n",
       "      <td>59.69</td>\n",
       "    </tr>\n",
       "    <tr>\n",
       "      <th>2017-12-26</th>\n",
       "      <td>59.97</td>\n",
       "      <td>59.97</td>\n",
       "      <td>60.00</td>\n",
       "    </tr>\n",
       "    <tr>\n",
       "      <th>2017-12-22</th>\n",
       "      <td>58.42</td>\n",
       "      <td>58.47</td>\n",
       "      <td>58.54</td>\n",
       "    </tr>\n",
       "    <tr>\n",
       "      <th>2017-12-21</th>\n",
       "      <td>58.33</td>\n",
       "      <td>58.36</td>\n",
       "      <td>58.40</td>\n",
       "    </tr>\n",
       "  </tbody>\n",
       "</table>\n",
       "</div>"
      ],
      "text/plain": [
       "             Spot  Front  Second\n",
       "Date                            \n",
       "2017-12-28  59.84  59.84   59.87\n",
       "2017-12-27  59.64  59.64   59.69\n",
       "2017-12-26  59.97  59.97   60.00\n",
       "2017-12-22  58.42  58.47   58.54\n",
       "2017-12-21  58.33  58.36   58.40"
      ]
     },
     "execution_count": 11,
     "metadata": {},
     "output_type": "execute_result"
    }
   ],
   "source": [
    "df.head()"
   ]
  },
  {
   "cell_type": "code",
   "execution_count": 12,
   "id": "prescription-hollywood",
   "metadata": {},
   "outputs": [
    {
     "data": {
      "text/plain": [
       "(numpy.datetime64('2000-03-21T00:00:00.000000000'),\n",
       " DatetimeIndex(['2000-01-20', '2000-02-22'], dtype='datetime64[ns]', freq=None))"
      ]
     },
     "execution_count": 12,
     "metadata": {},
     "output_type": "execute_result"
    }
   ],
   "source": [
    "df44.values[2], pd.to_datetime(df44.values)[:2]"
   ]
  },
  {
   "cell_type": "code",
   "execution_count": 13,
   "id": "powerful-container",
   "metadata": {},
   "outputs": [],
   "source": [
    "df['Expiry'] = 0\n",
    "for idx in df.index:\n",
    "    if idx in pd.to_datetime(df44.values):\n",
    "        df.loc[idx,'Expiry'] = 1"
   ]
  },
  {
   "cell_type": "code",
   "execution_count": 14,
   "id": "federal-glucose",
   "metadata": {},
   "outputs": [
    {
     "data": {
      "text/plain": [
       "0    1918\n",
       "1      96\n",
       "Name: Expiry, dtype: int64"
      ]
     },
     "execution_count": 14,
     "metadata": {},
     "output_type": "execute_result"
    }
   ],
   "source": [
    "df['Expiry'].value_counts()"
   ]
  },
  {
   "cell_type": "code",
   "execution_count": 15,
   "id": "consistent-country",
   "metadata": {},
   "outputs": [
    {
     "data": {
      "text/html": [
       "<div>\n",
       "<style scoped>\n",
       "    .dataframe tbody tr th:only-of-type {\n",
       "        vertical-align: middle;\n",
       "    }\n",
       "\n",
       "    .dataframe tbody tr th {\n",
       "        vertical-align: top;\n",
       "    }\n",
       "\n",
       "    .dataframe thead th {\n",
       "        text-align: right;\n",
       "    }\n",
       "</style>\n",
       "<table border=\"1\" class=\"dataframe\">\n",
       "  <thead>\n",
       "    <tr style=\"text-align: right;\">\n",
       "      <th></th>\n",
       "      <th>Spot</th>\n",
       "      <th>Front</th>\n",
       "      <th>Second</th>\n",
       "      <th>Expiry</th>\n",
       "    </tr>\n",
       "    <tr>\n",
       "      <th>Date</th>\n",
       "      <th></th>\n",
       "      <th></th>\n",
       "      <th></th>\n",
       "      <th></th>\n",
       "    </tr>\n",
       "  </thead>\n",
       "  <tbody>\n",
       "    <tr>\n",
       "      <th>2017-12-28</th>\n",
       "      <td>59.84</td>\n",
       "      <td>59.84</td>\n",
       "      <td>59.87</td>\n",
       "      <td>0</td>\n",
       "    </tr>\n",
       "    <tr>\n",
       "      <th>2017-12-27</th>\n",
       "      <td>59.64</td>\n",
       "      <td>59.64</td>\n",
       "      <td>59.69</td>\n",
       "      <td>0</td>\n",
       "    </tr>\n",
       "    <tr>\n",
       "      <th>2017-12-26</th>\n",
       "      <td>59.97</td>\n",
       "      <td>59.97</td>\n",
       "      <td>60.00</td>\n",
       "      <td>0</td>\n",
       "    </tr>\n",
       "    <tr>\n",
       "      <th>2017-12-22</th>\n",
       "      <td>58.42</td>\n",
       "      <td>58.47</td>\n",
       "      <td>58.54</td>\n",
       "      <td>0</td>\n",
       "    </tr>\n",
       "    <tr>\n",
       "      <th>2017-12-21</th>\n",
       "      <td>58.33</td>\n",
       "      <td>58.36</td>\n",
       "      <td>58.40</td>\n",
       "      <td>0</td>\n",
       "    </tr>\n",
       "    <tr>\n",
       "      <th>2017-12-20</th>\n",
       "      <td>58.02</td>\n",
       "      <td>58.09</td>\n",
       "      <td>58.13</td>\n",
       "      <td>0</td>\n",
       "    </tr>\n",
       "    <tr>\n",
       "      <th>2017-12-19</th>\n",
       "      <td>57.46</td>\n",
       "      <td>57.46</td>\n",
       "      <td>57.56</td>\n",
       "      <td>1</td>\n",
       "    </tr>\n",
       "    <tr>\n",
       "      <th>2017-12-18</th>\n",
       "      <td>57.16</td>\n",
       "      <td>57.16</td>\n",
       "      <td>57.22</td>\n",
       "      <td>0</td>\n",
       "    </tr>\n",
       "    <tr>\n",
       "      <th>2017-12-15</th>\n",
       "      <td>57.30</td>\n",
       "      <td>57.30</td>\n",
       "      <td>57.33</td>\n",
       "      <td>0</td>\n",
       "    </tr>\n",
       "    <tr>\n",
       "      <th>2017-12-14</th>\n",
       "      <td>57.04</td>\n",
       "      <td>57.04</td>\n",
       "      <td>57.08</td>\n",
       "      <td>0</td>\n",
       "    </tr>\n",
       "  </tbody>\n",
       "</table>\n",
       "</div>"
      ],
      "text/plain": [
       "             Spot  Front  Second  Expiry\n",
       "Date                                    \n",
       "2017-12-28  59.84  59.84   59.87       0\n",
       "2017-12-27  59.64  59.64   59.69       0\n",
       "2017-12-26  59.97  59.97   60.00       0\n",
       "2017-12-22  58.42  58.47   58.54       0\n",
       "2017-12-21  58.33  58.36   58.40       0\n",
       "2017-12-20  58.02  58.09   58.13       0\n",
       "2017-12-19  57.46  57.46   57.56       1\n",
       "2017-12-18  57.16  57.16   57.22       0\n",
       "2017-12-15  57.30  57.30   57.33       0\n",
       "2017-12-14  57.04  57.04   57.08       0"
      ]
     },
     "execution_count": 15,
     "metadata": {},
     "output_type": "execute_result"
    }
   ],
   "source": [
    "df.head(10)"
   ]
  },
  {
   "cell_type": "code",
   "execution_count": 16,
   "id": "comparable-occasion",
   "metadata": {},
   "outputs": [
    {
     "data": {
      "text/html": [
       "<div>\n",
       "<style scoped>\n",
       "    .dataframe tbody tr th:only-of-type {\n",
       "        vertical-align: middle;\n",
       "    }\n",
       "\n",
       "    .dataframe tbody tr th {\n",
       "        vertical-align: top;\n",
       "    }\n",
       "\n",
       "    .dataframe thead th {\n",
       "        text-align: right;\n",
       "    }\n",
       "</style>\n",
       "<table border=\"1\" class=\"dataframe\">\n",
       "  <thead>\n",
       "    <tr style=\"text-align: right;\">\n",
       "      <th></th>\n",
       "      <th>Spot</th>\n",
       "      <th>Front</th>\n",
       "      <th>Second</th>\n",
       "      <th>Expiry</th>\n",
       "    </tr>\n",
       "    <tr>\n",
       "      <th>Date</th>\n",
       "      <th></th>\n",
       "      <th></th>\n",
       "      <th></th>\n",
       "      <th></th>\n",
       "    </tr>\n",
       "  </thead>\n",
       "  <tbody>\n",
       "    <tr>\n",
       "      <th>2010-01-04</th>\n",
       "      <td>81.51</td>\n",
       "      <td>81.51</td>\n",
       "      <td>82.12</td>\n",
       "      <td>0</td>\n",
       "    </tr>\n",
       "    <tr>\n",
       "      <th>2010-01-05</th>\n",
       "      <td>81.77</td>\n",
       "      <td>81.77</td>\n",
       "      <td>82.41</td>\n",
       "      <td>0</td>\n",
       "    </tr>\n",
       "    <tr>\n",
       "      <th>2010-01-06</th>\n",
       "      <td>83.18</td>\n",
       "      <td>83.18</td>\n",
       "      <td>83.75</td>\n",
       "      <td>0</td>\n",
       "    </tr>\n",
       "    <tr>\n",
       "      <th>2010-01-07</th>\n",
       "      <td>82.66</td>\n",
       "      <td>82.66</td>\n",
       "      <td>83.19</td>\n",
       "      <td>0</td>\n",
       "    </tr>\n",
       "    <tr>\n",
       "      <th>2010-01-08</th>\n",
       "      <td>82.75</td>\n",
       "      <td>82.75</td>\n",
       "      <td>83.30</td>\n",
       "      <td>0</td>\n",
       "    </tr>\n",
       "  </tbody>\n",
       "</table>\n",
       "</div>"
      ],
      "text/plain": [
       "             Spot  Front  Second  Expiry\n",
       "Date                                    \n",
       "2010-01-04  81.51  81.51   82.12       0\n",
       "2010-01-05  81.77  81.77   82.41       0\n",
       "2010-01-06  83.18  83.18   83.75       0\n",
       "2010-01-07  82.66  82.66   83.19       0\n",
       "2010-01-08  82.75  82.75   83.30       0"
      ]
     },
     "execution_count": 16,
     "metadata": {},
     "output_type": "execute_result"
    }
   ],
   "source": [
    "df = df.sort_index(ascending=True)\n",
    "df.head()"
   ]
  },
  {
   "cell_type": "markdown",
   "id": "dried-guard",
   "metadata": {},
   "source": [
    "# 현물투자 vs 선물투자 수익률 비교"
   ]
  },
  {
   "cell_type": "markdown",
   "id": "blessed-layer",
   "metadata": {},
   "source": [
    "* Front : 최근월물 : 만기를 앞두고 있는 선물\n",
    "* Second : 차근월물 : 다음 만기를 앞두고 있는 선물"
   ]
  },
  {
   "cell_type": "code",
   "execution_count": 17,
   "id": "retired-adoption",
   "metadata": {},
   "outputs": [
    {
     "data": {
      "text/plain": [
       "(Timestamp('2010-01-04 00:00:00'), Timestamp('2017-12-28 00:00:00'))"
      ]
     },
     "execution_count": 17,
     "metadata": {},
     "output_type": "execute_result"
    }
   ],
   "source": [
    "df.index.min(), df.index.max()"
   ]
  },
  {
   "cell_type": "markdown",
   "id": "multiple-atlantic",
   "metadata": {},
   "source": [
    "## 현물에 7년간 투자했을 경우"
   ]
  },
  {
   "cell_type": "code",
   "execution_count": 18,
   "id": "grand-termination",
   "metadata": {},
   "outputs": [
    {
     "data": {
      "text/plain": [
       "-21.67"
      ]
     },
     "execution_count": 18,
     "metadata": {},
     "output_type": "execute_result"
    }
   ],
   "source": [
    "df.loc[ df.index.max(),'Spot'] - df.loc[df.index.min(), 'Spot']"
   ]
  },
  {
   "cell_type": "markdown",
   "id": "atmospheric-johns",
   "metadata": {},
   "source": [
    "## 선물에 7년간 투자했을 경우 -> 롤오버\n",
    "* 롤오버 : 만기시 차근월물로 교체"
   ]
  },
  {
   "cell_type": "code",
   "execution_count": 19,
   "id": "pharmaceutical-capability",
   "metadata": {},
   "outputs": [
    {
     "data": {
      "text/html": [
       "<div>\n",
       "<style scoped>\n",
       "    .dataframe tbody tr th:only-of-type {\n",
       "        vertical-align: middle;\n",
       "    }\n",
       "\n",
       "    .dataframe tbody tr th {\n",
       "        vertical-align: top;\n",
       "    }\n",
       "\n",
       "    .dataframe thead th {\n",
       "        text-align: right;\n",
       "    }\n",
       "</style>\n",
       "<table border=\"1\" class=\"dataframe\">\n",
       "  <thead>\n",
       "    <tr style=\"text-align: right;\">\n",
       "      <th></th>\n",
       "      <th>Spot</th>\n",
       "      <th>Front</th>\n",
       "      <th>Second</th>\n",
       "      <th>Expiry</th>\n",
       "      <th>rollover</th>\n",
       "    </tr>\n",
       "    <tr>\n",
       "      <th>Date</th>\n",
       "      <th></th>\n",
       "      <th></th>\n",
       "      <th></th>\n",
       "      <th></th>\n",
       "      <th></th>\n",
       "    </tr>\n",
       "  </thead>\n",
       "  <tbody>\n",
       "    <tr>\n",
       "      <th>2010-01-04</th>\n",
       "      <td>81.51</td>\n",
       "      <td>81.51</td>\n",
       "      <td>82.12</td>\n",
       "      <td>0</td>\n",
       "      <td>0</td>\n",
       "    </tr>\n",
       "    <tr>\n",
       "      <th>2010-01-05</th>\n",
       "      <td>81.77</td>\n",
       "      <td>81.77</td>\n",
       "      <td>82.41</td>\n",
       "      <td>0</td>\n",
       "      <td>0</td>\n",
       "    </tr>\n",
       "  </tbody>\n",
       "</table>\n",
       "</div>"
      ],
      "text/plain": [
       "             Spot  Front  Second  Expiry  rollover\n",
       "Date                                              \n",
       "2010-01-04  81.51  81.51   82.12       0         0\n",
       "2010-01-05  81.77  81.77   82.41       0         0"
      ]
     },
     "execution_count": 19,
     "metadata": {},
     "output_type": "execute_result"
    }
   ],
   "source": [
    "df['rollover'] = 0\n",
    "df.head(2)"
   ]
  },
  {
   "cell_type": "markdown",
   "id": "decreased-challenge",
   "metadata": {},
   "source": [
    "* by 최상현"
   ]
  },
  {
   "cell_type": "code",
   "execution_count": 28,
   "id": "super-machinery",
   "metadata": {},
   "outputs": [],
   "source": [
    "df['rollover']=df[df['Expiry']==1]['Second']-df[df['Expiry']==1]['Front']\n",
    "df['rollover'] = df['rollover'].fillna(0)"
   ]
  },
  {
   "cell_type": "markdown",
   "id": "explicit-canyon",
   "metadata": {},
   "source": [
    "* index를 이용한 변경"
   ]
  },
  {
   "cell_type": "code",
   "execution_count": 20,
   "id": "german-rhythm",
   "metadata": {},
   "outputs": [
    {
     "name": "stdout",
     "output_type": "stream",
     "text": [
      "DatetimeIndex(['2010-01-20', '2010-02-22', '2010-03-22', '2010-04-20',\n",
      "               '2010-05-20'],\n",
      "              dtype='datetime64[ns]', name='Date', freq=None)\n"
     ]
    }
   ],
   "source": [
    "idx = df[df['Expiry'] ==1].index\n",
    "print(idx[:5])"
   ]
  },
  {
   "cell_type": "code",
   "execution_count": 21,
   "id": "complicated-asbestos",
   "metadata": {},
   "outputs": [],
   "source": [
    "for i in idx:\n",
    "    df.loc[i, 'rollover'] = df.loc[i, 'Second'] - df.loc[i, 'Front']"
   ]
  },
  {
   "cell_type": "code",
   "execution_count": 29,
   "id": "naughty-detail",
   "metadata": {},
   "outputs": [
    {
     "data": {
      "text/html": [
       "<div>\n",
       "<style scoped>\n",
       "    .dataframe tbody tr th:only-of-type {\n",
       "        vertical-align: middle;\n",
       "    }\n",
       "\n",
       "    .dataframe tbody tr th {\n",
       "        vertical-align: top;\n",
       "    }\n",
       "\n",
       "    .dataframe thead th {\n",
       "        text-align: right;\n",
       "    }\n",
       "</style>\n",
       "<table border=\"1\" class=\"dataframe\">\n",
       "  <thead>\n",
       "    <tr style=\"text-align: right;\">\n",
       "      <th></th>\n",
       "      <th>Spot</th>\n",
       "      <th>Front</th>\n",
       "      <th>Second</th>\n",
       "      <th>Expiry</th>\n",
       "      <th>rollover</th>\n",
       "    </tr>\n",
       "    <tr>\n",
       "      <th>Date</th>\n",
       "      <th></th>\n",
       "      <th></th>\n",
       "      <th></th>\n",
       "      <th></th>\n",
       "      <th></th>\n",
       "    </tr>\n",
       "  </thead>\n",
       "  <tbody>\n",
       "    <tr>\n",
       "      <th>2010-01-04</th>\n",
       "      <td>81.51</td>\n",
       "      <td>81.51</td>\n",
       "      <td>82.12</td>\n",
       "      <td>0</td>\n",
       "      <td>0.00</td>\n",
       "    </tr>\n",
       "    <tr>\n",
       "      <th>2010-01-05</th>\n",
       "      <td>81.77</td>\n",
       "      <td>81.77</td>\n",
       "      <td>82.41</td>\n",
       "      <td>0</td>\n",
       "      <td>0.00</td>\n",
       "    </tr>\n",
       "    <tr>\n",
       "      <th>2010-01-06</th>\n",
       "      <td>83.18</td>\n",
       "      <td>83.18</td>\n",
       "      <td>83.75</td>\n",
       "      <td>0</td>\n",
       "      <td>0.00</td>\n",
       "    </tr>\n",
       "    <tr>\n",
       "      <th>2010-01-07</th>\n",
       "      <td>82.66</td>\n",
       "      <td>82.66</td>\n",
       "      <td>83.19</td>\n",
       "      <td>0</td>\n",
       "      <td>0.00</td>\n",
       "    </tr>\n",
       "    <tr>\n",
       "      <th>2010-01-08</th>\n",
       "      <td>82.75</td>\n",
       "      <td>82.75</td>\n",
       "      <td>83.30</td>\n",
       "      <td>0</td>\n",
       "      <td>0.00</td>\n",
       "    </tr>\n",
       "    <tr>\n",
       "      <th>2010-01-11</th>\n",
       "      <td>82.52</td>\n",
       "      <td>82.52</td>\n",
       "      <td>83.01</td>\n",
       "      <td>0</td>\n",
       "      <td>0.00</td>\n",
       "    </tr>\n",
       "    <tr>\n",
       "      <th>2010-01-12</th>\n",
       "      <td>80.79</td>\n",
       "      <td>80.79</td>\n",
       "      <td>81.17</td>\n",
       "      <td>0</td>\n",
       "      <td>0.00</td>\n",
       "    </tr>\n",
       "    <tr>\n",
       "      <th>2010-01-13</th>\n",
       "      <td>79.65</td>\n",
       "      <td>79.65</td>\n",
       "      <td>80.04</td>\n",
       "      <td>0</td>\n",
       "      <td>0.00</td>\n",
       "    </tr>\n",
       "    <tr>\n",
       "      <th>2010-01-14</th>\n",
       "      <td>79.39</td>\n",
       "      <td>79.39</td>\n",
       "      <td>79.88</td>\n",
       "      <td>0</td>\n",
       "      <td>0.00</td>\n",
       "    </tr>\n",
       "    <tr>\n",
       "      <th>2010-01-15</th>\n",
       "      <td>78.00</td>\n",
       "      <td>78.00</td>\n",
       "      <td>78.37</td>\n",
       "      <td>0</td>\n",
       "      <td>0.00</td>\n",
       "    </tr>\n",
       "    <tr>\n",
       "      <th>2010-01-19</th>\n",
       "      <td>79.02</td>\n",
       "      <td>79.02</td>\n",
       "      <td>79.32</td>\n",
       "      <td>0</td>\n",
       "      <td>0.00</td>\n",
       "    </tr>\n",
       "    <tr>\n",
       "      <th>2010-01-20</th>\n",
       "      <td>77.62</td>\n",
       "      <td>77.62</td>\n",
       "      <td>77.74</td>\n",
       "      <td>1</td>\n",
       "      <td>0.12</td>\n",
       "    </tr>\n",
       "    <tr>\n",
       "      <th>2010-01-21</th>\n",
       "      <td>75.78</td>\n",
       "      <td>76.08</td>\n",
       "      <td>76.53</td>\n",
       "      <td>0</td>\n",
       "      <td>0.00</td>\n",
       "    </tr>\n",
       "    <tr>\n",
       "      <th>2010-01-22</th>\n",
       "      <td>74.24</td>\n",
       "      <td>74.54</td>\n",
       "      <td>74.92</td>\n",
       "      <td>0</td>\n",
       "      <td>0.00</td>\n",
       "    </tr>\n",
       "    <tr>\n",
       "      <th>2010-01-25</th>\n",
       "      <td>74.96</td>\n",
       "      <td>75.26</td>\n",
       "      <td>75.69</td>\n",
       "      <td>0</td>\n",
       "      <td>0.00</td>\n",
       "    </tr>\n",
       "  </tbody>\n",
       "</table>\n",
       "</div>"
      ],
      "text/plain": [
       "             Spot  Front  Second  Expiry  rollover\n",
       "Date                                              \n",
       "2010-01-04  81.51  81.51   82.12       0      0.00\n",
       "2010-01-05  81.77  81.77   82.41       0      0.00\n",
       "2010-01-06  83.18  83.18   83.75       0      0.00\n",
       "2010-01-07  82.66  82.66   83.19       0      0.00\n",
       "2010-01-08  82.75  82.75   83.30       0      0.00\n",
       "2010-01-11  82.52  82.52   83.01       0      0.00\n",
       "2010-01-12  80.79  80.79   81.17       0      0.00\n",
       "2010-01-13  79.65  79.65   80.04       0      0.00\n",
       "2010-01-14  79.39  79.39   79.88       0      0.00\n",
       "2010-01-15  78.00  78.00   78.37       0      0.00\n",
       "2010-01-19  79.02  79.02   79.32       0      0.00\n",
       "2010-01-20  77.62  77.62   77.74       1      0.12\n",
       "2010-01-21  75.78  76.08   76.53       0      0.00\n",
       "2010-01-22  74.24  74.54   74.92       0      0.00\n",
       "2010-01-25  74.96  75.26   75.69       0      0.00"
      ]
     },
     "execution_count": 29,
     "metadata": {},
     "output_type": "execute_result"
    }
   ],
   "source": [
    "df.head(15)"
   ]
  },
  {
   "cell_type": "markdown",
   "id": "sacred-cuisine",
   "metadata": {},
   "source": [
    "### 선물손익 = 현재가 - 최초가 - 롤오버비용"
   ]
  },
  {
   "cell_type": "code",
   "execution_count": 31,
   "id": "earned-celebration",
   "metadata": {},
   "outputs": [
    {
     "data": {
      "text/plain": [
       "40.680000000000035"
      ]
     },
     "execution_count": 31,
     "metadata": {},
     "output_type": "execute_result"
    }
   ],
   "source": [
    "tot_rollover = df['rollover'].cumsum()[-1]\n",
    "tot_rollover"
   ]
  },
  {
   "cell_type": "code",
   "execution_count": 32,
   "id": "certain-conversation",
   "metadata": {},
   "outputs": [
    {
     "data": {
      "text/plain": [
       "-62.35000000000004"
      ]
     },
     "execution_count": 32,
     "metadata": {},
     "output_type": "execute_result"
    }
   ],
   "source": [
    "df.loc[ df.index.max(),'Spot'] - df.loc[df.index.min(), 'Spot'] - tot_rollover"
   ]
  }
 ],
 "metadata": {
  "kernelspec": {
   "display_name": "Python 3 (ipykernel)",
   "language": "python",
   "name": "python3"
  },
  "language_info": {
   "codemirror_mode": {
    "name": "ipython",
    "version": 3
   },
   "file_extension": ".py",
   "mimetype": "text/x-python",
   "name": "python",
   "nbconvert_exporter": "python",
   "pygments_lexer": "ipython3",
   "version": "3.8.8"
  }
 },
 "nbformat": 4,
 "nbformat_minor": 5
}
