{
 "cells": [
  {
   "cell_type": "markdown",
   "id": "511c4508-97ef-4f5b-aef6-37ebc9942f04",
   "metadata": {},
   "source": [
    "<font size=6><b>Lec05 : 채권 & 금리(interest_rates_bonds)</b></font>"
   ]
  },
  {
   "cell_type": "markdown",
   "id": "outdoor-organization",
   "metadata": {},
   "source": [
    "<font size=6><b>금리 & 채권</b></font>\n",
    "* ref [2021년 1월 금융기관 가중평균금리] : https://www.bok.or.kr/portal/bbs/P0000559/view.do?nttId=10063199&menuNo=200690&pageIndex=1\n",
    "* ref [2022년 1월 금융기관 가중평균금리] : https://www.bok.or.kr/portal/bbs/P0000559/view.do?nttId=10069319&menuNo=200690\n",
    "* ref : https://www.ytn.co.kr/_ln/0102_201910301518564398\n",
    "* ref [ECOS] : http://ecos.bok.or.kr/flex/ClassSearch.jsp"
   ]
  },
  {
   "cell_type": "code",
   "execution_count": 1,
   "id": "97f336b8-db5a-4798-8baf-2d39b6b6eb04",
   "metadata": {
    "tags": []
   },
   "outputs": [],
   "source": [
    "import pandas as pd\n",
    "import numpy as np\n",
    "from datetime import date\n",
    "import logging\n",
    "import matplotlib.pyplot as plt\n",
    "import seaborn as sns\n",
    "import datetime\n",
    "\n",
    "import warnings\n",
    "warnings.filterwarnings(action='ignore')\n",
    "\n",
    "# numeric_level = getattr(logging, 'INFO', None)\n",
    "# logging.basicConfig(level=numeric_level, format='%(asctime)s %(levelname)-8s %(message)s', datefmt='%Y-%m-%d %H:%M:%S')\n",
    "\n",
    "#-------------------- 차트 관련 속성 (한글처리, 그리드) -----------\n",
    "#plt.rc('font', family='NanumGothicOTF') # For MacOS\n",
    "plt.rcParams['font.family']= 'Malgun Gothic'\n",
    "plt.rcParams['axes.unicode_minus'] = False\n",
    "sns.set()\n",
    "\n",
    "# by 김민형\n",
    "plt.rc('font', family='Malgun Gothic')"
   ]
  },
  {
   "cell_type": "markdown",
   "id": "a0d434e0-bfb8-4699-ba4e-39750a48333a",
   "metadata": {},
   "source": [
    "# 금리"
   ]
  },
  {
   "cell_type": "markdown",
   "id": "abcbdc25-7d25-40f4-8ade-641b1e67544a",
   "metadata": {},
   "source": [
    "## 기준금리, 시장금리\n",
    "\n",
    "* 기준금리\n",
    "    * 금리 체계의 기준이 되는 정책금리\n",
    "    * 한국은행 소속 기관인 금융통화위원회에서 1년에 8회 결정 회의를 갖음\n",
    "* 시장금리\n",
    "    정책금리를 제외한 모든 금리"
   ]
  },
  {
   "cell_type": "markdown",
   "id": "immune-plate",
   "metadata": {},
   "source": [
    "## 통화 및 유동성 지표"
   ]
  },
  {
   "cell_type": "markdown",
   "id": "identical-hunter",
   "metadata": {},
   "source": [
    "* <b>본원통화 (本源通貨, Reserve Base , monetary base 또는 base money) : 중앙은행 화폐발행액, 시중은행으로 보낸 돈\n",
    "  - 현금통화 + 예금은행시재금 + 중앙은행 지급준비예치금<br>\n",
    "* 시장에 풀린 본원통화는 크게 다음 두가지 방식으로 유통된다.\n",
    "   - <b>현금통화 </b> : 현금의 형태로 실제 시장에 풀려 유통\n",
    "   - <b>지급준비금</b> : 시중은행으로 흘러들어가는 돈      "
   ]
  },
  {
   "cell_type": "markdown",
   "id": "hidden-picture",
   "metadata": {},
   "source": [
    "* 통화지표 <br>\n",
    "   (예) 초기에 10일은 4만원 입금,  이 후 20일은 6만원 입금\n",
    "  - <b>평잔</b> : ( ( 40,000 * 10일 ) + ( 60,000 * 20일 ) ) / 30일 = 80,000원\n",
    "  - <b>말잔</b> : 10만원\n",
    "  - 통상적으로는 평잔보다 말잔이 높다\n",
    " <table>\n",
    "    <tr>\n",
    "        <td><img width=700 src='https://img1.daumcdn.net/thumb/R1280x0/?scode=mtistory2&fname=https%3A%2F%2Fblog.kakaocdn.net%2Fdn%2FcZmxkR%2FbtqUeiF5uad%2FNk4LaGuEczfLzPYlsh0rJK%2Fimg.png'></td>\n",
    "        <td><img width=700 src='https://img1.daumcdn.net/thumb/R1280x0/?scode=mtistory2&fname=https%3A%2F%2Fblog.kakaocdn.net%2Fdn%2Few5rPj%2FbtqUeXhn0Ih%2F7fbSacPBHtreGVgdGF2MfK%2Fimg.png'></td>\n",
    "    </tr>\n",
    "</table>\n",
    "          "
   ]
  },
  {
   "cell_type": "code",
   "execution_count": 2,
   "id": "4b12e51f-afaf-4b83-861d-868908695b14",
   "metadata": {},
   "outputs": [
    {
     "name": "stdout",
     "output_type": "stream",
     "text": [
      "<class 'pandas.core.frame.DataFrame'>\n",
      "RangeIndex: 11 entries, 0 to 10\n",
      "Data columns (total 4 columns):\n",
      " #   Column                                                   Non-Null Count  Dtype  \n",
      "---  ------                                                   --------------  -----  \n",
      " 0   (통계표, 항목명1, 단위, 변환)                                      11 non-null     int64  \n",
      " 1   (1.2.1.2 본원통화 구성내역(말잔,원계열), 본원통화(말잔,원계열), 십억원 , 원자료)     11 non-null     float64\n",
      " 2   (1.2.1.2 본원통화 구성내역(말잔,원계열), 현금통화, 십억원 , 원자료)             11 non-null     float64\n",
      " 3   (1.2.1.2 본원통화 구성내역(말잔,원계열), 중앙은행 대 예금취급기관부채, 십억원 , 원자료)  11 non-null     float64\n",
      "dtypes: float64(3), int64(1)\n",
      "memory usage: 480.0 bytes\n",
      "None\n"
     ]
    },
    {
     "data": {
      "text/html": [
       "<div>\n",
       "<style scoped>\n",
       "    .dataframe tbody tr th:only-of-type {\n",
       "        vertical-align: middle;\n",
       "    }\n",
       "\n",
       "    .dataframe tbody tr th {\n",
       "        vertical-align: top;\n",
       "    }\n",
       "\n",
       "    .dataframe thead tr th {\n",
       "        text-align: left;\n",
       "    }\n",
       "</style>\n",
       "<table border=\"1\" class=\"dataframe\">\n",
       "  <thead>\n",
       "    <tr>\n",
       "      <th></th>\n",
       "      <th>통계표</th>\n",
       "      <th colspan=\"3\" halign=\"left\">1.2.1.2 본원통화 구성내역(말잔,원계열)</th>\n",
       "    </tr>\n",
       "    <tr>\n",
       "      <th></th>\n",
       "      <th>항목명1</th>\n",
       "      <th>본원통화(말잔,원계열)</th>\n",
       "      <th>현금통화</th>\n",
       "      <th>중앙은행 대 예금취급기관부채</th>\n",
       "    </tr>\n",
       "    <tr>\n",
       "      <th></th>\n",
       "      <th>단위</th>\n",
       "      <th>십억원</th>\n",
       "      <th>십억원</th>\n",
       "      <th>십억원</th>\n",
       "    </tr>\n",
       "    <tr>\n",
       "      <th></th>\n",
       "      <th>변환</th>\n",
       "      <th>원자료</th>\n",
       "      <th>원자료</th>\n",
       "      <th>원자료</th>\n",
       "    </tr>\n",
       "  </thead>\n",
       "  <tbody>\n",
       "    <tr>\n",
       "      <th>6</th>\n",
       "      <td>2017</td>\n",
       "      <td>155881.0</td>\n",
       "      <td>96842.8</td>\n",
       "      <td>59038.2</td>\n",
       "    </tr>\n",
       "    <tr>\n",
       "      <th>7</th>\n",
       "      <td>2018</td>\n",
       "      <td>172353.3</td>\n",
       "      <td>103994.8</td>\n",
       "      <td>68358.5</td>\n",
       "    </tr>\n",
       "    <tr>\n",
       "      <th>8</th>\n",
       "      <td>2019</td>\n",
       "      <td>191829.3</td>\n",
       "      <td>114523.9</td>\n",
       "      <td>77305.4</td>\n",
       "    </tr>\n",
       "    <tr>\n",
       "      <th>9</th>\n",
       "      <td>2020</td>\n",
       "      <td>221503.7</td>\n",
       "      <td>136152.6</td>\n",
       "      <td>85351.1</td>\n",
       "    </tr>\n",
       "    <tr>\n",
       "      <th>10</th>\n",
       "      <td>2021</td>\n",
       "      <td>248785.5</td>\n",
       "      <td>156264.2</td>\n",
       "      <td>92521.4</td>\n",
       "    </tr>\n",
       "  </tbody>\n",
       "</table>\n",
       "</div>"
      ],
      "text/plain": [
       "     통계표 1.2.1.2 본원통화 구성내역(말잔,원계열)                          \n",
       "    항목명1              본원통화(말잔,원계열)      현금통화 중앙은행 대 예금취급기관부채\n",
       "      단위                      십억원       십억원             십억원 \n",
       "      변환                       원자료       원자료             원자료\n",
       "6   2017                  155881.0   96842.8         59038.2\n",
       "7   2018                  172353.3  103994.8         68358.5\n",
       "8   2019                  191829.3  114523.9         77305.4\n",
       "9   2020                  221503.7  136152.6         85351.1\n",
       "10  2021                  248785.5  156264.2         92521.4"
      ]
     },
     "execution_count": 2,
     "metadata": {},
     "output_type": "execute_result"
    }
   ],
   "source": [
    "df = pd.read_csv('./datasets/lec02_금리_1.csv', \n",
    "                 encoding='cp949', \n",
    "                 thousands=',',\n",
    "                 header=[0,1,2,3], \n",
    "                 skipfooter=5,  #skiprows=[0,2],\n",
    "                 #date_parser=['항목명1']\n",
    "                )\n",
    "print(df.info())\n",
    "df.tail()"
   ]
  },
  {
   "cell_type": "code",
   "execution_count": 3,
   "id": "a7255d86-a3d7-45b8-b12f-84202f88bd96",
   "metadata": {},
   "outputs": [],
   "source": [
    "df.columns = df.columns.droplevel([0,2,3])"
   ]
  },
  {
   "cell_type": "code",
   "execution_count": 4,
   "id": "6c125aa6-39e5-42ab-bc59-9393a123abee",
   "metadata": {
    "tags": []
   },
   "outputs": [
    {
     "data": {
      "text/html": [
       "<div>\n",
       "<style scoped>\n",
       "    .dataframe tbody tr th:only-of-type {\n",
       "        vertical-align: middle;\n",
       "    }\n",
       "\n",
       "    .dataframe tbody tr th {\n",
       "        vertical-align: top;\n",
       "    }\n",
       "\n",
       "    .dataframe thead th {\n",
       "        text-align: right;\n",
       "    }\n",
       "</style>\n",
       "<table border=\"1\" class=\"dataframe\">\n",
       "  <thead>\n",
       "    <tr style=\"text-align: right;\">\n",
       "      <th></th>\n",
       "      <th>항목명1</th>\n",
       "      <th>본원통화(말잔,원계열)</th>\n",
       "      <th>현금통화</th>\n",
       "      <th>중앙은행 대 예금취급기관부채</th>\n",
       "    </tr>\n",
       "  </thead>\n",
       "  <tbody>\n",
       "    <tr>\n",
       "      <th>0</th>\n",
       "      <td>2011</td>\n",
       "      <td>80055.9</td>\n",
       "      <td>39609.1</td>\n",
       "      <td>40446.8</td>\n",
       "    </tr>\n",
       "    <tr>\n",
       "      <th>1</th>\n",
       "      <td>2012</td>\n",
       "      <td>88342.0</td>\n",
       "      <td>44173.8</td>\n",
       "      <td>44168.2</td>\n",
       "    </tr>\n",
       "    <tr>\n",
       "      <th>2</th>\n",
       "      <td>2013</td>\n",
       "      <td>104262.0</td>\n",
       "      <td>53316.2</td>\n",
       "      <td>50945.8</td>\n",
       "    </tr>\n",
       "    <tr>\n",
       "      <th>3</th>\n",
       "      <td>2014</td>\n",
       "      <td>116793.7</td>\n",
       "      <td>64438.5</td>\n",
       "      <td>52355.2</td>\n",
       "    </tr>\n",
       "    <tr>\n",
       "      <th>4</th>\n",
       "      <td>2015</td>\n",
       "      <td>131438.8</td>\n",
       "      <td>76343.4</td>\n",
       "      <td>55095.4</td>\n",
       "    </tr>\n",
       "  </tbody>\n",
       "</table>\n",
       "</div>"
      ],
      "text/plain": [
       "   항목명1  본원통화(말잔,원계열)     현금통화  중앙은행 대 예금취급기관부채\n",
       "0  2011       80055.9  39609.1          40446.8\n",
       "1  2012       88342.0  44173.8          44168.2\n",
       "2  2013      104262.0  53316.2          50945.8\n",
       "3  2014      116793.7  64438.5          52355.2\n",
       "4  2015      131438.8  76343.4          55095.4"
      ]
     },
     "execution_count": 4,
     "metadata": {},
     "output_type": "execute_result"
    }
   ],
   "source": [
    "df.head()"
   ]
  },
  {
   "cell_type": "code",
   "execution_count": 5,
   "id": "a38338f3-3663-4853-9d53-ab77ddc819cb",
   "metadata": {},
   "outputs": [
    {
     "name": "stdout",
     "output_type": "stream",
     "text": [
      "<class 'pandas.core.frame.DataFrame'>\n",
      "Int64Index: 11 entries, 2011 to 2021\n",
      "Data columns (total 3 columns):\n",
      " #   Column           Non-Null Count  Dtype  \n",
      "---  ------           --------------  -----  \n",
      " 0   본원통화(말잔,원계열)     11 non-null     float64\n",
      " 1   현금통화             11 non-null     float64\n",
      " 2   중앙은행 대 예금취급기관부채  11 non-null     float64\n",
      "dtypes: float64(3)\n",
      "memory usage: 352.0 bytes\n",
      "None\n"
     ]
    },
    {
     "data": {
      "text/html": [
       "<div>\n",
       "<style scoped>\n",
       "    .dataframe tbody tr th:only-of-type {\n",
       "        vertical-align: middle;\n",
       "    }\n",
       "\n",
       "    .dataframe tbody tr th {\n",
       "        vertical-align: top;\n",
       "    }\n",
       "\n",
       "    .dataframe thead th {\n",
       "        text-align: right;\n",
       "    }\n",
       "</style>\n",
       "<table border=\"1\" class=\"dataframe\">\n",
       "  <thead>\n",
       "    <tr style=\"text-align: right;\">\n",
       "      <th></th>\n",
       "      <th>본원통화(말잔,원계열)</th>\n",
       "      <th>현금통화</th>\n",
       "      <th>중앙은행 대 예금취급기관부채</th>\n",
       "    </tr>\n",
       "    <tr>\n",
       "      <th>항목명1</th>\n",
       "      <th></th>\n",
       "      <th></th>\n",
       "      <th></th>\n",
       "    </tr>\n",
       "  </thead>\n",
       "  <tbody>\n",
       "    <tr>\n",
       "      <th>2011</th>\n",
       "      <td>80055.9</td>\n",
       "      <td>39609.1</td>\n",
       "      <td>40446.8</td>\n",
       "    </tr>\n",
       "    <tr>\n",
       "      <th>2012</th>\n",
       "      <td>88342.0</td>\n",
       "      <td>44173.8</td>\n",
       "      <td>44168.2</td>\n",
       "    </tr>\n",
       "    <tr>\n",
       "      <th>2013</th>\n",
       "      <td>104262.0</td>\n",
       "      <td>53316.2</td>\n",
       "      <td>50945.8</td>\n",
       "    </tr>\n",
       "    <tr>\n",
       "      <th>2014</th>\n",
       "      <td>116793.7</td>\n",
       "      <td>64438.5</td>\n",
       "      <td>52355.2</td>\n",
       "    </tr>\n",
       "    <tr>\n",
       "      <th>2015</th>\n",
       "      <td>131438.8</td>\n",
       "      <td>76343.4</td>\n",
       "      <td>55095.4</td>\n",
       "    </tr>\n",
       "  </tbody>\n",
       "</table>\n",
       "</div>"
      ],
      "text/plain": [
       "      본원통화(말잔,원계열)     현금통화  중앙은행 대 예금취급기관부채\n",
       "항목명1                                        \n",
       "2011       80055.9  39609.1          40446.8\n",
       "2012       88342.0  44173.8          44168.2\n",
       "2013      104262.0  53316.2          50945.8\n",
       "2014      116793.7  64438.5          52355.2\n",
       "2015      131438.8  76343.4          55095.4"
      ]
     },
     "execution_count": 5,
     "metadata": {},
     "output_type": "execute_result"
    }
   ],
   "source": [
    "df['항목명1'] = pd.to_datetime(df['항목명1'], format='%Y').dt.year\n",
    "df = df.set_index('항목명1')\n",
    "print(df.info())\n",
    "df.head()"
   ]
  },
  {
   "cell_type": "code",
   "execution_count": 7,
   "id": "71876d03-e9ae-4469-928a-94a85c9fa2a3",
   "metadata": {},
   "outputs": [
    {
     "data": {
      "image/png": "[encoded data removed]",
      "text/plain": [
       "<Figure size 864x288 with 1 Axes>"
      ]
     },
     "metadata": {},
     "output_type": "display_data"
    }
   ],
   "source": [
    "df.plot(kind='bar', alpha=0.75, figsize=(12,4))\n",
    "plt.xticks(rotation=90)\n",
    "plt.show()\n"
   ]
  },
  {
   "cell_type": "code",
   "execution_count": 8,
   "id": "b87abc21-3734-49ee-8578-f2cd4d4f43a4",
   "metadata": {},
   "outputs": [
    {
     "data": {
      "image/png": "[encoded data removed]",
      "text/plain": [
       "<Figure size 720x288 with 1 Axes>"
      ]
     },
     "metadata": {},
     "output_type": "display_data"
    }
   ],
   "source": [
    "plt.rcParams[\"figure.figsize\"] = (10, 4)\n",
    "plt.bar(df.index, df['본원통화(말잔,원계열)'], label='본원통화')\n",
    "plt.bar(df.index, df['현금통화'], label='예금은행시재금')\n",
    "plt.bar(df.index, df['중앙은행 대 예금취급기관부채'], label='준비예치금')\n",
    "plt.legend()\n",
    "plt.show()"
   ]
  },
  {
   "cell_type": "markdown",
   "id": "permanent-acquisition",
   "metadata": {
    "tags": []
   },
   "source": [
    "# [실습] 금리 변동에 따른 금융 시장의 변화"
   ]
  },
  {
   "cell_type": "markdown",
   "id": "88e2306e-a9ac-4b88-8ef7-a701bbbd7329",
   "metadata": {},
   "source": [
    "## Data Load\n",
    "* 18.1.1.3 중앙은행 정책금리\n",
    "* 8.8.2.1 주요국통화의 대원화 환율 통계자료원\n",
    "* 4.1.2 시장금리(월,분기,년)\n",
    "* 4.2.1 수신금리, 4.2.2 대출금리"
   ]
  },
  {
   "cell_type": "code",
   "execution_count": 9,
   "id": "deluxe-violin",
   "metadata": {},
   "outputs": [
    {
     "name": "stdout",
     "output_type": "stream",
     "text": [
      "<class 'pandas.core.frame.DataFrame'>\n",
      "RangeIndex: 134 entries, 0 to 133\n",
      "Data columns (total 17 columns):\n",
      " #   Column                                                          Non-Null Count  Dtype  \n",
      "---  ------                                                          --------------  -----  \n",
      " 0   (통계표, 항목명1, 항목명2, 단위, 변환)                                       134 non-null    object \n",
      " 1   (8.8.2.1 주요국통화의 대원화 환율 통계자료, 원/미국달러(매매기준율), 말일자료, 원 , 원자료)      134 non-null    float64\n",
      " 2   (8.8.2.1 주요국통화의 대원화 환율 통계자료, 원/위안(매매기준율), 말일자료, 원 , 원자료)        74 non-null     float64\n",
      " 3   (8.8.2.1 주요국통화의 대원화 환율 통계자료, 원/일본엔(100엔), 말일자료, 원 , 원자료)        134 non-null    float64\n",
      " 4   (4.1.2 시장금리(월,분기,년), CD(91일), Unnamed: 4_level_2, 연%, 원자료)      134 non-null    float64\n",
      " 5   (4.1.2 시장금리(월,분기,년), CP(91일), Unnamed: 5_level_2, 연%, 원자료)      134 non-null    float64\n",
      " 6   (4.1.2 시장금리(월,분기,년), 국고채(5년), Unnamed: 6_level_2, 연%, 원자료)      134 non-null    float64\n",
      " 7   (4.1.2 시장금리(월,분기,년), 국고채(50년), Unnamed: 7_level_2, 연%, 원자료)     65 non-null     float64\n",
      " 8   (4.1.2 시장금리(월,분기,년), 통안증권(91일), Unnamed: 8_level_2, 연%, 원자료)    134 non-null    float64\n",
      " 9   (18.1.1.3 중앙은행 정책금리, 한국, Unnamed: 9_level_2, % , 원자료)           134 non-null    float64\n",
      " 10  (18.1.1.3 중앙은행 정책금리, 중국, Unnamed: 10_level_2, % , 원자료)          134 non-null    float64\n",
      " 11  (18.1.1.3 중앙은행 정책금리, 일본, Unnamed: 11_level_2, % , 원자료)          94 non-null     float64\n",
      " 12  (18.1.1.3 중앙은행 정책금리, 미국, Unnamed: 12_level_2, % , 원자료)          134 non-null    float64\n",
      " 13  (4.2.1.1 신규취급액 기준, 저축성수신, Unnamed: 13_level_2, 연%, 원자료)         133 non-null    float64\n",
      " 14  (4.2.2.1 신규취급액 기준, 기업대출, Unnamed: 14_level_2, 연리% , 원자료)        133 non-null    float64\n",
      " 15  (4.2.2.1 신규취급액 기준, 가계대출, Unnamed: 15_level_2, 연리% , 원자료)        133 non-null    float64\n",
      " 16  (2.5.한국은행 원화대출금(말잔), 원화대출금(계), Unnamed: 16_level_2, 십억원 , 원자료)  25 non-null     float64\n",
      "dtypes: float64(16), object(1)\n",
      "memory usage: 17.9+ KB\n",
      "None\n"
     ]
    },
    {
     "data": {
      "text/html": [
       "<div>\n",
       "<style scoped>\n",
       "    .dataframe tbody tr th:only-of-type {\n",
       "        vertical-align: middle;\n",
       "    }\n",
       "\n",
       "    .dataframe tbody tr th {\n",
       "        vertical-align: top;\n",
       "    }\n",
       "\n",
       "    .dataframe thead tr th {\n",
       "        text-align: left;\n",
       "    }\n",
       "</style>\n",
       "<table border=\"1\" class=\"dataframe\">\n",
       "  <thead>\n",
       "    <tr>\n",
       "      <th></th>\n",
       "      <th>통계표</th>\n",
       "      <th colspan=\"3\" halign=\"left\">8.8.2.1 주요국통화의 대원화 환율 통계자료</th>\n",
       "      <th colspan=\"5\" halign=\"left\">4.1.2 시장금리(월,분기,년)</th>\n",
       "      <th colspan=\"4\" halign=\"left\">18.1.1.3 중앙은행 정책금리</th>\n",
       "      <th>4.2.1.1 신규취급액 기준</th>\n",
       "      <th colspan=\"2\" halign=\"left\">4.2.2.1 신규취급액 기준</th>\n",
       "      <th>2.5.한국은행 원화대출금(말잔)</th>\n",
       "    </tr>\n",
       "    <tr>\n",
       "      <th></th>\n",
       "      <th>항목명1</th>\n",
       "      <th>원/미국달러(매매기준율)</th>\n",
       "      <th>원/위안(매매기준율)</th>\n",
       "      <th>원/일본엔(100엔)</th>\n",
       "      <th>CD(91일)</th>\n",
       "      <th>CP(91일)</th>\n",
       "      <th>국고채(5년)</th>\n",
       "      <th>국고채(50년)</th>\n",
       "      <th>통안증권(91일)</th>\n",
       "      <th>한국</th>\n",
       "      <th>중국</th>\n",
       "      <th>일본</th>\n",
       "      <th>미국</th>\n",
       "      <th>저축성수신</th>\n",
       "      <th>기업대출</th>\n",
       "      <th>가계대출</th>\n",
       "      <th>원화대출금(계)</th>\n",
       "    </tr>\n",
       "    <tr>\n",
       "      <th></th>\n",
       "      <th>항목명2</th>\n",
       "      <th>말일자료</th>\n",
       "      <th>말일자료</th>\n",
       "      <th>말일자료</th>\n",
       "      <th>Unnamed: 4_level_2</th>\n",
       "      <th>Unnamed: 5_level_2</th>\n",
       "      <th>Unnamed: 6_level_2</th>\n",
       "      <th>Unnamed: 7_level_2</th>\n",
       "      <th>Unnamed: 8_level_2</th>\n",
       "      <th>Unnamed: 9_level_2</th>\n",
       "      <th>Unnamed: 10_level_2</th>\n",
       "      <th>Unnamed: 11_level_2</th>\n",
       "      <th>Unnamed: 12_level_2</th>\n",
       "      <th>Unnamed: 13_level_2</th>\n",
       "      <th>Unnamed: 14_level_2</th>\n",
       "      <th>Unnamed: 15_level_2</th>\n",
       "      <th>Unnamed: 16_level_2</th>\n",
       "    </tr>\n",
       "    <tr>\n",
       "      <th></th>\n",
       "      <th>단위</th>\n",
       "      <th>원</th>\n",
       "      <th>원</th>\n",
       "      <th>원</th>\n",
       "      <th>연%</th>\n",
       "      <th>연%</th>\n",
       "      <th>연%</th>\n",
       "      <th>연%</th>\n",
       "      <th>연%</th>\n",
       "      <th>%</th>\n",
       "      <th>%</th>\n",
       "      <th>%</th>\n",
       "      <th>%</th>\n",
       "      <th>연%</th>\n",
       "      <th>연리%</th>\n",
       "      <th>연리%</th>\n",
       "      <th>십억원</th>\n",
       "    </tr>\n",
       "    <tr>\n",
       "      <th></th>\n",
       "      <th>변환</th>\n",
       "      <th>원자료</th>\n",
       "      <th>원자료</th>\n",
       "      <th>원자료</th>\n",
       "      <th>원자료</th>\n",
       "      <th>원자료</th>\n",
       "      <th>원자료</th>\n",
       "      <th>원자료</th>\n",
       "      <th>원자료</th>\n",
       "      <th>원자료</th>\n",
       "      <th>원자료</th>\n",
       "      <th>원자료</th>\n",
       "      <th>원자료</th>\n",
       "      <th>원자료</th>\n",
       "      <th>원자료</th>\n",
       "      <th>원자료</th>\n",
       "      <th>원자료</th>\n",
       "    </tr>\n",
       "  </thead>\n",
       "  <tbody>\n",
       "    <tr>\n",
       "      <th>0</th>\n",
       "      <td>Jan-11</td>\n",
       "      <td>1114.3</td>\n",
       "      <td>NaN</td>\n",
       "      <td>1356.59</td>\n",
       "      <td>2.93</td>\n",
       "      <td>3.12</td>\n",
       "      <td>4.30</td>\n",
       "      <td>NaN</td>\n",
       "      <td>2.80</td>\n",
       "      <td>2.75</td>\n",
       "      <td>5.81</td>\n",
       "      <td>0.05</td>\n",
       "      <td>0.13</td>\n",
       "      <td>3.46</td>\n",
       "      <td>5.71</td>\n",
       "      <td>5.30</td>\n",
       "      <td>17001.3</td>\n",
       "    </tr>\n",
       "    <tr>\n",
       "      <th>1</th>\n",
       "      <td>Feb-11</td>\n",
       "      <td>1127.9</td>\n",
       "      <td>NaN</td>\n",
       "      <td>1380.96</td>\n",
       "      <td>3.13</td>\n",
       "      <td>3.31</td>\n",
       "      <td>4.41</td>\n",
       "      <td>NaN</td>\n",
       "      <td>3.10</td>\n",
       "      <td>2.75</td>\n",
       "      <td>6.06</td>\n",
       "      <td>0.05</td>\n",
       "      <td>0.13</td>\n",
       "      <td>3.62</td>\n",
       "      <td>5.81</td>\n",
       "      <td>5.26</td>\n",
       "      <td>17246.8</td>\n",
       "    </tr>\n",
       "    <tr>\n",
       "      <th>2</th>\n",
       "      <td>Mar-11</td>\n",
       "      <td>1107.2</td>\n",
       "      <td>NaN</td>\n",
       "      <td>1331.89</td>\n",
       "      <td>3.35</td>\n",
       "      <td>3.53</td>\n",
       "      <td>4.13</td>\n",
       "      <td>NaN</td>\n",
       "      <td>3.26</td>\n",
       "      <td>3.00</td>\n",
       "      <td>6.06</td>\n",
       "      <td>0.05</td>\n",
       "      <td>0.13</td>\n",
       "      <td>3.67</td>\n",
       "      <td>5.96</td>\n",
       "      <td>5.41</td>\n",
       "      <td>17398.3</td>\n",
       "    </tr>\n",
       "    <tr>\n",
       "      <th>3</th>\n",
       "      <td>Apr-11</td>\n",
       "      <td>1072.3</td>\n",
       "      <td>NaN</td>\n",
       "      <td>1313.77</td>\n",
       "      <td>3.40</td>\n",
       "      <td>3.54</td>\n",
       "      <td>4.10</td>\n",
       "      <td>NaN</td>\n",
       "      <td>3.32</td>\n",
       "      <td>3.00</td>\n",
       "      <td>6.31</td>\n",
       "      <td>0.05</td>\n",
       "      <td>0.13</td>\n",
       "      <td>3.68</td>\n",
       "      <td>5.80</td>\n",
       "      <td>5.42</td>\n",
       "      <td>20289.9</td>\n",
       "    </tr>\n",
       "    <tr>\n",
       "      <th>4</th>\n",
       "      <td>May-11</td>\n",
       "      <td>1080.6</td>\n",
       "      <td>NaN</td>\n",
       "      <td>1335.56</td>\n",
       "      <td>3.46</td>\n",
       "      <td>3.58</td>\n",
       "      <td>3.97</td>\n",
       "      <td>NaN</td>\n",
       "      <td>3.35</td>\n",
       "      <td>3.00</td>\n",
       "      <td>6.31</td>\n",
       "      <td>0.05</td>\n",
       "      <td>0.13</td>\n",
       "      <td>3.67</td>\n",
       "      <td>5.83</td>\n",
       "      <td>5.49</td>\n",
       "      <td>23623.0</td>\n",
       "    </tr>\n",
       "  </tbody>\n",
       "</table>\n",
       "</div>"
      ],
      "text/plain": [
       "      통계표 8.8.2.1 주요국통화의 대원화 환율 통계자료                          \\\n",
       "     항목명1              원/미국달러(매매기준율) 원/위안(매매기준율) 원/일본엔(100엔)   \n",
       "     항목명2                       말일자료        말일자료        말일자료   \n",
       "       단위                         원           원           원    \n",
       "       변환                        원자료         원자료         원자료   \n",
       "0  Jan-11                     1114.3         NaN     1356.59   \n",
       "1  Feb-11                     1127.9         NaN     1380.96   \n",
       "2  Mar-11                     1107.2         NaN     1331.89   \n",
       "3  Apr-11                     1072.3         NaN     1313.77   \n",
       "4  May-11                     1080.6         NaN     1335.56   \n",
       "\n",
       "  4.1.2 시장금리(월,분기,년)                                                           \\\n",
       "             CD(91일)            CP(91일)            국고채(5년)           국고채(50년)   \n",
       "  Unnamed: 4_level_2 Unnamed: 5_level_2 Unnamed: 6_level_2 Unnamed: 7_level_2   \n",
       "                  연%                 연%                 연%                 연%   \n",
       "                 원자료                원자료                원자료                원자료   \n",
       "0               2.93               3.12               4.30                NaN   \n",
       "1               3.13               3.31               4.41                NaN   \n",
       "2               3.35               3.53               4.13                NaN   \n",
       "3               3.40               3.54               4.10                NaN   \n",
       "4               3.46               3.58               3.97                NaN   \n",
       "\n",
       "                     18.1.1.3 중앙은행 정책금리                      \\\n",
       "           통안증권(91일)                 한국                  중국   \n",
       "  Unnamed: 8_level_2 Unnamed: 9_level_2 Unnamed: 10_level_2   \n",
       "                  연%                 %                   %    \n",
       "                 원자료                원자료                 원자료   \n",
       "0               2.80               2.75                5.81   \n",
       "1               3.10               2.75                6.06   \n",
       "2               3.26               3.00                6.06   \n",
       "3               3.32               3.00                6.31   \n",
       "4               3.35               3.00                6.31   \n",
       "\n",
       "                                             4.2.1.1 신규취급액 기준  \\\n",
       "                   일본                  미국               저축성수신   \n",
       "  Unnamed: 11_level_2 Unnamed: 12_level_2 Unnamed: 13_level_2   \n",
       "                   %                   %                   연%   \n",
       "                  원자료                 원자료                 원자료   \n",
       "0                0.05                0.13                3.46   \n",
       "1                0.05                0.13                3.62   \n",
       "2                0.05                0.13                3.67   \n",
       "3                0.05                0.13                3.68   \n",
       "4                0.05                0.13                3.67   \n",
       "\n",
       "     4.2.2.1 신규취급액 기준                      2.5.한국은행 원화대출금(말잔)  \n",
       "                 기업대출                가계대출            원화대출금(계)  \n",
       "  Unnamed: 14_level_2 Unnamed: 15_level_2 Unnamed: 16_level_2  \n",
       "                 연리%                 연리%                 십억원   \n",
       "                  원자료                 원자료                 원자료  \n",
       "0                5.71                5.30             17001.3  \n",
       "1                5.81                5.26             17246.8  \n",
       "2                5.96                5.41             17398.3  \n",
       "3                5.80                5.42             20289.9  \n",
       "4                5.83                5.49             23623.0  "
      ]
     },
     "execution_count": 9,
     "metadata": {},
     "output_type": "execute_result"
    }
   ],
   "source": [
    "df = pd.read_csv('./datasets/lec02_금리_2.csv', \n",
    "                 encoding='cp949', \n",
    "                 thousands=',',\n",
    "                 header=[0,1,2,3,4], \n",
    "                 skipfooter=26,  #skiprows=[0,2]\n",
    "                )\n",
    "print(df.info())\n",
    "df.head()"
   ]
  },
  {
   "cell_type": "code",
   "execution_count": 10,
   "id": "3b015d39-680c-4496-bd09-96a565388c9f",
   "metadata": {},
   "outputs": [],
   "source": [
    "df.columns = df.columns.droplevel([0,2,3,4])"
   ]
  },
  {
   "cell_type": "code",
   "execution_count": 11,
   "id": "15948422-d92d-4a42-8232-50804737d3ed",
   "metadata": {},
   "outputs": [
    {
     "data": {
      "text/html": [
       "<div>\n",
       "<style scoped>\n",
       "    .dataframe tbody tr th:only-of-type {\n",
       "        vertical-align: middle;\n",
       "    }\n",
       "\n",
       "    .dataframe tbody tr th {\n",
       "        vertical-align: top;\n",
       "    }\n",
       "\n",
       "    .dataframe thead th {\n",
       "        text-align: right;\n",
       "    }\n",
       "</style>\n",
       "<table border=\"1\" class=\"dataframe\">\n",
       "  <thead>\n",
       "    <tr style=\"text-align: right;\">\n",
       "      <th></th>\n",
       "      <th>항목명1</th>\n",
       "      <th>원/미국달러(매매기준율)</th>\n",
       "      <th>원/위안(매매기준율)</th>\n",
       "      <th>원/일본엔(100엔)</th>\n",
       "      <th>CD(91일)</th>\n",
       "      <th>CP(91일)</th>\n",
       "      <th>국고채(5년)</th>\n",
       "      <th>국고채(50년)</th>\n",
       "      <th>통안증권(91일)</th>\n",
       "      <th>한국</th>\n",
       "      <th>중국</th>\n",
       "      <th>일본</th>\n",
       "      <th>미국</th>\n",
       "      <th>저축성수신</th>\n",
       "      <th>기업대출</th>\n",
       "      <th>가계대출</th>\n",
       "      <th>원화대출금(계)</th>\n",
       "    </tr>\n",
       "    <tr>\n",
       "      <th>항목명1</th>\n",
       "      <th></th>\n",
       "      <th></th>\n",
       "      <th></th>\n",
       "      <th></th>\n",
       "      <th></th>\n",
       "      <th></th>\n",
       "      <th></th>\n",
       "      <th></th>\n",
       "      <th></th>\n",
       "      <th></th>\n",
       "      <th></th>\n",
       "      <th></th>\n",
       "      <th></th>\n",
       "      <th></th>\n",
       "      <th></th>\n",
       "      <th></th>\n",
       "      <th></th>\n",
       "    </tr>\n",
       "  </thead>\n",
       "  <tbody>\n",
       "    <tr>\n",
       "      <th>Jan-11</th>\n",
       "      <td>Jan-11</td>\n",
       "      <td>1114.3</td>\n",
       "      <td>NaN</td>\n",
       "      <td>1356.59</td>\n",
       "      <td>2.93</td>\n",
       "      <td>3.12</td>\n",
       "      <td>4.30</td>\n",
       "      <td>NaN</td>\n",
       "      <td>2.80</td>\n",
       "      <td>2.75</td>\n",
       "      <td>5.81</td>\n",
       "      <td>0.05</td>\n",
       "      <td>0.13</td>\n",
       "      <td>3.46</td>\n",
       "      <td>5.71</td>\n",
       "      <td>5.30</td>\n",
       "      <td>17001.3</td>\n",
       "    </tr>\n",
       "    <tr>\n",
       "      <th>Feb-11</th>\n",
       "      <td>Feb-11</td>\n",
       "      <td>1127.9</td>\n",
       "      <td>NaN</td>\n",
       "      <td>1380.96</td>\n",
       "      <td>3.13</td>\n",
       "      <td>3.31</td>\n",
       "      <td>4.41</td>\n",
       "      <td>NaN</td>\n",
       "      <td>3.10</td>\n",
       "      <td>2.75</td>\n",
       "      <td>6.06</td>\n",
       "      <td>0.05</td>\n",
       "      <td>0.13</td>\n",
       "      <td>3.62</td>\n",
       "      <td>5.81</td>\n",
       "      <td>5.26</td>\n",
       "      <td>17246.8</td>\n",
       "    </tr>\n",
       "    <tr>\n",
       "      <th>Mar-11</th>\n",
       "      <td>Mar-11</td>\n",
       "      <td>1107.2</td>\n",
       "      <td>NaN</td>\n",
       "      <td>1331.89</td>\n",
       "      <td>3.35</td>\n",
       "      <td>3.53</td>\n",
       "      <td>4.13</td>\n",
       "      <td>NaN</td>\n",
       "      <td>3.26</td>\n",
       "      <td>3.00</td>\n",
       "      <td>6.06</td>\n",
       "      <td>0.05</td>\n",
       "      <td>0.13</td>\n",
       "      <td>3.67</td>\n",
       "      <td>5.96</td>\n",
       "      <td>5.41</td>\n",
       "      <td>17398.3</td>\n",
       "    </tr>\n",
       "    <tr>\n",
       "      <th>Apr-11</th>\n",
       "      <td>Apr-11</td>\n",
       "      <td>1072.3</td>\n",
       "      <td>NaN</td>\n",
       "      <td>1313.77</td>\n",
       "      <td>3.40</td>\n",
       "      <td>3.54</td>\n",
       "      <td>4.10</td>\n",
       "      <td>NaN</td>\n",
       "      <td>3.32</td>\n",
       "      <td>3.00</td>\n",
       "      <td>6.31</td>\n",
       "      <td>0.05</td>\n",
       "      <td>0.13</td>\n",
       "      <td>3.68</td>\n",
       "      <td>5.80</td>\n",
       "      <td>5.42</td>\n",
       "      <td>20289.9</td>\n",
       "    </tr>\n",
       "    <tr>\n",
       "      <th>May-11</th>\n",
       "      <td>May-11</td>\n",
       "      <td>1080.6</td>\n",
       "      <td>NaN</td>\n",
       "      <td>1335.56</td>\n",
       "      <td>3.46</td>\n",
       "      <td>3.58</td>\n",
       "      <td>3.97</td>\n",
       "      <td>NaN</td>\n",
       "      <td>3.35</td>\n",
       "      <td>3.00</td>\n",
       "      <td>6.31</td>\n",
       "      <td>0.05</td>\n",
       "      <td>0.13</td>\n",
       "      <td>3.67</td>\n",
       "      <td>5.83</td>\n",
       "      <td>5.49</td>\n",
       "      <td>23623.0</td>\n",
       "    </tr>\n",
       "  </tbody>\n",
       "</table>\n",
       "</div>"
      ],
      "text/plain": [
       "          항목명1  원/미국달러(매매기준율)  원/위안(매매기준율)  원/일본엔(100엔)  CD(91일)  CP(91일)  \\\n",
       "항목명1                                                                        \n",
       "Jan-11  Jan-11         1114.3          NaN      1356.59     2.93     3.12   \n",
       "Feb-11  Feb-11         1127.9          NaN      1380.96     3.13     3.31   \n",
       "Mar-11  Mar-11         1107.2          NaN      1331.89     3.35     3.53   \n",
       "Apr-11  Apr-11         1072.3          NaN      1313.77     3.40     3.54   \n",
       "May-11  May-11         1080.6          NaN      1335.56     3.46     3.58   \n",
       "\n",
       "        국고채(5년)  국고채(50년)  통안증권(91일)    한국    중국    일본    미국  저축성수신  기업대출  \\\n",
       "항목명1                                                                        \n",
       "Jan-11     4.30       NaN       2.80  2.75  5.81  0.05  0.13   3.46  5.71   \n",
       "Feb-11     4.41       NaN       3.10  2.75  6.06  0.05  0.13   3.62  5.81   \n",
       "Mar-11     4.13       NaN       3.26  3.00  6.06  0.05  0.13   3.67  5.96   \n",
       "Apr-11     4.10       NaN       3.32  3.00  6.31  0.05  0.13   3.68  5.80   \n",
       "May-11     3.97       NaN       3.35  3.00  6.31  0.05  0.13   3.67  5.83   \n",
       "\n",
       "        가계대출  원화대출금(계)  \n",
       "항목명1                    \n",
       "Jan-11  5.30   17001.3  \n",
       "Feb-11  5.26   17246.8  \n",
       "Mar-11  5.41   17398.3  \n",
       "Apr-11  5.42   20289.9  \n",
       "May-11  5.49   23623.0  "
      ]
     },
     "execution_count": 11,
     "metadata": {},
     "output_type": "execute_result"
    }
   ],
   "source": [
    "df = df.set_index(df.iloc[:, 0])\n",
    "df.head()"
   ]
  },
  {
   "cell_type": "code",
   "execution_count": 12,
   "id": "cb80842e-6ae9-4ea3-8153-a627e8414ce1",
   "metadata": {},
   "outputs": [
    {
     "name": "stdout",
     "output_type": "stream",
     "text": [
      "<class 'pandas.core.frame.DataFrame'>\n",
      "Index: 134 entries, Jan-11 to Feb-22\n",
      "Data columns (total 17 columns):\n",
      " #   Column         Non-Null Count  Dtype  \n",
      "---  ------         --------------  -----  \n",
      " 0   항목명1           134 non-null    object \n",
      " 1   원/미국달러(매매기준율)  134 non-null    float64\n",
      " 2   원/위안(매매기준율)    74 non-null     float64\n",
      " 3   원/일본엔(100엔)    134 non-null    float64\n",
      " 4   CD(91일)        134 non-null    float64\n",
      " 5   CP(91일)        134 non-null    float64\n",
      " 6   국고채(5년)        134 non-null    float64\n",
      " 7   국고채(50년)       65 non-null     float64\n",
      " 8   통안증권(91일)      134 non-null    float64\n",
      " 9   한국             134 non-null    float64\n",
      " 10  중국             134 non-null    float64\n",
      " 11  일본             94 non-null     float64\n",
      " 12  미국             134 non-null    float64\n",
      " 13  저축성수신          133 non-null    float64\n",
      " 14  기업대출           133 non-null    float64\n",
      " 15  가계대출           133 non-null    float64\n",
      " 16  원화대출금(계)       25 non-null     float64\n",
      "dtypes: float64(16), object(1)\n",
      "memory usage: 18.8+ KB\n"
     ]
    }
   ],
   "source": [
    "df.info()"
   ]
  },
  {
   "cell_type": "code",
   "execution_count": 13,
   "id": "9f1f330f-70e5-4f88-b321-6fb7ff68abb9",
   "metadata": {},
   "outputs": [
    {
     "data": {
      "text/plain": [
       "Index(['항목명1', '원/미국달러(매매기준율)', '원/위안(매매기준율)', '원/일본엔(100엔)', 'CD(91일)',\n",
       "       'CP(91일)', '국고채(5년)', '국고채(50년)', '통안증권(91일)', '한국', '중국', '일본', '미국',\n",
       "       '저축성수신', '기업대출', '가계대출', '원화대출금(계)'],\n",
       "      dtype='object')"
      ]
     },
     "execution_count": 13,
     "metadata": {},
     "output_type": "execute_result"
    }
   ],
   "source": [
    "df.columns"
   ]
  },
  {
   "cell_type": "markdown",
   "id": "fadfb65e-ff7a-493b-82e4-9bbc06ac3cdf",
   "metadata": {},
   "source": [
    "## 주요 국가 금리 비교 "
   ]
  },
  {
   "cell_type": "code",
   "execution_count": 14,
   "id": "f28c4b1b-3307-413d-9699-f84af7e635b9",
   "metadata": {},
   "outputs": [
    {
     "data": {
      "image/png": "[encoded data removed]",
      "text/plain": [
       "<Figure size 864x288 with 1 Axes>"
      ]
     },
     "metadata": {},
     "output_type": "display_data"
    }
   ],
   "source": [
    "plt.rcParams[\"figure.figsize\"] = (12, 4)\n",
    "df[['한국', '중국', '일본', '미국']].plot()\n",
    "plt.show()"
   ]
  },
  {
   "cell_type": "markdown",
   "id": "faced-phrase",
   "metadata": {},
   "source": [
    "## 시장금리"
   ]
  },
  {
   "cell_type": "markdown",
   "id": "caring-round",
   "metadata": {},
   "source": [
    "* <b>COFIX</b>(Cost of Funds Index): 8개 은행의 자금조달 관련 정보를 기초로 산출되는 자금조달비용지수\n",
    "* <b>KORIBOR</b> : 은행간 만든 단기 기준금리\n",
    "* 단기투자상품 CD, CP,PR\n",
    "  - <b>CD</b>(Certificate of Deposit) : 양도성예금증서\n",
    "  - <b>CP</b>(Commercial Paper) : 기업어음 \n",
    "  - <b>RP</b>(Repurchase Agreements) : 환매조건부채권 "
   ]
  },
  {
   "cell_type": "code",
   "execution_count": 15,
   "id": "graduate-percentage",
   "metadata": {},
   "outputs": [],
   "source": [
    "#-------기준금리에 따른 시장금리 변화 비교 ------------"
   ]
  },
  {
   "cell_type": "code",
   "execution_count": 16,
   "id": "loose-candidate",
   "metadata": {},
   "outputs": [
    {
     "data": {
      "image/png": "[encoded data removed]",
      "text/plain": [
       "<Figure size 864x288 with 1 Axes>"
      ]
     },
     "metadata": {},
     "output_type": "display_data"
    }
   ],
   "source": [
    "plt.rcParams[\"figure.figsize\"] = (12, 4)\n",
    "df[['CD(91일)','CP(91일)',  '통안증권(91일)','저축성수신', '기업대출', '가계대출']].plot()\n",
    "plt.show()"
   ]
  },
  {
   "cell_type": "code",
   "execution_count": 19,
   "id": "656f7db4-70fc-4c1a-8389-5c1efe15ddaf",
   "metadata": {},
   "outputs": [
    {
     "data": {
      "text/plain": [
       "Index(['항목명1', '원/미국달러(매매기준율)', '원/위안(매매기준율)', '원/일본엔(100엔)', 'CD(91일)',\n",
       "       'CP(91일)', '국고채(5년)', '국고채(50년)', '통안증권(91일)', '한국', '중국', '일본', '미국',\n",
       "       '저축성수신', '기업대출', '가계대출', '원화대출금(계)'],\n",
       "      dtype='object')"
      ]
     },
     "execution_count": 19,
     "metadata": {},
     "output_type": "execute_result"
    }
   ],
   "source": [
    "df.columns"
   ]
  },
  {
   "cell_type": "markdown",
   "id": "675e5048-e435-467d-af59-eaddd76604b8",
   "metadata": {
    "tags": []
   },
   "source": [
    "## 기준금리 변화에 따른 채권금리 변화율"
   ]
  },
  {
   "cell_type": "code",
   "execution_count": 22,
   "id": "cfddbe37-3b8d-4c01-afe0-0cacaa4f3f95",
   "metadata": {},
   "outputs": [
    {
     "data": {
      "text/plain": [
       "<matplotlib.axes._subplots.AxesSubplot at 0x1bc7f9e4370>"
      ]
     },
     "execution_count": 22,
     "metadata": {},
     "output_type": "execute_result"
    },
    {
     "data": {
      "image/png": "[encoded data removed]",
      "text/plain": [
       "<Figure size 864x288 with 1 Axes>"
      ]
     },
     "metadata": {},
     "output_type": "display_data"
    }
   ],
   "source": [
    "df[['한국','국고채(5년)', '통안증권(91일)']].fillna(0).plot()"
   ]
  },
  {
   "cell_type": "markdown",
   "id": "5b89af6d-b541-45cf-b27a-ce48b1828386",
   "metadata": {},
   "source": [
    "## 기준금리 변화에 따른 대출 증감률"
   ]
  },
  {
   "cell_type": "code",
   "execution_count": 23,
   "id": "e8c5fbe2-0186-4de8-8258-59965a9d056a",
   "metadata": {},
   "outputs": [
    {
     "name": "stdout",
     "output_type": "stream",
     "text": [
      "<class 'pandas.core.frame.DataFrame'>\n",
      "RangeIndex: 134 entries, 0 to 133\n",
      "Data columns (total 3 columns):\n",
      " #   Column                                       Non-Null Count  Dtype  \n",
      "---  ------                                       --------------  -----  \n",
      " 0   (통계표, 항목명1, 변환)                              134 non-null    object \n",
      " 1   (2.5.한국은행 원화대출금(말잔), 원화대출금(계), 전기대비증감률)      134 non-null    float64\n",
      " 2   (2.6.한국은행 기준금리 및 여수신금리, 한국은행 기준금리, 전기대비증감률)  134 non-null    float64\n",
      "dtypes: float64(2), object(1)\n",
      "memory usage: 3.3+ KB\n",
      "None\n"
     ]
    },
    {
     "data": {
      "text/html": [
       "<div>\n",
       "<style scoped>\n",
       "    .dataframe tbody tr th:only-of-type {\n",
       "        vertical-align: middle;\n",
       "    }\n",
       "\n",
       "    .dataframe tbody tr th {\n",
       "        vertical-align: top;\n",
       "    }\n",
       "\n",
       "    .dataframe thead tr th {\n",
       "        text-align: left;\n",
       "    }\n",
       "</style>\n",
       "<table border=\"1\" class=\"dataframe\">\n",
       "  <thead>\n",
       "    <tr>\n",
       "      <th></th>\n",
       "      <th>통계표</th>\n",
       "      <th>2.5.한국은행 원화대출금(말잔)</th>\n",
       "      <th>2.6.한국은행 기준금리 및 여수신금리</th>\n",
       "    </tr>\n",
       "    <tr>\n",
       "      <th></th>\n",
       "      <th>항목명1</th>\n",
       "      <th>원화대출금(계)</th>\n",
       "      <th>한국은행 기준금리</th>\n",
       "    </tr>\n",
       "    <tr>\n",
       "      <th></th>\n",
       "      <th>변환</th>\n",
       "      <th>전기대비증감률</th>\n",
       "      <th>전기대비증감률</th>\n",
       "    </tr>\n",
       "  </thead>\n",
       "  <tbody>\n",
       "    <tr>\n",
       "      <th>0</th>\n",
       "      <td>Jan-11</td>\n",
       "      <td>-5.0122</td>\n",
       "      <td>10.0000</td>\n",
       "    </tr>\n",
       "    <tr>\n",
       "      <th>1</th>\n",
       "      <td>Feb-11</td>\n",
       "      <td>0.0059</td>\n",
       "      <td>0.0000</td>\n",
       "    </tr>\n",
       "    <tr>\n",
       "      <th>2</th>\n",
       "      <td>Mar-11</td>\n",
       "      <td>-0.9772</td>\n",
       "      <td>9.0909</td>\n",
       "    </tr>\n",
       "    <tr>\n",
       "      <th>3</th>\n",
       "      <td>Apr-11</td>\n",
       "      <td>-3.9622</td>\n",
       "      <td>0.0000</td>\n",
       "    </tr>\n",
       "    <tr>\n",
       "      <th>4</th>\n",
       "      <td>May-11</td>\n",
       "      <td>-3.0950</td>\n",
       "      <td>0.0000</td>\n",
       "    </tr>\n",
       "  </tbody>\n",
       "</table>\n",
       "</div>"
      ],
      "text/plain": [
       "      통계표 2.5.한국은행 원화대출금(말잔) 2.6.한국은행 기준금리 및 여수신금리\n",
       "     항목명1           원화대출금(계)             한국은행 기준금리\n",
       "       변환            전기대비증감률               전기대비증감률\n",
       "0  Jan-11            -5.0122               10.0000\n",
       "1  Feb-11             0.0059                0.0000\n",
       "2  Mar-11            -0.9772                9.0909\n",
       "3  Apr-11            -3.9622                0.0000\n",
       "4  May-11            -3.0950                0.0000"
      ]
     },
     "execution_count": 23,
     "metadata": {},
     "output_type": "execute_result"
    }
   ],
   "source": [
    "df = pd.read_csv('./datasets/lec02_금리_3.csv', \n",
    "                 encoding='cp949', \n",
    "                 thousands=',',\n",
    "                 header=[0,1,3]\n",
    "                )\n",
    "print(df.info())\n",
    "df.head()"
   ]
  },
  {
   "cell_type": "code",
   "execution_count": 24,
   "id": "471b05a9-e40f-4690-b78a-8049efc327c1",
   "metadata": {},
   "outputs": [
    {
     "data": {
      "text/html": [
       "<div>\n",
       "<style scoped>\n",
       "    .dataframe tbody tr th:only-of-type {\n",
       "        vertical-align: middle;\n",
       "    }\n",
       "\n",
       "    .dataframe tbody tr th {\n",
       "        vertical-align: top;\n",
       "    }\n",
       "\n",
       "    .dataframe thead th {\n",
       "        text-align: right;\n",
       "    }\n",
       "</style>\n",
       "<table border=\"1\" class=\"dataframe\">\n",
       "  <thead>\n",
       "    <tr style=\"text-align: right;\">\n",
       "      <th></th>\n",
       "      <th>원화대출금(계)</th>\n",
       "      <th>한국은행 기준금리</th>\n",
       "    </tr>\n",
       "    <tr>\n",
       "      <th>항목명1</th>\n",
       "      <th></th>\n",
       "      <th></th>\n",
       "    </tr>\n",
       "  </thead>\n",
       "  <tbody>\n",
       "    <tr>\n",
       "      <th>Jan-11</th>\n",
       "      <td>-5.0122</td>\n",
       "      <td>10.0000</td>\n",
       "    </tr>\n",
       "    <tr>\n",
       "      <th>Feb-11</th>\n",
       "      <td>0.0059</td>\n",
       "      <td>0.0000</td>\n",
       "    </tr>\n",
       "    <tr>\n",
       "      <th>Mar-11</th>\n",
       "      <td>-0.9772</td>\n",
       "      <td>9.0909</td>\n",
       "    </tr>\n",
       "    <tr>\n",
       "      <th>Apr-11</th>\n",
       "      <td>-3.9622</td>\n",
       "      <td>0.0000</td>\n",
       "    </tr>\n",
       "    <tr>\n",
       "      <th>May-11</th>\n",
       "      <td>-3.0950</td>\n",
       "      <td>0.0000</td>\n",
       "    </tr>\n",
       "  </tbody>\n",
       "</table>\n",
       "</div>"
      ],
      "text/plain": [
       "        원화대출금(계)  한국은행 기준금리\n",
       "항목명1                       \n",
       "Jan-11   -5.0122    10.0000\n",
       "Feb-11    0.0059     0.0000\n",
       "Mar-11   -0.9772     9.0909\n",
       "Apr-11   -3.9622     0.0000\n",
       "May-11   -3.0950     0.0000"
      ]
     },
     "execution_count": 24,
     "metadata": {},
     "output_type": "execute_result"
    }
   ],
   "source": [
    "df.columns = df.columns.droplevel([0,2])\n",
    "df = df.set_index('항목명1')\n",
    "df.head()"
   ]
  },
  {
   "cell_type": "code",
   "execution_count": 25,
   "id": "01b5271e-f00d-48e2-9be4-37e10ee13f1d",
   "metadata": {},
   "outputs": [
    {
     "data": {
      "image/png": "[encoded data removed]",
      "text/plain": [
       "<Figure size 864x288 with 1 Axes>"
      ]
     },
     "metadata": {},
     "output_type": "display_data"
    }
   ],
   "source": [
    "plt.rcParams[\"figure.figsize\"] = (12, 4)\n",
    "df.plot()\n",
    "plt.show()"
   ]
  },
  {
   "cell_type": "code",
   "execution_count": null,
   "id": "6dd37e2a-abd1-44a0-8890-f5ff0afb6768",
   "metadata": {},
   "outputs": [],
   "source": []
  }
 ],
 "metadata": {
  "kernelspec": {
   "display_name": "Python 3 (ipykernel)",
   "language": "python",
   "name": "python3"
  },
  "language_info": {
   "codemirror_mode": {
    "name": "ipython",
    "version": 3
   },
   "file_extension": ".py",
   "mimetype": "text/x-python",
   "name": "python",
   "nbconvert_exporter": "python",
   "pygments_lexer": "ipython3",
   "version": "3.8.8"
  },
  "toc-autonumbering": true
 },
 "nbformat": 4,
 "nbformat_minor": 5
}
