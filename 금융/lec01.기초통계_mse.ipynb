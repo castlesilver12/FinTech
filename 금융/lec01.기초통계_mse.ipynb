{
 "cells": [
  {
   "cell_type": "markdown",
   "id": "f93a3fcb-06c6-41d1-8723-c73e15aae360",
   "metadata": {
    "tags": []
   },
   "source": [
    "<font size=6><b> lec01. 기초통계(statistics)\n",
    "* ref : https://wikidocs.net/48105\n",
    "* ref : https://angeloyeo.github.io/2020/09/07/basic_vector_operation.html"
   ]
  },
  {
   "cell_type": "markdown",
   "id": "4cf22f9c-e139-47c2-a0e2-92a9b2734445",
   "metadata": {},
   "source": [
    "# 데이터 분석 기법"
   ]
  },
  {
   "cell_type": "markdown",
   "id": "89f5c93c-3736-4272-bfef-b38a48f3f304",
   "metadata": {
    "jp-MarkdownHeadingCollapsed": true,
    "tags": []
   },
   "source": [
    "<font size=3 color=blue><b>1.1. 시각화</b></font><hr>\n",
    "<ul>\n",
    "<li>가장 낮은 수준의 분석이지만 잘 이용하면 효율적 </li>\n",
    "<li>빅데이터 분석, 탐색적 분석시 시각화는 필수</li>\n",
    "<li>ex) 차트, 도표 등 </li>\n",
    "</ul>\n",
    "<font size=3 color=blue><b>1.2. 공간분석</b></font><hr>\n",
    "<ul>\n",
    "<li>공간적 차원과 관련된 속성들을 시각화하는 분석</li>\n",
    "<li>지도 위에 관련된 속성들을 생성하고 크기모양 선 굵기 등을 구분하여 인사이트를 얻음 </li>\n",
    "<li>ex) 지도위의 자동차 운행 상황 등 </li>\n",
    "</ul>\n",
    "<font size=3 color=blue><b>1.3. 탐색적 자료 분석(EDA)</b></font><hr>\n",
    "<ul>\n",
    "<li>다양한 차원과 값을 조합해 가며 특이점이나 의미있는 사실을 도출하는 과정 </li>\n",
    "<li>모형 개발에서 데이터 이해 및 변수 선택 단계에 이용 </li>\n",
    "<li>EDA의 4가지 주제<ul>\n",
    "<li>저항성의 강조<ul>\n",
    "<li>데이터 파손에 대한 저항성 </li>\n",
    "</ul>\n",
    "</li>\n",
    "<li>잔차(residual)계산<ul>\n",
    "<li>개별 관측값이 자료의 주경향으로 부터 얼마나 벗어났는지 확인 </li>\n",
    "</ul>\n",
    "</li>\n",
    "<li>자료변수의 재표현(re-expression)을 통한 다각적 시도 <ul>\n",
    "<li>분산등을 확인하여 자료 확인 </li>\n",
    "</ul>\n",
    "</li>\n",
    "<li>그래프를 통한 현시성(revelation)<ul>\n",
    "<li>그래프를 이용해 자료의 다양한 정보 확인  </li>\n",
    "</ul>\n",
    "</li>\n",
    "</ul>\n",
    "</li>\n",
    "</ul>\n",
    "<font size=3 color=blue><b>1.4. 데이터 마이닝</b></font><hr>\n",
    "<ul>\n",
    "<li><strong>대용량의 자료</strong>로부터 정보를 요약하고 <strong>관계, 패턴, 규칙</strong> 등을 탐색&모델링함으로써 <strong>유용한 지식추출이나 미래를 예측</strong>하는 분석 방법 </li>\n",
    "<li>방법론<ul>\n",
    "<li>기계학습<ul>\n",
    "</ul>\n",
    "</li>\n",
    "<li>패턴인식<ul>\n",
    "<li>연관규칙</li>\n",
    "<li>장바구니 분석 </li>\n",
    "</ul>\n",
    "</li>\n",
    "</ul>\n",
    "</li>\n",
    "<li>모델링 주의 사항<ul>\n",
    "<li>데이터마이닝 모델링은 통계적인 모델링이 아니므로 지나치게 통계적 가설이나 유의성에 집착하지 말아야 함 </li>\n",
    "<li>분석데이터를 학습 및 테스트 데이터로 6:4, 7:3, 8:2 비율로 상황에 맞게 실시</li>\n",
    "<li>성능에 집착하면 분석 모델링의 주목적인 실무 적용에 반하여 시간을 낭비할 수 있으므로 훈련 및 테스트 성능에 큰 폍차가 없고 예상 성능을 만족하면 중단 </li>\n",
    "<li>시간이 충분하면 여러가지 모델링을 적용하지만 일정한 성과가 나오면 활용 단계로 진행 </li>\n",
    "</ul>\n",
    "</li>\n",
    "</ul>\n",
    "<font size=3 color=blue><b>1.5. 통계분석</b></font><hr>\n",
    "<ul>\n",
    "<li>수치 데이터의 수집, 분석, 해석, 표현 등을 다루는 수학의 한 분야로 크게 기술 통계학과 추론 통계학으로 분류됨 </li>\n",
    "    <li><font color=red>기술통계(descriptive statistics)</font><ul>\n",
    "<li>모집단으로부터 표본을 추출 </li>\n",
    "<li>표본이 가지고 있는 정보를 쉽게 파악할 수 있도록 <strong>데이터를 정리하거나 요약</strong>하기 위해 하나의 숫자 또는 그래프의 형태로 표현하는 절차</li>\n",
    "</ul>\n",
    "<li><font color=red>추론통계</font><ul>\n",
    "    <li>모집단으로부터 추출된 표본의 표본통계량으로 부터 모집단의 특성인 <strong><font color=red>모수(모평균, 모분산, 모비율)</font>에 관해 통계적으로 <strong><font color=red>추론</font></strong>하는 절차 </li>\n",
    "</ul>\n",
    "</li>\n",
    "</ul>\n",
    "</div>"
   ]
  },
  {
   "cell_type": "markdown",
   "id": "8659895a-6a00-4217-be6a-f2da23db7761",
   "metadata": {
    "tags": []
   },
   "source": [
    "\n",
    "* 모집단: 모든 관측값 또는 분석 대상의 <font color=red><b>전체</b></font> 데이터를 의미\n",
    "* 표본: 모집단의 부분 집합으로, 분석 대상 중인 전체 데이터의 <font color=red><b>일부분</b></font>\n",
    "* <font color=red><b>모수: 모집단의 특징을 나타내는 수치값</b></font>\n",
    "* <font color=red><b>통계량: 표본의 특징을 나타내는 수치값으로, 모수 추정을 위해 사용</b></font><Br>\n",
    "          평균, 중앙값, 최빈값, 분산 등과 같은 데이터를 대표하는 값 <Br>\n",
    "          <font color=red><b>통계량이 실제 모집단을 대표하는 값이 될 때, 통계적 유의성을 확보할 수 있음</b></font><Br>\n",
    "<br><br>\n",
    "* <font color=blue><b>전수조사<b></font> : 관심 대상인 모집단의 특성 파악 --> 어려움\n",
    "* <font color=blue><b>표본추출 (sampling)<b></font> : 모집단으로부터 관련된 일부 자료(표본) 수집\n",
    "<br><br>       \n",
    "* <font color=red><b>추정량  : 모수(모집단의 통계량)를 추정하는 값 ex:표본평균, 표본분산</b></font><Br>\n",
    "* 편의(bias) : 추정량의 기댓값 - 모수        ex: 표본평균의 기댓값 - 모집단의 평균\n",
    "* <font color=red><b>편의 추정량(biased estimator) : n<b></font>\n",
    "* <font color=red><b>불편 추정량(unbiased estimator) : 편의가 없는 추정량, 기댓값=모수<b></font> \n",
    "    \n",
    "<br>    \n",
    "<img src=\"https://wikidocs.net/images/page/48105/%E1%84%80%E1%85%B3%E1%84%85%E1%85%B5%E1%86%B74.jpg\"><br>\n",
    "    \n",
    "<font color=blue><b>표본의 통계량을 가지고 모집단의 통계량(모수)를 추정</b></font><br>\n",
    "모집단의 평균 : μ<br>\n",
    "모집단의 분산 : σ^2<br>\n",
    "모집단의 표준편차 : σ<br>  \n",
    "표본의 평균 : $ \\overline {X}$<br>\n",
    "표본의 분산 : S^2<br>\n",
    "표본의 표준편차 : S<br>\n",
    "----\n",
    "<br>\n",
    "    \n",
    "    \n",
    "<img src=\"https://mblogthumb-phinf.pstatic.net/MjAyMDExMjZfMTk3/MDAxNjA2Mzg4NTUzMzIz.QGJEAWs9CH8a_16Gj7KTTKuQipuZQG4dR7RKJC2RVe8g.RM-7slHJxWPedDxRbplGd1chSMqDuhlcXIl6-pYYho8g.JPEG.sule544/SE-03e1aacd-9994-45c2-83d8-095846b4c5a5.jpg?type=w800\">\n",
    "\n",
    "\n"
   ]
  },
  {
   "cell_type": "code",
   "execution_count": null,
   "id": "9f7eee2b-4726-468d-9a20-93fca7510d23",
   "metadata": {},
   "outputs": [],
   "source": []
  },
  {
   "cell_type": "markdown",
   "id": "37b13f86-c9ad-41ce-935a-be6b83cb46af",
   "metadata": {},
   "source": [
    "# 샘플링"
   ]
  },
  {
   "cell_type": "markdown",
   "id": "8a308896-e10c-4c2f-8625-7e5017f40002",
   "metadata": {},
   "source": [
    "<img src=\"https://t1.daumcdn.net/cfile/tistory/2770EC4555BCEE110F\">"
   ]
  },
  {
   "cell_type": "code",
   "execution_count": 1,
   "id": "a5387fd9-ef9e-4d6c-9f79-62b803609ea4",
   "metadata": {},
   "outputs": [
    {
     "data": {
      "text/html": [
       "<style>.container{width:100% !important;}</style>"
      ],
      "text/plain": [
       "<IPython.core.display.HTML object>"
      ]
     },
     "metadata": {},
     "output_type": "display_data"
    }
   ],
   "source": [
    "import numpy as np\n",
    "import pandas as pd\n",
    "import matplotlib.pyplot as plt\n",
    "import seaborn as sns\n",
    "import warnings\n",
    "warnings.filterwarnings(action='ignore')\n",
    "\n",
    "#-------------------- 차트 관련 속성 (한글처리, 그리드) -----------\n",
    "#plt.rc('font', family='NanumGothicOTF') # For MacOS\n",
    "plt.rcParams['font.family']= 'Malgun Gothic'\n",
    "plt.rcParams['axes.unicode_minus'] = False\n",
    "sns.set()\n",
    "\n",
    "#-------------------- 주피터 , 출력결과 넓이 늘리기 ---------------\n",
    "from IPython.core.display import display, HTML\n",
    "display(HTML(\"<style>.container{width:100% !important;}</style>\"))\n",
    "pd.set_option('display.max_rows', 100)\n",
    "pd.set_option('display.max_columns', 100)\n",
    "pd.set_option('max_colwidth', None)"
   ]
  },
  {
   "cell_type": "markdown",
   "id": "6814fe73-01dc-4aa6-9a40-25a089f4d523",
   "metadata": {},
   "source": [
    "# SST = SSR + SSE"
   ]
  },
  {
   "cell_type": "markdown",
   "id": "0fc11a6c-9c19-4e2d-801d-9ce4e6bd4e51",
   "metadata": {},
   "source": [
    "<img src=\"https://img1.daumcdn.net/thumb/R1280x0/?scode=mtistory2&fname=https%3A%2F%2Fblog.kakaocdn.net%2Fdn%2FcNNyQR%2Fbtq1V1kKQ1D%2FP2QGNz6QPhKSQlhHc5BeWk%2Fimg.png\" width=500>"
   ]
  },
  {
   "cell_type": "markdown",
   "id": "ac6414eb-e5d7-49e4-8a9d-1d9ea745eecb",
   "metadata": {},
   "source": [
    "* SST = SSE + SSR\n",
    "    <pre>\n",
    "    * SSE(Explained Sum of Square)  + SSR(Residual Sum of Square)\n",
    "    * SSR(Regression Sum of Square) + SSE(Error Sum of Square)\n",
    "    \n",
    "* 회귀 모형 성능 검증지표\n",
    "    <pre>\n",
    "    *  R²(결정계수)\n",
    "        : 회귀모형이 실제값을 얼마나 잘 나타내는지에 대한 비율 (0~1)\n",
    "        : 독립변수 개수가 많은 모형의 경우 부적합\n",
    "        : 단점: 모형의 변수 개수가 증가할 때, 그 변수가 유의하지 않더라도 결정계수는 증가한다. \n",
    "    * R²adj(수정된 결정계수) = 결정계수의 단점을 보완함 → 수정된 결정계수는 결정계수보다 항상 작음\n",
    "        : 유의하지 않은 독립변수를 추가할수록, 패널티 부과 → 감소\n",
    "        : 모형이 유용한 독립변수를 추가할수록 → 증가\n",
    "        : 따라서, 독립변수 개수가 많은 모형에 적합!  \n",
    "    * Mallow's Cp = 적절하지 않은 독립변수 추가에 대한 패널티를 부과한 통계량\n",
    "        : 값이 작을수록, 실젯값을 잘 설명하는 모형임\n"
   ]
  },
  {
   "cell_type": "markdown",
   "id": "89ad61dc-f128-42a1-a706-e77406d24392",
   "metadata": {},
   "source": [
    "# 기초통계"
   ]
  },
  {
   "cell_type": "markdown",
   "id": "8df0c939-d97b-415f-99bc-c457740b7a99",
   "metadata": {},
   "source": [
    "|종류|구분|설명|수식|\n",
    "|----|----|---|---|\n",
    "|<font color=blue><b>중심화경향|<font color=red><b>*평균(Mean)|변량/변량갯수| $$E(X),\\overline{X},\\mu = \\displaystyle \\sum_{i=1}^{n} {x_i \\over n}$$ |\n",
    "||<b>중위수(Median)| 가장 중앙에 위치하는 값<br>  -작은 수에서 큰 수로 정렬<br>  -홀수인 경우, 한 가운데 값(n+1)/2<br>  -짝수인 경우, 가운데 두수합/2||\n",
    "||<b>최빈값(Mode)|가장 많이 관측되는 값||\n",
    "|<font color=blue><b>[퍼짐]<br>분산도<br>산포도|<b>편차(deviation)|변량 - 평균|$$(x_i-x)$$|\n",
    "| |<font color=red><b>*분산(Var, Variance)|편차(변량-평균) 제곱의 평균|$$\\sum_{i=1}^{n} {(x_{i}-\\mu)^{2} \\over n}$$|\n",
    "| |<font color=red><b>*표준편차<br>(SD, Standard Deviation)|분산의 제곱근(루트)<br>단일 표본 내의 변동성(값들의차이)을 측정|$$\\sigma(x)=\\sqrt{V(x)}$$|\n",
    "| |<b>상대표준편차<br>(RSD, Relative Standard Deviation)<br>변동계수<br>(CV, Coefficient of Variable)|표준편차/산술평균<br>편차를 평균을 기준으로 표준화 시킨 것|$$CV = {\\sigma\\over\\mu}$$|\n",
    "| |<font color=red><b>표준오차<br>(Standard Error)|표본평균의 표준편차(추정은 오차를 수반한다)<br>표본평균과 모집단평균과의 차이를 구하고 표준화한 것<br>여러 표본을 추출할 경우 표본 평균 간의 변동성을 추정|$$SE = {S_i\\over\\sqrt{n}}$$|\n",
    "| |<b>범위(Range)|최대값~최소값의차이|$$max(X) - min(X)$$|\n",
    "| |<b>사분위범위(IQR)|중앙값에서 데이터가 흩어진 정도|$$Q1-(1.5 \\times IQR)\\cdots Q3+(1.5 \\times IQR)$$|\n",
    "|<font color=blue><b>[모양]<br>비대칭도|<b>왜도(Skewness)|좌우대칭도|$$S_k = \\displaystyle \\sum_{i=1}^{n} { [ (X_i - \\overline{X}) / S]^3 \\over n-1}$$|\n",
    "| |<b>첨도(Kurtosis)|뾰족한 정도|$$K = \\displaystyle\\sum_{i=1}^{n} {[ (X_i - \\overline{X}) / S]^4\\over n-1}-3$$|\n",
    "|<font color=blue><b>분포|<b>정규분포<br>(Normal Distribution)|대표적인 연속 확률분포<br>평균을 중심으로 좌우대칭 형태 (모수/ 비모수)|$$\\frac{1}{\\sigma\\sqrt{2\\pi}}\\exp\\left(-\\frac{(x-\\mu)^2}{2\\sigma^2}\\right)$$|\n",
    "||<b>표준정규분포<br>(Standard Normal Distribution)<br><font color=red>Z분포|<b>표본평균의 확률분포</b><br>평균=0 분산=1인 정규분포<br>표본의 개수가 충분할 때(n>30)|$$ z_n=\\frac{X-\\mu}{\\sigma/\\sqrt(n)} = {{X-\\mu} \\over SE} $$|\n",
    "||<b><font color=red>t분포|<b>표본평균의 확률분포</b><br>Z분포와 X^2분포 간의 비율<br>평균=0 분산>1인 정규분포<br>표본의 개수가 부족할 때(n<=30)<br>(모집단은 정규분포를 이룬다는 가정)|$$ t_{n-1}=\\frac{X-\\mu}{s/\\sqrt(n)} = {{X-\\mu} \\over SE} $$|\n",
    "||<b><font color=red>카이제곱분포<br>($$ F = (\\nu_1 (chi^2),\\nu_2 (chi^2))$$)|<b>표본분산의 확률분포</b><br>z분포의 제곱에 대한 분포<br>한 집단의 분산<br>$$Chi^2 > 0$$|$$ \\chi^2 = \\sum_{i=1}^{n}x_i^2 $$|    \n",
    "||<b><font color=red>F분포|<b>표본분산의 확률분포</b><br>두 X^2 분포 간의 비율<br><b>두 집단의 분산(카이제곱분산)</b>|$$ F = (\\nu_1 (chi^2),\\nu_2 (chi^2))$$|        \n",
    "| |<b>중심극한의 정리<br>(CLT, Central Limit Theorem)|표본의 평균은 표본의 개수(n>30)가 커질수록, 정규분포에 근접한다||\n",
    "|<font color=blue><b>밀도함수|<b>확률질량함수<br>(PMF, probability mass function)|이산확률변수 X의 분포를 나타내는 함수<br>확률(P)=함수값||\n",
    "||<b>확률밀도함수<br>(PDF, probability density function)|연속확률변수 X의 분포를 나타내는 함수<br>확률(P)=함수의넓이||\n",
    "|<font color=blue><b>기타|<b>자유도<br>(Degree of Freedom)|통계적 매개변수를 추정할 때 달라질 수 있는 독립변수의 갯수<br>표본 n 개를 선택할 때에 마지막 1개는 모집단의 평균과 같아지도록 표본집합을 구성<br>표본 크기(n)가 커질수록 자유도 증가| $$(n-1)$$|\n",
    "\n",
    "    \n",
    "<br>\n",
    "* <font color=blue><b>기댓값</b></font> : 평균 중 아직 발생하지 않았지만 계산가능한 전체 사건의 평균 = 표본 집단의 평균값<br>    \n",
    "* <font color=blue><b>불편추정</b></font> : 편의(bias)가 없는 추정량<br>표본의 평균은 모집단의 평균에 대해 클 수도 적을 수도 있으나 그 가능성은 공평하다<br>\n",
    "* <font color=blue><b>편향</b></font>     : 표본의 분산(개별값 제곱)은 모집단의 분산보다 항상 작아지는 경향을 보인다<br>\n",
    "   "
   ]
  },
  {
   "cell_type": "markdown",
   "id": "eead4801-bbf2-4bd4-b7e6-c25d5b552288",
   "metadata": {},
   "source": [
    "ref : https://hsm-edu.tistory.com/1185?category=930604<br>\n",
    "모집단의 평균\n",
    "$\\bar{X}=\\frac{\\sum_{i=1}^{n}x_{i}}{n}$\n",
    "\n",
    "표본평균의 기댓값 \n",
    "$E(\\bar{X})=E\\left (  \\frac{\\sum_{i=1}^{n}x_{i}}{n}\\right )$\n",
    "\n",
    "$\\frac{1}{n}$ 은 상수이므로 밖으로 꺼낸다 \n",
    "$E(\\bar{X})=\\frac{1}{n} E\\left ( \\sum_{i=1}^{n}x_{i} \\right )$\n",
    "\n",
    "우변의 괄호 안 수식 풀어 쓰기\n",
    "$E(\\bar{X})=\\frac{1}{n} E\\left ( x_{1}+x_{2}+...+x_{n} \\right )$ \n",
    "\n",
    "$E(\\bar{X})=\\frac{1}{n} \\left[ E\\left ( x_{1}\\right )+E\\left ( x_{2}\\right )+...+E\\left ( x_{n}\\right ) \\right]$\n",
    "\n",
    "각각은 모집단의 평균과 같다\n",
    "$E(\\bar{X})=\\frac{1}{n} \\left[ n\\mu \\right]$\n",
    "\n",
    "아래 등식이 유도\n",
    "$E(\\bar{X})=\\mu$"
   ]
  },
  {
   "cell_type": "markdown",
   "id": "0fa4637f-39c2-4c9d-9875-7194ee378d31",
   "metadata": {},
   "source": [
    "* image ref : https://learnx.tistory.com/51 <br>\n",
    "<img src=\"https://img1.daumcdn.net/thumb/R1280x0/?scode=mtistory2&fname=http%3A%2F%2Fcfile3.uf.tistory.com%2Fimage%2F276E5D47566A1CA3295C43\" width=800><br>\n",
    "<img src=\"https://img1.daumcdn.net/thumb/R1280x0/?scode=mtistory2&fname=http%3A%2F%2Fcfile24.uf.tistory.com%2Fimage%2F25059147566A1CA419A821\" width=800><br>"
   ]
  },
  {
   "cell_type": "markdown",
   "id": "0bb82b6e-8803-4918-9700-17f91d049058",
   "metadata": {},
   "source": [
    "## 평균"
   ]
  },
  {
   "cell_type": "code",
   "execution_count": 2,
   "id": "50c1b106-8ec8-4336-b3a8-5458b6d15c5a",
   "metadata": {},
   "outputs": [
    {
     "name": "stdout",
     "output_type": "stream",
     "text": [
      "평균(𝜇) 2.0\n"
     ]
    }
   ],
   "source": [
    "list = [1,1,1,2,3,4]\n",
    "# --------------------------------------------------\n",
    "# 평균(mean,average)     변량합/변량갯수 \n",
    "# --------------------------------------------------\n",
    "평균 = (1+1+1+2+3+4) / 6    \n",
    "print('평균(𝜇)', 평균)\n"
   ]
  },
  {
   "cell_type": "markdown",
   "id": "931f4c39-48fd-4a28-87d3-c1e56d70c573",
   "metadata": {},
   "source": [
    "## 편차"
   ]
  },
  {
   "cell_type": "code",
   "execution_count": 3,
   "id": "418bc4af-f637-4b6e-bc1a-f743630b0d4d",
   "metadata": {},
   "outputs": [
    {
     "name": "stdout",
     "output_type": "stream",
     "text": [
      "[-1.0, -1.0, -1.0, 0.0, 1.0, 2.0]\n"
     ]
    }
   ],
   "source": [
    "# --------------------------------------------------\n",
    "# 편차(dev, deviation)  변량-평균\n",
    "# --------------------------------------------------\n",
    "편차 = []\n",
    "for num in list:\n",
    "    편차.append(num-평균)\n",
    "print(편차)"
   ]
  },
  {
   "cell_type": "markdown",
   "id": "9a94d88f-a033-46e5-bbae-2b3412c9620c",
   "metadata": {},
   "source": [
    "## 분산"
   ]
  },
  {
   "cell_type": "code",
   "execution_count": 4,
   "id": "fa67eae1-7986-47da-ae78-1e25e0dd8d83",
   "metadata": {},
   "outputs": [
    {
     "name": "stdout",
     "output_type": "stream",
     "text": [
      "편차제곱합 8.0\n",
      "모집단 분산(𝜎^2)=편차제곱평균 1.3333333333333333\n",
      "샘플   분산(S^2)=편차제곱평균 1.6\n"
     ]
    }
   ],
   "source": [
    "# --------------------------------------------------\n",
    "# 분산(var, variance)   편차(변량-평균) 제곱 합의 평균    \n",
    "# --------------------------------------------------\n",
    "dev_sum =0\n",
    "for i in 편차:  #[-1.0, -1.0, -1.0, 0.0, 1.0, 2.0]\n",
    "    dev_sum = dev_sum + (i**2) \n",
    "print('편차제곱합', dev_sum)\n",
    "\n",
    "분산    = dev_sum/6\n",
    "표본분산 = dev_sum/(6-1)\n",
    "print('모집단 분산(𝜎^2)=편차제곱평균' , 분산)\n",
    "print('샘플   분산(S^2)=편차제곱평균' , 표본분산)"
   ]
  },
  {
   "cell_type": "markdown",
   "id": "c8034faf-f539-4288-b9b2-a88f73209e17",
   "metadata": {},
   "source": [
    "## 표준편차"
   ]
  },
  {
   "cell_type": "code",
   "execution_count": 5,
   "id": "620fe3bb-5d50-4804-bd30-1199ce045ad7",
   "metadata": {},
   "outputs": [
    {
     "name": "stdout",
     "output_type": "stream",
     "text": [
      "모집단 표준편차(𝜎) 1.1547005383792515\n",
      "샘플   표준편차(S) 1.2649110640673518\n"
     ]
    }
   ],
   "source": [
    "# --------------------------------------------------\n",
    "# 표준편차(std, standard deviation)\t분산의 제곱근(루트)\n",
    "# --------------------------------------------------\n",
    "print('모집단 표준편차(𝜎)', np.sqrt(분산))\n",
    "print('샘플   표준편차(S)'  , np.sqrt(표본분산))"
   ]
  },
  {
   "cell_type": "code",
   "execution_count": 6,
   "id": "b33d7cfb-5aae-4953-a84d-b5d878c691c4",
   "metadata": {},
   "outputs": [
    {
     "data": {
      "text/plain": [
       "count    6.000000\n",
       "mean     2.000000\n",
       "std      1.264911\n",
       "min      1.000000\n",
       "25%      1.000000\n",
       "50%      1.500000\n",
       "75%      2.750000\n",
       "max      4.000000\n",
       "dtype: float64"
      ]
     },
     "execution_count": 6,
     "metadata": {},
     "output_type": "execute_result"
    }
   ],
   "source": [
    "pd.Series(list).describe()"
   ]
  },
  {
   "cell_type": "markdown",
   "id": "832dcba4-7f08-462e-9673-4ab33a89cd70",
   "metadata": {
    "tags": []
   },
   "source": [
    "## 공분산&상관계수\n",
    "* <font color=red><b>공분산은 선형적인 관계를 측정하기 때문에 두 변수가 비선형적으로 함께 변하는 경우는 잘 측정하지 못함</b></font>\n",
    "\n",
    "<pre>\n",
    "* 부호:\n",
    "    공분산이 +인 경우: 두 변수가 같은 방향으로 변화(하나가 증가하면 다른 하나도 증가)\n",
    "    공분산이 -인 경우: 두 변수가 반대 방향으로 변화(하나가 증가하면 다른 하나는 감소)\n",
    "\n",
    "* 크기:\n",
    "    0이면 두 변수가 독립, 즉, 한 변수의 변화로 다른 변수의 변화를 예측하지 못함\n",
    "    크기가 클 수록 두 변수는 함께 많이 변화\n",
    "    <font color=red><b>단위에 따라 공분산의 크기가 달라지므로 절대적 크기로 판단이 어려움 --> 상관계수 필요\n",
    "    공분산을 -1 ~ 1 범위로 표준화 시킨 것이 상관계수\n",
    "    </b></font>"
   ]
  },
  {
   "cell_type": "code",
   "execution_count": 173,
   "id": "a0f795b5-5bfd-4015-a9e9-b969f22661c0",
   "metadata": {},
   "outputs": [
    {
     "data": {
      "text/plain": [
       "[<matplotlib.lines.Line2D at 0x164bf8b2790>]"
      ]
     },
     "execution_count": 173,
     "metadata": {},
     "output_type": "execute_result"
    },
    {
     "data": {
      "image/png": "[encoded data removed]",
      "text/plain": [
       "<Figure size 432x288 with 1 Axes>"
      ]
     },
     "metadata": {
      "needs_background": "light"
     },
     "output_type": "display_data"
    }
   ],
   "source": [
    "x = [8, 3, 6, 6, 9, 4, 3, 9, 3, 4]\n",
    "y = [6, 2, 4, 6, 10, 5, 1, 8, 4, 5]\n",
    "import matplotlib.pyplot as plt\n",
    "plt.plot(x, y, 'o')"
   ]
  },
  {
   "cell_type": "code",
   "execution_count": 175,
   "id": "c830d2bb-0f8e-4330-8eea-01c8ae428440",
   "metadata": {},
   "outputs": [
    {
     "name": "stdout",
     "output_type": "stream",
     "text": [
      "공분산 : [[6.05555556 5.61111111]\n",
      " [5.61111111 6.98888889]]\n",
      "\n",
      "상관계수 : [[1.         0.86251728]\n",
      " [0.86251728 1.        ]]\n"
     ]
    }
   ],
   "source": [
    "import numpy as np\n",
    "print( f\"공분산 : {np.cov(x, y)}\")\n",
    "print()\n",
    "print( f\"상관계수 : {np.corrcoef(x, y)}\")"
   ]
  },
  {
   "cell_type": "code",
   "execution_count": 178,
   "id": "1ea5a7e7-2829-4c85-858b-68bd94ab6ea6",
   "metadata": {},
   "outputs": [
    {
     "data": {
      "text/plain": [
       "0.8625172792135778"
      ]
     },
     "execution_count": 178,
     "metadata": {},
     "output_type": "execute_result"
    }
   ],
   "source": [
    "cov = np.cov(x, y)[0, 1]  # 공분산\n",
    "xsd = np.std(x, ddof=1)   # x의 표본표준편차\n",
    "ysd = np.std(y, ddof=1)   # y의 표본표준편차\n",
    "cov / ( xsd * ysd )"
   ]
  },
  {
   "cell_type": "code",
   "execution_count": null,
   "id": "9f45428e-fdee-4553-b533-74339a973a23",
   "metadata": {},
   "outputs": [],
   "source": []
  },
  {
   "cell_type": "code",
   "execution_count": 176,
   "id": "99d5c84b-5b96-40ca-9fc3-e95d734e13d6",
   "metadata": {},
   "outputs": [
    {
     "data": {
      "text/plain": [
       "[<matplotlib.lines.Line2D at 0x164bf8f9a90>]"
      ]
     },
     "execution_count": 176,
     "metadata": {},
     "output_type": "execute_result"
    },
    {
     "data": {
      "image/png": "[encoded data removed]",
      "text/plain": [
       "<Figure size 432x288 with 1 Axes>"
      ]
     },
     "metadata": {
      "needs_background": "light"
     },
     "output_type": "display_data"
    }
   ],
   "source": [
    "# y = x^2\n",
    "xx = [-3, -2, -1, 0, 1, 2, 3]\n",
    "yy = [9, 4, 1, 0, 1, 4, 9]\n",
    "import matplotlib.pyplot as plt\n",
    "plt.plot(xx, yy, 'o')"
   ]
  },
  {
   "cell_type": "code",
   "execution_count": 177,
   "id": "295db125-ae56-440c-97b2-f369e3e6d6e4",
   "metadata": {},
   "outputs": [
    {
     "name": "stdout",
     "output_type": "stream",
     "text": [
      "공분산 : [[ 4.66666667  0.        ]\n",
      " [ 0.         14.        ]]\n",
      "\n",
      "상관계수 : [[1. 0.]\n",
      " [0. 1.]]\n"
     ]
    }
   ],
   "source": [
    "print( f\"공분산 : {np.cov(xx, yy)}\")\n",
    "print()\n",
    "print( f\"상관계수 : {np.corrcoef(xx, yy)}\")"
   ]
  },
  {
   "cell_type": "markdown",
   "id": "b6023baf-ddad-4551-95c3-c688ddb86c36",
   "metadata": {},
   "source": [
    "## 평균, 중앙, 최빈"
   ]
  },
  {
   "cell_type": "markdown",
   "id": "8037d246-e445-46d2-88db-4bad19690a40",
   "metadata": {},
   "source": [
    "* 통계 모델은 수학적 모델    -->  변수들로 이루어진 수학식을 계산해 <font color=red>실제 값을 추정하는 방법</font>\n",
    "* 통계 모델을 이루는 여러 가정은 <font color=red>확률 분포를 따름</font>\n",
    "* 통계 모델은 모든 변수가 만족해야 하는 기본 가정으로 시작하며, 이 조건이 만족할 때만 모델의 성능이 통계학적으로 의미를 가짐 \n"
   ]
  },
  {
   "cell_type": "markdown",
   "id": "2b34b281-797f-4dc7-91f6-8008d019cfc2",
   "metadata": {},
   "source": [
    "<img src=\"https://t1.daumcdn.net/cfile/blog/2713FF4F54B8C0BF10\" width=600>"
   ]
  },
  {
   "cell_type": "code",
   "execution_count": 7,
   "id": "abdcb1ae-f8b9-479f-a096-ca1c32b8a414",
   "metadata": {},
   "outputs": [
    {
     "name": "stdout",
     "output_type": "stream",
     "text": [
      "평균값:49.6896\n",
      "중앙값:50.0\n",
      "최빈값:[98] 최빈값빈도[135]\n"
     ]
    }
   ],
   "source": [
    "import numpy as np\n",
    "from scipy import stats\n",
    "np.random.seed(1234)\n",
    "data = np.random.randint(0,100,10000)\n",
    "\n",
    "mean = np.mean(data)\n",
    "print(f\"평균값:{mean}\")\n",
    "median = np.median(data)\n",
    "print(f\"중앙값:{median}\")\n",
    "mode = stats.mode(data)\n",
    "print(f\"최빈값:{mode[0]} 최빈값빈도{mode[1]}\")\n"
   ]
  },
  {
   "cell_type": "markdown",
   "id": "a8247377-0d27-439b-9b91-d13a84c783f8",
   "metadata": {},
   "source": [
    "## 왜도 첨도"
   ]
  },
  {
   "cell_type": "markdown",
   "id": "3298c295-fb61-4016-9e32-ce445cb5ba70",
   "metadata": {},
   "source": [
    "- 왜도(Skewness) : 중심축을 기준으로 어느 한쪽으로 치우친 정도\n",
    "- 첨도(Kurtosis) : 정점의 x좌표는 같고 정점의 y좌표가 얼마나 높고 낮은가(뾰족한 정도)를 보여주는 척도"
   ]
  },
  {
   "cell_type": "code",
   "execution_count": 8,
   "id": "3d6d0ba8-872b-4a45-b5e7-8783f28c78e1",
   "metadata": {},
   "outputs": [],
   "source": [
    "import matplotlib.pyplot as plt\n",
    "# 부드러운 그래프를 그린다.\n",
    "from scipy.interpolate import make_interp_spline\n",
    "# plt.rc('font', family='NanumGothic')"
   ]
  },
  {
   "cell_type": "code",
   "execution_count": 9,
   "id": "77019d89-8f66-45fd-9d0b-31ddcb2a5a45",
   "metadata": {},
   "outputs": [
    {
     "data": {
      "text/html": [
       "<div>\n",
       "<style scoped>\n",
       "    .dataframe tbody tr th:only-of-type {\n",
       "        vertical-align: middle;\n",
       "    }\n",
       "\n",
       "    .dataframe tbody tr th {\n",
       "        vertical-align: top;\n",
       "    }\n",
       "\n",
       "    .dataframe thead th {\n",
       "        text-align: right;\n",
       "    }\n",
       "</style>\n",
       "<table border=\"1\" class=\"dataframe\">\n",
       "  <thead>\n",
       "    <tr style=\"text-align: right;\">\n",
       "      <th></th>\n",
       "      <th>X</th>\n",
       "      <th>f1</th>\n",
       "      <th>f2</th>\n",
       "      <th>f3</th>\n",
       "      <th>f4</th>\n",
       "    </tr>\n",
       "  </thead>\n",
       "  <tbody>\n",
       "    <tr>\n",
       "      <th>0</th>\n",
       "      <td>0</td>\n",
       "      <td>1</td>\n",
       "      <td>1</td>\n",
       "      <td>1</td>\n",
       "      <td>1</td>\n",
       "    </tr>\n",
       "    <tr>\n",
       "      <th>1</th>\n",
       "      <td>10</td>\n",
       "      <td>3</td>\n",
       "      <td>2</td>\n",
       "      <td>3</td>\n",
       "      <td>1</td>\n",
       "    </tr>\n",
       "    <tr>\n",
       "      <th>2</th>\n",
       "      <td>20</td>\n",
       "      <td>6</td>\n",
       "      <td>3</td>\n",
       "      <td>15</td>\n",
       "      <td>2</td>\n",
       "    </tr>\n",
       "    <tr>\n",
       "      <th>3</th>\n",
       "      <td>30</td>\n",
       "      <td>11</td>\n",
       "      <td>6</td>\n",
       "      <td>25</td>\n",
       "      <td>3</td>\n",
       "    </tr>\n",
       "    <tr>\n",
       "      <th>4</th>\n",
       "      <td>40</td>\n",
       "      <td>17</td>\n",
       "      <td>10</td>\n",
       "      <td>20</td>\n",
       "      <td>5</td>\n",
       "    </tr>\n",
       "  </tbody>\n",
       "</table>\n",
       "</div>"
      ],
      "text/plain": [
       "    X  f1  f2  f3  f4\n",
       "0   0   1   1   1   1\n",
       "1  10   3   2   3   1\n",
       "2  20   6   3  15   2\n",
       "3  30  11   6  25   3\n",
       "4  40  17  10  20   5"
      ]
     },
     "execution_count": 9,
     "metadata": {},
     "output_type": "execute_result"
    }
   ],
   "source": [
    "index_list = [0, 10, 20, 30, 40, 50, 60, 70, 80, 90, 100]\n",
    "freq1_list = [1, 3, 6, 11, 17, 24, 17, 11, 6, 3, 1]\n",
    "freq2_list = [1, 2, 3, 6, 10, 14, 20, 25, 15, 3, 1]\n",
    "freq3_list = [1, 3, 15, 25, 20, 14, 10, 6, 3, 2, 1]\n",
    "freq4_list = [1, 1, 2, 3, 5, 7, 10, 16, 23, 26, 6]\n",
    "df = pd.DataFrame({\"X\":index_list, \"f1\":freq1_list, \"f2\":freq2_list, \"f3\":freq3_list, \"f4\":freq4_list})\n",
    "df.head()"
   ]
  },
  {
   "cell_type": "code",
   "execution_count": 10,
   "id": "7eae5f42-77c3-47bf-9b14-82412948e2d6",
   "metadata": {},
   "outputs": [
    {
     "name": "stdout",
     "output_type": "stream",
     "text": [
      "column: f1 [0, 10, 10, 10, 20, 20, 20, 20, 20, 20, 30, 30, 30, 30, 30, 30, 30, 30, 30, 30, 30, 40, 40, 40, 40, 40, 40, 40, 40, 40, 40, 40, 40, 40, 40, 40, 40, 40, 50, 50, 50, 50, 50, 50, 50, 50, 50, 50, 50, 50, 50, 50, 50, 50, 50, 50, 50, 50, 50, 50, 50, 50, 60, 60, 60, 60, 60, 60, 60, 60, 60, 60, 60, 60, 60, 60, 60, 60, 60, 70, 70, 70, 70, 70, 70, 70, 70, 70, 70, 70, 80, 80, 80, 80, 80, 80, 90, 90, 90, 100] \n",
      " 최빈값:50, 중앙값: 50.0, 평균: 50.0, 표준편차: 19.39\n",
      "--------------------------------------------------------------------------------\n",
      "column: f2 [0, 10, 10, 20, 20, 20, 30, 30, 30, 30, 30, 30, 40, 40, 40, 40, 40, 40, 40, 40, 40, 40, 50, 50, 50, 50, 50, 50, 50, 50, 50, 50, 50, 50, 50, 50, 60, 60, 60, 60, 60, 60, 60, 60, 60, 60, 60, 60, 60, 60, 60, 60, 60, 60, 60, 60, 70, 70, 70, 70, 70, 70, 70, 70, 70, 70, 70, 70, 70, 70, 70, 70, 70, 70, 70, 70, 70, 70, 70, 70, 70, 80, 80, 80, 80, 80, 80, 80, 80, 80, 80, 80, 80, 80, 80, 80, 90, 90, 90, 100] \n",
      " 최빈값:70, 중앙값: 60.0, 평균: 58.8, 표준편차: 19.2\n",
      "--------------------------------------------------------------------------------\n",
      "column: f3 [0, 10, 10, 10, 20, 20, 20, 20, 20, 20, 20, 20, 20, 20, 20, 20, 20, 20, 20, 30, 30, 30, 30, 30, 30, 30, 30, 30, 30, 30, 30, 30, 30, 30, 30, 30, 30, 30, 30, 30, 30, 30, 30, 30, 40, 40, 40, 40, 40, 40, 40, 40, 40, 40, 40, 40, 40, 40, 40, 40, 40, 40, 40, 40, 50, 50, 50, 50, 50, 50, 50, 50, 50, 50, 50, 50, 50, 50, 60, 60, 60, 60, 60, 60, 60, 60, 60, 60, 70, 70, 70, 70, 70, 70, 80, 80, 80, 90, 90, 100] \n",
      " 최빈값:30, 중앙값: 40.0, 평균: 41.2, 표준편차: 19.2\n",
      "--------------------------------------------------------------------------------\n",
      "column: f4 [0, 10, 20, 20, 30, 30, 30, 40, 40, 40, 40, 40, 50, 50, 50, 50, 50, 50, 50, 60, 60, 60, 60, 60, 60, 60, 60, 60, 60, 70, 70, 70, 70, 70, 70, 70, 70, 70, 70, 70, 70, 70, 70, 70, 70, 80, 80, 80, 80, 80, 80, 80, 80, 80, 80, 80, 80, 80, 80, 80, 80, 80, 80, 80, 80, 80, 80, 80, 90, 90, 90, 90, 90, 90, 90, 90, 90, 90, 90, 90, 90, 90, 90, 90, 90, 90, 90, 90, 90, 90, 90, 90, 90, 90, 100, 100, 100, 100, 100, 100] \n",
      " 최빈값:90, 중앙값: 80.0, 평균: 71.9, 표준편차: 21.06\n",
      "--------------------------------------------------------------------------------\n"
     ]
    }
   ],
   "source": [
    "for col in [\"f1\", \"f2\", \"f3\", \"f4\"]:\n",
    "    raw_list = []\n",
    "    for i in range(len(df)):\n",
    "\n",
    "        X_list = [df.loc[i, \"X\"]] * df.loc[i, col]\n",
    "        raw_list = raw_list + X_list\n",
    "        \n",
    "    median = np.median(raw_list)\n",
    "    mean = np.mean(raw_list)\n",
    "    std = np.std(raw_list)\n",
    "    mode = np.bincount(raw_list).argmax()\n",
    "    print(f\"column: {col} {raw_list} \\n 최빈값:{mode}, 중앙값: {median}, 평균: {mean}, 표준편차: {np.round(std,2)}\")\n",
    "    print(\"----\"*20) "
   ]
  },
  {
   "cell_type": "markdown",
   "id": "9e44ffdc-6c39-4be2-b891-bfefacd81bdd",
   "metadata": {},
   "source": [
    "### 왜도 확인"
   ]
  },
  {
   "cell_type": "code",
   "execution_count": 11,
   "id": "a4e73330-1a69-4937-85ed-1e019f0cbd94",
   "metadata": {},
   "outputs": [],
   "source": [
    "def draw_Ske(data, column, title):\n",
    "    \"\"\"\n",
    "    도수분포다각형을 부드럽게 그리고, 최빈값, 중앙값, 평균을 점으로 찍고, 선을 그린다.\n",
    "    \"\"\"\n",
    "    x = data[\"X\"].to_numpy()\n",
    "    y = data[column].to_numpy()\n",
    "\n",
    "    fig = plt.figure(figsize=(6, 3))\n",
    "\n",
    "    # 부드러운 그래프를 그린다.\n",
    "    model=make_interp_spline(x,y)\n",
    "    xs=np.linspace(np.min(index_list),np.max(index_list),100)\n",
    "    ys=model(xs)\n",
    "    plt.plot(xs, ys)\n",
    "\n",
    "    # 최빈값, 중앙값, 평균 그리기\n",
    "    for col in [column]: # [\"f1\", \"f2\", \"f3\", \"f4\"]:\n",
    "        raw_list = []\n",
    "        for i in range(len(df)):\n",
    "\n",
    "            X_list = [df.loc[i, \"X\"]] * df.loc[i, col]\n",
    "            raw_list = raw_list + X_list\n",
    "\n",
    "        median = np.median(raw_list)\n",
    "        mean = np.mean(raw_list)\n",
    "        std = np.std(raw_list)\n",
    "        mode = np.bincount(raw_list).argmax()\n",
    "        \n",
    "        n = len(raw_list)\n",
    "        skew = n/((n-1)*(n-2))*np.sum(((raw_list - mean)/std)**3)\n",
    "        g2 = n/(n-1)**2*np.sum(((raw_list - mean)/std)**4) - 3\n",
    "        kurt = ((n-1)/((n-2)*(n-3)))*((n+1)*g2 + 6)\n",
    "        \n",
    "        # print(f\"column: {skew}, {kurt} {col} \\n 최빈값:{mode}, 중앙값: {median}, 평균: {mean}, 표준편차: {np.round(std,2)}\")\n",
    "        # print(\"----\"*20) \n",
    "\n",
    "    plt.scatter(mode, 1, c = \"r\", s = 100)\n",
    "    plt.axvline(x=mode, c = \"r\", linewidth = 1, alpha = 0.5)\n",
    "    plt.annotate(f'mode {mode}', xy=(mode+1, 1), xytext=(mode + 10, 0.5), fontsize = 15,\n",
    "                 arrowprops=dict(facecolor='black', width=1, headwidth=8))\n",
    "\n",
    "    plt.scatter(median, 3, c = \"g\", s = 100)\n",
    "    plt.axvline(x=median, c = \"g\", linewidth = 1, alpha = 0.5)\n",
    "    plt.annotate(f'median {median}', xy=(median+1, 3), xytext=(median + 10, 3.2), fontsize = 15,\n",
    "                 arrowprops=dict(facecolor='black', width=1, headwidth=8))\n",
    "\n",
    "    plt.scatter(mean, 5, c = \"y\", s = 100)\n",
    "    plt.axvline(x=mean, c = \"y\", linewidth = 1, alpha = 0.5)\n",
    "    plt.annotate(f'mean {mean}', xy=(mean+1, 5), xytext=(mean + 10, 6), fontsize = 15,\n",
    "                 arrowprops=dict(facecolor='black', width=1, headwidth=8))\n",
    "\n",
    "    plt.title(f\"{col}  skew:{skew:.4f},  kurt:{kurt:.4f}, mode:{mode}, median:{median}, mean:{mean}, std:{np.round(std,2)}\")\n",
    "    plt.show()"
   ]
  },
  {
   "cell_type": "code",
   "execution_count": 12,
   "id": "b58c9ec4-c303-461a-8b23-e1c2dcb9ae8d",
   "metadata": {},
   "outputs": [
    {
     "data": {
      "image/png": "[encoded data removed]",
      "text/plain": [
       "<Figure size 432x216 with 1 Axes>"
      ]
     },
     "metadata": {
      "needs_background": "light"
     },
     "output_type": "display_data"
    },
    {
     "data": {
      "image/png": "[encoded data removed]",
      "text/plain": [
       "<Figure size 432x216 with 1 Axes>"
      ]
     },
     "metadata": {
      "needs_background": "light"
     },
     "output_type": "display_data"
    },
    {
     "data": {
      "image/png": "[encoded data removed]",
      "text/plain": [
       "<Figure size 432x216 with 1 Axes>"
      ]
     },
     "metadata": {
      "needs_background": "light"
     },
     "output_type": "display_data"
    },
    {
     "data": {
      "image/png": "[encoded data removed]",
      "text/plain": [
       "<Figure size 432x216 with 1 Axes>"
      ]
     },
     "metadata": {
      "needs_background": "light"
     },
     "output_type": "display_data"
    }
   ],
   "source": [
    "draw_Ske(df, \"f1\", \"1. 대칭분포\")\n",
    "draw_Ske(df, \"f3\", \"1. 대칭분포\")\n",
    "draw_Ske(df, \"f2\", \"1. 대칭분포\")\n",
    "draw_Ske(df, \"f4\", \"1. 대칭분포\")"
   ]
  },
  {
   "cell_type": "markdown",
   "id": "c22b3211-c637-437c-86f0-48c94390c97a",
   "metadata": {},
   "source": [
    "### 첨도확인"
   ]
  },
  {
   "cell_type": "code",
   "execution_count": 13,
   "id": "aa1d4e84-d6be-4848-936b-645ecfeb82a0",
   "metadata": {},
   "outputs": [
    {
     "data": {
      "image/png": "[encoded data removed]",
      "text/plain": [
       "<Figure size 720x288 with 1 Axes>"
      ]
     },
     "metadata": {
      "needs_background": "light"
     },
     "output_type": "display_data"
    }
   ],
   "source": [
    "np.random.seed(1234)\n",
    "Normal_Dist0 = np.random.normal(loc = 0, scale = 0.4, size = 100000)\n",
    "Normal_Dist1 = np.random.normal(loc = 0, scale = 1, size = 100000)\n",
    "Normal_Dist2 = np.random.normal(loc = 0, scale = 2, size = 100000)\n",
    "fig = plt.figure(figsize=(10, 4))\n",
    "\n",
    "plt.hist(Normal_Dist0, density=True, bins=60, alpha=0.5, label=\"N(0, 0.4)\")\n",
    "plt.hist(Normal_Dist1, density=True, bins=60, alpha=0.5, label=\"N(0, 1)\")\n",
    "plt.hist(Normal_Dist2, density=True, bins=60, alpha=0.5, label=\"N(0, 2)\")\n",
    "plt.legend(loc=\"upper right\")\n",
    "plt.show()"
   ]
  },
  {
   "cell_type": "markdown",
   "id": "2c555086-f3d0-4482-80c8-a7ab45ac1f33",
   "metadata": {},
   "source": [
    "## 사분위수"
   ]
  },
  {
   "cell_type": "markdown",
   "id": "eb52b101-fdc5-4b29-8ff1-285417411d0a",
   "metadata": {},
   "source": [
    "* 변량의 측정: 산포는 데이터의 변량을 의미하며, 데이터가 얼마나 중심으로 모이지 않고 흩어져 있는지를 설명\n",
    "    * 분산: 평균과의 거리를 제곱한 값의 평균\n",
    "    * 표준편차: 분산의 제곱근\n",
    "---\n",
    "* 범위: 최대값과 최소값의 차이\n",
    "* 사분위수: 데이터를 4등분한 값. 25% 값을 1사분위수(Q1), 50% 값을 2사분위수 (Q2), 75% 값을 3사분위수(Q3)\n",
    "* IQR: Interquartile Range. Q1 과 Q3 의 차이"
   ]
  },
  {
   "cell_type": "markdown",
   "id": "8e9904b3-c1bc-4ec9-83a1-f48c25c6b909",
   "metadata": {},
   "source": [
    "<img src='https://img1.daumcdn.net/thumb/R1280x0/?scode=mtistory2&fname=https%3A%2F%2Fblog.kakaocdn.net%2Fdn%2FcAqc6V%2FbtqyQLiddUd%2FiXQVu1nYTo2rx3Q8xZBqy0%2Fimg.png' width=600><br>\n",
    "<img src='https://upload.wikimedia.org/wikipedia/commons/thumb/1/1a/Boxplot_vs_PDF.svg/800px-Boxplot_vs_PDF.svg.png' width=600>"
   ]
  },
  {
   "cell_type": "code",
   "execution_count": 14,
   "id": "f633fe84-6fd8-4da4-9980-fb2a21ac3e87",
   "metadata": {},
   "outputs": [
    {
     "name": "stdout",
     "output_type": "stream",
     "text": [
      "분산:  662\n",
      "표준편차 25.73\n",
      "범위 79\n",
      "사분위수\n",
      "0% => 9.0\n",
      "25% => 42.75\n",
      "50% => 64.5\n",
      "75% => 84.0\n",
      "100% => 88.0\n",
      "IOR:  41.25\n"
     ]
    }
   ],
   "source": [
    "import numpy as np \n",
    "from statistics import variance, stdev\n",
    "np.random.seed(0)\n",
    "datas = np.random.randint(0, 100, 20) \n",
    "var = variance(datas)\n",
    "print(\"분산: \", var) \n",
    "std = stdev(datas)\n",
    "print(\"표준편차\", np.round(std, 2))\n",
    "rng = np.max(datas) - np.min(datas)\n",
    "print(\"범위\", rng) \n",
    "print(\"사분위수\") \n",
    "for val in [0, 25, 50, 75, 100] :\n",
    "    quantile = np.percentile(datas, val) \n",
    "    print(\"{}% => {}\".format(val, quantile))\n",
    "q1, q3 = np.percentile(datas, [25, 75]) \n",
    "print(\"IOR: \", q3 - q1)"
   ]
  },
  {
   "cell_type": "markdown",
   "id": "26041e9f-65e3-4893-8a48-f46d43f4b646",
   "metadata": {
    "tags": []
   },
   "source": [
    "## 정규분포 & 표준화 & 표준 정규분포\n",
    "* 분포가 다른 이기종 집단 간 분석 가능\n",
    "* 간편한 확률 계산 --> 표준정규분포표 이용\n",
    "* ref : https://ko.wikipedia.org/wiki/%ED%91%9C%EC%A4%80%EC%A0%95%EA%B7%9C%EB%B6%84%ED%8F%AC%ED%91%9C"
   ]
  },
  {
   "cell_type": "markdown",
   "id": "88fc576d-b270-4618-8058-91b685739cc4",
   "metadata": {},
   "source": [
    "### 정규분포\n",
    "\n",
    "* 중심극한정리에 따르면 평균이 𝜇이고 분산이 𝜎^2(표준편차가 𝜎)인 모집단으로부터 가능한 모든 𝑛개의 조합을 표본으로 추출하면 표본의 평균들은 정규분포에 접근함\n",
    "* 정규분포를 표준정규분포(N(0, 1))로 변환\n",
    "* 𝑿 ~ $ N(\\mu, \\sigma^2) $\n",
    "* 𝒇(𝒙)=  $\\frac{1}{\\sigma\\sqrt{2\\pi}}\\exp\\left(-\\frac{(x-\\mu)^2}{2\\sigma^2}\\right)$ "
   ]
  },
  {
   "cell_type": "markdown",
   "id": "60e18286-31b9-4808-8cb4-810e8bbf4279",
   "metadata": {},
   "source": [
    "* <font color=red size=4><b>정규분포 = $ N(\\mu, \\sigma^2) $</b></font><br>\n",
    "\n",
    "* image ref : https://gridamath.tistory.com/3\n",
    "<table>\n",
    "    <tr>\n",
    "        <td>\n",
    "<img src=\"https://img1.daumcdn.net/thumb/R1280x0/?scode=mtistory2&fname=https%3A%2F%2Fblog.kakaocdn.net%2Fdn%2Fn6VLb%2FbtqzFecX8lp%2FBlaZ8f1RNIo3eGU7ZHpsW0%2Fimg.png\" width=500>\n",
    "        </td>\n",
    "        <td>\n",
    "            <img src=\"https://img1.daumcdn.net/thumb/R1280x0/?scode=mtistory2&fname=https%3A%2F%2Fblog.kakaocdn.net%2Fdn%2Fd3BXak%2FbtqzHaU0GdJ%2FJuHPZ8VKNHhLkS63fDLKEK%2Fimg.png\" width=500>\n",
    "        </td>\n",
    "    </tr>\n",
    "</table> <br>\n",
    "\n",
    "\n",
    "<table>\n",
    "    <tr>\n",
    "        <td>\n",
    "            <img src=\"https://img1.daumcdn.net/thumb/R1280x0/?scode=mtistory2&fname=https%3A%2F%2Fblog.kakaocdn.net%2Fdn%2Fbjob8c%2FbtqzGqKxNTm%2F7uqvlSSfx8oUP2cQDPaFd0%2Fimg.png\" width=300>\n",
    "        </td>\n",
    "        <td>\n",
    "<img src=\"https://img1.daumcdn.net/thumb/R1280x0/?scode=mtistory2&fname=https%3A%2F%2Fblog.kakaocdn.net%2Fdn%2FbJNe1h%2FbtqzGrJu5Sw%2FfqgCfwXZQkSuA9PQLHkUUK%2Fimg.png\" width=300>\n",
    "        </td>\n",
    "        <td>\n",
    "            <img src=\"https://img1.daumcdn.net/thumb/R1280x0/?scode=mtistory2&fname=https%3A%2F%2Fblog.kakaocdn.net%2Fdn%2FLFxDn%2FbtqzE1dWOOi%2FQQGoIK33TCFJEOQH2KKbXk%2Fimg.png\" width=300>\n",
    "        </td>\n",
    "    </tr>\n",
    "</table> <br>"
   ]
  },
  {
   "cell_type": "markdown",
   "id": "d2a256c8-0ef2-43a3-adcb-ebaa62348010",
   "metadata": {},
   "source": [
    "### 표준화(Z)"
   ]
  },
  {
   "cell_type": "markdown",
   "id": "82d9db67-b111-4215-b94c-aa7d65559161",
   "metadata": {},
   "source": [
    "* <font color=red size=4><b>$ 표준화(Z) = {{편차} \\over {표준편차}}  = {{X-\\mu} \\over {\\sigma}} $</font> : 편차들을 평균적인 값으로 만든 것</b><br><br>\n",
    "\n",
    "\n",
    "<span>\n",
    "<p align=\"justify\" style=\"text-align: justify;\" _foo=\"1\"<br>정규분포 N(<em>m</em>, <span class=\"_img  fx\" thumburl=\"https://mblogthumb-phinf.pstatic.net/20121204_95/alwaysneoi_1354632857256WUqEq_GIF/%C7%A5%C1%D8%C1%A1%BC%F6%286%29.gif?type=\"><img src=\"https://mblogthumb-phinf.pstatic.net/20121204_95/alwaysneoi_1354632857256WUqEq_GIF/%C7%A5%C1%D8%C1%A1%BC%F6%286%29.gif?type=w2\" largesrc=\"javascript:location.href='https://mblogthumb-phinf.pstatic.net/20121204_95/alwaysneoi_1354632857256WUqEq_GIF/%C7%A5%C1%D8%C1%A1%BC%F6%286%29.gif?type=w2'\" id=\"img_2\" data-top=\"822.5892944335938\"></span><span style=\"font-size:12pt;\" _foo=\"font-family: verdana; font-size: 12pt;\">²</span>)에 따르는 확률변수 <em>X</em>\n",
    "<p align=\"justify\" style=\"text-align: justify;\" _foo=\"1\">&nbsp;</p>\n",
    "<p align=\"justify\" style=\"text-align: justify;\" _foo=\"1\"><span style=\"\" _foo=\"font-family: verdana;\"><span style=\"color: rgb(0, 117, 200);\" _foo=\"color: rgb(0, 117, 200);\"><span style=\"color: rgb(0, 0, 0);font-size:9pt;\" _foo=\"color: rgb(0, 0, 0); font-family: verdana; font-size: 9pt;\"></span></span></span></p>\n",
    "<p align=\"justify\" style=\"text-align: justify;\" _foo=\"1\"><span class=\"_img  fx\" thumburl=\"https://mblogthumb-phinf.pstatic.net/20121205_171/alwaysneoi_1354634493576WPlFN_PNG/%C7%A5%C1%D8%C8%AD%281%29.png?type=\"><img src=\"https://mblogthumb-phinf.pstatic.net/20121205_171/alwaysneoi_1354634493576WPlFN_PNG/%C7%A5%C1%D8%C8%AD%281%29.png?type=w2\" largesrc=\"javascript:location.href='https://mblogthumb-phinf.pstatic.net/20121205_171/alwaysneoi_1354634493576WPlFN_PNG/%C7%A5%C1%D8%C8%AD%281%29.png?type=w2'\" id=\"img_3\" data-top=\"866.5892944335938\"></span></p>\n",
    "<p align=\"justify\" style=\"text-align: justify;\" _foo=\"1\">&nbsp;&nbsp;&nbsp;&nbsp;&nbsp;&nbsp;&nbsp;&nbsp;&nbsp;&nbsp;&nbsp;&nbsp;&nbsp;&nbsp;&nbsp;&nbsp;&nbsp;&nbsp;&nbsp;&nbsp;&nbsp;&nbsp;&nbsp;&nbsp;&nbsp;&nbsp;&nbsp;&nbsp;&nbsp;&nbsp;&nbsp; <span class=\"_img  fx\" thumburl=\"https://mblogthumb-phinf.pstatic.net/20121208_189/alwaysneoi_1354973621496xJJCK_PNG/%C7%A5%C1%D8%C1%A1%BC%F6.PNG?type=\"><img src=\"https://mblogthumb-phinf.pstatic.net/20121208_189/alwaysneoi_1354973621496xJJCK_PNG/%C7%A5%C1%D8%C1%A1%BC%F6.PNG?type=w2\" largesrc=\"javascript:location.href='https://mblogthumb-phinf.pstatic.net/20121208_189/alwaysneoi_1354973621496xJJCK_PNG/%C7%A5%C1%D8%C1%A1%BC%F6.PNG?type=w2'\" id=\"img_22\" data-top=\"891.58935546875\"></span></p>\n",
    "<p align=\"justify\" style=\"text-align: justify;\" _foo=\"1\">&nbsp;&nbsp;&nbsp;&nbsp;&nbsp;&nbsp;&nbsp;&nbsp;&nbsp;&nbsp;&nbsp;&nbsp;&nbsp;&nbsp;&nbsp;&nbsp;&nbsp;&nbsp;&nbsp;&nbsp;&nbsp;&nbsp;&nbsp;&nbsp;&nbsp;&nbsp;&nbsp;&nbsp;&nbsp;&nbsp;&nbsp; <span class=\"_img  fx\" thumburl=\"https://mblogthumb-phinf.pstatic.net/20121205_4/alwaysneoi_1354634530564092qB_PNG/%C7%A5%C1%D8%C8%AD%283%29.png?type=\"><img src=\"https://mblogthumb-phinf.pstatic.net/20121205_4/alwaysneoi_1354634530564092qB_PNG/%C7%A5%C1%D8%C8%AD%283%29.png?type=w2\" largesrc=\"javascript:location.href='https://mblogthumb-phinf.pstatic.net/20121205_4/alwaysneoi_1354634530564092qB_PNG/%C7%A5%C1%D8%C8%AD%283%29.png?type=w2'\" id=\"img_5\" data-top=\"913.58935546875\"></span></p>\n",
    "<p align=\"justify\" style=\"text-align: justify;\" _foo=\"1\">&nbsp;&nbsp;&nbsp;&nbsp;&nbsp;&nbsp;&nbsp;&nbsp;&nbsp;&nbsp;&nbsp;&nbsp;&nbsp;&nbsp;&nbsp;&nbsp;&nbsp;&nbsp;&nbsp;&nbsp;&nbsp;&nbsp;&nbsp;&nbsp;&nbsp;&nbsp;&nbsp;&nbsp;&nbsp;&nbsp;&nbsp; <span class=\"_img  fx\" thumburl=\"https://mblogthumb-phinf.pstatic.net/20121205_110/alwaysneoi_1354634572575Lhs72_PNG/%C7%A5%C1%D8%C8%AD%284%29.png?type=\"><img src=\"https://mblogthumb-phinf.pstatic.net/20121205_110/alwaysneoi_1354634572575Lhs72_PNG/%C7%A5%C1%D8%C8%AD%284%29.png?type=w2\" largesrc=\"javascript:location.href='https://mblogthumb-phinf.pstatic.net/20121205_110/alwaysneoi_1354634572575Lhs72_PNG/%C7%A5%C1%D8%C8%AD%284%29.png?type=w2'\" id=\"img_6\" data-top=\"938.58935546875\"></span></p>\n",
    "<p align=\"justify\" style=\"text-align: justify;\" _foo=\"1\">&nbsp;&nbsp;&nbsp;&nbsp;&nbsp;&nbsp;&nbsp;&nbsp;&nbsp;&nbsp;&nbsp;&nbsp;&nbsp;&nbsp;&nbsp;&nbsp;&nbsp;&nbsp;&nbsp;&nbsp;&nbsp;&nbsp;&nbsp;&nbsp;&nbsp;&nbsp;&nbsp;&nbsp;&nbsp;&nbsp;&nbsp; <span class=\"_img  fx\" thumburl=\"https://mblogthumb-phinf.pstatic.net/20121205_33/alwaysneoi_1354634592129HMf9s_PNG/%C7%A5%C1%D8%C8%AD%285%29.png?type=\"><img src=\"https://mblogthumb-phinf.pstatic.net/20121205_33/alwaysneoi_1354634592129HMf9s_PNG/%C7%A5%C1%D8%C8%AD%285%29.png?type=w2\" largesrc=\"javascript:location.href='https://mblogthumb-phinf.pstatic.net/20121205_33/alwaysneoi_1354634592129HMf9s_PNG/%C7%A5%C1%D8%C8%AD%285%29.png?type=w2'\" id=\"img_7\" data-top=\"964.58935546875\"></span></p>\n",
    "<p align=\"justify\" style=\"text-align: justify;\" _foo=\"1\">&nbsp;&nbsp;&nbsp;&nbsp;&nbsp;&nbsp;&nbsp;&nbsp;&nbsp;&nbsp;&nbsp;&nbsp;&nbsp;&nbsp;&nbsp;&nbsp;&nbsp;&nbsp;&nbsp;&nbsp;&nbsp;&nbsp;&nbsp;&nbsp;&nbsp;&nbsp;&nbsp;&nbsp;&nbsp;&nbsp;&nbsp; <span class=\"_img  fx\" thumburl=\"https://mblogthumb-phinf.pstatic.net/20121205_130/alwaysneoi_135463461600986BWD_PNG/%C7%A5%C1%D8%C8%AD%286%29.png?type=\"><img src=\"https://mblogthumb-phinf.pstatic.net/20121205_130/alwaysneoi_135463461600986BWD_PNG/%C7%A5%C1%D8%C8%AD%286%29.png?type=w2\" largesrc=\"javascript:location.href='https://mblogthumb-phinf.pstatic.net/20121205_130/alwaysneoi_135463461600986BWD_PNG/%C7%A5%C1%D8%C8%AD%286%29.png?type=w2'\" id=\"img_8\" data-top=\"987.58935546875\"></span></p>\n",
    "<p align=\"justify\" style=\"text-align: justify;\" _foo=\"1\">&nbsp;</p>\n",
    "<p align=\"center\" style=\"text-align: center;\" _foo=\"1\"><span class=\"_img  fx\" thumburl=\"https://mblogthumb-phinf.pstatic.net/20121205_137/alwaysneoi_1354682984164xf1hM_PNG/%C1%A4%B1%D4%BA%D0%C6%F7%C0%C7_%C7%A5%C1%D8%C8%AD%282%29.png?type=\"><img src=\"https://mblogthumb-phinf.pstatic.net/20121205_137/alwaysneoi_1354682984164xf1hM_PNG/%C1%A4%B1%D4%BA%D0%C6%F7%C0%C7_%C7%A5%C1%D8%C8%AD%282%29.png?type=w2\" largesrc=\"javascript:location.href='https://mblogthumb-phinf.pstatic.net/20121205_137/alwaysneoi_1354682984164xf1hM_PNG/%C1%A4%B1%D4%BA%D0%C6%F7%C0%C7_%C7%A5%C1%D8%C8%AD%282%29.png?type=w2'\" id=\"img_18\" data-top=\"1031.58935546875\"></span></p>\n",
    "<p align=\"justify\" style=\"text-align: justify;\" _foo=\"1\">&nbsp;</p></span></span></span>\n",
    "<br><br>"
   ]
  },
  {
   "cell_type": "markdown",
   "id": "b687d2ea-2b46-4702-b51d-ac24ceaba36e",
   "metadata": {},
   "source": [
    "### 표준 정규분포"
   ]
  },
  {
   "cell_type": "markdown",
   "id": "a4810cd6-f8e8-4093-8095-90751e47de14",
   "metadata": {},
   "source": [
    "* <font color=red size=4><b>표준정규분포 = $ N(0, 1) $</font> : </b><br>\n",
    "<img src=\"https://img1.daumcdn.net/thumb/R1280x0/?scode=mtistory2&fname=https%3A%2F%2Fblog.kakaocdn.net%2Fdn%2FphGKj%2FbtqzFdZtlWe%2FGHgyov8vEfrzdX1xDquTQk%2Fimg.png\" width=600><br>\n",
    "<img src=\"https://img1.daumcdn.net/thumb/R1280x0/?scode=mtistory2&fname=https%3A%2F%2Fblog.kakaocdn.net%2Fdn%2FlrmUs%2FbtqzFBeIQKu%2Ft6MPbkFdzswZVzcCgALZCk%2Fimg.png\" width=600><br>"
   ]
  },
  {
   "cell_type": "markdown",
   "id": "54ba283b-5751-45d8-8449-c171edfea7f9",
   "metadata": {},
   "source": [
    "### PDF, CDF\n",
    "<pre>\n",
    "* 확률밀도함수 (PDF: Probability Density Function)\n",
    "  : 연속확률분포에서 특정 구간의 확률을 나타내기 위한 함수\n",
    "  : 특정 확률변수의 크기(넓이)를 나타내는 값\n",
    "\n",
    "* 누적분포함수(CDF: cumulative distribution Function)\n",
    "  : 주어진 확률분포에서 확률변수가 특정 값보다 작거나 같은 확률\n",
    "\n",
    "* PDF와 CDF 관계\n",
    "  : CDF를 미분하면 PDF / 반대로 PDF 를 적분하면 CDF 가 된다."
   ]
  },
  {
   "cell_type": "markdown",
   "id": "50ce0b1c-d992-4383-bb98-700ac112f8f5",
   "metadata": {},
   "source": [
    "### [Quiz] \n",
    "<font color=red><b>어떤 학생의 국어점수가 85점이라고 하자. 전국 국어점수 평균은 70점, 표준편차는 5라고 하자. 이 학생이 상위 몇 퍼센트인가?</b></font><br>\n",
    "답: 상위 0.13%"
   ]
  },
  {
   "cell_type": "markdown",
   "id": "7df570b1-d519-47dd-bf30-68c35ea997ea",
   "metadata": {},
   "source": [
    "<img src=\"https://img1.daumcdn.net/thumb/R1280x0/?scode=mtistory2&fname=https%3A%2F%2Fblog.kakaocdn.net%2Fdn%2FcoP3G2%2FbtqzFWiDnFm%2F4A3oqIkCYWa80vnpV0kYD1%2Fimg.png\" width=500>\n",
    "<br> \n",
    "<font color=red><b>정규분포곡선의 전체 넓이는 1이며 빗금친 부분의 넓이를 알아야 85점의 정확한 위치를 알 수 있다</b><br>\n",
    "상위 몇 퍼센트인가? 표에 있는 값들은 모두 \"이하일 확률\" , 이상일 확률은 1-Z값<br><br>\n",
    "<br>\n",
    "<img src=\"https://img1.daumcdn.net/thumb/R1280x0/?scode=mtistory2&fname=https%3A%2F%2Fblog.kakaocdn.net%2Fdn%2FbLMllh%2FbtqzE1EVKlz%2FG4RHlT1KVXUP1trSTqDbg0%2Fimg.png\" width=600>"
   ]
  },
  {
   "cell_type": "markdown",
   "id": "ac0b764a-7b59-43aa-aa0b-bfd0babe765e",
   "metadata": {},
   "source": [
    "### [Quiz]\n",
    "* 시험 점수가 정규분포를 따른다고 가정할 경우, 평균 점수가 56점이고 표준편차가 13.6인 경우, 75점 이상을 받은 학생들은 몇 %일까?\n",
    "* 누적분포함수(CDF: cumulative distribution Function)  \n",
    "        * 주어진 확률분포에서 확률변수가 특정 값보다 작거나 같은 확률 : stats.norm.cdf(z)\n"
   ]
  },
  {
   "cell_type": "code",
   "execution_count": 15,
   "id": "58ebb497-55e4-41b0-8eb6-faa306faf9d6",
   "metadata": {},
   "outputs": [
    {
     "name": "stdout",
     "output_type": "stream",
     "text": [
      "Z-score 1.3971\n",
      "cdf 0.9188\n",
      "학생이 75점 이상 받을 확률 8.12 %\n"
     ]
    }
   ],
   "source": [
    "x_var, mu, sigma = 75, 56, 13.6\n",
    "z = (x_var - mu) / sigma\n",
    "cdf = stats.norm.cdf(z)\n",
    "print(\"Z-score\", np.round(z,4))\n",
    "print(\"cdf\" , np.round(cdf,4))\n",
    "\n",
    "p_val = 1 - cdf\n",
    "print(f\"학생이 {x_var}점 이상 받을 확률 {np.round(p_val*100,2)} %\")"
   ]
  },
  {
   "cell_type": "markdown",
   "id": "a864135b-ebd4-4b33-a748-bbb65dfcba4f",
   "metadata": {
    "jp-MarkdownHeadingCollapsed": true,
    "tags": []
   },
   "source": [
    "### [Quiz] \n",
    "<font color=red><b>A, B중 누가 더 급여를 많이 받는 사람일까?</b></font><br>\n",
    "<img src=\"https://img1.daumcdn.net/thumb/R1280x0/?scode=mtistory2&fname=https%3A%2F%2Fblog.kakaocdn.net%2Fdn%2FbiPdHL%2FbtqzD61tOLX%2FtA6O8kC1gJg61hvT6j26JK%2Fimg.png\" width=500><br>\n",
    "<img src=\"https://img1.daumcdn.net/thumb/R1280x0/?scode=mtistory2&fname=https%3A%2F%2Fblog.kakaocdn.net%2Fdn%2FdxMJ7g%2FbtqzGpLC180%2Fh8eV2KDcBPus0grZmrugU0%2Fimg.png\"  width=600>\n",
    "<hr>"
   ]
  },
  {
   "cell_type": "markdown",
   "id": "0fa5053e-5b67-41b9-882f-939986f7128e",
   "metadata": {
    "tags": []
   },
   "source": [
    "# 통계 관련 패키지"
   ]
  },
  {
   "cell_type": "markdown",
   "id": "bb9633ad-06ec-421e-934b-685911cbb7e4",
   "metadata": {},
   "source": [
    "<font size=4><b>Python Statistics Libraries</b></font>\n",
    "* <font color=blue><b>Statistics</b></font><br>\n",
    "    built-in Python library for <strong>기술통계(descriptive statistics)</strong> , datasets are not too large\n",
    "* <font color=blue><b>NumPy</b></font> <br>\n",
    "    third-party library for <strong>수치계산(numerical computing), (최적화)optimized</strong> for single, multi-dimensional <strong>arrays</strong>\n",
    "* <font color=blue><b>SciPy = (Statistics + Numpy)</b></font>  <br>\n",
    "    third-party library for <strong>과학적 계산(scientific computing) based on NumPy</strong>, additional functionality for <strong>statistical analysis</strong>.\n",
    "* <font color=blue><b>Pandas = ( + Numpy)</b></font> <br>\n",
    "    third-party library for <strong>수치계산(numerical computing based on NumPy</strong>. It handles one-dimensional(1D) data with <strong>Series</strong> objects and two-dimensional(2D) data with <strong>DataFrame</strong> objects.\n",
    "* <font color=blue><b>Matplotlib</b></font> <br>\n",
    "    third-party library for <strong>data visualization</strong>"
   ]
  },
  {
   "cell_type": "code",
   "execution_count": 16,
   "id": "32fdfcda-7d0c-45cc-beef-f0a0b146b66c",
   "metadata": {
    "tags": []
   },
   "outputs": [],
   "source": [
    "#----------------------------------Statistics\n",
    "import statistics as ss\n",
    "\n",
    "#----------------------------------numpy\n",
    "import numpy as np\n",
    "\n",
    "#----------------------------------scipy\n",
    "import scipy as sp      \n",
    "import scipy.stats as stats\n",
    "\n",
    "#----------------------------------pandas\n",
    "import pandas as pd\n",
    "from sklearn.datasets import load_iris\n",
    "\n",
    "#----------------------------------matplotlib\n",
    "import matplotlib.pyplot as plt\n",
    "import seaborn as sns"
   ]
  },
  {
   "cell_type": "markdown",
   "id": "6d6b9647-765f-4761-9df4-3fadda78fee9",
   "metadata": {
    "tags": []
   },
   "source": [
    "## statistics를 활용한 통계 기초 분석\n",
    "* ref : https://docs.python.org/3/library/statistics.html"
   ]
  },
  {
   "cell_type": "markdown",
   "id": "900866d4-148c-48fe-b00b-0e1832535459",
   "metadata": {},
   "source": [
    "*The module is not intended to be a competitor to third-party libraries such as NumPy, SciPy, or proprietary full-featured statistics packages aimed at professional statisticians such as Minitab, SAS and Matlab. <font color='red'><b>It is aimed at the level of graphing and scientific calculators."
   ]
  },
  {
   "cell_type": "markdown",
   "id": "5881e6ea-23ac-4b15-b5c6-89271cfa2988",
   "metadata": {},
   "source": [
    "<pre>\n",
    "<font color=red><b>statistics.pvariance(x)          #모집단 분산\n",
    "statistics.variance(x)           #샘플 분산\n",
    "statistics.pstdev(x)             #모집단 편차\n",
    "statistics.stdev(x)              #샘플 편차"
   ]
  },
  {
   "cell_type": "code",
   "execution_count": 17,
   "id": "e073c6bb-5e8d-46d5-b660-81f85ae5d30b",
   "metadata": {},
   "outputs": [],
   "source": [
    "#----------------------------------Statistics\n",
    "import statistics as ss"
   ]
  },
  {
   "cell_type": "code",
   "execution_count": 18,
   "id": "7fac82e1-281c-4e7b-9ddf-3f3075e9f315",
   "metadata": {},
   "outputs": [
    {
     "name": "stdout",
     "output_type": "stream",
     "text": [
      "평균   : 2\n",
      "중앙값 : 1.5\n",
      "최빈값 : 1\n",
      "\n",
      "모집단 분산(𝜎^2)=편차제곱평균 : 1.3333333333333333\n",
      "샘플   분산(S^2)=편차제곱평균 : 1.6\n",
      "모집단 표준편차(𝜎)            : 1.1547005383792515\n",
      "샘플   표준편차(S)            : 1.2649110640673518\n"
     ]
    }
   ],
   "source": [
    "x = [1,1,1,2,3,4]\n",
    "\n",
    "print(f\"평균   : {ss.mean(x)}\")\n",
    "print(f\"중앙값 : {ss.median(x)}\")\n",
    "print(f\"최빈값 : {ss.mode(x)}\")\n",
    "print()\n",
    "\n",
    "print(f\"모집단 분산(𝜎^2)=편차제곱평균 : {ss.pvariance(x)}\")\n",
    "print(f\"샘플   분산(S^2)=편차제곱평균 : {ss.variance(x)}\")\n",
    "print(f\"모집단 표준편차(𝜎)            : {ss.pstdev(x)}\")  #모집단\n",
    "print(f\"샘플   표준편차(S)            : {ss.stdev(x)}\")   #샘플"
   ]
  },
  {
   "cell_type": "markdown",
   "id": "df56b420-96d4-4ce4-aca5-602e6f14fe89",
   "metadata": {},
   "source": [
    "## NumPy를 활용한 통계 기초 분석\n",
    "* ref : https://numpy.org/doc/stable/reference/generated/numpy.std.html"
   ]
  },
  {
   "cell_type": "markdown",
   "id": "134378a3-b4ee-4a1b-b3a4-a60ba040cca3",
   "metadata": {},
   "source": [
    "<pre>\n",
    "<font color=red><b>np.var(x)           #모집단 분산\n",
    "np.var(x, ddof=1)   #샘플 분산"
   ]
  },
  {
   "cell_type": "code",
   "execution_count": 19,
   "id": "0dca5975-ca60-4f34-908e-f5e0a5e16149",
   "metadata": {},
   "outputs": [],
   "source": [
    "import numpy as np"
   ]
  },
  {
   "cell_type": "code",
   "execution_count": 20,
   "id": "fddf9ccf-37a8-49ab-b080-1eb6e19e7307",
   "metadata": {},
   "outputs": [
    {
     "name": "stdout",
     "output_type": "stream",
     "text": [
      "모집단 분산(𝜎^2)=편차제곱평균 : 1.3333333333333333\n",
      "샘플   분산(S^2)=편차제곱평균 : 1.6\n",
      "모집단 편차(𝜎)               : 1.1547005383792515\n",
      "표본   편차(S)               : 1.2649110640673518\n",
      "\n",
      "크기    : 6\n",
      "평균    : 2.0\n",
      "최대    : 4\n",
      "최소    : 1\n",
      "중앙    : 1.5\n",
      "1사분위 : 1.0\n",
      "2사분위 : 1.5\n",
      "3사분위 : 2.75\n"
     ]
    }
   ],
   "source": [
    "x = [1,1,1,2,3,4]                    # 평균\n",
    "print(f\"모집단 분산(𝜎^2)=편차제곱평균 : {np.var(x)}\")                        # 분산\n",
    "print(f\"샘플   분산(S^2)=편차제곱평균 : {np.var(x, ddof=1)}\")                        # 분산\n",
    "print(f\"모집단 편차(𝜎)               : {np.std(x)}\")          \n",
    "print(f\"표본   편차(S)               : {np.std(x, ddof=1)}\")   \n",
    "print()\n",
    "print(f\"크기    : {len(x)}\")                           # 갯수\n",
    "print(f\"평균    : {np.mean(x)}\")   \n",
    "print(f\"최대    : {np.max(x)}\")                        # 최댓값\n",
    "print(f\"최소    : {np.min(x)}\")                        # 최솟값\n",
    "print(f\"중앙    : {np.median(x)}\")                     # 중앙값\n",
    "print(f\"1사분위 : {np.percentile(x, 25)}\")             # 1사분위 수\n",
    "print(f\"2사분위 : {np.percentile(x, 50)}\")             # 2사분위 수\n",
    "print(f\"3사분위 : {np.percentile(x, 75)}\")             # 3사분위 수"
   ]
  },
  {
   "cell_type": "code",
   "execution_count": 21,
   "id": "d7d243b8-ca10-4c63-81ea-e49e643e4dbb",
   "metadata": {},
   "outputs": [],
   "source": [
    "#----------------------------------numpy\n",
    "import numpy as np"
   ]
  },
  {
   "cell_type": "code",
   "execution_count": 22,
   "id": "d9dd370f-e48c-4d79-bc23-6176008f033b",
   "metadata": {},
   "outputs": [
    {
     "data": {
      "text/plain": [
       "array([[1.        , 0.99705449],\n",
       "       [0.99705449, 1.        ]])"
      ]
     },
     "execution_count": 22,
     "metadata": {},
     "output_type": "execute_result"
    }
   ],
   "source": [
    "x = [3, 5, 8, 11, 13]\n",
    "y = [1, 2, 3, 4, 5]\n",
    "np.corrcoef(x, y)"
   ]
  },
  {
   "cell_type": "markdown",
   "id": "8d9a81c1-4405-4cf5-90ed-bdf9bda30f0d",
   "metadata": {
    "tags": []
   },
   "source": [
    "## Scipy를 활용한 통계 기초 분석\n",
    "* ref : https://docs.scipy.org/doc/scipy/reference/index.htmlhttps://docs.scipy.org/doc/scipy/reference/index.html"
   ]
  },
  {
   "cell_type": "markdown",
   "id": "d6494e8e-06b9-43fc-941e-27136e7a727f",
   "metadata": {},
   "source": [
    "<pre>\n",
    "<font color=red><b>stats.describe(x, ddof=0)   #모집단 분산\n",
    "stats.describe(x, ddof=1)   #샘플 분산"
   ]
  },
  {
   "cell_type": "code",
   "execution_count": 23,
   "id": "47b0db67-a5b3-46b9-9ff1-d1c144eba11e",
   "metadata": {},
   "outputs": [],
   "source": [
    "#----------------------------------scipy\n",
    "import scipy as sp      \n",
    "import scipy.stats as stats"
   ]
  },
  {
   "cell_type": "code",
   "execution_count": 24,
   "id": "ed7a2cbb-6a22-4acc-937e-eee1f0c6b43c",
   "metadata": {},
   "outputs": [
    {
     "name": "stdout",
     "output_type": "stream",
     "text": [
      "DescribeResult(nobs=6, minmax=(1, 4), mean=2.0, variance=1.3333333333333333, skewness=0.649519052838329, kurtosis=-1.1249999999999998)\n",
      "\n",
      "DescribeResult(nobs=6, minmax=(1, 4), mean=2.0, variance=1.6, skewness=0.649519052838329, kurtosis=-1.1249999999999998)\n"
     ]
    }
   ],
   "source": [
    "x = [1,1,1,2,3,4]   \n",
    "print(stats.describe(x, ddof=0))     #모집단 분산\n",
    "print()\n",
    "print(stats.describe(x, ddof=1))     #샘플   분산"
   ]
  },
  {
   "cell_type": "markdown",
   "id": "e8b24683-6d54-41d4-b33f-9f3035d3c0c5",
   "metadata": {
    "toc-hr-collapsed": true
   },
   "source": [
    "## DataFrame을 활용한 통계 기초 분석\n",
    "* ref : https://pandas.pydata.org/docs/reference/index.htmlhttps://pandas.pydata.org/docs/reference/index.html"
   ]
  },
  {
   "cell_type": "code",
   "execution_count": 25,
   "id": "0b6fcea9-00ee-4643-951a-d5f0b4c170d7",
   "metadata": {},
   "outputs": [],
   "source": [
    "#----------------------------------pandas\n",
    "import pandas as pd"
   ]
  },
  {
   "cell_type": "markdown",
   "id": "1b41ecd5-8387-4081-be6e-167f6553e417",
   "metadata": {},
   "source": [
    "<pre>\n",
    "모집단 분산(𝜎^2)=편차제곱평균 : 1.3333333333333333\n",
    "샘플   분산(S^2)=편차제곱평균 : 1.6\n",
    "모집단 편차(𝜎)                : 1.1547005383792515\n",
    "<font color=red><b>표본   편차(S)                : 1.2649110640673518"
   ]
  },
  {
   "cell_type": "code",
   "execution_count": 26,
   "id": "d1bb029a-8606-4f41-bcf4-dd90d409a075",
   "metadata": {},
   "outputs": [
    {
     "name": "stdout",
     "output_type": "stream",
     "text": [
      "count    6.000000\n",
      "mean     2.000000\n",
      "std      1.264911\n",
      "min      1.000000\n",
      "25%      1.000000\n",
      "50%      1.500000\n",
      "75%      2.750000\n",
      "max      4.000000\n",
      "dtype: float64\n"
     ]
    }
   ],
   "source": [
    "x = [1,1,1,2,3,4]\n",
    "s = pd.Series(x)\n",
    "print(s.describe())   #표본편차(S):1.26"
   ]
  },
  {
   "cell_type": "markdown",
   "id": "fbd3aa19-ec06-42ba-a824-2b813fa23d9f",
   "metadata": {
    "tags": []
   },
   "source": [
    "## <font color=red><b> statsmodels ★★\n",
    "* ref : https://www.statsmodels.org/stable/api.html\n",
    "* 추정 및 검정, 회귀분석, 시계열분석 등의 기능을 제공하는 파이썬 패키지\n",
    "* 기존에 R에서 가능했던 다양한 회귀분석과 시계열분석 방법론을 그대로 이용 가능\n",
    "* 주요 기능 : \n",
    "        검정 및 모수추정\n",
    "        회귀분석\n",
    "        선형회귀\n",
    "        시계열 분석\n",
    "        SARIMAX 모형\n",
    "        벡터 AR 모형\n",
    "        요인분석"
   ]
  },
  {
   "cell_type": "code",
   "execution_count": 27,
   "id": "fe8816db-3b02-4f5e-96b4-2287995c3bed",
   "metadata": {},
   "outputs": [],
   "source": [
    "# ! pip install statsmodels"
   ]
  },
  {
   "cell_type": "code",
   "execution_count": 28,
   "id": "58407bbe-14d2-4fe1-ab8f-d14445e6bf9e",
   "metadata": {},
   "outputs": [],
   "source": [
    "import statsmodels.api as sm"
   ]
  },
  {
   "cell_type": "code",
   "execution_count": 29,
   "id": "a44050ed-f303-429d-82e8-814597aaa9c1",
   "metadata": {},
   "outputs": [
    {
     "name": "stdout",
     "output_type": "stream",
     "text": [
      "[[-2.3015387 ]\n",
      " [-0.7612069 ]\n",
      " [-0.52817175]\n",
      " [ 1.74481176]\n",
      " [ 0.3190391 ]\n",
      " [-0.61175641]\n",
      " [ 1.62434536]\n",
      " [ 0.86540763]\n",
      " [-1.07296862]\n",
      " [-0.24937038]] [ 88.03153715 101.6451754   87.44983414 112.07837544 106.21188042\n",
      " 116.05062271  95.84962494 108.01359187  98.87353985  98.39730157] 2.7387593197926163\n"
     ]
    }
   ],
   "source": [
    "from sklearn.datasets import make_regression\n",
    "bias = 100\n",
    "X0, y, w = make_regression( n_samples=10, n_features=1, bias=bias, noise=10, coef=True, random_state=1)\n",
    "print(X0, y, w )\n",
    "\n",
    "# X = sm.add_constant(X0)    # 상수항 결합(bias augmentation)\n",
    "# y = y.reshape(-1, 1)\n",
    "# print(X)\n",
    "# print(y)\n",
    "# print(w)"
   ]
  },
  {
   "cell_type": "code",
   "execution_count": 30,
   "id": "c1ef6dcc-76a0-436c-98e8-d6b8caa7dc8d",
   "metadata": {},
   "outputs": [
    {
     "data": {
      "text/html": [
       "<div>\n",
       "<style scoped>\n",
       "    .dataframe tbody tr th:only-of-type {\n",
       "        vertical-align: middle;\n",
       "    }\n",
       "\n",
       "    .dataframe tbody tr th {\n",
       "        vertical-align: top;\n",
       "    }\n",
       "\n",
       "    .dataframe thead th {\n",
       "        text-align: right;\n",
       "    }\n",
       "</style>\n",
       "<table border=\"1\" class=\"dataframe\">\n",
       "  <thead>\n",
       "    <tr style=\"text-align: right;\">\n",
       "      <th></th>\n",
       "      <th>x</th>\n",
       "      <th>y</th>\n",
       "    </tr>\n",
       "  </thead>\n",
       "  <tbody>\n",
       "    <tr>\n",
       "      <th>0</th>\n",
       "      <td>-2.301539</td>\n",
       "      <td>88.031537</td>\n",
       "    </tr>\n",
       "    <tr>\n",
       "      <th>1</th>\n",
       "      <td>-0.761207</td>\n",
       "      <td>101.645175</td>\n",
       "    </tr>\n",
       "    <tr>\n",
       "      <th>2</th>\n",
       "      <td>-0.528172</td>\n",
       "      <td>87.449834</td>\n",
       "    </tr>\n",
       "    <tr>\n",
       "      <th>3</th>\n",
       "      <td>1.744812</td>\n",
       "      <td>112.078375</td>\n",
       "    </tr>\n",
       "    <tr>\n",
       "      <th>4</th>\n",
       "      <td>0.319039</td>\n",
       "      <td>106.211880</td>\n",
       "    </tr>\n",
       "  </tbody>\n",
       "</table>\n",
       "</div>"
      ],
      "text/plain": [
       "          x           y\n",
       "0 -2.301539   88.031537\n",
       "1 -0.761207  101.645175\n",
       "2 -0.528172   87.449834\n",
       "3  1.744812  112.078375\n",
       "4  0.319039  106.211880"
      ]
     },
     "execution_count": 30,
     "metadata": {},
     "output_type": "execute_result"
    }
   ],
   "source": [
    "df = pd.DataFrame({\"x\": X0.reshape(-1), \"y\": y.reshape(-1)})\n",
    "df.head()"
   ]
  },
  {
   "cell_type": "code",
   "execution_count": 31,
   "id": "2b50c4ae-6b48-42e3-a79a-9e7710560154",
   "metadata": {},
   "outputs": [
    {
     "name": "stdout",
     "output_type": "stream",
     "text": [
      "                            OLS Regression Results                            \n",
      "==============================================================================\n",
      "Dep. Variable:                      y   R-squared:                       0.209\n",
      "Model:                            OLS   Adj. R-squared:                  0.110\n",
      "Method:                 Least Squares   F-statistic:                     2.118\n",
      "Date:                Tue, 09 Aug 2022   Prob (F-statistic):              0.184\n",
      "Time:                        07:14:56   Log-Likelihood:                -35.018\n",
      "No. Observations:                  10   AIC:                             74.04\n",
      "Df Residuals:                       8   BIC:                             74.64\n",
      "Df Model:                           1                                         \n",
      "Covariance Type:            nonrobust                                         \n",
      "==============================================================================\n",
      "                 coef    std err          t      P>|t|      [0.025      0.975]\n",
      "------------------------------------------------------------------------------\n",
      "Intercept    101.5970      2.848     35.679      0.000      95.031     108.163\n",
      "x              3.4681      2.383      1.455      0.184      -2.027       8.964\n",
      "==============================================================================\n",
      "Omnibus:                        0.618   Durbin-Watson:                   2.736\n",
      "Prob(Omnibus):                  0.734   Jarque-Bera (JB):                0.106\n",
      "Skew:                           0.235   Prob(JB):                        0.948\n",
      "Kurtosis:                       2.817   Cond. No.                         1.22\n",
      "==============================================================================\n",
      "\n",
      "Notes:\n",
      "[1] Standard Errors assume that the covariance matrix of the errors is correctly specified.\n"
     ]
    }
   ],
   "source": [
    "# dfy = df[[\"y\"]]\n",
    "# dfX = sm.add_constant(df[[\"x\"]])\n",
    "#model = sm.OLS(dfy, dfX)         # 수동으로 상수항 추가\n",
    "\n",
    "model = sm.OLS.from_formula(\"y ~ x\", data=df)\n",
    "result = model.fit()\n",
    "print(result.summary())"
   ]
  },
  {
   "cell_type": "markdown",
   "id": "b0ed87b4-798f-495c-b01b-f15266a331a1",
   "metadata": {
    "tags": []
   },
   "source": [
    "## <font color=red><b> scikit-learn  ★★★★★\n",
    "* ref : https://scikit-learn.org/stable/modules/classes.html\n",
    "* 머신러닝에서 가장 많이 사용되어지는 패키지\n",
    "* 주요 기능\n",
    "<pre>\n",
    "전처리             \n",
    "지도학습[회귀/분류]  / 비지도학습[군집] \n",
    "성능 최적화\n",
    "교차검증\n",
    "하이퍼파라미터 최적화"
   ]
  },
  {
   "cell_type": "code",
   "execution_count": 32,
   "id": "3e5d71f5-5edc-493b-a9ac-ea6655f99b8b",
   "metadata": {},
   "outputs": [],
   "source": [
    "# ! pip install sklearn"
   ]
  },
  {
   "cell_type": "code",
   "execution_count": 33,
   "id": "4178f0fc-add8-4811-a5b4-3a50216eaa73",
   "metadata": {},
   "outputs": [],
   "source": [
    "# from sklarn.____ import ___\n"
   ]
  },
  {
   "cell_type": "markdown",
   "id": "c2e5b9f8-cb6d-463f-9cae-1bf6c9fa0ee1",
   "metadata": {
    "tags": []
   },
   "source": [
    "# 상관분석\n",
    "* 연속 변수로 측정된 두 변수간의 선형 관계 분석\n",
    "* 상관계수 : 두 변수 사이의 선형적인 관계 정도 (-1 ~ 1)\n",
    "\n",
    "* 자료 내에 극단치가 있을 때, 존재하지 않는 상관관계가 포착되거나, 존재하는 상관관계가 포착되지 못하는 경우가 생기기도 함\n",
    "\n",
    "* 두 변수의 관계가 선형적(= 직선)인지 확인할 것 (산점도)  \n",
    "    명확하게 두 변수의 관계가 곡선 형태라면 spearman이나 kendall의 방법을 사용\n",
    "\n",
    "* 심슨의 역설\n",
    "    각 집단별 상관관계와 전체 총합의 상관관계는 다를 수 있음  \n",
    "    상관분석 결과가 예상과 다를 경우, 이질적인 하위집단들이 존재하는지 살펴봐야 할 수도 있음심슨의 역설)  \n",
    "\n",
    "* 제3 변인의 문제\n",
    "    도시 내 범죄 발생 건수와 종교 시설의 수는 양의 상관 관계가 있음  \n",
    "    범죄가 많아서 종교에 의존하는가? 또는 종교가 범죄를 부추기는가?  \n",
    "    사실은 인구가 많아지면 범죄도 늘고, 종교 시설도 많아짐  \n",
    "\n",
    "<br>\n",
    "<img src = \"https://img1.daumcdn.net/thumb/R1280x0/?scode=mtistory2&fname=https%3A%2F%2Fblog.kakaocdn.net%2Fdn%2FcF3lZs%2FbtrgA6ZcxPB%2F9CN6THx3BTSnZLB6LuK5E1%2Fimg.png\" width=600>\n",
    "<br>\n",
    "<img src=\"https://img1.daumcdn.net/thumb/R1280x0/?scode=mtistory2&fname=https%3A%2F%2Fblog.kakaocdn.net%2Fdn%2F21jTg%2FbtqD7GXRDC8%2FD2M2jiiA0JbmxJvkrsnjdK%2Fimg.png\" width=230>"
   ]
  },
  {
   "cell_type": "markdown",
   "id": "a165f6b0-45ab-4aa3-b1fb-e943be79f187",
   "metadata": {
    "tags": []
   },
   "source": [
    "## Pearson, Spearman 상관계수\n",
    "\n",
    "<font color=blue><b>* 피어슨 상관 계수(Pearson Correlation Coefficient )</b></font><br>\n",
    "    변수 x,y가 모두 연속형 <br>\n",
    "    두 변수간 <font color=blue><b>선형적인 상관관계</b></font>인 경우<br>\n",
    "    $r = \\sum{ (X_i- \\overline{X})({Y_i- \\overline{Y}}) } \\over \\sqrt \\sum{ (X_i- \\overline{X})^2({Y_i- \\overline{Y}^2}) }  $\n",
    "\n",
    "----\n",
    "\n",
    "<font color=blue><b>* 스피어만 상관 계수(Spearman Correlation Coefficient)</b></font><br>\n",
    "    변수 x,y가 모두 연속형<br>\n",
    "    두 변수가 <font color=blue><b>순위 척도(Ordinal Scale)</b></font> 자료인 경우<br>\n",
    "    두 변수의 분포가 심각하게 정규 분포(Normal Distribution)를 벗어나거나, 비선형적 일 때<br>\n",
    "    단순히 한 변수가 증가할 때 다른 변수가 증가하는지 감소하는지에 대한 관계만을 표현<br>\n",
    "    \n"
   ]
  },
  {
   "cell_type": "markdown",
   "id": "99f53730-893d-4324-b1c9-42bb323ddc52",
   "metadata": {},
   "source": [
    "* scipy 패키지 활용"
   ]
  },
  {
   "cell_type": "code",
   "execution_count": 34,
   "id": "524deb48-5430-41bf-b019-158bb1294d53",
   "metadata": {},
   "outputs": [
    {
     "name": "stdout",
     "output_type": "stream",
     "text": [
      "(0.9745586289152094, 1.7775387117245563e-06)\n",
      "SpearmanrResult(correlation=0.9999999999999999, pvalue=6.646897422032013e-64)\n"
     ]
    }
   ],
   "source": [
    "x = np.array([1, 2, 3, 4, 5, 6, 7, 8, 9, 10])\n",
    "y = x ** 2\n",
    "print(stats.pearsonr(x, y))\n",
    "print(stats.spearmanr(x, y))"
   ]
  },
  {
   "cell_type": "markdown",
   "id": "0b531f8d-ff0a-4dbf-8b43-240bc4ea4aa1",
   "metadata": {},
   "source": [
    "* DataFrame 상관분석"
   ]
  },
  {
   "cell_type": "code",
   "execution_count": 35,
   "id": "7ad2c4b8-0120-4065-bf36-4d7337cd606f",
   "metadata": {},
   "outputs": [
    {
     "data": {
      "text/html": [
       "<div>\n",
       "<style scoped>\n",
       "    .dataframe tbody tr th:only-of-type {\n",
       "        vertical-align: middle;\n",
       "    }\n",
       "\n",
       "    .dataframe tbody tr th {\n",
       "        vertical-align: top;\n",
       "    }\n",
       "\n",
       "    .dataframe thead th {\n",
       "        text-align: right;\n",
       "    }\n",
       "</style>\n",
       "<table border=\"1\" class=\"dataframe\">\n",
       "  <thead>\n",
       "    <tr style=\"text-align: right;\">\n",
       "      <th></th>\n",
       "      <th>sepal length (cm)</th>\n",
       "      <th>sepal width (cm)</th>\n",
       "      <th>petal length (cm)</th>\n",
       "      <th>petal width (cm)</th>\n",
       "      <th>target</th>\n",
       "    </tr>\n",
       "  </thead>\n",
       "  <tbody>\n",
       "    <tr>\n",
       "      <th>sepal length (cm)</th>\n",
       "      <td>1.000000</td>\n",
       "      <td>-0.117570</td>\n",
       "      <td>0.871754</td>\n",
       "      <td>0.817941</td>\n",
       "      <td>0.782561</td>\n",
       "    </tr>\n",
       "    <tr>\n",
       "      <th>sepal width (cm)</th>\n",
       "      <td>-0.117570</td>\n",
       "      <td>1.000000</td>\n",
       "      <td>-0.428440</td>\n",
       "      <td>-0.366126</td>\n",
       "      <td>-0.426658</td>\n",
       "    </tr>\n",
       "    <tr>\n",
       "      <th>petal length (cm)</th>\n",
       "      <td>0.871754</td>\n",
       "      <td>-0.428440</td>\n",
       "      <td>1.000000</td>\n",
       "      <td>0.962865</td>\n",
       "      <td>0.949035</td>\n",
       "    </tr>\n",
       "    <tr>\n",
       "      <th>petal width (cm)</th>\n",
       "      <td>0.817941</td>\n",
       "      <td>-0.366126</td>\n",
       "      <td>0.962865</td>\n",
       "      <td>1.000000</td>\n",
       "      <td>0.956547</td>\n",
       "    </tr>\n",
       "    <tr>\n",
       "      <th>target</th>\n",
       "      <td>0.782561</td>\n",
       "      <td>-0.426658</td>\n",
       "      <td>0.949035</td>\n",
       "      <td>0.956547</td>\n",
       "      <td>1.000000</td>\n",
       "    </tr>\n",
       "  </tbody>\n",
       "</table>\n",
       "</div>"
      ],
      "text/plain": [
       "                   sepal length (cm)  sepal width (cm)  petal length (cm)  \\\n",
       "sepal length (cm)           1.000000         -0.117570           0.871754   \n",
       "sepal width (cm)           -0.117570          1.000000          -0.428440   \n",
       "petal length (cm)           0.871754         -0.428440           1.000000   \n",
       "petal width (cm)            0.817941         -0.366126           0.962865   \n",
       "target                      0.782561         -0.426658           0.949035   \n",
       "\n",
       "                   petal width (cm)    target  \n",
       "sepal length (cm)          0.817941  0.782561  \n",
       "sepal width (cm)          -0.366126 -0.426658  \n",
       "petal length (cm)          0.962865  0.949035  \n",
       "petal width (cm)           1.000000  0.956547  \n",
       "target                     0.956547  1.000000  "
      ]
     },
     "execution_count": 35,
     "metadata": {},
     "output_type": "execute_result"
    }
   ],
   "source": [
    "iris = load_iris()\n",
    "df = pd.DataFrame(iris.data, columns=iris.feature_names)\n",
    "df['target'] = iris.target\n",
    "\n",
    "corr = df.corr() # 상관계수 계산\n",
    "corr"
   ]
  },
  {
   "cell_type": "code",
   "execution_count": 36,
   "id": "9cf5408e-0568-4df9-b311-39432570bec6",
   "metadata": {},
   "outputs": [
    {
     "name": "stdout",
     "output_type": "stream",
     "text": [
      "0.78 , 0.0000\n"
     ]
    }
   ],
   "source": [
    "corr, pval = stats.pearsonr(df['sepal length (cm)'],df['target'])\n",
    "print(f\"{corr:.2f} , {pval:.4f}\")"
   ]
  },
  {
   "cell_type": "code",
   "execution_count": 37,
   "id": "c83ca32e-11ea-4de3-8435-ec28198816b2",
   "metadata": {},
   "outputs": [
    {
     "data": {
      "text/plain": [
       "<AxesSubplot:>"
      ]
     },
     "execution_count": 37,
     "metadata": {},
     "output_type": "execute_result"
    },
    {
     "data": {
      "image/png": "[encoded data removed]",
      "text/plain": [
       "<Figure size 432x288 with 2 Axes>"
      ]
     },
     "metadata": {
      "needs_background": "light"
     },
     "output_type": "display_data"
    }
   ],
   "source": [
    "sns.heatmap(df.corr(), annot=True)"
   ]
  },
  {
   "cell_type": "markdown",
   "id": "f9fd8f0b-178c-42b9-a024-ca84cfb87980",
   "metadata": {},
   "source": [
    "# 다중공선 \n",
    "* ref : https://dacon.io/en/codeshare/4443https://dacon.io/en/codeshare/4443\n",
    "* 해결법\n",
    "    * 의존적인 변수 삭제, 파생변수 생성\n",
    "    * VIF(Variance Inflation Factor)\n",
    "    * PCA(Principal Component)"
   ]
  },
  {
   "cell_type": "markdown",
   "id": "e9589c1a-1eba-46d2-81a9-0c781630a195",
   "metadata": {},
   "source": [
    "## VIF(Variance Inflation Factor)\n",
    "* 독립변수를 다른 독립변수로 선형회귀한 성능을 나타낸 것\n",
    "* 다른 변수에 의존적일 수록 VIF가 커진다.* 다른 변수에 의존적일 수록 VIF가 커진다.\n",
    "<br><br>\n",
    "* $\\text{VIF}_i = \\frac{\\sigma^2}{(n-1)\\text{Var}[X_i]}\\cdot \\frac{1}{1-R_i^2}$\n",
    "    * ${R_i^2}$는 다른 변수로 𝑖번째 변수를 선형회귀한 성능(결정 계수)\n"
   ]
  },
  {
   "cell_type": "markdown",
   "id": "ed95202e-623f-40c5-89bd-7950cf3d8314",
   "metadata": {},
   "source": [
    "* 미국의 거시경제지표\n",
    "<pre>\n",
    "TOTEMP - Total Employment\n",
    "GNPDEFL - GNP deflator \n",
    "GNP - GNP(Gross National Product) \n",
    "UNEMP - Number of unemployed\n",
    "ARMED - Size of armed forces\n",
    "POP - Population\n",
    "YEAR - Year (1947 - 1962)"
   ]
  },
  {
   "cell_type": "code",
   "execution_count": 99,
   "id": "ecba4157-c512-455c-b3d1-9639e4fe0f4d",
   "metadata": {},
   "outputs": [],
   "source": [
    "from statsmodels.stats.outliers_influence import variance_inflation_factor\n",
    "from statsmodels.datasets.longley import load_pandas\n",
    "\n",
    "dfy = load_pandas().endog\n",
    "dfX = load_pandas().exog\n",
    "df = pd.concat([dfy, dfX], axis=1)\n"
   ]
  },
  {
   "cell_type": "code",
   "execution_count": 83,
   "id": "6e8e1824-5f27-44dd-9d8b-8d1f42f183be",
   "metadata": {},
   "outputs": [
    {
     "data": {
      "image/png": "[encoded data removed]",
      "text/plain": [
       "<Figure size 1260x1260 with 56 Axes>"
      ]
     },
     "metadata": {
      "needs_background": "light"
     },
     "output_type": "display_data"
    }
   ],
   "source": [
    "sns.pairplot(df)\n",
    "plt.show()\n"
   ]
  },
  {
   "cell_type": "code",
   "execution_count": 100,
   "id": "e1fcc1cf-b206-434f-ac0b-7e183b0e5727",
   "metadata": {},
   "outputs": [
    {
     "data": {
      "text/plain": [
       "(16, 7)"
      ]
     },
     "execution_count": 100,
     "metadata": {},
     "output_type": "execute_result"
    }
   ],
   "source": [
    "df.shape"
   ]
  },
  {
   "cell_type": "code",
   "execution_count": 101,
   "id": "95120ec3-63db-44c0-a62e-774d4015778d",
   "metadata": {},
   "outputs": [
    {
     "data": {
      "text/html": [
       "<div>\n",
       "<style scoped>\n",
       "    .dataframe tbody tr th:only-of-type {\n",
       "        vertical-align: middle;\n",
       "    }\n",
       "\n",
       "    .dataframe tbody tr th {\n",
       "        vertical-align: top;\n",
       "    }\n",
       "\n",
       "    .dataframe thead th {\n",
       "        text-align: right;\n",
       "    }\n",
       "</style>\n",
       "<table border=\"1\" class=\"dataframe\">\n",
       "  <thead>\n",
       "    <tr style=\"text-align: right;\">\n",
       "      <th></th>\n",
       "      <th>TOTEMP</th>\n",
       "      <th>GNPDEFL</th>\n",
       "      <th>GNP</th>\n",
       "      <th>UNEMP</th>\n",
       "      <th>ARMED</th>\n",
       "      <th>POP</th>\n",
       "      <th>YEAR</th>\n",
       "    </tr>\n",
       "  </thead>\n",
       "  <tbody>\n",
       "    <tr>\n",
       "      <th>0</th>\n",
       "      <td>60323.0</td>\n",
       "      <td>83.0</td>\n",
       "      <td>234289.0</td>\n",
       "      <td>2356.0</td>\n",
       "      <td>1590.0</td>\n",
       "      <td>107608.0</td>\n",
       "      <td>1947.0</td>\n",
       "    </tr>\n",
       "    <tr>\n",
       "      <th>1</th>\n",
       "      <td>61122.0</td>\n",
       "      <td>88.5</td>\n",
       "      <td>259426.0</td>\n",
       "      <td>2325.0</td>\n",
       "      <td>1456.0</td>\n",
       "      <td>108632.0</td>\n",
       "      <td>1948.0</td>\n",
       "    </tr>\n",
       "    <tr>\n",
       "      <th>2</th>\n",
       "      <td>60171.0</td>\n",
       "      <td>88.2</td>\n",
       "      <td>258054.0</td>\n",
       "      <td>3682.0</td>\n",
       "      <td>1616.0</td>\n",
       "      <td>109773.0</td>\n",
       "      <td>1949.0</td>\n",
       "    </tr>\n",
       "    <tr>\n",
       "      <th>3</th>\n",
       "      <td>61187.0</td>\n",
       "      <td>89.5</td>\n",
       "      <td>284599.0</td>\n",
       "      <td>3351.0</td>\n",
       "      <td>1650.0</td>\n",
       "      <td>110929.0</td>\n",
       "      <td>1950.0</td>\n",
       "    </tr>\n",
       "    <tr>\n",
       "      <th>4</th>\n",
       "      <td>63221.0</td>\n",
       "      <td>96.2</td>\n",
       "      <td>328975.0</td>\n",
       "      <td>2099.0</td>\n",
       "      <td>3099.0</td>\n",
       "      <td>112075.0</td>\n",
       "      <td>1951.0</td>\n",
       "    </tr>\n",
       "  </tbody>\n",
       "</table>\n",
       "</div>"
      ],
      "text/plain": [
       "    TOTEMP  GNPDEFL       GNP   UNEMP   ARMED       POP    YEAR\n",
       "0  60323.0     83.0  234289.0  2356.0  1590.0  107608.0  1947.0\n",
       "1  61122.0     88.5  259426.0  2325.0  1456.0  108632.0  1948.0\n",
       "2  60171.0     88.2  258054.0  3682.0  1616.0  109773.0  1949.0\n",
       "3  61187.0     89.5  284599.0  3351.0  1650.0  110929.0  1950.0\n",
       "4  63221.0     96.2  328975.0  2099.0  3099.0  112075.0  1951.0"
      ]
     },
     "execution_count": 101,
     "metadata": {},
     "output_type": "execute_result"
    }
   ],
   "source": [
    "df.head()"
   ]
  },
  {
   "cell_type": "code",
   "execution_count": 102,
   "id": "8bd50ced-749d-42bc-8cd4-ad9328a3dcbb",
   "metadata": {},
   "outputs": [
    {
     "data": {
      "text/plain": [
       "<AxesSubplot:>"
      ]
     },
     "execution_count": 102,
     "metadata": {},
     "output_type": "execute_result"
    },
    {
     "data": {
      "image/png": "[encoded data removed]",
      "text/plain": [
       "<Figure size 432x288 with 2 Axes>"
      ]
     },
     "metadata": {
      "needs_background": "light"
     },
     "output_type": "display_data"
    }
   ],
   "source": [
    "sns.heatmap(df.corr(), fmt=\".2f\", cmap=\"Blues\", annot=True)"
   ]
  },
  {
   "cell_type": "code",
   "execution_count": 106,
   "id": "8f0cc771-6199-40c0-b0bc-aee88f0605bd",
   "metadata": {},
   "outputs": [
    {
     "name": "stdout",
     "output_type": "stream",
     "text": [
      "                            OLS Regression Results                            \n",
      "==============================================================================\n",
      "Dep. Variable:                 TOTEMP   R-squared:                       1.000\n",
      "Model:                            OLS   Adj. R-squared:                  0.997\n",
      "Method:                 Least Squares   F-statistic:                     437.5\n",
      "Date:                Tue, 09 Aug 2022   Prob (F-statistic):             0.0366\n",
      "Time:                        07:50:35   Log-Likelihood:                -44.199\n",
      "No. Observations:                   8   AIC:                             102.4\n",
      "Df Residuals:                       1   BIC:                             103.0\n",
      "Df Model:                           6                                         \n",
      "Covariance Type:            nonrobust                                         \n",
      "==============================================================================\n",
      "                 coef    std err          t      P>|t|      [0.025      0.975]\n",
      "------------------------------------------------------------------------------\n",
      "Intercept  -1.235e+07   2.97e+06     -4.165      0.150      -5e+07    2.53e+07\n",
      "GNPDEFL      106.2620     75.709      1.404      0.394    -855.708    1068.232\n",
      "GNP           -0.3997      0.120     -3.339      0.185      -1.920       1.121\n",
      "UNEMP         -6.3311      1.324     -4.782      0.131     -23.153      10.491\n",
      "ARMED         -0.2450      0.402     -0.609      0.652      -5.354       4.864\n",
      "POP            2.2959      0.725      3.167      0.195      -6.915      11.506\n",
      "YEAR        6300.6231   1498.900      4.203      0.149   -1.27e+04    2.53e+04\n",
      "==============================================================================\n",
      "Omnibus:                        0.258   Durbin-Watson:                   1.713\n",
      "Prob(Omnibus):                  0.879   Jarque-Bera (JB):                0.304\n",
      "Skew:                           0.300   Prob(JB):                        0.859\n",
      "Kurtosis:                       2.258   Cond. No.                     2.01e+10\n",
      "==============================================================================\n",
      "\n",
      "Notes:\n",
      "[1] Standard Errors assume that the covariance matrix of the errors is correctly specified.\n",
      "[2] The condition number is large, 2.01e+10. This might indicate that there are\n",
      "strong multicollinearity or other numerical problems.\n"
     ]
    }
   ],
   "source": [
    "from sklearn.model_selection import train_test_split\n",
    "\n",
    "def get_model1(seed):\n",
    "    df_train, df_test = train_test_split(df, test_size=0.5, random_state=seed)\n",
    "    model = sm.OLS.from_formula(\"TOTEMP ~ GNPDEFL + GNP + UNEMP + ARMED +  POP + YEAR\", data=df_train)\n",
    "    return df_train, df_test, model.fit()\n",
    "\n",
    "\n",
    "df_train, df_test, result1 = get_model1(3)\n",
    "print(result1.summary())"
   ]
  },
  {
   "cell_type": "code",
   "execution_count": 107,
   "id": "c76e60a2-2784-44da-b55d-8237f3e1bbef",
   "metadata": {},
   "outputs": [
    {
     "data": {
      "text/plain": [
       "[0.9815050656838135,\n",
       " 0.9738497543114335,\n",
       " 0.9879366369908206,\n",
       " 0.7588861967906908,\n",
       " 0.9807206089304504,\n",
       " 0.8937889315287837,\n",
       " 0.8798563810623613,\n",
       " 0.9314665778973968,\n",
       " 0.8608525682167771,\n",
       " 0.9677198735152154]"
      ]
     },
     "execution_count": 107,
     "metadata": {},
     "output_type": "execute_result"
    }
   ],
   "source": [
    "def calc_r2(df_test, result):\n",
    "    target = df.loc[df_test.index].TOTEMP\n",
    "    predict_test = result.predict(df_test)\n",
    "    RSS = ((predict_test - target)**2).sum()\n",
    "    TSS = ((target - target.mean())**2).sum()\n",
    "    return 1 - RSS / TSS\n",
    "test1 = []\n",
    "for i in range(10):\n",
    "    df_train, df_test, result = get_model1(i)\n",
    "    test1.append(calc_r2(df_test, result))\n",
    "test1"
   ]
  },
  {
   "cell_type": "code",
   "execution_count": 108,
   "id": "d8a948e7-e7f8-4a18-97f3-a02e5a4fca7b",
   "metadata": {},
   "outputs": [
    {
     "data": {
      "text/html": [
       "<div>\n",
       "<style scoped>\n",
       "    .dataframe tbody tr th:only-of-type {\n",
       "        vertical-align: middle;\n",
       "    }\n",
       "\n",
       "    .dataframe tbody tr th {\n",
       "        vertical-align: top;\n",
       "    }\n",
       "\n",
       "    .dataframe thead th {\n",
       "        text-align: right;\n",
       "    }\n",
       "</style>\n",
       "<table border=\"1\" class=\"dataframe\">\n",
       "  <thead>\n",
       "    <tr style=\"text-align: right;\">\n",
       "      <th></th>\n",
       "      <th>VIF Factor</th>\n",
       "      <th>features</th>\n",
       "    </tr>\n",
       "  </thead>\n",
       "  <tbody>\n",
       "    <tr>\n",
       "      <th>0</th>\n",
       "      <td>12425.514335</td>\n",
       "      <td>GNPDEFL</td>\n",
       "    </tr>\n",
       "    <tr>\n",
       "      <th>1</th>\n",
       "      <td>10290.435437</td>\n",
       "      <td>GNP</td>\n",
       "    </tr>\n",
       "    <tr>\n",
       "      <th>2</th>\n",
       "      <td>136.224354</td>\n",
       "      <td>UNEMP</td>\n",
       "    </tr>\n",
       "    <tr>\n",
       "      <th>3</th>\n",
       "      <td>39.983386</td>\n",
       "      <td>ARMED</td>\n",
       "    </tr>\n",
       "    <tr>\n",
       "      <th>4</th>\n",
       "      <td>101193.161993</td>\n",
       "      <td>POP</td>\n",
       "    </tr>\n",
       "    <tr>\n",
       "      <th>5</th>\n",
       "      <td>84709.950443</td>\n",
       "      <td>YEAR</td>\n",
       "    </tr>\n",
       "  </tbody>\n",
       "</table>\n",
       "</div>"
      ],
      "text/plain": [
       "      VIF Factor features\n",
       "0   12425.514335  GNPDEFL\n",
       "1   10290.435437      GNP\n",
       "2     136.224354    UNEMP\n",
       "3      39.983386    ARMED\n",
       "4  101193.161993      POP\n",
       "5   84709.950443     YEAR"
      ]
     },
     "execution_count": 108,
     "metadata": {},
     "output_type": "execute_result"
    }
   ],
   "source": [
    "from statsmodels.stats.outliers_influence import variance_inflation_factor\n",
    "vif = pd.DataFrame()\n",
    "vif[\"VIF Factor\"] = [variance_inflation_factor(\n",
    "    dfX.values, i) for i in range(dfX.shape[1])]\n",
    "vif[\"features\"] = dfX.columns\n",
    "vif"
   ]
  },
  {
   "cell_type": "code",
   "execution_count": 109,
   "id": "2497050f-ae17-4ffd-8950-3abb31dc4546",
   "metadata": {},
   "outputs": [
    {
     "name": "stdout",
     "output_type": "stream",
     "text": [
      "                            OLS Regression Results                            \n",
      "==============================================================================\n",
      "Dep. Variable:                 TOTEMP   R-squared:                       0.989\n",
      "Model:                            OLS   Adj. R-squared:                  0.981\n",
      "Method:                 Least Squares   F-statistic:                     118.6\n",
      "Date:                Tue, 09 Aug 2022   Prob (F-statistic):           0.000231\n",
      "Time:                        07:51:23   Log-Likelihood:                -57.695\n",
      "No. Observations:                   8   AIC:                             123.4\n",
      "Df Residuals:                       4   BIC:                             123.7\n",
      "Df Model:                           3                                         \n",
      "Covariance Type:            nonrobust                                         \n",
      "================================================================================\n",
      "                   coef    std err          t      P>|t|      [0.025      0.975]\n",
      "--------------------------------------------------------------------------------\n",
      "Intercept     6.538e+04    163.988    398.686      0.000    6.49e+04    6.58e+04\n",
      "scale(GNP)    4338.7051    406.683     10.669      0.000    3209.571    5467.839\n",
      "scale(ARMED)  -812.1407    315.538     -2.574      0.062   -1688.215      63.933\n",
      "scale(UNEMP) -1373.0426    349.316     -3.931      0.017   -2342.898    -403.187\n",
      "==============================================================================\n",
      "Omnibus:                        0.628   Durbin-Watson:                   2.032\n",
      "Prob(Omnibus):                  0.731   Jarque-Bera (JB):                0.565\n",
      "Skew:                           0.390   Prob(JB):                        0.754\n",
      "Kurtosis:                       1.958   Cond. No.                         4.77\n",
      "==============================================================================\n",
      "\n",
      "Notes:\n",
      "[1] Standard Errors assume that the covariance matrix of the errors is correctly specified.\n"
     ]
    }
   ],
   "source": [
    "def get_model2(seed):\n",
    "    df_train, df_test = train_test_split(df, test_size=0.5, random_state=seed)\n",
    "    model = sm.OLS.from_formula(\"TOTEMP ~ scale(GNP) + scale(ARMED) + scale(UNEMP)\", data=df_train)\n",
    "    return df_train, df_test, model.fit()\n",
    "df_train, df_test, result2 = get_model2(3)\n",
    "print(result2.summary())"
   ]
  },
  {
   "cell_type": "code",
   "execution_count": 110,
   "id": "0974cebe-775b-40c2-9f5e-daf56b7831e7",
   "metadata": {},
   "outputs": [
    {
     "data": {
      "text/plain": [
       "[0.9763608388904902,\n",
       " 0.9841984331185697,\n",
       " 0.9687069366140136,\n",
       " 0.9397304053201785,\n",
       " 0.9773357061188465,\n",
       " 0.9561262155732307,\n",
       " 0.9803852496698635,\n",
       " 0.9917361722470805,\n",
       " 0.9837134067639468,\n",
       " 0.9789512977093214]"
      ]
     },
     "execution_count": 110,
     "metadata": {},
     "output_type": "execute_result"
    }
   ],
   "source": [
    "test2 = []\n",
    "for i in range(10):\n",
    "    df_train, df_test, result = get_model2(i)\n",
    "    test2.append(calc_r2(df_test, result))\n",
    "test2"
   ]
  },
  {
   "cell_type": "code",
   "execution_count": 117,
   "id": "e72adfe1-e310-4b64-a41e-2ae7f7384047",
   "metadata": {},
   "outputs": [
    {
     "data": {
      "image/png": "[encoded data removed]",
      "text/plain": [
       "<Figure size 432x288 with 2 Axes>"
      ]
     },
     "metadata": {
      "needs_background": "light"
     },
     "output_type": "display_data"
    }
   ],
   "source": [
    "plt.subplot(121)\n",
    "plt.plot(test1, 'ro', label=\"test score\")\n",
    "plt.hlines(result1.rsquared, 0, 9, label=\"train score\")\n",
    "plt.legend()\n",
    "plt.xlabel(\"seed\")\n",
    "plt.ylabel(\"R^2\")\n",
    "plt.ylim(0.5, 1.2)\n",
    "\n",
    "plt.subplot(122)\n",
    "plt.plot(test2, 'ro', label=\"test score\")\n",
    "plt.hlines(result2.rsquared, 0, 9, label=\"train score\")\n",
    "plt.legend()\n",
    "plt.xlabel(\"seed\")\n",
    "plt.ylabel(\"R^2\")\n",
    "plt.ylim(0.5, 1.2)\n",
    "\n",
    "# plt.suptitle(\"다중공선성 제거 전후\")\n",
    "plt.tight_layout()\n",
    "plt.show()"
   ]
  },
  {
   "cell_type": "markdown",
   "id": "6a8d57d3-5721-4cae-8e88-1bdc4965351f",
   "metadata": {},
   "source": [
    "## PCA(Principal Component Analysis)\n",
    "* 주성분 분석이라고도 하며 고차원 데이터 집합이 주어졌을 때 원래의 고차원 데이터와 가장 비슷하면서 더 낮은 차원 데이터를 찾아내는 방법이다.   \n",
    "* 차원축소(dimension reduction) 라고도 한다."
   ]
  },
  {
   "cell_type": "code",
   "execution_count": null,
   "id": "bfd1507d-2c17-4b00-8495-210bc51ed433",
   "metadata": {},
   "outputs": [],
   "source": []
  },
  {
   "cell_type": "code",
   "execution_count": null,
   "id": "d0654a5a-9951-48cb-aeb5-e876b88ea3e8",
   "metadata": {},
   "outputs": [],
   "source": []
  },
  {
   "cell_type": "markdown",
   "id": "6480c26a-d2e1-477f-89e5-cd817b05e8c0",
   "metadata": {},
   "source": [
    "* ref: https://hub.gke2.mybinder.org/user/datascienceschool-book-0588mtkf/notebooks/ds/03%20machine%20learning/06.04%20%EB%8B%A4%EC%A4%91%EA%B3%B5%EC%84%A0%EC%84%B1%EA%B3%BC%20%EB%B3%80%EC%88%98%20%EC%84%A0%ED%83%9D.ipynb"
   ]
  },
  {
   "cell_type": "markdown",
   "id": "2cff8867-74a3-4944-beec-4f31b424b66b",
   "metadata": {},
   "source": [
    "# 확률 변수"
   ]
  },
  {
   "cell_type": "markdown",
   "id": "92df9bfd-de7f-448d-ad5b-e649e27e6414",
   "metadata": {},
   "source": [
    "<img src=\"https://img1.daumcdn.net/thumb/R1280x0/?scode=mtistory2&fname=https%3A%2F%2Fblog.kakaocdn.net%2Fdn%2F03iGv%2FbtqzD68f1nn%2Fpbij9U8RG9kPgtSde559WK%2Fimg.png\" width=400><br>\n",
    "<img src=\"https://img1.daumcdn.net/thumb/R1280x0/?scode=mtistory2&fname=https%3A%2F%2Fblog.kakaocdn.net%2Fdn%2FtXoif%2FbtqzFW3Y6R3%2FHtkKUagWp3G1JYqcQKCO0k%2Fimg.png\" width=500>"
   ]
  },
  {
   "cell_type": "markdown",
   "id": "02282f3b-7f79-491f-aacf-ffcf66ebb23a",
   "metadata": {
    "tags": []
   },
   "source": [
    "# 이항(Bernoulli) 분포\n",
    "* <font color=red size=3><b>$ $B(n,p)$ : 시행횟수n  독립시행확률(앞면이나올확률) p</b></font>\n",
    "\n",
    "* 베르누이 시행은 임의의 결과가 '성공', '실패'의 두 가지 중 하나인 실험\n",
    "* $B(5, {1 \\over 2})$ :  동전을 5번 던져 앞면이 나올 확률은  이항분포를 따른다\n",
    "\n",
    "* n의 크기가 충분히 크면 정규분포식(종모양)에 가까워진다"
   ]
  },
  {
   "cell_type": "markdown",
   "id": "13c288b8-2450-4a43-a1d6-ee885019c58a",
   "metadata": {},
   "source": [
    "## [Quiz] \n",
    "\n",
    "<font color=red><b>동전을 3번 던져서 앞면이 나올 확률은?</b></font><br>\n",
    "<table>\n",
    "    <tr>\n",
    "        <td><img src=\"https://img1.daumcdn.net/thumb/R1280x0/?scode=mtistory2&fname=https%3A%2F%2Fblog.kakaocdn.net%2Fdn%2FIAoje%2FbtqzEEb9siD%2Fvl4GIg3ne8pp2CDK4Ta9xK%2Fimg.png\" width=350><td>\n",
    "        <td><font size=3><b>--> 정규분포$N(\\mu, \\sigma^2)$ --><td>\n",
    "        <td><img src=\"https://img1.daumcdn.net/thumb/R1280x0/?scode=mtistory2&fname=https%3A%2F%2Fblog.kakaocdn.net%2Fdn%2FCi1gf%2FbtqzE0MOGvp%2FjwVhRWxg9oUTwEbGkZWoDk%2Fimg.png\" width=350><td>\n",
    "    </tr>\n",
    "</table>    \n"
   ]
  },
  {
   "cell_type": "code",
   "execution_count": 119,
   "id": "9978ac2e-ce8d-466a-b894-53ad950621de",
   "metadata": {},
   "outputs": [
    {
     "name": "stdout",
     "output_type": "stream",
     "text": [
      "7\n"
     ]
    }
   ],
   "source": [
    "N = 10\n",
    "mu_0 = 0.5 #평균\n",
    "np.random.seed(0)\n",
    "x = stats.bernoulli(mu_0).rvs(N) # 난수 발생\n",
    "n = np.count_nonzero(x)  # 0이 아닌 데이터 갯수\n",
    "print(n)"
   ]
  },
  {
   "cell_type": "markdown",
   "id": "7c11372f-b7b7-4f6b-8434-799199e86342",
   "metadata": {},
   "source": [
    "## 이항분포와 정규분포의 관계"
   ]
  },
  {
   "cell_type": "markdown",
   "id": "c3f00c51-825a-4621-b2a2-4fd82e513542",
   "metadata": {},
   "source": [
    "* Bernoulli 이항 검정"
   ]
  },
  {
   "cell_type": "code",
   "execution_count": 120,
   "id": "60c71f12-ce9b-4256-bed8-bb76aa9ede41",
   "metadata": {},
   "outputs": [
    {
     "name": "stdout",
     "output_type": "stream",
     "text": [
      "0.34374999999999988897769753748434595763683319091796875\n"
     ]
    }
   ],
   "source": [
    "p_value = sp.stats.binom_test(n, N)\n",
    "print(format(p_value, '.53f'))"
   ]
  },
  {
   "cell_type": "markdown",
   "id": "5c826bef-500f-4077-8245-0befeeca89fa",
   "metadata": {},
   "source": [
    "# 정규성 검정(normality test)\n",
    "* 회귀 분석 등에서는 확률분포가 가우시안 정규분포를 따르는지 아닌지를 검정"
   ]
  },
  {
   "cell_type": "code",
   "execution_count": 121,
   "id": "8dd1d4e6-e830-4dbd-925a-0bacffbd07da",
   "metadata": {},
   "outputs": [
    {
     "name": "stdout",
     "output_type": "stream",
     "text": [
      "[73.76405235 72.40015721 72.97873798 74.2408932  73.86755799 71.02272212\n",
      " 72.95008842 71.84864279 71.89678115 72.4105985  72.14404357 73.45427351\n",
      " 72.76103773 72.12167502 72.44386323 72.33367433 73.49407907 71.79484174\n",
      " 72.3130677  71.14590426 69.44701018 72.6536186  72.8644362  71.25783498\n",
      " 74.26975462]\n",
      "72.4751738576384\n"
     ]
    },
    {
     "data": {
      "image/png": "[encoded data removed]",
      "text/plain": [
       "<Figure size 432x288 with 1 Axes>"
      ]
     },
     "metadata": {
      "needs_background": "light"
     },
     "output_type": "display_data"
    }
   ],
   "source": [
    "N = 25\n",
    "mu_0 = 72\n",
    "np.random.seed(0)\n",
    "x = stats.norm(mu_0).rvs(N) # 평균 0인 정규분포에서 10개의 난수 발생\n",
    "print(x)\n",
    "\n",
    "print(np.mean(x))\n",
    "sns.distplot(x, kde=False, fit=stats.norm)\n",
    "plt.show()"
   ]
  },
  {
   "cell_type": "code",
   "execution_count": 122,
   "id": "3b8bc7ad-210c-4bb5-a83a-f9e52f4b8def",
   "metadata": {},
   "outputs": [
    {
     "name": "stdout",
     "output_type": "stream",
     "text": [
      "0.7380231707288347 0.9006460151624349\n"
     ]
    },
    {
     "data": {
      "image/png": "[encoded data removed]",
      "text/plain": [
       "<Figure size 432x288 with 1 Axes>"
      ]
     },
     "metadata": {
      "needs_background": "light"
     },
     "output_type": "display_data"
    }
   ],
   "source": [
    "N = 10         # 표본갯수\n",
    "mu_1 = 0         # 평균\n",
    "sigma_1 = 1      # 표준편차\n",
    "\n",
    "mu_2 = 0.5\n",
    "sigma_2 = 1\n",
    "\n",
    "np.random.seed(0)\n",
    "x1 = sp.stats.norm(mu_1, sigma_1).rvs(N)\n",
    "x2 = sp.stats.norm(mu_2, sigma_2).rvs(N)\n",
    "print(np.mean(x1), np.mean(x2))\n",
    "\n",
    "sns.distplot(x1, kde=False, fit=sp.stats.norm, label=\"mu:0 sigma:1\")\n",
    "sns.distplot(x2, kde=False, fit=sp.stats.norm, label=\"mu:0.5 sigma:1\")\n",
    "plt.legend()\n",
    "plt.show()"
   ]
  },
  {
   "cell_type": "code",
   "execution_count": 123,
   "id": "faeb0332-4fc4-43cc-bf07-59fcbef85e20",
   "metadata": {},
   "outputs": [
    {
     "data": {
      "text/plain": [
       "Ttest_indResult(statistic=-0.4139968526988655, pvalue=0.6843504889824326)"
      ]
     },
     "execution_count": 123,
     "metadata": {},
     "output_type": "execute_result"
    }
   ],
   "source": [
    "sp.stats.ttest_ind(x1, x2, equal_var=False)"
   ]
  },
  {
   "cell_type": "markdown",
   "id": "e7814b2c-8456-4007-87e4-e68342bdb968",
   "metadata": {
    "tags": []
   },
   "source": [
    "# 카이제곱 독립성 검정\n",
    "\n",
    "* 카테고리 분포의 모수에 대해 검정을 표본의 합을 이용할 수 없다. 해당 통계량은 스칼라가 아닌 벡터 값을 지니기 때문이다. 이 때는 카이제곱검정(Chi-squared test)이라는 방법을 사용한다.\n",
    "* 범주형 데이터의 통계 분석에 가장 보편적으로 사용되는 검정으로, 2개의 범주형 변수 사이에 통계적 상관성이 존재하는지를 판단함\n",
    "* 𝝌^𝟐= ∑_𝒊 (𝒐_𝒊−𝒆_𝒊)^𝟐/𝒆^𝒊   \n",
    "   𝒐_𝒊=   관측값,  𝒆_𝒊= 기대값\n"
   ]
  },
  {
   "cell_type": "code",
   "execution_count": 124,
   "id": "0165ad57-7f46-46be-891c-ad4b70fd5240",
   "metadata": {},
   "outputs": [
    {
     "name": "stdout",
     "output_type": "stream",
     "text": [
      "0.0992063492063492 0.7527841326498471\n"
     ]
    }
   ],
   "source": [
    "x = np.array([[5, 15], [10, 20]])\n",
    "chi2, p_value, dof, expected = stats.chi2_contingency(x)\n",
    "print(chi2, p_value)"
   ]
  },
  {
   "cell_type": "markdown",
   "id": "0c62df44-0c83-48ea-8f73-e3c161955939",
   "metadata": {},
   "source": [
    "## [Quiz] \n",
    "* 흡연이 운동에 영향을 미칠까? "
   ]
  },
  {
   "cell_type": "code",
   "execution_count": 125,
   "id": "70ead7d0-c877-4a58-96c0-7dddb5342ef4",
   "metadata": {},
   "outputs": [
    {
     "data": {
      "text/html": [
       "<div>\n",
       "<style scoped>\n",
       "    .dataframe tbody tr th:only-of-type {\n",
       "        vertical-align: middle;\n",
       "    }\n",
       "\n",
       "    .dataframe tbody tr th {\n",
       "        vertical-align: top;\n",
       "    }\n",
       "\n",
       "    .dataframe thead th {\n",
       "        text-align: right;\n",
       "    }\n",
       "</style>\n",
       "<table border=\"1\" class=\"dataframe\">\n",
       "  <thead>\n",
       "    <tr style=\"text-align: right;\">\n",
       "      <th></th>\n",
       "      <th>smoke</th>\n",
       "      <th>exercise</th>\n",
       "    </tr>\n",
       "  </thead>\n",
       "  <tbody>\n",
       "    <tr>\n",
       "      <th>0</th>\n",
       "      <td>안함</td>\n",
       "      <td>안함</td>\n",
       "    </tr>\n",
       "    <tr>\n",
       "      <th>1</th>\n",
       "      <td>심함</td>\n",
       "      <td>안함</td>\n",
       "    </tr>\n",
       "    <tr>\n",
       "      <th>2</th>\n",
       "      <td>가끔</td>\n",
       "      <td>매일</td>\n",
       "    </tr>\n",
       "    <tr>\n",
       "      <th>3</th>\n",
       "      <td>안함</td>\n",
       "      <td>가끔</td>\n",
       "    </tr>\n",
       "    <tr>\n",
       "      <th>4</th>\n",
       "      <td>심함</td>\n",
       "      <td>가끔</td>\n",
       "    </tr>\n",
       "  </tbody>\n",
       "</table>\n",
       "</div>"
      ],
      "text/plain": [
       "  smoke exercise\n",
       "0    안함       안함\n",
       "1    심함       안함\n",
       "2    가끔       매일\n",
       "3    안함       가끔\n",
       "4    심함       가끔"
      ]
     },
     "execution_count": 125,
     "metadata": {},
     "output_type": "execute_result"
    }
   ],
   "source": [
    "import numpy as np\n",
    "import pandas as pd \n",
    "from scipy import stats\n",
    "np.random.seed(0)\n",
    "smoke = [\"안함\", \"가끔\", \"매일\", \"심함\"]\n",
    "exercise = [\"안함\", \"가끔\", \"매일\"]\n",
    "data = {\"smoke\": np.random.choice (smoke, size=500),\n",
    "        \"exercise\": np.random.choice(exercise, size=500)\n",
    "       } \n",
    "df = pd. DataFrame(data, columns=[\"smoke\", \"exercise\"]) \n",
    "df.head()\n"
   ]
  },
  {
   "cell_type": "code",
   "execution_count": 126,
   "id": "8824580c-76f2-4516-a40d-527fe7662861",
   "metadata": {},
   "outputs": [
    {
     "data": {
      "text/html": [
       "<div>\n",
       "<style scoped>\n",
       "    .dataframe tbody tr th:only-of-type {\n",
       "        vertical-align: middle;\n",
       "    }\n",
       "\n",
       "    .dataframe tbody tr th {\n",
       "        vertical-align: top;\n",
       "    }\n",
       "\n",
       "    .dataframe thead th {\n",
       "        text-align: right;\n",
       "    }\n",
       "</style>\n",
       "<table border=\"1\" class=\"dataframe\">\n",
       "  <thead>\n",
       "    <tr style=\"text-align: right;\">\n",
       "      <th>exercise</th>\n",
       "      <th>가끔</th>\n",
       "      <th>매일</th>\n",
       "      <th>안함</th>\n",
       "    </tr>\n",
       "    <tr>\n",
       "      <th>smoke</th>\n",
       "      <th></th>\n",
       "      <th></th>\n",
       "      <th></th>\n",
       "    </tr>\n",
       "  </thead>\n",
       "  <tbody>\n",
       "    <tr>\n",
       "      <th>가끔</th>\n",
       "      <td>38</td>\n",
       "      <td>39</td>\n",
       "      <td>45</td>\n",
       "    </tr>\n",
       "    <tr>\n",
       "      <th>매일</th>\n",
       "      <td>34</td>\n",
       "      <td>44</td>\n",
       "      <td>33</td>\n",
       "    </tr>\n",
       "    <tr>\n",
       "      <th>심함</th>\n",
       "      <td>45</td>\n",
       "      <td>44</td>\n",
       "      <td>51</td>\n",
       "    </tr>\n",
       "    <tr>\n",
       "      <th>안함</th>\n",
       "      <td>47</td>\n",
       "      <td>41</td>\n",
       "      <td>39</td>\n",
       "    </tr>\n",
       "  </tbody>\n",
       "</table>\n",
       "</div>"
      ],
      "text/plain": [
       "exercise  가끔  매일  안함\n",
       "smoke               \n",
       "가끔        38  39  45\n",
       "매일        34  44  33\n",
       "심함        45  44  51\n",
       "안함        47  41  39"
      ]
     },
     "execution_count": 126,
     "metadata": {},
     "output_type": "execute_result"
    }
   ],
   "source": [
    "xtab = pd.crosstab(df.smoke, df.exercise)\n",
    "xtab"
   ]
  },
  {
   "cell_type": "code",
   "execution_count": 127,
   "id": "a3216138-df50-4477-851f-f8dee6cf0e9d",
   "metadata": {},
   "outputs": [
    {
     "name": "stdout",
     "output_type": "stream",
     "text": [
      "p-value 값 0.668\n"
     ]
    }
   ],
   "source": [
    "contg = stats.chi2_contingency(observed=xtab)\n",
    "p_val = np.round(contg[1], 3)\n",
    "print(\"p-value 값\", np.round(p_val, 4))  "
   ]
  },
  {
   "cell_type": "markdown",
   "id": "6ff60044-c9d9-4d48-9f9b-5bc24b4bcca9",
   "metadata": {},
   "source": [
    "# t-검정(t-test)\n",
    "* 정규분포의 표본에 대해 기댓값을 조사하는 검정방법\n",
    "* 검정 통계량으로 스튜던트 t분포를 가진 t통계량 사용"
   ]
  },
  {
   "cell_type": "markdown",
   "id": "1039f22e-a516-4b7a-8fbd-d5b27463ddea",
   "metadata": {},
   "source": [
    "<div class=\"panel-body markdown\">\n",
    "    <h2>표준화(standardization)</h2>\n",
    "<ul>\n",
    "<li>표준화란? 어떤 변수의 값(들)에서 그 변수의 평균을 빼고, 표준편차로 나누어주는 것\n",
    "<span class=\"MathJax_Preview\" style=\"color: inherit;\"></span><span class=\"mjx-chtml MJXc-display\" style=\"text-align: center;\"><span id=\"MathJax-Element-1-Frame\" class=\"mjx-chtml MathJax_CHTML\" tabindex=\"0\" data-mathml=\"<math xmlns=&quot;http://www.w3.org/1998/Math/MathML&quot; display=&quot;block&quot;><mi>z</mi><mo>=</mo><mstyle displaystyle=&quot;true&quot; scriptlevel=&quot;0&quot;><mfrac><mrow><mi>x</mi><mo>&amp;#x2212;</mo><mi>&amp;#x03BC;</mi></mrow><mi>&amp;#x03C3;</mi></mfrac></mstyle></math>\" role=\"presentation\" style=\"font-size: 122%; text-align: center; position: relative;\"><span id=\"MJXc-Node-1\" class=\"mjx-math\" aria-hidden=\"true\"><span id=\"MJXc-Node-2\" class=\"mjx-mrow\"><span id=\"MJXc-Node-3\" class=\"mjx-mi\"><span class=\"mjx-char MJXc-TeX-math-I\" style=\"padding-top: 0.23em; padding-bottom: 0.276em; padding-right: 0.003em;\">z</span></span><span id=\"MJXc-Node-4\" class=\"mjx-mo MJXc-space3\"><span class=\"mjx-char MJXc-TeX-main-R\" style=\"padding-top: 0.093em; padding-bottom: 0.321em;\">=</span></span><span id=\"MJXc-Node-5\" class=\"mjx-mstyle MJXc-space3\"><span id=\"MJXc-Node-6\" class=\"mjx-mrow\"><span id=\"MJXc-Node-7\" class=\"mjx-mfrac\"><span class=\"mjx-box MJXc-stacked\" style=\"width: 2.597em; padding: 0px 0.12em;\"><span class=\"mjx-numerator\" style=\"width: 2.597em; top: -1.303em;\"><span id=\"MJXc-Node-8\" class=\"mjx-mrow\"><span id=\"MJXc-Node-9\" class=\"mjx-mi\"><span class=\"mjx-char MJXc-TeX-math-I\" style=\"padding-top: 0.23em; padding-bottom: 0.276em;\">x</span></span><span id=\"MJXc-Node-10\" class=\"mjx-mo MJXc-space2\"><span class=\"mjx-char MJXc-TeX-main-R\" style=\"padding-top: 0.276em; padding-bottom: 0.412em;\">−</span></span><span id=\"MJXc-Node-11\" class=\"mjx-mi MJXc-space2\"><span class=\"mjx-char MJXc-TeX-math-I\" style=\"padding-top: 0.23em; padding-bottom: 0.503em;\">μ</span></span></span></span><span class=\"mjx-denominator\" style=\"width: 2.597em; bottom: -0.722em;\"><span id=\"MJXc-Node-12\" class=\"mjx-mi\"><span class=\"mjx-char MJXc-TeX-math-I\" style=\"padding-top: 0.23em; padding-bottom: 0.276em; padding-right: 0.001em;\">σ</span></span></span><span class=\"mjx-line\" style=\"border-bottom: 1.3px solid; top: -0.28em; width: 2.597em;\"></span></span><span class=\"mjx-vsize\" style=\"height: 2.025em; vertical-align: -0.722em;\"></span></span></span></span></span></span><span class=\"MJX_Assistive_MathML MJX_Assistive_MathML_Block\" role=\"presentation\"><math xmlns=\"http://www.w3.org/1998/Math/MathML\" display=\"block\"><mi>z</mi><mo>=</mo><mstyle displaystyle=\"true\" scriptlevel=\"0\"><mfrac><mrow><mi>x</mi><mo>−</mo><mi>μ</mi></mrow><mi>σ</mi></mfrac></mstyle></math></span></span></span><script type=\"math/tex; mode=display\" id=\"MathJax-Element-1\">z = \\dfrac{x-\\mu}{\\sigma}</script></li>\n",
    "<li>표준화하는 이유: 변수마다 각 변수의 단위와 변산성(=퍼져있는 정도)이 다르기 때문에 직접적인 비교를 할 수 없는데, 표준화를 하게 되면 이러한 정보들이 제거되므로 변수들 간에 비교가 가능해짐</li>\n",
    "</ul>\n",
    "<h2>t 검증</h2>\n",
    "<ul>\n",
    "<li>정규분포를 따르는 무선변수를 표준화하면, 표준정규분포를 따르는 것으로 변환됨<ul>\n",
    "<li>표준정규분포: 평균이 0이고 표준편차가 1인 정규분포</li>\n",
    "</ul>\n",
    "</li>\n",
    "<li>보통 모집단의 표준편차(<span class=\"MathJax_Preview\" style=\"color: inherit;\"></span><span id=\"MathJax-Element-2-Frame\" class=\"mjx-chtml MathJax_CHTML\" tabindex=\"0\" data-mathml=\"<math xmlns=&quot;http://www.w3.org/1998/Math/MathML&quot;><mi>&amp;#x03C3;</mi></math>\" role=\"presentation\" style=\"font-size: 122%; position: relative;\"><span id=\"MJXc-Node-13\" class=\"mjx-math\" aria-hidden=\"true\"><span id=\"MJXc-Node-14\" class=\"mjx-mrow\"><span id=\"MJXc-Node-15\" class=\"mjx-mi\"><span class=\"mjx-char MJXc-TeX-math-I\" style=\"padding-top: 0.23em; padding-bottom: 0.276em; padding-right: 0.001em;\">σ</span></span></span></span><span class=\"MJX_Assistive_MathML\" role=\"presentation\"><math xmlns=\"http://www.w3.org/1998/Math/MathML\"><mi>σ</mi></math></span></span><script type=\"math/tex\" id=\"MathJax-Element-2\">\\sigma</script>)를 모름<ul>\n",
    "<li>모집단의 표준편차 대신 표본의 표준편차를 이용하면 됨</li>\n",
    "<li>표본의 표준편차로 표준화를 하면, 변환된 무선변수는 표준정규분포를 따르지 않고 t 분포를 따름</li>\n",
    "</ul>\n",
    "</li>\n",
    "<li><strong>t 분포</strong>: 표준정규분포와 매우 유사하게 생긴 분포 (똑같지는 않음)</li>\n",
    "<li>따라서, 표본에서 구한 분산/표준편차로 어떤 변수를 표준화를 하면 z값이 아닌 t값이 되고, 이를 이용하여 검증하기 때문에 <strong>t-test</strong> 라고 함</li>\n",
    "</ul>\n",
    "\n",
    "  </div>\n",
    "  \n",
    "  <div class=\"panel-body markdown\">\n",
    "    <h2>독립표본 t-test</h2>\n",
    "<ul>\n",
    "<li>두 독립표본의 평균을 통계적으로 비교하는 기법</li>\n",
    "</ul>\n",
    "<h2>독립표본</h2>\n",
    "<ul>\n",
    "<li>두 표본집단을 구성(표집/수집)할 때 독립이면 독립표본</li>\n",
    "<li>대응표본: 부부 100쌍을 뽑아 남편 100명과 아내 100명으로 두 집단을 비교하는 경우</li>\n",
    "<li>독립표본: 무작위로 남자 100명과 여자 100명을 뽑아 두 집단을 비교하는 경우</li>\n",
    "</ul>\n",
    "<h2>독립표본 t-test의 논리</h2>\n",
    "<ul>\n",
    "<li>두 집단의 모평균(모집단의 평균)은 동일하다는 가설<ul>\n",
    "<li>두 집단의 모평균 차이는 0</li>\n",
    "</ul>\n",
    "</li>\n",
    "<li>표본평균들은 모집단 평균과 다를 수 있지만 차이가 크지 않을 것</li>\n",
    "<li>따라서 두 집단의 표본평균의 차이가 0은 아닐 수 있지만, 그렇게 큰 차이를 보이지는 않을 것임</li>\n",
    "<li>만약, 두 표본평균이 심각하게 차이가 난다면, 두 집단의 모평균이 동일하다는, 즉 두 집단의 모평균 차이가 0이라는 가설이 맞지 않을 가능성이 높음</li>\n",
    "<li>따라서, 두 표본평균이 차이나는 정도에 대한 가능성(확률)을 계산하고 이를 바탕으로 \"두 집단의 모평균(모집단의 평균)은 동일하다는 가설\"에 대해서 판단함</li>\n",
    "</ul>\n",
    "\n",
    "<h2>통계적 유의미성</h2>\n",
    "<ul>\n",
    "<li>검증 결과, 통계적으로 유의미한 결과를 얻었다면?</li>\n",
    "<li>귀무가설(null hypothesis)을 전제로 했을 때, 어떤 통계량의 값을 얻을 확률이, 연구자가 정한 유의수준보다 작을 경우 \"통계적으로 유의미하다\"라고 표현함</li>\n",
    "</ul>\n",
    "<h2>유의수준</h2>\n",
    "<ul>\n",
    "<li>어떤 사건이 일어날 확률이 희박한지 판단하기 위해 연구자가 <strong>주관적으로</strong> 정하는 기준</li>\n",
    "<li>어떤 사건이 일어날 확률이 유의수준보다 작으면, 그 사건은 유의미한 사건(희귀한 사건)으로 여기겠다는 것임</li>\n",
    "<li>통상적으로 학계에서는 0.05나 0.01을 관례적으로 사용</li>\n",
    "</ul>\n",
    "<h2>효과크기</h2>\n",
    "<ul>\n",
    "<li>t-test에서 효과 크기(effect size)란 두 집단의 평균 차이를 일정한 기준으로 표현한 것</li>\n",
    "<li>효과 크기의 표현 방법에는 Cohen's d, Pearson's r 등 여러 가지가 있음</li>\n",
    "<li>다른 실험의 효과 크기와 비교하여 상대적으로 판단한다.<ul>\n",
    "<li>절대적인 것은 아니나 보통 0.2 정도면 작은 편, 0.5 정도면 중간, 0.8이면 큰 편</li>\n",
    "</ul>\n",
    "</li>\n",
    "</ul>\n",
    "   <h2>독립표본 t 검증 결과 보고</h2> \n",
    "    <ul>\n",
    "<li>각 표본에 대한 기술통계(평균, 표준편차, 표본크기 등)</li>\n",
    "<li>t값과 그 때의 자유도(df)</li>\n",
    "<li>p-value와 유의수준의 비교 (p-value를 적시하지는 않음)</li>\n",
    "<li>효과크기(주로 Cohen's d나 Pearson's r)와 그에 대한 해석</li>\n",
    "</ul>\n",
    "\n",
    "<h2>대응표본</h2>\n",
    "<ul>\n",
    "<li>두 집단의 자료를 쌍으로 묶을 수 있을 때<ul>\n",
    "<li>예) 남편과 아내, 쌍둥이, before &amp; after</li>\n",
    "</ul>\n",
    "</li>\n",
    "<li>두 집단의 자료를 쌍으로 묶어야 하기 때문에, 독립표본과는 달리 두 집단의 자료 갯수가 동일해야 함</li>\n",
    "</ul>\n",
    "<h2>대응표본 t-test의 논리</h2>\n",
    "<ul>\n",
    "<li>쌍을 이루고 있는 두 값의 차이를 구함</li>\n",
    "<li>모집단에서 차이의 평균은 0이라고 귀무가설을 세움</li>\n",
    "<li>그렇다면 표본에서도 차이의 평균은 0에 가까울 것</li>\n",
    "<li>표본에서 구한 차이의 평균이 0보다 심각하게 크다면, 귀무가설이 옳을 확률은 희박</li>\n",
    "<li>그렇다면 귀무 가설을 기각하게 되고, 두 집단 간 차이가 유의미하다고 말하는 것</li>\n",
    "</ul>\n",
    "\n",
    "</pre></div>"
   ]
  },
  {
   "cell_type": "markdown",
   "id": "301097c9-c2b8-4362-9f81-d89a80c697f7",
   "metadata": {},
   "source": [
    "* 사례1) 두 집단의 평균 차이가 통계적으로 유의미한지 t-검증"
   ]
  },
  {
   "cell_type": "code",
   "execution_count": 185,
   "id": "a6e81d88-afa5-4365-82e2-8b61a79d2cd5",
   "metadata": {},
   "outputs": [
    {
     "data": {
      "text/plain": [
       "(100.0, 108.0)"
      ]
     },
     "execution_count": 185,
     "metadata": {},
     "output_type": "execute_result"
    }
   ],
   "source": [
    "dat_M = [117, 108, 105, 89, 101, 93, 96, 108, 108, 94, 93, 112, 92, 91, 100, 96, 120, 86, 96, 95]\n",
    "dat_F = [121, 101, 102, 114, 103, 105, 101, 131, 96, 109, 109, 113, 115, 94, 108, 96, 110, 112, 120, 100]\n",
    "np.mean(dat_M) , np.mean(dat_F)"
   ]
  },
  {
   "cell_type": "code",
   "execution_count": 189,
   "id": "40f7b539-4ff4-4adf-8018-6e6e01b4fbff",
   "metadata": {},
   "outputs": [
    {
     "data": {
      "text/plain": [
       "Ttest_indResult(statistic=-2.670573872669349, pvalue=0.01108318824471652)"
      ]
     },
     "execution_count": 189,
     "metadata": {},
     "output_type": "execute_result"
    }
   ],
   "source": [
    "# 두 집단의 평균 차이가 통계적으로 유의미한지 t-검증\n",
    "import scipy.stats\n",
    "res = scipy.stats.ttest_ind(dat_M, dat_F, equal_var=False) # ------------------------- 독립표본\n",
    "res\n",
    "\n",
    "# scipy.stats.ttest_rel(dat_M, dat_F)                      # ------------------------- 대응표본\n",
    "\n",
    "#검증 결과, 두 집단의 평균 차이는 통계적으로 유의미함 (p<0.05)"
   ]
  },
  {
   "cell_type": "code",
   "execution_count": 188,
   "id": "071d5623-62a7-42c1-a8dc-bf2c4e8bac05",
   "metadata": {},
   "outputs": [
    {
     "name": "stdout",
     "output_type": "stream",
     "text": [
      "0.4332242888591059\n",
      "0.39752319599996255\n"
     ]
    }
   ],
   "source": [
    "#------------------------------Cohen's d\n",
    "t = res.statistic\n",
    "df = len(dat_M) + len(dat_F) - 2\n",
    "print(abs(t) / np.sqrt(df))\n",
    "\n",
    "\n",
    "#------------------------------Pearson's r\n",
    "t2 = t ** 2\n",
    "print(np.sqrt(t2 / (t2 + df)) )"
   ]
  },
  {
   "cell_type": "markdown",
   "id": "9bc48d64-1264-4043-83a1-b78e77e5dbe7",
   "metadata": {},
   "source": [
    "* 집단 M과 F에 대하여 독립표본 t 검증을 실시한 결과, \n",
    "* 집단 M의 측정값(M = 100, SD = 9.515)은 집단 F의 측정값(M = 108, SD = 9.431)보다 통계적으로 유의미하게 낮았으며(t(37.997) = -2.671, p < 0.05)\n",
    "* 효과 크기는 중간 수준이었다(Cohen's d = 0.43, r = 0.39)."
   ]
  },
  {
   "cell_type": "markdown",
   "id": "cfe3e4d6-e697-4207-8103-317af5da33bc",
   "metadata": {},
   "source": [
    "* 사례2) 평균 0인 정규분포에서 10개의 난수 발생"
   ]
  },
  {
   "cell_type": "code",
   "execution_count": 128,
   "id": "f082d7c8-8b1a-4825-9f01-39b82576b96f",
   "metadata": {
    "tags": []
   },
   "outputs": [
    {
     "name": "stdout",
     "output_type": "stream",
     "text": [
      "[[ 5 15]\n",
      " [10 20]]\n"
     ]
    },
    {
     "data": {
      "text/plain": [
       "Ttest_1sampResult(statistic=array([-25.8, -21.8]), pvalue=array([0.02466284, 0.02918228]))"
      ]
     },
     "execution_count": 128,
     "metadata": {},
     "output_type": "execute_result"
    }
   ],
   "source": [
    "print(x)  \n",
    "stats.ttest_1samp(x, popmean=72) #"
   ]
  },
  {
   "cell_type": "code",
   "execution_count": 129,
   "id": "6956f7a8-3fe0-4095-96e4-92cd8d4b78d4",
   "metadata": {},
   "outputs": [
    {
     "name": "stdout",
     "output_type": "stream",
     "text": [
      "[ 1.62434536 -0.61175641 -0.52817175 -1.07296862  0.86540763] \n",
      " [ 1.79419149 -0.03727524 -0.20429244 -0.64106471  1.24047059] \n",
      " [0.16984613 0.57448118 0.32387931 0.43190391 0.37506296]\n"
     ]
    }
   ],
   "source": [
    "N = 5\n",
    "mu_1 = 0\n",
    "mu_2 = 0.4\n",
    "np.random.seed(1)\n",
    "x1 = sp.stats.norm(mu_1).rvs(N)\n",
    "x2 = x1 + sp.stats.norm(mu_2, 0.1).rvs(N)\n",
    "print(x1, '\\n', x2, '\\n', (x2 - x1))"
   ]
  },
  {
   "cell_type": "code",
   "execution_count": 130,
   "id": "29f5d28e-57a1-491e-ab13-e537cd13d7d0",
   "metadata": {},
   "outputs": [
    {
     "data": {
      "text/plain": [
       "Ttest_relResult(statistic=-5.662482449248929, pvalue=0.0047953456833781305)"
      ]
     },
     "execution_count": 130,
     "metadata": {},
     "output_type": "execute_result"
    }
   ],
   "source": [
    "sp.stats.ttest_rel(x1, x2)"
   ]
  },
  {
   "cell_type": "markdown",
   "id": "e552f41b-5f30-4fdb-a451-3e2642f5f996",
   "metadata": {},
   "source": [
    "# ANOVA(Analysis of Variance) 분산 분석\n",
    "* 모집단이 셋 이상인 경우, 이들의 평균이 서로 동일한지 테스트함\n",
    "    * 귀무가설: 모든 모집단의 평균은 동일하다.\n",
    "    * 대립가설: 적어도 하나의 모집단은 평균이 다르다.\n",
    "* 모집단이 2개인 경우 t-검정을 수행\n",
    "\n",
    "\n",
    "\n",
    "<div class=\"panel-body markdown\">\n",
    "    <h2>ANOVA란?</h2>\n",
    "<ul>\n",
    "<li>ANalysis Of VAriance의 약자</li>\n",
    "<li>우리말로 \"분산분석\", 혹은 \"변량분석\"이라고 함</li>\n",
    "</ul>\n",
    "<h2>ANOVA가 필요한 이유</h2>\n",
    "<ul>\n",
    "<li>두 개 이상의 집단에 대해 평균비교를 하고자 할 때 기존의 t-test를 사용한다면, 두 집단씩 짝을 지어 t-test를 진행해야 함<ul>\n",
    "<li>세 개의 집단이 있을 때, 둘씩 짝을 짓는 경우의 수: 3가지</li>\n",
    "<li>네 개의 집단이 있을 때, 둘씩 짝을 짓는 경우의 수: 6가지</li>\n",
    "<li>다섯 개의 집단이 있을 때, 둘씩 짝을 짓는 경우의 수: 10가지</li>\n",
    "<li>여섯 개의 집단이 있을 때, 둘씩 짝을 짓는 경우의 수: 15가지</li>\n",
    "<li>t-test로만 진행한다면, 분석횟수가 기하급수적으로 증가함 <span class=\"MathJax_Preview\" style=\"color: inherit;\"></span><span id=\"MathJax-Element-1-Frame\" class=\"mjx-chtml MathJax_CHTML\" tabindex=\"0\" data-mathml=\"<math xmlns=&quot;http://www.w3.org/1998/Math/MathML&quot;><mo stretchy=&quot;false&quot;>&amp;#x21D2;</mo></math>\" role=\"presentation\" style=\"font-size: 122%; position: relative;\"><span id=\"MJXc-Node-1\" class=\"mjx-math\" aria-hidden=\"true\"><span id=\"MJXc-Node-2\" class=\"mjx-mrow\"><span id=\"MJXc-Node-3\" class=\"mjx-mo\"><span class=\"mjx-char MJXc-TeX-main-R\" style=\"padding-top: 0.23em; padding-bottom: 0.367em;\">⇒</span></span></span></span><span class=\"MJX_Assistive_MathML\" role=\"presentation\"><math xmlns=\"http://www.w3.org/1998/Math/MathML\"><mo stretchy=\"false\">⇒</mo></math></span></span><script type=\"math/tex\" id=\"MathJax-Element-1\">\\Rightarrow</script> 과잉검증의 문제가 발생함</li>\n",
    "</ul>\n",
    "</li>\n",
    "<li><strong>과잉검증 문제(overtesting problem)</strong>란?<ul>\n",
    "<li>통계적 검증 절차를 남용하여, 확률적 의사 결정에서 발생할 수 있는 오류의 확률이 필요 이상으로 증가하는 문제</li>\n",
    "<li>예) 여섯 개 집단에 대한 평균비교를 시행할 때, 한 번이라도 1종 오류가 발생할 확률: <span class=\"MathJax_Preview\" style=\"color: inherit;\"></span><span id=\"MathJax-Element-2-Frame\" class=\"mjx-chtml MathJax_CHTML\" tabindex=\"0\" data-mathml=\"<math xmlns=&quot;http://www.w3.org/1998/Math/MathML&quot;><mn>1</mn><mo>&amp;#x2212;</mo><mo stretchy=&quot;false&quot;>(</mo><mn>1</mn><mo>&amp;#x2212;</mo><mi>&amp;#x03B1;</mi><msup><mo stretchy=&quot;false&quot;>)</mo><mrow class=&quot;MJX-TeXAtom-ORD&quot;><mn>15</mn></mrow></msup></math>\" role=\"presentation\" style=\"font-size: 122%; position: relative;\"><span id=\"MJXc-Node-4\" class=\"mjx-math\" aria-hidden=\"true\"><span id=\"MJXc-Node-5\" class=\"mjx-mrow\"><span id=\"MJXc-Node-6\" class=\"mjx-mn\"><span class=\"mjx-char MJXc-TeX-main-R\" style=\"padding-top: 0.367em; padding-bottom: 0.321em;\">1</span></span><span id=\"MJXc-Node-7\" class=\"mjx-mo MJXc-space2\"><span class=\"mjx-char MJXc-TeX-main-R\" style=\"padding-top: 0.276em; padding-bottom: 0.412em;\">−</span></span><span id=\"MJXc-Node-8\" class=\"mjx-mo MJXc-space2\"><span class=\"mjx-char MJXc-TeX-main-R\" style=\"padding-top: 0.458em; padding-bottom: 0.594em;\">(</span></span><span id=\"MJXc-Node-9\" class=\"mjx-mn\"><span class=\"mjx-char MJXc-TeX-main-R\" style=\"padding-top: 0.367em; padding-bottom: 0.321em;\">1</span></span><span id=\"MJXc-Node-10\" class=\"mjx-mo MJXc-space2\"><span class=\"mjx-char MJXc-TeX-main-R\" style=\"padding-top: 0.276em; padding-bottom: 0.412em;\">−</span></span><span id=\"MJXc-Node-11\" class=\"mjx-mi MJXc-space2\"><span class=\"mjx-char MJXc-TeX-math-I\" style=\"padding-top: 0.23em; padding-bottom: 0.276em;\">α</span></span><span id=\"MJXc-Node-12\" class=\"mjx-msubsup\"><span class=\"mjx-base\"><span id=\"MJXc-Node-13\" class=\"mjx-mo\"><span class=\"mjx-char MJXc-TeX-main-R\" style=\"padding-top: 0.458em; padding-bottom: 0.594em;\">)</span></span></span><span class=\"mjx-sup\" style=\"font-size: 70.7%; vertical-align: 0.513em; padding-left: 0px; padding-right: 0.071em;\"><span id=\"MJXc-Node-14\" class=\"mjx-texatom\" style=\"\"><span id=\"MJXc-Node-15\" class=\"mjx-mrow\"><span id=\"MJXc-Node-16\" class=\"mjx-mn\"><span class=\"mjx-char MJXc-TeX-main-R\" style=\"padding-top: 0.367em; padding-bottom: 0.367em;\">15</span></span></span></span></span></span></span></span><span class=\"MJX_Assistive_MathML\" role=\"presentation\"><math xmlns=\"http://www.w3.org/1998/Math/MathML\"><mn>1</mn><mo>−</mo><mo stretchy=\"false\">(</mo><mn>1</mn><mo>−</mo><mi>α</mi><msup><mo stretchy=\"false\">)</mo><mrow class=\"MJX-TeXAtom-ORD\"><mn>15</mn></mrow></msup></math></span></span><script type=\"math/tex\" id=\"MathJax-Element-2\">1 - (1 - \\alpha)^{15}</script><ul>\n",
    "<li>한 번의 시행에서의 유의수준(<span class=\"MathJax_Preview\" style=\"color: inherit;\"></span><span id=\"MathJax-Element-3-Frame\" class=\"mjx-chtml MathJax_CHTML\" tabindex=\"0\" data-mathml=\"<math xmlns=&quot;http://www.w3.org/1998/Math/MathML&quot;><mi>&amp;#x03B1;</mi></math>\" role=\"presentation\" style=\"font-size: 122%; position: relative;\"><span id=\"MJXc-Node-17\" class=\"mjx-math\" aria-hidden=\"true\"><span id=\"MJXc-Node-18\" class=\"mjx-mrow\"><span id=\"MJXc-Node-19\" class=\"mjx-mi\"><span class=\"mjx-char MJXc-TeX-math-I\" style=\"padding-top: 0.23em; padding-bottom: 0.276em;\">α</span></span></span></span><span class=\"MJX_Assistive_MathML\" role=\"presentation\"><math xmlns=\"http://www.w3.org/1998/Math/MathML\"><mi>α</mi></math></span></span><script type=\"math/tex\" id=\"MathJax-Element-3\">\\alpha</script>)을 0.05라고 잡아도, 전체 유의수준은 급격하게 증가함</li>\n",
    "</ul>\n",
    "</li>\n",
    "<li>따라서, 이러한 오류의 확률을 통제한 상황에서 통계 분석을 진행하기 위해서 ANOVA를 실시함</li>\n",
    "</ul>\n",
    "</li>\n",
    "<li>오류의 확률을 통제한 상태에서 전체적인 결과에 대한 진술/서술이 용이함</li>\n",
    "<li>집단을 구별하는 변수가 두 개 이상인 경우, 상호작용을 파악하기 용이함</li>\n",
    "</ul>\n",
    "<h2>ANOVA에서 사용되는 용어</h2>\n",
    "<ul>\n",
    "<li>요인(factor): 집단을 구별하는 (독립)변수를 분산분석의 맥락에서는 \"요인\"이라고 칭함. 예) 성별, 국가</li>\n",
    "<li>수준(level): 요인의 수준. 즉, 각 집단을 의미함. 예) 요인이 \"성별\"일 때, 수준은 \"남\", \"여\"</li>\n",
    "<li><p>상호작용: 한 요인의 수준에 따른 종속변수의 차이가 또 다른 요인의 수준에 따라 달라질 때, \"요인들 간 상호작용이 존재한다\"고 함</p>\n",
    "</li>\n",
    "<li><p>n원분산분석</p>\n",
    "<ul>\n",
    "<li>요인이 n개인 분산분석을 의미</li>\n",
    "<li>예) 일원분산분석: 요인이 1개인 분산분석</li>\n",
    "<li>예) 이원분산분석: 요인이 2개인 분산분석</li>\n",
    "</ul>\n",
    "</li>\n",
    "</ul>\n",
    "\n",
    "\n",
    "  </div>"
   ]
  },
  {
   "cell_type": "markdown",
   "id": "076830c7-2dd1-4265-8ed6-c8a01eb2776c",
   "metadata": {
    "tags": []
   },
   "source": [
    "## [Quiz]\n",
    "* 10명의 환자를 대상으로 A, B, C 세 가지 수면제 약효(수면시간)를 각각 테스트할 경우, 유의수준 0.05에서 A, B, C 수면제의 평균 수면시간은 동일한가? "
   ]
  },
  {
   "cell_type": "code",
   "execution_count": 131,
   "id": "4b1a268d-ca5c-468d-a1c2-13b73e6b3c12",
   "metadata": {},
   "outputs": [
    {
     "data": {
      "text/html": [
       "<div>\n",
       "<style scoped>\n",
       "    .dataframe tbody tr th:only-of-type {\n",
       "        vertical-align: middle;\n",
       "    }\n",
       "\n",
       "    .dataframe tbody tr th {\n",
       "        vertical-align: top;\n",
       "    }\n",
       "\n",
       "    .dataframe thead th {\n",
       "        text-align: right;\n",
       "    }\n",
       "</style>\n",
       "<table border=\"1\" class=\"dataframe\">\n",
       "  <thead>\n",
       "    <tr style=\"text-align: right;\">\n",
       "      <th></th>\n",
       "      <th>A</th>\n",
       "      <th>B</th>\n",
       "      <th>C</th>\n",
       "    </tr>\n",
       "  </thead>\n",
       "  <tbody>\n",
       "    <tr>\n",
       "      <th>0</th>\n",
       "      <td>5.5</td>\n",
       "      <td>7.2</td>\n",
       "      <td>6.0</td>\n",
       "    </tr>\n",
       "    <tr>\n",
       "      <th>1</th>\n",
       "      <td>5.4</td>\n",
       "      <td>4.2</td>\n",
       "      <td>6.5</td>\n",
       "    </tr>\n",
       "    <tr>\n",
       "      <th>2</th>\n",
       "      <td>4.4</td>\n",
       "      <td>8.9</td>\n",
       "      <td>9.6</td>\n",
       "    </tr>\n",
       "    <tr>\n",
       "      <th>3</th>\n",
       "      <td>3.8</td>\n",
       "      <td>7.9</td>\n",
       "      <td>5.3</td>\n",
       "    </tr>\n",
       "    <tr>\n",
       "      <th>4</th>\n",
       "      <td>5.7</td>\n",
       "      <td>9.3</td>\n",
       "      <td>0.7</td>\n",
       "    </tr>\n",
       "    <tr>\n",
       "      <th>5</th>\n",
       "      <td>0.9</td>\n",
       "      <td>0.2</td>\n",
       "      <td>8.3</td>\n",
       "    </tr>\n",
       "    <tr>\n",
       "      <th>6</th>\n",
       "      <td>7.8</td>\n",
       "      <td>8.7</td>\n",
       "      <td>9.8</td>\n",
       "    </tr>\n",
       "    <tr>\n",
       "      <th>7</th>\n",
       "      <td>8.0</td>\n",
       "      <td>4.6</td>\n",
       "      <td>7.8</td>\n",
       "    </tr>\n",
       "    <tr>\n",
       "      <th>8</th>\n",
       "      <td>1.2</td>\n",
       "      <td>6.4</td>\n",
       "      <td>1.4</td>\n",
       "    </tr>\n",
       "    <tr>\n",
       "      <th>9</th>\n",
       "      <td>9.4</td>\n",
       "      <td>5.2</td>\n",
       "      <td>4.1</td>\n",
       "    </tr>\n",
       "  </tbody>\n",
       "</table>\n",
       "</div>"
      ],
      "text/plain": [
       "     A    B    C\n",
       "0  5.5  7.2  6.0\n",
       "1  5.4  4.2  6.5\n",
       "2  4.4  8.9  9.6\n",
       "3  3.8  7.9  5.3\n",
       "4  5.7  9.3  0.7\n",
       "5  0.9  0.2  8.3\n",
       "6  7.8  8.7  9.8\n",
       "7  8.0  4.6  7.8\n",
       "8  1.2  6.4  1.4\n",
       "9  9.4  5.2  4.1"
      ]
     },
     "execution_count": 131,
     "metadata": {},
     "output_type": "execute_result"
    }
   ],
   "source": [
    "import numpy as np \n",
    "import pandas as pd \n",
    "from scipy import stats\n",
    "\n",
    "np.random. seed(0)\n",
    "data = (np.random.rand(30).round(2) * 10).reshape(-1, 3) \n",
    "df = pd. DataFrame (data=data, columns=[\"A\", \"B\", \"C\"]) \n",
    "df\n"
   ]
  },
  {
   "cell_type": "code",
   "execution_count": 132,
   "id": "baa46c26-508c-4271-a6f8-191a4d2d2837",
   "metadata": {},
   "outputs": [
    {
     "name": "stdout",
     "output_type": "stream",
     "text": [
      "통계량 0.34, p-value: 0.713\n"
     ]
    }
   ],
   "source": [
    "one_way_anova = stats.f_oneway(df.A, df.B, df.C)\n",
    "print(f\"통계량 {np.round(one_way_anova [0], 2)}, p-value: {np.round(one_way_anova[1], 3)}\")"
   ]
  },
  {
   "cell_type": "markdown",
   "id": "72565267-f6f7-4048-9e97-fc849912bfc9",
   "metadata": {},
   "source": [
    "# 확률분포의 추정\n",
    "* 데이터의 확률분포를 결정 후 모수의 값으로 가장 가능성이 높은 하나의 숫자를 찾아내는 작업\n",
    "\n",
    "* (step1) 확률분포 결정 예(히스토그램 or  정규성검정)\n",
    "    * 히스토그램 데이터 분포 0 또는 1    : 베르누이분포\n",
    "    * 히스토그램 데이터 분포 0 또는 양수  : 로그정규분포, F분포, 카이제곱분포 등\n",
    "    * 히스토그램 데이터 분포 실수 전 범위 : 정규분포, t분포 등   \n",
    "<br><br>\n",
    "* (step2) 모수추정(parameter estimation)\n",
    "    * 베이즈 추정법\n",
    "    * 최대가능도 추정법\n",
    "    * 모멘트 방법"
   ]
  },
  {
   "cell_type": "markdown",
   "id": "c674221d-00fc-47ea-98dc-2c27ac9d27a6",
   "metadata": {},
   "source": [
    "## 가능도함수(likelihood function)\n",
    "* 확률밀도함수에서의 모수를 변수로 두는 함수\n",
    "<pre>\n",
    "    * 확률밀도함수 f(x;θ)       : 모수(θ)가 이미 정해져 있는 상황에서  x 값의 상대적 확률\n",
    "    * 가능도함수   L(θ;x)=p(x|θ)  : x가 이미 정해져 있는 상황에서의     모수(θ)의 상대적 확률\n",
    "    \n",
    "* 최대가능도 추정법(Maximum Likelihood Estimation, MLE) : 주어진 표본에 대해 가능도를 가장 크게 하는 모수(θ)를 찾는 방법   \n",
    "    * MLE = argmax  L(θ;x)"
   ]
  },
  {
   "cell_type": "markdown",
   "id": "e543cd48-6e53-4142-949f-b2e502cb3d46",
   "metadata": {},
   "source": [
    "* [Quiz] 어떤 데이터가 정규분포를 따르고 분산 σ2=1인 경우 평균 μ 추정"
   ]
  },
  {
   "cell_type": "code",
   "execution_count": 133,
   "id": "9a128617-f809-4eff-8bac-88c5f8270b01",
   "metadata": {},
   "outputs": [
    {
     "data": {
      "image/png": "[encoded data removed]",
      "text/plain": [
       "<Figure size 432x288 with 1 Axes>"
      ]
     },
     "metadata": {
      "needs_background": "light"
     },
     "output_type": "display_data"
    }
   ],
   "source": [
    "import scipy as sp      \n",
    "import scipy.stats as stats\n",
    "\n",
    "# ex) x=1에서의 확률밀도함수 예\n",
    "x = np.linspace(-5, 5, 100)\n",
    "\n",
    "p1 = sp.stats.norm(loc=-1).pdf(1)\n",
    "p2 = sp.stats.norm(loc=0).pdf(1)\n",
    "p3 = sp.stats.norm(loc=1).pdf(1)\n",
    "\n",
    "plt.scatter(1, p1, s=100, c='r', marker='v',  label=r\"$\\mu=-1$={p1:.2f}\")\n",
    "plt.scatter(1, p2, s=100, c='b', marker='^',  label=r\"$\\mu=0$={p2:.2f}\")\n",
    "plt.scatter(1, p3, s=100, c='g', marker='s',  label=r\"$mu=1$={p3:.2f}\")\n",
    "\n",
    "plt.plot(x, sp.stats.norm(loc=-1).pdf(x), ls=\"-.\")\n",
    "plt.plot(x, sp.stats.norm(loc=0).pdf(x), ls=\"--\")\n",
    "plt.plot(x, sp.stats.norm(loc=1).pdf(x), ls=\"-\")\n",
    "plt.vlines(1,   0, 0.45, linestyle=\":\")\n",
    "plt.title(\"Maximum Likelihood Estimation, MLE\")\n",
    "plt.show()"
   ]
  },
  {
   "cell_type": "markdown",
   "id": "5ebd39cb-db40-447a-9f1e-e972c4ffeb5d",
   "metadata": {},
   "source": [
    "## 베이즈 추정법(Bayesian estimation)\n",
    "* 모숫값이 가질 수 있는 모든 가능성의 분포 계산\n",
    "    * 주어진 데이터 {x1,…,xN}를 기반으로 모수 μ의 조건부 확률분포 p(μ|x1,…,xN)를 계산\n",
    "    * $p(\\mu \\mid x_{1},\\ldots,x_{N}) = \\dfrac{p(x_{1},\\ldots,x_{N} \\mid \\mu) \\cdot p(\\mu)}{p(x_{1},\\ldots,x_{N})} \\propto p(x_{1},\\ldots,x_{N}  \\mid \\mu )  \\cdot p(\\mu)$\n",
    "    \n",
    "<pre>    \n",
    "* 베이즈 추정 예) A가 상품평이 더 좋다??? B의 평가가 너무 적다\n",
    "    상품 A: 평가10 긍정8 부정2 : 모수추정 8/10 = 0.8\n",
    "    상품 B: 평가3  긍정2 부정1 : 모수추정 2/3  = 0.67"
   ]
  },
  {
   "cell_type": "markdown",
   "id": "a47a3386-3be0-45f4-9bde-fa706c577443",
   "metadata": {},
   "source": [
    "## 모수 검정(parameter testing)\n",
    "* 확률분포의 모숫값이 특정한 값을 가진다는 가설을 검정하는 것\n",
    "    * 가설(hypothesis) : 확률분포에 대한 어떤 주장\n",
    "    * 검정(testing)    : 가설을 증명하는 통계적 가설검정 행위\n",
    "    * 단측검정 : 특정한 한 방향의 확률\n",
    "    * 양측검정 : 양 방향       \n",
    "\n",
    "<pre>\n",
    "* 귀무가설(null hypothesis) : 확률분포의 모수에 대한 가설 \n",
    "* 대립가설(alternative hypothesis) : 귀무가설에 반하는 가설\n",
    "\n",
    "* 검정통계량(test statistics) : 표본 데이터 집합을 입력으로 계산되는 함수 값\n",
    "                             : 귀무가설이 맞거나 틀렸다는 것을 증명하는 어떤 숫자 값\n",
    "                             : 예) 코로나 확진자이다’라는 가설을 증명 --> 검정통계량('혈액 특정 성분 수치') 측정\n",
    "\n",
    "    \n",
    "* 유의수준 : 귀무가설을 기각할 수 있는 기준 일반적으로 5% 사용\n",
    "* 기각역(critical value) : 유의수준에 대해 계산된 검정통계량\n",
    "* 유의확률 : 확률분포와 확률분포의 표본값 1개가 주어졌을 때 해당 확률분포에서 그 값이 나올 수 있는 확률\n",
    "    * 예) 유의확률 < 유의수준보 : 귀무가설을 기각하고 대립가설을 채택\n",
    "\n"
   ]
  },
  {
   "cell_type": "markdown",
   "id": "4c54b37d-9900-4071-9c19-63702a213bb9",
   "metadata": {},
   "source": [
    "<img src=\"https://mblogthumb-phinf.pstatic.net/MjAxOTA2MTdfNDYg/MDAxNTYwNzUwMTM1NzA0.49JWh_Q3vuC7apeZ0PcraCISbDUndRBPd99ltygM-KMg.59DOaEPcq41fY2X7-T5bf-8R7Dq1hu97Ba47qVn_Veog.PNG.igenius21c/%EC%9C%A0%EC%9D%98%ED%99%95%EB%A5%A0_%EC%9C%A0%EC%9D%98%EC%88%98%EC%A4%80_3.png?type=w800\" width=400>"
   ]
  },
  {
   "cell_type": "markdown",
   "id": "bf312f1b-3d91-4390-ac5a-834023ea96e7",
   "metadata": {},
   "source": [
    "# Key point"
   ]
  },
  {
   "cell_type": "markdown",
   "id": "1c6fba5d-110b-49d4-8112-9a91205de358",
   "metadata": {},
   "source": [
    "* 귀무가설과 대립가설을 통해 가정이 통계적으로 의미가 있는지 검정하는 절차를 가설 검정이라고 한다.\n",
    "\n",
    "* 가설검정은 귀무가설을 정의하고, 표본을 추출하고, 검정 통계량에 따른 통계적 유의성을 확인 후 귀무가설을 채택하거나 기각하는 순으로 절차를 진행한다.\n",
    "\n",
    "* p-value는 귀무가설이 옳다는 전제 하에 표본에서 실제로 관측된 통계값과 같거나 더 극단적인 통계값이 관측될 확률이다.\n",
    "\n",
    "\n",
    "* 평균이 μ이고 분산이 σ2인 모집단으로부터 가능한 모든 n개의 조합을 표본으로 추출하면 표본의 평균은 정규분포에 접근한다.\n",
    "\n",
    "\n",
    "* 카이제곱 검정은 범주형 데이터의 통계 분석에 사용되는 검정으로, 2개의 범주형 변수 사이에 독립성을 판단한다.\n",
    "\n",
    "* ANOVA 분산분석은 모집단이 셋 이상인 경우, 이들의 평균이 서로 동일한지 테스트한다."
   ]
  },
  {
   "cell_type": "code",
   "execution_count": 134,
   "id": "323f791f-ca2b-4cfe-afd8-356ed39bb085",
   "metadata": {},
   "outputs": [],
   "source": [
    "## 기타 .."
   ]
  },
  {
   "cell_type": "markdown",
   "id": "7adcdeff-c907-45cb-840c-e55e4609401f",
   "metadata": {},
   "source": [
    "<table width=\"1200\" border=\"1\" cellspacing=\"0\">\n",
    "  <tbody><tr class=\"yellow\">\n",
    "    <td width=\"167\" bgcolor=\"#d6d6d6\"><a href=\"../../fall_2020/lecturenote/math_rv_data20fall.pdf\"><strong><font size=\"2\" face=\"굴림\">통계학개론(21년강의)</font></strong></a><font size=\"2\"></font></td>\n",
    "        <td width=\"167\" bgcolor=\"#d6d6d6\"><a href=\"../../fall_2020/lecturenote/math_rv_data20fall.pdf\"><strong><font size=\"2\" face=\"굴림\">통계수학</font></strong></a><font size=\"2\"></font></td>\n",
    "    <td width=\"167\" bgcolor=\"#d6d6d6\"><a href=\"../../fall_2020/lecturenote/math_rv_data20fall.pdf\"><strong><font size=\"2\" face=\"굴림\">수리통계</font></strong></a><font size=\"2\"></font></td>\n",
    "    <td width=\"167\" bgcolor=\"#d6d6d6\"><a href=\"../../fall_2020/lecturenote/math_rv_data20fall.pdf\"><strong><font size=\"2\" face=\"굴림\">통계적_방법</font></strong></a><font size=\"2\"></font></td>\n",
    "    <td width=\"167\" bgcolor=\"#d6d6d6\"><a href=\"../../fall_2020/lecturenote/math_rv_data20fall.pdf\"><strong><font size=\"2\" face=\"굴림\">탐색적_자료분석</font></strong></a><font size=\"2\"></font></td>\n",
    "    <td width=\"167\" bgcolor=\"#d6d6d6\"><a href=\"../../fall_2020/lecturenote/math_rv_data20fall.pdf\"><strong><font size=\"2\" face=\"굴림\">설문조사</font></strong></a><font size=\"2\"></font></td>\n",
    "    <td width=\"167\" bgcolor=\"#d6d6d6\"><a href=\"../../fall_2020/lecturenote/math_rv_data20fall.pdf\"><font size=\"2\" face=\"굴림\">C 언어</font></a><font size=\"2\"></font></td>\n",
    "  </tr>\n",
    "  <tr>\n",
    "    <td width=\"167\" bgcolor=\"#ccffcc\" class=\"black\"><a href=\"fall20/math_rv_data20fall.pdf\"><font size=\"2\" face=\"굴림\">확률변수_데이터</font></a><font size=\"2\"></font></td>\n",
    "        <td width=\"167\" bgcolor=\"#ccffcc\" class=\"black\"><a href=\"math4stat/통계수학_개요.pdf\"><font size=\"2\" face=\"굴림\">통계학_수학</font></a><font size=\"2\"></font></td>\n",
    "    <td width=\"167\" bgcolor=\"#ffffcc\" class=\"black\"><a href=\"math_stat/ch2_probability.pdf\"><font size=\"2\" face=\"굴림\">확률</font></a><font size=\"2\"></font></td>\n",
    "    <td width=\"167\" bgcolor=\"#ffeeff\" class=\"black\"><a href=\"stat_methods/통계적방법_개요.pdf\"><font size=\"2\" face=\"굴림\">통계적방법개요</font></a><font size=\"2\" face=\"굴림\"> | </font><a href=\"stat_methods/통계적방법_데이터.pdf\"><font size=\"2\" face=\"굴림\">데이터</font></a><font size=\"2\"></font></td>\n",
    "    <td width=\"167\" bgcolor=\"#ccffff\" class=\"black\"><a href=\"eda/eda_intro.pdf\"><font size=\"2\" face=\"굴림\">개요</font></a><font size=\"2\"></font></td>\n",
    "    <td width=\"167\" bgcolor=\"#ffffcc\" class=\"black\"><a href=\"../../book/survey/intro_survey_wolfpack.pdf\"><font size=\"2\" face=\"굴림\">서론</font></a><font size=\"2\"></font><a href=\"intro_survey_wolfpack.pdf\"></a></td>\n",
    "    <td width=\"167\" bgcolor=\"#ccffff\" style=\"color: #000\"><a href=\"../softwares/c_언어/introduction.pdf\"><font size=\"2\" face=\"굴림\"><span class=\"왼편\">개요</span></font></a><a href=\"c_언어/introduction.pdf\"></a><font size=\"2\"></font></td>\n",
    "  </tr>\n",
    "  <tr>\n",
    "    <td width=\"167\" bgcolor=\"#ccffcc\" class=\"black\"><a href=\"fall20//sm_inference20fall.pdf\" target=\"new\"><font size=\"2\" face=\"굴림\">통계적추론</font></a><font size=\"2\"></font></td>\n",
    "        <td width=\"167\" bgcolor=\"#ccffcc\" class=\"black\"><a href=\"math4stat/함수_방정식.pdf\"><font size=\"2\" face=\"굴림\">함수_방정식</font></a><font size=\"2\"></font><a href=\"math4stat/함수.pdf\"></a></td>\n",
    "    <td width=\"167\" bgcolor=\"#ffffcc\" class=\"black\"><a href=\"math_stat/ch3_discrete.pdf\"><font size=\"2\" face=\"굴림\">이산형 확률변수</font></a><font size=\"2\"></font></td>\n",
    "    <td width=\"167\" bgcolor=\"#ffeeff\" class=\"black\"><a href=\"stat_methods/통계적방법_데이터요약.pdf\"><font size=\"2\" face=\"굴림\">데이터 요약</font></a><font size=\"2\" face=\"굴림\"> | </font><a href=\"eda/eda상자그림.pdf\"><font size=\"2\" face=\"굴림\">상자그림</font></a><font size=\"2\"></font></td>\n",
    "    <td width=\"167\" bgcolor=\"#ccffff\" class=\"black\"><a href=\"eda/eda_probmodel.pdf\"><font size=\"2\" face=\"굴림\">확률모형</font></a><font size=\"2\"></font></td>\n",
    "    <td width=\"167\" bgcolor=\"#ffffcc\" class=\"black\"><a href=\"../../book/survey/questionnaire_wolfpack.pdf\"><font size=\"2\" face=\"굴림\">설문지작성</font></a><font size=\"2\"></font><a href=\"questionnaire_wolfpack.pdf\"></a></td>\n",
    "    <td width=\"167\" bgcolor=\"#ccffff\" class=\"블랙\" style=\"color: #000\"><a href=\"../softwares/c_언어/data_type.pdf\"><font size=\"2\" face=\"굴림\"><span class=\"왼편\">데이터 타입</span></font></a><a href=\"c_언어/data_type.pdf\"></a><font size=\"2\"></font></td>\n",
    "  </tr>\n",
    "  <tr>\n",
    "    <td width=\"167\" bgcolor=\"#ccffcc\" class=\"black\"><a href=\"fall20/sm_statistic_sampling_dist.pdf\" target=\"new\"> </a>\n",
    "\t<a href=\"fall20/sm_statistic_sampling_dist.pdf\" target=\"_new\"><font size=\"2\" face=\"굴림\">통계량_분포</font></a><font size=\"2\"></font></td>\n",
    "        <td width=\"167\" bgcolor=\"#ccffcc\" class=\"black\"><a href=\"stat_methods/확률.pdf\"><font size=\"2\" face=\"굴림\">확률(정의)</font></a><font size=\"2\"></font></td>\n",
    "    <td width=\"167\" bgcolor=\"#ffffcc\" class=\"black\"><a href=\"math_stat/ch4_continuous.pdf\"><font size=\"2\" face=\"굴림\">연속형 확률변수</font></a><font size=\"2\"></font></td>\n",
    "    <td width=\"167\" bgcolor=\"#ffeeff\" class=\"black\"><a href=\"stat_methods/data변환.pdf\"><font size=\"2\" face=\"굴림\">데이터(정규)변환 | </font></a><a href=\"stat_methods/정규변환.pdf\"><font size=\"2\" face=\"굴림\">정규변환</font></a><font size=\"2\"></font></td>\n",
    "    <td width=\"167\" bgcolor=\"#ccffff\" class=\"black\"><a href=\"eda/eda_univariate.pdf\"><font size=\"2\" face=\"굴림\">일변량분석</font></a><font size=\"2\"></font></td>\n",
    "    <td width=\"167\" bgcolor=\"#ffffcc\" class=\"black\"><a href=\"../../book/survey/sampling_survey_wolfpack.pdf\"><font size=\"2\" face=\"굴림\">조사방법_표본추출</font></a><a href=\"sampling_survey_wolfpack.pdf\"></a><font size=\"2\" face=\"굴림\">(표본크기)</font><font size=\"2\"></font></td>\n",
    "    <td width=\"167\" bgcolor=\"#ccffff\" class=\"블랙\" style=\"color: #000\"><a href=\"../softwares/c_언어/stdio.pdf\"><font size=\"2\" face=\"굴림\"><span class=\"왼편\">입출력 장치</span></font></a><a href=\"c_언어/stdio.pdf\"></a><font size=\"2\"></font></td>\n",
    "  </tr>\n",
    "  <tr>\n",
    "    <td width=\"167\" bgcolor=\"#ccffcc\" class=\"black\"><a href=\"fall20/sm_good_of_fits.pdf\" target=\"new\"><font size=\"2\" face=\"굴림\">적합성검정</font></a><font size=\"2\"></font></td>\n",
    "        <td width=\"167\" bgcolor=\"#ccffcc\" class=\"black\"><a href=\"stat_methods/확률변수_기대값.pdf\"><font size=\"2\" face=\"굴림\">확률변수_기대값</font></a><font size=\"2\"></font><a href=\"../stat_methods/확률변수_기대값.pdf\"></a></td>\n",
    "    <td width=\"167\" bgcolor=\"#ffffcc\" class=\"black\"><a href=\"math_stat/ch5_joint_pdf.pdf\"><font size=\"2\" face=\"굴림\">다변량 확률변수</font></a><font size=\"2\"></font></td>\n",
    "    <td width=\"167\" bgcolor=\"#ffeeff\" class=\"black\"><a href=\"stat_methods/통계적방법_확률표본.pdf\"><font size=\"2\" face=\"굴림\">확률표본</font></a><font size=\"2\"></font></td>\n",
    "    <td width=\"167\" bgcolor=\"#ccffff\"><a href=\"eda/eda_reexpression.pdf\"><font size=\"2\" face=\"굴림\">자료재표현</font></a><font size=\"2\"></font></td>\n",
    "    <td width=\"167\" bgcolor=\"#ffffcc\"><a href=\"../../book/survey/software_survey_wolfpack.pdf\"><font size=\"2\" face=\"굴림\">통계소프트웨어</font></a><font size=\"2\"></font><a href=\"software_survey_wolfpack.pdf\"></a></td>\n",
    "    <td width=\"167\" bgcolor=\"#ccffff\" class=\"블랙\" style=\"color: #000\"><a href=\"../softwares/c_언어/operator.pdf\"><font size=\"2\" face=\"굴림\"><span class=\"왼편\">연산자</span></font></a><a href=\"c_언어/operator.pdf\"></a><font size=\"2\"></font></td>\n",
    "  </tr>\n",
    "  <tr>\n",
    "    <td width=\"167\" bgcolor=\"#ccffcc\" class=\"black\"><a href=\"fall20/sm_compare.pdf\" target=\"new\"><font size=\"2\" face=\"굴림\">비교분석</font></a><font size=\"2\"></font></td>\n",
    "        <td width=\"167\" bgcolor=\"#ccffcc\" class=\"black\"><a href=\"math4stat/rv_pdf.pdf\"><font size=\"2\" face=\"굴림\">확률변수</font></a><font size=\"2\" face=\"굴림\"> : 함수 X(w)=x</font><font size=\"2\"></font></td>\n",
    "    <td width=\"167\" bgcolor=\"#ffffcc\" class=\"black\"><a href=\"math_stat/ch6_fn_rv.pdf\"><font size=\"2\" face=\"굴림\">확률변수 함수의 분포함수</font></a><font size=\"2\"></font></td>\n",
    "    <td width=\"167\" bgcolor=\"#ffeeff\"><a href=\"stat_methods/추론개념.pdf\"><font size=\"2\" face=\"굴림\">추정및검정</font></a><font size=\"2\"></font><a href=\"../stat_methods/추론개념.pdf\"></a></td>\n",
    "    <td width=\"167\" bgcolor=\"#ccffff\"><a href=\"eda/eda_scatter.pdf\"><font size=\"2\" face=\"굴림\">산점도</font></a><font size=\"2\"></font></td>\n",
    "    <td width=\"167\" bgcolor=\"#ffffcc\"><a href=\"../../book/survey/freq_survey_wolfpack.pdf\"><font size=\"2\" face=\"굴림\">빈도분석</font></a><font size=\"2\"></font></td>\n",
    "    <td width=\"167\" bgcolor=\"#ccffff\" class=\"블랙\" style=\"color: #000\"><a href=\"../softwares/c_언어/control.pdf\"><font size=\"2\" face=\"굴림\"><span class=\"왼편\">제어문</span></font></a><a href=\"c_언어/control.pdf\"></a><font size=\"2\"></font></td>\n",
    "  </tr>\n",
    "  <tr>\n",
    "    <td width=\"167\" bgcolor=\"#ccffcc\" class=\"black\"><a href=\"fall20/sm_time_series.pdf\"><font size=\"2\" face=\"굴림\">시계열분석</font></a><font size=\"2\"></font></td>\n",
    "        <td width=\"167\" bgcolor=\"#ccffcc\" class=\"black\"><a href=\"math4stat/극한.pdf\"><font size=\"2\" face=\"굴림\">극한</font></a><font size=\"2\"></font></td>\n",
    "    <td width=\"167\" bgcolor=\"#ffffcc\"><a href=\"math_stat/ch7_estimation.pdf\"><font size=\"2\" face=\"굴림\">추정</font></a><font size=\"2\"></font></td>\n",
    "    <td width=\"167\" bgcolor=\"#ffeeff\" class=\"black\"><a href=\"stat_methods/일변량분석.pdf\"><font size=\"2\" face=\"굴림\">일변량(일집단)</font></a><font size=\"2\"></font><a href=\"../stat_methods/일변량분석.pdf\"></a></td>\n",
    "    <td width=\"167\" bgcolor=\"#ccffff\" class=\"black\"><a href=\"eda/eda_ct.pdf\"><font size=\"2\" face=\"굴림\">분할표_대응분석</font></a><font size=\"2\"></font></td>\n",
    "    <td width=\"167\" bgcolor=\"#ffffcc\" class=\"black\"><a href=\"../../book/survey/elem_survey_wolfpack.pdf\"><font size=\"2\" face=\"굴림\">기초통계량분석</font></a><font size=\"2\"></font><a href=\"elem_survey_wolfpack.pdf\"></a></td>\n",
    "    <td width=\"167\" bgcolor=\"#ccffff\" class=\"블랙\" style=\"color: #000\"><a href=\"../softwares/c_언어/function.pdf\"><font size=\"2\" face=\"굴림\"><span class=\"왼편\">함수</span></font></a><a href=\"c_언어/function.pdf\"></a><font size=\"2\"></font></td>\n",
    "  </tr>\n",
    "  <tr>\n",
    "    <td width=\"167\" bgcolor=\"#ccffcc\" class=\"black\"><a href=\"fall20/sm_anova.pdf\" target=\"new\"><font size=\"2\" face=\"굴림\">분산분석</font></a><font size=\"2\"></font></td>\n",
    "        <td width=\"167\" bgcolor=\"#ccffcc\" class=\"black\"><a href=\"math4stat/미분.pdf\"><font size=\"2\" face=\"굴림\">미분</font></a><font size=\"2\"></font></td>\n",
    "    <td width=\"167\" bgcolor=\"#ffffcc\"><a href=\"math_stat/ch8_propertyofest.pdf\"><font size=\"2\" face=\"굴림\">추정성질</font></a><font size=\"2\"></font></td>\n",
    "    <td width=\"167\" bgcolor=\"#ffeeff\"><a href=\"stat_methods/통계적방법_일변량2집단.pdf\"><font size=\"2\" face=\"굴림\">일변량(두모집단차이검정)</font></a><font size=\"2\"></font></td>\n",
    "    <td width=\"167\" bgcolor=\"#ccffff\"><a href=\"eda/eda_time series.pdf\"><font size=\"2\" face=\"굴림\">시계열(이동평균_지수평활법)</font></a><font size=\"2\"></font></td>\n",
    "    <td width=\"167\" bgcolor=\"#ffffcc\"><a href=\"../../book/survey/fa_cron_surevy_wolfpack.pdf\"><font size=\"2\" face=\"굴림\">요인분석/신뢰도계수</font></a><font size=\"2\"></font><a href=\"fa_cron_surevy_wolfpack.pdf\"></a></td>\n",
    "    <td width=\"167\" bgcolor=\"#ccffff\"><font size=\"2\" face=\"굴림\">&nbsp;</font></td>\n",
    "  </tr>\n",
    "  <tr>\n",
    "    <td width=\"167\" bgcolor=\"#ccffcc\" class=\"black\"><a href=\"fall20/sm_corr.pdf\"><font size=\"2\" face=\"굴림\">상관분석</font></a><font size=\"2\"></font></td>\n",
    "        <td width=\"167\" bgcolor=\"#ccffcc\" class=\"black\"><a href=\"math4stat/적분.pdf\"><font size=\"2\" face=\"굴림\">적분</font></a><font size=\"2\"></font></td>\n",
    "    <td width=\"167\" bgcolor=\"#ffffcc\"><a href=\"math_stat/ch9_hyp_testing.pdf\"><font size=\"2\" face=\"굴림\">가설검정</font></a><font size=\"2\"></font></td>\n",
    "    <td width=\"167\" bgcolor=\"#ffeeff\"><a href=\"stat_methods/통계적방법_상관분석.pdf\"><font size=\"2\" face=\"굴림\">상관분석</font></a><font size=\"2\"></font></td>\n",
    "    <td width=\"167\" bgcolor=\"#ccffff\"><font size=\"2\" face=\"굴림\">데이터_시각표현</font><font size=\"2\"></font></td>\n",
    "    <td width=\"167\" bgcolor=\"#ffffcc\"><a href=\"../../book/survey/cross_survey_wolfpack.pdf\"><font size=\"2\" face=\"굴림\">교차분석</font></a><a href=\"cross_survey_wolfpack.pdf\"></a><font size=\"2\" face=\"굴림\">(범주형-&gt;범주형)</font><font size=\"2\"></font></td>\n",
    "    <td width=\"167\" bgcolor=\"#ccffff\"><font size=\"2\" face=\"굴림\">&nbsp;</font></td>\n",
    "  </tr>\n",
    "  <tr>\n",
    "    <td width=\"167\" bgcolor=\"#ccffcc\" class=\"black\"><a href=\"fall20/sm_reg.pdf\" target=\"new\"><font size=\"2\" face=\"굴림\">회귀분석</font></a><font size=\"2\"></font></td>\n",
    "        <td width=\"167\" bgcolor=\"#ccffcc\" class=\"black\"><a href=\"math_stat/eigen.pdf\"><font size=\"2\" face=\"굴림\">고유치</font></a><font size=\"2\"></font></td>\n",
    "    <td width=\"167\" bgcolor=\"#ffffcc\"><a href=\"math_stat/distribution.pdf\"><font size=\"2\" face=\"굴림\">확률분포함수_리스트</font></a><font size=\"2\"></font></td>\n",
    "    <td width=\"167\" bgcolor=\"#ffeeff\"><a href=\"stat_methods/통계적방법_회귀분석.pdf\"><font size=\"2\" face=\"굴림\">회귀분석</font></a><font size=\"2\"></font></td>\n",
    "    <td width=\"167\" bgcolor=\"#ccffff\"><font size=\"2\" face=\"굴림\">&nbsp;</font></td>\n",
    "    <td width=\"167\" bgcolor=\"#ffffcc\"><a href=\"../../book/survey/anova_survey_wolfpack.pdf\"><font size=\"2\" face=\"굴림\">분산분석</font></a><a href=\"anova_survey_wolfpack.pdf\"></a><font size=\"2\" face=\"굴림\">(범주형-&gt;리커트척도)</font><font size=\"2\"></font></td>\n",
    "    <td width=\"167\" bgcolor=\"#ccffff\"><font size=\"2\" face=\"굴림\">&nbsp;</font></td>\n",
    "  </tr>\n",
    "  <tr>\n",
    "    <td width=\"167\" bgcolor=\"#ccffcc\" class=\"black\"><font size=\"2\" face=\"굴림\">&nbsp;</font></td>\n",
    "        <td width=\"167\" bgcolor=\"#ccffcc\" class=\"black\"><a href=\"math4stat/행렬.pdf\"><font size=\"2\" face=\"굴림\">행렬대수(R)</font></a><font size=\"2\"></font></td>\n",
    "    <td width=\"167\" bgcolor=\"#ffffcc\"><a href=\"stat_methods/유명확률분포함수.pdf\"><font size=\"2\" face=\"굴림\"><span class=\"black\">유명확률분포함수</span></font></a><a href=\"../stat_methods/유명확률분포함수.pdf\"></a><font size=\"2\" face=\"굴림\">(관계포함)</font><font size=\"2\"></font></td>\n",
    "    <td width=\"167\" bgcolor=\"#ffeeff\"><a href=\"stat_methods/분산분석_일원anova.pdf\"><font size=\"2\" face=\"굴림\">일원분산분석</font></a><font size=\"2\" face=\"굴림\"> | </font><a href=\"stat_methods/통계적방법_이원분산_공변량.pdf\"><font size=\"2\" face=\"굴림\">이원분산분석</font></a><font size=\"2\"></font></td>\n",
    "    <td width=\"167\" bgcolor=\"#ccffff\"><font size=\"2\" face=\"굴림\">&nbsp;</font></td>\n",
    "    <td width=\"167\" bgcolor=\"#ffffcc\"><a href=\"../../book/survey/reg_surevy_wolfpack.pdf\"><font size=\"2\" face=\"굴림\">회귀분석</font></a><a href=\"reg_surevy_wolfpack.pdf\"></a><font size=\"2\" face=\"굴림\">(리커트-&gt;리커트)</font><font size=\"2\"></font></td>\n",
    "    <td width=\"167\" bgcolor=\"#ccffff\"><font size=\"2\" face=\"굴림\">&nbsp;</font></td>\n",
    "  </tr>\n",
    "  <tr>\n",
    "    <td bgcolor=\"#ccffcc\" class=\"black\" width=\"167\"><font size=\"2\" face=\"굴림\">&nbsp;</font></td>\n",
    "        <td width=\"167\" bgcolor=\"#ccffcc\" class=\"black\"><a href=\"stat_methods/추론개념.pdf\"><font size=\"2\" face=\"굴림\">추론개념</font></a><font size=\"2\"></font></td>\n",
    "    <td bgcolor=\"#ffffcc\" width=\"167\"><font size=\"2\" face=\"굴림\">&nbsp;</font></td>\n",
    "    <td bgcolor=\"#ffeeff\" width=\"167\"><a href=\"stat_methods/sbe13_crosstab.pdf\"><font size=\"2\" face=\"굴림\">교차분석</font></a><font size=\"2\"></font></td>\n",
    "    <td bgcolor=\"#ccffff\" width=\"167\"><font size=\"2\" face=\"굴림\">&nbsp;</font></td>\n",
    "    <td bgcolor=\"#ffffcc\" width=\"167\"><font size=\"2\" face=\"굴림\">&nbsp;</font></td>\n",
    "    <td bgcolor=\"#ccffff\" width=\"167\"><font size=\"2\" face=\"굴림\">&nbsp;</font></td>\n",
    "  </tr>\n",
    "  <tr>\n",
    "    <td bgcolor=\"#ccffcc\" class=\"black\" width=\"167\"><font size=\"2\" face=\"굴림\">&nbsp;</font></td>\n",
    "        <td width=\"167\" bgcolor=\"#ccffcc\" class=\"black\"><a href=\"math4stat/ms_수학기초.pdf\"><font size=\"2\" face=\"굴림\">(지수, 로그, 기호)</font></a><font size=\"2\"></font></td>\n",
    "    <td bgcolor=\"#ffffcc\" width=\"167\"><font size=\"2\" face=\"굴림\">&nbsp;</font></td>\n",
    "    <td width=\"167\" bgcolor=\"#ffeeff\"><font size=\"2\" face=\"굴림\">&nbsp;</font></td>\n",
    "    <td bgcolor=\"#ccffff\" width=\"167\"><font size=\"2\" face=\"굴림\">&nbsp;</font></td>\n",
    "    <td bgcolor=\"#ffffcc\" width=\"167\"><a href=\"../../book/survey/page108.pdf\"><font size=\"2\" face=\"굴림\">SPSS다중문항빈도</font></a><font size=\"2\"></font></td>\n",
    "    <td bgcolor=\"#ccffff\" width=\"167\"><font size=\"2\" face=\"굴림\">&nbsp;</font></td>\n",
    "  </tr>\n",
    "  <tr>\n",
    "    <td bgcolor=\"#ccffcc\" class=\"black\" width=\"167\"><font size=\"2\" face=\"굴림\">&nbsp;</font></td>\n",
    "        <td width=\"167\" bgcolor=\"#ccffcc\" class=\"black\"><a href=\"math4stat/math_series.pdf\"><font size=\"2\" face=\"굴림\">(시리즈, 주요상수, 기하면적)</font></a><font size=\"2\"></font></td>\n",
    "    <td bgcolor=\"#ffffcc\" width=\"167\"><font size=\"2\" face=\"굴림\">&nbsp;</font></td>\n",
    "    <td bgcolor=\"#ffeeff\" width=\"167\"><font size=\"2\" face=\"굴림\">&nbsp;</font></td>\n",
    "    <td bgcolor=\"#ccffff\" width=\"167\"><font size=\"2\" face=\"굴림\">&nbsp;</font></td>\n",
    "    <td bgcolor=\"#ffffcc\" width=\"167\"><font size=\"2\" face=\"굴림\">&nbsp;</font></td>\n",
    "    <td bgcolor=\"#ccffff\" width=\"167\"><font size=\"2\" face=\"굴림\">&nbsp;</font></td>\n",
    "  </tr>\n",
    "  <tr>\n",
    "    <td width=\"167\" bgcolor=\"#ccffcc\" class=\"black\"><a href=\"math4stat/math_series.pdf\"></a><font size=\"2\"></font></td>\n",
    "        <td width=\"167\" bgcolor=\"#ccffcc\" class=\"black\"><font size=\"2\">&nbsp;</font></td>\n",
    "    <td width=\"167\" bgcolor=\"#ffffcc\"><font size=\"2\" face=\"굴림\">&nbsp;</font></td>\n",
    "    <td bgcolor=\"#ffeeff\" width=\"167\"><font size=\"2\" face=\"굴림\">&nbsp;</font></td>\n",
    "    <td width=\"167\" bgcolor=\"#ccffff\"><font size=\"2\" face=\"굴림\">&nbsp;</font></td>\n",
    "    <td width=\"167\" bgcolor=\"#ffffcc\"><a href=\"../../book/survey/page108.pdf\"></a><font size=\"2\"></font></td>\n",
    "    <td width=\"167\" bgcolor=\"#ccffff\"><font size=\"2\" face=\"굴림\">&nbsp;</font></td>\n",
    "  </tr>\n",
    "</tbody></table>"
   ]
  }
 ],
 "metadata": {
  "kernelspec": {
   "display_name": "Python 3 (ipykernel)",
   "language": "python",
   "name": "python3"
  },
  "language_info": {
   "codemirror_mode": {
    "name": "ipython",
    "version": 3
   },
   "file_extension": ".py",
   "mimetype": "text/x-python",
   "name": "python",
   "nbconvert_exporter": "python",
   "pygments_lexer": "ipython3",
   "version": "3.8.5"
  },
  "toc-autonumbering": true,
  "toc-showmarkdowntxt": false
 },
 "nbformat": 4,
 "nbformat_minor": 5
}
