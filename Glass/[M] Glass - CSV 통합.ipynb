{
 "cells": [
  {
   "cell_type": "code",
   "execution_count": 1,
   "id": "9a0e0728-1c40-420f-8042-5bb7052d7e28",
   "metadata": {},
   "outputs": [],
   "source": [
    "# https://archive.ics.uci.edu/ml/datasets/glass+identification\n",
    "\n",
    "# Glass 비교"
   ]
  },
  {
   "cell_type": "markdown",
   "id": "1579a08f-e4ef-4717-80f7-566bacd1d8db",
   "metadata": {},
   "source": [
    "# Import Module"
   ]
  },
  {
   "cell_type": "code",
   "execution_count": 2,
   "id": "be5f0a47-0f28-4ec8-954b-23edd8b14756",
   "metadata": {},
   "outputs": [],
   "source": [
    "from __future__ import print_function\n",
    "import numpy as np\n",
    "import pandas as pd\n",
    "# import tensorflow as tf\n",
    "import seaborn as sns\n",
    "import matplotlib.pyplot as plt\n",
    "import scipy as sp \n",
    "import statsmodels.api as sm \n",
    "\n",
    "import warnings\n",
    "warnings.filterwarnings(action='ignore')\n",
    "sns.set()\n",
    "\n",
    "# from keras.models import Model\n",
    "from sklearn.linear_model import LogisticRegression #--------------- 모델 (회귀모형 x에 따라 y값이 바뀜)\n",
    "from sklearn.ensemble import AdaBoostClassifier, GradientBoostingClassifier, RandomForestClassifier\n",
    "from sklearn.neighbors import KNeighborsClassifier\n",
    "from sklearn.model_selection import train_test_split\n",
    "from sklearn.model_selection import KFold, StratifiedKFold, cross_val_score, GridSearchCV\n",
    "from sklearn.metrics import classification_report, confusion_matrix, mean_absolute_error, mean_squared_error, r2_score\n",
    "from sklearn.metrics import accuracy_score, f1_score, recall_score, precision_score, roc_auc_score \n",
    "from sklearn.preprocessing import MinMaxScaler, RobustScaler, StandardScaler\n",
    "mm = MinMaxScaler()\n",
    "rb = RobustScaler()\n",
    "ss = StandardScaler()\n",
    "\n",
    "from sklearn.tree import DecisionTreeClassifier\n",
    "from sklearn.ensemble import RandomForestClassifier\n",
    "from  sklearn.ensemble import GradientBoostingClassifier"
   ]
  },
  {
   "cell_type": "markdown",
   "id": "22fe5104-d89e-429f-99c4-efba53444f4f",
   "metadata": {},
   "source": [
    "# 데이터 가져오기"
   ]
  },
  {
   "cell_type": "code",
   "execution_count": 3,
   "id": "f1d58349-b5d2-4027-b215-199956b16505",
   "metadata": {},
   "outputs": [],
   "source": [
    "glass = pd.read_csv(\"./dataset/glass.csv\")"
   ]
  },
  {
   "cell_type": "code",
   "execution_count": 4,
   "id": "879b5506-27ed-4027-a929-3f61d6e43408",
   "metadata": {},
   "outputs": [
    {
     "name": "stdout",
     "output_type": "stream",
     "text": [
      "(214, 9) (214,)\n"
     ]
    }
   ],
   "source": [
    "# 가져온 데이터 문제(X)/답안지(y)로 나누기\n",
    "X = glass.iloc[:,:-1]  #  [행,열]     # iloc 설명 : https://blog.naver.com/book_endlesspr/222733692151\n",
    "y = glass.iloc[:,-1]   #  [행,열]\n",
    "print(X.shape, y.shape)"
   ]
  },
  {
   "cell_type": "markdown",
   "id": "2ad87a24-91a1-4924-9600-9fb681d4938b",
   "metadata": {},
   "source": [
    "# 데이터 정보확인"
   ]
  },
  {
   "cell_type": "code",
   "execution_count": 5,
   "id": "cfe7ef17-e876-4871-a001-a7afa420e141",
   "metadata": {},
   "outputs": [],
   "source": [
    "#Attribute Information:\n",
    "\n",
    "# 1. Id number: 1 to 214\n",
    "# 2. RI: refractive index\n",
    "# 3. Na: Sodium (unit measurement: weight percent in corresponding oxide, as are attributes 4-10)\n",
    "# 4. Mg: Magnesium\n",
    "# 5. Al: Aluminum\n",
    "# 6. Si: Silicon\n",
    "# 7. K: Potassium\n",
    "# 8. Ca: Calcium\n",
    "# 9. Ba: Barium\n",
    "# 10. Fe: Iron\n",
    "# 11. Type of glass: (class attribute)\n",
    "# -- 1 building_windows_float_processed\n",
    "# -- 2 building_windows_non_float_processed\n",
    "# -- 3 vehicle_windows_float_processed\n",
    "# -- 4 vehicle_windows_non_float_processed (none in this database)\n",
    "# -- 5 containers\n",
    "# -- 6 tableware\n",
    "# -- 7 headlamps"
   ]
  },
  {
   "cell_type": "markdown",
   "id": "8a70ef5c-803f-4e79-b987-667fcbbd97b1",
   "metadata": {},
   "source": [
    "## DataFrame 구조확인"
   ]
  },
  {
   "cell_type": "code",
   "execution_count": 6,
   "id": "7a0a0384-95b3-4161-902b-4e0a885d6e5c",
   "metadata": {},
   "outputs": [
    {
     "data": {
      "text/plain": [
       "Index(['ri', 'na', 'mg', 'al', 'si', 'k', 'ca', 'ba', 'fe', 'glass_type'], dtype='object')"
      ]
     },
     "execution_count": 6,
     "metadata": {},
     "output_type": "execute_result"
    }
   ],
   "source": [
    "glass.keys()"
   ]
  },
  {
   "cell_type": "code",
   "execution_count": 1,
   "id": "cc3a4c16-269c-4120-99ab-3b950d4bf214",
   "metadata": {},
   "outputs": [
    {
     "ename": "NameError",
     "evalue": "name 'glass' is not defined",
     "output_type": "error",
     "traceback": [
      "\u001b[1;31m---------------------------------------------------------------------------\u001b[0m",
      "\u001b[1;31mNameError\u001b[0m                                 Traceback (most recent call last)",
      "Input \u001b[1;32mIn [1]\u001b[0m, in \u001b[0;36m<cell line: 1>\u001b[1;34m()\u001b[0m\n\u001b[1;32m----> 1\u001b[0m \u001b[43mglass\u001b[49m\u001b[38;5;241m.\u001b[39mhead()\n",
      "\u001b[1;31mNameError\u001b[0m: name 'glass' is not defined"
     ]
    }
   ],
   "source": [
    "glass.head()"
   ]
  },
  {
   "cell_type": "code",
   "execution_count": 8,
   "id": "865923a1-86ac-46fc-b572-ce1a726862d6",
   "metadata": {},
   "outputs": [
    {
     "name": "stdout",
     "output_type": "stream",
     "text": [
      "(214, 10)\n",
      "<class 'pandas.core.frame.DataFrame'>\n",
      "RangeIndex: 214 entries, 0 to 213\n",
      "Data columns (total 10 columns):\n",
      " #   Column      Non-Null Count  Dtype  \n",
      "---  ------      --------------  -----  \n",
      " 0   ri          214 non-null    float64\n",
      " 1   na          214 non-null    float64\n",
      " 2   mg          214 non-null    float64\n",
      " 3   al          214 non-null    float64\n",
      " 4   si          214 non-null    float64\n",
      " 5   k           184 non-null    float64\n",
      " 6   ca          214 non-null    float64\n",
      " 7   ba          214 non-null    float64\n",
      " 8   fe          213 non-null    float64\n",
      " 9   glass_type  214 non-null    int64  \n",
      "dtypes: float64(9), int64(1)\n",
      "memory usage: 16.8 KB\n",
      "None\n"
     ]
    }
   ],
   "source": [
    "print(glass.shape)\n",
    "print(glass.info())"
   ]
  },
  {
   "cell_type": "markdown",
   "id": "8c0a6b40-6f26-450b-a5ba-0ab3b926a2b6",
   "metadata": {},
   "source": [
    "## 결측치"
   ]
  },
  {
   "cell_type": "markdown",
   "id": "3a3dff4b-3952-4cae-a918-dc0a8d618fec",
   "metadata": {},
   "source": [
    "* 피쳐 k  : 결측 '0'으로 채우기\n",
    "* 피쳐 fe : 결측 '평균값'으로 채우기, 평균값은 반올림해 소수점2자리까지만 사용\n",
    "* 반올림 : round(), 올림 : math.ceil(), 내림:math.floor(), 소수점 버림:math.trunc() "
   ]
  },
  {
   "cell_type": "code",
   "execution_count": 9,
   "id": "1c0927a2-8958-4b6d-a45d-de76761f8947",
   "metadata": {},
   "outputs": [
    {
     "data": {
      "text/plain": [
       "k     30\n",
       "fe     1\n",
       "dtype: int64"
      ]
     },
     "execution_count": 9,
     "metadata": {},
     "output_type": "execute_result"
    }
   ],
   "source": [
    "# glass.isna().sum()\n",
    "glass.isna().sum()[glass.isna().sum() > 0]"
   ]
  },
  {
   "cell_type": "markdown",
   "id": "c5a004d7-45a2-44bb-b9bf-7f5f4c6eaa79",
   "metadata": {},
   "source": [
    "* 피쳐 k : 결측 '0'으로 채우기"
   ]
  },
  {
   "cell_type": "code",
   "execution_count": 10,
   "id": "5ea0113b-c62f-4e64-a2a3-9c6fcfe852ee",
   "metadata": {},
   "outputs": [],
   "source": [
    "glass['k'] = glass['k'].fillna(0)\n",
    "# glass['k'].fillna(0, inplace=True)"
   ]
  },
  {
   "cell_type": "code",
   "execution_count": 11,
   "id": "d65c12d7-0a8b-4096-b742-7cc87fe12d11",
   "metadata": {},
   "outputs": [
    {
     "data": {
      "text/plain": [
       "fe    1\n",
       "dtype: int64"
      ]
     },
     "execution_count": 11,
     "metadata": {},
     "output_type": "execute_result"
    }
   ],
   "source": [
    "glass.isna().sum()[glass.isna().sum() > 0]"
   ]
  },
  {
   "cell_type": "markdown",
   "id": "4f056ce4-0423-4c9e-8686-187d38350793",
   "metadata": {},
   "source": [
    "* 피쳐 fe : 결측  glass_type별 fe '평균값'으로 채우기, 평균값은 반올림해 소수점2자리까지만 사용 "
   ]
  },
  {
   "cell_type": "code",
   "execution_count": 12,
   "id": "f42459ee-8b4a-489a-b183-ed36780348f9",
   "metadata": {},
   "outputs": [],
   "source": [
    "# glass_type 별 fe 평균값\n",
    "a = glass.groupby(\"glass_type\")[\"fe\"].transform(\"mean\")\n",
    "\n",
    "# glass_type 별 fe 평균값 + 소수점 둘째자리에서 반올림\n",
    "b = round(glass.groupby(\"glass_type\")[\"fe\"].transform(\"mean\"),2)"
   ]
  },
  {
   "cell_type": "code",
   "execution_count": 13,
   "id": "15194a23-d0aa-4558-8afd-ff5dd60d9a8f",
   "metadata": {},
   "outputs": [],
   "source": [
    "# glass_type 별 fe 평균값 + 소수점 둘째자리에서 반올림 으로 결측 채우기\n",
    "glass[\"fe\"] = glass[\"fe\"].fillna( round(glass.groupby(\"glass_type\")[\"fe\"].transform(\"mean\"),2) )"
   ]
  },
  {
   "cell_type": "code",
   "execution_count": 14,
   "id": "9e6f1f2e-2597-4c71-8772-510073cbde68",
   "metadata": {},
   "outputs": [
    {
     "data": {
      "text/plain": [
       "ri            0\n",
       "na            0\n",
       "mg            0\n",
       "al            0\n",
       "si            0\n",
       "k             0\n",
       "ca            0\n",
       "ba            0\n",
       "fe            0\n",
       "glass_type    0\n",
       "dtype: int64"
      ]
     },
     "execution_count": 14,
     "metadata": {},
     "output_type": "execute_result"
    }
   ],
   "source": [
    "glass.isna().sum()"
   ]
  },
  {
   "cell_type": "markdown",
   "id": "b2b7e8b5-5b42-4012-a37f-6f24cdc5b7ea",
   "metadata": {
    "tags": []
   },
   "source": [
    "## 신규피쳐 만들기\n",
    "<pre>\n",
    "* 'household' 파생피쳐 추가\n",
    "*  Window 용 glass type =  0\n",
    "*  그 외( Household 용)  glass type = 0  \n",
    "\n",
    "11. Type of glass: (class attribute)\n",
    "-- 1 building_windows_float_processed\n",
    "-- 2 building_windows_non_float_processed\n",
    "-- 3 vehicle_windows_float_processed\n",
    "-- 4 vehicle_windows_non_float_processed (none in this database)\n",
    "-- 5 containers\n",
    "-- 6 tableware\n",
    "-- 7 headlamps"
   ]
  },
  {
   "cell_type": "code",
   "execution_count": 15,
   "id": "a9a209e9-445e-43be-a16c-622d8fb9adfe",
   "metadata": {},
   "outputs": [
    {
     "data": {
      "text/html": [
       "<div>\n",
       "<style scoped>\n",
       "    .dataframe tbody tr th:only-of-type {\n",
       "        vertical-align: middle;\n",
       "    }\n",
       "\n",
       "    .dataframe tbody tr th {\n",
       "        vertical-align: top;\n",
       "    }\n",
       "\n",
       "    .dataframe thead th {\n",
       "        text-align: right;\n",
       "    }\n",
       "</style>\n",
       "<table border=\"1\" class=\"dataframe\">\n",
       "  <thead>\n",
       "    <tr style=\"text-align: right;\">\n",
       "      <th></th>\n",
       "      <th>ri</th>\n",
       "      <th>na</th>\n",
       "      <th>mg</th>\n",
       "      <th>al</th>\n",
       "      <th>si</th>\n",
       "      <th>k</th>\n",
       "      <th>ca</th>\n",
       "      <th>ba</th>\n",
       "      <th>fe</th>\n",
       "      <th>glass_type</th>\n",
       "      <th>household</th>\n",
       "    </tr>\n",
       "  </thead>\n",
       "  <tbody>\n",
       "    <tr>\n",
       "      <th>0</th>\n",
       "      <td>1.52101</td>\n",
       "      <td>13.64</td>\n",
       "      <td>4.49</td>\n",
       "      <td>1.10</td>\n",
       "      <td>71.78</td>\n",
       "      <td>0.06</td>\n",
       "      <td>8.75</td>\n",
       "      <td>0.0</td>\n",
       "      <td>0.0</td>\n",
       "      <td>1</td>\n",
       "      <td>0</td>\n",
       "    </tr>\n",
       "    <tr>\n",
       "      <th>1</th>\n",
       "      <td>1.51761</td>\n",
       "      <td>13.89</td>\n",
       "      <td>3.60</td>\n",
       "      <td>1.36</td>\n",
       "      <td>72.73</td>\n",
       "      <td>0.48</td>\n",
       "      <td>7.83</td>\n",
       "      <td>0.0</td>\n",
       "      <td>0.0</td>\n",
       "      <td>1</td>\n",
       "      <td>0</td>\n",
       "    </tr>\n",
       "    <tr>\n",
       "      <th>2</th>\n",
       "      <td>1.51618</td>\n",
       "      <td>13.53</td>\n",
       "      <td>3.55</td>\n",
       "      <td>1.54</td>\n",
       "      <td>72.99</td>\n",
       "      <td>0.39</td>\n",
       "      <td>7.78</td>\n",
       "      <td>0.0</td>\n",
       "      <td>0.0</td>\n",
       "      <td>1</td>\n",
       "      <td>0</td>\n",
       "    </tr>\n",
       "    <tr>\n",
       "      <th>3</th>\n",
       "      <td>1.51766</td>\n",
       "      <td>13.21</td>\n",
       "      <td>3.69</td>\n",
       "      <td>1.29</td>\n",
       "      <td>72.61</td>\n",
       "      <td>0.57</td>\n",
       "      <td>8.22</td>\n",
       "      <td>0.0</td>\n",
       "      <td>0.0</td>\n",
       "      <td>1</td>\n",
       "      <td>0</td>\n",
       "    </tr>\n",
       "    <tr>\n",
       "      <th>4</th>\n",
       "      <td>1.51742</td>\n",
       "      <td>13.27</td>\n",
       "      <td>3.62</td>\n",
       "      <td>1.24</td>\n",
       "      <td>73.08</td>\n",
       "      <td>0.55</td>\n",
       "      <td>8.07</td>\n",
       "      <td>0.0</td>\n",
       "      <td>0.0</td>\n",
       "      <td>1</td>\n",
       "      <td>0</td>\n",
       "    </tr>\n",
       "  </tbody>\n",
       "</table>\n",
       "</div>"
      ],
      "text/plain": [
       "        ri     na    mg    al     si     k    ca   ba   fe  glass_type  \\\n",
       "0  1.52101  13.64  4.49  1.10  71.78  0.06  8.75  0.0  0.0           1   \n",
       "1  1.51761  13.89  3.60  1.36  72.73  0.48  7.83  0.0  0.0           1   \n",
       "2  1.51618  13.53  3.55  1.54  72.99  0.39  7.78  0.0  0.0           1   \n",
       "3  1.51766  13.21  3.69  1.29  72.61  0.57  8.22  0.0  0.0           1   \n",
       "4  1.51742  13.27  3.62  1.24  73.08  0.55  8.07  0.0  0.0           1   \n",
       "\n",
       "   household  \n",
       "0          0  \n",
       "1          0  \n",
       "2          0  \n",
       "3          0  \n",
       "4          0  "
      ]
     },
     "execution_count": 15,
     "metadata": {},
     "output_type": "execute_result"
    }
   ],
   "source": [
    "glass['household'] = glass['glass_type'].map({ 1:0 , 2:0 , 3:0 , 4:0 , 5:1 , 6:1 , 7:1 })\n",
    "glass.head()"
   ]
  },
  {
   "cell_type": "markdown",
   "id": "de2b3533-599d-4c0b-a883-46e449797d95",
   "metadata": {},
   "source": [
    "# 모델 학습 및 평가"
   ]
  },
  {
   "cell_type": "markdown",
   "id": "415ad046-ee8c-44a6-9518-636eea04dcf6",
   "metadata": {
    "tags": []
   },
   "source": [
    "## 모델학습 \n",
    "* train_test 분리\n",
    "* test 데이터 크기는 전체 데이터의 20% 사용"
   ]
  },
  {
   "cell_type": "code",
   "execution_count": 16,
   "id": "44c1ff4f-ca74-4eaf-974b-31a6337f4123",
   "metadata": {},
   "outputs": [
    {
     "name": "stdout",
     "output_type": "stream",
     "text": [
      "(214, 10) (214,)\n"
     ]
    }
   ],
   "source": [
    "X = glass.drop(['glass_type'],  axis=1)\n",
    "y = glass['glass_type']\n",
    "# X = glass.iloc[: , :-1]\n",
    "# y = glass['glass_type']\n",
    "\n",
    "print(X.shape, y.shape)"
   ]
  },
  {
   "cell_type": "code",
   "execution_count": 17,
   "id": "73edd9ee-9ed1-4a41-8844-38b65c5dc017",
   "metadata": {},
   "outputs": [
    {
     "name": "stdout",
     "output_type": "stream",
     "text": [
      "(171, 10) (43, 10) (171,) (43,)\n"
     ]
    }
   ],
   "source": [
    "train_X,test_X,train_y,test_y = train_test_split(X, y, test_size=0.2,random_state=1111, shuffle=True) \n",
    "print(train_X.shape , test_X.shape,  train_y.shape,test_y.shape)"
   ]
  },
  {
   "cell_type": "markdown",
   "id": "53b69c71-d337-45fb-89e8-92d497d11750",
   "metadata": {},
   "source": [
    "## 모델평가"
   ]
  },
  {
   "cell_type": "markdown",
   "id": "31dbafed-bfc3-4cf8-96d4-04b2505f0080",
   "metadata": {},
   "source": [
    "<pre>\n",
    "* 하이퍼파라미터 : 모델링할 때 사용자가 직접 세팅해주는 값\n",
    "* 파라미터 : 매개변수 \n",
    "* fit : 학습\n",
    "* predict : 예측\n",
    "* model : 학습모델\n",
    "<b>\n",
    "* model.fit(학습문제, 학습답안)\n",
    "* model.predict(시험문제)"
   ]
  },
  {
   "cell_type": "markdown",
   "id": "6152c9e1-d174-440d-8a83-63ad7d02ff32",
   "metadata": {},
   "source": [
    "- 분류모델 : LogisticRegression (기본 파라미터 사용)\n",
    "- 점수 : f1"
   ]
  },
  {
   "cell_type": "code",
   "execution_count": 18,
   "id": "587c4b21-0da2-4d6e-92cd-e878992f4e1b",
   "metadata": {},
   "outputs": [],
   "source": [
    "lr_model = LogisticRegression(penalty='l2', C=1.0)\n",
    "\n",
    "lr_model.fit(train_X, train_y)\n",
    "lr_pred = lr_model.predict(test_X)\n",
    "\n",
    "# print(f'intercept   = {lr_model.intercept_}')   # 편향 / 절편 / 파라미터\n",
    "# print(f'coefficient = {lr_model.coef_}')        # 기울기 / 가중치 / 계수 \n",
    "# y = ax + b ( a = coefficient / b = intercept )\n",
    "# https://blog.naver.com/studyseony/222714186671"
   ]
  },
  {
   "cell_type": "code",
   "execution_count": 19,
   "id": "734a991e-d75e-43f3-911c-b27637a37964",
   "metadata": {},
   "outputs": [
    {
     "name": "stdout",
     "output_type": "stream",
     "text": [
      "Confusion matrix\n",
      "[[11  4  0  0  0  0]\n",
      " [ 6  9  0  0  0  0]\n",
      " [ 1  0  0  0  0  0]\n",
      " [ 0  2  0  2  0  1]\n",
      " [ 0  0  0  0  2  0]\n",
      " [ 0  0  0  0  0  5]]\n",
      "잘못 분류된 샘플 개수: 14\n",
      "Accuracy (정확도)  : 0.6744\n",
      "Precision (정밀도) : 0.6741\n",
      "Recall (재현율)    : 0.6222\n",
      "F1                 : 0.6245\n"
     ]
    }
   ],
   "source": [
    "print('Confusion matrix')    # https://nittaku.tistory.com/294\n",
    "print(confusion_matrix(test_y, lr_pred))\n",
    "\n",
    "print(f\"잘못 분류된 샘플 개수: {(test_y != lr_pred).sum()}\")\n",
    "print(f\"Accuracy (정확도)  : {accuracy_score(test_y, lr_pred):.4f}\")\n",
    "print(f\"Precision (정밀도) : {precision_score(test_y, lr_pred, average='macro'):.4f}\")\n",
    "print(f\"Recall (재현율)    : {recall_score(test_y, lr_pred, average='macro'):.4f}\")\n",
    "print(f\"F1                 : {f1_score(test_y, lr_pred, average='macro'):.4f}\")"
   ]
  },
  {
   "cell_type": "markdown",
   "id": "7c43c4e3-0306-498f-ba9d-5378a54ef910",
   "metadata": {},
   "source": [
    "# 교차검증\n",
    "- Cross Validation\n",
    "\n",
    "\n",
    "< 사용하는 이유 >\n",
    "- 모델의 변동성을 줄여준다.\n",
    "- over fitting 문제 해결\n",
    "\n",
    "\n",
    "< 사용방법 >\n",
    "1. train / test 분리\n",
    "2. 모델별 성능 기록\n",
    "3. 매 단계 마다 다른 partition 으로 1,2번 수행\n",
    "4. 모델의 최종성능은 매 단계의 test 성능의 평균을 계산"
   ]
  },
  {
   "cell_type": "code",
   "execution_count": 20,
   "id": "4e85cf5d-08a8-47e6-abb2-18ae051f74b0",
   "metadata": {},
   "outputs": [],
   "source": [
    "# KFold()           : 무작위 증강\n",
    "# StratifiedKFold() : target을 train,test에 골로루 증강\n",
    "# cross_val_score() : 증강해서 점수만 리턴\n",
    "# GridSearchCV      : 증강 + 모델튜닝\n",
    "\n",
    "from sklearn.model_selection import KFold, StratifiedKFold, cross_val_score, GridSearchCV\n",
    "kf = KFold()\n",
    "skf = StratifiedKFold()\n",
    "# cvs = cross_val_score()\n",
    "# gcv = GridSearchCV()"
   ]
  },
  {
   "cell_type": "markdown",
   "id": "e55173d0-14b1-4392-836d-84e3fb720931",
   "metadata": {},
   "source": [
    "## KFold (회귀)"
   ]
  },
  {
   "cell_type": "code",
   "execution_count": 21,
   "id": "6dec98e6-9e32-4e91-9cc4-37bbbdb69951",
   "metadata": {},
   "outputs": [],
   "source": [
    "# split=5면 전체를 5개로 나누고 돌아가면서 test로 지정 후 검사함. 그 점수들을 평균내서 모델의 평가성능 도출 (적은 데이터로 여러번 학습하는 효과)\n",
    "# 200개 데이터를 8:2로 나누면 40문제를 풀지만 fold는 200문제 푼다. (5배의 학습)"
   ]
  },
  {
   "cell_type": "code",
   "execution_count": 23,
   "id": "157068bf-95fe-4855-8960-3ae933d1f637",
   "metadata": {
    "tags": []
   },
   "outputs": [
    {
     "name": "stdout",
     "output_type": "stream",
     "text": [
      "TRAIN: [  0   1   2   3   4   5   6   7   9  11  12  13  14  15  16  17  18  19\n",
      "  21  23  24  25  26  27  28  29  30  31  33  34  35  37  39  40  41  42\n",
      "  44  45  46  47  48  50  51  52  53  54  55  56  58  60  61  62  63  64\n",
      "  65  66  67  68  69  70  71  72  75  76  77  78  79  80  81  82  83  84\n",
      "  86  87  88  90  91  92  93  94  95  96  97  98  99 100 101 103 104 106\n",
      " 107 108 109 110 112 113 114 115 117 119 121 122 125 126 128 129 130 131\n",
      " 132 133 134 135 136 137 138 139 141 142 144 146 147 150 151 153 154 155\n",
      " 156 157 159 160 161 162 163 164 165 166 167 168 169 170 172 173 174 175\n",
      " 176 177 178 179 180 181 183 185 187 189 190 191 192 193 194 197 199 200\n",
      " 202 203 204 205 206 208 209 210 213]\n",
      "TEST: [  8  10  20  22  32  36  38  43  49  57  59  73  74  85  89 102 105 111\n",
      " 116 118 120 123 124 127 140 143 145 148 149 152 158 171 182 184 186 188\n",
      " 195 196 198 201 207 211 212]\n",
      "Confusion matrix\n",
      "[[ 7  4  0  0  0  0]\n",
      " [ 5 10  0  1  0  0]\n",
      " [ 2  2  0  0  0  0]\n",
      " [ 0  0  0  1  0  0]\n",
      " [ 0  0  0  0  0  2]\n",
      " [ 0  0  0  1  1  7]]\n",
      "F1        : 0.4105\n",
      "TRAIN: [  1   3   6   7   8   9  10  11  12  13  14  15  16  18  19  20  21  22\n",
      "  23  24  25  26  27  28  32  33  34  35  36  37  38  41  42  43  44  45\n",
      "  46  48  49  50  52  53  54  55  56  57  59  60  61  62  63  64  66  67\n",
      "  70  71  72  73  74  75  76  77  80  81  83  84  85  86  87  88  89  90\n",
      "  91  92  93  94  95  96  97  98 100 102 104 105 106 107 109 110 111 112\n",
      " 114 115 116 117 118 119 120 121 122 123 124 125 126 127 128 130 131 132\n",
      " 137 138 139 140 141 142 143 144 145 146 147 148 149 150 151 152 153 154\n",
      " 158 159 160 161 163 164 165 166 168 169 171 173 175 176 177 178 180 181\n",
      " 182 183 184 185 186 187 188 189 190 192 193 194 195 196 198 199 200 201\n",
      " 202 203 204 206 207 209 211 212 213]\n",
      "TEST: [  0   2   4   5  17  29  30  31  39  40  47  51  58  65  68  69  78  79\n",
      "  82  99 101 103 108 113 129 133 134 135 136 155 156 157 162 167 170 172\n",
      " 174 179 191 197 205 208 210]\n",
      "Confusion matrix\n",
      "[[13  3  0  0  0  0]\n",
      " [ 5  7  0  0  1  0]\n",
      " [ 3  1  0  0  0  0]\n",
      " [ 0  0  0  4  0  0]\n",
      " [ 0  0  0  0  1  0]\n",
      " [ 0  0  0  0  0  5]]\n",
      "F1        : 0.6588\n",
      "TRAIN: [  0   2   4   5   7   8  10  11  12  13  15  16  17  18  19  20  21  22\n",
      "  23  24  27  28  29  30  31  32  33  36  37  38  39  40  41  42  43  45\n",
      "  46  47  48  49  50  51  52  53  57  58  59  60  61  62  63  64  65  68\n",
      "  69  72  73  74  76  77  78  79  81  82  85  86  87  88  89  90  91  93\n",
      "  94  96  97  99 100 101 102 103 104 105 108 109 111 112 113 114 116 118\n",
      " 119 120 121 122 123 124 125 126 127 129 130 132 133 134 135 136 137 138\n",
      " 139 140 142 143 144 145 146 147 148 149 151 152 153 154 155 156 157 158\n",
      " 160 162 163 165 166 167 169 170 171 172 173 174 176 177 178 179 180 181\n",
      " 182 183 184 186 187 188 191 192 193 194 195 196 197 198 199 201 203 204\n",
      " 205 206 207 208 209 210 211 212 213]\n",
      "TEST: [  1   3   6   9  14  25  26  34  35  44  54  55  56  66  67  70  71  75\n",
      "  80  83  84  92  95  98 106 107 110 115 117 128 131 141 150 159 161 164\n",
      " 168 175 185 189 190 200 202]\n",
      "Confusion matrix\n",
      "[[ 8  7  0  0  0  0]\n",
      " [ 3 13  0  1  0  0]\n",
      " [ 1  2  0  0  0  0]\n",
      " [ 0  0  0  2  0  1]\n",
      " [ 0  0  0  0  0  0]\n",
      " [ 0  0  0  0  1  4]]\n",
      "F1        : 0.4543\n",
      "TRAIN: [  0   1   2   3   4   5   6   8   9  10  11  12  13  14  15  16  17  18\n",
      "  20  22  24  25  26  27  29  30  31  32  33  34  35  36  38  39  40  41\n",
      "  43  44  45  47  48  49  51  53  54  55  56  57  58  59  65  66  67  68\n",
      "  69  70  71  72  73  74  75  76  77  78  79  80  81  82  83  84  85  87\n",
      "  88  89  90  92  93  94  95  96  97  98  99 101 102 103 105 106 107 108\n",
      " 110 111 112 113 115 116 117 118 120 122 123 124 125 126 127 128 129 130\n",
      " 131 133 134 135 136 139 140 141 142 143 144 145 147 148 149 150 151 152\n",
      " 155 156 157 158 159 161 162 164 165 166 167 168 170 171 172 173 174 175\n",
      " 177 179 181 182 183 184 185 186 188 189 190 191 192 195 196 197 198 199\n",
      " 200 201 202 205 207 208 210 211 212]\n",
      "TEST: [  7  19  21  23  28  37  42  46  50  52  60  61  62  63  64  86  91 100\n",
      " 104 109 114 119 121 132 137 138 146 153 154 160 163 169 176 178 180 187\n",
      " 193 194 203 204 206 209 213]\n",
      "Confusion matrix\n",
      "[[10  5  0  0  0  0]\n",
      " [ 2  9  0  0  0  0]\n",
      " [ 2  2  0  0  0  0]\n",
      " [ 0  0  0  1  0  1]\n",
      " [ 0  0  0  0  2  1]\n",
      " [ 1  0  0  0  0  7]]\n",
      "F1        : 0.6039\n",
      "TRAIN: [  0   1   2   3   4   5   6   7   8   9  10  14  17  19  20  21  22  23\n",
      "  25  26  28  29  30  31  32  34  35  36  37  38  39  40  42  43  44  46\n",
      "  47  49  50  51  52  54  55  56  57  58  59  60  61  62  63  64  65  66\n",
      "  67  68  69  70  71  73  74  75  78  79  80  82  83  84  85  86  89  91\n",
      "  92  95  98  99 100 101 102 103 104 105 106 107 108 109 110 111 113 114\n",
      " 115 116 117 118 119 120 121 123 124 127 128 129 131 132 133 134 135 136\n",
      " 137 138 140 141 143 145 146 148 149 150 152 153 154 155 156 157 158 159\n",
      " 160 161 162 163 164 167 168 169 170 171 172 174 175 176 178 179 180 182\n",
      " 184 185 186 187 188 189 190 191 193 194 195 196 197 198 200 201 202 203\n",
      " 204 205 206 207 208 209 210 211 212 213]\n",
      "TEST: [ 11  12  13  15  16  18  24  27  33  41  45  48  53  72  76  77  81  87\n",
      "  88  90  93  94  96  97 112 122 125 126 130 139 142 144 147 151 165 166\n",
      " 173 177 181 183 192 199]\n",
      "Confusion matrix\n",
      "[[10  3  0  0  0  0]\n",
      " [ 4 15  0  0  0  0]\n",
      " [ 1  1  0  0  0  0]\n",
      " [ 1  1  0  1  0  0]\n",
      " [ 0  1  0  0  2  0]\n",
      " [ 0  0  0  0  0  2]]\n",
      "F1        : 0.6233\n",
      "fl score :  0.5501530330194969\n"
     ]
    }
   ],
   "source": [
    "kf = KFold(n_splits=5, shuffle=True, random_state=2022)       # 샘플이 어느 한쪽에 치우치지 않도록 Shuffle = True (예외. 시계열은 무조건  shuffle=False)\n",
    "cm_list = []      # Confusion Matrix 용\n",
    "f1_list = []      # F1 용\n",
    "\n",
    "for train_idx, test_idx in kf.split(X):\n",
    "    X_train, y_train = X.iloc[train_idx], y.iloc[train_idx]       # iloc : train 데이터셋에서 인덱스가 train_idx와 동일한 것만 추출\n",
    "    X_test,  y_test  = X.iloc[test_idx], y.iloc[test_idx]         # iloc : test 데이터셋에서 인덱스가 test_idx와 동일한 것만 추출\n",
    "    print(\"TRAIN:\", train_idx)\n",
    "    print(\"TEST:\", test_idx)\n",
    "    \n",
    "    lr_model = LogisticRegression(penalty='l2', C=1.0)            # LogisticRegression  => Regressor 라고 부르지만 분류모델임 !\n",
    "    lr_model.fit(X_train, y_train)                                # penalty = 'l2' 는 규제 (https://teddylee777.github.io/scikit-learn/scikit-learn-linear-with-regularizations)\n",
    "    lr_pred = lr_model.predict(X_test)\n",
    "    print('Confusion matrix')\n",
    "    print(confusion_matrix(y_test, lr_pred))   \n",
    "    cm_list.append(confusion_matrix(y_test, lr_pred)) \n",
    "    print(f\"F1        : {f1_score(y_test, lr_pred, average='macro'):.4f}\")\n",
    "    f1_list.append(f1_score(y_test, lr_pred, average='macro'))\n",
    "print('fl score : ',np.mean(f1_list))"
   ]
  },
  {
   "cell_type": "markdown",
   "id": "2c746b89-e549-410c-a0a4-27a7e7fb39d3",
   "metadata": {
    "tags": []
   },
   "source": [
    "## StratifiedKFold (분류)"
   ]
  },
  {
   "cell_type": "code",
   "execution_count": 24,
   "id": "e9bd5183-d93c-44fb-b5ed-5f4c683b3387",
   "metadata": {},
   "outputs": [],
   "source": [
    "# KFold는 문제집 핀 곳만 푼 느낌이면 이건 무작위로 페이지 펴서 푼 느낌. ( train/test 분포를 보다 동일하게 분배해줌 ) \n",
    "# 회귀는 연속성의 데이터가 많아서 골고루의 개념이 없음"
   ]
  },
  {
   "cell_type": "code",
   "execution_count": 29,
   "id": "9fd543b5-bf2b-41fa-82b7-0dd8a3edacb4",
   "metadata": {
    "tags": []
   },
   "outputs": [
    {
     "name": "stdout",
     "output_type": "stream",
     "text": [
      "TRAIN: [  0   2   3   6   7  10  11  12  13  16  17  18  19  20  21  23  24  25\n",
      "  28  31  32  33  35  37  39  42  44  45  46  47  48  49  52  53  54  55\n",
      "  56  57  60  61  62  63  65  67  68  69  70  71  72  73  75  77  78  79\n",
      "  81  82  84  87  88  89  90  93  95  97  98  99 101 103 104 105 106 107\n",
      " 108 110 114 115 116 117 120 121 123 124 125 126 127 130 132 133 134 137\n",
      " 138 139 140 142 143 144 145 146 147 148 151 152 153 156 158 159 160 161\n",
      " 164 165 166 167 170 171 172 173 175 176 178 180 181 182 184 186 187 188\n",
      " 190 191 193 194 195 196 197 198 199 200 201 203 207 209 211 213]\n",
      "TEST: [  1   4   5   8   9  14  15  22  26  27  29  30  34  36  38  40  41  43\n",
      "  50  51  58  59  64  66  74  76  80  83  85  86  91  92  94  96 100 102\n",
      " 109 111 112 113 118 119 122 128 129 131 135 136 141 149 150 154 155 157\n",
      " 162 163 168 169 174 177 179 183 185 189 192 202 204 205 206 208 210 212]\n",
      "Confusion matrix\n",
      "[[18  6  0  0  0  0]\n",
      " [ 6 19  0  0  0  0]\n",
      " [ 5  1  0  0  0  0]\n",
      " [ 0  1  0  2  0  1]\n",
      " [ 1  0  0  0  2  0]\n",
      " [ 0  0  0  0  0 10]]\n",
      "F1        : 0.6361\n",
      "TRAIN: [  0   1   4   5   6   8   9  12  13  14  15  16  19  22  24  26  27  28\n",
      "  29  30  31  33  34  35  36  37  38  40  41  42  43  44  45  46  48  50\n",
      "  51  53  54  55  58  59  63  64  66  67  68  71  72  74  75  76  77  78\n",
      "  80  81  83  85  86  87  90  91  92  94  96  99 100 102 103 106 107 108\n",
      " 109 111 112 113 114 115 116 118 119 122 123 126 127 128 129 130 131 132\n",
      " 133 135 136 138 140 141 145 146 148 149 150 152 154 155 156 157 160 161\n",
      " 162 163 164 166 167 168 169 173 174 176 177 178 179 181 183 185 189 192\n",
      " 193 194 197 198 200 202 203 204 205 206 207 208 209 210 211 212 213]\n",
      "TEST: [  2   3   7  10  11  17  18  20  21  23  25  32  39  47  49  52  56  57\n",
      "  60  61  62  65  69  70  73  79  82  84  88  89  93  95  97  98 101 104\n",
      " 105 110 117 120 121 124 125 134 137 139 142 143 144 147 151 153 158 159\n",
      " 165 170 171 172 175 180 182 184 186 187 188 190 191 195 196 199 201]\n",
      "Confusion matrix\n",
      "[[18  5  0  0  0  0]\n",
      " [ 6 20  0  0  0  0]\n",
      " [ 1  4  0  0  0  0]\n",
      " [ 0  0  0  5  0  0]\n",
      " [ 0  0  0  0  1  2]\n",
      " [ 1  0  0  1  1  6]]\n",
      "F1        : 0.5795\n",
      "TRAIN: [  1   2   3   4   5   7   8   9  10  11  14  15  17  18  20  21  22  23\n",
      "  25  26  27  29  30  32  34  36  38  39  40  41  43  47  49  50  51  52\n",
      "  56  57  58  59  60  61  62  64  65  66  69  70  73  74  76  79  80  82\n",
      "  83  84  85  86  88  89  91  92  93  94  95  96  97  98 100 101 102 104\n",
      " 105 109 110 111 112 113 117 118 119 120 121 122 124 125 128 129 131 134\n",
      " 135 136 137 139 141 142 143 144 147 149 150 151 153 154 155 157 158 159\n",
      " 162 163 165 168 169 170 171 172 174 175 177 179 180 182 183 184 185 186\n",
      " 187 188 189 190 191 192 195 196 199 201 202 204 205 206 208 210 212]\n",
      "TEST: [  0   6  12  13  16  19  24  28  31  33  35  37  42  44  45  46  48  53\n",
      "  54  55  63  67  68  71  72  75  77  78  81  87  90  99 103 106 107 108\n",
      " 114 115 116 123 126 127 130 132 133 138 140 145 146 148 152 156 160 161\n",
      " 164 166 167 173 176 178 181 193 194 197 198 200 203 207 209 211 213]\n",
      "Confusion matrix\n",
      "[[15  8  0  0  0  0]\n",
      " [10 14  0  1  0  0]\n",
      " [ 3  3  0  0  0  0]\n",
      " [ 0  0  0  4  0  0]\n",
      " [ 0  0  0  0  3  0]\n",
      " [ 0  0  0  0  0 10]]\n",
      "F1        : 0.6729\n",
      "fl score :  0.6294748647969937\n"
     ]
    }
   ],
   "source": [
    "skf = StratifiedKFold(n_splits=3, shuffle=True, random_state=2022)  # y값을 각 fold안에 골고루 넣어주기 때문에 굳이 셔플 True 할 필요 없음\n",
    "cm_list = []\n",
    "f1_list = []\n",
    "    \n",
    "for train_idx, test_idx in skf.split(X, y):\n",
    "    X_train, y_train = X.iloc[train_idx], y.iloc[train_idx]         # iloc : train 데이터셋에서 인덱스가 train_idx와 동일한 것만 추출\n",
    "    X_test,  y_test  = X.iloc[test_idx], y.iloc[test_idx]           # iloc : test 데이터셋에서 인덱스가 test_idx와 동일한 것만 추출\n",
    "    print(\"TRAIN:\", train_idx)\n",
    "    print(\"TEST:\", test_idx)\n",
    "    \n",
    "    lr_model = LogisticRegression(penalty='l2', C=1.0)\n",
    "    lr_model.fit(X_train, y_train)\n",
    "    lr_pred = lr_model.predict(X_test)\n",
    "    \n",
    "    print('Confusion matrix')\n",
    "    print(confusion_matrix(y_test, lr_pred))   \n",
    "    cm_list.append(confusion_matrix(y_test, lr_pred)) \n",
    "    \n",
    "    print(f\"F1        : {f1_score(y_test, lr_pred, average='macro'):.4f}\")\n",
    "    f1_list.append(f1_score(y_test, lr_pred, average='macro'))\n",
    "    \n",
    "print('fl score : ',np.mean(f1_list))"
   ]
  },
  {
   "cell_type": "markdown",
   "id": "e69491b6-a2f2-49cd-b66d-718cf4bd4851",
   "metadata": {},
   "source": [
    "## Cross_val_score"
   ]
  },
  {
   "cell_type": "code",
   "execution_count": 30,
   "id": "ab89ccb9-43d5-4459-a980-8859c08e3aff",
   "metadata": {},
   "outputs": [],
   "source": [
    "# 컴퓨터가 알아서 train/test 분리 후 교차검증해서 점수 출력\n",
    "# 중간과정의 개입이 안들어가짐\n",
    "# 비교, 가공 등 처리해야 될 것들이 있다면 다른 모델 사용 ( but 주로 Cross_val_score 사용 )"
   ]
  },
  {
   "cell_type": "code",
   "execution_count": 31,
   "id": "ccfdd19d-2aaa-4617-a2b8-05c4db89b208",
   "metadata": {},
   "outputs": [
    {
     "name": "stdout",
     "output_type": "stream",
     "text": [
      "[0.39864147 0.55656667 0.50746123]\n",
      "0.4875564559207806\n"
     ]
    }
   ],
   "source": [
    "scores_arr = cross_val_score(lr_model , X, y , scoring=\"f1_macro\", cv=3)\n",
    "print(scores_arr)   # split 각각의 평가값\n",
    "print(scores_arr.mean())  # split 각각 평가값의 평균\n",
    "\n",
    "# 이걸 전부 cross_val_score가 다 알아서 처리해주고 결과만 리턴해줌 \n",
    "# for train_index ,test_index  in skf.split(X  , y): \n",
    "#     train_X, test_X = X.iloc[train_index], X.iloc[test_index]\n",
    "#     train_y , test_y = y.iloc[train_index], y.iloc[test_index]\n",
    "#     print(\"TRAIN:\", train_index, \"TEST:\", test_index)\n",
    "#     print(train_X.shape, test_X.shape , train_y.shape , test_y.shape )\n",
    "#     print(X_train.value_counts())\n",
    "#     print(y_train.value_counts())\n",
    "\n",
    "#     lr_model = LogisticRegression(penalty='l2', C=1.0)\n",
    "#     lr_model.fit(X_train, y_train)\n",
    "#     computer_pred  = lr_model.predict(X_test)\n",
    "    \n",
    "#     f1 = f1_score( y_test, computer_pred, average = 'macro')\n",
    "#     f1_list.append(f1)\n",
    "#     print(f1)\n",
    "#     print(confusion_matrix(y_test, computer_pred))\n",
    "      # return np.array(f1_list)"
   ]
  },
  {
   "cell_type": "markdown",
   "id": "c96b0eb9-70c4-4486-a874-777ec3233aeb",
   "metadata": {},
   "source": [
    "# 모델교체 "
   ]
  },
  {
   "cell_type": "markdown",
   "id": "d01d88fd-57c0-4d44-bdad-104dd45ee413",
   "metadata": {},
   "source": [
    "<pre>\n",
    "<b>CART Model (Classification And Regression Trees)</b>\n",
    "  > 분류/회귀 둘 다 가능\n",
    "\n",
    "<b>tree:</b>\n",
    "    대표적인 모델 - decisiontreeclassifier\n",
    "    단점 - 과적합 ( 데이터에 딱 맞춰서 학습 >> 새로운 유형의 데이터가 나오면 점수 나락) \n",
    "    \n",
    "<b>bagging:</b>\n",
    "    대표적인 모델 - randomforestclassifier\n",
    "\n",
    "<b>boosting:</b> \n",
    "    대표적인 모델 - adaboostclassifier\n",
    "                  - xgboost lightgbm catboost ( feature 가 너무 많아 과적함을 피함 )\n",
    "    데이터 계속 복제 > 틀린 쪽 버리고 맞춘 쪽 가중치 세게줌 > 의미없는 데이터 버리고 좋은 데이터로 최종 fitting               \n",
    "    가중치 조절로 선명하고 좋은 트리 만들어줌\n",
    "    다양한 모델 사용한 효과\n",
    "     \n",
    "<b>votingclassifier:</b> \n",
    "    bagging 과 boosting 섞음  "
   ]
  },
  {
   "cell_type": "code",
   "execution_count": 33,
   "id": "ba0bfa3d-ac69-4a17-aec0-eb1517864acd",
   "metadata": {},
   "outputs": [],
   "source": [
    "from sklearn.tree import DecisionTreeClassifier\n",
    "from sklearn.ensemble import RandomForestClassifier\n",
    "from  sklearn.ensemble import GradientBoostingClassifier"
   ]
  },
  {
   "cell_type": "code",
   "execution_count": 46,
   "id": "73cddfe7-6576-4576-a4ed-6556e5237cf0",
   "metadata": {},
   "outputs": [
    {
     "name": "stdout",
     "output_type": "stream",
     "text": [
      "LR\n",
      "DT\n",
      "RF\n",
      "GB\n"
     ]
    }
   ],
   "source": [
    "model_list = [ (\"LR\", LogisticRegression(penalty='l2', C=1.0)),\n",
    "               (\"DT\", DecisionTreeClassifier()),\n",
    "               (\"RF\", RandomForestClassifier()),   # DecisionTreeClassifier 100개 돌린 효과\n",
    "               (\"GB\", GradientBoostingClassifier())]\n",
    "for (name, model) in model_list:\n",
    "    print (name)"
   ]
  },
  {
   "cell_type": "markdown",
   "id": "43c5ec09-7af1-4f04-81a6-1bbb7e4d77d5",
   "metadata": {},
   "source": [
    "# 하이퍼 파라미터"
   ]
  },
  {
   "cell_type": "code",
   "execution_count": 48,
   "id": "8dda054b-a368-4192-9bd6-bd156a5883ba",
   "metadata": {},
   "outputs": [],
   "source": [
    "# 모델학습에 많은 영향을 미친다\n",
    "# 파라미터 : 데이터로부터 추정된 조정불가한 값 \n",
    "# 하이퍼 파라미터 : 모델링을 위해 설정해주는 값\n",
    "# https://blog.naver.com/leehgyu/222388321634"
   ]
  },
  {
   "cell_type": "markdown",
   "id": "16c90514-45e0-40e7-9f70-2a0ed57cda08",
   "metadata": {},
   "source": [
    "## GridSearchCV"
   ]
  },
  {
   "cell_type": "markdown",
   "id": "8d1c3c4e-f22a-420c-ae2d-f5f6433aa864",
   "metadata": {},
   "source": [
    "<pre>\n",
    "# <b>파라미터를 손댐으로써 모델을 교체하지 않더라도 모델튜닝이 가능 </b> \n",
    "\n",
    "# <b>최상의 모델을 찾은 후 훈련 세트 전체를 사용해 최종 모델을 훈련 </b>\n",
    "\n",
    "\n",
    "- <b>oob_score</b> : True 로 설정시 따로 test 줄 필요없음 (나머지 데이터로 알아서 처리)\n",
    "\n",
    "- <b>gini(불순도)</b>    : 불순도 높은 데이터를 가지치기 함\n",
    "\n",
    "- <b>entropy(정보량)</b> : 정보량 많은 쪽으로 이동\n"
   ]
  },
  {
   "cell_type": "code",
   "execution_count": 51,
   "id": "05e51e97-38c8-476a-96d8-aacf568843e0",
   "metadata": {},
   "outputs": [],
   "source": [
    "# GridSearchCV(estimator, param_grid, , scoring=None, n_jobs=None, refit=True, cv=None, verbose=0, pre_dispatch='2n_jobs', error_score=nan, return_train_score=False)"
   ]
  },
  {
   "cell_type": "code",
   "execution_count": 54,
   "id": "23717aad-f4df-4990-967f-8df96dc36bad",
   "metadata": {},
   "outputs": [
    {
     "ename": "NameError",
     "evalue": "name 'X_train_scaler' is not defined",
     "output_type": "error",
     "traceback": [
      "\u001b[1;31m---------------------------------------------------------------------------\u001b[0m",
      "\u001b[1;31mNameError\u001b[0m                                 Traceback (most recent call last)",
      "Input \u001b[1;32mIn [54]\u001b[0m, in \u001b[0;36m<cell line: 3>\u001b[1;34m()\u001b[0m\n\u001b[0;32m      1\u001b[0m myprm \u001b[38;5;241m=\u001b[39m { \u001b[38;5;124m'\u001b[39m\u001b[38;5;124mcriterion\u001b[39m\u001b[38;5;124m'\u001b[39m : [\u001b[38;5;124m'\u001b[39m\u001b[38;5;124mgini\u001b[39m\u001b[38;5;124m'\u001b[39m,\u001b[38;5;124m'\u001b[39m\u001b[38;5;124mentropy\u001b[39m\u001b[38;5;124m'\u001b[39m]  ,  \u001b[38;5;124m'\u001b[39m\u001b[38;5;124mmax_depth\u001b[39m\u001b[38;5;124m'\u001b[39m : [\u001b[38;5;241m7\u001b[39m,\u001b[38;5;241m9\u001b[39m,\u001b[38;5;241m11\u001b[39m,\u001b[38;5;241m13\u001b[39m] ,  \u001b[38;5;124m'\u001b[39m\u001b[38;5;124mmin_samples_split\u001b[39m\u001b[38;5;124m'\u001b[39m: [\u001b[38;5;241m1\u001b[39m,\u001b[38;5;241m2\u001b[39m,\u001b[38;5;241m3\u001b[39m] }  \u001b[38;5;66;03m# 불순도, 정보량 기준으로 12000번 학습해줘  \u001b[39;00m\n\u001b[1;32m----> 3\u001b[0m X \u001b[38;5;241m=\u001b[39m np\u001b[38;5;241m.\u001b[39mconcatenate((\u001b[43mX_train_scaler\u001b[49m,X_test_scaler ),axis \u001b[38;5;241m=\u001b[39m \u001b[38;5;241m0\u001b[39m  )\n\u001b[0;32m      4\u001b[0m y \u001b[38;5;241m=\u001b[39m np\u001b[38;5;241m.\u001b[39mconcatenate((y_train_scaler,y_test_scaler ),axis \u001b[38;5;241m=\u001b[39m \u001b[38;5;241m0\u001b[39m  )\n\u001b[0;32m      6\u001b[0m gcv_model \u001b[38;5;241m=\u001b[39m GridSearchCV(rf_model , param_grid\u001b[38;5;241m=\u001b[39mmyprm , scoring \u001b[38;5;241m=\u001b[39m \u001b[38;5;124m'\u001b[39m\u001b[38;5;124mf1_macro\u001b[39m\u001b[38;5;124m'\u001b[39m , refit \u001b[38;5;241m=\u001b[39m \u001b[38;5;28;01mTrue\u001b[39;00m , cv\u001b[38;5;241m=\u001b[39m \u001b[38;5;241m5\u001b[39m)  \u001b[38;5;66;03m#refit고정필수 ! 안하면 한 번 하고 끝냄  \u001b[39;00m\n",
      "\u001b[1;31mNameError\u001b[0m: name 'X_train_scaler' is not defined"
     ]
    }
   ],
   "source": [
    "myprm = { 'criterion' : ['gini','entropy']  ,  'max_depth' : [7,9,11,13] ,  'min_samples_split': [1,2,3] }  # 불순도, 정보량 기준으로 12000번 학습해줘  \n",
    "\n",
    "X = np.concatenate((X_train_scaler,X_test_scaler ),axis = 0  )\n",
    "y = np.concatenate((y_train_scaler,y_test_scaler ),axis = 0  )\n",
    "\n",
    "gcv_model = GridSearchCV(rf_model , param_grid=myprm , scoring = 'f1_macro' , refit = True , cv= 5)  #refit고정필수 ! 안하면 한 번 하고 끝냄  \n",
    "gcv_model.fit(X , y ) # 학습해봐\n",
    "print(gcv_model.best_params_)\n",
    "print(gcv_model.best_score_)"
   ]
  },
  {
   "cell_type": "markdown",
   "id": "e6fa72fc-3f05-417b-9a97-dc7f472ba685",
   "metadata": {},
   "source": [
    "## Random Forest"
   ]
  },
  {
   "cell_type": "code",
   "execution_count": 53,
   "id": "877e46a1-3167-4f25-9a0f-116dac3a2a8a",
   "metadata": {},
   "outputs": [],
   "source": [
    "# RandomForestClassifier(n_estimators=100, *, criterion='gini', max_depth=None, min_samples_split=2, min_samples_leaf=1, min_weight_fraction_leaf=0.0,\n",
    "# max_features='sqrt', max_leaf_nodes=None, min_impurity_decrease=0.0, bootstrap=True, oob_score=False, n_jobs=None, random_state=None, verbose=0,\n",
    "# warm_start=False, class_weight=None, ccp_alpha=0.0, max_samples=None)"
   ]
  },
  {
   "cell_type": "code",
   "execution_count": null,
   "id": "0af0aa89-d235-4566-9d66-dfd63288db25",
   "metadata": {},
   "outputs": [],
   "source": []
  },
  {
   "cell_type": "code",
   "execution_count": null,
   "id": "2aa0254d-bb7b-4fdb-ba3a-fac25f8fd6a0",
   "metadata": {},
   "outputs": [],
   "source": []
  }
 ],
 "metadata": {
  "kernelspec": {
   "display_name": "Python 3 (ipykernel)",
   "language": "python",
   "name": "python3"
  },
  "language_info": {
   "codemirror_mode": {
    "name": "ipython",
    "version": 3
   },
   "file_extension": ".py",
   "mimetype": "text/x-python",
   "name": "python",
   "nbconvert_exporter": "python",
   "pygments_lexer": "ipython3",
   "version": "3.8.8"
  },
  "toc-autonumbering": true
 },
 "nbformat": 4,
 "nbformat_minor": 5
}
