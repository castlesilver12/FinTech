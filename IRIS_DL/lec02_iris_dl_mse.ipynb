{
 "cells": [
  {
   "cell_type": "markdown",
   "id": "56b7508d-e72d-4add-a702-fff237e4aca3",
   "metadata": {},
   "source": [
    "<font size=6><b>Lec02. iris DL"
   ]
  },
  {
   "cell_type": "code",
   "execution_count": 1,
   "id": "f9bbd008-8557-4435-bff1-304225d93423",
   "metadata": {},
   "outputs": [],
   "source": [
    "import pandas as pd\n",
    "import numpy as np\n",
    "import seaborn as sns\n",
    "import matplotlib.pyplot as plt\n",
    "from sklearn.decomposition import PCA\n",
    "\n",
    "from sklearn.datasets import load_iris\n",
    "\n",
    "import warnings\n",
    "warnings.filterwarnings(action='ignore')\n",
    "sns.set()\n"
   ]
  },
  {
   "cell_type": "code",
   "execution_count": 2,
   "id": "879cbc6f-5179-4aef-b3dc-2cb170d0aaac",
   "metadata": {},
   "outputs": [],
   "source": [
    "np.random.seed(1234)\n",
    "\n",
    "import tensorflow as tf\n",
    "tf.random.set_seed(1234)\n",
    "\n"
   ]
  },
  {
   "cell_type": "code",
   "execution_count": 3,
   "id": "b590c83b-10d5-48c9-9436-793946fafb94",
   "metadata": {},
   "outputs": [
    {
     "data": {
      "text/html": [
       "<div>\n",
       "<style scoped>\n",
       "    .dataframe tbody tr th:only-of-type {\n",
       "        vertical-align: middle;\n",
       "    }\n",
       "\n",
       "    .dataframe tbody tr th {\n",
       "        vertical-align: top;\n",
       "    }\n",
       "\n",
       "    .dataframe thead th {\n",
       "        text-align: right;\n",
       "    }\n",
       "</style>\n",
       "<table border=\"1\" class=\"dataframe\">\n",
       "  <thead>\n",
       "    <tr style=\"text-align: right;\">\n",
       "      <th></th>\n",
       "      <th>sl</th>\n",
       "      <th>sw</th>\n",
       "      <th>pl</th>\n",
       "      <th>pw</th>\n",
       "      <th>target</th>\n",
       "    </tr>\n",
       "  </thead>\n",
       "  <tbody>\n",
       "    <tr>\n",
       "      <th>0</th>\n",
       "      <td>5.1</td>\n",
       "      <td>3.5</td>\n",
       "      <td>1.4</td>\n",
       "      <td>0.2</td>\n",
       "      <td>0</td>\n",
       "    </tr>\n",
       "    <tr>\n",
       "      <th>1</th>\n",
       "      <td>4.9</td>\n",
       "      <td>3.0</td>\n",
       "      <td>1.4</td>\n",
       "      <td>0.2</td>\n",
       "      <td>0</td>\n",
       "    </tr>\n",
       "    <tr>\n",
       "      <th>2</th>\n",
       "      <td>4.7</td>\n",
       "      <td>3.2</td>\n",
       "      <td>1.3</td>\n",
       "      <td>0.2</td>\n",
       "      <td>0</td>\n",
       "    </tr>\n",
       "    <tr>\n",
       "      <th>3</th>\n",
       "      <td>4.6</td>\n",
       "      <td>3.1</td>\n",
       "      <td>1.5</td>\n",
       "      <td>0.2</td>\n",
       "      <td>0</td>\n",
       "    </tr>\n",
       "    <tr>\n",
       "      <th>4</th>\n",
       "      <td>5.0</td>\n",
       "      <td>3.6</td>\n",
       "      <td>1.4</td>\n",
       "      <td>0.2</td>\n",
       "      <td>0</td>\n",
       "    </tr>\n",
       "  </tbody>\n",
       "</table>\n",
       "</div>"
      ],
      "text/plain": [
       "    sl   sw   pl   pw  target\n",
       "0  5.1  3.5  1.4  0.2       0\n",
       "1  4.9  3.0  1.4  0.2       0\n",
       "2  4.7  3.2  1.3  0.2       0\n",
       "3  4.6  3.1  1.5  0.2       0\n",
       "4  5.0  3.6  1.4  0.2       0"
      ]
     },
     "execution_count": 3,
     "metadata": {},
     "output_type": "execute_result"
    }
   ],
   "source": [
    "dataset = load_iris()\n",
    "df = pd.DataFrame(dataset['data'], columns=dataset['feature_names'])\n",
    "df['target'] = dataset['target']\n",
    "df.columns = ['sl', 'sw', 'pl','pw', 'target']\n",
    "df.head()"
   ]
  },
  {
   "cell_type": "markdown",
   "id": "79ed976c-53df-427d-a694-c666cc49c949",
   "metadata": {},
   "source": [
    "# X y 분리"
   ]
  },
  {
   "cell_type": "code",
   "execution_count": 4,
   "id": "f4313c35-3aa3-497c-95dc-07462e70b638",
   "metadata": {},
   "outputs": [],
   "source": [
    "y = df['target']\n",
    "X = df.drop(['target'], axis=1)"
   ]
  },
  {
   "cell_type": "code",
   "execution_count": 5,
   "id": "1de39e49-6a6e-45b9-9f7f-a3fbb8674b88",
   "metadata": {},
   "outputs": [],
   "source": [
    "from sklearn.model_selection import train_test_split"
   ]
  },
  {
   "cell_type": "markdown",
   "id": "75780080-6fa6-4804-90e0-d6b3036b6b69",
   "metadata": {},
   "source": [
    "# 방법1) sparse loss"
   ]
  },
  {
   "cell_type": "markdown",
   "id": "27b0d8cf-1ba5-449d-bd04-c9cc48d7e9f1",
   "metadata": {},
   "source": [
    "* <font color=red><b>y의 값이 정수형(Label encoding)인 경우  --> y_traget = [1,2,2,1,3,2] </b></font>\n",
    "* model.add(Dense(3, activation=\"softmax\"))  \n",
    "* model.compile(..., <font color=red><b>loss='sparse_categorical_crossentropy'</b></font>)"
   ]
  },
  {
   "cell_type": "code",
   "execution_count": 6,
   "id": "4bd1866f-1b2d-4ee8-b855-2986c44b9df0",
   "metadata": {},
   "outputs": [],
   "source": [
    "import tensorflow as tf\n",
    "from tensorflow.keras.models import Sequential\n",
    "from tensorflow.keras.layers import Dense, Dropout\n"
   ]
  },
  {
   "cell_type": "markdown",
   "id": "94ded7d3-8598-476e-8fa0-0e8f5a3cafbe",
   "metadata": {},
   "source": [
    "## train test 분리"
   ]
  },
  {
   "cell_type": "code",
   "execution_count": 7,
   "id": "555e900d-c69a-468e-8a52-6fd444279c9a",
   "metadata": {},
   "outputs": [
    {
     "name": "stdout",
     "output_type": "stream",
     "text": [
      "(120, 4) (30, 4) (120,) (30,)\n"
     ]
    }
   ],
   "source": [
    "X_train, X_val, y_train, y_val = train_test_split(X, y, test_size=0.2, \n",
    "                                                  random_state=1234,  \n",
    "                                                  stratify=df['target'],\n",
    "                                                  shuffle=True)\n",
    "print(X_train.shape, X_val.shape, y_train.shape, y_val.shape )"
   ]
  },
  {
   "cell_type": "markdown",
   "id": "02bf5353-b3cd-48d4-a76c-f092e40f4c63",
   "metadata": {},
   "source": [
    "## 모델"
   ]
  },
  {
   "cell_type": "code",
   "execution_count": 8,
   "id": "676932b4-3f75-4941-ac6e-04984affe9dd",
   "metadata": {},
   "outputs": [
    {
     "name": "stdout",
     "output_type": "stream",
     "text": [
      "Model: \"sequential\"\n",
      "_________________________________________________________________\n",
      " Layer (type)                Output Shape              Param #   \n",
      "=================================================================\n",
      " dense (Dense)               (None, 10)                50        \n",
      "                                                                 \n",
      " dense_1 (Dense)             (None, 16)                176       \n",
      "                                                                 \n",
      " dense_2 (Dense)             (None, 24)                408       \n",
      "                                                                 \n",
      " dense_3 (Dense)             (None, 8)                 200       \n",
      "                                                                 \n",
      " dense_4 (Dense)             (None, 3)                 27        \n",
      "                                                                 \n",
      "=================================================================\n",
      "Total params: 861\n",
      "Trainable params: 861\n",
      "Non-trainable params: 0\n",
      "_________________________________________________________________\n",
      "None\n"
     ]
    }
   ],
   "source": [
    "model_s = Sequential()\n",
    "model_s.add(Dense(units=10,  activation='relu',  input_dim=4))   #--------------- input_dim == 피쳐갯수\n",
    "model_s.add(Dense(units=16,  activation='relu')) \n",
    "model_s.add(Dense(units=24,  activation='relu')) \n",
    "model_s.add(Dense(units=8,  activation='relu')) \n",
    "model_s.add(Dense(units=3 , activation='softmax'))              #--------------- 멀티분류\n",
    "\n",
    "model_s.compile(optimizer='adam',            \n",
    "            loss='sparse_categorical_crossentropy',    #------ 손실값 *********************\n",
    "            metrics=['accuracy'])       \n",
    "print(model_s.summary())"
   ]
  },
  {
   "cell_type": "markdown",
   "id": "9b28a165-370e-4ea7-92df-80567b790ee3",
   "metadata": {},
   "source": [
    "## 평가 검증"
   ]
  },
  {
   "cell_type": "code",
   "execution_count": 9,
   "id": "69e7b64b-ef75-446f-bc9d-db571df969da",
   "metadata": {},
   "outputs": [
    {
     "name": "stdout",
     "output_type": "stream",
     "text": [
      "Epoch 1/50\n",
      "4/4 [==============================] - 1s 108ms/step - loss: 1.1053 - accuracy: 0.3333 - val_loss: 1.0884 - val_accuracy: 0.3333\n",
      "Epoch 2/50\n",
      "4/4 [==============================] - 0s 14ms/step - loss: 1.0765 - accuracy: 0.4667 - val_loss: 1.0616 - val_accuracy: 0.6667\n",
      "Epoch 3/50\n",
      "4/4 [==============================] - 0s 13ms/step - loss: 1.0514 - accuracy: 0.6667 - val_loss: 1.0345 - val_accuracy: 0.6667\n",
      "Epoch 4/50\n",
      "4/4 [==============================] - 0s 19ms/step - loss: 1.0259 - accuracy: 0.4917 - val_loss: 1.0242 - val_accuracy: 0.4333\n",
      "Epoch 5/50\n",
      "4/4 [==============================] - 0s 18ms/step - loss: 1.0066 - accuracy: 0.5583 - val_loss: 1.0055 - val_accuracy: 0.6667\n",
      "Epoch 6/50\n",
      "4/4 [==============================] - 0s 18ms/step - loss: 0.9891 - accuracy: 0.6667 - val_loss: 0.9872 - val_accuracy: 0.6667\n",
      "Epoch 7/50\n",
      "4/4 [==============================] - 0s 19ms/step - loss: 0.9711 - accuracy: 0.6667 - val_loss: 0.9673 - val_accuracy: 0.6667\n",
      "Epoch 8/50\n",
      "4/4 [==============================] - 0s 12ms/step - loss: 0.9521 - accuracy: 0.6583 - val_loss: 0.9493 - val_accuracy: 0.6667\n",
      "Epoch 9/50\n",
      "4/4 [==============================] - 0s 14ms/step - loss: 0.9351 - accuracy: 0.6417 - val_loss: 0.9311 - val_accuracy: 0.6667\n",
      "Epoch 10/50\n",
      "4/4 [==============================] - 0s 13ms/step - loss: 0.9187 - accuracy: 0.6417 - val_loss: 0.9123 - val_accuracy: 0.7333\n",
      "Epoch 11/50\n",
      "4/4 [==============================] - 0s 16ms/step - loss: 0.8996 - accuracy: 0.7000 - val_loss: 0.8954 - val_accuracy: 0.8000\n",
      "Epoch 12/50\n",
      "4/4 [==============================] - 0s 20ms/step - loss: 0.8838 - accuracy: 0.6917 - val_loss: 0.8801 - val_accuracy: 0.8000\n",
      "Epoch 13/50\n",
      "4/4 [==============================] - 0s 17ms/step - loss: 0.8643 - accuracy: 0.7333 - val_loss: 0.8637 - val_accuracy: 0.8333\n",
      "Epoch 14/50\n",
      "4/4 [==============================] - 0s 14ms/step - loss: 0.8468 - accuracy: 0.7583 - val_loss: 0.8462 - val_accuracy: 0.8333\n",
      "Epoch 15/50\n",
      "4/4 [==============================] - 0s 17ms/step - loss: 0.8303 - accuracy: 0.7250 - val_loss: 0.8276 - val_accuracy: 0.7333\n",
      "Epoch 16/50\n",
      "4/4 [==============================] - 0s 16ms/step - loss: 0.8135 - accuracy: 0.6667 - val_loss: 0.8124 - val_accuracy: 0.6667\n",
      "Epoch 17/50\n",
      "4/4 [==============================] - 0s 22ms/step - loss: 0.7981 - accuracy: 0.7000 - val_loss: 0.7954 - val_accuracy: 0.8333\n",
      "Epoch 18/50\n",
      "4/4 [==============================] - 0s 20ms/step - loss: 0.7817 - accuracy: 0.7167 - val_loss: 0.7800 - val_accuracy: 0.7667\n",
      "Epoch 19/50\n",
      "4/4 [==============================] - 0s 18ms/step - loss: 0.7648 - accuracy: 0.7167 - val_loss: 0.7648 - val_accuracy: 0.8333\n",
      "Epoch 20/50\n",
      "4/4 [==============================] - 0s 15ms/step - loss: 0.7507 - accuracy: 0.7583 - val_loss: 0.7499 - val_accuracy: 0.8333\n",
      "Epoch 21/50\n",
      "4/4 [==============================] - 0s 13ms/step - loss: 0.7375 - accuracy: 0.7333 - val_loss: 0.7375 - val_accuracy: 0.8333\n",
      "Epoch 22/50\n",
      "4/4 [==============================] - 0s 15ms/step - loss: 0.7254 - accuracy: 0.7500 - val_loss: 0.7255 - val_accuracy: 0.8333\n",
      "Epoch 23/50\n",
      "4/4 [==============================] - 0s 12ms/step - loss: 0.7147 - accuracy: 0.7833 - val_loss: 0.7154 - val_accuracy: 0.8667\n",
      "Epoch 24/50\n",
      "4/4 [==============================] - 0s 11ms/step - loss: 0.7029 - accuracy: 0.7917 - val_loss: 0.7034 - val_accuracy: 0.8333\n",
      "Epoch 25/50\n",
      "4/4 [==============================] - 0s 12ms/step - loss: 0.6956 - accuracy: 0.7000 - val_loss: 0.6943 - val_accuracy: 0.6667\n",
      "Epoch 26/50\n",
      "4/4 [==============================] - 0s 13ms/step - loss: 0.6860 - accuracy: 0.7083 - val_loss: 0.6845 - val_accuracy: 0.8333\n",
      "Epoch 27/50\n",
      "4/4 [==============================] - 0s 13ms/step - loss: 0.6765 - accuracy: 0.7667 - val_loss: 0.6761 - val_accuracy: 0.8333\n",
      "Epoch 28/50\n",
      "4/4 [==============================] - 0s 12ms/step - loss: 0.6676 - accuracy: 0.7833 - val_loss: 0.6673 - val_accuracy: 0.8333\n",
      "Epoch 29/50\n",
      "4/4 [==============================] - 0s 16ms/step - loss: 0.6593 - accuracy: 0.7583 - val_loss: 0.6601 - val_accuracy: 0.8333\n",
      "Epoch 30/50\n",
      "4/4 [==============================] - 0s 16ms/step - loss: 0.6508 - accuracy: 0.7667 - val_loss: 0.6529 - val_accuracy: 0.8333\n",
      "Epoch 31/50\n",
      "4/4 [==============================] - 0s 16ms/step - loss: 0.6437 - accuracy: 0.7833 - val_loss: 0.6457 - val_accuracy: 0.8333\n",
      "Epoch 32/50\n",
      "4/4 [==============================] - 0s 17ms/step - loss: 0.6369 - accuracy: 0.7833 - val_loss: 0.6398 - val_accuracy: 0.8333\n",
      "Epoch 33/50\n",
      "4/4 [==============================] - 0s 14ms/step - loss: 0.6294 - accuracy: 0.8167 - val_loss: 0.6319 - val_accuracy: 0.8333\n",
      "Epoch 34/50\n",
      "4/4 [==============================] - 0s 21ms/step - loss: 0.6223 - accuracy: 0.8167 - val_loss: 0.6245 - val_accuracy: 0.8333\n",
      "Epoch 35/50\n",
      "4/4 [==============================] - 0s 29ms/step - loss: 0.6155 - accuracy: 0.8083 - val_loss: 0.6175 - val_accuracy: 0.8333\n",
      "Epoch 36/50\n",
      "4/4 [==============================] - 0s 13ms/step - loss: 0.6096 - accuracy: 0.7917 - val_loss: 0.6105 - val_accuracy: 0.8333\n",
      "Epoch 37/50\n",
      "4/4 [==============================] - 0s 10ms/step - loss: 0.6026 - accuracy: 0.8250 - val_loss: 0.6069 - val_accuracy: 0.8333\n",
      "Epoch 38/50\n",
      "4/4 [==============================] - 0s 12ms/step - loss: 0.5965 - accuracy: 0.8167 - val_loss: 0.5988 - val_accuracy: 0.8333\n",
      "Epoch 39/50\n",
      "4/4 [==============================] - 0s 13ms/step - loss: 0.5890 - accuracy: 0.8167 - val_loss: 0.5933 - val_accuracy: 0.8333\n",
      "Epoch 40/50\n",
      "4/4 [==============================] - 0s 17ms/step - loss: 0.5829 - accuracy: 0.8250 - val_loss: 0.5862 - val_accuracy: 0.8333\n",
      "Epoch 41/50\n",
      "4/4 [==============================] - 0s 20ms/step - loss: 0.5756 - accuracy: 0.8250 - val_loss: 0.5808 - val_accuracy: 0.8333\n",
      "Epoch 42/50\n",
      "4/4 [==============================] - 0s 13ms/step - loss: 0.5704 - accuracy: 0.8250 - val_loss: 0.5737 - val_accuracy: 0.8333\n",
      "Epoch 43/50\n",
      "4/4 [==============================] - 0s 13ms/step - loss: 0.5634 - accuracy: 0.8250 - val_loss: 0.5674 - val_accuracy: 0.8333\n",
      "Epoch 44/50\n",
      "4/4 [==============================] - 0s 13ms/step - loss: 0.5571 - accuracy: 0.8417 - val_loss: 0.5616 - val_accuracy: 0.8333\n",
      "Epoch 45/50\n",
      "4/4 [==============================] - 0s 13ms/step - loss: 0.5510 - accuracy: 0.8333 - val_loss: 0.5542 - val_accuracy: 0.8333\n",
      "Epoch 46/50\n",
      "4/4 [==============================] - 0s 14ms/step - loss: 0.5468 - accuracy: 0.8250 - val_loss: 0.5485 - val_accuracy: 0.8333\n",
      "Epoch 47/50\n",
      "4/4 [==============================] - 0s 22ms/step - loss: 0.5396 - accuracy: 0.8500 - val_loss: 0.5469 - val_accuracy: 0.9000\n",
      "Epoch 48/50\n",
      "4/4 [==============================] - 0s 18ms/step - loss: 0.5346 - accuracy: 0.8583 - val_loss: 0.5386 - val_accuracy: 0.8333\n",
      "Epoch 49/50\n",
      "4/4 [==============================] - 0s 46ms/step - loss: 0.5280 - accuracy: 0.8250 - val_loss: 0.5291 - val_accuracy: 0.8333\n",
      "Epoch 50/50\n",
      "4/4 [==============================] - 0s 15ms/step - loss: 0.5233 - accuracy: 0.8333 - val_loss: 0.5248 - val_accuracy: 0.8667\n",
      "1/1 [==============================] - 0s 67ms/step - loss: 0.5248 - accuracy: 0.8667\n",
      "loss: 0.5248299241065979  accuracy : 0.8666666746139526\n"
     ]
    }
   ],
   "source": [
    "fit_res = model_s.fit(X_train, y_train \n",
    "                  #, batch_size=15\n",
    "                  , epochs=50\n",
    "                  , validation_data=(X_val, y_val)\n",
    "                 )\n",
    "\n",
    "loss, acc = model_s.evaluate(X_val, y_val)\n",
    "print(f\"loss: {loss}  accuracy : {acc}\")"
   ]
  },
  {
   "cell_type": "code",
   "execution_count": 10,
   "id": "523e5ad7-9d79-42e7-b9e2-288b82fdb368",
   "metadata": {},
   "outputs": [
    {
     "data": {
      "image/png": "[encoded data removed]",
      "text/plain": [
       "<Figure size 1152x288 with 2 Axes>"
      ]
     },
     "metadata": {
      "needs_background": "light"
     },
     "output_type": "display_data"
    }
   ],
   "source": [
    "plt.figure(figsize=(16,4))\n",
    "plt.subplot(1,2,1)\n",
    "vloss = fit_res.history[\"val_accuracy\"]\n",
    "loss = fit_res.history[\"accuracy\"]\n",
    "plt.plot(range(50),vloss , label=\"val acc\")\n",
    "plt.plot(range(50),loss  , label=\"real acc\")\n",
    "plt.legend()\n",
    "\n",
    "plt.subplot(1,2,2)\n",
    "vloss = fit_res.history[\"val_loss\"]\n",
    "loss = fit_res.history[\"loss\"]\n",
    "plt.plot(range(50),vloss , label=\"val loss\")\n",
    "plt.plot(range(50),loss  , label=\"real loss\")\n",
    "plt.legend()\n",
    "plt.show()"
   ]
  },
  {
   "cell_type": "markdown",
   "id": "8ffa367d-c583-4a58-b333-b5a1b8e0af28",
   "metadata": {},
   "source": [
    "# 방법2) categorical  loss\n",
    "\n",
    "* ont color=red><b> labels are given as a one_hot representation. eg., When labels values are [2, 0, 1], y_true = [[0, 0, 1], [1, 0, 0], [0, 1, 0]]."
   ]
  },
  {
   "cell_type": "markdown",
   "id": "904ceb9e-f478-4364-93f9-b8d4d199704c",
   "metadata": {},
   "source": [
    "* <font color=red><b> y의 값이 one hot encoding인 경우  ---> y_true = [[0, 0, 1], [1, 0, 0], [0, 1, 0]] </b></font>\n",
    "* model.add(Dense(3, activation=\"softmax\"))  \n",
    "* model.compile(..., <font color=red><b>loss='categorical_crossentropy'</b></font>)"
   ]
  },
  {
   "cell_type": "markdown",
   "id": "652b4251-46bb-48b3-8d45-ce35089024ee",
   "metadata": {
    "tags": []
   },
   "source": [
    "## y 인코딩 ★★★"
   ]
  },
  {
   "cell_type": "markdown",
   "id": "1e33375a-7a0e-444a-be53-60fcd7d5afdc",
   "metadata": {},
   "source": [
    "* keras.utils.to_categorical(y)"
   ]
  },
  {
   "cell_type": "code",
   "execution_count": 11,
   "id": "8326ae79-0791-4435-b996-58d49dec95e8",
   "metadata": {},
   "outputs": [],
   "source": [
    "from tensorflow.keras.utils import to_categorical"
   ]
  },
  {
   "cell_type": "code",
   "execution_count": 12,
   "id": "91709843-fa47-417e-8e17-198776ba5f25",
   "metadata": {},
   "outputs": [
    {
     "data": {
      "text/plain": [
       "array([[1., 0., 0.],\n",
       "       [1., 0., 0.],\n",
       "       [1., 0., 0.],\n",
       "       [1., 0., 0.],\n",
       "       [1., 0., 0.]], dtype=float32)"
      ]
     },
     "execution_count": 12,
     "metadata": {},
     "output_type": "execute_result"
    }
   ],
   "source": [
    "y_encoding = to_categorical(y)\n",
    "y_encoding[:5]"
   ]
  },
  {
   "cell_type": "markdown",
   "id": "5d220efa-0712-48ce-ba82-d8c709a7d286",
   "metadata": {},
   "source": [
    "* pandas.get_dummies(y)"
   ]
  },
  {
   "cell_type": "code",
   "execution_count": 13,
   "id": "0b428adf-f2ef-4f22-b8ce-667d90c92183",
   "metadata": {},
   "outputs": [
    {
     "data": {
      "text/html": [
       "<div>\n",
       "<style scoped>\n",
       "    .dataframe tbody tr th:only-of-type {\n",
       "        vertical-align: middle;\n",
       "    }\n",
       "\n",
       "    .dataframe tbody tr th {\n",
       "        vertical-align: top;\n",
       "    }\n",
       "\n",
       "    .dataframe thead th {\n",
       "        text-align: right;\n",
       "    }\n",
       "</style>\n",
       "<table border=\"1\" class=\"dataframe\">\n",
       "  <thead>\n",
       "    <tr style=\"text-align: right;\">\n",
       "      <th></th>\n",
       "      <th>0</th>\n",
       "      <th>1</th>\n",
       "      <th>2</th>\n",
       "    </tr>\n",
       "  </thead>\n",
       "  <tbody>\n",
       "    <tr>\n",
       "      <th>0</th>\n",
       "      <td>1</td>\n",
       "      <td>0</td>\n",
       "      <td>0</td>\n",
       "    </tr>\n",
       "    <tr>\n",
       "      <th>1</th>\n",
       "      <td>1</td>\n",
       "      <td>0</td>\n",
       "      <td>0</td>\n",
       "    </tr>\n",
       "  </tbody>\n",
       "</table>\n",
       "</div>"
      ],
      "text/plain": [
       "   0  1  2\n",
       "0  1  0  0\n",
       "1  1  0  0"
      ]
     },
     "execution_count": 13,
     "metadata": {},
     "output_type": "execute_result"
    }
   ],
   "source": [
    "y_en = pd.get_dummies(y)\n",
    "y_en[:2]"
   ]
  },
  {
   "cell_type": "markdown",
   "id": "0234cd41-1fba-4741-8387-0b9b9797e732",
   "metadata": {},
   "source": [
    "## train test 분리"
   ]
  },
  {
   "cell_type": "code",
   "execution_count": 14,
   "id": "e7f29b0b-d2ef-4fc5-84db-a521066a336e",
   "metadata": {},
   "outputs": [
    {
     "name": "stdout",
     "output_type": "stream",
     "text": [
      "(120, 4) (30, 4) (120, 3) (30, 3)\n"
     ]
    }
   ],
   "source": [
    "X_train, X_val, y_train_encoding, y_val_encoding = train_test_split(X, y_encoding,  #---***주의\n",
    "                                                 test_size=0.2, \n",
    "                                                  random_state=1234,  \n",
    "                                                  stratify=df['target'],\n",
    "                                                  shuffle=True)\n",
    "print(X_train.shape, X_val.shape, y_train_encoding.shape, y_val_encoding.shape )"
   ]
  },
  {
   "cell_type": "code",
   "execution_count": 15,
   "id": "3ab9d3bc-4aec-49ed-86b7-be24df26eb09",
   "metadata": {},
   "outputs": [
    {
     "data": {
      "text/plain": [
       "array([[0., 0., 1.],\n",
       "       [0., 0., 1.],\n",
       "       [0., 1., 0.]], dtype=float32)"
      ]
     },
     "execution_count": 15,
     "metadata": {},
     "output_type": "execute_result"
    }
   ],
   "source": [
    "y_train_encoding[:3]"
   ]
  },
  {
   "cell_type": "markdown",
   "id": "902c8844-a2fe-4433-a5c7-1e798e54ca0c",
   "metadata": {},
   "source": [
    "## 모델"
   ]
  },
  {
   "cell_type": "code",
   "execution_count": 16,
   "id": "c45fb81d-fa18-4701-ad1f-bc6633a5ba13",
   "metadata": {},
   "outputs": [
    {
     "name": "stdout",
     "output_type": "stream",
     "text": [
      "Model: \"sequential_1\"\n",
      "_________________________________________________________________\n",
      " Layer (type)                Output Shape              Param #   \n",
      "=================================================================\n",
      " dense_5 (Dense)             (None, 10)                50        \n",
      "                                                                 \n",
      " dense_6 (Dense)             (None, 16)                176       \n",
      "                                                                 \n",
      " dense_7 (Dense)             (None, 24)                408       \n",
      "                                                                 \n",
      " dense_8 (Dense)             (None, 8)                 200       \n",
      "                                                                 \n",
      " dense_9 (Dense)             (None, 3)                 27        \n",
      "                                                                 \n",
      "=================================================================\n",
      "Total params: 861\n",
      "Trainable params: 861\n",
      "Non-trainable params: 0\n",
      "_________________________________________________________________\n",
      "None\n"
     ]
    }
   ],
   "source": [
    "model_c = Sequential()\n",
    "model_c.add(Dense(units=10,  activation='relu',  input_dim=4))   #--------------- input_dim == 피쳐갯수\n",
    "model_c.add(Dense(units=16,  activation='relu')) \n",
    "model_c.add(Dense(units=24,  activation='relu')) \n",
    "model_c.add(Dense(units=8,  activation='relu'))\n",
    "model_c.add(Dense(units=3 , activation='softmax'))              #--------------- 멀티분류\n",
    "\n",
    "model_c.compile(optimizer='adam',              \n",
    "            loss='categorical_crossentropy',    #------손실값:주의주의주의주의\n",
    "            metrics=['accuracy'])              \n",
    "print(model_c.summary())"
   ]
  },
  {
   "cell_type": "markdown",
   "id": "dc58371f-7d93-4c97-af32-db64bf1769db",
   "metadata": {},
   "source": [
    "## 평가 검증"
   ]
  },
  {
   "cell_type": "code",
   "execution_count": 17,
   "id": "6cdec5e5-2acf-442d-ae03-2f018075f86c",
   "metadata": {},
   "outputs": [
    {
     "name": "stdout",
     "output_type": "stream",
     "text": [
      "Epoch 1/50\n",
      "4/4 [==============================] - 1s 79ms/step - loss: 1.1144 - accuracy: 0.3333 - val_loss: 1.0752 - val_accuracy: 0.3333\n",
      "Epoch 2/50\n",
      "4/4 [==============================] - 0s 13ms/step - loss: 1.0658 - accuracy: 0.3333 - val_loss: 1.0426 - val_accuracy: 0.3333\n",
      "Epoch 3/50\n",
      "4/4 [==============================] - 0s 10ms/step - loss: 1.0376 - accuracy: 0.3333 - val_loss: 1.0123 - val_accuracy: 0.3333\n",
      "Epoch 4/50\n",
      "4/4 [==============================] - 0s 13ms/step - loss: 1.0046 - accuracy: 0.3333 - val_loss: 0.9860 - val_accuracy: 0.3333\n",
      "Epoch 5/50\n",
      "4/4 [==============================] - 0s 15ms/step - loss: 0.9791 - accuracy: 0.3333 - val_loss: 0.9624 - val_accuracy: 0.3333\n",
      "Epoch 6/50\n",
      "4/4 [==============================] - 0s 16ms/step - loss: 0.9585 - accuracy: 0.3333 - val_loss: 0.9445 - val_accuracy: 0.3333\n",
      "Epoch 7/50\n",
      "4/4 [==============================] - 0s 13ms/step - loss: 0.9406 - accuracy: 0.3333 - val_loss: 0.9267 - val_accuracy: 0.3333\n",
      "Epoch 8/50\n",
      "4/4 [==============================] - 0s 11ms/step - loss: 0.9227 - accuracy: 0.3333 - val_loss: 0.9101 - val_accuracy: 0.3333\n",
      "Epoch 9/50\n",
      "4/4 [==============================] - 0s 11ms/step - loss: 0.9055 - accuracy: 0.3333 - val_loss: 0.8955 - val_accuracy: 0.3333\n",
      "Epoch 10/50\n",
      "4/4 [==============================] - 0s 17ms/step - loss: 0.8897 - accuracy: 0.3333 - val_loss: 0.8797 - val_accuracy: 0.3333\n",
      "Epoch 11/50\n",
      "4/4 [==============================] - 0s 13ms/step - loss: 0.8684 - accuracy: 0.3333 - val_loss: 0.8577 - val_accuracy: 0.3333\n",
      "Epoch 12/50\n",
      "4/4 [==============================] - 0s 10ms/step - loss: 0.8461 - accuracy: 0.3417 - val_loss: 0.8429 - val_accuracy: 0.5333\n",
      "Epoch 13/50\n",
      "4/4 [==============================] - 0s 11ms/step - loss: 0.8316 - accuracy: 0.6167 - val_loss: 0.8304 - val_accuracy: 0.6667\n",
      "Epoch 14/50\n",
      "4/4 [==============================] - 0s 12ms/step - loss: 0.8184 - accuracy: 0.6667 - val_loss: 0.8182 - val_accuracy: 0.6667\n",
      "Epoch 15/50\n",
      "4/4 [==============================] - 0s 12ms/step - loss: 0.8044 - accuracy: 0.6667 - val_loss: 0.8035 - val_accuracy: 0.6667\n",
      "Epoch 16/50\n",
      "4/4 [==============================] - 0s 16ms/step - loss: 0.7911 - accuracy: 0.6750 - val_loss: 0.7884 - val_accuracy: 0.6667\n",
      "Epoch 17/50\n",
      "4/4 [==============================] - 0s 15ms/step - loss: 0.7765 - accuracy: 0.6750 - val_loss: 0.7760 - val_accuracy: 0.6667\n",
      "Epoch 18/50\n",
      "4/4 [==============================] - 0s 15ms/step - loss: 0.7652 - accuracy: 0.6917 - val_loss: 0.7633 - val_accuracy: 0.6667\n",
      "Epoch 19/50\n",
      "4/4 [==============================] - 0s 13ms/step - loss: 0.7512 - accuracy: 0.7250 - val_loss: 0.7517 - val_accuracy: 0.6667\n",
      "Epoch 20/50\n",
      "4/4 [==============================] - 0s 10ms/step - loss: 0.7386 - accuracy: 0.7333 - val_loss: 0.7396 - val_accuracy: 0.7000\n",
      "Epoch 21/50\n",
      "4/4 [==============================] - 0s 12ms/step - loss: 0.7257 - accuracy: 0.7500 - val_loss: 0.7270 - val_accuracy: 0.7000\n",
      "Epoch 22/50\n",
      "4/4 [==============================] - 0s 12ms/step - loss: 0.7135 - accuracy: 0.7500 - val_loss: 0.7150 - val_accuracy: 0.7000\n",
      "Epoch 23/50\n",
      "4/4 [==============================] - 0s 11ms/step - loss: 0.7014 - accuracy: 0.7333 - val_loss: 0.7059 - val_accuracy: 0.6667\n",
      "Epoch 24/50\n",
      "4/4 [==============================] - 0s 13ms/step - loss: 0.6881 - accuracy: 0.7333 - val_loss: 0.6921 - val_accuracy: 0.7000\n",
      "Epoch 25/50\n",
      "4/4 [==============================] - 0s 14ms/step - loss: 0.6748 - accuracy: 0.8083 - val_loss: 0.6738 - val_accuracy: 0.8333\n",
      "Epoch 26/50\n",
      "4/4 [==============================] - 0s 9ms/step - loss: 0.6582 - accuracy: 0.8917 - val_loss: 0.6592 - val_accuracy: 0.8333\n",
      "Epoch 27/50\n",
      "4/4 [==============================] - 0s 12ms/step - loss: 0.6429 - accuracy: 0.9083 - val_loss: 0.6436 - val_accuracy: 0.9000\n",
      "Epoch 28/50\n",
      "4/4 [==============================] - 0s 13ms/step - loss: 0.6273 - accuracy: 0.9167 - val_loss: 0.6274 - val_accuracy: 0.9000\n",
      "Epoch 29/50\n",
      "4/4 [==============================] - 0s 13ms/step - loss: 0.6092 - accuracy: 0.9167 - val_loss: 0.6088 - val_accuracy: 0.9000\n",
      "Epoch 30/50\n",
      "4/4 [==============================] - 0s 12ms/step - loss: 0.5894 - accuracy: 0.9167 - val_loss: 0.5885 - val_accuracy: 0.9000\n",
      "Epoch 31/50\n",
      "4/4 [==============================] - 0s 14ms/step - loss: 0.5697 - accuracy: 0.9167 - val_loss: 0.5681 - val_accuracy: 0.9000\n",
      "Epoch 32/50\n",
      "4/4 [==============================] - 0s 16ms/step - loss: 0.5483 - accuracy: 0.9167 - val_loss: 0.5494 - val_accuracy: 0.9000\n",
      "Epoch 33/50\n",
      "4/4 [==============================] - 0s 13ms/step - loss: 0.5280 - accuracy: 0.9167 - val_loss: 0.5264 - val_accuracy: 0.9000\n",
      "Epoch 34/50\n",
      "4/4 [==============================] - 0s 11ms/step - loss: 0.5061 - accuracy: 0.9333 - val_loss: 0.5030 - val_accuracy: 0.9333\n",
      "Epoch 35/50\n",
      "4/4 [==============================] - 0s 13ms/step - loss: 0.4846 - accuracy: 0.9583 - val_loss: 0.4799 - val_accuracy: 0.9333\n",
      "Epoch 36/50\n",
      "4/4 [==============================] - 0s 15ms/step - loss: 0.4612 - accuracy: 0.9667 - val_loss: 0.4581 - val_accuracy: 0.9333\n",
      "Epoch 37/50\n",
      "4/4 [==============================] - 0s 13ms/step - loss: 0.4388 - accuracy: 0.9417 - val_loss: 0.4417 - val_accuracy: 0.9000\n",
      "Epoch 38/50\n",
      "4/4 [==============================] - 0s 11ms/step - loss: 0.4175 - accuracy: 0.9500 - val_loss: 0.4134 - val_accuracy: 0.9333\n",
      "Epoch 39/50\n",
      "4/4 [==============================] - 0s 12ms/step - loss: 0.3943 - accuracy: 0.9667 - val_loss: 0.3928 - val_accuracy: 0.9333\n",
      "Epoch 40/50\n",
      "4/4 [==============================] - 0s 12ms/step - loss: 0.3753 - accuracy: 0.9750 - val_loss: 0.3725 - val_accuracy: 0.9333\n",
      "Epoch 41/50\n",
      "4/4 [==============================] - 0s 12ms/step - loss: 0.3538 - accuracy: 0.9750 - val_loss: 0.3596 - val_accuracy: 0.9333\n",
      "Epoch 42/50\n",
      "4/4 [==============================] - 0s 13ms/step - loss: 0.3376 - accuracy: 0.9667 - val_loss: 0.3399 - val_accuracy: 0.9333\n",
      "Epoch 43/50\n",
      "4/4 [==============================] - 0s 12ms/step - loss: 0.3186 - accuracy: 0.9750 - val_loss: 0.3192 - val_accuracy: 0.9333\n",
      "Epoch 44/50\n",
      "4/4 [==============================] - 0s 13ms/step - loss: 0.3018 - accuracy: 0.9833 - val_loss: 0.3043 - val_accuracy: 0.9333\n",
      "Epoch 45/50\n",
      "4/4 [==============================] - 0s 12ms/step - loss: 0.2875 - accuracy: 0.9833 - val_loss: 0.2863 - val_accuracy: 0.9667\n",
      "Epoch 46/50\n",
      "4/4 [==============================] - 0s 15ms/step - loss: 0.2728 - accuracy: 0.9833 - val_loss: 0.2770 - val_accuracy: 0.9333\n",
      "Epoch 47/50\n",
      "4/4 [==============================] - 0s 13ms/step - loss: 0.2602 - accuracy: 0.9667 - val_loss: 0.2714 - val_accuracy: 0.9333\n",
      "Epoch 48/50\n",
      "4/4 [==============================] - 0s 12ms/step - loss: 0.2472 - accuracy: 0.9750 - val_loss: 0.2471 - val_accuracy: 0.9667\n",
      "Epoch 49/50\n",
      "4/4 [==============================] - 0s 14ms/step - loss: 0.2351 - accuracy: 0.9833 - val_loss: 0.2355 - val_accuracy: 0.9667\n",
      "Epoch 50/50\n",
      "4/4 [==============================] - 0s 21ms/step - loss: 0.2259 - accuracy: 0.9833 - val_loss: 0.2375 - val_accuracy: 0.9333\n",
      "1/1 [==============================] - 0s 26ms/step - loss: 0.2375 - accuracy: 0.9333\n",
      "loss: 0.2374928742647171  accuracy : 0.9333333373069763\n"
     ]
    }
   ],
   "source": [
    "fit_res = model_c.fit(X_train, y_train_encoding \n",
    "                  #, batch_size=15\n",
    "                  , epochs=50\n",
    "                  , validation_data=(X_val, y_val_encoding)\n",
    "                 )\n",
    "\n",
    "loss, acc = model_c.evaluate(X_val, y_val_encoding)\n",
    "print(f\"loss: {loss}  accuracy : {acc}\")"
   ]
  },
  {
   "cell_type": "code",
   "execution_count": 18,
   "id": "31298a49-5327-435c-839a-10338f35194c",
   "metadata": {},
   "outputs": [
    {
     "data": {
      "image/png": "[encoded data removed]",
      "text/plain": [
       "<Figure size 1152x288 with 2 Axes>"
      ]
     },
     "metadata": {
      "needs_background": "light"
     },
     "output_type": "display_data"
    }
   ],
   "source": [
    "plt.figure(figsize=(16,4))\n",
    "plt.subplot(1,2,1)\n",
    "vloss = fit_res.history[\"val_accuracy\"]\n",
    "loss = fit_res.history[\"accuracy\"]\n",
    "plt.plot(range(50),vloss , label=\"val acc\")\n",
    "plt.plot(range(50),loss  , label=\"real acc\")\n",
    "plt.legend()\n",
    "\n",
    "plt.subplot(1,2,2)\n",
    "vloss = fit_res.history[\"val_loss\"]\n",
    "loss = fit_res.history[\"loss\"]\n",
    "plt.plot(range(50),vloss , label=\"val loss\")\n",
    "plt.plot(range(50),loss  , label=\"real loss\")\n",
    "plt.legend()\n",
    "plt.show()"
   ]
  },
  {
   "cell_type": "code",
   "execution_count": null,
   "id": "8b9cafd5-d97e-4067-870b-6f177e76827a",
   "metadata": {},
   "outputs": [],
   "source": []
  }
 ],
 "metadata": {
  "kernelspec": {
   "display_name": "Python 3 (ipykernel)",
   "language": "python",
   "name": "python3"
  },
  "language_info": {
   "codemirror_mode": {
    "name": "ipython",
    "version": 3
   },
   "file_extension": ".py",
   "mimetype": "text/x-python",
   "name": "python",
   "nbconvert_exporter": "python",
   "pygments_lexer": "ipython3",
   "version": "3.8.8"
  }
 },
 "nbformat": 4,
 "nbformat_minor": 5
}
