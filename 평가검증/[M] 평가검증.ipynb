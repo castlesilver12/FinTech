{
 "cells": [
  {
   "cell_type": "code",
   "execution_count": null,
   "id": "6b9fe9a5-a4f4-4424-91cc-681b2a5d406c",
   "metadata": {},
   "outputs": [],
   "source": [
    "b# 5차 : 평가검증\n",
    "* 내일할거\n",
    "* f1, recall , accuracy , precision , roc_curv, auc\n",
    "* confusion_matrix\n",
    "* precision , recall : threadhold"
   ]
  }
 ],
 "metadata": {
  "kernelspec": {
   "display_name": "Python 3 (ipykernel)",
   "language": "python",
   "name": "python3"
  },
  "language_info": {
   "codemirror_mode": {
    "name": "ipython",
    "version": 3
   },
   "file_extension": ".py",
   "mimetype": "text/x-python",
   "name": "python",
   "nbconvert_exporter": "python",
   "pygments_lexer": "ipython3",
   "version": "3.8.8"
  }
 },
 "nbformat": 4,
 "nbformat_minor": 5
}
