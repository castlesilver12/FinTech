{
 "cells": [
  {
   "cell_type": "markdown",
   "id": "2206f473-c328-4e2a-ac7e-656f2d1f7393",
   "metadata": {},
   "source": [
    "<font size=6><b> lec09_3. 군집분석(Clustering) - Hierachy"
   ]
  },
  {
   "cell_type": "markdown",
   "id": "079c5ada-13ea-400a-af74-86568b626af0",
   "metadata": {},
   "source": [
    "* 군집 분석 \n",
    "    * 데이터를 비슷한 것끼리 그룹을 묶는 것\n",
    "    * 데이터의 전반적 특징 파악에 유용\n",
    "    * 답지(target)이 없는 비지도학습(unsupervised learning)\n"
   ]
  },
  {
   "cell_type": "code",
   "execution_count": 1,
   "id": "44be330b-4f16-4024-b3cf-5ed50972314d",
   "metadata": {},
   "outputs": [],
   "source": [
    "from sklearn.datasets import load_iris\n",
    "\n",
    "import pandas as pd\n",
    "import numpy as np\n",
    "import seaborn as sns\n",
    "import matplotlib.pyplot as plt\n",
    "from sklearn.decomposition import PCA\n",
    "\n",
    "from sklearn.preprocessing import StandardScaler\n",
    "from sklearn.model_selection import train_test_split\n",
    "from sklearn.ensemble import RandomForestClassifier\n",
    "from sklearn.metrics import classification_report, accuracy_score, recall_score, precision_score, f1_score, confusion_matrix, roc_auc_score, roc_curve, precision_recall_curve\n",
    "from sklearn.model_selection import KFold, cross_val_score, GridSearchCV\n",
    "from sklearn.cluster import DBSCAN\n",
    "\n",
    "from sklearn.neighbors import NearestNeighbors\n",
    "from sklearn.metrics import silhouette_samples\n",
    "from sklearn.metrics import silhouette_score \n",
    "\n",
    "import warnings\n",
    "warnings.filterwarnings(action='ignore')\n",
    "sns.set()"
   ]
  },
  {
   "cell_type": "markdown",
   "id": "bee6814f-db3b-4f65-a55c-b31f76c8d16b",
   "metadata": {},
   "source": [
    "# Data Load"
   ]
  },
  {
   "cell_type": "code",
   "execution_count": 2,
   "id": "f157de9f-eaef-4aa9-a4b0-174912dc848d",
   "metadata": {},
   "outputs": [
    {
     "data": {
      "text/html": [
       "<div>\n",
       "<style scoped>\n",
       "    .dataframe tbody tr th:only-of-type {\n",
       "        vertical-align: middle;\n",
       "    }\n",
       "\n",
       "    .dataframe tbody tr th {\n",
       "        vertical-align: top;\n",
       "    }\n",
       "\n",
       "    .dataframe thead th {\n",
       "        text-align: right;\n",
       "    }\n",
       "</style>\n",
       "<table border=\"1\" class=\"dataframe\">\n",
       "  <thead>\n",
       "    <tr style=\"text-align: right;\">\n",
       "      <th></th>\n",
       "      <th>sl</th>\n",
       "      <th>sw</th>\n",
       "      <th>pl</th>\n",
       "      <th>pw</th>\n",
       "      <th>target</th>\n",
       "    </tr>\n",
       "  </thead>\n",
       "  <tbody>\n",
       "    <tr>\n",
       "      <th>0</th>\n",
       "      <td>5.1</td>\n",
       "      <td>3.5</td>\n",
       "      <td>1.4</td>\n",
       "      <td>0.2</td>\n",
       "      <td>0</td>\n",
       "    </tr>\n",
       "    <tr>\n",
       "      <th>1</th>\n",
       "      <td>4.9</td>\n",
       "      <td>3.0</td>\n",
       "      <td>1.4</td>\n",
       "      <td>0.2</td>\n",
       "      <td>0</td>\n",
       "    </tr>\n",
       "    <tr>\n",
       "      <th>2</th>\n",
       "      <td>4.7</td>\n",
       "      <td>3.2</td>\n",
       "      <td>1.3</td>\n",
       "      <td>0.2</td>\n",
       "      <td>0</td>\n",
       "    </tr>\n",
       "    <tr>\n",
       "      <th>3</th>\n",
       "      <td>4.6</td>\n",
       "      <td>3.1</td>\n",
       "      <td>1.5</td>\n",
       "      <td>0.2</td>\n",
       "      <td>0</td>\n",
       "    </tr>\n",
       "    <tr>\n",
       "      <th>4</th>\n",
       "      <td>5.0</td>\n",
       "      <td>3.6</td>\n",
       "      <td>1.4</td>\n",
       "      <td>0.2</td>\n",
       "      <td>0</td>\n",
       "    </tr>\n",
       "  </tbody>\n",
       "</table>\n",
       "</div>"
      ],
      "text/plain": [
       "    sl   sw   pl   pw  target\n",
       "0  5.1  3.5  1.4  0.2       0\n",
       "1  4.9  3.0  1.4  0.2       0\n",
       "2  4.7  3.2  1.3  0.2       0\n",
       "3  4.6  3.1  1.5  0.2       0\n",
       "4  5.0  3.6  1.4  0.2       0"
      ]
     },
     "execution_count": 2,
     "metadata": {},
     "output_type": "execute_result"
    }
   ],
   "source": [
    "dataset = load_iris()\n",
    "df = pd.DataFrame(dataset['data'], columns=dataset['feature_names'])\n",
    "df['target'] = dataset['target']\n",
    "df.columns = ['sl', 'sw', 'pl','pw', 'target']\n",
    "df.head()"
   ]
  },
  {
   "cell_type": "markdown",
   "id": "d40d07e6-1d26-45cc-b393-7d315772911f",
   "metadata": {
    "tags": []
   },
   "source": [
    "# HIERACHY"
   ]
  },
  {
   "cell_type": "markdown",
   "id": "dea32409-351d-4243-9a53-16e1d92803c1",
   "metadata": {},
   "source": [
    "* scipy.cluster.hierarchy.linkage(y, method='single', metric='euclidean', optimal_ordering=False)\n",
    "* scipy.cluster.hierarchy.dendrogram(Z, p=30, truncate_mode=None, color_threshold=None, get_leaves=True, orientation='top', labels=None, count_sort=False, distance_sort=False, show_leaf_counts=True, no_plot=False, no_labels=False, leaf_font_size=None, leaf_rotation=None, leaf_label_func=None, show_contracted=False, link_color_func=None, ax=None, above_threshold_color='C0')"
   ]
  },
  {
   "cell_type": "code",
   "execution_count": 4,
   "id": "1280d22d-8a8e-4891-ab2c-55c79351c744",
   "metadata": {},
   "outputs": [],
   "source": [
    "from scipy.cluster.hierarchy import linkage, dendrogram"
   ]
  },
  {
   "cell_type": "markdown",
   "id": "86f32845-2b2a-419a-bf31-b70481ef5136",
   "metadata": {},
   "source": [
    "<pre>\n",
    "단일기준결합방식 (single)   : 각 군집에서 중심으로부터 거리가 가까운 점과의 거리 계산\n",
    "완전기준결합방식 (complete) : 각 군집에서 중심으로부터 가장 먼 점과의 거리 계산\n",
    "평균기준결합방식 (average)  : 한 군집과 다른 군집에 속해 있는 모든 점과의 거리 계산"
   ]
  },
  {
   "cell_type": "markdown",
   "id": "357d32a9-bfbd-4249-9bd0-983287d907fb",
   "metadata": {},
   "source": [
    "<img src=\"https://drek4537l1klr.cloudfront.net/rhys/v-7/Figures/CH17_FIG_3_MLR.png\" width=500>"
   ]
  },
  {
   "cell_type": "markdown",
   "id": "dd565d71-d668-400f-b52d-01310757c7eb",
   "metadata": {},
   "source": [
    "<pre>\n",
    "최단 : <img src=\"https://lucy-the-marketer.kr/wp-content/uploads/2020/10/image-33.png\" width=400>\n",
    "최장 : <img src=\"https://lucy-the-marketer.kr/wp-content/uploads/2020/10/image-34.png\" width=400>\n",
    "평균 : <img src=\"https://lucy-the-marketer.kr/wp-content/uploads/2020/10/image-35-768x341.png\" width=400>"
   ]
  },
  {
   "cell_type": "markdown",
   "id": "7484a247-ebc8-48ca-a2be-bf23eb68b444",
   "metadata": {},
   "source": [
    "## 스케일링"
   ]
  },
  {
   "cell_type": "code",
   "execution_count": 63,
   "id": "eebeea55-048f-44b0-bc38-289f4ec9c3cc",
   "metadata": {},
   "outputs": [],
   "source": [
    "y = df['target']\n",
    "X = df.drop(['target'], axis=1)\n",
    "\n",
    "pca = PCA(n_components=2, random_state=1234)\n",
    "X_pca = pca.fit_transform(X)\n",
    "\n",
    "scaler = StandardScaler()\n",
    "X_pca_scaler = scaler.fit_transform(X_pca)\n",
    "pca_df = pd.DataFrame(X_pca_scaler) #, columns=[\"pc1\",\"pc2\"])\n"
   ]
  },
  {
   "cell_type": "code",
   "execution_count": 64,
   "id": "b2277673-14dc-4529-a0b7-fcb021bf3b1d",
   "metadata": {},
   "outputs": [
    {
     "data": {
      "image/png": "[encoded data removed]",
      "text/plain": [
       "<Figure size 2160x720 with 1 Axes>"
      ]
     },
     "metadata": {
      "needs_background": "light"
     },
     "output_type": "display_data"
    },
    {
     "data": {
      "image/png": "[encoded data removed]",
      "text/plain": [
       "<Figure size 432x288 with 1 Axes>"
      ]
     },
     "metadata": {
      "needs_background": "light"
     },
     "output_type": "display_data"
    },
    {
     "data": {
      "image/png": "[encoded data removed]",
      "text/plain": [
       "<Figure size 432x288 with 1 Axes>"
      ]
     },
     "metadata": {
      "needs_background": "light"
     },
     "output_type": "display_data"
    }
   ],
   "source": [
    "method_list = ['single',  'complete' , 'average']\n",
    "plt.figure(figsize=(30,10))\n",
    "for m in method_list:\n",
    "    dis_matrix  = linkage(pca_df, method=m)\n",
    "    # print(dis_matrix[:5])\n",
    "    dendrogram(dis_matrix, labels=pca_df.index)\n",
    "    plt.show()\n",
    "    plt.close()"
   ]
  },
  {
   "cell_type": "markdown",
   "id": "3ceb7f75-db52-455c-95ee-b66c3360735b",
   "metadata": {},
   "source": [
    "# sklearn.cluster.AgglomerativeClustering"
   ]
  },
  {
   "cell_type": "code",
   "execution_count": 68,
   "id": "2e57bd92-d243-4fde-b99e-ca6cfd814ba8",
   "metadata": {},
   "outputs": [
    {
     "data": {
      "text/html": [
       "<div>\n",
       "<style scoped>\n",
       "    .dataframe tbody tr th:only-of-type {\n",
       "        vertical-align: middle;\n",
       "    }\n",
       "\n",
       "    .dataframe tbody tr th {\n",
       "        vertical-align: top;\n",
       "    }\n",
       "\n",
       "    .dataframe thead th {\n",
       "        text-align: right;\n",
       "    }\n",
       "</style>\n",
       "<table border=\"1\" class=\"dataframe\">\n",
       "  <thead>\n",
       "    <tr style=\"text-align: right;\">\n",
       "      <th></th>\n",
       "      <th>0</th>\n",
       "      <th>1</th>\n",
       "      <th>target</th>\n",
       "    </tr>\n",
       "  </thead>\n",
       "  <tbody>\n",
       "    <tr>\n",
       "      <th>0</th>\n",
       "      <td>-1.309711</td>\n",
       "      <td>0.650541</td>\n",
       "      <td>0</td>\n",
       "    </tr>\n",
       "    <tr>\n",
       "      <th>1</th>\n",
       "      <td>-1.324357</td>\n",
       "      <td>-0.360512</td>\n",
       "      <td>0</td>\n",
       "    </tr>\n",
       "    <tr>\n",
       "      <th>2</th>\n",
       "      <td>-1.409674</td>\n",
       "      <td>-0.295230</td>\n",
       "      <td>0</td>\n",
       "    </tr>\n",
       "    <tr>\n",
       "      <th>3</th>\n",
       "      <td>-1.339582</td>\n",
       "      <td>-0.648304</td>\n",
       "      <td>0</td>\n",
       "    </tr>\n",
       "    <tr>\n",
       "      <th>4</th>\n",
       "      <td>-1.331469</td>\n",
       "      <td>0.665527</td>\n",
       "      <td>0</td>\n",
       "    </tr>\n",
       "  </tbody>\n",
       "</table>\n",
       "</div>"
      ],
      "text/plain": [
       "          0         1  target\n",
       "0 -1.309711  0.650541       0\n",
       "1 -1.324357 -0.360512       0\n",
       "2 -1.409674 -0.295230       0\n",
       "3 -1.339582 -0.648304       0\n",
       "4 -1.331469  0.665527       0"
      ]
     },
     "execution_count": 68,
     "metadata": {},
     "output_type": "execute_result"
    }
   ],
   "source": [
    "pca_df[\"target\"] = y\n",
    "pca_df.head()"
   ]
  },
  {
   "cell_type": "code",
   "execution_count": 69,
   "id": "a447be52-942b-4e17-931a-52199c7fc1b9",
   "metadata": {},
   "outputs": [],
   "source": [
    "from sklearn.cluster import AgglomerativeClustering"
   ]
  },
  {
   "cell_type": "code",
   "execution_count": 70,
   "id": "192a67d6-e456-410e-b961-9cb1cadcdfa4",
   "metadata": {},
   "outputs": [],
   "source": [
    "\n",
    "def my_dendrogram(model, **kwargs):\n",
    "    # Create linkage matrix and then plot the dendrogram\n",
    "\n",
    "    # create the counts of samples under each node\n",
    "    counts = np.zeros(model.children_.shape[0])\n",
    "    n_samples = len(model.labels_)\n",
    "    for i, merge in enumerate(model.children_):\n",
    "        current_count = 0\n",
    "        for child_idx in merge:\n",
    "            if child_idx < n_samples:\n",
    "                current_count += 1  # leaf node\n",
    "            else:\n",
    "                current_count += counts[child_idx - n_samples]\n",
    "        counts[i] = current_count\n",
    "\n",
    "    linkage_matrix = np.column_stack(\n",
    "        [model.children_, model.distances_, counts]\n",
    "    ).astype(float)\n",
    "\n",
    "    # Plot the corresponding dendrogram\n",
    "    dendrogram(linkage_matrix, **kwargs)\n",
    "    plt.show()\n",
    "    plt.close()\n"
   ]
  },
  {
   "cell_type": "code",
   "execution_count": 77,
   "id": "85bd084a-bf9e-40a4-8be0-f2e6366f0f83",
   "metadata": {},
   "outputs": [
    {
     "name": "stdout",
     "output_type": "stream",
     "text": [
      " ward ==============\n"
     ]
    },
    {
     "data": {
      "image/png": "[encoded data removed]",
      "text/plain": [
       "<Figure size 432x288 with 1 Axes>"
      ]
     },
     "metadata": {
      "needs_background": "light"
     },
     "output_type": "display_data"
    },
    {
     "name": "stdout",
     "output_type": "stream",
     "text": [
      " complete ==============\n"
     ]
    },
    {
     "data": {
      "image/png": "[encoded data removed]",
      "text/plain": [
       "<Figure size 432x288 with 1 Axes>"
      ]
     },
     "metadata": {
      "needs_background": "light"
     },
     "output_type": "display_data"
    },
    {
     "name": "stdout",
     "output_type": "stream",
     "text": [
      " average ==============\n"
     ]
    },
    {
     "data": {
      "image/png": "[encoded data removed]",
      "text/plain": [
       "<Figure size 432x288 with 1 Axes>"
      ]
     },
     "metadata": {
      "needs_background": "light"
     },
     "output_type": "display_data"
    },
    {
     "name": "stdout",
     "output_type": "stream",
     "text": [
      " single ==============\n"
     ]
    },
    {
     "data": {
      "image/png": "[encoded data removed]",
      "text/plain": [
       "<Figure size 432x288 with 1 Axes>"
      ]
     },
     "metadata": {
      "needs_background": "light"
     },
     "output_type": "display_data"
    }
   ],
   "source": [
    "# linkage{‘ward’, ‘complete’, ‘average’, ‘single’}, default=’ward’\n",
    "\n",
    "for m in ['ward','complete','average','single']:\n",
    "    print(f\" {m} ==============\")\n",
    "    \n",
    "    # model = AgglomerativeClustering(n_clusters=3)  #===============================??????? 3종 클러스터는 덴드로그램 에러가 나요????????????\n",
    "    model = AgglomerativeClustering(distance_threshold=0, n_clusters=None)\n",
    "    model = model.fit(pca_df)\n",
    "    my_dendrogram(model, truncate_mode=\"level\", p=3)\n",
    "\n",
    "\n",
    "    ## 평가 & 검증\n",
    "#     cross_df = pd.crosstab(pca_df['cluster_no'], pca_df['target'])\n",
    "#     print(cross_df)\n",
    "    "
   ]
  },
  {
   "cell_type": "code",
   "execution_count": null,
   "id": "2698f6c1-02be-433d-b4e2-6840cd2e6e0e",
   "metadata": {},
   "outputs": [],
   "source": [
    "labels_"
   ]
  },
  {
   "cell_type": "code",
   "execution_count": null,
   "id": "7df7f252-7d1d-4880-82bb-f396d6ca5f0b",
   "metadata": {},
   "outputs": [],
   "source": []
  },
  {
   "cell_type": "code",
   "execution_count": null,
   "id": "aab57c7c-1246-4572-a679-4fce0c10974e",
   "metadata": {},
   "outputs": [],
   "source": []
  },
  {
   "cell_type": "code",
   "execution_count": null,
   "id": "b1e92f1f-7c66-448f-abb8-1faf4e964a59",
   "metadata": {},
   "outputs": [],
   "source": []
  }
 ],
 "metadata": {
  "kernelspec": {
   "display_name": "Python 3 (ipykernel)",
   "language": "python",
   "name": "python3"
  },
  "language_info": {
   "codemirror_mode": {
    "name": "ipython",
    "version": 3
   },
   "file_extension": ".py",
   "mimetype": "text/x-python",
   "name": "python",
   "nbconvert_exporter": "python",
   "pygments_lexer": "ipython3",
   "version": "3.8.8"
  }
 },
 "nbformat": 4,
 "nbformat_minor": 5
}
