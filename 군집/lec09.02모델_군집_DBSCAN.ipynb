{
 "cells": [
  {
   "cell_type": "markdown",
   "id": "60b8e4e8-b29b-4bd7-9402-b306bc49cc45",
   "metadata": {},
   "source": [
    "<font size=6><b> lec09_2. 군집분석(Clustering) - DBSCAN"
   ]
  },
  {
   "cell_type": "markdown",
   "id": "e5ec028c-e894-4c5c-9501-7649f60cd172",
   "metadata": {},
   "source": [
    "* 군집 분석 \n",
    "    * 데이터를 비슷한 것끼리 그룹을 묶는 것\n",
    "    * 데이터의 전반적 특징 파악에 유용\n",
    "    * 답지(target)이 없는 비지도학습(unsupervised learning)\n"
   ]
  },
  {
   "cell_type": "code",
   "execution_count": 1,
   "id": "44be330b-4f16-4024-b3cf-5ed50972314d",
   "metadata": {},
   "outputs": [],
   "source": [
    "from sklearn.datasets import load_iris\n",
    "\n",
    "import pandas as pd\n",
    "import numpy as np\n",
    "import seaborn as sns\n",
    "import matplotlib.pyplot as plt\n",
    "from sklearn.decomposition import PCA\n",
    "\n",
    "from sklearn.preprocessing import StandardScaler\n",
    "from sklearn.model_selection import train_test_split\n",
    "from sklearn.ensemble import RandomForestClassifier\n",
    "from sklearn.metrics import classification_report, accuracy_score, recall_score, precision_score, f1_score, confusion_matrix, roc_auc_score, roc_curve, precision_recall_curve\n",
    "from sklearn.model_selection import KFold, cross_val_score, GridSearchCV\n",
    "from sklearn.cluster import DBSCAN\n",
    "\n",
    "from sklearn.neighbors import NearestNeighbors\n",
    "from sklearn.metrics import silhouette_samples\n",
    "from sklearn.metrics import silhouette_score \n",
    "\n",
    "import warnings\n",
    "warnings.filterwarnings(action='ignore')\n",
    "sns.set()"
   ]
  },
  {
   "cell_type": "markdown",
   "id": "5f76dfac-eea7-43bb-9447-11440bbec97e",
   "metadata": {},
   "source": [
    "# Data Load"
   ]
  },
  {
   "cell_type": "code",
   "execution_count": 2,
   "id": "f157de9f-eaef-4aa9-a4b0-174912dc848d",
   "metadata": {},
   "outputs": [
    {
     "data": {
      "text/html": [
       "<div>\n",
       "<style scoped>\n",
       "    .dataframe tbody tr th:only-of-type {\n",
       "        vertical-align: middle;\n",
       "    }\n",
       "\n",
       "    .dataframe tbody tr th {\n",
       "        vertical-align: top;\n",
       "    }\n",
       "\n",
       "    .dataframe thead th {\n",
       "        text-align: right;\n",
       "    }\n",
       "</style>\n",
       "<table border=\"1\" class=\"dataframe\">\n",
       "  <thead>\n",
       "    <tr style=\"text-align: right;\">\n",
       "      <th></th>\n",
       "      <th>sl</th>\n",
       "      <th>sw</th>\n",
       "      <th>pl</th>\n",
       "      <th>pw</th>\n",
       "      <th>target</th>\n",
       "    </tr>\n",
       "  </thead>\n",
       "  <tbody>\n",
       "    <tr>\n",
       "      <th>0</th>\n",
       "      <td>5.1</td>\n",
       "      <td>3.5</td>\n",
       "      <td>1.4</td>\n",
       "      <td>0.2</td>\n",
       "      <td>0</td>\n",
       "    </tr>\n",
       "    <tr>\n",
       "      <th>1</th>\n",
       "      <td>4.9</td>\n",
       "      <td>3.0</td>\n",
       "      <td>1.4</td>\n",
       "      <td>0.2</td>\n",
       "      <td>0</td>\n",
       "    </tr>\n",
       "    <tr>\n",
       "      <th>2</th>\n",
       "      <td>4.7</td>\n",
       "      <td>3.2</td>\n",
       "      <td>1.3</td>\n",
       "      <td>0.2</td>\n",
       "      <td>0</td>\n",
       "    </tr>\n",
       "    <tr>\n",
       "      <th>3</th>\n",
       "      <td>4.6</td>\n",
       "      <td>3.1</td>\n",
       "      <td>1.5</td>\n",
       "      <td>0.2</td>\n",
       "      <td>0</td>\n",
       "    </tr>\n",
       "    <tr>\n",
       "      <th>4</th>\n",
       "      <td>5.0</td>\n",
       "      <td>3.6</td>\n",
       "      <td>1.4</td>\n",
       "      <td>0.2</td>\n",
       "      <td>0</td>\n",
       "    </tr>\n",
       "  </tbody>\n",
       "</table>\n",
       "</div>"
      ],
      "text/plain": [
       "    sl   sw   pl   pw  target\n",
       "0  5.1  3.5  1.4  0.2       0\n",
       "1  4.9  3.0  1.4  0.2       0\n",
       "2  4.7  3.2  1.3  0.2       0\n",
       "3  4.6  3.1  1.5  0.2       0\n",
       "4  5.0  3.6  1.4  0.2       0"
      ]
     },
     "execution_count": 2,
     "metadata": {},
     "output_type": "execute_result"
    }
   ],
   "source": [
    "dataset = load_iris()\n",
    "df = pd.DataFrame(dataset['data'], columns=dataset['feature_names'])\n",
    "df['target'] = dataset['target']\n",
    "df.columns = ['sl', 'sw', 'pl','pw', 'target']\n",
    "df.head()"
   ]
  },
  {
   "cell_type": "markdown",
   "id": "7f1960e6-d7aa-4cab-8fc5-95fc63eb7344",
   "metadata": {
    "tags": []
   },
   "source": [
    "# DBSCAN"
   ]
  },
  {
   "cell_type": "markdown",
   "id": "4216b487-b598-45be-98fd-da59d05d82f7",
   "metadata": {},
   "source": [
    "<img src= \"https://lucy-the-marketer.kr/wp-content/uploads/2020/10/image-29.png\" width=400>"
   ]
  },
  {
   "cell_type": "markdown",
   "id": "d8413e88-853c-4358-9a1b-8852ef9d95f3",
   "metadata": {},
   "source": [
    "* class sklearn.cluster.DBSCAN(eps=0.5, *, min_samples=5, metric='euclidean', metric_params=None, algorithm='auto', leaf_size=30, p=None, n_jobs=None)"
   ]
  },
  {
   "cell_type": "markdown",
   "id": "f3094008-60b4-482c-965a-4f96a58fd9db",
   "metadata": {},
   "source": [
    "## 스케일링"
   ]
  },
  {
   "cell_type": "code",
   "execution_count": null,
   "id": "9d43120f-e600-4b42-a427-f9416b878564",
   "metadata": {},
   "outputs": [],
   "source": [
    "y = df['target']\n",
    "X = df.drop(['target'], axis=1)\n",
    "\n",
    "pca = PCA(n_components=2, random_state=1234)\n",
    "X_pca = pca.fit_transform(X)\n",
    "\n",
    "scaler = StandardScaler()\n",
    "X_pca_scaler = scaler.fit_transform(X_pca)\n",
    "pca_df = pd.DataFrame(X_pca_scaler, columns=[\"pc1\",\"pc2\"])\n"
   ]
  },
  {
   "cell_type": "markdown",
   "id": "d8e851a3-2e5e-40aa-b738-2080bb75823d",
   "metadata": {},
   "source": [
    "## 최적의 eps, nodes 찾기"
   ]
  },
  {
   "cell_type": "code",
   "execution_count": 3,
   "id": "88c065e1-dbfe-456b-86b0-0d61a8285f1b",
   "metadata": {},
   "outputs": [],
   "source": [
    "import math\n",
    "def calculate_kn_distance(X,k):\n",
    "    kn_distance = []\n",
    "    for i in range(len(X)):\n",
    "        eucl_dist = []\n",
    "        for j in range(len(X)):\n",
    "            eucl_dist.append(math.sqrt(((X[i,0] - X[j,0]) ** 2) +  ((X[i,1] - X[j,1]) ** 2)))\n",
    "        eucl_dist.sort()\n",
    "        kn_distance.append(eucl_dist[k])\n",
    "    return kn_distance"
   ]
  },
  {
   "cell_type": "code",
   "execution_count": 4,
   "id": "90725bf4-9fca-47ee-8c7b-a80365166b21",
   "metadata": {},
   "outputs": [
    {
     "ename": "NameError",
     "evalue": "name 'pca_df' is not defined",
     "output_type": "error",
     "traceback": [
      "\u001b[1;31m---------------------------------------------------------------------------\u001b[0m",
      "\u001b[1;31mNameError\u001b[0m                                 Traceback (most recent call last)",
      "Input \u001b[1;32mIn [4]\u001b[0m, in \u001b[0;36m<cell line: 1>\u001b[1;34m()\u001b[0m\n\u001b[0;32m      1\u001b[0m \u001b[38;5;28;01mfor\u001b[39;00m n \u001b[38;5;129;01min\u001b[39;00m [\u001b[38;5;241m2\u001b[39m,\u001b[38;5;241m3\u001b[39m,\u001b[38;5;241m4\u001b[39m,\u001b[38;5;241m5\u001b[39m,\u001b[38;5;241m6\u001b[39m,\u001b[38;5;241m7\u001b[39m,\u001b[38;5;241m8\u001b[39m]:\n\u001b[1;32m----> 2\u001b[0m     eps_dist \u001b[38;5;241m=\u001b[39m calculate_kn_distance(\u001b[43mpca_df\u001b[49m\u001b[38;5;241m.\u001b[39mvalues, n)\n\u001b[0;32m      3\u001b[0m     plt\u001b[38;5;241m.\u001b[39mfigure(figsize\u001b[38;5;241m=\u001b[39m(\u001b[38;5;241m5\u001b[39m,\u001b[38;5;241m2\u001b[39m))\n\u001b[0;32m      4\u001b[0m     plt\u001b[38;5;241m.\u001b[39mhist(eps_dist, bins\u001b[38;5;241m=\u001b[39m\u001b[38;5;241m30\u001b[39m)\n",
      "\u001b[1;31mNameError\u001b[0m: name 'pca_df' is not defined"
     ]
    }
   ],
   "source": [
    "for n in [2,3,4,5,6,7,8]:\n",
    "    eps_dist = calculate_kn_distance(pca_df.values, n)\n",
    "    plt.figure(figsize=(5,2))\n",
    "    plt.hist(eps_dist, bins=30)\n",
    "    plt.title(f\"neighbors : {n}\")\n",
    "    plt.show()"
   ]
  },
  {
   "cell_type": "markdown",
   "id": "6e4b05c2-486d-4ec4-b3b0-09a7bf1783f2",
   "metadata": {},
   "source": [
    "* ref : https://lucy-the-marketer.kr/ko/growth/%ED%81%B4%EB%9F%AC%EC%8A%A4%ED%84%B0%EB%A7%81%EA%B3%BC-dbscan\n",
    "\n",
    "<img src= \"https://lucy-the-marketer.kr/wp-content/uploads/2020/10/image-32.png\" width=300>\n"
   ]
  },
  {
   "cell_type": "code",
   "execution_count": null,
   "id": "0c436431-933e-4859-82fe-d2e85aca5a75",
   "metadata": {},
   "outputs": [],
   "source": [
    "res =  NearestNeighbors(n_neighbors=5).fit(pca_df)\n",
    "distance, indices = res.kneighbors()\n",
    "distance = np.sort(distance, axis=0)\n",
    "plt.figure(figsize=(5,2))\n",
    "plt.plot(distance[:, 0])\n",
    "plt.show()\n",
    "plt.close()"
   ]
  },
  {
   "cell_type": "markdown",
   "id": "bafdd3de-6050-4260-99b7-5fd5d1fadb27",
   "metadata": {},
   "source": [
    "## 군집 & 평가 검증"
   ]
  },
  {
   "cell_type": "code",
   "execution_count": null,
   "id": "cf35f910-c336-4141-b7fa-c1258287a1fa",
   "metadata": {},
   "outputs": [],
   "source": [
    "\n",
    "# 0.2 0.4 0.5 0.6 0.8    \n",
    "# 3,4,5,6,7,8\n",
    "for node in [3,4,5,6,7,8]:\n",
    "    \n",
    "    print(f\"={node}=\"*20)\n",
    "    # dbscan = KMeans(n_clusters=k, random_state=1234)\n",
    "    dbscan = DBSCAN(eps=0.25, min_samples=node)\n",
    "    pred = dbscan.fit_predict(pca_df[[\"pc1\", \"pc2\"]])   #---------- y가 없다\n",
    "    # pred, y\n",
    "\n",
    "    pred_df = pd.DataFrame({\"cluser_no\":pred,  \"target\":y})\n",
    "    pred_df[\"pc1\"] = pca_df[\"pc1\"]\n",
    "    pred_df[\"pc2\"] = pca_df[\"pc2\"]\n",
    "    pred_df.head()\n",
    "\n",
    "    sns.scatterplot(x=\"pc1\", y=\"pc2\", data=pred_df, hue=\"cluser_no\")\n",
    "    plt.show()\n",
    "    plt.close()\n",
    "    \n",
    "    sil_coef = silhouette_samples(pred_df[['pc1','pc2']], pred_df[\"cluser_no\"])\n",
    "    pred_df[\"sil_coef\"] = sil_coef\n",
    "\n",
    "    print(f\"전체 silhouette : {pred_df['sil_coef'].mean():.4f}\") \n",
    "   \n",
    "    ## 평가 & 검증\n",
    "    cross_df = pd.crosstab(pred_df['cluser_no'], pred_df['target'])\n",
    "    print(cross_df)\n",
    "    \n",
    "    \n"
   ]
  }
 ],
 "metadata": {
  "kernelspec": {
   "display_name": "Python 3 (ipykernel)",
   "language": "python",
   "name": "python3"
  },
  "language_info": {
   "codemirror_mode": {
    "name": "ipython",
    "version": 3
   },
   "file_extension": ".py",
   "mimetype": "text/x-python",
   "name": "python",
   "nbconvert_exporter": "python",
   "pygments_lexer": "ipython3",
   "version": "3.8.8"
  },
  "toc-autonumbering": true,
  "toc-showmarkdowntxt": true
 },
 "nbformat": 4,
 "nbformat_minor": 5
}
