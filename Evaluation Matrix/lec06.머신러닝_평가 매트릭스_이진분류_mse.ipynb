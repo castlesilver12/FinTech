{
 "cells": [
  {
   "cell_type": "markdown",
   "id": "050c8c34-1e3f-430e-9590-173e51e4a42c",
   "metadata": {},
   "source": [
    "<font size=6><b> lec06.머신러닝 : 평가 매트릭스 : Binary case"
   ]
  },
  {
   "cell_type": "code",
   "execution_count": 1,
   "id": "c59c8b91-82a8-4bac-bdcf-d0e75cb4433c",
   "metadata": {},
   "outputs": [],
   "source": [
    "import pandas as pd\n",
    "import numpy as np\n",
    "import matplotlib.pyplot as plt\n",
    "import seaborn as sns\n",
    "import warnings\n",
    "warnings.filterwarnings(action=\"ignore\")\n",
    "sns.set()\n"
   ]
  },
  {
   "cell_type": "markdown",
   "id": "105eb242-0d0f-4905-bcf5-550d31262a53",
   "metadata": {},
   "source": [
    "# Data Load"
   ]
  },
  {
   "cell_type": "markdown",
   "id": "c22bafdf-b124-4f81-87c5-6f02a143480b",
   "metadata": {
    "tags": []
   },
   "source": [
    "## make_classification() \n",
    "* ref : https://scikit-learn.org/stable/modules/generated/sklearn.datasets.make_classification.html\n",
    "\n",
    "<pre>\n",
    "n_samples : 표본 데이터의 수, 디폴트 100\n",
    "+ n_features : 독립 변수의 수, 디폴트 20\n",
    "     - n_informative : 독립 변수 중 종속 변수와 상관 관계가 있는 성분의 수, 디폴트 2\n",
    "     - n_redundant : 독립 변수 중 다른 독립 변수의 선형 조합으로 나타나는 성분의 수, 디폴트 2\n",
    "     - n_repeated : 독립 변수 중 단순 중복된 성분의 수, 디폴트 0\n",
    "+ n_classes : 종속 변수의 클래스 수, 디폴트 2\n",
    "+ n_clusters_per_class : 클래스 당 클러스터의 수, 디폴트 2\n",
    "weights : 각 클래스에 할당된 표본 수\n",
    "random_state : 난수 발생 시드"
   ]
  },
  {
   "cell_type": "code",
   "execution_count": 2,
   "id": "9240af86-2434-41a5-b4cd-59668cab9423",
   "metadata": {},
   "outputs": [
    {
     "data": {
      "text/plain": [
       "(array([[-2.69623724,  0.33697474],\n",
       "        [-1.44462928,  0.87327533],\n",
       "        [ 1.20111224,  1.86953492],\n",
       "        [-1.65650218,  0.91159718],\n",
       "        [-1.05597432, -0.06628841],\n",
       "        [-1.73028707,  0.66204133],\n",
       "        [-0.42481334,  0.15827256],\n",
       "        [ 0.72606437,  1.60563018],\n",
       "        [-0.9595514 ,  1.52783007],\n",
       "        [ 1.71712359,  1.81943473],\n",
       "        [-0.49556254,  0.26356466],\n",
       "        [ 0.43294294,  0.25493233],\n",
       "        [ 0.0818844 ,  1.36528131],\n",
       "        [-1.62980463,  1.04699717],\n",
       "        [ 2.24057858,  1.89947555],\n",
       "        [-0.644468  ,  0.72204137]]),\n",
       " array([1, 1, 0, 1, 1, 1, 0, 0, 1, 0, 0, 0, 1, 1, 0, 0]))"
      ]
     },
     "execution_count": 2,
     "metadata": {},
     "output_type": "execute_result"
    }
   ],
   "source": [
    "from sklearn.datasets import make_classification\n",
    "from sklearn.linear_model import LogisticRegression\n",
    "from sklearn.metrics import precision_recall_curve, accuracy_score, precision_score, recall_score, f1_score\n",
    "\n",
    "# ------------------------------------------------------------------------------------------------------------\n",
    "# \"Number of informative, redundant and repeated features\" must sum to less than the number of \"total features\"\n",
    "# n_classes(5) * n_clusters_per_class(2) must be smaller or equal 2**n_informative(2)=4\n",
    "# ------------------------------------------------------------------------------------------------------------\n",
    "X, y = make_classification(n_samples=16, n_features=2, \n",
    "                           n_informative=2, n_classes=2,             #---------(16*2) target 이진분류(0,1)\n",
    "                           n_clusters_per_class=1, n_redundant=0,\n",
    "                           # weights=[0.9, 0.1],                     #--------- 비대칭 데이터\n",
    "                           random_state=1111)\n",
    "\n",
    "X, y"
   ]
  },
  {
   "cell_type": "code",
   "execution_count": 3,
   "id": "8062fb3d-cd4f-4329-a1d0-c8ae1c6b47a8",
   "metadata": {},
   "outputs": [
    {
     "name": "stdout",
     "output_type": "stream",
     "text": [
      "(16,) (16,)\n"
     ]
    },
    {
     "data": {
      "text/html": [
       "<div>\n",
       "<style scoped>\n",
       "    .dataframe tbody tr th:only-of-type {\n",
       "        vertical-align: middle;\n",
       "    }\n",
       "\n",
       "    .dataframe tbody tr th {\n",
       "        vertical-align: top;\n",
       "    }\n",
       "\n",
       "    .dataframe thead th {\n",
       "        text-align: right;\n",
       "    }\n",
       "</style>\n",
       "<table border=\"1\" class=\"dataframe\">\n",
       "  <thead>\n",
       "    <tr style=\"text-align: right;\">\n",
       "      <th></th>\n",
       "      <th>정답</th>\n",
       "      <th>예측값</th>\n",
       "      <th>함수판별값</th>\n",
       "    </tr>\n",
       "  </thead>\n",
       "  <tbody>\n",
       "    <tr>\n",
       "      <th>0</th>\n",
       "      <td>1.0</td>\n",
       "      <td>1.0</td>\n",
       "      <td>3.068794</td>\n",
       "    </tr>\n",
       "    <tr>\n",
       "      <th>1</th>\n",
       "      <td>1.0</td>\n",
       "      <td>1.0</td>\n",
       "      <td>1.821582</td>\n",
       "    </tr>\n",
       "    <tr>\n",
       "      <th>2</th>\n",
       "      <td>1.0</td>\n",
       "      <td>1.0</td>\n",
       "      <td>1.796082</td>\n",
       "    </tr>\n",
       "    <tr>\n",
       "      <th>3</th>\n",
       "      <td>1.0</td>\n",
       "      <td>1.0</td>\n",
       "      <td>1.785720</td>\n",
       "    </tr>\n",
       "    <tr>\n",
       "      <th>4</th>\n",
       "      <td>1.0</td>\n",
       "      <td>1.0</td>\n",
       "      <td>1.461787</td>\n",
       "    </tr>\n",
       "    <tr>\n",
       "      <th>5</th>\n",
       "      <td>1.0</td>\n",
       "      <td>1.0</td>\n",
       "      <td>1.054386</td>\n",
       "    </tr>\n",
       "    <tr>\n",
       "      <th>6</th>\n",
       "      <td>1.0</td>\n",
       "      <td>1.0</td>\n",
       "      <td>0.429373</td>\n",
       "    </tr>\n",
       "    <tr>\n",
       "      <th>7</th>\n",
       "      <td>0.0</td>\n",
       "      <td>1.0</td>\n",
       "      <td>0.196148</td>\n",
       "    </tr>\n",
       "    <tr>\n",
       "      <th>8</th>\n",
       "      <td>0.0</td>\n",
       "      <td>0.0</td>\n",
       "      <td>-0.246902</td>\n",
       "    </tr>\n",
       "    <tr>\n",
       "      <th>9</th>\n",
       "      <td>0.0</td>\n",
       "      <td>0.0</td>\n",
       "      <td>-0.403136</td>\n",
       "    </tr>\n",
       "    <tr>\n",
       "      <th>10</th>\n",
       "      <td>1.0</td>\n",
       "      <td>0.0</td>\n",
       "      <td>-0.576350</td>\n",
       "    </tr>\n",
       "    <tr>\n",
       "      <th>11</th>\n",
       "      <td>0.0</td>\n",
       "      <td>0.0</td>\n",
       "      <td>-1.420652</td>\n",
       "    </tr>\n",
       "    <tr>\n",
       "      <th>12</th>\n",
       "      <td>0.0</td>\n",
       "      <td>0.0</td>\n",
       "      <td>-1.635083</td>\n",
       "    </tr>\n",
       "    <tr>\n",
       "      <th>13</th>\n",
       "      <td>0.0</td>\n",
       "      <td>0.0</td>\n",
       "      <td>-2.001487</td>\n",
       "    </tr>\n",
       "    <tr>\n",
       "      <th>14</th>\n",
       "      <td>0.0</td>\n",
       "      <td>0.0</td>\n",
       "      <td>-2.794807</td>\n",
       "    </tr>\n",
       "    <tr>\n",
       "      <th>15</th>\n",
       "      <td>0.0</td>\n",
       "      <td>0.0</td>\n",
       "      <td>-3.536463</td>\n",
       "    </tr>\n",
       "  </tbody>\n",
       "</table>\n",
       "</div>"
      ],
      "text/plain": [
       "     정답  예측값     함수판별값\n",
       "0   1.0  1.0  3.068794\n",
       "1   1.0  1.0  1.821582\n",
       "2   1.0  1.0  1.796082\n",
       "3   1.0  1.0  1.785720\n",
       "4   1.0  1.0  1.461787\n",
       "5   1.0  1.0  1.054386\n",
       "6   1.0  1.0  0.429373\n",
       "7   0.0  1.0  0.196148\n",
       "8   0.0  0.0 -0.246902\n",
       "9   0.0  0.0 -0.403136\n",
       "10  1.0  0.0 -0.576350\n",
       "11  0.0  0.0 -1.420652\n",
       "12  0.0  0.0 -1.635083\n",
       "13  0.0  0.0 -2.001487\n",
       "14  0.0  0.0 -2.794807\n",
       "15  0.0  0.0 -3.536463"
      ]
     },
     "execution_count": 3,
     "metadata": {},
     "output_type": "execute_result"
    }
   ],
   "source": [
    "model = LogisticRegression().fit(X, y)\n",
    "pred = model.predict(X)\n",
    "fval = model.decision_function(X)\n",
    "print(pred.shape, fval.shape)\n",
    "df = pd.DataFrame(np.vstack([y, pred, fval]).T, columns=[\"정답\", \"예측값\", \"함수판별값\"])\n",
    "df.sort_values(\"함수판별값\", ascending=False).reset_index(drop=True)"
   ]
  },
  {
   "cell_type": "markdown",
   "id": "32d1365e-1ee8-431f-b587-9fd03e4b427f",
   "metadata": {},
   "source": [
    "## read_csv()"
   ]
  },
  {
   "cell_type": "code",
   "execution_count": 4,
   "id": "9ece12e7-421f-4eff-bb1c-2724854c082a",
   "metadata": {},
   "outputs": [
    {
     "data": {
      "text/html": [
       "<div>\n",
       "<style scoped>\n",
       "    .dataframe tbody tr th:only-of-type {\n",
       "        vertical-align: middle;\n",
       "    }\n",
       "\n",
       "    .dataframe tbody tr th {\n",
       "        vertical-align: top;\n",
       "    }\n",
       "\n",
       "    .dataframe thead th {\n",
       "        text-align: right;\n",
       "    }\n",
       "</style>\n",
       "<table border=\"1\" class=\"dataframe\">\n",
       "  <thead>\n",
       "    <tr style=\"text-align: right;\">\n",
       "      <th></th>\n",
       "      <th>Pregnancies</th>\n",
       "      <th>Glucose</th>\n",
       "      <th>BloodPressure</th>\n",
       "      <th>SkinThickness</th>\n",
       "      <th>Insulin</th>\n",
       "      <th>BMI</th>\n",
       "      <th>DiabetesPedigreeFunction</th>\n",
       "      <th>Age</th>\n",
       "      <th>Outcome</th>\n",
       "    </tr>\n",
       "  </thead>\n",
       "  <tbody>\n",
       "    <tr>\n",
       "      <th>0</th>\n",
       "      <td>6</td>\n",
       "      <td>148</td>\n",
       "      <td>72</td>\n",
       "      <td>35</td>\n",
       "      <td>0</td>\n",
       "      <td>33.6</td>\n",
       "      <td>0.627</td>\n",
       "      <td>50</td>\n",
       "      <td>1</td>\n",
       "    </tr>\n",
       "    <tr>\n",
       "      <th>1</th>\n",
       "      <td>1</td>\n",
       "      <td>85</td>\n",
       "      <td>66</td>\n",
       "      <td>29</td>\n",
       "      <td>0</td>\n",
       "      <td>26.6</td>\n",
       "      <td>0.351</td>\n",
       "      <td>31</td>\n",
       "      <td>0</td>\n",
       "    </tr>\n",
       "    <tr>\n",
       "      <th>2</th>\n",
       "      <td>8</td>\n",
       "      <td>183</td>\n",
       "      <td>64</td>\n",
       "      <td>0</td>\n",
       "      <td>0</td>\n",
       "      <td>23.3</td>\n",
       "      <td>0.672</td>\n",
       "      <td>32</td>\n",
       "      <td>1</td>\n",
       "    </tr>\n",
       "    <tr>\n",
       "      <th>3</th>\n",
       "      <td>1</td>\n",
       "      <td>89</td>\n",
       "      <td>66</td>\n",
       "      <td>23</td>\n",
       "      <td>94</td>\n",
       "      <td>28.1</td>\n",
       "      <td>0.167</td>\n",
       "      <td>21</td>\n",
       "      <td>0</td>\n",
       "    </tr>\n",
       "    <tr>\n",
       "      <th>4</th>\n",
       "      <td>0</td>\n",
       "      <td>137</td>\n",
       "      <td>40</td>\n",
       "      <td>35</td>\n",
       "      <td>168</td>\n",
       "      <td>43.1</td>\n",
       "      <td>2.288</td>\n",
       "      <td>33</td>\n",
       "      <td>1</td>\n",
       "    </tr>\n",
       "  </tbody>\n",
       "</table>\n",
       "</div>"
      ],
      "text/plain": [
       "   Pregnancies  Glucose  BloodPressure  SkinThickness  Insulin   BMI  \\\n",
       "0            6      148             72             35        0  33.6   \n",
       "1            1       85             66             29        0  26.6   \n",
       "2            8      183             64              0        0  23.3   \n",
       "3            1       89             66             23       94  28.1   \n",
       "4            0      137             40             35      168  43.1   \n",
       "\n",
       "   DiabetesPedigreeFunction  Age  Outcome  \n",
       "0                     0.627   50        1  \n",
       "1                     0.351   31        0  \n",
       "2                     0.672   32        1  \n",
       "3                     0.167   21        0  \n",
       "4                     2.288   33        1  "
      ]
     },
     "execution_count": 4,
     "metadata": {},
     "output_type": "execute_result"
    }
   ],
   "source": [
    "df = pd.read_csv(\"./dataset/pima_diabetes.csv\")\n",
    "df.head()"
   ]
  },
  {
   "cell_type": "code",
   "execution_count": 5,
   "id": "68284b4a-53e9-4487-9bfc-412804b56b8d",
   "metadata": {},
   "outputs": [
    {
     "name": "stdout",
     "output_type": "stream",
     "text": [
      "<class 'pandas.core.frame.DataFrame'>\n",
      "RangeIndex: 768 entries, 0 to 767\n",
      "Data columns (total 9 columns):\n",
      " #   Column                    Non-Null Count  Dtype  \n",
      "---  ------                    --------------  -----  \n",
      " 0   Pregnancies               768 non-null    int64  \n",
      " 1   Glucose                   768 non-null    int64  \n",
      " 2   BloodPressure             768 non-null    int64  \n",
      " 3   SkinThickness             768 non-null    int64  \n",
      " 4   Insulin                   768 non-null    int64  \n",
      " 5   BMI                       768 non-null    float64\n",
      " 6   DiabetesPedigreeFunction  768 non-null    float64\n",
      " 7   Age                       768 non-null    int64  \n",
      " 8   Outcome                   768 non-null    int64  \n",
      "dtypes: float64(2), int64(7)\n",
      "memory usage: 54.1 KB\n"
     ]
    }
   ],
   "source": [
    "df.info()"
   ]
  },
  {
   "cell_type": "markdown",
   "id": "e7e9c5ce-4a68-42ce-a6a5-3b2cfe6a6245",
   "metadata": {},
   "source": [
    "### 샘플링(N개)"
   ]
  },
  {
   "cell_type": "code",
   "execution_count": 6,
   "id": "0f9b988e-eb45-41cd-b1ff-f20e11dc43f3",
   "metadata": {},
   "outputs": [
    {
     "name": "stdout",
     "output_type": "stream",
     "text": [
      "(3, 9)\n"
     ]
    },
    {
     "data": {
      "text/html": [
       "<div>\n",
       "<style scoped>\n",
       "    .dataframe tbody tr th:only-of-type {\n",
       "        vertical-align: middle;\n",
       "    }\n",
       "\n",
       "    .dataframe tbody tr th {\n",
       "        vertical-align: top;\n",
       "    }\n",
       "\n",
       "    .dataframe thead th {\n",
       "        text-align: right;\n",
       "    }\n",
       "</style>\n",
       "<table border=\"1\" class=\"dataframe\">\n",
       "  <thead>\n",
       "    <tr style=\"text-align: right;\">\n",
       "      <th></th>\n",
       "      <th>Pregnancies</th>\n",
       "      <th>Glucose</th>\n",
       "      <th>BloodPressure</th>\n",
       "      <th>SkinThickness</th>\n",
       "      <th>Insulin</th>\n",
       "      <th>BMI</th>\n",
       "      <th>DiabetesPedigreeFunction</th>\n",
       "      <th>Age</th>\n",
       "      <th>Outcome</th>\n",
       "    </tr>\n",
       "  </thead>\n",
       "  <tbody>\n",
       "    <tr>\n",
       "      <th>25</th>\n",
       "      <td>10</td>\n",
       "      <td>125</td>\n",
       "      <td>70</td>\n",
       "      <td>26</td>\n",
       "      <td>115</td>\n",
       "      <td>31.1</td>\n",
       "      <td>0.205</td>\n",
       "      <td>41</td>\n",
       "      <td>1</td>\n",
       "    </tr>\n",
       "    <tr>\n",
       "      <th>132</th>\n",
       "      <td>3</td>\n",
       "      <td>170</td>\n",
       "      <td>64</td>\n",
       "      <td>37</td>\n",
       "      <td>225</td>\n",
       "      <td>34.5</td>\n",
       "      <td>0.356</td>\n",
       "      <td>30</td>\n",
       "      <td>1</td>\n",
       "    </tr>\n",
       "    <tr>\n",
       "      <th>283</th>\n",
       "      <td>7</td>\n",
       "      <td>161</td>\n",
       "      <td>86</td>\n",
       "      <td>0</td>\n",
       "      <td>0</td>\n",
       "      <td>30.4</td>\n",
       "      <td>0.165</td>\n",
       "      <td>47</td>\n",
       "      <td>1</td>\n",
       "    </tr>\n",
       "  </tbody>\n",
       "</table>\n",
       "</div>"
      ],
      "text/plain": [
       "     Pregnancies  Glucose  BloodPressure  SkinThickness  Insulin   BMI  \\\n",
       "25            10      125             70             26      115  31.1   \n",
       "132            3      170             64             37      225  34.5   \n",
       "283            7      161             86              0        0  30.4   \n",
       "\n",
       "     DiabetesPedigreeFunction  Age  Outcome  \n",
       "25                      0.205   41        1  \n",
       "132                     0.356   30        1  \n",
       "283                     0.165   47        1  "
      ]
     },
     "execution_count": 6,
     "metadata": {},
     "output_type": "execute_result"
    }
   ],
   "source": [
    "dfs_1 = df[df['Outcome']==1].sample(n=3, random_state=1111)\n",
    "print(dfs_1.shape)\n",
    "dfs_1.head()"
   ]
  },
  {
   "cell_type": "markdown",
   "id": "bb1dd803-1df3-46d5-91a0-64a575195b47",
   "metadata": {},
   "source": [
    "### 샘플링(N%)"
   ]
  },
  {
   "cell_type": "code",
   "execution_count": 7,
   "id": "70a78f78-9e90-4311-b652-8a852ef9fc1a",
   "metadata": {},
   "outputs": [
    {
     "name": "stdout",
     "output_type": "stream",
     "text": [
      "(15, 9)\n"
     ]
    },
    {
     "data": {
      "text/html": [
       "<div>\n",
       "<style scoped>\n",
       "    .dataframe tbody tr th:only-of-type {\n",
       "        vertical-align: middle;\n",
       "    }\n",
       "\n",
       "    .dataframe tbody tr th {\n",
       "        vertical-align: top;\n",
       "    }\n",
       "\n",
       "    .dataframe thead th {\n",
       "        text-align: right;\n",
       "    }\n",
       "</style>\n",
       "<table border=\"1\" class=\"dataframe\">\n",
       "  <thead>\n",
       "    <tr style=\"text-align: right;\">\n",
       "      <th></th>\n",
       "      <th>Pregnancies</th>\n",
       "      <th>Glucose</th>\n",
       "      <th>BloodPressure</th>\n",
       "      <th>SkinThickness</th>\n",
       "      <th>Insulin</th>\n",
       "      <th>BMI</th>\n",
       "      <th>DiabetesPedigreeFunction</th>\n",
       "      <th>Age</th>\n",
       "      <th>Outcome</th>\n",
       "    </tr>\n",
       "  </thead>\n",
       "  <tbody>\n",
       "    <tr>\n",
       "      <th>32</th>\n",
       "      <td>3</td>\n",
       "      <td>88</td>\n",
       "      <td>58</td>\n",
       "      <td>11</td>\n",
       "      <td>54</td>\n",
       "      <td>24.8</td>\n",
       "      <td>0.267</td>\n",
       "      <td>22</td>\n",
       "      <td>0</td>\n",
       "    </tr>\n",
       "    <tr>\n",
       "      <th>348</th>\n",
       "      <td>3</td>\n",
       "      <td>99</td>\n",
       "      <td>62</td>\n",
       "      <td>19</td>\n",
       "      <td>74</td>\n",
       "      <td>21.8</td>\n",
       "      <td>0.279</td>\n",
       "      <td>26</td>\n",
       "      <td>0</td>\n",
       "    </tr>\n",
       "    <tr>\n",
       "      <th>227</th>\n",
       "      <td>3</td>\n",
       "      <td>162</td>\n",
       "      <td>52</td>\n",
       "      <td>38</td>\n",
       "      <td>0</td>\n",
       "      <td>37.2</td>\n",
       "      <td>0.652</td>\n",
       "      <td>24</td>\n",
       "      <td>1</td>\n",
       "    </tr>\n",
       "    <tr>\n",
       "      <th>129</th>\n",
       "      <td>0</td>\n",
       "      <td>105</td>\n",
       "      <td>84</td>\n",
       "      <td>0</td>\n",
       "      <td>0</td>\n",
       "      <td>27.9</td>\n",
       "      <td>0.741</td>\n",
       "      <td>62</td>\n",
       "      <td>1</td>\n",
       "    </tr>\n",
       "    <tr>\n",
       "      <th>495</th>\n",
       "      <td>6</td>\n",
       "      <td>166</td>\n",
       "      <td>74</td>\n",
       "      <td>0</td>\n",
       "      <td>0</td>\n",
       "      <td>26.6</td>\n",
       "      <td>0.304</td>\n",
       "      <td>66</td>\n",
       "      <td>0</td>\n",
       "    </tr>\n",
       "  </tbody>\n",
       "</table>\n",
       "</div>"
      ],
      "text/plain": [
       "     Pregnancies  Glucose  BloodPressure  SkinThickness  Insulin   BMI  \\\n",
       "32             3       88             58             11       54  24.8   \n",
       "348            3       99             62             19       74  21.8   \n",
       "227            3      162             52             38        0  37.2   \n",
       "129            0      105             84              0        0  27.9   \n",
       "495            6      166             74              0        0  26.6   \n",
       "\n",
       "     DiabetesPedigreeFunction  Age  Outcome  \n",
       "32                      0.267   22        0  \n",
       "348                     0.279   26        0  \n",
       "227                     0.652   24        1  \n",
       "129                     0.741   62        1  \n",
       "495                     0.304   66        0  "
      ]
     },
     "execution_count": 7,
     "metadata": {},
     "output_type": "execute_result"
    }
   ],
   "source": [
    "dfs = df.sample(frac=0.02, random_state=1111)\n",
    "print(dfs.shape)\n",
    "dfs.head()"
   ]
  },
  {
   "cell_type": "code",
   "execution_count": 8,
   "id": "73316f84-7e14-4521-91a6-51bf5dfabb4a",
   "metadata": {},
   "outputs": [
    {
     "data": {
      "text/plain": [
       "0    10\n",
       "1     5\n",
       "Name: Outcome, dtype: int64"
      ]
     },
     "execution_count": 8,
     "metadata": {},
     "output_type": "execute_result"
    }
   ],
   "source": [
    "dfs[\"Outcome\"].value_counts()"
   ]
  },
  {
   "cell_type": "markdown",
   "id": "e3555259-0b3b-4212-817a-0b04ae758751",
   "metadata": {},
   "source": [
    "* 샘플링 값이 다를 경우 아래 코드 실행\n",
    "* print(dfs.values.tolist())"
   ]
  },
  {
   "cell_type": "code",
   "execution_count": 9,
   "id": "8c6d71ab-eccf-474b-8525-f3b7824cd750",
   "metadata": {},
   "outputs": [],
   "source": [
    "# slist = [[3.0, 88.0, 58.0, 11.0, 54.0, 24.8, 0.267, 22.0, 0.0], [3.0, 99.0, 62.0, 19.0, 74.0, 21.8, 0.279, 26.0, 0.0], [3.0, 162.0, 52.0, 38.0, 0.0, 37.2, 0.652, 24.0, 1.0], [0.0, 105.0, 84.0, 0.0, 0.0, 27.9, 0.741, 62.0, 1.0], [6.0, 166.0, 74.0, 0.0, 0.0, 26.6, 0.304, 66.0, 0.0], [5.0, 121.0, 72.0, 23.0, 112.0, 26.2, 0.245, 30.0, 0.0], [1.0, 164.0, 82.0, 43.0, 67.0, 32.8, 0.341, 50.0, 0.0], [7.0, 178.0, 84.0, 0.0, 0.0, 39.9, 0.331, 41.0, 1.0], [4.0, 94.0, 65.0, 22.0, 0.0, 24.7, 0.148, 21.0, 0.0], [5.0, 77.0, 82.0, 41.0, 42.0, 35.8, 0.156, 35.0, 0.0], [2.0, 56.0, 56.0, 28.0, 45.0, 24.2, 0.332, 22.0, 0.0], [6.0, 154.0, 74.0, 32.0, 193.0, 29.3, 0.839, 39.0, 0.0], [12.0, 140.0, 82.0, 43.0, 325.0, 39.2, 0.528, 58.0, 1.0], [0.0, 125.0, 68.0, 0.0, 0.0, 24.7, 0.206, 21.0, 0.0], [13.0, 152.0, 90.0, 33.0, 29.0, 26.8, 0.731, 43.0, 1.0]]\n",
    "# temp = pd.DataFrame(slist, columns=dfs.columns)\n",
    "# temp[['Pregnancies', 'Glucose', 'BloodPressure', 'SkinThickness', 'Insulin', 'Age', 'Outcome']] = temp[['Pregnancies', 'Glucose', 'BloodPressure', 'SkinThickness', 'Insulin', 'Age', 'Outcome']].astype(\"int\")\n",
    "# temp.head()"
   ]
  },
  {
   "cell_type": "markdown",
   "id": "33678bac-dc55-4da2-9e13-0edc0499e0a5",
   "metadata": {
    "tags": []
   },
   "source": [
    "# 모델 학습"
   ]
  },
  {
   "cell_type": "code",
   "execution_count": 10,
   "id": "c534e619-50fa-4f52-b104-f931c01c13d5",
   "metadata": {},
   "outputs": [],
   "source": [
    "from sklearn.linear_model import LogisticRegression\n",
    "from sklearn.model_selection import train_test_split\n",
    "from sklearn.metrics import confusion_matrix, precision_score, recall_score, f1_score, roc_auc_score, roc_curve, classification_report"
   ]
  },
  {
   "cell_type": "code",
   "execution_count": 11,
   "id": "9db13dc9-1ae3-4ef7-82d2-a745b0fd920b",
   "metadata": {},
   "outputs": [],
   "source": [
    "y = dfs['Outcome']\n",
    "X = dfs.drop(['Outcome'], axis=1)\n",
    "model = LogisticRegression().fit(X, y)\n",
    "pred = model.predict(X)\n",
    "fval = model.decision_function(X)"
   ]
  },
  {
   "cell_type": "markdown",
   "id": "b957741e-e661-48f9-b6e2-342264c5d58b",
   "metadata": {},
   "source": [
    "# 평가"
   ]
  },
  {
   "cell_type": "markdown",
   "id": "780319c4-95ad-4961-ab49-f7d9ad36b0d2",
   "metadata": {},
   "source": [
    "## 판별함수 값\n",
    "* predict_proba(), decision_function()"
   ]
  },
  {
   "cell_type": "code",
   "execution_count": 12,
   "id": "95766ed4-ac0b-4513-95a4-ee88665b8b0c",
   "metadata": {},
   "outputs": [
    {
     "data": {
      "text/plain": [
       "array([[ 0.        ,  0.        , -5.10972459],\n",
       "       [ 0.        ,  0.        , -7.36930449],\n",
       "       [ 1.        ,  1.        ,  0.5697434 ],\n",
       "       [ 1.        ,  0.        , -0.61811266],\n",
       "       [ 0.        ,  1.        ,  0.42048825],\n",
       "       [ 0.        ,  0.        , -3.57335804],\n",
       "       [ 0.        ,  0.        , -1.40823218],\n",
       "       [ 1.        ,  1.        , 10.91532963],\n",
       "       [ 0.        ,  0.        , -4.84014848],\n",
       "       [ 0.        ,  0.        , -0.05380582],\n",
       "       [ 0.        ,  0.        , -8.79398389],\n",
       "       [ 0.        ,  0.        , -2.37403597],\n",
       "       [ 1.        ,  1.        ,  1.97902946],\n",
       "       [ 0.        ,  0.        , -1.9598469 ],\n",
       "       [ 1.        ,  1.        ,  0.67364364]])"
      ]
     },
     "execution_count": 12,
     "metadata": {},
     "output_type": "execute_result"
    }
   ],
   "source": [
    "np.vstack([y, pred, fval]).T"
   ]
  },
  {
   "cell_type": "code",
   "execution_count": 13,
   "id": "5ea88a86-05f9-4884-906f-62a5dde6f317",
   "metadata": {},
   "outputs": [
    {
     "data": {
      "text/html": [
       "<div>\n",
       "<style scoped>\n",
       "    .dataframe tbody tr th:only-of-type {\n",
       "        vertical-align: middle;\n",
       "    }\n",
       "\n",
       "    .dataframe tbody tr th {\n",
       "        vertical-align: top;\n",
       "    }\n",
       "\n",
       "    .dataframe thead th {\n",
       "        text-align: right;\n",
       "    }\n",
       "</style>\n",
       "<table border=\"1\" class=\"dataframe\">\n",
       "  <thead>\n",
       "    <tr style=\"text-align: right;\">\n",
       "      <th></th>\n",
       "      <th>정답</th>\n",
       "      <th>예측값</th>\n",
       "      <th>함수판별값</th>\n",
       "    </tr>\n",
       "  </thead>\n",
       "  <tbody>\n",
       "    <tr>\n",
       "      <th>0</th>\n",
       "      <td>1.0</td>\n",
       "      <td>1.0</td>\n",
       "      <td>10.915330</td>\n",
       "    </tr>\n",
       "    <tr>\n",
       "      <th>1</th>\n",
       "      <td>1.0</td>\n",
       "      <td>1.0</td>\n",
       "      <td>1.979029</td>\n",
       "    </tr>\n",
       "    <tr>\n",
       "      <th>2</th>\n",
       "      <td>1.0</td>\n",
       "      <td>1.0</td>\n",
       "      <td>0.673644</td>\n",
       "    </tr>\n",
       "    <tr>\n",
       "      <th>3</th>\n",
       "      <td>1.0</td>\n",
       "      <td>1.0</td>\n",
       "      <td>0.569743</td>\n",
       "    </tr>\n",
       "    <tr>\n",
       "      <th>4</th>\n",
       "      <td>0.0</td>\n",
       "      <td>1.0</td>\n",
       "      <td>0.420488</td>\n",
       "    </tr>\n",
       "    <tr>\n",
       "      <th>5</th>\n",
       "      <td>0.0</td>\n",
       "      <td>0.0</td>\n",
       "      <td>-0.053806</td>\n",
       "    </tr>\n",
       "    <tr>\n",
       "      <th>6</th>\n",
       "      <td>1.0</td>\n",
       "      <td>0.0</td>\n",
       "      <td>-0.618113</td>\n",
       "    </tr>\n",
       "    <tr>\n",
       "      <th>7</th>\n",
       "      <td>0.0</td>\n",
       "      <td>0.0</td>\n",
       "      <td>-1.408232</td>\n",
       "    </tr>\n",
       "    <tr>\n",
       "      <th>8</th>\n",
       "      <td>0.0</td>\n",
       "      <td>0.0</td>\n",
       "      <td>-1.959847</td>\n",
       "    </tr>\n",
       "    <tr>\n",
       "      <th>9</th>\n",
       "      <td>0.0</td>\n",
       "      <td>0.0</td>\n",
       "      <td>-2.374036</td>\n",
       "    </tr>\n",
       "    <tr>\n",
       "      <th>10</th>\n",
       "      <td>0.0</td>\n",
       "      <td>0.0</td>\n",
       "      <td>-3.573358</td>\n",
       "    </tr>\n",
       "    <tr>\n",
       "      <th>11</th>\n",
       "      <td>0.0</td>\n",
       "      <td>0.0</td>\n",
       "      <td>-4.840148</td>\n",
       "    </tr>\n",
       "    <tr>\n",
       "      <th>12</th>\n",
       "      <td>0.0</td>\n",
       "      <td>0.0</td>\n",
       "      <td>-5.109725</td>\n",
       "    </tr>\n",
       "    <tr>\n",
       "      <th>13</th>\n",
       "      <td>0.0</td>\n",
       "      <td>0.0</td>\n",
       "      <td>-7.369304</td>\n",
       "    </tr>\n",
       "    <tr>\n",
       "      <th>14</th>\n",
       "      <td>0.0</td>\n",
       "      <td>0.0</td>\n",
       "      <td>-8.793984</td>\n",
       "    </tr>\n",
       "  </tbody>\n",
       "</table>\n",
       "</div>"
      ],
      "text/plain": [
       "     정답  예측값      함수판별값\n",
       "0   1.0  1.0  10.915330\n",
       "1   1.0  1.0   1.979029\n",
       "2   1.0  1.0   0.673644\n",
       "3   1.0  1.0   0.569743\n",
       "4   0.0  1.0   0.420488\n",
       "5   0.0  0.0  -0.053806\n",
       "6   1.0  0.0  -0.618113\n",
       "7   0.0  0.0  -1.408232\n",
       "8   0.0  0.0  -1.959847\n",
       "9   0.0  0.0  -2.374036\n",
       "10  0.0  0.0  -3.573358\n",
       "11  0.0  0.0  -4.840148\n",
       "12  0.0  0.0  -5.109725\n",
       "13  0.0  0.0  -7.369304\n",
       "14  0.0  0.0  -8.793984"
      ]
     },
     "execution_count": 13,
     "metadata": {},
     "output_type": "execute_result"
    }
   ],
   "source": [
    "pred_df = pd.DataFrame(np.vstack([y, pred, fval]).T, columns=[\"정답\", \"예측값\", \"함수판별값\"])\n",
    "pred_df.sort_values(\"함수판별값\", ascending=False).reset_index(drop=True)"
   ]
  },
  {
   "cell_type": "markdown",
   "id": "bc27092b-0b42-480d-ae7c-8b2f60daca93",
   "metadata": {},
   "source": [
    "* 기준값(threshold)>0 : 양성(Positive)\n",
    "* 기준값(threshold)<0 : 음성(negative)\n",
    "* 기준값(threshold)을 얼마로 설정하냐에 따라 성능평가 점수가 달라진다"
   ]
  },
  {
   "cell_type": "markdown",
   "id": "cfd42024-6bbf-4912-943e-7d61939521f6",
   "metadata": {},
   "source": [
    "## confusion_matrix()"
   ]
  },
  {
   "cell_type": "markdown",
   "id": "4d983fe6-dbda-409b-aaa4-8a3a9a9d391a",
   "metadata": {
    "tags": []
   },
   "source": [
    "<img src=\"https://velog.velcdn.com/images%2Fhajeongjj%2Fpost%2F31affec5-a47b-4ff0-b07d-73943729dbc3%2Fimage.png\" width=800><br>\n",
    "* FPR = fallout = (1-TNR)\n",
    "* TPR (recall)"
   ]
  },
  {
   "cell_type": "markdown",
   "id": "1b05207d-1ce9-43a0-ab2d-5c7f5855f570",
   "metadata": {},
   "source": [
    "<table style=\"border-collapse: collapse; width: 805px; box-sizing: border-box; border-spacing: 0px; max-width: 100%;\" border=\"0\" width=\"805\" cellspacing=\"0\" cellpadding=\"0\" data-ke-align=\"alignLeft\"><colgroup><col style=\"width: 221pt;\" width=\"294\"> <col style=\"mso-width-source: userset; mso-width-alt: 6619; width: 136pt;\" width=\"181\"> <col style=\"width: 221pt;\" width=\"294\"> </colgroup>\n",
    "<tbody>\n",
    "<tr style=\"height: 15.0pt; box-sizing: border-box;\">\n",
    "<td class=\"xl63\" style=\"height: 20px; width: 154px; border: 1px solid #8c8c8c;\" width=\"294\" height=\"20\"><span>용어</span></td>\n",
    "<td class=\"xl63\" style=\"border-left: none; width: 88px; border-bottom: 1px solid #8c8c8c; border-right: 1px solid #8c8c8c; border-top: 1px solid #8c8c8c; height: 20px;\" width=\"181\"><span>산출식</span></td>\n",
    "<td class=\"xl63\" style=\"border-left: none; width: 296px; border-bottom: 1px solid #8c8c8c; border-top: 1px solid #8c8c8c; border-right: 1px solid #8c8c8c; height: 20px;\" width=\"294\"><span>설명</span></td>\n",
    "<td class=\"xl63\" style=\"border-left: none; width: 239px; border-bottom: 1px solid #8c8c8c; border-top: 1px solid #8c8c8c; border-right: 1px solid #8c8c8c; height: 20px;\" colspan=\"1\" width=\"294\"><span>&nbsp;예</span></td>\n",
    "</tr>\n",
    "    \n",
    "<tr style=\"height: 15.0pt; box-sizing: border-box;\">\n",
    "<td class=\"xl64\" style=\"height: 35px; border-top: none; width: 154px; box-sizing: border-box; border-bottom: 1px solid #8c8c8c; border-right: 1px solid #8c8c8c; border-left: 1px solid #8c8c8c;\" width=\"294\" height=\"20\">Accuracy </td>\n",
    "<td class=\"xl64\" style=\"border-top: none; border-left: none; width: 88px; box-sizing: border-box; border-bottom: 1px solid #8c8c8c; border-right: 1px solid #8c8c8c; height: 35px;\" width=\"181\"><b>(TP+TN)/(TP+TN+FP+FN)</b></td>\n",
    "<td class=\"xl65\" style=\"border-top: none; border-left: none; width: 296px; box-sizing: border-box; border-bottom: 1px solid #8c8c8c; border-right: 1px solid #8c8c8c; height: 35px;\" width=\"294\">탐지율 : 맞게 예측한 비율</td>\n",
    "<td class=\"xl65\" style=\"border-top: none; border-left: none; width: 239px; box-sizing: border-box; border-bottom: 1px solid #8c8c8c; border-right: 1px solid #8c8c8c; height: 35px;\" colspan=\"1\" width=\"294\"><span>실제 악성/정상인지 맞게 예측한 비율</span></td>\n",
    "</tr>\n",
    "    \n",
    "<tr style=\"height: 15.0pt; box-sizing: border-box;\">\n",
    "<td class=\"xl64\" style=\"height: 20px; border-top: none; width: 154px; box-sizing: border-box; border-bottom: 1px solid #8c8c8c; border-right: 1px solid #8c8c8c; border-left: 1px solid #8c8c8c;\" width=\"294\" height=\"20\">Precision <font size=5 color=red><b> ↓↓ </b></font></td>\n",
    "<td class=\"xl64\" style=\"border-top: none; border-left: none; width: 88px; box-sizing: border-box; border-bottom: 1px solid #8c8c8c; border-right: 1px solid #8c8c8c; height: 20px;\" width=\"181\"><b>TP/(TP+FP)</b></td>\n",
    "<td class=\"xl65\" style=\"border-top: none; border-left: none; width: 296px; box-sizing: border-box; border-bottom: 1px solid #8c8c8c; border-right: 1px solid #8c8c8c; height: 20px;\" width=\"294\"><span>정확도&nbsp;: P로 예측한 것중 실제P의 비율</span></td>\n",
    "<td class=\"xl65\" style=\"border-top: none; border-left: none; width: 239px; box-sizing: border-box; border-bottom: 1px solid #8c8c8c; border-right: 1px solid #8c8c8c; height: 20px;\" colspan=\"1\" width=\"294\"><span>악성으로 예측한것 중 실제 악성인 샘플의 비율</span></td>\n",
    "</tr>\n",
    "    \n",
    "<tr style=\"height: 15.0pt; box-sizing: border-box;\">\n",
    "<td class=\"xl64\" style=\"height: 20px; border-top: none; width: 154px; box-sizing: border-box; border-bottom: 1px solid #8c8c8c; border-right: 1px solid #8c8c8c; border-left: 1px solid #8c8c8c;\" width=\"294\" height=\"20\">Recall <font size=5 color=red><b> →→ </b></font></td>\n",
    "<td class=\"xl64\" style=\"border-top: none; border-left: none; width: 88px; box-sizing: border-box; border-bottom: 1px solid #8c8c8c; border-right: 1px solid #8c8c8c; height: 20px;\" width=\"181\"><b>TP/(TP+FN)</b></td>\n",
    "<td class=\"xl65\" style=\"border-top: none; border-left: none; width: 296px; box-sizing: border-box; border-bottom: 1px solid #8c8c8c; border-right: 1px solid #8c8c8c; height: 20px;\" width=\"294\"><span>재현율 : 실제 P를 P로 예측한 비율</span></td>\n",
    "<td class=\"xl65\" style=\"border-top: none; border-left: none; width: 239px; box-sizing: border-box; border-bottom: 1px solid #8c8c8c; border-right: 1px solid #8c8c8c; height: 20px;\" colspan=\"1\" width=\"294\"><span>실제 악성 샘플 중 악성으로 예측한 비율</span></td>\n",
    "</tr>\n",
    "\n",
    "    \n",
    "<tr style=\"height: 15.0pt; box-sizing: border-box;\">\n",
    "<td class=\"xl64\" style=\"height: 15pt; border-top: none; width: 154px; box-sizing: border-box; border-bottom: 1px solid #8c8c8c; border-right: 1px solid #8c8c8c; border-left: 1px solid #8c8c8c;\" width=\"294\" height=\"20\">TPR<span>&nbsp;(True Positive Rate)&nbsp;</span><span>= Recall</span>  <font size=5 color=red><b> →→ </b></font> </td>\n",
    "<td class=\"xl64\" style=\"border-top: none; border-left: none; width: 88px; box-sizing: border-box; border-bottom: 1px solid #8c8c8c; border-right: 1px solid #8c8c8c;\" width=\"181\"><b>TP/(TP+FN)</b></td>\n",
    "<td class=\"xl65\" style=\"border-top: none; border-left: none; width: 296px; border-bottom: 1px solid #8c8c8c; border-right: 1px solid #8c8c8c;\" width=\"294\"><span>민감도(Sensitivity) : 예측과 실제 모두 P&nbsp;</span></td>\n",
    "<td class=\"xl65\" style=\"border-top: none; border-left: none; width: 239px; border-bottom: 1px solid #8c8c8c; border-right: 1px solid #8c8c8c;\" colspan=\"1\" width=\"294\"><span>실제 악성 샘플을 악성으로 예측한 비율</span></td>\n",
    "</tr>\n",
    "\n",
    "<tr style=\"height: 15.0pt; box-sizing: border-box;\">\n",
    "<td class=\"xl64\" style=\"height: 35px; border-top: none; width: 154px; box-sizing: border-box; border-bottom: 1px solid #8c8c8c; border-right: 1px solid #8c8c8c; border-left: 1px solid #8c8c8c;\" width=\"294\" height=\"20\">Fall-out<font size=5 color=red><b> → </b></font></td>\n",
    "<td class=\"xl64\" style=\"border-top: none; border-left: none; width: 88px; box-sizing: border-box; border-bottom: 1px solid #8c8c8c; border-right: 1px solid #8c8c8c; height: 35px;\" width=\"181\"><b>FP/(FP+TN)</b></td>\n",
    "<td class=\"xl65\" style=\"border-top: none; border-left: none; width: 296px; box-sizing: border-box; border-bottom: 1px solid #8c8c8c; border-right: 1px solid #8c8c8c; height: 35px;\" width=\"294\">오예측율 : 실제 N을 P로 예측한 비율</td>\n",
    "<td class=\"xl65\" style=\"border-top: none; border-left: none; width: 239px; box-sizing: border-box; border-bottom: 1px solid #8c8c8c; border-right: 1px solid #8c8c8c; height: 35px;\" colspan=\"1\" width=\"294\"><span>실제 정상 샘플을 악성으로 예측한 비율</span></td>\n",
    "</tr>    \n",
    "    \n",
    "<tr style=\"height: 15.0pt; box-sizing: border-box;\">\n",
    "<td class=\"xl64\" style=\"height: 15pt; border-top: none; width: 154px; box-sizing: border-box; border-bottom: 1px solid #8c8c8c; border-right: 1px solid #8c8c8c; border-left: 1px solid #8c8c8c;\" width=\"294\" height=\"20\">FPR<span>&nbsp;(False Positive Rate)&nbsp;</span><span>= Fall-out</span> <font size=5 color=red><b> → </b></font></td>\n",
    "<td class=\"xl64\" style=\"border-top: none; border-left: none; width: 88px; box-sizing: border-box; border-bottom: 1px solid #8c8c8c; border-right: 1px solid #8c8c8c;\" width=\"181\"><b>FP/(FP+TN)</b></td>\n",
    "<td class=\"xl65\" style=\"border-top: none; border-left: none; width: 296px; border-bottom: 1px solid #8c8c8c; border-right: 1px solid #8c8c8c;\" width=\"294\"><span>실제 N인데 P로 예측</span></td>\n",
    "<td class=\"xl65\" style=\"border-top: none; border-left: none; width: 239px; border-bottom: 1px solid #8c8c8c; border-right: 1px solid #8c8c8c;\" colspan=\"1\" width=\"294\"><span>실제 정상 샘플을 악성으로 예측한 비율</span></td>\n",
    "</tr>\n",
    " \n",
    "<tr style=\"height: 15.0pt; box-sizing: border-box;\">\n",
    "<td class=\"xl64\" style=\"height: 35px; border-top: none; width: 154px; box-sizing: border-box; border-bottom: 1px solid #8c8c8c; border-right: 1px solid #8c8c8c; border-left: 1px solid #8c8c8c;\" width=\"294\" height=\"20\"><span>TNR</span><br><span>&nbsp;(True Negative Rate)</span> <font size=5 color=red><b> ← </b></font></td>\n",
    "<td class=\"xl64\" style=\"border-top: none; border-left: none; width: 88px; box-sizing: border-box; border-bottom: 1px solid #8c8c8c; border-right: 1px solid #8c8c8c; height: 35px;\" width=\"181\"><b>TN/(TN+FP)</b></td>\n",
    "<td class=\"xl65\" style=\"border-top: none; border-left: none; width: 296px; border-bottom: 1px solid #8c8c8c; border-right: 1px solid #8c8c8c; height: 35px;\" width=\"294\"><span>특이도 : 예측과 실제 모두 N</span></td>\n",
    "<td class=\"xl65\" style=\"border-top: none; border-left: none; width: 239px; border-bottom: 1px solid #8c8c8c; border-right: 1px solid #8c8c8c; height: 35px;\" colspan=\"1\" width=\"294\"><span>실제 정상 샘플을 정상으로 예측한 비율</span></td>\n",
    "</tr>\n",
    "    \n",
    "    \n",
    "<tr style=\"height: 15.0pt; box-sizing: border-box;\">\n",
    "<td class=\"xl64\" style=\"height: 15pt; border-top: none; width: 154px; box-sizing: border-box; border-right: 1px solid #8c8c8c; border-bottom: 1px solid #8c8c8c; border-left: 1px solid #8c8c8c;\" width=\"294\" height=\"20\">FNR<span>&nbsp;(False Negative Rate)</span> <font size=5 color=red><b> ←← </b></font></td>\n",
    "<td class=\"xl64\" style=\"border-top: none; border-left: none; width: 88px; box-sizing: border-box; border-right: 1px solid #8c8c8c; border-bottom: 1px solid #8c8c8c;\" width=\"181\"><b>FN/(TP+FN)</b></td>\n",
    "<td class=\"xl65\" style=\"border-top: none; border-left: none; width: 296px; border-bottom: 1px solid #8c8c8c; border-right: 1px solid #8c8c8c;\" width=\"294\"><span>실제 P인데 N으로 예측</span></td>\n",
    "<td class=\"xl65\" style=\"border-top: none; border-left: none; width: 239px; border-bottom: 1px solid #8c8c8c; border-right: 1px solid #8c8c8c;\" colspan=\"1\" width=\"294\"><span>실제 악성 샘플을 정상으로 예측한 비율</span></td>\n",
    "</tr>\n",
    "    \n",
    "\n",
    "</tbody>\n",
    "</table>"
   ]
  },
  {
   "cell_type": "code",
   "execution_count": 14,
   "id": "642b4044-9222-4d0a-ac20-2057126b13ed",
   "metadata": {},
   "outputs": [
    {
     "data": {
      "text/plain": [
       "array([[9, 1],\n",
       "       [1, 4]], dtype=int64)"
      ]
     },
     "execution_count": 14,
     "metadata": {},
     "output_type": "execute_result"
    }
   ],
   "source": [
    "confusion_matrix(y, pred)"
   ]
  },
  {
   "cell_type": "code",
   "execution_count": 15,
   "id": "f5c0848c-c2ff-4325-95aa-fe2037fa7570",
   "metadata": {},
   "outputs": [
    {
     "name": "stdout",
     "output_type": "stream",
     "text": [
      "recall = 0.8\n",
      "fallout = 0.1\n"
     ]
    }
   ],
   "source": [
    "recall = 4 / (1 + 4)\n",
    "fallout = 1 / (9 + 1)\n",
    "print(\"recall =\", recall)\n",
    "print(\"fallout =\", fallout)"
   ]
  },
  {
   "cell_type": "markdown",
   "id": "2f2854dc-879d-429e-878f-642a779c6767",
   "metadata": {},
   "source": [
    "## classification_report()"
   ]
  },
  {
   "cell_type": "code",
   "execution_count": 16,
   "id": "f7abcd42-54d2-48d7-8c30-4f1f4741b1a6",
   "metadata": {},
   "outputs": [
    {
     "name": "stdout",
     "output_type": "stream",
     "text": [
      "              precision    recall  f1-score   support\n",
      "\n",
      "           0       0.90      0.90      0.90        10\n",
      "           1       0.80      0.80      0.80         5\n",
      "\n",
      "    accuracy                           0.87        15\n",
      "   macro avg       0.85      0.85      0.85        15\n",
      "weighted avg       0.87      0.87      0.87        15\n",
      "\n"
     ]
    }
   ],
   "source": [
    "print(  classification_report(y, pred)  )"
   ]
  },
  {
   "cell_type": "markdown",
   "id": "d2b06793-f25c-41a3-84c8-533955523193",
   "metadata": {},
   "source": [
    "## roc_curve()\n",
    "* 양성에 대한 오답/정답 비율 시각화"
   ]
  },
  {
   "cell_type": "code",
   "execution_count": 17,
   "id": "f623f3d0-f94a-4b9f-9786-16fbb4e85746",
   "metadata": {},
   "outputs": [],
   "source": [
    "from sklearn.metrics import roc_curve"
   ]
  },
  {
   "cell_type": "markdown",
   "id": "37e17141-fc7d-417a-a770-c6b43812dad2",
   "metadata": {},
   "source": [
    "### decision_function()"
   ]
  },
  {
   "cell_type": "code",
   "execution_count": 18,
   "id": "faba5a9f-d2bd-42e9-b2be-bfb87173ce78",
   "metadata": {},
   "outputs": [
    {
     "data": {
      "text/plain": [
       "(array([0. , 0. , 0. , 0.2, 0.2, 1. ]),\n",
       " array([0. , 0.2, 0.8, 0.8, 1. , 1. ]),\n",
       " array([11.91532963, 10.91532963,  0.5697434 , -0.05380582, -0.61811266,\n",
       "        -8.79398389]))"
      ]
     },
     "execution_count": 18,
     "metadata": {},
     "output_type": "execute_result"
    }
   ],
   "source": [
    "fval = model.decision_function(X)\n",
    "fpr, tpr, thresholds = roc_curve(y, fval)\n",
    "fpr, tpr, thresholds"
   ]
  },
  {
   "cell_type": "code",
   "execution_count": 19,
   "id": "8647e9c0-7bae-4a43-8b12-d0b1ec031dd4",
   "metadata": {},
   "outputs": [
    {
     "data": {
      "image/png": "[encoded data removed]",
      "text/plain": [
       "<Figure size 432x288 with 1 Axes>"
      ]
     },
     "metadata": {
      "needs_background": "light"
     },
     "output_type": "display_data"
    }
   ],
   "source": [
    "plt.plot(fpr, tpr, 'o-', label=\"model\")\n",
    "plt.plot([0, 1], [0, 1], '--', label=\"threadhold\")\n",
    "plt.plot(fallout, recall, 'r^', ms=10)\n",
    "plt.xlabel('FPR = fallout = (1-TNR)')\n",
    "plt.ylabel('TPR (recall)')\n",
    "plt.title('ROC Curve')\n",
    "plt.legend()\n",
    "plt.show()"
   ]
  },
  {
   "cell_type": "markdown",
   "id": "e3edf9ae-f9b5-4ddf-86d4-cc3f42dd3011",
   "metadata": {},
   "source": [
    "### predict_proba()"
   ]
  },
  {
   "cell_type": "code",
   "execution_count": 20,
   "id": "50b042cb-e8c5-42a3-b1cc-31f9f33463cc",
   "metadata": {},
   "outputs": [
    {
     "data": {
      "text/plain": [
       "(array([0. , 0. , 0. , 0.2, 0.2, 1. ]),\n",
       " array([0. , 0.2, 0.8, 0.8, 1. , 1. ]),\n",
       " array([1.99998182e+00, 9.99981823e-01, 6.38703964e-01, 4.86551789e-01,\n",
       "        3.50210819e-01, 1.51619643e-04]))"
      ]
     },
     "execution_count": 20,
     "metadata": {},
     "output_type": "execute_result"
    }
   ],
   "source": [
    "fval = model.predict_proba(X)\n",
    "fpr, tpr, thresholds = roc_curve(y, fval[:, 1])  #--------------- 주의주의\n",
    "fpr, tpr, thresholds"
   ]
  },
  {
   "cell_type": "code",
   "execution_count": 21,
   "id": "c36d38ff-3cd5-4d51-97b0-1309ea5f7acf",
   "metadata": {},
   "outputs": [
    {
     "data": {
      "image/png": "[encoded data removed]",
      "text/plain": [
       "<Figure size 432x288 with 1 Axes>"
      ]
     },
     "metadata": {
      "needs_background": "light"
     },
     "output_type": "display_data"
    }
   ],
   "source": [
    "plt.plot(fpr, tpr, 'o-', label=\"model\")\n",
    "plt.plot([0, 1], [0, 1], '--', label=\"threadhold\")\n",
    "plt.plot(fallout, recall, 'r^', ms=10)\n",
    "plt.xlabel('FPR = fallout = (1-TNR)')\n",
    "plt.ylabel('TPR (recall)')\n",
    "plt.title('ROC Curve')\n",
    "plt.legend()\n",
    "plt.show()"
   ]
  },
  {
   "cell_type": "markdown",
   "id": "56d29ab5-6d8d-4eba-bd97-88a7dbd740aa",
   "metadata": {},
   "source": [
    "### plot_roc_curve()"
   ]
  },
  {
   "cell_type": "code",
   "execution_count": 22,
   "id": "810d3abf-5c60-4c2f-9b27-d8dde7fcc110",
   "metadata": {},
   "outputs": [
    {
     "data": {
      "image/png": "[encoded data removed]",
      "text/plain": [
       "<Figure size 432x288 with 1 Axes>"
      ]
     },
     "metadata": {
      "needs_background": "light"
     },
     "output_type": "display_data"
    }
   ],
   "source": [
    "from sklearn.metrics import plot_roc_curve\n",
    "plot_roc_curve(model, X, y)\n",
    "plt.show()"
   ]
  },
  {
   "cell_type": "markdown",
   "id": "adf019c6-1814-4411-97b2-a9d8090051bb",
   "metadata": {},
   "source": [
    "## AUC(Area Under the Curve)\n",
    "* ROC curve 아래 면적"
   ]
  },
  {
   "cell_type": "code",
   "execution_count": 23,
   "id": "f3a1fcf6-927c-42a9-ba17-ffe071cabce8",
   "metadata": {},
   "outputs": [
    {
     "data": {
      "text/plain": [
       "0.9600000000000001"
      ]
     },
     "execution_count": 23,
     "metadata": {},
     "output_type": "execute_result"
    }
   ],
   "source": [
    "from sklearn.metrics import auc\n",
    "auc(fpr, tpr)"
   ]
  },
  {
   "cell_type": "code",
   "execution_count": 24,
   "id": "6765a7bc-8142-42bc-b90c-11f87eb9dadf",
   "metadata": {},
   "outputs": [
    {
     "data": {
      "text/plain": [
       "0.9600000000000001"
      ]
     },
     "execution_count": 24,
     "metadata": {},
     "output_type": "execute_result"
    }
   ],
   "source": [
    "from sklearn.metrics import auc,roc_auc_score\n",
    "roc_auc_score(y, model.predict_proba(X)[:, 1])"
   ]
  },
  {
   "cell_type": "code",
   "execution_count": null,
   "id": "349b3188-1437-4ee3-9990-2a8547973325",
   "metadata": {},
   "outputs": [],
   "source": []
  },
  {
   "cell_type": "markdown",
   "id": "44dab6dd-1128-4bcb-9d79-1bb34c3088ef",
   "metadata": {},
   "source": [
    "## classification_report() vs. roc_curve()\n",
    "* 정확도, 정밀도, 재현율, F1 점수가 같아도 roc_curve, auc 는 다를 수 있다\n",
    "* ref : https://datascienceschool.net/03%20machine%20learning/09.04%20%EB%B6%84%EB%A5%98%20%EC%84%B1%EB%8A%A5%ED%8F%89%EA%B0%80.html"
   ]
  },
  {
   "cell_type": "code",
   "execution_count": 25,
   "id": "13896704-9783-4e96-98fd-b620abac4abf",
   "metadata": {},
   "outputs": [],
   "source": [
    "from sklearn.datasets import make_classification\n",
    "from sklearn.linear_model import LogisticRegression\n",
    "from sklearn.svm import SVC\n",
    "\n",
    "X, y = make_classification(n_samples=1000, weights=[0.95, 0.05], random_state=5)\n",
    "\n",
    "model1 = LogisticRegression().fit(X, y)\n",
    "y_hat1 = model1.predict(X)\n",
    "\n",
    "model2 = SVC(gamma=0.0001, C=3000, probability=True).fit(X, y)\n",
    "y_hat2 = model2.predict(X)"
   ]
  },
  {
   "cell_type": "code",
   "execution_count": 26,
   "id": "4c86ed27-e0a3-43ad-bdf6-187636a4397c",
   "metadata": {},
   "outputs": [
    {
     "name": "stdout",
     "output_type": "stream",
     "text": [
      "[[940   3]\n",
      " [ 30  27]]\n",
      "[[940   3]\n",
      " [ 30  27]]\n"
     ]
    }
   ],
   "source": [
    "print(confusion_matrix(y, y_hat1))\n",
    "print(confusion_matrix(y, y_hat2))"
   ]
  },
  {
   "cell_type": "code",
   "execution_count": 27,
   "id": "d14937a5-4765-48af-9ba8-3afd87fbcdc7",
   "metadata": {},
   "outputs": [
    {
     "name": "stdout",
     "output_type": "stream",
     "text": [
      "              precision    recall  f1-score   support\n",
      "\n",
      "           0       0.97      1.00      0.98       943\n",
      "           1       0.90      0.47      0.62        57\n",
      "\n",
      "    accuracy                           0.97      1000\n",
      "   macro avg       0.93      0.74      0.80      1000\n",
      "weighted avg       0.97      0.97      0.96      1000\n",
      "\n"
     ]
    }
   ],
   "source": [
    "print(classification_report(y, model1.predict(X)))"
   ]
  },
  {
   "cell_type": "code",
   "execution_count": 28,
   "id": "1ff3bab0-03f5-4732-b3cc-91e50cc311b5",
   "metadata": {},
   "outputs": [
    {
     "name": "stdout",
     "output_type": "stream",
     "text": [
      "              precision    recall  f1-score   support\n",
      "\n",
      "           0       0.97      1.00      0.98       943\n",
      "           1       0.90      0.47      0.62        57\n",
      "\n",
      "    accuracy                           0.97      1000\n",
      "   macro avg       0.93      0.74      0.80      1000\n",
      "weighted avg       0.97      0.97      0.96      1000\n",
      "\n"
     ]
    }
   ],
   "source": [
    "print(classification_report(y, model2.predict(X)))"
   ]
  },
  {
   "cell_type": "code",
   "execution_count": 29,
   "id": "a1108e2a-fe73-4989-83ee-24f356ab9826",
   "metadata": {},
   "outputs": [
    {
     "data": {
      "image/png": "[encoded data removed]",
      "text/plain": [
       "<Figure size 432x288 with 1 Axes>"
      ]
     },
     "metadata": {
      "needs_background": "light"
     },
     "output_type": "display_data"
    }
   ],
   "source": [
    "fpr1, tpr1, thresholds1 = roc_curve(y, model1.decision_function(X))\n",
    "fpr2, tpr2, thresholds1 = roc_curve(y, model2.decision_function(X))\n",
    "\n",
    "plt.plot(fpr1, tpr1, 'o-', ms=2, label=\"LogisticRegression\")\n",
    "plt.plot(fpr2, tpr2, 'o-', ms=2, label=\"KernelSVM\")\n",
    "plt.legend()\n",
    "plt.plot([0, 1], [0, 1], 'k--', label=\"threadhold\")\n",
    "plt.plot(fallout, recall, 'r^', ms=10)\n",
    "plt.xlabel('FPR = fallout = (1-TNR)')\n",
    "plt.ylabel('TPR (recall)')\n",
    "plt.title('ROC Curve')\n",
    "plt.show()"
   ]
  },
  {
   "cell_type": "code",
   "execution_count": 30,
   "id": "63836c98-2324-4902-ab2f-ca7be00edd93",
   "metadata": {},
   "outputs": [
    {
     "data": {
      "text/plain": [
       "(0.9112202563673234, 0.9037227214377407)"
      ]
     },
     "execution_count": 30,
     "metadata": {},
     "output_type": "execute_result"
    }
   ],
   "source": [
    "auc(fpr1, tpr1), auc(fpr2, tpr2)"
   ]
  },
  {
   "cell_type": "markdown",
   "id": "e3edcfb2-d08b-4aa5-b8a8-812dd16ba4e4",
   "metadata": {},
   "source": [
    "#  Precision-Recall Trade-off"
   ]
  },
  {
   "cell_type": "markdown",
   "id": "f2db843c-3f2e-4bee-a992-44636bb79a2e",
   "metadata": {},
   "source": [
    "* Threshold를 좌측에 가깝게 잡으면 : TPR, FPR 모두 높은 상황 즉, 모든 값이 positive 분류된 상황이다. \n",
    "* Threshold를 우측에 가깝게 잡으면 : TPR, FPR 모두 낮은 상황 즉, 모든 값이 negative 분류된 상황이다."
   ]
  },
  {
   "cell_type": "markdown",
   "id": "61b8188d-e0f2-421a-9f92-f436b9331ed3",
   "metadata": {},
   "source": [
    "<img src=\"https://blog.kakaocdn.net/dn/buhibz/btruXTZyiS2/zWnjxw6rYXNq9mqbA6sLY0/img.gif\">"
   ]
  },
  {
   "cell_type": "markdown",
   "id": "17c79a02-2c9a-4e63-b5f9-2e7056b6f67b",
   "metadata": {},
   "source": [
    "* 아래의 면적이 커지면 커질 수록 이상적인 2진 분류기"
   ]
  },
  {
   "cell_type": "markdown",
   "id": "0ab7c6ad-5426-401d-ad74-39e1f279ab27",
   "metadata": {},
   "source": [
    "<img src=\"https://blog.kakaocdn.net/dn/bmtSzI/btru2wV4yw0/28T7KjpCoYo46X14FteAr1/img.gif\">"
   ]
  },
  {
   "cell_type": "markdown",
   "id": "8697b89c-1279-443e-b166-22d4bfac1ac5",
   "metadata": {},
   "source": [
    "## precision_recall_curv()"
   ]
  },
  {
   "cell_type": "code",
   "execution_count": 31,
   "id": "13a354dc-4518-4f9a-8afb-cfd96ba0c6a0",
   "metadata": {},
   "outputs": [],
   "source": [
    "df = pd.read_csv(\"./dataset/pima_diabetes.csv\")\n",
    "y = df['Outcome']\n",
    "X = df.drop(['Outcome'], axis=1)\n",
    "\n",
    "X_train, X_test, y_train, y_test = train_test_split(X, y, test_size=0.2, random_state=1111)\n",
    "model = LogisticRegression().fit(X_train, y_train)\n",
    "pred  = model.predict(X_test)\n",
    "proba = model.predict_proba(X_test)"
   ]
  },
  {
   "cell_type": "code",
   "execution_count": 32,
   "id": "92f67cf5-aa3c-4b60-af25-4f9da154b196",
   "metadata": {},
   "outputs": [
    {
     "name": "stdout",
     "output_type": "stream",
     "text": [
      "153 153 152\n"
     ]
    },
    {
     "data": {
      "image/png": "[encoded data removed]",
      "text/plain": [
       "<Figure size 720x576 with 1 Axes>"
      ]
     },
     "metadata": {
      "needs_background": "light"
     },
     "output_type": "display_data"
    }
   ],
   "source": [
    "from sklearn.metrics import precision_recall_curve, accuracy_score, precision_score, recall_score, f1_score\n",
    "\n",
    "plt.figure(figsize=(10, 8))\n",
    "pred_p = model.predict_proba(X_test)[:,1]\n",
    "precision, recalls, th = precision_recall_curve(y_test, pred_p)\n",
    "print(len(precision), len(recalls), len(th))\n",
    "\n",
    "plt.plot(th, precision[:len(th)], label = 'precision')\n",
    "plt.plot(th, recalls[:len(th)], label = 'recall')\n",
    "plt.legend()\n",
    "plt.title(\"precision_recall_curve\")\n",
    "plt.show()"
   ]
  },
  {
   "cell_type": "markdown",
   "id": "7f8c066f-8f03-4f7b-8aeb-23abb3f15838",
   "metadata": {},
   "source": [
    "## 임계치(thread 조절)\n",
    "* Binarizer :  Threshold를 OO으로 잡고,  이상은 1로  이하는 0으로 바꿈"
   ]
  },
  {
   "cell_type": "code",
   "execution_count": 33,
   "id": "244bc188-bcbd-4223-be0b-7ab3818ff6e6",
   "metadata": {},
   "outputs": [
    {
     "name": "stdout",
     "output_type": "stream",
     "text": [
      "[[0. 0. 1.]\n",
      " [1. 0. 0.]\n",
      " [0. 0. 1.]]\n"
     ]
    }
   ],
   "source": [
    "from sklearn.preprocessing import Binarizer\n",
    "\n",
    "temp = [[ 1, -1,  2],\n",
    "    [ 2,  0,  0],\n",
    "    [ 0,  1.1, 1.2]]\n",
    "\n",
    "# threshold 기준값보다 같거나 작으면 0을, 크면 1을 반환\n",
    "bb = Binarizer(threshold=1.1)                     \n",
    "print(bb.fit_transform(temp))"
   ]
  },
  {
   "cell_type": "code",
   "execution_count": 34,
   "id": "ac99633f-ded9-4ca3-bd06-67aea4359f7f",
   "metadata": {},
   "outputs": [
    {
     "name": "stdout",
     "output_type": "stream",
     "text": [
      "[[0.94570893 0.05429107]\n",
      " [0.93640577 0.06359423]\n",
      " [0.2046344  0.7953656 ]\n",
      " [0.84611952 0.15388048]\n",
      " [0.27569196 0.72430804]]\n",
      "[[0.]\n",
      " [0.]\n",
      " [1.]\n",
      " [0.]\n",
      " [1.]]\n",
      "0.5\n",
      "[[81 14]\n",
      " [28 31]]\n",
      "정확도: 0.7273, 정밀도: 0.6889, 재현율: 0.5254, F1: 0.5962\n"
     ]
    }
   ],
   "source": [
    "MYTH__ = 0.5\n",
    "\n",
    "print(proba[:5])\n",
    "proba_p = proba[:,1].reshape(-1,1)\n",
    "pred_bin = Binarizer(threshold=MYTH__).fit_transform(proba_p)\n",
    "print(pred_bin[:5])\n",
    "\n",
    "print(MYTH__)\n",
    "print(  confusion_matrix(y_test,  pred_bin)   )\n",
    "print(f\"정확도: {accuracy_score(y_test, pred_bin):.4f}, 정밀도: {precision_score(y_test, pred_bin):.4f}, 재현율: {recall_score(y_test, pred_bin):.4f}, F1: {f1_score(y_test, pred_bin):.4f}\")\n",
    "    "
   ]
  },
  {
   "cell_type": "code",
   "execution_count": 35,
   "id": "b4b8cc86-023f-46dd-a3db-1bbc1f727218",
   "metadata": {},
   "outputs": [],
   "source": [
    "def my_plot(MYTH__, PRED_BIN_P) :\n",
    "    plt.figure(figsize=(4, 4))\n",
    "    precision, recalls, th = precision_recall_curve(y_test, PRED_BIN_P)\n",
    "    print(len(precision), len(recalls), len(th))\n",
    "\n",
    "    plt.plot(th, precision[:len(th)], label = 'precision')\n",
    "    plt.plot(th, recalls[:len(th)], label = 'recall')\n",
    "    plt.legend()\n",
    "    plt.title(\"precision_recall_curve\")\n",
    "    plt.show()"
   ]
  },
  {
   "cell_type": "code",
   "execution_count": 45,
   "id": "4c733b01-b472-415e-95ba-0c90dd74c111",
   "metadata": {},
   "outputs": [
    {
     "name": "stdout",
     "output_type": "stream",
     "text": [
      "0.0\n",
      "[[ 0 95]\n",
      " [ 0 59]]\n",
      "정확도: 0.3831, 정밀도: 0.3831, 재현율: 1.0000, F1: 0.5540\n",
      "------------------------------------------------------------------------------------------\n",
      "0.2\n",
      "[[56 39]\n",
      " [ 4 55]]\n",
      "정확도: 0.7208, 정밀도: 0.5851, 재현율: 0.9322, F1: 0.7190\n",
      "------------------------------------------------------------------------------------------\n",
      "0.3\n",
      "[[63 32]\n",
      " [13 46]]\n",
      "정확도: 0.7078, 정밀도: 0.5897, 재현율: 0.7797, F1: 0.6715\n",
      "------------------------------------------------------------------------------------------\n",
      "0.5\n",
      "[[81 14]\n",
      " [28 31]]\n",
      "정확도: 0.7273, 정밀도: 0.6889, 재현율: 0.5254, F1: 0.5962\n",
      "------------------------------------------------------------------------------------------\n",
      "0.7\n",
      "[[92  3]\n",
      " [38 21]]\n",
      "정확도: 0.7338, 정밀도: 0.8750, 재현율: 0.3559, F1: 0.5060\n",
      "------------------------------------------------------------------------------------------\n",
      "1.0\n",
      "[[95  0]\n",
      " [59  0]]\n",
      "정확도: 0.6169, 정밀도: 0.0000, 재현율: 0.0000, F1: 0.0000\n",
      "------------------------------------------------------------------------------------------\n"
     ]
    }
   ],
   "source": [
    "MYTH_LIST__ = [0.0, 0.2, 0.3, 0.5, 0.7, 1.0]  #0.0, 0.2, 0.3, 0.5, 0.7, 1.0\n",
    "proba_p = proba[:,1].reshape(-1,1)\n",
    "for MYTH__ in MYTH_LIST__:\n",
    "    pred_bin = Binarizer(threshold=MYTH__).fit_transform(proba_p)\n",
    "    print(MYTH__)\n",
    "    print(  confusion_matrix(y_test,  pred_bin)   )\n",
    "    print(f\"정확도: {accuracy_score(y_test, pred_bin):.4f}, 정밀도: {precision_score(y_test, pred_bin):.4f}, 재현율: {recall_score(y_test, pred_bin):.4f}, F1: {f1_score(y_test, pred_bin):.4f}\")\n",
    "    print(\"---\"*30)\n",
    "    \n",
    "    \n",
    "   # 0.2 까지 내리면 점수 좋아지지만, 웬만해선 너무 많이 내리지 말기. 지금 데이터는 정상분포아니라서 어쩔수 없이 쓰는것.\n",
    "   # 너무 내리면 과한 오버핏 이 나서 다른 데이터를 확인할 수 없을 수 있다. \n",
    "   # 공모전에서 점수 올리고 싶으면 최종으로 임계치 건드리면 됨.\n",
    "   # ==> 1000명 중 암환자 5명 \n",
    "#  암환자 만들고 싶으면 KNN으로 비슷한데이터 몇개 더 만들기  (만약 군집 내에 암환2자 섞여있으면 서포트벡터로 차원 변경해서 자르기)\n",
    "# 그렇게 데이터 뻥튀기 한다음에 임계치 내리기...^^  =====> 이걸 해주는 함수 smote (반대는 nearmiss) => 근데 주로 smote 씀, 그리고 비율로 조절 가능, nearmiss 는 데이터 샘플이 작아질수있기 때문에 잘 사용안함\n",
    "# smote = over sampling / nearmiss = under sampling\n",
    "\n",
    "\n",
    "    \n",
    "#     # my_plot(MYTH__,  pred_bin)\n",
    "    \n",
    "#     print(len(y_test), len(pred_bin))\n",
    "#     print(y_test, pred_bin)\n",
    "#     precision, recalls, th = precision_recall_curve(y_test, pred_bin)\n",
    "#     print(len(precision), len(recalls), len(th))\n",
    "    \n",
    "#     # plt.plot(th, precision[:len(th)], label = 'precision')\n",
    "#     # plt.plot(th, recalls[:len(th)], label = 'recall')\n",
    "#     # plt.legend()\n",
    "#     # plt.title(\"precision_recall_curve\")\n",
    "#     # plt.show()"
   ]
  }
 ],
 "metadata": {
  "kernelspec": {
   "display_name": "Python 3 (ipykernel)",
   "language": "python",
   "name": "python3"
  },
  "language_info": {
   "codemirror_mode": {
    "name": "ipython",
    "version": 3
   },
   "file_extension": ".py",
   "mimetype": "text/x-python",
   "name": "python",
   "nbconvert_exporter": "python",
   "pygments_lexer": "ipython3",
   "version": "3.8.8"
  },
  "toc-autonumbering": true,
  "toc-showmarkdowntxt": true
 },
 "nbformat": 4,
 "nbformat_minor": 5
}
