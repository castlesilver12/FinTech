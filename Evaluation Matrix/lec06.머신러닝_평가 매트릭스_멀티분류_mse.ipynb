{
 "cells": [
  {
   "cell_type": "markdown",
   "id": "050c8c34-1e3f-430e-9590-173e51e4a42c",
   "metadata": {},
   "source": [
    "<font size=6><b> lec06.머신러닝 : 평가 매트릭스 : Multiclass case"
   ]
  },
  {
   "cell_type": "code",
   "execution_count": 1,
   "id": "c59c8b91-82a8-4bac-bdcf-d0e75cb4433c",
   "metadata": {},
   "outputs": [],
   "source": [
    "import pandas as pd\n",
    "import numpy as np\n",
    "import matplotlib.pyplot as plt\n",
    "import seaborn as sns\n",
    "import warnings\n",
    "warnings.filterwarnings(action=\"ignore\")\n",
    "sns.set()\n"
   ]
  },
  {
   "cell_type": "markdown",
   "id": "105eb242-0d0f-4905-bcf5-550d31262a53",
   "metadata": {},
   "source": [
    "# Data Load"
   ]
  },
  {
   "cell_type": "markdown",
   "id": "f7fa4c73-a639-45f6-9b52-76b81b04f0a9",
   "metadata": {
    "tags": []
   },
   "source": [
    "## make_classification() \n",
    "* ref : https://scikit-learn.org/stable/modules/generated/sklearn.datasets.make_classification.html\n",
    "\n",
    "<pre>\n",
    "n_samples : 표본 데이터의 수, 디폴트 100\n",
    "+ n_features : 독립 변수의 수, 디폴트 20\n",
    "     - n_informative : 독립 변수 중 종속 변수와 상관 관계가 있는 성분의 수, 디폴트 2\n",
    "     - n_redundant : 독립 변수 중 다른 독립 변수의 선형 조합으로 나타나는 성분의 수, 디폴트 2\n",
    "     - n_repeated : 독립 변수 중 단순 중복된 성분의 수, 디폴트 0\n",
    "+ n_classes : 종속 변수의 클래스 수, 디폴트 2\n",
    "+ n_clusters_per_class : 클래스 당 클러스터의 수, 디폴트 2\n",
    "weights : 각 클래스에 할당된 표본 수\n",
    "random_state : 난수 발생 시드"
   ]
  },
  {
   "cell_type": "code",
   "execution_count": 1,
   "id": "9240af86-2434-41a5-b4cd-59668cab9423",
   "metadata": {},
   "outputs": [
    {
     "data": {
      "text/plain": [
       "(array([[ 0.33697474, -2.69623724],\n",
       "        [ 1.86953492,  1.20111224],\n",
       "        [ 0.66204133, -1.73028707],\n",
       "        [-1.24949312,  0.75621845],\n",
       "        [-1.27616934,  1.42348431],\n",
       "        [ 0.72204137, -0.644468  ],\n",
       "        [ 0.15827256, -0.42481334],\n",
       "        [ 1.60563018,  0.72606437],\n",
       "        [ 1.04699717, -1.62980463],\n",
       "        [ 1.89947555,  2.24057858],\n",
       "        [ 1.56279032, -1.77071591],\n",
       "        [-0.37965959,  1.5685585 ],\n",
       "        [ 0.26356466, -0.49556254],\n",
       "        [-1.34537848,  0.59737042],\n",
       "        [-0.8569889 ,  0.79892386],\n",
       "        [ 0.44922602, -0.37569981]]),\n",
       " array([1, 0, 1, 2, 2, 0, 0, 0, 1, 0, 1, 2, 0, 2, 1, 1]))"
      ]
     },
     "execution_count": 1,
     "metadata": {},
     "output_type": "execute_result"
    }
   ],
   "source": [
    "#n_classes=3 빼고 이진과 바뀐거 없음\n",
    "\n",
    "from sklearn.datasets import make_classification\n",
    "from sklearn.linear_model import LogisticRegression\n",
    "\n",
    "# ------------------------------------------------------------------------------------------------------------\n",
    "# \"Number of informative, redundant and repeated features\" must sum to less than the number of \"total features\"\n",
    "# \"n_classes(3) * n_clusters_per_class(1)\"  must be smaller or equal  \"2**n_informative(2)=4\"\n",
    "# ------------------------------------------------------------------------------------------------------------\n",
    "X, y = make_classification(n_samples=16, n_features=2, \n",
    "                           n_informative=2, n_classes=3,                #---------(16*2) target 멀티분류(0,1,2)\n",
    "                           n_clusters_per_class=1, n_redundant=0,\n",
    "                           # weights=[0.9, 0.1],                        #--------- 비대칭 데이터\n",
    "                           random_state=1111)\n",
    "\n",
    "X, y"
   ]
  },
  {
   "cell_type": "code",
   "execution_count": 2,
   "id": "83010baa-b7b1-4a30-aff2-b781ecdfb874",
   "metadata": {},
   "outputs": [],
   "source": [
    "# 바이너리성이 아닌, 1종 2종 3종 각각을 보고싶을때는 나 빼고 아닌걸 골라주는 OVR / OVS 사용\n",
    "#OneVsRest --- 더효율적이어서 많이씀\n",
    "#OneVsOne"
   ]
  },
  {
   "cell_type": "code",
   "execution_count": null,
   "id": "802fb464-e3c6-49c7-ac66-962d80e0ea58",
   "metadata": {},
   "outputs": [],
   "source": []
  },
  {
   "cell_type": "code",
   "execution_count": 3,
   "id": "7cf09257-6a30-48af-9f77-997c85dab898",
   "metadata": {},
   "outputs": [
    {
     "name": "stdout",
     "output_type": "stream",
     "text": [
      "(16,) (16, 3)\n"
     ]
    },
    {
     "data": {
      "text/html": [
       "<div>\n",
       "<style scoped>\n",
       "    .dataframe tbody tr th:only-of-type {\n",
       "        vertical-align: middle;\n",
       "    }\n",
       "\n",
       "    .dataframe tbody tr th {\n",
       "        vertical-align: top;\n",
       "    }\n",
       "\n",
       "    .dataframe thead th {\n",
       "        text-align: right;\n",
       "    }\n",
       "</style>\n",
       "<table border=\"1\" class=\"dataframe\">\n",
       "  <thead>\n",
       "    <tr style=\"text-align: right;\">\n",
       "      <th></th>\n",
       "      <th>정답</th>\n",
       "      <th>예측</th>\n",
       "      <th>함수판별값_C0</th>\n",
       "      <th>함수판별값_C1</th>\n",
       "      <th>함수판별값_C2</th>\n",
       "    </tr>\n",
       "  </thead>\n",
       "  <tbody>\n",
       "    <tr>\n",
       "      <th>0</th>\n",
       "      <td>1.0</td>\n",
       "      <td>1.0</td>\n",
       "      <td>0.017249</td>\n",
       "      <td>2.700656</td>\n",
       "      <td>-2.717905</td>\n",
       "    </tr>\n",
       "    <tr>\n",
       "      <th>1</th>\n",
       "      <td>1.0</td>\n",
       "      <td>1.0</td>\n",
       "      <td>1.200127</td>\n",
       "      <td>1.945176</td>\n",
       "      <td>-3.145303</td>\n",
       "    </tr>\n",
       "    <tr>\n",
       "      <th>2</th>\n",
       "      <td>1.0</td>\n",
       "      <td>1.0</td>\n",
       "      <td>0.466186</td>\n",
       "      <td>1.855737</td>\n",
       "      <td>-2.321923</td>\n",
       "    </tr>\n",
       "    <tr>\n",
       "      <th>3</th>\n",
       "      <td>1.0</td>\n",
       "      <td>1.0</td>\n",
       "      <td>0.801959</td>\n",
       "      <td>1.788612</td>\n",
       "      <td>-2.590571</td>\n",
       "    </tr>\n",
       "    <tr>\n",
       "      <th>4</th>\n",
       "      <td>0.0</td>\n",
       "      <td>1.0</td>\n",
       "      <td>0.719412</td>\n",
       "      <td>0.887907</td>\n",
       "      <td>-1.607319</td>\n",
       "    </tr>\n",
       "    <tr>\n",
       "      <th>5</th>\n",
       "      <td>0.0</td>\n",
       "      <td>1.0</td>\n",
       "      <td>0.369929</td>\n",
       "      <td>0.727581</td>\n",
       "      <td>-1.097510</td>\n",
       "    </tr>\n",
       "    <tr>\n",
       "      <th>6</th>\n",
       "      <td>0.0</td>\n",
       "      <td>1.0</td>\n",
       "      <td>0.296530</td>\n",
       "      <td>0.658061</td>\n",
       "      <td>-0.954591</td>\n",
       "    </tr>\n",
       "    <tr>\n",
       "      <th>7</th>\n",
       "      <td>1.0</td>\n",
       "      <td>1.0</td>\n",
       "      <td>0.545273</td>\n",
       "      <td>0.631331</td>\n",
       "      <td>-1.176605</td>\n",
       "    </tr>\n",
       "    <tr>\n",
       "      <th>8</th>\n",
       "      <td>0.0</td>\n",
       "      <td>0.0</td>\n",
       "      <td>1.704094</td>\n",
       "      <td>-0.285921</td>\n",
       "      <td>-1.418173</td>\n",
       "    </tr>\n",
       "    <tr>\n",
       "      <th>9</th>\n",
       "      <td>2.0</td>\n",
       "      <td>2.0</td>\n",
       "      <td>-0.749447</td>\n",
       "      <td>-0.345316</td>\n",
       "      <td>1.094763</td>\n",
       "    </tr>\n",
       "    <tr>\n",
       "      <th>10</th>\n",
       "      <td>2.0</td>\n",
       "      <td>2.0</td>\n",
       "      <td>-0.640691</td>\n",
       "      <td>-0.481752</td>\n",
       "      <td>1.122443</td>\n",
       "    </tr>\n",
       "    <tr>\n",
       "      <th>11</th>\n",
       "      <td>1.0</td>\n",
       "      <td>2.0</td>\n",
       "      <td>-0.309550</td>\n",
       "      <td>-0.496743</td>\n",
       "      <td>0.806293</td>\n",
       "    </tr>\n",
       "    <tr>\n",
       "      <th>12</th>\n",
       "      <td>0.0</td>\n",
       "      <td>0.0</td>\n",
       "      <td>2.010527</td>\n",
       "      <td>-0.695294</td>\n",
       "      <td>-1.315234</td>\n",
       "    </tr>\n",
       "    <tr>\n",
       "      <th>13</th>\n",
       "      <td>2.0</td>\n",
       "      <td>2.0</td>\n",
       "      <td>-0.537392</td>\n",
       "      <td>-1.080268</td>\n",
       "      <td>1.617660</td>\n",
       "    </tr>\n",
       "    <tr>\n",
       "      <th>14</th>\n",
       "      <td>2.0</td>\n",
       "      <td>2.0</td>\n",
       "      <td>0.227882</td>\n",
       "      <td>-1.157032</td>\n",
       "      <td>0.929150</td>\n",
       "    </tr>\n",
       "    <tr>\n",
       "      <th>15</th>\n",
       "      <td>0.0</td>\n",
       "      <td>0.0</td>\n",
       "      <td>2.230306</td>\n",
       "      <td>-1.623434</td>\n",
       "      <td>-0.606871</td>\n",
       "    </tr>\n",
       "  </tbody>\n",
       "</table>\n",
       "</div>"
      ],
      "text/plain": [
       "     정답   예측  함수판별값_C0  함수판별값_C1  함수판별값_C2\n",
       "0   1.0  1.0  0.017249  2.700656 -2.717905\n",
       "1   1.0  1.0  1.200127  1.945176 -3.145303\n",
       "2   1.0  1.0  0.466186  1.855737 -2.321923\n",
       "3   1.0  1.0  0.801959  1.788612 -2.590571\n",
       "4   0.0  1.0  0.719412  0.887907 -1.607319\n",
       "5   0.0  1.0  0.369929  0.727581 -1.097510\n",
       "6   0.0  1.0  0.296530  0.658061 -0.954591\n",
       "7   1.0  1.0  0.545273  0.631331 -1.176605\n",
       "8   0.0  0.0  1.704094 -0.285921 -1.418173\n",
       "9   2.0  2.0 -0.749447 -0.345316  1.094763\n",
       "10  2.0  2.0 -0.640691 -0.481752  1.122443\n",
       "11  1.0  2.0 -0.309550 -0.496743  0.806293\n",
       "12  0.0  0.0  2.010527 -0.695294 -1.315234\n",
       "13  2.0  2.0 -0.537392 -1.080268  1.617660\n",
       "14  2.0  2.0  0.227882 -1.157032  0.929150\n",
       "15  0.0  0.0  2.230306 -1.623434 -0.606871"
      ]
     },
     "execution_count": 3,
     "metadata": {},
     "output_type": "execute_result"
    }
   ],
   "source": [
    "model = LogisticRegression().fit(X, y)\n",
    "pred = model.predict(X)\n",
    "fval = model.decision_function(X)\n",
    "print(pred.shape, fval.shape)\n",
    "\n",
    "df = pd.DataFrame(np.column_stack((y,pred, fval)), columns=[\"정답\", \"예측\",\"함수판별값_C0\", \"함수판별값_C1\",\"함수판별값_C2\"])\n",
    "df.sort_values(\"함수판별값_C1\", ascending=False).reset_index(drop=True)"
   ]
  },
  {
   "cell_type": "markdown",
   "id": "32d1365e-1ee8-431f-b587-9fd03e4b427f",
   "metadata": {},
   "source": [
    "## read_csv()"
   ]
  },
  {
   "cell_type": "code",
   "execution_count": 4,
   "id": "9ece12e7-421f-4eff-bb1c-2724854c082a",
   "metadata": {},
   "outputs": [
    {
     "data": {
      "text/html": [
       "<div>\n",
       "<style scoped>\n",
       "    .dataframe tbody tr th:only-of-type {\n",
       "        vertical-align: middle;\n",
       "    }\n",
       "\n",
       "    .dataframe tbody tr th {\n",
       "        vertical-align: top;\n",
       "    }\n",
       "\n",
       "    .dataframe thead th {\n",
       "        text-align: right;\n",
       "    }\n",
       "</style>\n",
       "<table border=\"1\" class=\"dataframe\">\n",
       "  <thead>\n",
       "    <tr style=\"text-align: right;\">\n",
       "      <th></th>\n",
       "      <th>sepal length (cm)</th>\n",
       "      <th>sepal width (cm)</th>\n",
       "      <th>petal length (cm)</th>\n",
       "      <th>petal width (cm)</th>\n",
       "      <th>target</th>\n",
       "    </tr>\n",
       "  </thead>\n",
       "  <tbody>\n",
       "    <tr>\n",
       "      <th>0</th>\n",
       "      <td>5.1</td>\n",
       "      <td>3.5</td>\n",
       "      <td>1.4</td>\n",
       "      <td>0.2</td>\n",
       "      <td>0</td>\n",
       "    </tr>\n",
       "    <tr>\n",
       "      <th>1</th>\n",
       "      <td>4.9</td>\n",
       "      <td>3.0</td>\n",
       "      <td>1.4</td>\n",
       "      <td>0.2</td>\n",
       "      <td>0</td>\n",
       "    </tr>\n",
       "    <tr>\n",
       "      <th>2</th>\n",
       "      <td>4.7</td>\n",
       "      <td>3.2</td>\n",
       "      <td>1.3</td>\n",
       "      <td>0.2</td>\n",
       "      <td>0</td>\n",
       "    </tr>\n",
       "    <tr>\n",
       "      <th>3</th>\n",
       "      <td>4.6</td>\n",
       "      <td>3.1</td>\n",
       "      <td>1.5</td>\n",
       "      <td>0.2</td>\n",
       "      <td>0</td>\n",
       "    </tr>\n",
       "    <tr>\n",
       "      <th>4</th>\n",
       "      <td>5.0</td>\n",
       "      <td>3.6</td>\n",
       "      <td>1.4</td>\n",
       "      <td>0.2</td>\n",
       "      <td>0</td>\n",
       "    </tr>\n",
       "  </tbody>\n",
       "</table>\n",
       "</div>"
      ],
      "text/plain": [
       "   sepal length (cm)  sepal width (cm)  petal length (cm)  petal width (cm)  \\\n",
       "0                5.1               3.5                1.4               0.2   \n",
       "1                4.9               3.0                1.4               0.2   \n",
       "2                4.7               3.2                1.3               0.2   \n",
       "3                4.6               3.1                1.5               0.2   \n",
       "4                5.0               3.6                1.4               0.2   \n",
       "\n",
       "   target  \n",
       "0       0  \n",
       "1       0  \n",
       "2       0  \n",
       "3       0  \n",
       "4       0  "
      ]
     },
     "execution_count": 4,
     "metadata": {},
     "output_type": "execute_result"
    }
   ],
   "source": [
    "df = pd.read_csv(\"./dataset/iris.csv\")\n",
    "df.head()"
   ]
  },
  {
   "cell_type": "code",
   "execution_count": 5,
   "id": "68284b4a-53e9-4487-9bfc-412804b56b8d",
   "metadata": {},
   "outputs": [
    {
     "name": "stdout",
     "output_type": "stream",
     "text": [
      "<class 'pandas.core.frame.DataFrame'>\n",
      "RangeIndex: 150 entries, 0 to 149\n",
      "Data columns (total 5 columns):\n",
      " #   Column             Non-Null Count  Dtype  \n",
      "---  ------             --------------  -----  \n",
      " 0   sepal length (cm)  150 non-null    float64\n",
      " 1   sepal width (cm)   150 non-null    float64\n",
      " 2   petal length (cm)  150 non-null    float64\n",
      " 3   petal width (cm)   150 non-null    float64\n",
      " 4   target             150 non-null    int64  \n",
      "dtypes: float64(4), int64(1)\n",
      "memory usage: 6.0 KB\n"
     ]
    }
   ],
   "source": [
    "df.info()"
   ]
  },
  {
   "cell_type": "markdown",
   "id": "e7e9c5ce-4a68-42ce-a6a5-3b2cfe6a6245",
   "metadata": {},
   "source": [
    "### 샘플링(N개)"
   ]
  },
  {
   "cell_type": "code",
   "execution_count": 6,
   "id": "0f9b988e-eb45-41cd-b1ff-f20e11dc43f3",
   "metadata": {},
   "outputs": [
    {
     "name": "stdout",
     "output_type": "stream",
     "text": [
      "(3, 5)\n"
     ]
    },
    {
     "data": {
      "text/html": [
       "<div>\n",
       "<style scoped>\n",
       "    .dataframe tbody tr th:only-of-type {\n",
       "        vertical-align: middle;\n",
       "    }\n",
       "\n",
       "    .dataframe tbody tr th {\n",
       "        vertical-align: top;\n",
       "    }\n",
       "\n",
       "    .dataframe thead th {\n",
       "        text-align: right;\n",
       "    }\n",
       "</style>\n",
       "<table border=\"1\" class=\"dataframe\">\n",
       "  <thead>\n",
       "    <tr style=\"text-align: right;\">\n",
       "      <th></th>\n",
       "      <th>sepal length (cm)</th>\n",
       "      <th>sepal width (cm)</th>\n",
       "      <th>petal length (cm)</th>\n",
       "      <th>petal width (cm)</th>\n",
       "      <th>target</th>\n",
       "    </tr>\n",
       "  </thead>\n",
       "  <tbody>\n",
       "    <tr>\n",
       "      <th>76</th>\n",
       "      <td>6.8</td>\n",
       "      <td>2.8</td>\n",
       "      <td>4.8</td>\n",
       "      <td>1.4</td>\n",
       "      <td>1</td>\n",
       "    </tr>\n",
       "    <tr>\n",
       "      <th>65</th>\n",
       "      <td>6.7</td>\n",
       "      <td>3.1</td>\n",
       "      <td>4.4</td>\n",
       "      <td>1.4</td>\n",
       "      <td>1</td>\n",
       "    </tr>\n",
       "    <tr>\n",
       "      <th>53</th>\n",
       "      <td>5.5</td>\n",
       "      <td>2.3</td>\n",
       "      <td>4.0</td>\n",
       "      <td>1.3</td>\n",
       "      <td>1</td>\n",
       "    </tr>\n",
       "  </tbody>\n",
       "</table>\n",
       "</div>"
      ],
      "text/plain": [
       "    sepal length (cm)  sepal width (cm)  petal length (cm)  petal width (cm)  \\\n",
       "76                6.8               2.8                4.8               1.4   \n",
       "65                6.7               3.1                4.4               1.4   \n",
       "53                5.5               2.3                4.0               1.3   \n",
       "\n",
       "    target  \n",
       "76       1  \n",
       "65       1  \n",
       "53       1  "
      ]
     },
     "execution_count": 6,
     "metadata": {},
     "output_type": "execute_result"
    }
   ],
   "source": [
    "dfs_1 = df[df['target']==1].sample(n=3, random_state=1111)\n",
    "print(dfs_1.shape)\n",
    "dfs_1.head()"
   ]
  },
  {
   "cell_type": "markdown",
   "id": "bb1dd803-1df3-46d5-91a0-64a575195b47",
   "metadata": {},
   "source": [
    "### 샘플링(N%)"
   ]
  },
  {
   "cell_type": "code",
   "execution_count": 7,
   "id": "70a78f78-9e90-4311-b652-8a852ef9fc1a",
   "metadata": {},
   "outputs": [
    {
     "name": "stdout",
     "output_type": "stream",
     "text": [
      "(15, 5)\n"
     ]
    },
    {
     "data": {
      "text/html": [
       "<div>\n",
       "<style scoped>\n",
       "    .dataframe tbody tr th:only-of-type {\n",
       "        vertical-align: middle;\n",
       "    }\n",
       "\n",
       "    .dataframe tbody tr th {\n",
       "        vertical-align: top;\n",
       "    }\n",
       "\n",
       "    .dataframe thead th {\n",
       "        text-align: right;\n",
       "    }\n",
       "</style>\n",
       "<table border=\"1\" class=\"dataframe\">\n",
       "  <thead>\n",
       "    <tr style=\"text-align: right;\">\n",
       "      <th></th>\n",
       "      <th>sepal length (cm)</th>\n",
       "      <th>sepal width (cm)</th>\n",
       "      <th>petal length (cm)</th>\n",
       "      <th>petal width (cm)</th>\n",
       "      <th>target</th>\n",
       "    </tr>\n",
       "  </thead>\n",
       "  <tbody>\n",
       "    <tr>\n",
       "      <th>49</th>\n",
       "      <td>5.0</td>\n",
       "      <td>3.3</td>\n",
       "      <td>1.4</td>\n",
       "      <td>0.2</td>\n",
       "      <td>0</td>\n",
       "    </tr>\n",
       "    <tr>\n",
       "      <th>122</th>\n",
       "      <td>7.7</td>\n",
       "      <td>2.8</td>\n",
       "      <td>6.7</td>\n",
       "      <td>2.0</td>\n",
       "      <td>2</td>\n",
       "    </tr>\n",
       "    <tr>\n",
       "      <th>12</th>\n",
       "      <td>4.8</td>\n",
       "      <td>3.0</td>\n",
       "      <td>1.4</td>\n",
       "      <td>0.1</td>\n",
       "      <td>0</td>\n",
       "    </tr>\n",
       "    <tr>\n",
       "      <th>70</th>\n",
       "      <td>5.9</td>\n",
       "      <td>3.2</td>\n",
       "      <td>4.8</td>\n",
       "      <td>1.8</td>\n",
       "      <td>1</td>\n",
       "    </tr>\n",
       "    <tr>\n",
       "      <th>100</th>\n",
       "      <td>6.3</td>\n",
       "      <td>3.3</td>\n",
       "      <td>6.0</td>\n",
       "      <td>2.5</td>\n",
       "      <td>2</td>\n",
       "    </tr>\n",
       "  </tbody>\n",
       "</table>\n",
       "</div>"
      ],
      "text/plain": [
       "     sepal length (cm)  sepal width (cm)  petal length (cm)  petal width (cm)  \\\n",
       "49                 5.0               3.3                1.4               0.2   \n",
       "122                7.7               2.8                6.7               2.0   \n",
       "12                 4.8               3.0                1.4               0.1   \n",
       "70                 5.9               3.2                4.8               1.8   \n",
       "100                6.3               3.3                6.0               2.5   \n",
       "\n",
       "     target  \n",
       "49        0  \n",
       "122       2  \n",
       "12        0  \n",
       "70        1  \n",
       "100       2  "
      ]
     },
     "execution_count": 7,
     "metadata": {},
     "output_type": "execute_result"
    }
   ],
   "source": [
    "dfs = df.sample(frac=0.10, random_state=1111)\n",
    "print(dfs.shape)\n",
    "dfs.head()"
   ]
  },
  {
   "cell_type": "code",
   "execution_count": 8,
   "id": "73316f84-7e14-4521-91a6-51bf5dfabb4a",
   "metadata": {},
   "outputs": [
    {
     "data": {
      "text/plain": [
       "1    7\n",
       "0    4\n",
       "2    4\n",
       "Name: target, dtype: int64"
      ]
     },
     "execution_count": 8,
     "metadata": {},
     "output_type": "execute_result"
    }
   ],
   "source": [
    "dfs[\"target\"].value_counts()"
   ]
  },
  {
   "cell_type": "markdown",
   "id": "e3555259-0b3b-4212-817a-0b04ae758751",
   "metadata": {},
   "source": [
    "* 샘플링 값이 다를 경우 아래 코드 실행\n",
    "* print(dfs.values.tolist())"
   ]
  },
  {
   "cell_type": "code",
   "execution_count": 9,
   "id": "8c6d71ab-eccf-474b-8525-f3b7824cd750",
   "metadata": {},
   "outputs": [],
   "source": [
    "# slist = [[5.0, 3.3, 1.4, 0.2, 0.0], [7.7, 2.8, 6.7, 2.0, 2.0], [4.8, 3.0, 1.4, 0.1, 0.0], [5.9, 3.2, 4.8, 1.8, 1.0], [6.3, 3.3, 6.0, 2.5, 2.0], [6.3, 2.5, 4.9, 1.5, 1.0], [5.5, 3.5, 1.3, 0.2, 0.0], [5.7, 2.8, 4.1, 1.3, 1.0], [5.5, 2.6, 4.4, 1.2, 1.0], [5.7, 2.6, 3.5, 1.0, 1.0], [5.8, 2.6, 4.0, 1.2, 1.0], [5.8, 2.7, 5.1, 1.9, 2.0], [5.5, 4.2, 1.4, 0.2, 0.0], [5.4, 3.0, 4.5, 1.5, 1.0], [6.4, 2.8, 5.6, 2.1, 2.0]]\n",
    "# temp = pd.DataFrame(slist, columns=dfs.columns)\n",
    "# temp['target'] = temp['target'].astype(\"int\")\n",
    "# temp.head()"
   ]
  },
  {
   "cell_type": "markdown",
   "id": "33678bac-dc55-4da2-9e13-0edc0499e0a5",
   "metadata": {
    "tags": []
   },
   "source": [
    "# 모델 학습"
   ]
  },
  {
   "cell_type": "code",
   "execution_count": 10,
   "id": "c534e619-50fa-4f52-b104-f931c01c13d5",
   "metadata": {},
   "outputs": [],
   "source": [
    "from sklearn.linear_model import LogisticRegression\n",
    "from sklearn.model_selection import train_test_split\n",
    "from sklearn.metrics import confusion_matrix, precision_score, recall_score, f1_score, roc_auc_score, roc_curve, classification_report"
   ]
  },
  {
   "cell_type": "code",
   "execution_count": 11,
   "id": "9db13dc9-1ae3-4ef7-82d2-a745b0fd920b",
   "metadata": {},
   "outputs": [
    {
     "name": "stdout",
     "output_type": "stream",
     "text": [
      "(15,) (15, 3)\n"
     ]
    }
   ],
   "source": [
    "y = dfs['target']\n",
    "X = dfs.drop(['target'], axis=1)\n",
    "model = LogisticRegression().fit(X, y)\n",
    "model = LogisticRegression().fit(X, y)\n",
    "pred = model.predict(X)\n",
    "proba = model.predict_proba(X)\n",
    "fval = model.decision_function(X)\n",
    "print(pred.shape, fval.shape)"
   ]
  },
  {
   "cell_type": "markdown",
   "id": "b957741e-e661-48f9-b6e2-342264c5d58b",
   "metadata": {},
   "source": [
    "# 평가"
   ]
  },
  {
   "cell_type": "markdown",
   "id": "780319c4-95ad-4961-ab49-f7d9ad36b0d2",
   "metadata": {},
   "source": [
    "## 판별함수 값\n",
    "* predict_proba(), decision_function()"
   ]
  },
  {
   "cell_type": "code",
   "execution_count": 12,
   "id": "5ea88a86-05f9-4884-906f-62a5dde6f317",
   "metadata": {},
   "outputs": [
    {
     "data": {
      "text/html": [
       "<div>\n",
       "<style scoped>\n",
       "    .dataframe tbody tr th:only-of-type {\n",
       "        vertical-align: middle;\n",
       "    }\n",
       "\n",
       "    .dataframe tbody tr th {\n",
       "        vertical-align: top;\n",
       "    }\n",
       "\n",
       "    .dataframe thead th {\n",
       "        text-align: right;\n",
       "    }\n",
       "</style>\n",
       "<table border=\"1\" class=\"dataframe\">\n",
       "  <thead>\n",
       "    <tr style=\"text-align: right;\">\n",
       "      <th></th>\n",
       "      <th>정답</th>\n",
       "      <th>예측</th>\n",
       "      <th>함수판별값_C0</th>\n",
       "      <th>함수판별값_C1</th>\n",
       "      <th>함수판별값_C2</th>\n",
       "    </tr>\n",
       "  </thead>\n",
       "  <tbody>\n",
       "    <tr>\n",
       "      <th>0</th>\n",
       "      <td>1.0</td>\n",
       "      <td>1.0</td>\n",
       "      <td>-1.268420</td>\n",
       "      <td>1.592717</td>\n",
       "      <td>-0.324298</td>\n",
       "    </tr>\n",
       "    <tr>\n",
       "      <th>1</th>\n",
       "      <td>1.0</td>\n",
       "      <td>1.0</td>\n",
       "      <td>-0.118655</td>\n",
       "      <td>1.514727</td>\n",
       "      <td>-1.396072</td>\n",
       "    </tr>\n",
       "    <tr>\n",
       "      <th>2</th>\n",
       "      <td>1.0</td>\n",
       "      <td>1.0</td>\n",
       "      <td>-0.855798</td>\n",
       "      <td>1.512870</td>\n",
       "      <td>-0.657071</td>\n",
       "    </tr>\n",
       "    <tr>\n",
       "      <th>3</th>\n",
       "      <td>1.0</td>\n",
       "      <td>1.0</td>\n",
       "      <td>-2.267822</td>\n",
       "      <td>1.509761</td>\n",
       "      <td>0.758061</td>\n",
       "    </tr>\n",
       "    <tr>\n",
       "      <th>4</th>\n",
       "      <td>0.0</td>\n",
       "      <td>0.0</td>\n",
       "      <td>3.259479</td>\n",
       "      <td>1.469651</td>\n",
       "      <td>-4.729130</td>\n",
       "    </tr>\n",
       "    <tr>\n",
       "      <th>5</th>\n",
       "      <td>2.0</td>\n",
       "      <td>1.0</td>\n",
       "      <td>-2.516875</td>\n",
       "      <td>1.457569</td>\n",
       "      <td>1.059306</td>\n",
       "    </tr>\n",
       "    <tr>\n",
       "      <th>6</th>\n",
       "      <td>1.0</td>\n",
       "      <td>1.0</td>\n",
       "      <td>-0.937566</td>\n",
       "      <td>1.452981</td>\n",
       "      <td>-0.515416</td>\n",
       "    </tr>\n",
       "    <tr>\n",
       "      <th>7</th>\n",
       "      <td>1.0</td>\n",
       "      <td>1.0</td>\n",
       "      <td>-1.384607</td>\n",
       "      <td>1.430868</td>\n",
       "      <td>-0.046260</td>\n",
       "    </tr>\n",
       "    <tr>\n",
       "      <th>8</th>\n",
       "      <td>2.0</td>\n",
       "      <td>2.0</td>\n",
       "      <td>-3.350994</td>\n",
       "      <td>1.355879</td>\n",
       "      <td>1.995114</td>\n",
       "    </tr>\n",
       "    <tr>\n",
       "      <th>9</th>\n",
       "      <td>0.0</td>\n",
       "      <td>0.0</td>\n",
       "      <td>3.254907</td>\n",
       "      <td>1.327139</td>\n",
       "      <td>-4.582045</td>\n",
       "    </tr>\n",
       "    <tr>\n",
       "      <th>10</th>\n",
       "      <td>2.0</td>\n",
       "      <td>2.0</td>\n",
       "      <td>-4.985100</td>\n",
       "      <td>1.306964</td>\n",
       "      <td>3.678137</td>\n",
       "    </tr>\n",
       "    <tr>\n",
       "      <th>11</th>\n",
       "      <td>1.0</td>\n",
       "      <td>1.0</td>\n",
       "      <td>-1.965066</td>\n",
       "      <td>1.272065</td>\n",
       "      <td>0.693001</td>\n",
       "    </tr>\n",
       "    <tr>\n",
       "      <th>12</th>\n",
       "      <td>0.0</td>\n",
       "      <td>0.0</td>\n",
       "      <td>3.312596</td>\n",
       "      <td>1.185233</td>\n",
       "      <td>-4.497829</td>\n",
       "    </tr>\n",
       "    <tr>\n",
       "      <th>13</th>\n",
       "      <td>2.0</td>\n",
       "      <td>2.0</td>\n",
       "      <td>-3.851960</td>\n",
       "      <td>1.172522</td>\n",
       "      <td>2.679438</td>\n",
       "    </tr>\n",
       "    <tr>\n",
       "      <th>14</th>\n",
       "      <td>0.0</td>\n",
       "      <td>0.0</td>\n",
       "      <td>3.415069</td>\n",
       "      <td>0.969314</td>\n",
       "      <td>-4.384382</td>\n",
       "    </tr>\n",
       "  </tbody>\n",
       "</table>\n",
       "</div>"
      ],
      "text/plain": [
       "     정답   예측  함수판별값_C0  함수판별값_C1  함수판별값_C2\n",
       "0   1.0  1.0 -1.268420  1.592717 -0.324298\n",
       "1   1.0  1.0 -0.118655  1.514727 -1.396072\n",
       "2   1.0  1.0 -0.855798  1.512870 -0.657071\n",
       "3   1.0  1.0 -2.267822  1.509761  0.758061\n",
       "4   0.0  0.0  3.259479  1.469651 -4.729130\n",
       "5   2.0  1.0 -2.516875  1.457569  1.059306\n",
       "6   1.0  1.0 -0.937566  1.452981 -0.515416\n",
       "7   1.0  1.0 -1.384607  1.430868 -0.046260\n",
       "8   2.0  2.0 -3.350994  1.355879  1.995114\n",
       "9   0.0  0.0  3.254907  1.327139 -4.582045\n",
       "10  2.0  2.0 -4.985100  1.306964  3.678137\n",
       "11  1.0  1.0 -1.965066  1.272065  0.693001\n",
       "12  0.0  0.0  3.312596  1.185233 -4.497829\n",
       "13  2.0  2.0 -3.851960  1.172522  2.679438\n",
       "14  0.0  0.0  3.415069  0.969314 -4.384382"
      ]
     },
     "execution_count": 12,
     "metadata": {},
     "output_type": "execute_result"
    }
   ],
   "source": [
    "df = pd.DataFrame(np.column_stack((y,pred, fval)), columns=[\"정답\", \"예측\", \"함수판별값_C0\", \"함수판별값_C1\",\"함수판별값_C2\"])\n",
    "df.sort_values(\"함수판별값_C1\", ascending=False).reset_index(drop=True)"
   ]
  },
  {
   "cell_type": "markdown",
   "id": "bc27092b-0b42-480d-ae7c-8b2f60daca93",
   "metadata": {},
   "source": [
    "* 기준값(threshold)>0 : 양성(Positive)\n",
    "* 기준값(threshold)<0 : 음성(negative)\n",
    "* 기준값(threshold)을 얼마로 설정하냐에 따라 성능평가 점수가 달라진다"
   ]
  },
  {
   "cell_type": "markdown",
   "id": "cfd42024-6bbf-4912-943e-7d61939521f6",
   "metadata": {},
   "source": [
    "## confusion_matrix()\n",
    "* ref : https://ai-creator.tistory.com/579"
   ]
  },
  {
   "cell_type": "markdown",
   "id": "d6adf4ff-b63f-4e17-b70f-7fb177722bc9",
   "metadata": {},
   "source": [
    "<img src=\"https://velog.velcdn.com/images%2Fhajeongjj%2Fpost%2F31affec5-a47b-4ff0-b07d-73943729dbc3%2Fimage.png\" width=800>"
   ]
  },
  {
   "cell_type": "markdown",
   "id": "5fbdee2f-ae81-430b-95ed-74b67d29d7fa",
   "metadata": {},
   "source": [
    "<img src=\"https://docs.microsoft.com/en-us/dynamics365/finance/finance-insights/media/payment-prediction-matrix-2.png\" width=600>"
   ]
  },
  {
   "cell_type": "code",
   "execution_count": 13,
   "id": "642b4044-9222-4d0a-ac20-2057126b13ed",
   "metadata": {},
   "outputs": [
    {
     "data": {
      "text/plain": [
       "array([[4, 0, 0],\n",
       "       [0, 7, 0],\n",
       "       [0, 1, 3]], dtype=int64)"
      ]
     },
     "execution_count": 13,
     "metadata": {},
     "output_type": "execute_result"
    }
   ],
   "source": [
    "confusion_matrix(y, pred)"
   ]
  },
  {
   "cell_type": "code",
   "execution_count": 14,
   "id": "f5c0848c-c2ff-4325-95aa-fe2037fa7570",
   "metadata": {},
   "outputs": [
    {
     "name": "stdout",
     "output_type": "stream",
     "text": [
      "recall = 1.0 1.0 0.75 0.92\n",
      "fallout = 0.0 0.0 0.75 0.25\n"
     ]
    }
   ],
   "source": [
    "recall0 = 4 / (4 + 0 + 0)\n",
    "recall1 = 7 / (0 + 7 + 0)\n",
    "recall2 = 3 / (0 + 1 + 3)\n",
    "\n",
    "fallout0 = 0 / (4 + 0 + 0)\n",
    "fallout1 = 0 / (0 + 7 + 0)\n",
    "fallout2 = 1 / (0 + 1 + 3)\n",
    "\n",
    "print(\"recall =\" , recall0,  recall1,  recall2,  round((recall0+recall1+recall2)/3,2) )\n",
    "print(\"fallout =\", fallout0, fallout1, fallout2, round((fallout0+fallout1+fallout2)/3,2) )"
   ]
  },
  {
   "cell_type": "markdown",
   "id": "2f2854dc-879d-429e-878f-642a779c6767",
   "metadata": {},
   "source": [
    "## classification_report()"
   ]
  },
  {
   "cell_type": "code",
   "execution_count": 15,
   "id": "f7abcd42-54d2-48d7-8c30-4f1f4741b1a6",
   "metadata": {},
   "outputs": [
    {
     "name": "stdout",
     "output_type": "stream",
     "text": [
      "              precision    recall  f1-score   support\n",
      "\n",
      "           0       1.00      1.00      1.00         4\n",
      "           1       0.88      1.00      0.93         7\n",
      "           2       1.00      0.75      0.86         4\n",
      "\n",
      "    accuracy                           0.93        15\n",
      "   macro avg       0.96      0.92      0.93        15\n",
      "weighted avg       0.94      0.93      0.93        15\n",
      "\n"
     ]
    }
   ],
   "source": [
    "# print(  classification_report(y, pred, digits=3)  )\n",
    "print(  classification_report(y, pred )  )"
   ]
  },
  {
   "cell_type": "markdown",
   "id": "d2b06793-f25c-41a3-84c8-533955523193",
   "metadata": {},
   "source": [
    "## roc_curve()\n",
    "* ref : https://scikit-learn.org/stable/auto_examples/model_selection/plot_roc.htmlhttps://scikit-learn.org/stable/auto_examples/model_selection/plot_roc.html"
   ]
  },
  {
   "cell_type": "code",
   "execution_count": 16,
   "id": "f623f3d0-f94a-4b9f-9786-16fbb4e85746",
   "metadata": {},
   "outputs": [],
   "source": [
    "from sklearn.metrics import roc_curve, auc\n",
    "from sklearn.preprocessing import label_binarize"
   ]
  },
  {
   "cell_type": "code",
   "execution_count": 17,
   "id": "f6730107-6a20-4644-96e3-21a84567e421",
   "metadata": {},
   "outputs": [
    {
     "name": "stdout",
     "output_type": "stream",
     "text": [
      "(6,) (6, 3)\n"
     ]
    },
    {
     "data": {
      "image/png": "[encoded data removed]",
      "text/plain": [
       "<Figure size 432x288 with 1 Axes>"
      ]
     },
     "metadata": {
      "needs_background": "light"
     },
     "output_type": "display_data"
    }
   ],
   "source": [
    "df = pd.read_csv(\"./dataset/iris.csv\")\n",
    "df.head()\n",
    "y = dfs['target']\n",
    "X = dfs.drop(['target'], axis=1)\n",
    "\n",
    "X_train, X_test, y_train, y_test = train_test_split(X, y, test_size=0.4, random_state=1111)\n",
    "model = LogisticRegression().fit(X_train, y_train)\n",
    "pred = model.predict(X_test)\n",
    "proba = model.predict_proba(X_test)\n",
    "fval = model.decision_function(X_test)\n",
    "print(pred.shape, fval.shape)\n",
    "\n",
    "\n",
    "# roc curve for classes\n",
    "fpr = {}\n",
    "tpr = {}\n",
    "thresh ={}\n",
    "\n",
    "n_class = 3\n",
    "for i in range(n_class):    \n",
    "    fpr[i], tpr[i], thresh[i] = roc_curve(y_test, proba[:,i], pos_label=i)\n",
    "    \n",
    "# plotting    \n",
    "plt.plot(fpr[0], tpr[0], linestyle='--',color='orange', label='Class 0 vs Rest')\n",
    "plt.plot(fpr[1], tpr[1], linestyle='--',color='green', label='Class 1 vs Rest')\n",
    "plt.plot(fpr[2], tpr[2], linestyle='--',color='blue', label='Class 2 vs Rest')\n",
    "plt.title('Multiclass ROC curve')\n",
    "plt.xlabel('False Positive Rate')\n",
    "plt.ylabel('True Positive rate')\n",
    "plt.legend(loc='best')\n",
    "plt.show()"
   ]
  },
  {
   "cell_type": "markdown",
   "id": "adf019c6-1814-4411-97b2-a9d8090051bb",
   "metadata": {},
   "source": [
    "## AUC(Area Under the Curve)\n",
    "* ROC curve 아래 면적\n",
    "* 이진분류일경우 1(p)\n",
    "  roc_auc_score(y, model.predict_proba(X)[:,1])\n",
    "* 멀티분류일 경우 각 클래스가 한번씩 P\n",
    "  roc_auc_score(y, proba, multi_class=\"ovr\", average=\"macro\")"
   ]
  },
  {
   "cell_type": "code",
   "execution_count": 18,
   "id": "6765a7bc-8142-42bc-b90c-11f87eb9dadf",
   "metadata": {},
   "outputs": [
    {
     "data": {
      "text/plain": [
       "0.9880952380952381"
      ]
     },
     "execution_count": 18,
     "metadata": {},
     "output_type": "execute_result"
    }
   ],
   "source": [
    "proba = model.predict_proba(X)\n",
    "roc_auc_score(y, proba, multi_class=\"ovo\", average=\"macro\")    # 또는 OVR"
   ]
  },
  {
   "cell_type": "code",
   "execution_count": null,
   "id": "ced4feb8-b700-4d36-b23f-e91b5780dcc4",
   "metadata": {},
   "outputs": [],
   "source": []
  },
  {
   "cell_type": "code",
   "execution_count": null,
   "id": "c87f5bc0-56d5-410a-86e9-002f2504df23",
   "metadata": {},
   "outputs": [],
   "source": []
  },
  {
   "cell_type": "code",
   "execution_count": null,
   "id": "64f6c24e-098d-4644-b186-1219f67b10e6",
   "metadata": {},
   "outputs": [],
   "source": []
  }
 ],
 "metadata": {
  "kernelspec": {
   "display_name": "Python 3 (ipykernel)",
   "language": "python",
   "name": "python3"
  },
  "language_info": {
   "codemirror_mode": {
    "name": "ipython",
    "version": 3
   },
   "file_extension": ".py",
   "mimetype": "text/x-python",
   "name": "python",
   "nbconvert_exporter": "python",
   "pygments_lexer": "ipython3",
   "version": "3.8.8"
  },
  "toc-autonumbering": true,
  "toc-showmarkdowntxt": true
 },
 "nbformat": 4,
 "nbformat_minor": 5
}
